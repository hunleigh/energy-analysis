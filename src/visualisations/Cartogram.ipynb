{
  "cells": [
    {
      "metadata": {
        "trusted": true,
        "scrolled": true
      },
      "cell_type": "code",
      "source": "!pip install geopandas",
      "execution_count": 1,
      "outputs": [
        {
          "output_type": "stream",
          "text": "Requirement already satisfied: geopandas in /home/nbuser/anaconda3_501/lib/python3.6/site-packages (0.6.2)\nRequirement already satisfied: pandas>=0.23.0 in /home/nbuser/anaconda3_501/lib/python3.6/site-packages (from geopandas) (0.23.4)\nRequirement already satisfied: fiona in /home/nbuser/anaconda3_501/lib/python3.6/site-packages (from geopandas) (1.8.13)\nRequirement already satisfied: shapely in /home/nbuser/anaconda3_501/lib/python3.6/site-packages (from geopandas) (1.6.4.post2)\nRequirement already satisfied: pyproj in /home/nbuser/anaconda3_501/lib/python3.6/site-packages (from geopandas) (2.4.2.post1)\nRequirement already satisfied: numpy>=1.9.0 in /home/nbuser/anaconda3_501/lib/python3.6/site-packages (from pandas>=0.23.0->geopandas) (1.16.2)\nRequirement already satisfied: python-dateutil>=2.5.0 in /home/nbuser/anaconda3_501/lib/python3.6/site-packages (from pandas>=0.23.0->geopandas) (2.8.1)\nRequirement already satisfied: pytz>=2011k in /home/nbuser/anaconda3_501/lib/python3.6/site-packages (from pandas>=0.23.0->geopandas) (2019.3)\nRequirement already satisfied: click<8,>=4.0 in /home/nbuser/anaconda3_501/lib/python3.6/site-packages (from fiona->geopandas) (7.0)\nRequirement already satisfied: attrs>=17 in /home/nbuser/anaconda3_501/lib/python3.6/site-packages (from fiona->geopandas) (18.2.0)\nRequirement already satisfied: six>=1.7 in /home/nbuser/anaconda3_501/lib/python3.6/site-packages (from fiona->geopandas) (1.11.0)\nRequirement already satisfied: click-plugins>=1.0 in /home/nbuser/anaconda3_501/lib/python3.6/site-packages (from fiona->geopandas) (1.1.1)\nRequirement already satisfied: cligj>=0.5 in /home/nbuser/anaconda3_501/lib/python3.6/site-packages (from fiona->geopandas) (0.5.0)\nRequirement already satisfied: munch in /home/nbuser/anaconda3_501/lib/python3.6/site-packages (from fiona->geopandas) (2.5.0)\n",
          "name": "stdout"
        }
      ]
    },
    {
      "metadata": {
        "trusted": true
      },
      "cell_type": "code",
      "source": "!pip install geoplot # or use !conda install geoplot -c conda-forge ",
      "execution_count": null,
      "outputs": [
        {
          "output_type": "stream",
          "text": "Collecting geoplot\n  Downloading https://files.pythonhosted.org/packages/a0/40/40c264002dfba4736f35c3524f6a0e7a03458fb4fcc436ce501f541359b7/geoplot-0.4.0-py3-none-any.whl\nCollecting descartes\n  Downloading https://files.pythonhosted.org/packages/e5/b6/1ed2eb03989ae574584664985367ba70cd9cf8b32ee8cad0e8aaeac819f3/descartes-1.1.0-py3-none-any.whl\nRequirement already satisfied: matplotlib in /home/nbuser/anaconda3_501/lib/python3.6/site-packages (from geoplot) (3.0.0)\nRequirement already satisfied: seaborn in /home/nbuser/anaconda3_501/lib/python3.6/site-packages (from geoplot) (0.9.0)\nCollecting mapclassify\n  Downloading https://files.pythonhosted.org/packages/9f/db/f35469e8acd792dad07e8908cd0df03615dad5e3bf4dac79d9e8512cef89/mapclassify-2.1.1.tar.gz\nRequirement already satisfied: geopandas in /home/nbuser/anaconda3_501/lib/python3.6/site-packages (from geoplot) (0.6.2)\nRequirement already satisfied: pandas in /home/nbuser/anaconda3_501/lib/python3.6/site-packages (from geoplot) (0.23.4)\nCollecting contextily>=1.0rc2\n  Downloading https://files.pythonhosted.org/packages/bb/e0/fd2f860ac34c97c1370514a1fa37d33c46dca5bea8a6f49dc167fbffbc1f/contextily-1.0rc2-py3-none-any.whl\nCollecting cartopy\n\u001b[?25l  Downloading https://files.pythonhosted.org/packages/e5/92/fe8838fa8158931906dfc4f16c5c1436b3dd2daf83592645b179581403ad/Cartopy-0.17.0.tar.gz (8.9MB)\n\u001b[K     |████████████████████████████████| 8.9MB 19kB/s  eta 0:00:01     |▎                               | 92kB 3.3MB/s eta 0:00:03     |█████████████████████████       | 7.0MB 2.8MB/s eta 0:00:01\n\u001b[?25h  Installing build dependencies ... \u001b[?25ldone\n\u001b[?25h  Getting requirements to build wheel ... \u001b[?25ldone\n\u001b[?25h    Preparing wheel metadata ... \u001b[?25ldone\n\u001b[?25hRequirement already satisfied: numpy>=1.10.0 in /home/nbuser/anaconda3_501/lib/python3.6/site-packages (from matplotlib->geoplot) (1.16.2)\nRequirement already satisfied: cycler>=0.10 in /home/nbuser/anaconda3_501/lib/python3.6/site-packages (from matplotlib->geoplot) (0.10.0)\nRequirement already satisfied: kiwisolver>=1.0.1 in /home/nbuser/anaconda3_501/lib/python3.6/site-packages (from matplotlib->geoplot) (1.0.1)\nRequirement already satisfied: pyparsing!=2.0.4,!=2.1.2,!=2.1.6,>=2.0.1 in /home/nbuser/anaconda3_501/lib/python3.6/site-packages (from matplotlib->geoplot) (2.3.0)\nRequirement already satisfied: python-dateutil>=2.1 in /home/nbuser/anaconda3_501/lib/python3.6/site-packages (from matplotlib->geoplot) (2.8.1)\nRequirement already satisfied: scipy>=0.14.0 in /home/nbuser/anaconda3_501/lib/python3.6/site-packages (from seaborn->geoplot) (1.1.0)\nRequirement already satisfied: scikit-learn in /home/nbuser/anaconda3_501/lib/python3.6/site-packages (from mapclassify->geoplot) (0.20.3)\nRequirement already satisfied: deprecated in /home/nbuser/anaconda3_501/lib/python3.6/site-packages (from mapclassify->geoplot) (1.2.6)\nRequirement already satisfied: fiona in /home/nbuser/anaconda3_501/lib/python3.6/site-packages (from geopandas->geoplot) (1.8.13)\nRequirement already satisfied: shapely in /home/nbuser/anaconda3_501/lib/python3.6/site-packages (from geopandas->geoplot) (1.6.4.post2)\nRequirement already satisfied: pyproj in /home/nbuser/anaconda3_501/lib/python3.6/site-packages (from geopandas->geoplot) (2.4.2.post1)\nRequirement already satisfied: pytz>=2011k in /home/nbuser/anaconda3_501/lib/python3.6/site-packages (from pandas->geoplot) (2019.3)\nRequirement already satisfied: joblib in /home/nbuser/anaconda3_501/lib/python3.6/site-packages (from contextily>=1.0rc2->geoplot) (0.14.0)\nRequirement already satisfied: requests in /home/nbuser/anaconda3_501/lib/python3.6/site-packages (from contextily>=1.0rc2->geoplot) (2.22.0)\nCollecting geopy\n\u001b[?25l  Downloading https://files.pythonhosted.org/packages/80/93/d384479da0ead712bdaf697a8399c13a9a89bd856ada5a27d462fb45e47b/geopy-1.20.0-py2.py3-none-any.whl (100kB)\n\u001b[K     |████████████████████████████████| 102kB 333kB/s ta 0:00:011\n\u001b[?25hCollecting rasterio\n\u001b[?25l  Downloading https://files.pythonhosted.org/packages/be/e5/7052a3eef72af7e883a280d8dff64f4ea44cb92ec25ffb1d00ce27bc1a12/rasterio-1.1.2-cp36-cp36m-manylinux1_x86_64.whl (18.0MB)\n\u001b[K     |████████████████████████████████| 18.0MB 83kB/s  eta 0:00:01    |██████████                      | 5.6MB 2.3MB/s eta 0:00:06     |██████████████                  | 7.9MB 4.9MB/s eta 0:00:03     |█████████████████████████▉      | 14.5MB 5.7MB/s eta 0:00:01\n\u001b[?25hCollecting mercantile\n  Downloading https://files.pythonhosted.org/packages/9d/1d/80d28ba17e4647bf820e8d5f485d58f9da9c5ca424450489eb49e325ba66/mercantile-1.1.2-py3-none-any.whl\nRequirement already satisfied: pillow in /home/nbuser/anaconda3_501/lib/python3.6/site-packages (from contextily>=1.0rc2->geoplot) (5.3.0)\nRequirement already satisfied: six>=1.3.0 in /home/nbuser/anaconda3_501/lib/python3.6/site-packages (from cartopy->geoplot) (1.11.0)\nRequirement already satisfied: setuptools>=0.7.2 in /home/nbuser/anaconda3_501/lib/python3.6/site-packages (from cartopy->geoplot) (41.6.0)\nCollecting pyshp>=1.1.4\n\u001b[?25l  Downloading https://files.pythonhosted.org/packages/27/16/3bf15aa864fb77845fab8007eda22c2bd67bd6c1fd13496df452c8c43621/pyshp-2.1.0.tar.gz (215kB)\n\u001b[K     |████████████████████████████████| 225kB 4.8MB/s eta 0:00:01\n\u001b[?25hRequirement already satisfied: wrapt<2,>=1.10 in /home/nbuser/anaconda3_501/lib/python3.6/site-packages (from deprecated->mapclassify->geoplot) (1.11.2)\nRequirement already satisfied: cligj>=0.5 in /home/nbuser/anaconda3_501/lib/python3.6/site-packages (from fiona->geopandas->geoplot) (0.5.0)\nRequirement already satisfied: munch in /home/nbuser/anaconda3_501/lib/python3.6/site-packages (from fiona->geopandas->geoplot) (2.5.0)\nRequirement already satisfied: attrs>=17 in /home/nbuser/anaconda3_501/lib/python3.6/site-packages (from fiona->geopandas->geoplot) (18.2.0)\nRequirement already satisfied: click<8,>=4.0 in /home/nbuser/anaconda3_501/lib/python3.6/site-packages (from fiona->geopandas->geoplot) (7.0)\nRequirement already satisfied: click-plugins>=1.0 in /home/nbuser/anaconda3_501/lib/python3.6/site-packages (from fiona->geopandas->geoplot) (1.1.1)\nRequirement already satisfied: chardet<3.1.0,>=3.0.2 in /home/nbuser/anaconda3_501/lib/python3.6/site-packages (from requests->contextily>=1.0rc2->geoplot) (3.0.4)\nRequirement already satisfied: urllib3!=1.25.0,!=1.25.1,<1.26,>=1.21.1 in /home/nbuser/anaconda3_501/lib/python3.6/site-packages (from requests->contextily>=1.0rc2->geoplot) (1.23)\nRequirement already satisfied: idna<2.9,>=2.5 in /home/nbuser/anaconda3_501/lib/python3.6/site-packages (from requests->contextily>=1.0rc2->geoplot) (2.7)\nRequirement already satisfied: certifi>=2017.4.17 in /home/nbuser/anaconda3_501/lib/python3.6/site-packages (from requests->contextily>=1.0rc2->geoplot) (2018.10.15)\nCollecting geographiclib<2,>=1.49\n  Downloading https://files.pythonhosted.org/packages/8b/62/26ec95a98ba64299163199e95ad1b0e34ad3f4e176e221c40245f211e425/geographiclib-1.50-py3-none-any.whl\nCollecting snuggs>=1.4.1\n  Downloading https://files.pythonhosted.org/packages/cc/0e/d27d6e806d6c0d1a2cfdc5d1f088e42339a0a54a09c3343f7f81ec8947ea/snuggs-1.4.7-py3-none-any.whl\nCollecting affine\n  Downloading https://files.pythonhosted.org/packages/ac/a6/1a39a1ede71210e3ddaf623982b06ecfc5c5c03741ae659073159184cd3e/affine-2.3.0-py2.py3-none-any.whl\nBuilding wheels for collected packages: cartopy\n  Building wheel for cartopy (PEP 517) ... \u001b[?25ldone\n\u001b[?25h  Created wheel for cartopy: filename=Cartopy-0.17.0-cp36-cp36m-linux_x86_64.whl size=9739060 sha256=7aab3caa8e5706000523db5fcf99feca8ded50cb55a4f929770ac4aa64654fdc\n  Stored in directory: /home/nbuser/.cache/pip/wheels/cd/cf/40/539f798f94e921e94fd376a5f9d213a6febe77754c0b187c73\nSuccessfully built cartopy\nBuilding wheels for collected packages: mapclassify, pyshp\n  Building wheel for mapclassify (setup.py) ... \u001b[?25ldone\n\u001b[?25h  Created wheel for mapclassify: filename=mapclassify-2.1.1-cp36-none-any.whl size=29850 sha256=c6ba2a695c56b2506f13cdd2d0dc561ab8fec98c1c6fc96e5eb254653b334c07\n  Stored in directory: /home/nbuser/.cache/pip/wheels/fc/b8/58/56b650743289cbecb476ef1fc50ab0aeaa0b12e56ad912d624\n  Building wheel for pyshp (setup.py) ... \u001b[?25ldone\n\u001b[?25h  Created wheel for pyshp: filename=pyshp-2.1.0-cp36-none-any.whl size=46296 sha256=f2679b4180c8a33ee7ed7378b2211efa4de1616ba3332cc9a207bc1f1070a5f0\n  Stored in directory: /home/nbuser/.cache/pip/wheels/a6/0c/de/321b5192ad416b328975a2f0385f72c64db4656501eba7cc1a\nSuccessfully built mapclassify pyshp\n",
          "name": "stdout"
        }
      ]
    },
    {
      "metadata": {
        "trusted": true
      },
      "cell_type": "code",
      "source": "import geopandas as gp",
      "execution_count": null,
      "outputs": []
    },
    {
      "metadata": {
        "trusted": true
      },
      "cell_type": "code",
      "source": "import geoplot as gplt",
      "execution_count": null,
      "outputs": []
    },
    {
      "metadata": {
        "trusted": true
      },
      "cell_type": "code",
      "source": "import matplotlib.pyplot as plt",
      "execution_count": null,
      "outputs": []
    },
    {
      "metadata": {
        "trusted": true
      },
      "cell_type": "code",
      "source": "#import matplotlib\n\n%matplotlib inline",
      "execution_count": null,
      "outputs": []
    },
    {
      "metadata": {
        "trusted": true
      },
      "cell_type": "code",
      "source": "import pandas as pd",
      "execution_count": null,
      "outputs": []
    },
    {
      "metadata": {
        "trusted": true
      },
      "cell_type": "code",
      "source": "import geoplot.crs as gcrs",
      "execution_count": null,
      "outputs": []
    },
    {
      "metadata": {
        "trusted": true
      },
      "cell_type": "code",
      "source": "!pip install descartes",
      "execution_count": null,
      "outputs": []
    },
    {
      "metadata": {
        "trusted": true
      },
      "cell_type": "code",
      "source": "import descartes",
      "execution_count": null,
      "outputs": []
    },
    {
      "metadata": {
        "trusted": true
      },
      "cell_type": "code",
      "source": "import pylab\n\npylab.rcParams['figure.figsize'] = (20., 16.)",
      "execution_count": null,
      "outputs": []
    },
    {
      "metadata": {
        "trusted": true
      },
      "cell_type": "code",
      "source": "data_path = \"./data/London_Borough_Excluding_MHW.shp\"\nlondonBoroughs = gp.read_file(data_path)\n\nlondonBoroughs.head()",
      "execution_count": null,
      "outputs": []
    },
    {
      "metadata": {
        "trusted": true,
        "scrolled": true
      },
      "cell_type": "code",
      "source": "data_path = \"./data/housing-density-borough.csv\" #use csv file\ndf = pd.read_csv(data_path)\n\ndf.head()",
      "execution_count": null,
      "outputs": []
    },
    {
      "metadata": {
        "trusted": true
      },
      "cell_type": "code",
      "source": "df15 = df[df['Year']==2015]",
      "execution_count": null,
      "outputs": []
    },
    {
      "metadata": {
        "trusted": true
      },
      "cell_type": "code",
      "source": "geojobs = londonBoroughs.merge(df15, left_on='GSS_CODE', right_on='Code')\n            #geodataframe       #dataframe",
      "execution_count": null,
      "outputs": []
    },
    {
      "metadata": {
        "trusted": true,
        "scrolled": false
      },
      "cell_type": "code",
      "source": "original_crs = geojobs.crs\ntarget_crs = {'datum':'WGS84', 'no_defs':True, 'proj':'merc'}\nprojected_geojobs = geojobs.to_crs(crs=target_crs)",
      "execution_count": null,
      "outputs": []
    },
    {
      "metadata": {
        "trusted": true
      },
      "cell_type": "code",
      "source": "geojobs.plot()",
      "execution_count": null,
      "outputs": []
    },
    {
      "metadata": {
        "trusted": true
      },
      "cell_type": "code",
      "source": "gplt.polyplot(projected_geojobs)",
      "execution_count": null,
      "outputs": []
    },
    {
      "metadata": {
        "trusted": true,
        "scrolled": true
      },
      "cell_type": "code",
      "source": "gplt.cartogram(projected_geojobs, scale='Population')",
      "execution_count": 40,
      "outputs": [
        {
          "output_type": "execute_result",
          "execution_count": 40,
          "data": {
            "text/plain": "<matplotlib.axes._subplots.AxesSubplot at 0x7f6325ff6240>"
          },
          "metadata": {}
        },
        {
          "output_type": "display_data",
          "data": {
            "image/png": "[encoded data removed]",
            "text/plain": "<Figure size 576x432 with 1 Axes>"
          },
          "metadata": {
            "needs_background": "light"
          }
        }
      ]
    },
    {
      "metadata": {
        "trusted": true
      },
      "cell_type": "code",
      "source": "",
      "execution_count": null,
      "outputs": []
    }
  ],
  "metadata": {
    "kernelspec": {
      "name": "python36",
      "display_name": "Python 3.6",
      "language": "python"
    },
    "language_info": {
      "mimetype": "text/x-python",
      "nbconvert_exporter": "python",
      "name": "python",
      "pygments_lexer": "ipython3",
      "version": "3.6.6",
      "file_extension": ".py",
      "codemirror_mode": {
        "version": 3,
        "name": "ipython"
      }
    }
  },
  "nbformat": 4,
  "nbformat_minor": 2
}