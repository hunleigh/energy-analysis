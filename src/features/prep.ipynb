{
  "cells": [
    {
      "metadata": {},
      "cell_type": "markdown",
      "source": "# This notebook is used for data wrangling. \n### The main purpose is to create a singular curated dataset which can be used for exploratory data analysis"
    },
    {
      "metadata": {
        "trusted": true,
        "scrolled": true
      },
      "cell_type": "code",
      "source": "# This import registers the 3D projection, but is otherwise unused.\nimport pandas as pd\nfrom scipy import stats\nimport numpy as np\nimport seaborn as sns\nimport matplotlib.pyplot as plt\n\n#------------GLOBALS-------------\narea_rows_to_drop = ['North East', 'North West', 'East Midlands', 'West Midlands',\n                   'East', 'London', 'South East', 'South West', 'England', 'Wales',\n                   'Scotland', 'Great Britain', 'Inner London', 'Outer London', 'City of London']\n\nRAW_DATA_PATH = \"~/library/data/raw/\"\nPROC_DATA_PATH = '~/library/data/processed/'\n\nbusiness_cols_to_drop = ['births','1_year_survival_number', '1_year_survival_rate', \n                         '2_year_survival_number', '2_year_survival_rate', '4_year_survival_number', \n                         '4_year_survival_rate' ,'5_year_survival_number', '5_year_survival_rate']\n    \n#------------FUNCTIONS-------------\ndef colToDrop(df):\n    col_length = len(df.columns)\n    arr = []\n    for index in range(2, col_length):\n        if df.columns[index].find('Jan') != -1:\n            if index + 2 < col_length:\n                index += 2\n            pass\n        arr.append(df.columns[index])    \n    return arr\n\n\ndef replaceCol(df):\n    col_length = len(df.columns)\n    mapping = {\n        df.columns[0]:'code', \n        df.columns[1]:'area'\n    }\n    \n    for index in range(2, col_length):\n        if index%2!=0:\n            mapping[df.columns[index]] = '+/- Difference'\n    return mapping\n\ndef my_csv(file, path, encoding='utf-8', sep=',', *args, **kwargs):\n    try:\n        if path == 1:\n            path = PROC_DATA_PATH\n        elif path == 0:\n            path = RAW_DATA_PATH\n    except:\n        print(\"Pick either 1 for the processed data path or 0 for the raw data path.\")\n    \n    return pd.read_csv(path + file, encoding=encoding, *args, **kwargs)",
      "execution_count": 10,
      "outputs": []
    },
    {
      "metadata": {},
      "cell_type": "markdown",
      "source": "#### Here we get all datasets we are going to use in our analysis"
    },
    {
      "metadata": {
        "trusted": true
      },
      "cell_type": "code",
      "source": "df_1 = my_csv('business-survival-rates.csv', path=0, na_values=[':'])\ndf_2 = my_csv('Jobs and Job Density.csv', path=0) \ndf_3 = my_csv('mb-unemployment-rates.csv', path=0, na_values = [' ', '-'])\ndf_4 = my_csv('processed_nvq4-qualifications-overtime.csv', path=1)\ndf_5 = my_csv('processed_youth-claimants-rate.csv', path=1)\ndf_6 = my_csv('processed_no-qualifications-overtime.csv', path=1)\ndf_7 = my_csv('processed_qualifications-average-2014.csv', path=1)",
      "execution_count": 48,
      "outputs": []
    },
    {
      "metadata": {},
      "cell_type": "markdown",
      "source": "#### Below for each dataset we drop columns, melt dataframes, and rename the columns so that we can merge on the same values"
    },
    {
      "metadata": {
        "trusted": true
      },
      "cell_type": "code",
      "source": "df_1.drop(business_cols_to_drop, inplace=True, axis=1)",
      "execution_count": 49,
      "outputs": []
    },
    {
      "metadata": {
        "trusted": true
      },
      "cell_type": "code",
      "source": "df_1.dropna(inplace=True, axis=0, how='any')\ndf_3.dropna(inplace=True, axis=0, how='any')\nmapping = replaceCol(df_3)\ndf_3.rename(columns=mapping, inplace=True)\ndf_3 = df_3.reset_index(drop=True)\ndf = pd.merge(df_1, df_2, on=['code','area', 'year'])",
      "execution_count": 50,
      "outputs": []
    },
    {
      "metadata": {
        "trusted": true
      },
      "cell_type": "code",
      "source": "df_3.drop(colToDrop(df_3), inplace=True, axis=1)",
      "execution_count": 51,
      "outputs": []
    },
    {
      "metadata": {
        "trusted": true
      },
      "cell_type": "code",
      "source": "df_3 = df_3.melt(id_vars=[\"code\", \"area\"], \n        var_name=\"Date\", \n        value_name=\"Value\")",
      "execution_count": 52,
      "outputs": []
    },
    {
      "metadata": {
        "trusted": true
      },
      "cell_type": "code",
      "source": "df_3",
      "execution_count": 53,
      "outputs": [
        {
          "output_type": "execute_result",
          "execution_count": 53,
          "data": {
            "text/html": "<div>\n<style scoped>\n    .dataframe tbody tr th:only-of-type {\n        vertical-align: middle;\n    }\n\n    .dataframe tbody tr th {\n        vertical-align: top;\n    }\n\n    .dataframe thead th {\n        text-align: right;\n    }\n</style>\n<table border=\"1\" class=\"dataframe\">\n  <thead>\n    <tr style=\"text-align: right;\">\n      <th></th>\n      <th>code</th>\n      <th>area</th>\n      <th>Date</th>\n      <th>Value</th>\n    </tr>\n  </thead>\n  <tbody>\n    <tr>\n      <th>0</th>\n      <td>E09000002</td>\n      <td>Barking and Dagenham</td>\n      <td>Jan 2004-Dec 2004</td>\n      <td>8.3</td>\n    </tr>\n    <tr>\n      <th>1</th>\n      <td>E09000003</td>\n      <td>Barnet</td>\n      <td>Jan 2004-Dec 2004</td>\n      <td>6.3</td>\n    </tr>\n    <tr>\n      <th>2</th>\n      <td>E09000004</td>\n      <td>Bexley</td>\n      <td>Jan 2004-Dec 2004</td>\n      <td>4.1</td>\n    </tr>\n    <tr>\n      <th>3</th>\n      <td>E09000005</td>\n      <td>Brent</td>\n      <td>Jan 2004-Dec 2004</td>\n      <td>9.1</td>\n    </tr>\n    <tr>\n      <th>4</th>\n      <td>E09000006</td>\n      <td>Bromley</td>\n      <td>Jan 2004-Dec 2004</td>\n      <td>4.7</td>\n    </tr>\n    <tr>\n      <th>5</th>\n      <td>E09000007</td>\n      <td>Camden</td>\n      <td>Jan 2004-Dec 2004</td>\n      <td>7.6</td>\n    </tr>\n    <tr>\n      <th>6</th>\n      <td>E09000008</td>\n      <td>Croydon</td>\n      <td>Jan 2004-Dec 2004</td>\n      <td>6.2</td>\n    </tr>\n    <tr>\n      <th>7</th>\n      <td>E09000009</td>\n      <td>Ealing</td>\n      <td>Jan 2004-Dec 2004</td>\n      <td>6.5</td>\n    </tr>\n    <tr>\n      <th>8</th>\n      <td>E09000010</td>\n      <td>Enfield</td>\n      <td>Jan 2004-Dec 2004</td>\n      <td>6.6</td>\n    </tr>\n    <tr>\n      <th>9</th>\n      <td>E09000011</td>\n      <td>Greenwich</td>\n      <td>Jan 2004-Dec 2004</td>\n      <td>8.0</td>\n    </tr>\n    <tr>\n      <th>10</th>\n      <td>E09000012</td>\n      <td>Hackney</td>\n      <td>Jan 2004-Dec 2004</td>\n      <td>11.4</td>\n    </tr>\n    <tr>\n      <th>11</th>\n      <td>E09000013</td>\n      <td>Hammersmith and Fulham</td>\n      <td>Jan 2004-Dec 2004</td>\n      <td>8.1</td>\n    </tr>\n    <tr>\n      <th>12</th>\n      <td>E09000014</td>\n      <td>Haringey</td>\n      <td>Jan 2004-Dec 2004</td>\n      <td>11.2</td>\n    </tr>\n    <tr>\n      <th>13</th>\n      <td>E09000015</td>\n      <td>Harrow</td>\n      <td>Jan 2004-Dec 2004</td>\n      <td>6.0</td>\n    </tr>\n    <tr>\n      <th>14</th>\n      <td>E09000016</td>\n      <td>Havering</td>\n      <td>Jan 2004-Dec 2004</td>\n      <td>4.0</td>\n    </tr>\n    <tr>\n      <th>15</th>\n      <td>E09000017</td>\n      <td>Hillingdon</td>\n      <td>Jan 2004-Dec 2004</td>\n      <td>5.1</td>\n    </tr>\n    <tr>\n      <th>16</th>\n      <td>E09000018</td>\n      <td>Hounslow</td>\n      <td>Jan 2004-Dec 2004</td>\n      <td>6.7</td>\n    </tr>\n    <tr>\n      <th>17</th>\n      <td>E09000019</td>\n      <td>Islington</td>\n      <td>Jan 2004-Dec 2004</td>\n      <td>9.6</td>\n    </tr>\n    <tr>\n      <th>18</th>\n      <td>E09000020</td>\n      <td>Kensington and Chelsea</td>\n      <td>Jan 2004-Dec 2004</td>\n      <td>6.0</td>\n    </tr>\n    <tr>\n      <th>19</th>\n      <td>E09000021</td>\n      <td>Kingston upon Thames</td>\n      <td>Jan 2004-Dec 2004</td>\n      <td>4.3</td>\n    </tr>\n    <tr>\n      <th>20</th>\n      <td>E09000022</td>\n      <td>Lambeth</td>\n      <td>Jan 2004-Dec 2004</td>\n      <td>10.1</td>\n    </tr>\n    <tr>\n      <th>21</th>\n      <td>E09000023</td>\n      <td>Lewisham</td>\n      <td>Jan 2004-Dec 2004</td>\n      <td>8.9</td>\n    </tr>\n    <tr>\n      <th>22</th>\n      <td>E09000024</td>\n      <td>Merton</td>\n      <td>Jan 2004-Dec 2004</td>\n      <td>5.6</td>\n    </tr>\n    <tr>\n      <th>23</th>\n      <td>E09000025</td>\n      <td>Newham</td>\n      <td>Jan 2004-Dec 2004</td>\n      <td>10.5</td>\n    </tr>\n    <tr>\n      <th>24</th>\n      <td>E09000026</td>\n      <td>Redbridge</td>\n      <td>Jan 2004-Dec 2004</td>\n      <td>5.5</td>\n    </tr>\n    <tr>\n      <th>25</th>\n      <td>E09000027</td>\n      <td>Richmond upon Thames</td>\n      <td>Jan 2004-Dec 2004</td>\n      <td>4.3</td>\n    </tr>\n    <tr>\n      <th>26</th>\n      <td>E09000028</td>\n      <td>Southwark</td>\n      <td>Jan 2004-Dec 2004</td>\n      <td>10.4</td>\n    </tr>\n    <tr>\n      <th>27</th>\n      <td>E09000029</td>\n      <td>Sutton</td>\n      <td>Jan 2004-Dec 2004</td>\n      <td>4.6</td>\n    </tr>\n    <tr>\n      <th>28</th>\n      <td>E09000030</td>\n      <td>Tower Hamlets</td>\n      <td>Jan 2004-Dec 2004</td>\n      <td>13.1</td>\n    </tr>\n    <tr>\n      <th>29</th>\n      <td>E09000031</td>\n      <td>Waltham Forest</td>\n      <td>Jan 2004-Dec 2004</td>\n      <td>9.0</td>\n    </tr>\n    <tr>\n      <th>...</th>\n      <td>...</td>\n      <td>...</td>\n      <td>...</td>\n      <td>...</td>\n    </tr>\n    <tr>\n      <th>660</th>\n      <td>E09000018</td>\n      <td>Hounslow</td>\n      <td>Jan 2018-Dec 2018</td>\n      <td>4.9</td>\n    </tr>\n    <tr>\n      <th>661</th>\n      <td>E09000019</td>\n      <td>Islington</td>\n      <td>Jan 2018-Dec 2018</td>\n      <td>5.1</td>\n    </tr>\n    <tr>\n      <th>662</th>\n      <td>E09000020</td>\n      <td>Kensington and Chelsea</td>\n      <td>Jan 2018-Dec 2018</td>\n      <td>6.0</td>\n    </tr>\n    <tr>\n      <th>663</th>\n      <td>E09000021</td>\n      <td>Kingston upon Thames</td>\n      <td>Jan 2018-Dec 2018</td>\n      <td>4.9</td>\n    </tr>\n    <tr>\n      <th>664</th>\n      <td>E09000022</td>\n      <td>Lambeth</td>\n      <td>Jan 2018-Dec 2018</td>\n      <td>6.3</td>\n    </tr>\n    <tr>\n      <th>665</th>\n      <td>E09000023</td>\n      <td>Lewisham</td>\n      <td>Jan 2018-Dec 2018</td>\n      <td>4.8</td>\n    </tr>\n    <tr>\n      <th>666</th>\n      <td>E09000024</td>\n      <td>Merton</td>\n      <td>Jan 2018-Dec 2018</td>\n      <td>4.3</td>\n    </tr>\n    <tr>\n      <th>667</th>\n      <td>E09000025</td>\n      <td>Newham</td>\n      <td>Jan 2018-Dec 2018</td>\n      <td>5.6</td>\n    </tr>\n    <tr>\n      <th>668</th>\n      <td>E09000026</td>\n      <td>Redbridge</td>\n      <td>Jan 2018-Dec 2018</td>\n      <td>5.0</td>\n    </tr>\n    <tr>\n      <th>669</th>\n      <td>E09000027</td>\n      <td>Richmond upon Thames</td>\n      <td>Jan 2018-Dec 2018</td>\n      <td>3.8</td>\n    </tr>\n    <tr>\n      <th>670</th>\n      <td>E09000028</td>\n      <td>Southwark</td>\n      <td>Jan 2018-Dec 2018</td>\n      <td>5.9</td>\n    </tr>\n    <tr>\n      <th>671</th>\n      <td>E09000029</td>\n      <td>Sutton</td>\n      <td>Jan 2018-Dec 2018</td>\n      <td>4.7</td>\n    </tr>\n    <tr>\n      <th>672</th>\n      <td>E09000030</td>\n      <td>Tower Hamlets</td>\n      <td>Jan 2018-Dec 2018</td>\n      <td>5.6</td>\n    </tr>\n    <tr>\n      <th>673</th>\n      <td>E09000031</td>\n      <td>Waltham Forest</td>\n      <td>Jan 2018-Dec 2018</td>\n      <td>4.0</td>\n    </tr>\n    <tr>\n      <th>674</th>\n      <td>E09000032</td>\n      <td>Wandsworth</td>\n      <td>Jan 2018-Dec 2018</td>\n      <td>3.9</td>\n    </tr>\n    <tr>\n      <th>675</th>\n      <td>E09000033</td>\n      <td>Westminster</td>\n      <td>Jan 2018-Dec 2018</td>\n      <td>4.9</td>\n    </tr>\n    <tr>\n      <th>676</th>\n      <td>E12000001</td>\n      <td>North East</td>\n      <td>Jan 2018-Dec 2018</td>\n      <td>5.3</td>\n    </tr>\n    <tr>\n      <th>677</th>\n      <td>E12000002</td>\n      <td>North West</td>\n      <td>Jan 2018-Dec 2018</td>\n      <td>4.0</td>\n    </tr>\n    <tr>\n      <th>678</th>\n      <td>E12000003</td>\n      <td>Yorkshire and The Humber</td>\n      <td>Jan 2018-Dec 2018</td>\n      <td>4.5</td>\n    </tr>\n    <tr>\n      <th>679</th>\n      <td>E12000004</td>\n      <td>East Midlands</td>\n      <td>Jan 2018-Dec 2018</td>\n      <td>4.5</td>\n    </tr>\n    <tr>\n      <th>680</th>\n      <td>E12000005</td>\n      <td>West Midlands</td>\n      <td>Jan 2018-Dec 2018</td>\n      <td>4.7</td>\n    </tr>\n    <tr>\n      <th>681</th>\n      <td>E12000006</td>\n      <td>East</td>\n      <td>Jan 2018-Dec 2018</td>\n      <td>3.5</td>\n    </tr>\n    <tr>\n      <th>682</th>\n      <td>E12000007</td>\n      <td>London</td>\n      <td>Jan 2018-Dec 2018</td>\n      <td>5.0</td>\n    </tr>\n    <tr>\n      <th>683</th>\n      <td>E12000008</td>\n      <td>South East</td>\n      <td>Jan 2018-Dec 2018</td>\n      <td>3.4</td>\n    </tr>\n    <tr>\n      <th>684</th>\n      <td>E12000009</td>\n      <td>South West</td>\n      <td>Jan 2018-Dec 2018</td>\n      <td>3.1</td>\n    </tr>\n    <tr>\n      <th>685</th>\n      <td>E92000001</td>\n      <td>England</td>\n      <td>Jan 2018-Dec 2018</td>\n      <td>4.1</td>\n    </tr>\n    <tr>\n      <th>686</th>\n      <td>K04000001</td>\n      <td>England and Wales</td>\n      <td>Jan 2018-Dec 2018</td>\n      <td>4.2</td>\n    </tr>\n    <tr>\n      <th>687</th>\n      <td>S92000003</td>\n      <td>Scotland</td>\n      <td>Jan 2018-Dec 2018</td>\n      <td>4.3</td>\n    </tr>\n    <tr>\n      <th>688</th>\n      <td>W92000004</td>\n      <td>Wales</td>\n      <td>Jan 2018-Dec 2018</td>\n      <td>4.5</td>\n    </tr>\n    <tr>\n      <th>689</th>\n      <td>K03000001</td>\n      <td>Great Britain</td>\n      <td>Jan 2018-Dec 2018</td>\n      <td>4.2</td>\n    </tr>\n  </tbody>\n</table>\n<p>690 rows × 4 columns</p>\n</div>",
            "text/plain": "          code                      area               Date Value\n0    E09000002      Barking and Dagenham  Jan 2004-Dec 2004   8.3\n1    E09000003                    Barnet  Jan 2004-Dec 2004   6.3\n2    E09000004                    Bexley  Jan 2004-Dec 2004   4.1\n3    E09000005                     Brent  Jan 2004-Dec 2004   9.1\n4    E09000006                   Bromley  Jan 2004-Dec 2004   4.7\n5    E09000007                    Camden  Jan 2004-Dec 2004   7.6\n6    E09000008                   Croydon  Jan 2004-Dec 2004   6.2\n7    E09000009                    Ealing  Jan 2004-Dec 2004   6.5\n8    E09000010                   Enfield  Jan 2004-Dec 2004   6.6\n9    E09000011                 Greenwich  Jan 2004-Dec 2004   8.0\n10   E09000012                   Hackney  Jan 2004-Dec 2004  11.4\n11   E09000013    Hammersmith and Fulham  Jan 2004-Dec 2004   8.1\n12   E09000014                  Haringey  Jan 2004-Dec 2004  11.2\n13   E09000015                    Harrow  Jan 2004-Dec 2004   6.0\n14   E09000016                  Havering  Jan 2004-Dec 2004   4.0\n15   E09000017                Hillingdon  Jan 2004-Dec 2004   5.1\n16   E09000018                  Hounslow  Jan 2004-Dec 2004   6.7\n17   E09000019                 Islington  Jan 2004-Dec 2004   9.6\n18   E09000020    Kensington and Chelsea  Jan 2004-Dec 2004   6.0\n19   E09000021      Kingston upon Thames  Jan 2004-Dec 2004   4.3\n20   E09000022                   Lambeth  Jan 2004-Dec 2004  10.1\n21   E09000023                  Lewisham  Jan 2004-Dec 2004   8.9\n22   E09000024                    Merton  Jan 2004-Dec 2004   5.6\n23   E09000025                    Newham  Jan 2004-Dec 2004  10.5\n24   E09000026                 Redbridge  Jan 2004-Dec 2004   5.5\n25   E09000027      Richmond upon Thames  Jan 2004-Dec 2004   4.3\n26   E09000028                 Southwark  Jan 2004-Dec 2004  10.4\n27   E09000029                    Sutton  Jan 2004-Dec 2004   4.6\n28   E09000030             Tower Hamlets  Jan 2004-Dec 2004  13.1\n29   E09000031            Waltham Forest  Jan 2004-Dec 2004   9.0\n..         ...                       ...                ...   ...\n660  E09000018                  Hounslow  Jan 2018-Dec 2018   4.9\n661  E09000019                 Islington  Jan 2018-Dec 2018   5.1\n662  E09000020    Kensington and Chelsea  Jan 2018-Dec 2018   6.0\n663  E09000021      Kingston upon Thames  Jan 2018-Dec 2018   4.9\n664  E09000022                   Lambeth  Jan 2018-Dec 2018   6.3\n665  E09000023                  Lewisham  Jan 2018-Dec 2018   4.8\n666  E09000024                    Merton  Jan 2018-Dec 2018   4.3\n667  E09000025                    Newham  Jan 2018-Dec 2018   5.6\n668  E09000026                 Redbridge  Jan 2018-Dec 2018   5.0\n669  E09000027      Richmond upon Thames  Jan 2018-Dec 2018   3.8\n670  E09000028                 Southwark  Jan 2018-Dec 2018   5.9\n671  E09000029                    Sutton  Jan 2018-Dec 2018   4.7\n672  E09000030             Tower Hamlets  Jan 2018-Dec 2018   5.6\n673  E09000031            Waltham Forest  Jan 2018-Dec 2018   4.0\n674  E09000032                Wandsworth  Jan 2018-Dec 2018   3.9\n675  E09000033               Westminster  Jan 2018-Dec 2018   4.9\n676  E12000001                North East  Jan 2018-Dec 2018   5.3\n677  E12000002                North West  Jan 2018-Dec 2018   4.0\n678  E12000003  Yorkshire and The Humber  Jan 2018-Dec 2018   4.5\n679  E12000004             East Midlands  Jan 2018-Dec 2018   4.5\n680  E12000005             West Midlands  Jan 2018-Dec 2018   4.7\n681  E12000006                      East  Jan 2018-Dec 2018   3.5\n682  E12000007                    London  Jan 2018-Dec 2018   5.0\n683  E12000008                South East  Jan 2018-Dec 2018   3.4\n684  E12000009                South West  Jan 2018-Dec 2018   3.1\n685  E92000001                   England  Jan 2018-Dec 2018   4.1\n686  K04000001         England and Wales  Jan 2018-Dec 2018   4.2\n687  S92000003                  Scotland  Jan 2018-Dec 2018   4.3\n688  W92000004                     Wales  Jan 2018-Dec 2018   4.5\n689  K03000001             Great Britain  Jan 2018-Dec 2018   4.2\n\n[690 rows x 4 columns]"
          },
          "metadata": {}
        }
      ]
    },
    {
      "metadata": {},
      "cell_type": "markdown",
      "source": "#### Lose the months and get only the year"
    },
    {
      "metadata": {
        "trusted": true
      },
      "cell_type": "code",
      "source": "df_3['Date'] = df_3['Date'].apply(lambda x: [int(s) for s in str.split(x) if s.isdigit()][0])",
      "execution_count": 18,
      "outputs": []
    },
    {
      "metadata": {
        "trusted": true
      },
      "cell_type": "code",
      "source": "df_3.rename(columns={'Date':'year', 'Value':'unemployment_rate'}, inplace=True)",
      "execution_count": 19,
      "outputs": []
    },
    {
      "metadata": {
        "trusted": true
      },
      "cell_type": "code",
      "source": "df = pd.merge(df, df_3, on=['code','area', 'year'])",
      "execution_count": 20,
      "outputs": []
    },
    {
      "metadata": {
        "trusted": true
      },
      "cell_type": "code",
      "source": "df['unemployment_rate'] = df['unemployment_rate'].astype('float')",
      "execution_count": 21,
      "outputs": []
    },
    {
      "metadata": {
        "trusted": true
      },
      "cell_type": "code",
      "source": "\ndf = df[~df['area'].isin(area_rows_to_drop)]",
      "execution_count": 22,
      "outputs": []
    },
    {
      "metadata": {
        "trusted": true
      },
      "cell_type": "code",
      "source": "df",
      "execution_count": 23,
      "outputs": [
        {
          "output_type": "execute_result",
          "execution_count": 23,
          "data": {
            "text/html": "<div>\n<style scoped>\n    .dataframe tbody tr th:only-of-type {\n        vertical-align: middle;\n    }\n\n    .dataframe tbody tr th {\n        vertical-align: top;\n    }\n\n    .dataframe thead th {\n        text-align: right;\n    }\n</style>\n<table border=\"1\" class=\"dataframe\">\n  <thead>\n    <tr style=\"text-align: right;\">\n      <th></th>\n      <th>code</th>\n      <th>area</th>\n      <th>year</th>\n      <th>3_year_survival_number</th>\n      <th>3_year_survival_rate</th>\n      <th>number_of_jobs</th>\n      <th>job_density</th>\n      <th>unemployment_rate</th>\n    </tr>\n  </thead>\n  <tbody>\n    <tr>\n      <th>0</th>\n      <td>E09000002</td>\n      <td>Barking and Dagenham</td>\n      <td>2004</td>\n      <td>290.0</td>\n      <td>60.4</td>\n      <td>53000</td>\n      <td>0.51</td>\n      <td>8.3</td>\n    </tr>\n    <tr>\n      <th>1</th>\n      <td>E09000003</td>\n      <td>Barnet</td>\n      <td>2004</td>\n      <td>1385.0</td>\n      <td>56.9</td>\n      <td>135000</td>\n      <td>0.63</td>\n      <td>6.3</td>\n    </tr>\n    <tr>\n      <th>2</th>\n      <td>E09000004</td>\n      <td>Bexley</td>\n      <td>2004</td>\n      <td>565.0</td>\n      <td>60.1</td>\n      <td>85000</td>\n      <td>0.61</td>\n      <td>4.1</td>\n    </tr>\n    <tr>\n      <th>3</th>\n      <td>E09000005</td>\n      <td>Brent</td>\n      <td>2004</td>\n      <td>995.0</td>\n      <td>55.3</td>\n      <td>119000</td>\n      <td>0.65</td>\n      <td>9.1</td>\n    </tr>\n    <tr>\n      <th>4</th>\n      <td>E09000006</td>\n      <td>Bromley</td>\n      <td>2004</td>\n      <td>1015.0</td>\n      <td>63.8</td>\n      <td>126000</td>\n      <td>0.67</td>\n      <td>4.7</td>\n    </tr>\n    <tr>\n      <th>5</th>\n      <td>E09000007</td>\n      <td>Camden</td>\n      <td>2004</td>\n      <td>1810.0</td>\n      <td>63.7</td>\n      <td>278000</td>\n      <td>1.82</td>\n      <td>7.6</td>\n    </tr>\n    <tr>\n      <th>6</th>\n      <td>E09000008</td>\n      <td>Croydon</td>\n      <td>2004</td>\n      <td>1000.0</td>\n      <td>61.3</td>\n      <td>153000</td>\n      <td>0.69</td>\n      <td>6.2</td>\n    </tr>\n    <tr>\n      <th>7</th>\n      <td>E09000009</td>\n      <td>Ealing</td>\n      <td>2004</td>\n      <td>1210.0</td>\n      <td>57.2</td>\n      <td>136000</td>\n      <td>0.63</td>\n      <td>6.5</td>\n    </tr>\n    <tr>\n      <th>8</th>\n      <td>E09000010</td>\n      <td>Enfield</td>\n      <td>2004</td>\n      <td>855.0</td>\n      <td>61.1</td>\n      <td>110000</td>\n      <td>0.59</td>\n      <td>6.6</td>\n    </tr>\n    <tr>\n      <th>9</th>\n      <td>E09000011</td>\n      <td>Greenwich</td>\n      <td>2004</td>\n      <td>590.0</td>\n      <td>60.5</td>\n      <td>77000</td>\n      <td>0.50</td>\n      <td>8.0</td>\n    </tr>\n    <tr>\n      <th>10</th>\n      <td>E09000012</td>\n      <td>Hackney</td>\n      <td>2004</td>\n      <td>875.0</td>\n      <td>60.6</td>\n      <td>96000</td>\n      <td>0.65</td>\n      <td>11.4</td>\n    </tr>\n    <tr>\n      <th>11</th>\n      <td>E09000013</td>\n      <td>Hammersmith and Fulham</td>\n      <td>2004</td>\n      <td>985.0</td>\n      <td>52.8</td>\n      <td>128000</td>\n      <td>1.01</td>\n      <td>8.1</td>\n    </tr>\n    <tr>\n      <th>12</th>\n      <td>E09000014</td>\n      <td>Haringey</td>\n      <td>2004</td>\n      <td>780.0</td>\n      <td>58.0</td>\n      <td>78000</td>\n      <td>0.49</td>\n      <td>11.2</td>\n    </tr>\n    <tr>\n      <th>13</th>\n      <td>E09000015</td>\n      <td>Harrow</td>\n      <td>2004</td>\n      <td>845.0</td>\n      <td>61.7</td>\n      <td>81000</td>\n      <td>0.57</td>\n      <td>6.0</td>\n    </tr>\n    <tr>\n      <th>14</th>\n      <td>E09000016</td>\n      <td>Havering</td>\n      <td>2004</td>\n      <td>660.0</td>\n      <td>62.6</td>\n      <td>92000</td>\n      <td>0.65</td>\n      <td>4.0</td>\n    </tr>\n    <tr>\n      <th>15</th>\n      <td>E09000017</td>\n      <td>Hillingdon</td>\n      <td>2004</td>\n      <td>770.0</td>\n      <td>63.4</td>\n      <td>196000</td>\n      <td>1.20</td>\n      <td>5.1</td>\n    </tr>\n    <tr>\n      <th>16</th>\n      <td>E09000018</td>\n      <td>Hounslow</td>\n      <td>2004</td>\n      <td>780.0</td>\n      <td>59.5</td>\n      <td>130000</td>\n      <td>0.86</td>\n      <td>6.7</td>\n    </tr>\n    <tr>\n      <th>17</th>\n      <td>E09000019</td>\n      <td>Islington</td>\n      <td>2004</td>\n      <td>1120.0</td>\n      <td>59.9</td>\n      <td>179000</td>\n      <td>1.35</td>\n      <td>9.6</td>\n    </tr>\n    <tr>\n      <th>18</th>\n      <td>E09000020</td>\n      <td>Kensington and Chelsea</td>\n      <td>2004</td>\n      <td>1030.0</td>\n      <td>62.0</td>\n      <td>131000</td>\n      <td>1.09</td>\n      <td>6.0</td>\n    </tr>\n    <tr>\n      <th>19</th>\n      <td>E09000021</td>\n      <td>Kingston upon Thames</td>\n      <td>2004</td>\n      <td>555.0</td>\n      <td>63.1</td>\n      <td>84000</td>\n      <td>0.81</td>\n      <td>4.3</td>\n    </tr>\n    <tr>\n      <th>20</th>\n      <td>E09000022</td>\n      <td>Lambeth</td>\n      <td>2004</td>\n      <td>1080.0</td>\n      <td>58.4</td>\n      <td>142000</td>\n      <td>0.72</td>\n      <td>10.1</td>\n    </tr>\n    <tr>\n      <th>21</th>\n      <td>E09000023</td>\n      <td>Lewisham</td>\n      <td>2004</td>\n      <td>660.0</td>\n      <td>58.1</td>\n      <td>79000</td>\n      <td>0.46</td>\n      <td>8.9</td>\n    </tr>\n    <tr>\n      <th>22</th>\n      <td>E09000024</td>\n      <td>Merton</td>\n      <td>2004</td>\n      <td>685.0</td>\n      <td>56.8</td>\n      <td>91000</td>\n      <td>0.70</td>\n      <td>5.6</td>\n    </tr>\n    <tr>\n      <th>23</th>\n      <td>E09000025</td>\n      <td>Newham</td>\n      <td>2004</td>\n      <td>525.0</td>\n      <td>54.4</td>\n      <td>81000</td>\n      <td>0.47</td>\n      <td>10.5</td>\n    </tr>\n    <tr>\n      <th>24</th>\n      <td>E09000026</td>\n      <td>Redbridge</td>\n      <td>2004</td>\n      <td>770.0</td>\n      <td>57.9</td>\n      <td>85000</td>\n      <td>0.52</td>\n      <td>5.5</td>\n    </tr>\n    <tr>\n      <th>25</th>\n      <td>E09000027</td>\n      <td>Richmond upon Thames</td>\n      <td>2004</td>\n      <td>1015.0</td>\n      <td>68.8</td>\n      <td>82000</td>\n      <td>0.66</td>\n      <td>4.3</td>\n    </tr>\n    <tr>\n      <th>26</th>\n      <td>E09000028</td>\n      <td>Southwark</td>\n      <td>2004</td>\n      <td>1160.0</td>\n      <td>59.6</td>\n      <td>195000</td>\n      <td>1.07</td>\n      <td>10.4</td>\n    </tr>\n    <tr>\n      <th>27</th>\n      <td>E09000029</td>\n      <td>Sutton</td>\n      <td>2004</td>\n      <td>550.0</td>\n      <td>64.3</td>\n      <td>73000</td>\n      <td>0.62</td>\n      <td>4.6</td>\n    </tr>\n    <tr>\n      <th>28</th>\n      <td>E09000030</td>\n      <td>Tower Hamlets</td>\n      <td>2004</td>\n      <td>1125.0</td>\n      <td>60.6</td>\n      <td>192000</td>\n      <td>1.30</td>\n      <td>13.1</td>\n    </tr>\n    <tr>\n      <th>29</th>\n      <td>E09000031</td>\n      <td>Waltham Forest</td>\n      <td>2004</td>\n      <td>635.0</td>\n      <td>56.2</td>\n      <td>69000</td>\n      <td>0.46</td>\n      <td>9.0</td>\n    </tr>\n    <tr>\n      <th>...</th>\n      <td>...</td>\n      <td>...</td>\n      <td>...</td>\n      <td>...</td>\n      <td>...</td>\n      <td>...</td>\n      <td>...</td>\n      <td>...</td>\n    </tr>\n    <tr>\n      <th>442</th>\n      <td>E09000004</td>\n      <td>Bexley</td>\n      <td>2014</td>\n      <td>950.0</td>\n      <td>65.3</td>\n      <td>80000</td>\n      <td>0.53</td>\n      <td>5.7</td>\n    </tr>\n    <tr>\n      <th>443</th>\n      <td>E09000005</td>\n      <td>Brent</td>\n      <td>2014</td>\n      <td>1530.0</td>\n      <td>59.2</td>\n      <td>131000</td>\n      <td>0.60</td>\n      <td>7.4</td>\n    </tr>\n    <tr>\n      <th>444</th>\n      <td>E09000006</td>\n      <td>Bromley</td>\n      <td>2014</td>\n      <td>1405.0</td>\n      <td>64.2</td>\n      <td>127000</td>\n      <td>0.63</td>\n      <td>5.5</td>\n    </tr>\n    <tr>\n      <th>445</th>\n      <td>E09000007</td>\n      <td>Camden</td>\n      <td>2014</td>\n      <td>2425.0</td>\n      <td>55.4</td>\n      <td>379000</td>\n      <td>2.25</td>\n      <td>6.7</td>\n    </tr>\n    <tr>\n      <th>446</th>\n      <td>E09000008</td>\n      <td>Croydon</td>\n      <td>2014</td>\n      <td>1510.0</td>\n      <td>63.2</td>\n      <td>142000</td>\n      <td>0.58</td>\n      <td>7.2</td>\n    </tr>\n    <tr>\n      <th>447</th>\n      <td>E09000009</td>\n      <td>Ealing</td>\n      <td>2014</td>\n      <td>1940.0</td>\n      <td>62.4</td>\n      <td>159000</td>\n      <td>0.69</td>\n      <td>7.8</td>\n    </tr>\n    <tr>\n      <th>448</th>\n      <td>E09000010</td>\n      <td>Enfield</td>\n      <td>2014</td>\n      <td>1305.0</td>\n      <td>56.6</td>\n      <td>127000</td>\n      <td>0.61</td>\n      <td>8.2</td>\n    </tr>\n    <tr>\n      <th>449</th>\n      <td>E09000011</td>\n      <td>Greenwich</td>\n      <td>2014</td>\n      <td>1060.0</td>\n      <td>62.7</td>\n      <td>95000</td>\n      <td>0.52</td>\n      <td>8.9</td>\n    </tr>\n    <tr>\n      <th>450</th>\n      <td>E09000012</td>\n      <td>Hackney</td>\n      <td>2014</td>\n      <td>1985.0</td>\n      <td>61.2</td>\n      <td>131000</td>\n      <td>0.69</td>\n      <td>8.0</td>\n    </tr>\n    <tr>\n      <th>451</th>\n      <td>E09000013</td>\n      <td>Hammersmith and Fulham</td>\n      <td>2014</td>\n      <td>1340.0</td>\n      <td>56.3</td>\n      <td>148000</td>\n      <td>1.12</td>\n      <td>6.2</td>\n    </tr>\n    <tr>\n      <th>452</th>\n      <td>E09000014</td>\n      <td>Haringey</td>\n      <td>2014</td>\n      <td>1330.0</td>\n      <td>60.7</td>\n      <td>90000</td>\n      <td>0.48</td>\n      <td>8.1</td>\n    </tr>\n    <tr>\n      <th>453</th>\n      <td>E09000015</td>\n      <td>Harrow</td>\n      <td>2014</td>\n      <td>1470.0</td>\n      <td>61.5</td>\n      <td>89000</td>\n      <td>0.56</td>\n      <td>5.5</td>\n    </tr>\n    <tr>\n      <th>454</th>\n      <td>E09000016</td>\n      <td>Havering</td>\n      <td>2014</td>\n      <td>925.0</td>\n      <td>62.3</td>\n      <td>90000</td>\n      <td>0.59</td>\n      <td>6.3</td>\n    </tr>\n    <tr>\n      <th>455</th>\n      <td>E09000017</td>\n      <td>Hillingdon</td>\n      <td>2014</td>\n      <td>1290.0</td>\n      <td>62.2</td>\n      <td>220000</td>\n      <td>1.15</td>\n      <td>6.2</td>\n    </tr>\n    <tr>\n      <th>456</th>\n      <td>E09000018</td>\n      <td>Hounslow</td>\n      <td>2014</td>\n      <td>1455.0</td>\n      <td>62.7</td>\n      <td>164000</td>\n      <td>0.91</td>\n      <td>6.0</td>\n    </tr>\n    <tr>\n      <th>457</th>\n      <td>E09000019</td>\n      <td>Islington</td>\n      <td>2014</td>\n      <td>2100.0</td>\n      <td>56.5</td>\n      <td>231000</td>\n      <td>1.39</td>\n      <td>7.7</td>\n    </tr>\n    <tr>\n      <th>458</th>\n      <td>E09000020</td>\n      <td>Kensington and Chelsea</td>\n      <td>2014</td>\n      <td>1280.0</td>\n      <td>59.1</td>\n      <td>141000</td>\n      <td>1.28</td>\n      <td>5.8</td>\n    </tr>\n    <tr>\n      <th>459</th>\n      <td>E09000021</td>\n      <td>Kingston upon Thames</td>\n      <td>2014</td>\n      <td>790.0</td>\n      <td>62.2</td>\n      <td>82000</td>\n      <td>0.73</td>\n      <td>5.3</td>\n    </tr>\n    <tr>\n      <th>460</th>\n      <td>E09000022</td>\n      <td>Lambeth</td>\n      <td>2014</td>\n      <td>3270.0</td>\n      <td>58.7</td>\n      <td>180000</td>\n      <td>0.76</td>\n      <td>6.6</td>\n    </tr>\n    <tr>\n      <th>461</th>\n      <td>E09000023</td>\n      <td>Lewisham</td>\n      <td>2014</td>\n      <td>1120.0</td>\n      <td>59.9</td>\n      <td>88000</td>\n      <td>0.43</td>\n      <td>6.6</td>\n    </tr>\n    <tr>\n      <th>462</th>\n      <td>E09000024</td>\n      <td>Merton</td>\n      <td>2014</td>\n      <td>1250.0</td>\n      <td>62.7</td>\n      <td>97000</td>\n      <td>0.70</td>\n      <td>6.1</td>\n    </tr>\n    <tr>\n      <th>463</th>\n      <td>E09000025</td>\n      <td>Newham</td>\n      <td>2014</td>\n      <td>1330.0</td>\n      <td>56.2</td>\n      <td>112000</td>\n      <td>0.48</td>\n      <td>9.0</td>\n    </tr>\n    <tr>\n      <th>464</th>\n      <td>E09000026</td>\n      <td>Redbridge</td>\n      <td>2014</td>\n      <td>1535.0</td>\n      <td>59.5</td>\n      <td>89000</td>\n      <td>0.47</td>\n      <td>6.7</td>\n    </tr>\n    <tr>\n      <th>465</th>\n      <td>E09000027</td>\n      <td>Richmond upon Thames</td>\n      <td>2014</td>\n      <td>1270.0</td>\n      <td>64.0</td>\n      <td>95000</td>\n      <td>0.76</td>\n      <td>4.5</td>\n    </tr>\n    <tr>\n      <th>466</th>\n      <td>E09000028</td>\n      <td>Southwark</td>\n      <td>2014</td>\n      <td>1700.0</td>\n      <td>58.0</td>\n      <td>282000</td>\n      <td>1.27</td>\n      <td>8.0</td>\n    </tr>\n    <tr>\n      <th>467</th>\n      <td>E09000029</td>\n      <td>Sutton</td>\n      <td>2014</td>\n      <td>790.0</td>\n      <td>66.7</td>\n      <td>78000</td>\n      <td>0.61</td>\n      <td>5.3</td>\n    </tr>\n    <tr>\n      <th>468</th>\n      <td>E09000030</td>\n      <td>Tower Hamlets</td>\n      <td>2014</td>\n      <td>1965.0</td>\n      <td>56.8</td>\n      <td>278000</td>\n      <td>1.32</td>\n      <td>8.7</td>\n    </tr>\n    <tr>\n      <th>469</th>\n      <td>E09000031</td>\n      <td>Waltham Forest</td>\n      <td>2014</td>\n      <td>1250.0</td>\n      <td>59.5</td>\n      <td>84000</td>\n      <td>0.46</td>\n      <td>9.2</td>\n    </tr>\n    <tr>\n      <th>470</th>\n      <td>E09000032</td>\n      <td>Wandsworth</td>\n      <td>2014</td>\n      <td>1850.0</td>\n      <td>60.6</td>\n      <td>134000</td>\n      <td>0.57</td>\n      <td>4.9</td>\n    </tr>\n    <tr>\n      <th>471</th>\n      <td>E09000033</td>\n      <td>Westminster</td>\n      <td>2014</td>\n      <td>4380.0</td>\n      <td>53.1</td>\n      <td>737000</td>\n      <td>4.45</td>\n      <td>6.1</td>\n    </tr>\n  </tbody>\n</table>\n<p>352 rows × 8 columns</p>\n</div>",
            "text/plain": "          code                    area  year  3_year_survival_number  \\\n0    E09000002    Barking and Dagenham  2004                   290.0   \n1    E09000003                  Barnet  2004                  1385.0   \n2    E09000004                  Bexley  2004                   565.0   \n3    E09000005                   Brent  2004                   995.0   \n4    E09000006                 Bromley  2004                  1015.0   \n5    E09000007                  Camden  2004                  1810.0   \n6    E09000008                 Croydon  2004                  1000.0   \n7    E09000009                  Ealing  2004                  1210.0   \n8    E09000010                 Enfield  2004                   855.0   \n9    E09000011               Greenwich  2004                   590.0   \n10   E09000012                 Hackney  2004                   875.0   \n11   E09000013  Hammersmith and Fulham  2004                   985.0   \n12   E09000014                Haringey  2004                   780.0   \n13   E09000015                  Harrow  2004                   845.0   \n14   E09000016                Havering  2004                   660.0   \n15   E09000017              Hillingdon  2004                   770.0   \n16   E09000018                Hounslow  2004                   780.0   \n17   E09000019               Islington  2004                  1120.0   \n18   E09000020  Kensington and Chelsea  2004                  1030.0   \n19   E09000021    Kingston upon Thames  2004                   555.0   \n20   E09000022                 Lambeth  2004                  1080.0   \n21   E09000023                Lewisham  2004                   660.0   \n22   E09000024                  Merton  2004                   685.0   \n23   E09000025                  Newham  2004                   525.0   \n24   E09000026               Redbridge  2004                   770.0   \n25   E09000027    Richmond upon Thames  2004                  1015.0   \n26   E09000028               Southwark  2004                  1160.0   \n27   E09000029                  Sutton  2004                   550.0   \n28   E09000030           Tower Hamlets  2004                  1125.0   \n29   E09000031          Waltham Forest  2004                   635.0   \n..         ...                     ...   ...                     ...   \n442  E09000004                  Bexley  2014                   950.0   \n443  E09000005                   Brent  2014                  1530.0   \n444  E09000006                 Bromley  2014                  1405.0   \n445  E09000007                  Camden  2014                  2425.0   \n446  E09000008                 Croydon  2014                  1510.0   \n447  E09000009                  Ealing  2014                  1940.0   \n448  E09000010                 Enfield  2014                  1305.0   \n449  E09000011               Greenwich  2014                  1060.0   \n450  E09000012                 Hackney  2014                  1985.0   \n451  E09000013  Hammersmith and Fulham  2014                  1340.0   \n452  E09000014                Haringey  2014                  1330.0   \n453  E09000015                  Harrow  2014                  1470.0   \n454  E09000016                Havering  2014                   925.0   \n455  E09000017              Hillingdon  2014                  1290.0   \n456  E09000018                Hounslow  2014                  1455.0   \n457  E09000019               Islington  2014                  2100.0   \n458  E09000020  Kensington and Chelsea  2014                  1280.0   \n459  E09000021    Kingston upon Thames  2014                   790.0   \n460  E09000022                 Lambeth  2014                  3270.0   \n461  E09000023                Lewisham  2014                  1120.0   \n462  E09000024                  Merton  2014                  1250.0   \n463  E09000025                  Newham  2014                  1330.0   \n464  E09000026               Redbridge  2014                  1535.0   \n465  E09000027    Richmond upon Thames  2014                  1270.0   \n466  E09000028               Southwark  2014                  1700.0   \n467  E09000029                  Sutton  2014                   790.0   \n468  E09000030           Tower Hamlets  2014                  1965.0   \n469  E09000031          Waltham Forest  2014                  1250.0   \n470  E09000032              Wandsworth  2014                  1850.0   \n471  E09000033             Westminster  2014                  4380.0   \n\n     3_year_survival_rate  number_of_jobs  job_density  unemployment_rate  \n0                    60.4           53000         0.51                8.3  \n1                    56.9          135000         0.63                6.3  \n2                    60.1           85000         0.61                4.1  \n3                    55.3          119000         0.65                9.1  \n4                    63.8          126000         0.67                4.7  \n5                    63.7          278000         1.82                7.6  \n6                    61.3          153000         0.69                6.2  \n7                    57.2          136000         0.63                6.5  \n8                    61.1          110000         0.59                6.6  \n9                    60.5           77000         0.50                8.0  \n10                   60.6           96000         0.65               11.4  \n11                   52.8          128000         1.01                8.1  \n12                   58.0           78000         0.49               11.2  \n13                   61.7           81000         0.57                6.0  \n14                   62.6           92000         0.65                4.0  \n15                   63.4          196000         1.20                5.1  \n16                   59.5          130000         0.86                6.7  \n17                   59.9          179000         1.35                9.6  \n18                   62.0          131000         1.09                6.0  \n19                   63.1           84000         0.81                4.3  \n20                   58.4          142000         0.72               10.1  \n21                   58.1           79000         0.46                8.9  \n22                   56.8           91000         0.70                5.6  \n23                   54.4           81000         0.47               10.5  \n24                   57.9           85000         0.52                5.5  \n25                   68.8           82000         0.66                4.3  \n26                   59.6          195000         1.07               10.4  \n27                   64.3           73000         0.62                4.6  \n28                   60.6          192000         1.30               13.1  \n29                   56.2           69000         0.46                9.0  \n..                    ...             ...          ...                ...  \n442                  65.3           80000         0.53                5.7  \n443                  59.2          131000         0.60                7.4  \n444                  64.2          127000         0.63                5.5  \n445                  55.4          379000         2.25                6.7  \n446                  63.2          142000         0.58                7.2  \n447                  62.4          159000         0.69                7.8  \n448                  56.6          127000         0.61                8.2  \n449                  62.7           95000         0.52                8.9  \n450                  61.2          131000         0.69                8.0  \n451                  56.3          148000         1.12                6.2  \n452                  60.7           90000         0.48                8.1  \n453                  61.5           89000         0.56                5.5  \n454                  62.3           90000         0.59                6.3  \n455                  62.2          220000         1.15                6.2  \n456                  62.7          164000         0.91                6.0  \n457                  56.5          231000         1.39                7.7  \n458                  59.1          141000         1.28                5.8  \n459                  62.2           82000         0.73                5.3  \n460                  58.7          180000         0.76                6.6  \n461                  59.9           88000         0.43                6.6  \n462                  62.7           97000         0.70                6.1  \n463                  56.2          112000         0.48                9.0  \n464                  59.5           89000         0.47                6.7  \n465                  64.0           95000         0.76                4.5  \n466                  58.0          282000         1.27                8.0  \n467                  66.7           78000         0.61                5.3  \n468                  56.8          278000         1.32                8.7  \n469                  59.5           84000         0.46                9.2  \n470                  60.6          134000         0.57                4.9  \n471                  53.1          737000         4.45                6.1  \n\n[352 rows x 8 columns]"
          },
          "metadata": {}
        }
      ]
    },
    {
      "metadata": {
        "trusted": true
      },
      "cell_type": "code",
      "source": "df_4.drop(['Unnamed: 0'], axis=1, inplace=True)",
      "execution_count": 29,
      "outputs": []
    },
    {
      "metadata": {
        "trusted": true
      },
      "cell_type": "code",
      "source": "df_4.dropna(how='any', inplace=True)",
      "execution_count": 30,
      "outputs": []
    },
    {
      "metadata": {
        "trusted": true
      },
      "cell_type": "code",
      "source": "df_4.rename(columns={'Code':'code', 'Area':'area'}, inplace=True)",
      "execution_count": 31,
      "outputs": []
    },
    {
      "metadata": {
        "trusted": true
      },
      "cell_type": "code",
      "source": "df_4 = df_4.melt(id_vars=[\"code\", \"area\"], \n        var_name=\"year\", \n        value_name=\"NVQ4_rate\")",
      "execution_count": 32,
      "outputs": []
    },
    {
      "metadata": {
        "trusted": true
      },
      "cell_type": "code",
      "source": "df_4['year'] = df_4['year'].astype('int64')",
      "execution_count": 33,
      "outputs": []
    },
    {
      "metadata": {
        "trusted": true
      },
      "cell_type": "code",
      "source": "df = pd.merge(df, df_4, on=['area', 'year'])",
      "execution_count": 34,
      "outputs": []
    },
    {
      "metadata": {
        "trusted": true
      },
      "cell_type": "code",
      "source": "df.rename(columns={'code_x':'code'}, inplace=True)",
      "execution_count": 35,
      "outputs": []
    },
    {
      "metadata": {
        "trusted": true
      },
      "cell_type": "code",
      "source": "df.drop(['code_y'], axis=1, inplace=True)",
      "execution_count": 36,
      "outputs": []
    },
    {
      "metadata": {
        "trusted": true
      },
      "cell_type": "code",
      "source": "df_5.drop(['Unnamed: 0'], axis=1, inplace=True)",
      "execution_count": 37,
      "outputs": []
    },
    {
      "metadata": {
        "trusted": true
      },
      "cell_type": "code",
      "source": "df_5.dropna(how='any', inplace=True)",
      "execution_count": 38,
      "outputs": []
    },
    {
      "metadata": {
        "trusted": true
      },
      "cell_type": "code",
      "source": "df_5.rename(columns={'Code':'code', 'Area':'area'}, inplace=True)",
      "execution_count": 39,
      "outputs": []
    },
    {
      "metadata": {
        "trusted": true
      },
      "cell_type": "code",
      "source": "df_5 = df_5[~df_5['area'].isin(area_rows_to_drop)]",
      "execution_count": 40,
      "outputs": []
    },
    {
      "metadata": {
        "trusted": true
      },
      "cell_type": "code",
      "source": "df_5 = df_5.melt(id_vars=[\"code\", \"area\"], \n        var_name=\"year\", \n        value_name=\"youth_unemployment_rate\")",
      "execution_count": 41,
      "outputs": []
    },
    {
      "metadata": {
        "trusted": true
      },
      "cell_type": "code",
      "source": "df_5['year'] = df_5.loc[:,'year'].astype('int64')",
      "execution_count": 42,
      "outputs": []
    },
    {
      "metadata": {
        "trusted": true
      },
      "cell_type": "code",
      "source": "df_5.dtypes",
      "execution_count": 43,
      "outputs": [
        {
          "output_type": "execute_result",
          "execution_count": 43,
          "data": {
            "text/plain": "code                        object\narea                        object\nyear                         int64\nyouth_unemployment_rate    float64\ndtype: object"
          },
          "metadata": {}
        }
      ]
    },
    {
      "metadata": {
        "trusted": true
      },
      "cell_type": "code",
      "source": "df = pd.merge(df, df_5, on=['area', 'year', 'code'])",
      "execution_count": 44,
      "outputs": []
    },
    {
      "metadata": {
        "trusted": true
      },
      "cell_type": "code",
      "source": "df_6.drop(['Unnamed: 0'], axis=1, inplace=True)\ndf_6.dropna(how='any', inplace=True)\ndf_6.rename(columns={'Code':'code', 'Area':'area'}, inplace=True)\ndf_6 = df_6.melt(id_vars=[\"code\", \"area\"], \n        var_name=\"year\", \n        value_name=\"no_qualif_rate\")\ndf_6['year'] = df_6['year'].astype('int64')\ndf = pd.merge(df, df_6, on=['area', 'year'])",
      "execution_count": 45,
      "outputs": []
    },
    {
      "metadata": {
        "trusted": true
      },
      "cell_type": "code",
      "source": "df.drop(['code_y'], axis=1, inplace=True)\ndf.rename(columns={'code_x':'code'}, inplace=True)",
      "execution_count": 46,
      "outputs": []
    },
    {
      "metadata": {
        "trusted": true
      },
      "cell_type": "code",
      "source": "df.to_csv(PROC_DATA_PATH + 'borough-unemployment-and-business-data.csv')",
      "execution_count": 47,
      "outputs": []
    }
  ],
  "metadata": {
    "kernelspec": {
      "name": "python36",
      "display_name": "Python 3.6",
      "language": "python"
    },
    "language_info": {
      "mimetype": "text/x-python",
      "nbconvert_exporter": "python",
      "name": "python",
      "pygments_lexer": "ipython3",
      "version": "3.6.6",
      "file_extension": ".py",
      "codemirror_mode": {
        "version": 3,
        "name": "ipython"
      }
    }
  },
  "nbformat": 4,
  "nbformat_minor": 2
}