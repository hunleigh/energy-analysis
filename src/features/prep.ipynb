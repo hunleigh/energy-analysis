{
  "cells": [
    {
      "metadata": {
        "trusted": true,
        "scrolled": true
      },
      "cell_type": "code",
      "source": "# This import registers the 3D projection, but is otherwise unused.\nfrom mpl_toolkits.mplot3d import Axes3D\nimport pandas as pd\nimport os\nfrom scipy import stats\nimport plotly.express as px\nimport plotly\nimport numpy as np\nimport seaborn as sns\nimport matplotlib.pyplot as plt\nRAW_DATA_PATH = \"~/library/data/raw/\"\nPROC_DATA_PATH = '~/library/data/processed/'",
      "execution_count": 202,
      "outputs": []
    },
    {
      "metadata": {
        "trusted": true
      },
      "cell_type": "code",
      "source": "plotly.offline.init_notebook_mode(connected=True)",
      "execution_count": 203,
      "outputs": [
        {
          "output_type": "display_data",
          "data": {
            "text/html": "        <script type=\"text/javascript\">\n        window.PlotlyConfig = {MathJaxConfig: 'local'};\n        if (window.MathJax) {MathJax.Hub.Config({SVG: {font: \"STIX-Web\"}});}\n        if (typeof require !== 'undefined') {\n        require.undef(\"plotly\");\n        requirejs.config({\n            paths: {\n                'plotly': ['https://cdn.plot.ly/plotly-latest.min']\n            }\n        });\n        require(['plotly'], function(Plotly) {\n            window._Plotly = Plotly;\n        });\n        }\n        </script>\n        "
          },
          "metadata": {}
        }
      ]
    },
    {
      "metadata": {
        "trusted": true
      },
      "cell_type": "code",
      "source": "df_1 = pd.read_csv(RAW_DATA_PATH + 'business-survival-rates.csv', sep=',', na_values=[':']) \ndf_2 = pd.read_csv(RAW_DATA_PATH + 'Jobs and Job Density.csv', sep=',') \ndf_3 = pd.read_csv(RAW_DATA_PATH + 'mb-unemployment-rates.csv', sep=',', na_values=[' ', '-'])",
      "execution_count": 173,
      "outputs": []
    },
    {
      "metadata": {
        "trusted": true
      },
      "cell_type": "code",
      "source": "df_1.drop(['births','1_year_survival_number', '1_year_survival_rate', '2_year_survival_number', '2_year_survival_rate', '4_year_survival_number', '4_year_survival_rate' ,'5_year_survival_number', '5_year_survival_rate'], inplace=True, axis=1)",
      "execution_count": 174,
      "outputs": []
    },
    {
      "metadata": {
        "trusted": true
      },
      "cell_type": "code",
      "source": "df_1",
      "execution_count": 175,
      "outputs": [
        {
          "output_type": "execute_result",
          "execution_count": 175,
          "data": {
            "text/html": "<div>\n<style scoped>\n    .dataframe tbody tr th:only-of-type {\n        vertical-align: middle;\n    }\n\n    .dataframe tbody tr th {\n        vertical-align: top;\n    }\n\n    .dataframe thead th {\n        text-align: right;\n    }\n</style>\n<table border=\"1\" class=\"dataframe\">\n  <thead>\n    <tr style=\"text-align: right;\">\n      <th></th>\n      <th>code</th>\n      <th>area</th>\n      <th>year</th>\n      <th>3_year_survival_number</th>\n      <th>3_year_survival_rate</th>\n    </tr>\n  </thead>\n  <tbody>\n    <tr>\n      <th>0</th>\n      <td>E09000001</td>\n      <td>City of London</td>\n      <td>2002</td>\n      <td>760.0</td>\n      <td>66.4</td>\n    </tr>\n    <tr>\n      <th>1</th>\n      <td>E09000002</td>\n      <td>Barking and Dagenham</td>\n      <td>2002</td>\n      <td>250.0</td>\n      <td>57.5</td>\n    </tr>\n    <tr>\n      <th>2</th>\n      <td>E09000003</td>\n      <td>Barnet</td>\n      <td>2002</td>\n      <td>1290.0</td>\n      <td>55.4</td>\n    </tr>\n    <tr>\n      <th>3</th>\n      <td>E09000004</td>\n      <td>Bexley</td>\n      <td>2002</td>\n      <td>470.0</td>\n      <td>61.4</td>\n    </tr>\n    <tr>\n      <th>4</th>\n      <td>E09000005</td>\n      <td>Brent</td>\n      <td>2002</td>\n      <td>810.0</td>\n      <td>49.5</td>\n    </tr>\n    <tr>\n      <th>5</th>\n      <td>E09000006</td>\n      <td>Bromley</td>\n      <td>2002</td>\n      <td>825.0</td>\n      <td>64.5</td>\n    </tr>\n    <tr>\n      <th>6</th>\n      <td>E09000007</td>\n      <td>Camden</td>\n      <td>2002</td>\n      <td>1485.0</td>\n      <td>57.6</td>\n    </tr>\n    <tr>\n      <th>7</th>\n      <td>E09000008</td>\n      <td>Croydon</td>\n      <td>2002</td>\n      <td>805.0</td>\n      <td>57.7</td>\n    </tr>\n    <tr>\n      <th>8</th>\n      <td>E09000009</td>\n      <td>Ealing</td>\n      <td>2002</td>\n      <td>1020.0</td>\n      <td>57.5</td>\n    </tr>\n    <tr>\n      <th>9</th>\n      <td>E09000010</td>\n      <td>Enfield</td>\n      <td>2002</td>\n      <td>685.0</td>\n      <td>58.5</td>\n    </tr>\n    <tr>\n      <th>10</th>\n      <td>E09000011</td>\n      <td>Greenwich</td>\n      <td>2002</td>\n      <td>450.0</td>\n      <td>58.4</td>\n    </tr>\n    <tr>\n      <th>11</th>\n      <td>E09000012</td>\n      <td>Hackney</td>\n      <td>2002</td>\n      <td>770.0</td>\n      <td>57.9</td>\n    </tr>\n    <tr>\n      <th>12</th>\n      <td>E09000013</td>\n      <td>Hammersmith and Fulham</td>\n      <td>2002</td>\n      <td>940.0</td>\n      <td>44.9</td>\n    </tr>\n    <tr>\n      <th>13</th>\n      <td>E09000014</td>\n      <td>Haringey</td>\n      <td>2002</td>\n      <td>630.0</td>\n      <td>53.4</td>\n    </tr>\n    <tr>\n      <th>14</th>\n      <td>E09000015</td>\n      <td>Harrow</td>\n      <td>2002</td>\n      <td>740.0</td>\n      <td>61.2</td>\n    </tr>\n    <tr>\n      <th>15</th>\n      <td>E09000016</td>\n      <td>Havering</td>\n      <td>2002</td>\n      <td>535.0</td>\n      <td>62.2</td>\n    </tr>\n    <tr>\n      <th>16</th>\n      <td>E09000017</td>\n      <td>Hillingdon</td>\n      <td>2002</td>\n      <td>625.0</td>\n      <td>58.4</td>\n    </tr>\n    <tr>\n      <th>17</th>\n      <td>E09000018</td>\n      <td>Hounslow</td>\n      <td>2002</td>\n      <td>630.0</td>\n      <td>56.5</td>\n    </tr>\n    <tr>\n      <th>18</th>\n      <td>E09000019</td>\n      <td>Islington</td>\n      <td>2002</td>\n      <td>935.0</td>\n      <td>57.5</td>\n    </tr>\n    <tr>\n      <th>19</th>\n      <td>E09000020</td>\n      <td>Kensington and Chelsea</td>\n      <td>2002</td>\n      <td>865.0</td>\n      <td>61.6</td>\n    </tr>\n    <tr>\n      <th>20</th>\n      <td>E09000021</td>\n      <td>Kingston upon Thames</td>\n      <td>2002</td>\n      <td>485.0</td>\n      <td>61.8</td>\n    </tr>\n    <tr>\n      <th>21</th>\n      <td>E09000022</td>\n      <td>Lambeth</td>\n      <td>2002</td>\n      <td>775.0</td>\n      <td>54.8</td>\n    </tr>\n    <tr>\n      <th>22</th>\n      <td>E09000023</td>\n      <td>Lewisham</td>\n      <td>2002</td>\n      <td>500.0</td>\n      <td>54.9</td>\n    </tr>\n    <tr>\n      <th>23</th>\n      <td>E09000024</td>\n      <td>Merton</td>\n      <td>2002</td>\n      <td>600.0</td>\n      <td>52.6</td>\n    </tr>\n    <tr>\n      <th>24</th>\n      <td>E09000025</td>\n      <td>Newham</td>\n      <td>2002</td>\n      <td>430.0</td>\n      <td>52.4</td>\n    </tr>\n    <tr>\n      <th>25</th>\n      <td>E09000026</td>\n      <td>Redbridge</td>\n      <td>2002</td>\n      <td>580.0</td>\n      <td>54.7</td>\n    </tr>\n    <tr>\n      <th>26</th>\n      <td>E09000027</td>\n      <td>Richmond upon Thames</td>\n      <td>2002</td>\n      <td>870.0</td>\n      <td>65.9</td>\n    </tr>\n    <tr>\n      <th>27</th>\n      <td>E09000028</td>\n      <td>Southwark</td>\n      <td>2002</td>\n      <td>870.0</td>\n      <td>58.2</td>\n    </tr>\n    <tr>\n      <th>28</th>\n      <td>E09000029</td>\n      <td>Sutton</td>\n      <td>2002</td>\n      <td>450.0</td>\n      <td>64.3</td>\n    </tr>\n    <tr>\n      <th>29</th>\n      <td>E09000030</td>\n      <td>Tower Hamlets</td>\n      <td>2002</td>\n      <td>790.0</td>\n      <td>54.9</td>\n    </tr>\n    <tr>\n      <th>...</th>\n      <td>...</td>\n      <td>...</td>\n      <td>...</td>\n      <td>...</td>\n      <td>...</td>\n    </tr>\n    <tr>\n      <th>786</th>\n      <td>E09000022</td>\n      <td>Lambeth</td>\n      <td>2017</td>\n      <td>NaN</td>\n      <td>NaN</td>\n    </tr>\n    <tr>\n      <th>787</th>\n      <td>E09000023</td>\n      <td>Lewisham</td>\n      <td>2017</td>\n      <td>NaN</td>\n      <td>NaN</td>\n    </tr>\n    <tr>\n      <th>788</th>\n      <td>E09000024</td>\n      <td>Merton</td>\n      <td>2017</td>\n      <td>NaN</td>\n      <td>NaN</td>\n    </tr>\n    <tr>\n      <th>789</th>\n      <td>E09000025</td>\n      <td>Newham</td>\n      <td>2017</td>\n      <td>NaN</td>\n      <td>NaN</td>\n    </tr>\n    <tr>\n      <th>790</th>\n      <td>E09000026</td>\n      <td>Redbridge</td>\n      <td>2017</td>\n      <td>NaN</td>\n      <td>NaN</td>\n    </tr>\n    <tr>\n      <th>791</th>\n      <td>E09000027</td>\n      <td>Richmond upon Thames</td>\n      <td>2017</td>\n      <td>NaN</td>\n      <td>NaN</td>\n    </tr>\n    <tr>\n      <th>792</th>\n      <td>E09000028</td>\n      <td>Southwark</td>\n      <td>2017</td>\n      <td>NaN</td>\n      <td>NaN</td>\n    </tr>\n    <tr>\n      <th>793</th>\n      <td>E09000029</td>\n      <td>Sutton</td>\n      <td>2017</td>\n      <td>NaN</td>\n      <td>NaN</td>\n    </tr>\n    <tr>\n      <th>794</th>\n      <td>E09000030</td>\n      <td>Tower Hamlets</td>\n      <td>2017</td>\n      <td>NaN</td>\n      <td>NaN</td>\n    </tr>\n    <tr>\n      <th>795</th>\n      <td>E09000031</td>\n      <td>Waltham Forest</td>\n      <td>2017</td>\n      <td>NaN</td>\n      <td>NaN</td>\n    </tr>\n    <tr>\n      <th>796</th>\n      <td>E09000032</td>\n      <td>Wandsworth</td>\n      <td>2017</td>\n      <td>NaN</td>\n      <td>NaN</td>\n    </tr>\n    <tr>\n      <th>797</th>\n      <td>E09000033</td>\n      <td>Westminster</td>\n      <td>2017</td>\n      <td>NaN</td>\n      <td>NaN</td>\n    </tr>\n    <tr>\n      <th>798</th>\n      <td>E13000001</td>\n      <td>Inner London</td>\n      <td>2017</td>\n      <td>NaN</td>\n      <td>NaN</td>\n    </tr>\n    <tr>\n      <th>799</th>\n      <td>E13000002</td>\n      <td>Outer London</td>\n      <td>2017</td>\n      <td>NaN</td>\n      <td>NaN</td>\n    </tr>\n    <tr>\n      <th>800</th>\n      <td>E12000001</td>\n      <td>North East</td>\n      <td>2017</td>\n      <td>NaN</td>\n      <td>NaN</td>\n    </tr>\n    <tr>\n      <th>801</th>\n      <td>E12000002</td>\n      <td>North West</td>\n      <td>2017</td>\n      <td>NaN</td>\n      <td>NaN</td>\n    </tr>\n    <tr>\n      <th>802</th>\n      <td>E12000003</td>\n      <td>Yorkshire And The Humber</td>\n      <td>2017</td>\n      <td>NaN</td>\n      <td>NaN</td>\n    </tr>\n    <tr>\n      <th>803</th>\n      <td>E12000004</td>\n      <td>East Midlands</td>\n      <td>2017</td>\n      <td>NaN</td>\n      <td>NaN</td>\n    </tr>\n    <tr>\n      <th>804</th>\n      <td>E12000005</td>\n      <td>West Midlands</td>\n      <td>2017</td>\n      <td>NaN</td>\n      <td>NaN</td>\n    </tr>\n    <tr>\n      <th>805</th>\n      <td>E12000006</td>\n      <td>East</td>\n      <td>2017</td>\n      <td>NaN</td>\n      <td>NaN</td>\n    </tr>\n    <tr>\n      <th>806</th>\n      <td>E12000007</td>\n      <td>London</td>\n      <td>2017</td>\n      <td>NaN</td>\n      <td>NaN</td>\n    </tr>\n    <tr>\n      <th>807</th>\n      <td>E12000008</td>\n      <td>South East</td>\n      <td>2017</td>\n      <td>NaN</td>\n      <td>NaN</td>\n    </tr>\n    <tr>\n      <th>808</th>\n      <td>E12000009</td>\n      <td>South West</td>\n      <td>2017</td>\n      <td>NaN</td>\n      <td>NaN</td>\n    </tr>\n    <tr>\n      <th>809</th>\n      <td>E92000001</td>\n      <td>England</td>\n      <td>2017</td>\n      <td>NaN</td>\n      <td>NaN</td>\n    </tr>\n    <tr>\n      <th>810</th>\n      <td>W92000004</td>\n      <td>Wales</td>\n      <td>2017</td>\n      <td>NaN</td>\n      <td>NaN</td>\n    </tr>\n    <tr>\n      <th>811</th>\n      <td>S92000003</td>\n      <td>Scotland</td>\n      <td>2017</td>\n      <td>NaN</td>\n      <td>NaN</td>\n    </tr>\n    <tr>\n      <th>812</th>\n      <td>N92000002</td>\n      <td>Northern Ireland</td>\n      <td>2017</td>\n      <td>NaN</td>\n      <td>NaN</td>\n    </tr>\n    <tr>\n      <th>813</th>\n      <td>K04000001</td>\n      <td>England And Wales</td>\n      <td>2017</td>\n      <td>NaN</td>\n      <td>NaN</td>\n    </tr>\n    <tr>\n      <th>814</th>\n      <td>K03000001</td>\n      <td>Great Britain</td>\n      <td>2017</td>\n      <td>NaN</td>\n      <td>NaN</td>\n    </tr>\n    <tr>\n      <th>815</th>\n      <td>K02000001</td>\n      <td>United Kingdom</td>\n      <td>2017</td>\n      <td>NaN</td>\n      <td>NaN</td>\n    </tr>\n  </tbody>\n</table>\n<p>816 rows × 5 columns</p>\n</div>",
            "text/plain": "          code                      area  year  3_year_survival_number  \\\n0    E09000001            City of London  2002                   760.0   \n1    E09000002      Barking and Dagenham  2002                   250.0   \n2    E09000003                    Barnet  2002                  1290.0   \n3    E09000004                    Bexley  2002                   470.0   \n4    E09000005                     Brent  2002                   810.0   \n5    E09000006                   Bromley  2002                   825.0   \n6    E09000007                    Camden  2002                  1485.0   \n7    E09000008                   Croydon  2002                   805.0   \n8    E09000009                    Ealing  2002                  1020.0   \n9    E09000010                   Enfield  2002                   685.0   \n10   E09000011                 Greenwich  2002                   450.0   \n11   E09000012                   Hackney  2002                   770.0   \n12   E09000013    Hammersmith and Fulham  2002                   940.0   \n13   E09000014                  Haringey  2002                   630.0   \n14   E09000015                    Harrow  2002                   740.0   \n15   E09000016                  Havering  2002                   535.0   \n16   E09000017                Hillingdon  2002                   625.0   \n17   E09000018                  Hounslow  2002                   630.0   \n18   E09000019                 Islington  2002                   935.0   \n19   E09000020    Kensington and Chelsea  2002                   865.0   \n20   E09000021      Kingston upon Thames  2002                   485.0   \n21   E09000022                   Lambeth  2002                   775.0   \n22   E09000023                  Lewisham  2002                   500.0   \n23   E09000024                    Merton  2002                   600.0   \n24   E09000025                    Newham  2002                   430.0   \n25   E09000026                 Redbridge  2002                   580.0   \n26   E09000027      Richmond upon Thames  2002                   870.0   \n27   E09000028                 Southwark  2002                   870.0   \n28   E09000029                    Sutton  2002                   450.0   \n29   E09000030             Tower Hamlets  2002                   790.0   \n..         ...                       ...   ...                     ...   \n786  E09000022                   Lambeth  2017                     NaN   \n787  E09000023                  Lewisham  2017                     NaN   \n788  E09000024                    Merton  2017                     NaN   \n789  E09000025                    Newham  2017                     NaN   \n790  E09000026                 Redbridge  2017                     NaN   \n791  E09000027      Richmond upon Thames  2017                     NaN   \n792  E09000028                 Southwark  2017                     NaN   \n793  E09000029                    Sutton  2017                     NaN   \n794  E09000030             Tower Hamlets  2017                     NaN   \n795  E09000031            Waltham Forest  2017                     NaN   \n796  E09000032                Wandsworth  2017                     NaN   \n797  E09000033               Westminster  2017                     NaN   \n798  E13000001              Inner London  2017                     NaN   \n799  E13000002              Outer London  2017                     NaN   \n800  E12000001                North East  2017                     NaN   \n801  E12000002                North West  2017                     NaN   \n802  E12000003  Yorkshire And The Humber  2017                     NaN   \n803  E12000004             East Midlands  2017                     NaN   \n804  E12000005             West Midlands  2017                     NaN   \n805  E12000006                      East  2017                     NaN   \n806  E12000007                    London  2017                     NaN   \n807  E12000008                South East  2017                     NaN   \n808  E12000009                South West  2017                     NaN   \n809  E92000001                   England  2017                     NaN   \n810  W92000004                     Wales  2017                     NaN   \n811  S92000003                  Scotland  2017                     NaN   \n812  N92000002          Northern Ireland  2017                     NaN   \n813  K04000001         England And Wales  2017                     NaN   \n814  K03000001             Great Britain  2017                     NaN   \n815  K02000001            United Kingdom  2017                     NaN   \n\n     3_year_survival_rate  \n0                    66.4  \n1                    57.5  \n2                    55.4  \n3                    61.4  \n4                    49.5  \n5                    64.5  \n6                    57.6  \n7                    57.7  \n8                    57.5  \n9                    58.5  \n10                   58.4  \n11                   57.9  \n12                   44.9  \n13                   53.4  \n14                   61.2  \n15                   62.2  \n16                   58.4  \n17                   56.5  \n18                   57.5  \n19                   61.6  \n20                   61.8  \n21                   54.8  \n22                   54.9  \n23                   52.6  \n24                   52.4  \n25                   54.7  \n26                   65.9  \n27                   58.2  \n28                   64.3  \n29                   54.9  \n..                    ...  \n786                   NaN  \n787                   NaN  \n788                   NaN  \n789                   NaN  \n790                   NaN  \n791                   NaN  \n792                   NaN  \n793                   NaN  \n794                   NaN  \n795                   NaN  \n796                   NaN  \n797                   NaN  \n798                   NaN  \n799                   NaN  \n800                   NaN  \n801                   NaN  \n802                   NaN  \n803                   NaN  \n804                   NaN  \n805                   NaN  \n806                   NaN  \n807                   NaN  \n808                   NaN  \n809                   NaN  \n810                   NaN  \n811                   NaN  \n812                   NaN  \n813                   NaN  \n814                   NaN  \n815                   NaN  \n\n[816 rows x 5 columns]"
          },
          "metadata": {}
        }
      ]
    },
    {
      "metadata": {
        "trusted": true
      },
      "cell_type": "code",
      "source": "def replaceCol(df):\n    col_length = len(df.columns)\n    mapping = {df.columns[0]:'code', df.columns[1]:'area'}\n    for index in range(2, col_length):\n        if index%2!=0:\n            mapping[df.columns[index]] = '+/- Difference'\n    return mapping\n\ndf_1.dropna(inplace=True, axis=0, how='any')\ndf_3.dropna(inplace=True, axis=0, how='any')\nmapping = replaceCol(df_3)\ndf_3.rename(columns=mapping, inplace=True)\ndf_3 = df_3.reset_index(drop=True)\ndf = pd.merge(df_1, df_2, on=['code','area', 'year'])",
      "execution_count": 176,
      "outputs": []
    },
    {
      "metadata": {
        "trusted": true
      },
      "cell_type": "code",
      "source": "def colToDrop(df):\n    col_length = len(df.columns)\n    arr = []\n    for index in range(2, col_length):\n        if df.columns[index].find('Jan') != -1:\n            if index + 2 < col_length:\n                index += 2\n            pass\n        arr.append(df.columns[index])    \n    return arr\n\ndf_3.drop(columns=colToDrop(df_3), inplace=True, axis=1)",
      "execution_count": 177,
      "outputs": []
    },
    {
      "metadata": {
        "trusted": true
      },
      "cell_type": "code",
      "source": "df_3 = df_3.melt(id_vars=[\"code\", \"area\"], \n        var_name=\"Date\", \n        value_name=\"Value\")",
      "execution_count": 178,
      "outputs": []
    },
    {
      "metadata": {
        "trusted": true
      },
      "cell_type": "code",
      "source": "df_3['Date'] = df_3['Date'].apply(lambda x: [int(s) for s in str.split(x) if s.isdigit()][0])",
      "execution_count": 179,
      "outputs": []
    },
    {
      "metadata": {
        "trusted": true
      },
      "cell_type": "code",
      "source": "df_3.rename(columns={'Date':'year', 'Value':'unemployment_rate'}, inplace=True)",
      "execution_count": 180,
      "outputs": []
    },
    {
      "metadata": {
        "trusted": true
      },
      "cell_type": "code",
      "source": "df = pd.merge(df, df_3, on=['code','area', 'year'])",
      "execution_count": 181,
      "outputs": []
    },
    {
      "metadata": {
        "trusted": true
      },
      "cell_type": "code",
      "source": "df['unemployment_rate'] = df['unemployment_rate'].astype('float')",
      "execution_count": 182,
      "outputs": []
    },
    {
      "metadata": {
        "trusted": true
      },
      "cell_type": "code",
      "source": "to_drop=['North East', 'North West', 'East Midlands', 'West Midlands',\n       'East', 'London', 'South East', 'South West', 'England', 'Wales',\n       'Scotland', 'Great Britain']\ndf = df[~df['area'].isin(to_drop)]",
      "execution_count": 183,
      "outputs": []
    },
    {
      "metadata": {
        "trusted": true
      },
      "cell_type": "code",
      "source": "df",
      "execution_count": 184,
      "outputs": [
        {
          "output_type": "execute_result",
          "execution_count": 184,
          "data": {
            "text/html": "<div>\n<style scoped>\n    .dataframe tbody tr th:only-of-type {\n        vertical-align: middle;\n    }\n\n    .dataframe tbody tr th {\n        vertical-align: top;\n    }\n\n    .dataframe thead th {\n        text-align: right;\n    }\n</style>\n<table border=\"1\" class=\"dataframe\">\n  <thead>\n    <tr style=\"text-align: right;\">\n      <th></th>\n      <th>code</th>\n      <th>area</th>\n      <th>year</th>\n      <th>3_year_survival_number</th>\n      <th>3_year_survival_rate</th>\n      <th>number_of_jobs</th>\n      <th>job_density</th>\n      <th>unemployment_rate</th>\n    </tr>\n  </thead>\n  <tbody>\n    <tr>\n      <th>0</th>\n      <td>E09000002</td>\n      <td>Barking and Dagenham</td>\n      <td>2004</td>\n      <td>290.0</td>\n      <td>60.4</td>\n      <td>53000</td>\n      <td>0.51</td>\n      <td>8.3</td>\n    </tr>\n    <tr>\n      <th>1</th>\n      <td>E09000003</td>\n      <td>Barnet</td>\n      <td>2004</td>\n      <td>1385.0</td>\n      <td>56.9</td>\n      <td>135000</td>\n      <td>0.63</td>\n      <td>6.3</td>\n    </tr>\n    <tr>\n      <th>2</th>\n      <td>E09000004</td>\n      <td>Bexley</td>\n      <td>2004</td>\n      <td>565.0</td>\n      <td>60.1</td>\n      <td>85000</td>\n      <td>0.61</td>\n      <td>4.1</td>\n    </tr>\n    <tr>\n      <th>3</th>\n      <td>E09000005</td>\n      <td>Brent</td>\n      <td>2004</td>\n      <td>995.0</td>\n      <td>55.3</td>\n      <td>119000</td>\n      <td>0.65</td>\n      <td>9.1</td>\n    </tr>\n    <tr>\n      <th>4</th>\n      <td>E09000006</td>\n      <td>Bromley</td>\n      <td>2004</td>\n      <td>1015.0</td>\n      <td>63.8</td>\n      <td>126000</td>\n      <td>0.67</td>\n      <td>4.7</td>\n    </tr>\n    <tr>\n      <th>5</th>\n      <td>E09000007</td>\n      <td>Camden</td>\n      <td>2004</td>\n      <td>1810.0</td>\n      <td>63.7</td>\n      <td>278000</td>\n      <td>1.82</td>\n      <td>7.6</td>\n    </tr>\n    <tr>\n      <th>6</th>\n      <td>E09000008</td>\n      <td>Croydon</td>\n      <td>2004</td>\n      <td>1000.0</td>\n      <td>61.3</td>\n      <td>153000</td>\n      <td>0.69</td>\n      <td>6.2</td>\n    </tr>\n    <tr>\n      <th>7</th>\n      <td>E09000009</td>\n      <td>Ealing</td>\n      <td>2004</td>\n      <td>1210.0</td>\n      <td>57.2</td>\n      <td>136000</td>\n      <td>0.63</td>\n      <td>6.5</td>\n    </tr>\n    <tr>\n      <th>8</th>\n      <td>E09000010</td>\n      <td>Enfield</td>\n      <td>2004</td>\n      <td>855.0</td>\n      <td>61.1</td>\n      <td>110000</td>\n      <td>0.59</td>\n      <td>6.6</td>\n    </tr>\n    <tr>\n      <th>9</th>\n      <td>E09000011</td>\n      <td>Greenwich</td>\n      <td>2004</td>\n      <td>590.0</td>\n      <td>60.5</td>\n      <td>77000</td>\n      <td>0.50</td>\n      <td>8.0</td>\n    </tr>\n    <tr>\n      <th>10</th>\n      <td>E09000012</td>\n      <td>Hackney</td>\n      <td>2004</td>\n      <td>875.0</td>\n      <td>60.6</td>\n      <td>96000</td>\n      <td>0.65</td>\n      <td>11.4</td>\n    </tr>\n    <tr>\n      <th>11</th>\n      <td>E09000013</td>\n      <td>Hammersmith and Fulham</td>\n      <td>2004</td>\n      <td>985.0</td>\n      <td>52.8</td>\n      <td>128000</td>\n      <td>1.01</td>\n      <td>8.1</td>\n    </tr>\n    <tr>\n      <th>12</th>\n      <td>E09000014</td>\n      <td>Haringey</td>\n      <td>2004</td>\n      <td>780.0</td>\n      <td>58.0</td>\n      <td>78000</td>\n      <td>0.49</td>\n      <td>11.2</td>\n    </tr>\n    <tr>\n      <th>13</th>\n      <td>E09000015</td>\n      <td>Harrow</td>\n      <td>2004</td>\n      <td>845.0</td>\n      <td>61.7</td>\n      <td>81000</td>\n      <td>0.57</td>\n      <td>6.0</td>\n    </tr>\n    <tr>\n      <th>14</th>\n      <td>E09000016</td>\n      <td>Havering</td>\n      <td>2004</td>\n      <td>660.0</td>\n      <td>62.6</td>\n      <td>92000</td>\n      <td>0.65</td>\n      <td>4.0</td>\n    </tr>\n    <tr>\n      <th>15</th>\n      <td>E09000017</td>\n      <td>Hillingdon</td>\n      <td>2004</td>\n      <td>770.0</td>\n      <td>63.4</td>\n      <td>196000</td>\n      <td>1.20</td>\n      <td>5.1</td>\n    </tr>\n    <tr>\n      <th>16</th>\n      <td>E09000018</td>\n      <td>Hounslow</td>\n      <td>2004</td>\n      <td>780.0</td>\n      <td>59.5</td>\n      <td>130000</td>\n      <td>0.86</td>\n      <td>6.7</td>\n    </tr>\n    <tr>\n      <th>17</th>\n      <td>E09000019</td>\n      <td>Islington</td>\n      <td>2004</td>\n      <td>1120.0</td>\n      <td>59.9</td>\n      <td>179000</td>\n      <td>1.35</td>\n      <td>9.6</td>\n    </tr>\n    <tr>\n      <th>18</th>\n      <td>E09000020</td>\n      <td>Kensington and Chelsea</td>\n      <td>2004</td>\n      <td>1030.0</td>\n      <td>62.0</td>\n      <td>131000</td>\n      <td>1.09</td>\n      <td>6.0</td>\n    </tr>\n    <tr>\n      <th>19</th>\n      <td>E09000021</td>\n      <td>Kingston upon Thames</td>\n      <td>2004</td>\n      <td>555.0</td>\n      <td>63.1</td>\n      <td>84000</td>\n      <td>0.81</td>\n      <td>4.3</td>\n    </tr>\n    <tr>\n      <th>20</th>\n      <td>E09000022</td>\n      <td>Lambeth</td>\n      <td>2004</td>\n      <td>1080.0</td>\n      <td>58.4</td>\n      <td>142000</td>\n      <td>0.72</td>\n      <td>10.1</td>\n    </tr>\n    <tr>\n      <th>21</th>\n      <td>E09000023</td>\n      <td>Lewisham</td>\n      <td>2004</td>\n      <td>660.0</td>\n      <td>58.1</td>\n      <td>79000</td>\n      <td>0.46</td>\n      <td>8.9</td>\n    </tr>\n    <tr>\n      <th>22</th>\n      <td>E09000024</td>\n      <td>Merton</td>\n      <td>2004</td>\n      <td>685.0</td>\n      <td>56.8</td>\n      <td>91000</td>\n      <td>0.70</td>\n      <td>5.6</td>\n    </tr>\n    <tr>\n      <th>23</th>\n      <td>E09000025</td>\n      <td>Newham</td>\n      <td>2004</td>\n      <td>525.0</td>\n      <td>54.4</td>\n      <td>81000</td>\n      <td>0.47</td>\n      <td>10.5</td>\n    </tr>\n    <tr>\n      <th>24</th>\n      <td>E09000026</td>\n      <td>Redbridge</td>\n      <td>2004</td>\n      <td>770.0</td>\n      <td>57.9</td>\n      <td>85000</td>\n      <td>0.52</td>\n      <td>5.5</td>\n    </tr>\n    <tr>\n      <th>25</th>\n      <td>E09000027</td>\n      <td>Richmond upon Thames</td>\n      <td>2004</td>\n      <td>1015.0</td>\n      <td>68.8</td>\n      <td>82000</td>\n      <td>0.66</td>\n      <td>4.3</td>\n    </tr>\n    <tr>\n      <th>26</th>\n      <td>E09000028</td>\n      <td>Southwark</td>\n      <td>2004</td>\n      <td>1160.0</td>\n      <td>59.6</td>\n      <td>195000</td>\n      <td>1.07</td>\n      <td>10.4</td>\n    </tr>\n    <tr>\n      <th>27</th>\n      <td>E09000029</td>\n      <td>Sutton</td>\n      <td>2004</td>\n      <td>550.0</td>\n      <td>64.3</td>\n      <td>73000</td>\n      <td>0.62</td>\n      <td>4.6</td>\n    </tr>\n    <tr>\n      <th>28</th>\n      <td>E09000030</td>\n      <td>Tower Hamlets</td>\n      <td>2004</td>\n      <td>1125.0</td>\n      <td>60.6</td>\n      <td>192000</td>\n      <td>1.30</td>\n      <td>13.1</td>\n    </tr>\n    <tr>\n      <th>29</th>\n      <td>E09000031</td>\n      <td>Waltham Forest</td>\n      <td>2004</td>\n      <td>635.0</td>\n      <td>56.2</td>\n      <td>69000</td>\n      <td>0.46</td>\n      <td>9.0</td>\n    </tr>\n    <tr>\n      <th>...</th>\n      <td>...</td>\n      <td>...</td>\n      <td>...</td>\n      <td>...</td>\n      <td>...</td>\n      <td>...</td>\n      <td>...</td>\n      <td>...</td>\n    </tr>\n    <tr>\n      <th>442</th>\n      <td>E09000004</td>\n      <td>Bexley</td>\n      <td>2014</td>\n      <td>950.0</td>\n      <td>65.3</td>\n      <td>80000</td>\n      <td>0.53</td>\n      <td>5.7</td>\n    </tr>\n    <tr>\n      <th>443</th>\n      <td>E09000005</td>\n      <td>Brent</td>\n      <td>2014</td>\n      <td>1530.0</td>\n      <td>59.2</td>\n      <td>131000</td>\n      <td>0.60</td>\n      <td>7.4</td>\n    </tr>\n    <tr>\n      <th>444</th>\n      <td>E09000006</td>\n      <td>Bromley</td>\n      <td>2014</td>\n      <td>1405.0</td>\n      <td>64.2</td>\n      <td>127000</td>\n      <td>0.63</td>\n      <td>5.5</td>\n    </tr>\n    <tr>\n      <th>445</th>\n      <td>E09000007</td>\n      <td>Camden</td>\n      <td>2014</td>\n      <td>2425.0</td>\n      <td>55.4</td>\n      <td>379000</td>\n      <td>2.25</td>\n      <td>6.7</td>\n    </tr>\n    <tr>\n      <th>446</th>\n      <td>E09000008</td>\n      <td>Croydon</td>\n      <td>2014</td>\n      <td>1510.0</td>\n      <td>63.2</td>\n      <td>142000</td>\n      <td>0.58</td>\n      <td>7.2</td>\n    </tr>\n    <tr>\n      <th>447</th>\n      <td>E09000009</td>\n      <td>Ealing</td>\n      <td>2014</td>\n      <td>1940.0</td>\n      <td>62.4</td>\n      <td>159000</td>\n      <td>0.69</td>\n      <td>7.8</td>\n    </tr>\n    <tr>\n      <th>448</th>\n      <td>E09000010</td>\n      <td>Enfield</td>\n      <td>2014</td>\n      <td>1305.0</td>\n      <td>56.6</td>\n      <td>127000</td>\n      <td>0.61</td>\n      <td>8.2</td>\n    </tr>\n    <tr>\n      <th>449</th>\n      <td>E09000011</td>\n      <td>Greenwich</td>\n      <td>2014</td>\n      <td>1060.0</td>\n      <td>62.7</td>\n      <td>95000</td>\n      <td>0.52</td>\n      <td>8.9</td>\n    </tr>\n    <tr>\n      <th>450</th>\n      <td>E09000012</td>\n      <td>Hackney</td>\n      <td>2014</td>\n      <td>1985.0</td>\n      <td>61.2</td>\n      <td>131000</td>\n      <td>0.69</td>\n      <td>8.0</td>\n    </tr>\n    <tr>\n      <th>451</th>\n      <td>E09000013</td>\n      <td>Hammersmith and Fulham</td>\n      <td>2014</td>\n      <td>1340.0</td>\n      <td>56.3</td>\n      <td>148000</td>\n      <td>1.12</td>\n      <td>6.2</td>\n    </tr>\n    <tr>\n      <th>452</th>\n      <td>E09000014</td>\n      <td>Haringey</td>\n      <td>2014</td>\n      <td>1330.0</td>\n      <td>60.7</td>\n      <td>90000</td>\n      <td>0.48</td>\n      <td>8.1</td>\n    </tr>\n    <tr>\n      <th>453</th>\n      <td>E09000015</td>\n      <td>Harrow</td>\n      <td>2014</td>\n      <td>1470.0</td>\n      <td>61.5</td>\n      <td>89000</td>\n      <td>0.56</td>\n      <td>5.5</td>\n    </tr>\n    <tr>\n      <th>454</th>\n      <td>E09000016</td>\n      <td>Havering</td>\n      <td>2014</td>\n      <td>925.0</td>\n      <td>62.3</td>\n      <td>90000</td>\n      <td>0.59</td>\n      <td>6.3</td>\n    </tr>\n    <tr>\n      <th>455</th>\n      <td>E09000017</td>\n      <td>Hillingdon</td>\n      <td>2014</td>\n      <td>1290.0</td>\n      <td>62.2</td>\n      <td>220000</td>\n      <td>1.15</td>\n      <td>6.2</td>\n    </tr>\n    <tr>\n      <th>456</th>\n      <td>E09000018</td>\n      <td>Hounslow</td>\n      <td>2014</td>\n      <td>1455.0</td>\n      <td>62.7</td>\n      <td>164000</td>\n      <td>0.91</td>\n      <td>6.0</td>\n    </tr>\n    <tr>\n      <th>457</th>\n      <td>E09000019</td>\n      <td>Islington</td>\n      <td>2014</td>\n      <td>2100.0</td>\n      <td>56.5</td>\n      <td>231000</td>\n      <td>1.39</td>\n      <td>7.7</td>\n    </tr>\n    <tr>\n      <th>458</th>\n      <td>E09000020</td>\n      <td>Kensington and Chelsea</td>\n      <td>2014</td>\n      <td>1280.0</td>\n      <td>59.1</td>\n      <td>141000</td>\n      <td>1.28</td>\n      <td>5.8</td>\n    </tr>\n    <tr>\n      <th>459</th>\n      <td>E09000021</td>\n      <td>Kingston upon Thames</td>\n      <td>2014</td>\n      <td>790.0</td>\n      <td>62.2</td>\n      <td>82000</td>\n      <td>0.73</td>\n      <td>5.3</td>\n    </tr>\n    <tr>\n      <th>460</th>\n      <td>E09000022</td>\n      <td>Lambeth</td>\n      <td>2014</td>\n      <td>3270.0</td>\n      <td>58.7</td>\n      <td>180000</td>\n      <td>0.76</td>\n      <td>6.6</td>\n    </tr>\n    <tr>\n      <th>461</th>\n      <td>E09000023</td>\n      <td>Lewisham</td>\n      <td>2014</td>\n      <td>1120.0</td>\n      <td>59.9</td>\n      <td>88000</td>\n      <td>0.43</td>\n      <td>6.6</td>\n    </tr>\n    <tr>\n      <th>462</th>\n      <td>E09000024</td>\n      <td>Merton</td>\n      <td>2014</td>\n      <td>1250.0</td>\n      <td>62.7</td>\n      <td>97000</td>\n      <td>0.70</td>\n      <td>6.1</td>\n    </tr>\n    <tr>\n      <th>463</th>\n      <td>E09000025</td>\n      <td>Newham</td>\n      <td>2014</td>\n      <td>1330.0</td>\n      <td>56.2</td>\n      <td>112000</td>\n      <td>0.48</td>\n      <td>9.0</td>\n    </tr>\n    <tr>\n      <th>464</th>\n      <td>E09000026</td>\n      <td>Redbridge</td>\n      <td>2014</td>\n      <td>1535.0</td>\n      <td>59.5</td>\n      <td>89000</td>\n      <td>0.47</td>\n      <td>6.7</td>\n    </tr>\n    <tr>\n      <th>465</th>\n      <td>E09000027</td>\n      <td>Richmond upon Thames</td>\n      <td>2014</td>\n      <td>1270.0</td>\n      <td>64.0</td>\n      <td>95000</td>\n      <td>0.76</td>\n      <td>4.5</td>\n    </tr>\n    <tr>\n      <th>466</th>\n      <td>E09000028</td>\n      <td>Southwark</td>\n      <td>2014</td>\n      <td>1700.0</td>\n      <td>58.0</td>\n      <td>282000</td>\n      <td>1.27</td>\n      <td>8.0</td>\n    </tr>\n    <tr>\n      <th>467</th>\n      <td>E09000029</td>\n      <td>Sutton</td>\n      <td>2014</td>\n      <td>790.0</td>\n      <td>66.7</td>\n      <td>78000</td>\n      <td>0.61</td>\n      <td>5.3</td>\n    </tr>\n    <tr>\n      <th>468</th>\n      <td>E09000030</td>\n      <td>Tower Hamlets</td>\n      <td>2014</td>\n      <td>1965.0</td>\n      <td>56.8</td>\n      <td>278000</td>\n      <td>1.32</td>\n      <td>8.7</td>\n    </tr>\n    <tr>\n      <th>469</th>\n      <td>E09000031</td>\n      <td>Waltham Forest</td>\n      <td>2014</td>\n      <td>1250.0</td>\n      <td>59.5</td>\n      <td>84000</td>\n      <td>0.46</td>\n      <td>9.2</td>\n    </tr>\n    <tr>\n      <th>470</th>\n      <td>E09000032</td>\n      <td>Wandsworth</td>\n      <td>2014</td>\n      <td>1850.0</td>\n      <td>60.6</td>\n      <td>134000</td>\n      <td>0.57</td>\n      <td>4.9</td>\n    </tr>\n    <tr>\n      <th>471</th>\n      <td>E09000033</td>\n      <td>Westminster</td>\n      <td>2014</td>\n      <td>4380.0</td>\n      <td>53.1</td>\n      <td>737000</td>\n      <td>4.45</td>\n      <td>6.1</td>\n    </tr>\n  </tbody>\n</table>\n<p>352 rows × 8 columns</p>\n</div>",
            "text/plain": "          code                    area  year  3_year_survival_number  \\\n0    E09000002    Barking and Dagenham  2004                   290.0   \n1    E09000003                  Barnet  2004                  1385.0   \n2    E09000004                  Bexley  2004                   565.0   \n3    E09000005                   Brent  2004                   995.0   \n4    E09000006                 Bromley  2004                  1015.0   \n5    E09000007                  Camden  2004                  1810.0   \n6    E09000008                 Croydon  2004                  1000.0   \n7    E09000009                  Ealing  2004                  1210.0   \n8    E09000010                 Enfield  2004                   855.0   \n9    E09000011               Greenwich  2004                   590.0   \n10   E09000012                 Hackney  2004                   875.0   \n11   E09000013  Hammersmith and Fulham  2004                   985.0   \n12   E09000014                Haringey  2004                   780.0   \n13   E09000015                  Harrow  2004                   845.0   \n14   E09000016                Havering  2004                   660.0   \n15   E09000017              Hillingdon  2004                   770.0   \n16   E09000018                Hounslow  2004                   780.0   \n17   E09000019               Islington  2004                  1120.0   \n18   E09000020  Kensington and Chelsea  2004                  1030.0   \n19   E09000021    Kingston upon Thames  2004                   555.0   \n20   E09000022                 Lambeth  2004                  1080.0   \n21   E09000023                Lewisham  2004                   660.0   \n22   E09000024                  Merton  2004                   685.0   \n23   E09000025                  Newham  2004                   525.0   \n24   E09000026               Redbridge  2004                   770.0   \n25   E09000027    Richmond upon Thames  2004                  1015.0   \n26   E09000028               Southwark  2004                  1160.0   \n27   E09000029                  Sutton  2004                   550.0   \n28   E09000030           Tower Hamlets  2004                  1125.0   \n29   E09000031          Waltham Forest  2004                   635.0   \n..         ...                     ...   ...                     ...   \n442  E09000004                  Bexley  2014                   950.0   \n443  E09000005                   Brent  2014                  1530.0   \n444  E09000006                 Bromley  2014                  1405.0   \n445  E09000007                  Camden  2014                  2425.0   \n446  E09000008                 Croydon  2014                  1510.0   \n447  E09000009                  Ealing  2014                  1940.0   \n448  E09000010                 Enfield  2014                  1305.0   \n449  E09000011               Greenwich  2014                  1060.0   \n450  E09000012                 Hackney  2014                  1985.0   \n451  E09000013  Hammersmith and Fulham  2014                  1340.0   \n452  E09000014                Haringey  2014                  1330.0   \n453  E09000015                  Harrow  2014                  1470.0   \n454  E09000016                Havering  2014                   925.0   \n455  E09000017              Hillingdon  2014                  1290.0   \n456  E09000018                Hounslow  2014                  1455.0   \n457  E09000019               Islington  2014                  2100.0   \n458  E09000020  Kensington and Chelsea  2014                  1280.0   \n459  E09000021    Kingston upon Thames  2014                   790.0   \n460  E09000022                 Lambeth  2014                  3270.0   \n461  E09000023                Lewisham  2014                  1120.0   \n462  E09000024                  Merton  2014                  1250.0   \n463  E09000025                  Newham  2014                  1330.0   \n464  E09000026               Redbridge  2014                  1535.0   \n465  E09000027    Richmond upon Thames  2014                  1270.0   \n466  E09000028               Southwark  2014                  1700.0   \n467  E09000029                  Sutton  2014                   790.0   \n468  E09000030           Tower Hamlets  2014                  1965.0   \n469  E09000031          Waltham Forest  2014                  1250.0   \n470  E09000032              Wandsworth  2014                  1850.0   \n471  E09000033             Westminster  2014                  4380.0   \n\n     3_year_survival_rate  number_of_jobs  job_density  unemployment_rate  \n0                    60.4           53000         0.51                8.3  \n1                    56.9          135000         0.63                6.3  \n2                    60.1           85000         0.61                4.1  \n3                    55.3          119000         0.65                9.1  \n4                    63.8          126000         0.67                4.7  \n5                    63.7          278000         1.82                7.6  \n6                    61.3          153000         0.69                6.2  \n7                    57.2          136000         0.63                6.5  \n8                    61.1          110000         0.59                6.6  \n9                    60.5           77000         0.50                8.0  \n10                   60.6           96000         0.65               11.4  \n11                   52.8          128000         1.01                8.1  \n12                   58.0           78000         0.49               11.2  \n13                   61.7           81000         0.57                6.0  \n14                   62.6           92000         0.65                4.0  \n15                   63.4          196000         1.20                5.1  \n16                   59.5          130000         0.86                6.7  \n17                   59.9          179000         1.35                9.6  \n18                   62.0          131000         1.09                6.0  \n19                   63.1           84000         0.81                4.3  \n20                   58.4          142000         0.72               10.1  \n21                   58.1           79000         0.46                8.9  \n22                   56.8           91000         0.70                5.6  \n23                   54.4           81000         0.47               10.5  \n24                   57.9           85000         0.52                5.5  \n25                   68.8           82000         0.66                4.3  \n26                   59.6          195000         1.07               10.4  \n27                   64.3           73000         0.62                4.6  \n28                   60.6          192000         1.30               13.1  \n29                   56.2           69000         0.46                9.0  \n..                    ...             ...          ...                ...  \n442                  65.3           80000         0.53                5.7  \n443                  59.2          131000         0.60                7.4  \n444                  64.2          127000         0.63                5.5  \n445                  55.4          379000         2.25                6.7  \n446                  63.2          142000         0.58                7.2  \n447                  62.4          159000         0.69                7.8  \n448                  56.6          127000         0.61                8.2  \n449                  62.7           95000         0.52                8.9  \n450                  61.2          131000         0.69                8.0  \n451                  56.3          148000         1.12                6.2  \n452                  60.7           90000         0.48                8.1  \n453                  61.5           89000         0.56                5.5  \n454                  62.3           90000         0.59                6.3  \n455                  62.2          220000         1.15                6.2  \n456                  62.7          164000         0.91                6.0  \n457                  56.5          231000         1.39                7.7  \n458                  59.1          141000         1.28                5.8  \n459                  62.2           82000         0.73                5.3  \n460                  58.7          180000         0.76                6.6  \n461                  59.9           88000         0.43                6.6  \n462                  62.7           97000         0.70                6.1  \n463                  56.2          112000         0.48                9.0  \n464                  59.5           89000         0.47                6.7  \n465                  64.0           95000         0.76                4.5  \n466                  58.0          282000         1.27                8.0  \n467                  66.7           78000         0.61                5.3  \n468                  56.8          278000         1.32                8.7  \n469                  59.5           84000         0.46                9.2  \n470                  60.6          134000         0.57                4.9  \n471                  53.1          737000         4.45                6.1  \n\n[352 rows x 8 columns]"
          },
          "metadata": {}
        }
      ]
    },
    {
      "metadata": {
        "trusted": true
      },
      "cell_type": "code",
      "source": "boroughs = df['area'].unique().tolist()\n\nshap_arr = []\nk2_arr = []\nindex = 0\nfor borough in boroughs:\n    plt.figure(index)\n    index += 1\n    stat, p = stats.shapiro(df[df['area'] == borough]['unemployment_rate'])\n    #print(len(df[df['area'] == borough]['unemployment_rate']))\n    #print()\n    plt.scatter()\n    #print('Borough=%s, Statistics=%.3f, p=%.3f' % (borough, stat, p))\n    # interpret\n    alpha = 0.05\n    if p <= alpha:\n        shap_arr.append((borough, stat, p))\n        #print(df[df['area'] == borough]['unemployment_rate'])\n        #plt.hist(df[df['area'] == borough]['unemployment_rate'], bins=25)\n\n        print(\"Shapiro-Wilk's Test not passed (reject H0)\", end='\\n')\n        \n    stat, p = stats.normaltest(df[df['area'] == borough]['unemployment_rate'])\n    # print('Statistics=%.3f, p=%.3f' % (borough, stat, p))\n    # interpret\n    #alpha = 0.05\n    if p <= alpha:\n        k2_arr.append((borough, stat, p))\n        print('D’Agostino’s K^2 Test not passed (reject H0)', end='\\n')\n\nif len(shap_arr)!= 0:\n    print(shap_arr, end='\\n')\nprint()\nif len(k2_arr)!= 0:\n    print(k2_arr, end='\\n')",
      "execution_count": 19,
      "outputs": [
        {
          "output_type": "stream",
          "text": "14\n\n14\n\n14\n\n14\n\n14\n\n14\n\n14\n\n14\n\n14\n\n14\n\n14\n\nShapiro-Wilk's Test not passed (reject H0)\n14\n\n14\n\n14\n\n14\n\n14\n\n14\n\n14\n\n14\n\n14\n\n14\n\nShapiro-Wilk's Test not passed (reject H0)\n14\n\n14\n\n14\n\n14\n\n14\n\nD’Agostino’s K^2 Test not passed (reject H0)\n14\n\n14\n\n14\n\nShapiro-Wilk's Test not passed (reject H0)\n14\n\n14\n\n14\n\n14\n\n14\n\nShapiro-Wilk's Test not passed (reject H0)\nD’Agostino’s K^2 Test not passed (reject H0)\n14\n\nShapiro-Wilk's Test not passed (reject H0)\n14\n\nShapiro-Wilk's Test not passed (reject H0)\n14\n\nShapiro-Wilk's Test not passed (reject H0)\n14\n\n14\n\n14\n\nShapiro-Wilk's Test not passed (reject H0)\nD’Agostino’s K^2 Test not passed (reject H0)\n14\n\nShapiro-Wilk's Test not passed (reject H0)\nD’Agostino’s K^2 Test not passed (reject H0)\n14\n\nShapiro-Wilk's Test not passed (reject H0)\nD’Agostino’s K^2 Test not passed (reject H0)\n14\n\n14\n\nShapiro-Wilk's Test not passed (reject H0)\nD’Agostino’s K^2 Test not passed (reject H0)\n[('Hackney', 0.8298305869102478, 0.011958095245063305), ('Lambeth', 0.867729902267456, 0.038996025919914246), ('Tower Hamlets', 0.8577800393104553, 0.028374049812555313), ('North West', 0.8602548241615295, 0.030694255605340004), ('East Midlands', 0.8571475744247437, 0.027811240404844284), ('West Midlands', 0.8435297012329102, 0.018163813278079033), ('East', 0.8655446767807007, 0.03634941205382347), ('South West', 0.8460124731063843, 0.019615639001131058), ('England', 0.8559077978134155, 0.02674189582467079), ('Wales', 0.8487377166748047, 0.02135174721479416), ('Great Britain', 0.8516279458999634, 0.023371703922748566)]\n\n[('Richmond upon Thames', 6.90747600268379, 0.031627192655997824), ('North West', 6.812415769886408, 0.033166734278395026), ('South West', 7.5409001178596755, 0.023041690834574517), ('England', 6.318138256293354, 0.04246525239587215), ('Wales', 6.885157102101228, 0.03198211140610965), ('Great Britain', 6.21999078075828, 0.044601160934242504)]\n",
          "name": "stdout"
        }
      ]
    },
    {
      "metadata": {
        "trusted": true
      },
      "cell_type": "code",
      "source": "df.to_csv(PROC_DATA_PATH + 'borough-unemployment-and-business-data.csv')",
      "execution_count": null,
      "outputs": []
    },
    {
      "metadata": {
        "trusted": true
      },
      "cell_type": "code",
      "source": "df['unemployment_rate'].describe()",
      "execution_count": 162,
      "outputs": [
        {
          "output_type": "execute_result",
          "execution_count": 162,
          "data": {
            "text/plain": "count    352.000000\nmean       8.026705\nstd        2.247575\nmin        3.500000\n25%        6.400000\n50%        7.800000\n75%        9.425000\nmax       14.200000\nName: unemployment_rate, dtype: float64"
          },
          "metadata": {}
        }
      ]
    },
    {
      "metadata": {
        "trusted": true
      },
      "cell_type": "code",
      "source": "hplot = sns.distplot(df['unemployment_rate'], kde=False, color='blue', bins=100)\nplt.title('Unemployment Rate in london', fontsize=18)\nplt.xlabel('Unemployment % Per Borough', fontsize=16)\nplt.ylabel('Frequency', fontsize=16)\nplot_file_name=\"Unemployment_rate_in_london_by_borough.jpg\"\nhplot.figure.savefig(plot_file_name,\n                    format='jpeg',\n                    dpi=100)",
      "execution_count": 185,
      "outputs": [
        {
          "output_type": "display_data",
          "data": {
            "image/png": "[encoded data removed]",
            "text/plain": "<Figure size 432x288 with 1 Axes>"
          },
          "metadata": {
            "needs_background": "light"
          }
        }
      ]
    },
    {
      "metadata": {
        "trusted": true
      },
      "cell_type": "code",
      "source": "sns.scatterplot('unemployment_rate','3_year_survival_rate',data=df)\nplt.title('Unemployment vs Survival rate of businesses in London', fontsize=18)\nplt.ylabel('Business 3 year survival rate', fontsize=13)\nplt.xlabel('Unemployment', fontsize=16)",
      "execution_count": 186,
      "outputs": [
        {
          "output_type": "execute_result",
          "execution_count": 186,
          "data": {
            "text/plain": "Text(0.5, 0, 'Unemployment')"
          },
          "metadata": {}
        },
        {
          "output_type": "display_data",
          "data": {
            "image/png": "[encoded data removed]",
            "text/plain": "<Figure size 432x288 with 1 Axes>"
          },
          "metadata": {
            "needs_background": "light"
          }
        }
      ]
    },
    {
      "metadata": {
        "trusted": true
      },
      "cell_type": "code",
      "source": "sns.scatterplot('unemployment_rate','job_density',data=df)\nplt.title('Unemployment vs Job density in London', fontsize=18)\nplt.ylabel('Business 3 year survival rate', fontsize=13)\nplt.xlabel('Unemployment', fontsize=16)",
      "execution_count": 187,
      "outputs": [
        {
          "output_type": "execute_result",
          "execution_count": 187,
          "data": {
            "text/plain": "Text(0.5, 0, 'Unemployment')"
          },
          "metadata": {}
        },
        {
          "output_type": "display_data",
          "data": {
            "image/png": "[encoded data removed]",
            "text/plain": "<Figure size 432x288 with 1 Axes>"
          },
          "metadata": {
            "needs_background": "light"
          }
        }
      ]
    },
    {
      "metadata": {
        "trusted": true
      },
      "cell_type": "code",
      "source": "df[\"unemployment_rate_r\"] = df['unemployment_rate'].rank()\ndf[\"3_year_survival_rate_r\"] = df['3_year_survival_rate'].rank()\ndf['job_density_r'] = df['job_density'].rank()",
      "execution_count": 188,
      "outputs": []
    },
    {
      "metadata": {
        "trusted": true
      },
      "cell_type": "code",
      "source": "np.corrcoef(df['unemployment_rate_r'], df['job_density_r'])",
      "execution_count": 189,
      "outputs": [
        {
          "output_type": "execute_result",
          "execution_count": 189,
          "data": {
            "text/plain": "array([[ 1.        , -0.24094071],\n       [-0.24094071,  1.        ]])"
          },
          "metadata": {}
        }
      ]
    },
    {
      "metadata": {
        "trusted": true
      },
      "cell_type": "code",
      "source": "np.corrcoef(df['unemployment_rate_r'], df['3_year_survival_rate_r'])",
      "execution_count": 190,
      "outputs": [
        {
          "output_type": "execute_result",
          "execution_count": 190,
          "data": {
            "text/plain": "array([[ 1.        , -0.43170871],\n       [-0.43170871,  1.        ]])"
          },
          "metadata": {}
        }
      ]
    },
    {
      "metadata": {
        "trusted": true
      },
      "cell_type": "code",
      "source": "stats.spearmanr(df['unemployment_rate_r'],df['3_year_survival_rate_r'])",
      "execution_count": 191,
      "outputs": [
        {
          "output_type": "execute_result",
          "execution_count": 191,
          "data": {
            "text/plain": "SpearmanrResult(correlation=-0.43170870605076617, pvalue=2.0590525965516225e-17)"
          },
          "metadata": {}
        }
      ]
    },
    {
      "metadata": {
        "trusted": true
      },
      "cell_type": "code",
      "source": "fig = plt.figure()\nax = fig.add_subplot(111, projection='3d')\n\ns = [u'+', u'+', u'o']\ncol = ['b','r','g']\n\nax.scatter(df['unemployment_rate'], df['3_year_survival_rate'],df['job_density'], marker=_s, c=c)\n#plt.savefig('3d_plot.png', format='jpeg', dpi=500)\nax.set_xlabel('Unemployment')\nax.set_ylabel('3 Year Survival Rate of Businesses')\nax.set_zlabel('Job Density')",
      "execution_count": 197,
      "outputs": [
        {
          "output_type": "execute_result",
          "execution_count": 197,
          "data": {
            "text/plain": "Text(0.5, 0, 'Job Density')"
          },
          "metadata": {}
        },
        {
          "output_type": "display_data",
          "data": {
            "image/png": "[encoded data removed]",
            "text/plain": "<Figure size 432x288 with 1 Axes>"
          },
          "metadata": {
            "needs_background": "light"
          }
        }
      ]
    },
    {
      "metadata": {
        "trusted": true
      },
      "cell_type": "code",
      "source": "import matplotlib.rcsetup as rcsetup\nprint(rcsetup.all_backends)",
      "execution_count": 193,
      "outputs": [
        {
          "output_type": "stream",
          "text": "['GTK3Agg', 'GTK3Cairo', 'MacOSX', 'nbAgg', 'Qt4Agg', 'Qt4Cairo', 'Qt5Agg', 'Qt5Cairo', 'TkAgg', 'TkCairo', 'WebAgg', 'WX', 'WXAgg', 'WXCairo', 'agg', 'cairo', 'pdf', 'pgf', 'ps', 'svg', 'template']\n",
          "name": "stdout"
        }
      ]
    },
    {
      "metadata": {
        "trusted": true
      },
      "cell_type": "code",
      "source": "import matplotlib\nmatplotlib.matplotlib_fname()",
      "execution_count": 194,
      "outputs": [
        {
          "output_type": "execute_result",
          "execution_count": 194,
          "data": {
            "text/plain": "'/home/nbuser/anaconda3_501/lib/python3.6/site-packages/matplotlib/mpl-data/matplotlibrc'"
          },
          "metadata": {}
        }
      ]
    },
    {
      "metadata": {
        "trusted": true
      },
      "cell_type": "code",
      "source": "fig = px.scatter_3d(df, x='job_density',y='3_year_survival_rate',z='unemployment_rate',\n              color='unemployment_rate', size_max=18, opacity=0.7)\n\n# tight layout\nfig.update_layout(margin=dict(l=0, r=0, b=0, t=0))",
      "execution_count": 204,
      "outputs": [
        {
          "output_type": "display_data",
          "data": {
            "text/html": "<div>\n        \n        \n            <div id=\"0c761236-a533-41fb-99dc-97dcfb68f370\" class=\"plotly-graph-div\" style=\"height:600px; width:100%;\"></div>\n            <script type=\"text/javascript\">\n                require([\"plotly\"], function(Plotly) {\n                    window.PLOTLYENV=window.PLOTLYENV || {};\n                    \n                if (document.getElementById(\"0c761236-a533-41fb-99dc-97dcfb68f370\")) {\n                    Plotly.newPlot(\n                        '0c761236-a533-41fb-99dc-97dcfb68f370',\n                        [{\"hoverlabel\": {\"namelength\": 0}, \"hovertemplate\": \"job_density=%{x}<br>3_year_survival_rate=%{y}<br>unemployment_rate=%{marker.color}\", \"legendgroup\": \"\", \"marker\": {\"color\": [8.3, 6.3, 4.1, 9.1, 4.7, 6.2, 6.5, 6.6, 8.0, 11.4, 8.1, 11.2, 6.0, 4.0, 5.1, 6.7, 9.6, 6.0, 4.3, 10.1, 8.9, 5.6, 10.5, 5.5, 4.3, 10.4, 4.6, 13.1, 9.0, 5.7, 9.1, 7.0, 5.0, 7.9, 4.7, 7.0, 7.7, 8.8, 8.8, 10.6, 6.9, 8.2, 6.2, 4.8, 6.5, 6.4, 8.5, 5.9, 5.0, 8.6, 7.4, 6.8, 9.3, 7.3, 4.1, 8.5, 4.7, 11.8, 9.1, 6.0, 9.5, 6.8, 5.5, 9.1, 5.1, 6.6, 7.3, 6.7, 8.0, 11.6, 7.9, 9.3, 6.7, 4.8, 6.8, 7.6, 8.9, 6.9, 4.7, 9.1, 8.3, 6.5, 11.7, 7.2, 4.1, 9.5, 5.1, 14.0, 8.4, 7.2, 7.8, 5.2, 4.4, 8.7, 4.4, 6.0, 6.4, 6.7, 7.3, 11.4, 7.0, 9.7, 4.9, 3.9, 5.8, 5.5, 7.9, 5.7, 4.1, 9.9, 9.7, 4.7, 11.4, 6.1, 3.5, 9.4, 4.7, 11.7, 7.6, 5.5, 8.6, 6.4, 5.6, 7.3, 4.5, 6.1, 6.9, 8.3, 7.9, 9.0, 7.7, 9.0, 6.0, 5.0, 5.6, 5.9, 7.9, 6.4, 4.8, 8.8, 7.9, 5.3, 10.1, 7.2, 3.7, 8.4, 4.4, 11.3, 8.7, 5.5, 11.9, 7.5, 8.2, 9.4, 6.2, 9.0, 10.3, 11.2, 10.8, 11.0, 9.1, 12.8, 7.4, 7.9, 7.5, 8.0, 11.0, 7.6, 5.5, 10.4, 10.3, 6.8, 13.9, 8.9, 5.0, 10.7, 5.7, 13.6, 11.1, 6.3, 13.1, 7.0, 8.5, 8.9, 6.9, 8.1, 9.2, 9.9, 9.7, 10.4, 8.5, 10.6, 6.6, 8.5, 9.3, 7.6, 9.3, 7.0, 6.9, 9.3, 10.5, 7.0, 12.8, 8.9, 5.9, 10.0, 7.2, 11.9, 11.2, 7.0, 13.0, 8.0, 8.0, 10.8, 6.9, 10.8, 10.0, 12.0, 10.8, 10.7, 8.1, 11.5, 7.0, 8.2, 7.8, 7.9, 9.5, 7.3, 6.6, 10.4, 10.4, 7.8, 14.2, 10.5, 4.8, 11.7, 7.0, 13.0, 11.5, 6.5, 13.5, 8.9, 7.6, 10.3, 6.6, 10.4, 10.9, 11.4, 10.7, 10.8, 8.6, 10.3, 7.8, 9.4, 8.2, 7.5, 9.6, 6.4, 6.3, 10.0, 10.5, 7.3, 12.5, 9.4, 4.6, 10.0, 6.7, 12.2, 10.8, 6.6, 13.6, 6.5, 8.1, 9.8, 6.1, 8.7, 10.2, 9.4, 10.4, 10.9, 8.0, 9.6, 8.0, 8.9, 7.6, 7.3, 9.9, 7.0, 5.6, 8.7, 9.9, 6.0, 11.6, 9.1, 4.2, 11.0, 6.4, 13.1, 9.4, 7.5, 10.7, 6.4, 5.7, 7.4, 5.5, 7.2, 7.8, 8.2, 8.9, 8.0, 6.2, 8.1, 5.5, 6.3, 6.2, 6.0, 7.7, 5.8, 5.3, 6.6, 6.6, 6.1, 9.0, 6.7, 4.5, 8.0, 5.3, 8.7, 9.2, 4.9], \"coloraxis\": \"coloraxis\", \"opacity\": 0.7, \"symbol\": \"circle\"}, \"mode\": \"markers\", \"name\": \"\", \"scene\": \"scene\", \"showlegend\": false, \"type\": \"scatter3d\", \"x\": [0.51, 0.63, 0.61, 0.65, 0.67, 0.69, 0.63, 0.59, 0.5, 0.65, 1.01, 0.49, 0.57, 0.65, 1.2, 0.86, 1.35, 1.09, 0.81, 0.72, 0.46, 0.7, 0.47, 0.52, 0.66, 1.07, 0.62, 1.3, 0.46, 0.61, 0.51, 0.63, 0.57, 0.64, 0.66, 0.67, 0.63, 0.62, 0.52, 0.63, 1.05, 0.52, 0.56, 0.63, 1.18, 0.9, 1.42, 1.09, 0.78, 0.69, 0.45, 0.65, 0.49, 0.51, 0.7, 1.08, 0.6, 1.31, 0.5, 0.59, 0.49, 0.63, 0.52, 0.58, 0.66, 0.66, 0.62, 0.56, 0.51, 0.57, 1.02, 0.5, 0.56, 0.6, 1.2, 0.83, 1.32, 1.09, 0.92, 0.67, 0.41, 0.6, 0.46, 0.44, 0.67, 1.09, 0.59, 1.31, 0.44, 0.59, 0.49, 0.62, 0.52, 0.57, 0.71, 0.67, 0.63, 0.57, 0.51, 0.6, 1.02, 0.49, 0.55, 0.56, 1.19, 0.84, 1.43, 1.08, 0.8, 0.66, 0.41, 0.58, 0.44, 0.46, 0.72, 1.13, 0.59, 1.3, 0.42, 0.59, 0.48, 0.63, 0.51, 0.54, 0.67, 0.63, 0.58, 0.57, 0.5, 0.59, 1.02, 0.45, 0.5, 0.59, 1.19, 0.83, 1.44, 1.1, 0.8, 0.66, 0.41, 0.6, 0.41, 0.48, 0.73, 1.22, 0.66, 1.3, 0.41, 0.59, 0.42, 0.63, 0.5, 0.53, 0.61, 0.57, 0.56, 0.54, 0.49, 0.6, 0.98, 0.42, 0.5, 0.54, 1.12, 0.82, 1.4, 1.1, 0.78, 0.69, 0.4, 0.58, 0.41, 0.45, 0.68, 1.15, 0.58, 1.23, 0.41, 0.56, 0.44, 0.61, 0.53, 0.54, 0.61, 0.58, 0.55, 0.56, 0.49, 0.58, 1.03, 0.4, 0.5, 0.55, 1.08, 0.83, 1.32, 1.11, 0.78, 0.68, 0.38, 0.57, 0.38, 0.43, 0.68, 1.09, 0.59, 1.22, 0.38, 0.52, 0.45, 0.62, 0.53, 0.53, 0.61, 0.56, 0.63, 0.54, 0.47, 0.63, 1.03, 0.41, 0.48, 0.55, 1.11, 0.85, 1.29, 1.2, 0.73, 0.66, 0.39, 0.62, 0.41, 0.42, 0.76, 1.16, 0.62, 1.32, 0.4, 0.55, 0.46, 0.65, 0.53, 0.57, 0.62, 0.58, 0.64, 0.57, 0.46, 0.62, 1.09, 0.44, 0.5, 0.56, 1.15, 0.9, 1.3, 1.28, 0.73, 0.66, 0.4, 0.65, 0.44, 0.47, 0.74, 1.25, 0.63, 1.3, 0.43, 0.59, 0.44, 0.66, 0.54, 0.57, 0.64, 0.53, 0.65, 0.57, 0.48, 0.6, 1.05, 0.46, 0.5, 0.6, 1.14, 0.94, 1.36, 1.27, 0.72, 0.72, 0.41, 0.69, 0.46, 0.45, 0.76, 1.17, 0.61, 1.33, 0.45, 0.58, 0.47, 0.68, 0.53, 0.6, 0.63, 0.58, 0.69, 0.61, 0.52, 0.69, 1.12, 0.48, 0.56, 0.59, 1.15, 0.91, 1.39, 1.28, 0.73, 0.76, 0.43, 0.7, 0.48, 0.47, 0.76, 1.27, 0.61, 1.32, 0.46, 0.57], \"y\": [60.4, 56.9, 60.1, 55.3, 63.8, 61.3, 57.2, 61.1, 60.5, 60.6, 52.8, 58.0, 61.7, 62.6, 63.4, 59.5, 59.9, 62.0, 63.1, 58.4, 58.1, 56.8, 54.4, 57.9, 68.8, 59.6, 64.3, 60.6, 56.2, 55.3, 57.0, 60.8, 64.4, 60.1, 64.3, 60.0, 59.4, 63.8, 62.5, 62.9, 56.2, 57.2, 63.4, 65.4, 63.8, 60.0, 64.6, 64.4, 64.7, 60.1, 58.9, 58.3, 51.3, 58.0, 67.7, 63.4, 67.3, 61.6, 57.2, 57.2, 62.9, 62.3, 69.3, 59.7, 68.0, 60.4, 62.5, 64.6, 61.7, 64.7, 60.9, 61.1, 65.4, 68.9, 63.9, 64.7, 65.9, 67.1, 65.3, 62.2, 64.3, 61.3, 57.2, 57.6, 65.6, 62.8, 67.9, 63.1, 61.5, 62.9, 56.5, 59.7, 61.6, 55.5, 61.4, 60.5, 55.4, 58.7, 58.1, 61.9, 54.7, 61.9, 65.2, 59.5, 63.2, 59.2, 62.9, 59.7, 65.0, 57.8, 58.3, 61.4, 53.8, 57.9, 64.5, 58.6, 64.4, 57.2, 56.4, 56.5, 49.3, 53.4, 59.1, 54.1, 52.9, 55.2, 54.5, 54.2, 50.7, 53.2, 49.0, 52.3, 58.9, 53.9, 59.9, 55.0, 53.6, 53.8, 57.6, 50.4, 51.2, 56.6, 44.9, 51.8, 60.9, 48.9, 59.0, 49.9, 53.9, 53.3, 52.0, 53.1, 63.2, 56.1, 59.8, 58.6, 58.2, 55.7, 59.2, 61.3, 53.8, 56.1, 58.1, 59.2, 58.5, 57.6, 56.5, 57.6, 65.2, 58.1, 56.3, 57.6, 53.7, 53.9, 63.6, 56.2, 60.8, 55.7, 54.9, 61.3, 52.8, 51.4, 55.4, 54.6, 60.0, 53.2, 54.8, 52.5, 56.1, 55.4, 53.4, 54.3, 56.8, 57.3, 58.0, 60.1, 55.2, 54.0, 57.6, 57.2, 55.3, 58.4, 48.1, 52.8, 61.8, 55.1, 59.6, 52.6, 51.2, 58.6, 54.5, 57.7, 58.7, 56.7, 62.7, 60.1, 57.5, 56.5, 56.8, 60.9, 56.0, 58.3, 59.2, 58.7, 60.9, 59.9, 61.5, 58.3, 65.0, 59.1, 56.7, 61.5, 52.5, 58.8, 62.0, 55.9, 65.7, 58.4, 52.0, 62.1, 56.2, 56.3, 59.2, 55.4, 62.3, 58.4, 58.7, 59.1, 56.4, 58.6, 52.5, 56.7, 59.8, 63.1, 60.1, 58.2, 52.9, 54.0, 65.8, 42.1, 59.0, 57.2, 52.1, 56.0, 60.8, 55.1, 63.2, 53.7, 54.2, 57.6, 58.2, 58.4, 60.4, 59.6, 65.6, 59.7, 61.4, 57.5, 55.7, 62.0, 58.3, 60.2, 62.9, 61.0, 61.0, 62.0, 56.9, 58.9, 62.9, 47.5, 54.8, 64.0, 52.6, 60.2, 63.7, 59.2, 61.4, 54.9, 57.5, 59.4, 58.8, 57.6, 65.3, 59.2, 64.2, 63.2, 62.4, 56.6, 62.7, 61.2, 56.3, 60.7, 61.5, 62.3, 62.2, 62.7, 56.5, 59.1, 62.2, 58.7, 59.9, 62.7, 56.2, 59.5, 64.0, 58.0, 66.7, 56.8, 59.5, 60.6], \"z\": [8.3, 6.3, 4.1, 9.1, 4.7, 6.2, 6.5, 6.6, 8.0, 11.4, 8.1, 11.2, 6.0, 4.0, 5.1, 6.7, 9.6, 6.0, 4.3, 10.1, 8.9, 5.6, 10.5, 5.5, 4.3, 10.4, 4.6, 13.1, 9.0, 5.7, 9.1, 7.0, 5.0, 7.9, 4.7, 7.0, 7.7, 8.8, 8.8, 10.6, 6.9, 8.2, 6.2, 4.8, 6.5, 6.4, 8.5, 5.9, 5.0, 8.6, 7.4, 6.8, 9.3, 7.3, 4.1, 8.5, 4.7, 11.8, 9.1, 6.0, 9.5, 6.8, 5.5, 9.1, 5.1, 6.6, 7.3, 6.7, 8.0, 11.6, 7.9, 9.3, 6.7, 4.8, 6.8, 7.6, 8.9, 6.9, 4.7, 9.1, 8.3, 6.5, 11.7, 7.2, 4.1, 9.5, 5.1, 14.0, 8.4, 7.2, 7.8, 5.2, 4.4, 8.7, 4.4, 6.0, 6.4, 6.7, 7.3, 11.4, 7.0, 9.7, 4.9, 3.9, 5.8, 5.5, 7.9, 5.7, 4.1, 9.9, 9.7, 4.7, 11.4, 6.1, 3.5, 9.4, 4.7, 11.7, 7.6, 5.5, 8.6, 6.4, 5.6, 7.3, 4.5, 6.1, 6.9, 8.3, 7.9, 9.0, 7.7, 9.0, 6.0, 5.0, 5.6, 5.9, 7.9, 6.4, 4.8, 8.8, 7.9, 5.3, 10.1, 7.2, 3.7, 8.4, 4.4, 11.3, 8.7, 5.5, 11.9, 7.5, 8.2, 9.4, 6.2, 9.0, 10.3, 11.2, 10.8, 11.0, 9.1, 12.8, 7.4, 7.9, 7.5, 8.0, 11.0, 7.6, 5.5, 10.4, 10.3, 6.8, 13.9, 8.9, 5.0, 10.7, 5.7, 13.6, 11.1, 6.3, 13.1, 7.0, 8.5, 8.9, 6.9, 8.1, 9.2, 9.9, 9.7, 10.4, 8.5, 10.6, 6.6, 8.5, 9.3, 7.6, 9.3, 7.0, 6.9, 9.3, 10.5, 7.0, 12.8, 8.9, 5.9, 10.0, 7.2, 11.9, 11.2, 7.0, 13.0, 8.0, 8.0, 10.8, 6.9, 10.8, 10.0, 12.0, 10.8, 10.7, 8.1, 11.5, 7.0, 8.2, 7.8, 7.9, 9.5, 7.3, 6.6, 10.4, 10.4, 7.8, 14.2, 10.5, 4.8, 11.7, 7.0, 13.0, 11.5, 6.5, 13.5, 8.9, 7.6, 10.3, 6.6, 10.4, 10.9, 11.4, 10.7, 10.8, 8.6, 10.3, 7.8, 9.4, 8.2, 7.5, 9.6, 6.4, 6.3, 10.0, 10.5, 7.3, 12.5, 9.4, 4.6, 10.0, 6.7, 12.2, 10.8, 6.6, 13.6, 6.5, 8.1, 9.8, 6.1, 8.7, 10.2, 9.4, 10.4, 10.9, 8.0, 9.6, 8.0, 8.9, 7.6, 7.3, 9.9, 7.0, 5.6, 8.7, 9.9, 6.0, 11.6, 9.1, 4.2, 11.0, 6.4, 13.1, 9.4, 7.5, 10.7, 6.4, 5.7, 7.4, 5.5, 7.2, 7.8, 8.2, 8.9, 8.0, 6.2, 8.1, 5.5, 6.3, 6.2, 6.0, 7.7, 5.8, 5.3, 6.6, 6.6, 6.1, 9.0, 6.7, 4.5, 8.0, 5.3, 8.7, 9.2, 4.9]}],\n                        {\"coloraxis\": {\"colorbar\": {\"title\": {\"text\": \"unemployment_rate\"}}, \"colorscale\": [[0.0, \"#0d0887\"], [0.1111111111111111, \"#46039f\"], [0.2222222222222222, \"#7201a8\"], [0.3333333333333333, \"#9c179e\"], [0.4444444444444444, \"#bd3786\"], [0.5555555555555556, \"#d8576b\"], [0.6666666666666666, \"#ed7953\"], [0.7777777777777778, \"#fb9f3a\"], [0.8888888888888888, \"#fdca26\"], [1.0, \"#f0f921\"]]}, \"height\": 600, \"legend\": {\"tracegroupgap\": 0}, \"margin\": {\"b\": 0, \"l\": 0, \"r\": 0, \"t\": 0}, \"scene\": {\"domain\": {\"x\": [0.0, 0.98], \"y\": [0.0, 1.0]}, \"xaxis\": {\"title\": {\"text\": \"job_density\"}}, \"yaxis\": {\"title\": {\"text\": \"3_year_survival_rate\"}}, \"zaxis\": {\"title\": {\"text\": \"unemployment_rate\"}}}, \"template\": {\"data\": {\"bar\": [{\"error_x\": {\"color\": \"#2a3f5f\"}, \"error_y\": {\"color\": \"#2a3f5f\"}, \"marker\": {\"line\": {\"color\": \"#E5ECF6\", \"width\": 0.5}}, \"type\": \"bar\"}], \"barpolar\": [{\"marker\": {\"line\": {\"color\": \"#E5ECF6\", \"width\": 0.5}}, \"type\": \"barpolar\"}], \"carpet\": [{\"aaxis\": {\"endlinecolor\": \"#2a3f5f\", \"gridcolor\": \"white\", \"linecolor\": \"white\", \"minorgridcolor\": \"white\", \"startlinecolor\": \"#2a3f5f\"}, \"baxis\": {\"endlinecolor\": \"#2a3f5f\", \"gridcolor\": \"white\", \"linecolor\": \"white\", \"minorgridcolor\": \"white\", \"startlinecolor\": \"#2a3f5f\"}, \"type\": \"carpet\"}], \"choropleth\": [{\"colorbar\": {\"outlinewidth\": 0, \"ticks\": \"\"}, \"type\": \"choropleth\"}], \"contour\": [{\"colorbar\": {\"outlinewidth\": 0, \"ticks\": \"\"}, \"colorscale\": [[0.0, \"#0d0887\"], [0.1111111111111111, \"#46039f\"], [0.2222222222222222, \"#7201a8\"], [0.3333333333333333, \"#9c179e\"], [0.4444444444444444, \"#bd3786\"], [0.5555555555555556, \"#d8576b\"], [0.6666666666666666, \"#ed7953\"], [0.7777777777777778, \"#fb9f3a\"], [0.8888888888888888, \"#fdca26\"], [1.0, \"#f0f921\"]], \"type\": \"contour\"}], \"contourcarpet\": [{\"colorbar\": {\"outlinewidth\": 0, \"ticks\": \"\"}, \"type\": \"contourcarpet\"}], \"heatmap\": [{\"colorbar\": {\"outlinewidth\": 0, \"ticks\": \"\"}, \"colorscale\": [[0.0, \"#0d0887\"], [0.1111111111111111, \"#46039f\"], [0.2222222222222222, \"#7201a8\"], [0.3333333333333333, \"#9c179e\"], [0.4444444444444444, \"#bd3786\"], [0.5555555555555556, \"#d8576b\"], [0.6666666666666666, \"#ed7953\"], [0.7777777777777778, \"#fb9f3a\"], [0.8888888888888888, \"#fdca26\"], [1.0, \"#f0f921\"]], \"type\": \"heatmap\"}], \"heatmapgl\": [{\"colorbar\": {\"outlinewidth\": 0, \"ticks\": \"\"}, \"colorscale\": [[0.0, \"#0d0887\"], [0.1111111111111111, \"#46039f\"], [0.2222222222222222, \"#7201a8\"], [0.3333333333333333, \"#9c179e\"], [0.4444444444444444, \"#bd3786\"], [0.5555555555555556, \"#d8576b\"], [0.6666666666666666, \"#ed7953\"], [0.7777777777777778, \"#fb9f3a\"], [0.8888888888888888, \"#fdca26\"], [1.0, \"#f0f921\"]], \"type\": \"heatmapgl\"}], \"histogram\": [{\"marker\": {\"colorbar\": {\"outlinewidth\": 0, \"ticks\": \"\"}}, \"type\": \"histogram\"}], \"histogram2d\": [{\"colorbar\": {\"outlinewidth\": 0, \"ticks\": \"\"}, \"colorscale\": [[0.0, \"#0d0887\"], [0.1111111111111111, \"#46039f\"], [0.2222222222222222, \"#7201a8\"], [0.3333333333333333, \"#9c179e\"], [0.4444444444444444, \"#bd3786\"], [0.5555555555555556, \"#d8576b\"], [0.6666666666666666, \"#ed7953\"], [0.7777777777777778, \"#fb9f3a\"], [0.8888888888888888, \"#fdca26\"], [1.0, \"#f0f921\"]], \"type\": \"histogram2d\"}], \"histogram2dcontour\": [{\"colorbar\": {\"outlinewidth\": 0, \"ticks\": \"\"}, \"colorscale\": [[0.0, \"#0d0887\"], [0.1111111111111111, \"#46039f\"], [0.2222222222222222, \"#7201a8\"], [0.3333333333333333, \"#9c179e\"], [0.4444444444444444, \"#bd3786\"], [0.5555555555555556, \"#d8576b\"], [0.6666666666666666, \"#ed7953\"], [0.7777777777777778, \"#fb9f3a\"], [0.8888888888888888, \"#fdca26\"], [1.0, \"#f0f921\"]], \"type\": \"histogram2dcontour\"}], \"mesh3d\": [{\"colorbar\": {\"outlinewidth\": 0, \"ticks\": \"\"}, \"type\": \"mesh3d\"}], \"parcoords\": [{\"line\": {\"colorbar\": {\"outlinewidth\": 0, \"ticks\": \"\"}}, \"type\": \"parcoords\"}], \"scatter\": [{\"marker\": {\"colorbar\": {\"outlinewidth\": 0, \"ticks\": \"\"}}, \"type\": \"scatter\"}], \"scatter3d\": [{\"line\": {\"colorbar\": {\"outlinewidth\": 0, \"ticks\": \"\"}}, \"marker\": {\"colorbar\": {\"outlinewidth\": 0, \"ticks\": \"\"}}, \"type\": \"scatter3d\"}], \"scattercarpet\": [{\"marker\": {\"colorbar\": {\"outlinewidth\": 0, \"ticks\": \"\"}}, \"type\": \"scattercarpet\"}], \"scattergeo\": [{\"marker\": {\"colorbar\": {\"outlinewidth\": 0, \"ticks\": \"\"}}, \"type\": \"scattergeo\"}], \"scattergl\": [{\"marker\": {\"colorbar\": {\"outlinewidth\": 0, \"ticks\": \"\"}}, \"type\": \"scattergl\"}], \"scattermapbox\": [{\"marker\": {\"colorbar\": {\"outlinewidth\": 0, \"ticks\": \"\"}}, \"type\": \"scattermapbox\"}], \"scatterpolar\": [{\"marker\": {\"colorbar\": {\"outlinewidth\": 0, \"ticks\": \"\"}}, \"type\": \"scatterpolar\"}], \"scatterpolargl\": [{\"marker\": {\"colorbar\": {\"outlinewidth\": 0, \"ticks\": \"\"}}, \"type\": \"scatterpolargl\"}], \"scatterternary\": [{\"marker\": {\"colorbar\": {\"outlinewidth\": 0, \"ticks\": \"\"}}, \"type\": \"scatterternary\"}], \"surface\": [{\"colorbar\": {\"outlinewidth\": 0, \"ticks\": \"\"}, \"colorscale\": [[0.0, \"#0d0887\"], [0.1111111111111111, \"#46039f\"], [0.2222222222222222, \"#7201a8\"], [0.3333333333333333, \"#9c179e\"], [0.4444444444444444, \"#bd3786\"], [0.5555555555555556, \"#d8576b\"], [0.6666666666666666, \"#ed7953\"], [0.7777777777777778, \"#fb9f3a\"], [0.8888888888888888, \"#fdca26\"], [1.0, \"#f0f921\"]], \"type\": \"surface\"}], \"table\": [{\"cells\": {\"fill\": {\"color\": \"#EBF0F8\"}, \"line\": {\"color\": \"white\"}}, \"header\": {\"fill\": {\"color\": \"#C8D4E3\"}, \"line\": {\"color\": \"white\"}}, \"type\": \"table\"}]}, \"layout\": {\"annotationdefaults\": {\"arrowcolor\": \"#2a3f5f\", \"arrowhead\": 0, \"arrowwidth\": 1}, \"colorscale\": {\"diverging\": [[0, \"#8e0152\"], [0.1, \"#c51b7d\"], [0.2, \"#de77ae\"], [0.3, \"#f1b6da\"], [0.4, \"#fde0ef\"], [0.5, \"#f7f7f7\"], [0.6, \"#e6f5d0\"], [0.7, \"#b8e186\"], [0.8, \"#7fbc41\"], [0.9, \"#4d9221\"], [1, \"#276419\"]], \"sequential\": [[0.0, \"#0d0887\"], [0.1111111111111111, \"#46039f\"], [0.2222222222222222, \"#7201a8\"], [0.3333333333333333, \"#9c179e\"], [0.4444444444444444, \"#bd3786\"], [0.5555555555555556, \"#d8576b\"], [0.6666666666666666, \"#ed7953\"], [0.7777777777777778, \"#fb9f3a\"], [0.8888888888888888, \"#fdca26\"], [1.0, \"#f0f921\"]], \"sequentialminus\": [[0.0, \"#0d0887\"], [0.1111111111111111, \"#46039f\"], [0.2222222222222222, \"#7201a8\"], [0.3333333333333333, \"#9c179e\"], [0.4444444444444444, \"#bd3786\"], [0.5555555555555556, \"#d8576b\"], [0.6666666666666666, \"#ed7953\"], [0.7777777777777778, \"#fb9f3a\"], [0.8888888888888888, \"#fdca26\"], [1.0, \"#f0f921\"]]}, \"colorway\": [\"#636efa\", \"#EF553B\", \"#00cc96\", \"#ab63fa\", \"#FFA15A\", \"#19d3f3\", \"#FF6692\", \"#B6E880\", \"#FF97FF\", \"#FECB52\"], \"font\": {\"color\": \"#2a3f5f\"}, \"geo\": {\"bgcolor\": \"white\", \"lakecolor\": \"white\", \"landcolor\": \"#E5ECF6\", \"showlakes\": true, \"showland\": true, \"subunitcolor\": \"white\"}, \"hoverlabel\": {\"align\": \"left\"}, \"hovermode\": \"closest\", \"mapbox\": {\"style\": \"light\"}, \"paper_bgcolor\": \"white\", \"plot_bgcolor\": \"#E5ECF6\", \"polar\": {\"angularaxis\": {\"gridcolor\": \"white\", \"linecolor\": \"white\", \"ticks\": \"\"}, \"bgcolor\": \"#E5ECF6\", \"radialaxis\": {\"gridcolor\": \"white\", \"linecolor\": \"white\", \"ticks\": \"\"}}, \"scene\": {\"xaxis\": {\"backgroundcolor\": \"#E5ECF6\", \"gridcolor\": \"white\", \"gridwidth\": 2, \"linecolor\": \"white\", \"showbackground\": true, \"ticks\": \"\", \"zerolinecolor\": \"white\"}, \"yaxis\": {\"backgroundcolor\": \"#E5ECF6\", \"gridcolor\": \"white\", \"gridwidth\": 2, \"linecolor\": \"white\", \"showbackground\": true, \"ticks\": \"\", \"zerolinecolor\": \"white\"}, \"zaxis\": {\"backgroundcolor\": \"#E5ECF6\", \"gridcolor\": \"white\", \"gridwidth\": 2, \"linecolor\": \"white\", \"showbackground\": true, \"ticks\": \"\", \"zerolinecolor\": \"white\"}}, \"shapedefaults\": {\"line\": {\"color\": \"#2a3f5f\"}}, \"ternary\": {\"aaxis\": {\"gridcolor\": \"white\", \"linecolor\": \"white\", \"ticks\": \"\"}, \"baxis\": {\"gridcolor\": \"white\", \"linecolor\": \"white\", \"ticks\": \"\"}, \"bgcolor\": \"#E5ECF6\", \"caxis\": {\"gridcolor\": \"white\", \"linecolor\": \"white\", \"ticks\": \"\"}}, \"title\": {\"x\": 0.05}, \"xaxis\": {\"automargin\": true, \"gridcolor\": \"white\", \"linecolor\": \"white\", \"ticks\": \"\", \"zerolinecolor\": \"white\", \"zerolinewidth\": 2}, \"yaxis\": {\"automargin\": true, \"gridcolor\": \"white\", \"linecolor\": \"white\", \"ticks\": \"\", \"zerolinecolor\": \"white\", \"zerolinewidth\": 2}}}},\n                        {\"responsive\": true}\n                    ).then(function(){\n                            \nvar gd = document.getElementById('0c761236-a533-41fb-99dc-97dcfb68f370');\nvar x = new MutationObserver(function (mutations, observer) {{\n        var display = window.getComputedStyle(gd).display;\n        if (!display || display === 'none') {{\n            console.log([gd, 'removed!']);\n            Plotly.purge(gd);\n            observer.disconnect();\n        }}\n}});\n\n// Listen for the removal of the full notebook cells\nvar notebookContainer = gd.closest('#notebook-container');\nif (notebookContainer) {{\n    x.observe(notebookContainer, {childList: true});\n}}\n\n// Listen for the clearing of the current output cell\nvar outputEl = gd.closest('.output');\nif (outputEl) {{\n    x.observe(outputEl, {childList: true});\n}}\n\n                        })\n                };\n                });\n            </script>\n        </div>",
            "application/vnd.plotly.v1+json": {
              "data": [
                {
                  "hovertemplate": "job_density=%{x}<br>3_year_survival_rate=%{y}<br>unemployment_rate=%{marker.color}",
                  "showlegend": false,
                  "legendgroup": "",
                  "name": "",
                  "scene": "scene",
                  "y": [
                    60.4,
                    56.9,
                    60.1,
                    55.3,
                    63.8,
                    61.3,
                    57.2,
                    61.1,
                    60.5,
                    60.6,
                    52.8,
                    58,
                    61.7,
                    62.6,
                    63.4,
                    59.5,
                    59.9,
                    62,
                    63.1,
                    58.4,
                    58.1,
                    56.8,
                    54.4,
                    57.9,
                    68.8,
                    59.6,
                    64.3,
                    60.6,
                    56.2,
                    55.3,
                    57,
                    60.8,
                    64.4,
                    60.1,
                    64.3,
                    60,
                    59.4,
                    63.8,
                    62.5,
                    62.9,
                    56.2,
                    57.2,
                    63.4,
                    65.4,
                    63.8,
                    60,
                    64.6,
                    64.4,
                    64.7,
                    60.1,
                    58.9,
                    58.3,
                    51.3,
                    58,
                    67.7,
                    63.4,
                    67.3,
                    61.6,
                    57.2,
                    57.2,
                    62.9,
                    62.3,
                    69.3,
                    59.7,
                    68,
                    60.4,
                    62.5,
                    64.6,
                    61.7,
                    64.7,
                    60.9,
                    61.1,
                    65.4,
                    68.9,
                    63.9,
                    64.7,
                    65.9,
                    67.1,
                    65.3,
                    62.2,
                    64.3,
                    61.3,
                    57.2,
                    57.6,
                    65.6,
                    62.8,
                    67.9,
                    63.1,
                    61.5,
                    62.9,
                    56.5,
                    59.7,
                    61.6,
                    55.5,
                    61.4,
                    60.5,
                    55.4,
                    58.7,
                    58.1,
                    61.9,
                    54.7,
                    61.9,
                    65.2,
                    59.5,
                    63.2,
                    59.2,
                    62.9,
                    59.7,
                    65,
                    57.8,
                    58.3,
                    61.4,
                    53.8,
                    57.9,
                    64.5,
                    58.6,
                    64.4,
                    57.2,
                    56.4,
                    56.5,
                    49.3,
                    53.4,
                    59.1,
                    54.1,
                    52.9,
                    55.2,
                    54.5,
                    54.2,
                    50.7,
                    53.2,
                    49,
                    52.3,
                    58.9,
                    53.9,
                    59.9,
                    55,
                    53.6,
                    53.8,
                    57.6,
                    50.4,
                    51.2,
                    56.6,
                    44.9,
                    51.8,
                    60.9,
                    48.9,
                    59,
                    49.9,
                    53.9,
                    53.3,
                    52,
                    53.1,
                    63.2,
                    56.1,
                    59.8,
                    58.6,
                    58.2,
                    55.7,
                    59.2,
                    61.3,
                    53.8,
                    56.1,
                    58.1,
                    59.2,
                    58.5,
                    57.6,
                    56.5,
                    57.6,
                    65.2,
                    58.1,
                    56.3,
                    57.6,
                    53.7,
                    53.9,
                    63.6,
                    56.2,
                    60.8,
                    55.7,
                    54.9,
                    61.3,
                    52.8,
                    51.4,
                    55.4,
                    54.6,
                    60,
                    53.2,
                    54.8,
                    52.5,
                    56.1,
                    55.4,
                    53.4,
                    54.3,
                    56.8,
                    57.3,
                    58,
                    60.1,
                    55.2,
                    54,
                    57.6,
                    57.2,
                    55.3,
                    58.4,
                    48.1,
                    52.8,
                    61.8,
                    55.1,
                    59.6,
                    52.6,
                    51.2,
                    58.6,
                    54.5,
                    57.7,
                    58.7,
                    56.7,
                    62.7,
                    60.1,
                    57.5,
                    56.5,
                    56.8,
                    60.9,
                    56,
                    58.3,
                    59.2,
                    58.7,
                    60.9,
                    59.9,
                    61.5,
                    58.3,
                    65,
                    59.1,
                    56.7,
                    61.5,
                    52.5,
                    58.8,
                    62,
                    55.9,
                    65.7,
                    58.4,
                    52,
                    62.1,
                    56.2,
                    56.3,
                    59.2,
                    55.4,
                    62.3,
                    58.4,
                    58.7,
                    59.1,
                    56.4,
                    58.6,
                    52.5,
                    56.7,
                    59.8,
                    63.1,
                    60.1,
                    58.2,
                    52.9,
                    54,
                    65.8,
                    42.1,
                    59,
                    57.2,
                    52.1,
                    56,
                    60.8,
                    55.1,
                    63.2,
                    53.7,
                    54.2,
                    57.6,
                    58.2,
                    58.4,
                    60.4,
                    59.6,
                    65.6,
                    59.7,
                    61.4,
                    57.5,
                    55.7,
                    62,
                    58.3,
                    60.2,
                    62.9,
                    61,
                    61,
                    62,
                    56.9,
                    58.9,
                    62.9,
                    47.5,
                    54.8,
                    64,
                    52.6,
                    60.2,
                    63.7,
                    59.2,
                    61.4,
                    54.9,
                    57.5,
                    59.4,
                    58.8,
                    57.6,
                    65.3,
                    59.2,
                    64.2,
                    63.2,
                    62.4,
                    56.6,
                    62.7,
                    61.2,
                    56.3,
                    60.7,
                    61.5,
                    62.3,
                    62.2,
                    62.7,
                    56.5,
                    59.1,
                    62.2,
                    58.7,
                    59.9,
                    62.7,
                    56.2,
                    59.5,
                    64,
                    58,
                    66.7,
                    56.8,
                    59.5,
                    60.6
                  ],
                  "hoverlabel": {
                    "namelength": 0
                  },
                  "mode": "markers",
                  "marker": {
                    "color": [
                      8.3,
                      6.3,
                      4.1,
                      9.1,
                      4.7,
                      6.2,
                      6.5,
                      6.6,
                      8,
                      11.4,
                      8.1,
                      11.2,
                      6,
                      4,
                      5.1,
                      6.7,
                      9.6,
                      6,
                      4.3,
                      10.1,
                      8.9,
                      5.6,
                      10.5,
                      5.5,
                      4.3,
                      10.4,
                      4.6,
                      13.1,
                      9,
                      5.7,
                      9.1,
                      7,
                      5,
                      7.9,
                      4.7,
                      7,
                      7.7,
                      8.8,
                      8.8,
                      10.6,
                      6.9,
                      8.2,
                      6.2,
                      4.8,
                      6.5,
                      6.4,
                      8.5,
                      5.9,
                      5,
                      8.6,
                      7.4,
                      6.8,
                      9.3,
                      7.3,
                      4.1,
                      8.5,
                      4.7,
                      11.8,
                      9.1,
                      6,
                      9.5,
                      6.8,
                      5.5,
                      9.1,
                      5.1,
                      6.6,
                      7.3,
                      6.7,
                      8,
                      11.6,
                      7.9,
                      9.3,
                      6.7,
                      4.8,
                      6.8,
                      7.6,
                      8.9,
                      6.9,
                      4.7,
                      9.1,
                      8.3,
                      6.5,
                      11.7,
                      7.2,
                      4.1,
                      9.5,
                      5.1,
                      14,
                      8.4,
                      7.2,
                      7.8,
                      5.2,
                      4.4,
                      8.7,
                      4.4,
                      6,
                      6.4,
                      6.7,
                      7.3,
                      11.4,
                      7,
                      9.7,
                      4.9,
                      3.9,
                      5.8,
                      5.5,
                      7.9,
                      5.7,
                      4.1,
                      9.9,
                      9.7,
                      4.7,
                      11.4,
                      6.1,
                      3.5,
                      9.4,
                      4.7,
                      11.7,
                      7.6,
                      5.5,
                      8.6,
                      6.4,
                      5.6,
                      7.3,
                      4.5,
                      6.1,
                      6.9,
                      8.3,
                      7.9,
                      9,
                      7.7,
                      9,
                      6,
                      5,
                      5.6,
                      5.9,
                      7.9,
                      6.4,
                      4.8,
                      8.8,
                      7.9,
                      5.3,
                      10.1,
                      7.2,
                      3.7,
                      8.4,
                      4.4,
                      11.3,
                      8.7,
                      5.5,
                      11.9,
                      7.5,
                      8.2,
                      9.4,
                      6.2,
                      9,
                      10.3,
                      11.2,
                      10.8,
                      11,
                      9.1,
                      12.8,
                      7.4,
                      7.9,
                      7.5,
                      8,
                      11,
                      7.6,
                      5.5,
                      10.4,
                      10.3,
                      6.8,
                      13.9,
                      8.9,
                      5,
                      10.7,
                      5.7,
                      13.6,
                      11.1,
                      6.3,
                      13.1,
                      7,
                      8.5,
                      8.9,
                      6.9,
                      8.1,
                      9.2,
                      9.9,
                      9.7,
                      10.4,
                      8.5,
                      10.6,
                      6.6,
                      8.5,
                      9.3,
                      7.6,
                      9.3,
                      7,
                      6.9,
                      9.3,
                      10.5,
                      7,
                      12.8,
                      8.9,
                      5.9,
                      10,
                      7.2,
                      11.9,
                      11.2,
                      7,
                      13,
                      8,
                      8,
                      10.8,
                      6.9,
                      10.8,
                      10,
                      12,
                      10.8,
                      10.7,
                      8.1,
                      11.5,
                      7,
                      8.2,
                      7.8,
                      7.9,
                      9.5,
                      7.3,
                      6.6,
                      10.4,
                      10.4,
                      7.8,
                      14.2,
                      10.5,
                      4.8,
                      11.7,
                      7,
                      13,
                      11.5,
                      6.5,
                      13.5,
                      8.9,
                      7.6,
                      10.3,
                      6.6,
                      10.4,
                      10.9,
                      11.4,
                      10.7,
                      10.8,
                      8.6,
                      10.3,
                      7.8,
                      9.4,
                      8.2,
                      7.5,
                      9.6,
                      6.4,
                      6.3,
                      10,
                      10.5,
                      7.3,
                      12.5,
                      9.4,
                      4.6,
                      10,
                      6.7,
                      12.2,
                      10.8,
                      6.6,
                      13.6,
                      6.5,
                      8.1,
                      9.8,
                      6.1,
                      8.7,
                      10.2,
                      9.4,
                      10.4,
                      10.9,
                      8,
                      9.6,
                      8,
                      8.9,
                      7.6,
                      7.3,
                      9.9,
                      7,
                      5.6,
                      8.7,
                      9.9,
                      6,
                      11.6,
                      9.1,
                      4.2,
                      11,
                      6.4,
                      13.1,
                      9.4,
                      7.5,
                      10.7,
                      6.4,
                      5.7,
                      7.4,
                      5.5,
                      7.2,
                      7.8,
                      8.2,
                      8.9,
                      8,
                      6.2,
                      8.1,
                      5.5,
                      6.3,
                      6.2,
                      6,
                      7.7,
                      5.8,
                      5.3,
                      6.6,
                      6.6,
                      6.1,
                      9,
                      6.7,
                      4.5,
                      8,
                      5.3,
                      8.7,
                      9.2,
                      4.9
                    ],
                    "opacity": 0.7,
                    "symbol": "circle",
                    "coloraxis": "coloraxis"
                  },
                  "x": [
                    0.51,
                    0.63,
                    0.61,
                    0.65,
                    0.67,
                    0.69,
                    0.63,
                    0.59,
                    0.5,
                    0.65,
                    1.01,
                    0.49,
                    0.57,
                    0.65,
                    1.2,
                    0.86,
                    1.35,
                    1.09,
                    0.81,
                    0.72,
                    0.46,
                    0.7,
                    0.47,
                    0.52,
                    0.66,
                    1.07,
                    0.62,
                    1.3,
                    0.46,
                    0.61,
                    0.51,
                    0.63,
                    0.57,
                    0.64,
                    0.66,
                    0.67,
                    0.63,
                    0.62,
                    0.52,
                    0.63,
                    1.05,
                    0.52,
                    0.56,
                    0.63,
                    1.18,
                    0.9,
                    1.42,
                    1.09,
                    0.78,
                    0.69,
                    0.45,
                    0.65,
                    0.49,
                    0.51,
                    0.7,
                    1.08,
                    0.6,
                    1.31,
                    0.5,
                    0.59,
                    0.49,
                    0.63,
                    0.52,
                    0.58,
                    0.66,
                    0.66,
                    0.62,
                    0.56,
                    0.51,
                    0.57,
                    1.02,
                    0.5,
                    0.56,
                    0.6,
                    1.2,
                    0.83,
                    1.32,
                    1.09,
                    0.92,
                    0.67,
                    0.41,
                    0.6,
                    0.46,
                    0.44,
                    0.67,
                    1.09,
                    0.59,
                    1.31,
                    0.44,
                    0.59,
                    0.49,
                    0.62,
                    0.52,
                    0.57,
                    0.71,
                    0.67,
                    0.63,
                    0.57,
                    0.51,
                    0.6,
                    1.02,
                    0.49,
                    0.55,
                    0.56,
                    1.19,
                    0.84,
                    1.43,
                    1.08,
                    0.8,
                    0.66,
                    0.41,
                    0.58,
                    0.44,
                    0.46,
                    0.72,
                    1.13,
                    0.59,
                    1.3,
                    0.42,
                    0.59,
                    0.48,
                    0.63,
                    0.51,
                    0.54,
                    0.67,
                    0.63,
                    0.58,
                    0.57,
                    0.5,
                    0.59,
                    1.02,
                    0.45,
                    0.5,
                    0.59,
                    1.19,
                    0.83,
                    1.44,
                    1.1,
                    0.8,
                    0.66,
                    0.41,
                    0.6,
                    0.41,
                    0.48,
                    0.73,
                    1.22,
                    0.66,
                    1.3,
                    0.41,
                    0.59,
                    0.42,
                    0.63,
                    0.5,
                    0.53,
                    0.61,
                    0.57,
                    0.56,
                    0.54,
                    0.49,
                    0.6,
                    0.98,
                    0.42,
                    0.5,
                    0.54,
                    1.12,
                    0.82,
                    1.4,
                    1.1,
                    0.78,
                    0.69,
                    0.4,
                    0.58,
                    0.41,
                    0.45,
                    0.68,
                    1.15,
                    0.58,
                    1.23,
                    0.41,
                    0.56,
                    0.44,
                    0.61,
                    0.53,
                    0.54,
                    0.61,
                    0.58,
                    0.55,
                    0.56,
                    0.49,
                    0.58,
                    1.03,
                    0.4,
                    0.5,
                    0.55,
                    1.08,
                    0.83,
                    1.32,
                    1.11,
                    0.78,
                    0.68,
                    0.38,
                    0.57,
                    0.38,
                    0.43,
                    0.68,
                    1.09,
                    0.59,
                    1.22,
                    0.38,
                    0.52,
                    0.45,
                    0.62,
                    0.53,
                    0.53,
                    0.61,
                    0.56,
                    0.63,
                    0.54,
                    0.47,
                    0.63,
                    1.03,
                    0.41,
                    0.48,
                    0.55,
                    1.11,
                    0.85,
                    1.29,
                    1.2,
                    0.73,
                    0.66,
                    0.39,
                    0.62,
                    0.41,
                    0.42,
                    0.76,
                    1.16,
                    0.62,
                    1.32,
                    0.4,
                    0.55,
                    0.46,
                    0.65,
                    0.53,
                    0.57,
                    0.62,
                    0.58,
                    0.64,
                    0.57,
                    0.46,
                    0.62,
                    1.09,
                    0.44,
                    0.5,
                    0.56,
                    1.15,
                    0.9,
                    1.3,
                    1.28,
                    0.73,
                    0.66,
                    0.4,
                    0.65,
                    0.44,
                    0.47,
                    0.74,
                    1.25,
                    0.63,
                    1.3,
                    0.43,
                    0.59,
                    0.44,
                    0.66,
                    0.54,
                    0.57,
                    0.64,
                    0.53,
                    0.65,
                    0.57,
                    0.48,
                    0.6,
                    1.05,
                    0.46,
                    0.5,
                    0.6,
                    1.14,
                    0.94,
                    1.36,
                    1.27,
                    0.72,
                    0.72,
                    0.41,
                    0.69,
                    0.46,
                    0.45,
                    0.76,
                    1.17,
                    0.61,
                    1.33,
                    0.45,
                    0.58,
                    0.47,
                    0.68,
                    0.53,
                    0.6,
                    0.63,
                    0.58,
                    0.69,
                    0.61,
                    0.52,
                    0.69,
                    1.12,
                    0.48,
                    0.56,
                    0.59,
                    1.15,
                    0.91,
                    1.39,
                    1.28,
                    0.73,
                    0.76,
                    0.43,
                    0.7,
                    0.48,
                    0.47,
                    0.76,
                    1.27,
                    0.61,
                    1.32,
                    0.46,
                    0.57
                  ],
                  "z": [
                    8.3,
                    6.3,
                    4.1,
                    9.1,
                    4.7,
                    6.2,
                    6.5,
                    6.6,
                    8,
                    11.4,
                    8.1,
                    11.2,
                    6,
                    4,
                    5.1,
                    6.7,
                    9.6,
                    6,
                    4.3,
                    10.1,
                    8.9,
                    5.6,
                    10.5,
                    5.5,
                    4.3,
                    10.4,
                    4.6,
                    13.1,
                    9,
                    5.7,
                    9.1,
                    7,
                    5,
                    7.9,
                    4.7,
                    7,
                    7.7,
                    8.8,
                    8.8,
                    10.6,
                    6.9,
                    8.2,
                    6.2,
                    4.8,
                    6.5,
                    6.4,
                    8.5,
                    5.9,
                    5,
                    8.6,
                    7.4,
                    6.8,
                    9.3,
                    7.3,
                    4.1,
                    8.5,
                    4.7,
                    11.8,
                    9.1,
                    6,
                    9.5,
                    6.8,
                    5.5,
                    9.1,
                    5.1,
                    6.6,
                    7.3,
                    6.7,
                    8,
                    11.6,
                    7.9,
                    9.3,
                    6.7,
                    4.8,
                    6.8,
                    7.6,
                    8.9,
                    6.9,
                    4.7,
                    9.1,
                    8.3,
                    6.5,
                    11.7,
                    7.2,
                    4.1,
                    9.5,
                    5.1,
                    14,
                    8.4,
                    7.2,
                    7.8,
                    5.2,
                    4.4,
                    8.7,
                    4.4,
                    6,
                    6.4,
                    6.7,
                    7.3,
                    11.4,
                    7,
                    9.7,
                    4.9,
                    3.9,
                    5.8,
                    5.5,
                    7.9,
                    5.7,
                    4.1,
                    9.9,
                    9.7,
                    4.7,
                    11.4,
                    6.1,
                    3.5,
                    9.4,
                    4.7,
                    11.7,
                    7.6,
                    5.5,
                    8.6,
                    6.4,
                    5.6,
                    7.3,
                    4.5,
                    6.1,
                    6.9,
                    8.3,
                    7.9,
                    9,
                    7.7,
                    9,
                    6,
                    5,
                    5.6,
                    5.9,
                    7.9,
                    6.4,
                    4.8,
                    8.8,
                    7.9,
                    5.3,
                    10.1,
                    7.2,
                    3.7,
                    8.4,
                    4.4,
                    11.3,
                    8.7,
                    5.5,
                    11.9,
                    7.5,
                    8.2,
                    9.4,
                    6.2,
                    9,
                    10.3,
                    11.2,
                    10.8,
                    11,
                    9.1,
                    12.8,
                    7.4,
                    7.9,
                    7.5,
                    8,
                    11,
                    7.6,
                    5.5,
                    10.4,
                    10.3,
                    6.8,
                    13.9,
                    8.9,
                    5,
                    10.7,
                    5.7,
                    13.6,
                    11.1,
                    6.3,
                    13.1,
                    7,
                    8.5,
                    8.9,
                    6.9,
                    8.1,
                    9.2,
                    9.9,
                    9.7,
                    10.4,
                    8.5,
                    10.6,
                    6.6,
                    8.5,
                    9.3,
                    7.6,
                    9.3,
                    7,
                    6.9,
                    9.3,
                    10.5,
                    7,
                    12.8,
                    8.9,
                    5.9,
                    10,
                    7.2,
                    11.9,
                    11.2,
                    7,
                    13,
                    8,
                    8,
                    10.8,
                    6.9,
                    10.8,
                    10,
                    12,
                    10.8,
                    10.7,
                    8.1,
                    11.5,
                    7,
                    8.2,
                    7.8,
                    7.9,
                    9.5,
                    7.3,
                    6.6,
                    10.4,
                    10.4,
                    7.8,
                    14.2,
                    10.5,
                    4.8,
                    11.7,
                    7,
                    13,
                    11.5,
                    6.5,
                    13.5,
                    8.9,
                    7.6,
                    10.3,
                    6.6,
                    10.4,
                    10.9,
                    11.4,
                    10.7,
                    10.8,
                    8.6,
                    10.3,
                    7.8,
                    9.4,
                    8.2,
                    7.5,
                    9.6,
                    6.4,
                    6.3,
                    10,
                    10.5,
                    7.3,
                    12.5,
                    9.4,
                    4.6,
                    10,
                    6.7,
                    12.2,
                    10.8,
                    6.6,
                    13.6,
                    6.5,
                    8.1,
                    9.8,
                    6.1,
                    8.7,
                    10.2,
                    9.4,
                    10.4,
                    10.9,
                    8,
                    9.6,
                    8,
                    8.9,
                    7.6,
                    7.3,
                    9.9,
                    7,
                    5.6,
                    8.7,
                    9.9,
                    6,
                    11.6,
                    9.1,
                    4.2,
                    11,
                    6.4,
                    13.1,
                    9.4,
                    7.5,
                    10.7,
                    6.4,
                    5.7,
                    7.4,
                    5.5,
                    7.2,
                    7.8,
                    8.2,
                    8.9,
                    8,
                    6.2,
                    8.1,
                    5.5,
                    6.3,
                    6.2,
                    6,
                    7.7,
                    5.8,
                    5.3,
                    6.6,
                    6.6,
                    6.1,
                    9,
                    6.7,
                    4.5,
                    8,
                    5.3,
                    8.7,
                    9.2,
                    4.9
                  ],
                  "type": "scatter3d"
                }
              ],
              "config": {
                "plotlyServerURL": "https://plot.ly"
              },
              "layout": {
                "scene": {
                  "domain": {
                    "y": [
                      0,
                      1
                    ],
                    "x": [
                      0,
                      0.98
                    ]
                  },
                  "zaxis": {
                    "title": {
                      "text": "unemployment_rate"
                    }
                  },
                  "xaxis": {
                    "title": {
                      "text": "job_density"
                    }
                  },
                  "yaxis": {
                    "title": {
                      "text": "3_year_survival_rate"
                    }
                  }
                },
                "height": 600,
                "template": {
                  "layout": {
                    "shapedefaults": {
                      "line": {
                        "color": "#2a3f5f"
                      }
                    },
                    "polar": {
                      "radialaxis": {
                        "ticks": "",
                        "gridcolor": "white",
                        "linecolor": "white"
                      },
                      "bgcolor": "#E5ECF6",
                      "angularaxis": {
                        "ticks": "",
                        "gridcolor": "white",
                        "linecolor": "white"
                      }
                    },
                    "colorway": [
                      "#636efa",
                      "#EF553B",
                      "#00cc96",
                      "#ab63fa",
                      "#FFA15A",
                      "#19d3f3",
                      "#FF6692",
                      "#B6E880",
                      "#FF97FF",
                      "#FECB52"
                    ],
                    "xaxis": {
                      "automargin": true,
                      "zerolinewidth": 2,
                      "ticks": "",
                      "zerolinecolor": "white",
                      "gridcolor": "white",
                      "linecolor": "white"
                    },
                    "colorscale": {
                      "diverging": [
                        [
                          0,
                          "#8e0152"
                        ],
                        [
                          0.1,
                          "#c51b7d"
                        ],
                        [
                          0.2,
                          "#de77ae"
                        ],
                        [
                          0.3,
                          "#f1b6da"
                        ],
                        [
                          0.4,
                          "#fde0ef"
                        ],
                        [
                          0.5,
                          "#f7f7f7"
                        ],
                        [
                          0.6,
                          "#e6f5d0"
                        ],
                        [
                          0.7,
                          "#b8e186"
                        ],
                        [
                          0.8,
                          "#7fbc41"
                        ],
                        [
                          0.9,
                          "#4d9221"
                        ],
                        [
                          1,
                          "#276419"
                        ]
                      ],
                      "sequential": [
                        [
                          0,
                          "#0d0887"
                        ],
                        [
                          0.1111111111111111,
                          "#46039f"
                        ],
                        [
                          0.22222222222222221,
                          "#7201a8"
                        ],
                        [
                          0.33333333333333331,
                          "#9c179e"
                        ],
                        [
                          0.44444444444444442,
                          "#bd3786"
                        ],
                        [
                          0.55555555555555558,
                          "#d8576b"
                        ],
                        [
                          0.66666666666666663,
                          "#ed7953"
                        ],
                        [
                          0.77777777777777779,
                          "#fb9f3a"
                        ],
                        [
                          0.88888888888888884,
                          "#fdca26"
                        ],
                        [
                          1,
                          "#f0f921"
                        ]
                      ],
                      "sequentialminus": [
                        [
                          0,
                          "#0d0887"
                        ],
                        [
                          0.1111111111111111,
                          "#46039f"
                        ],
                        [
                          0.22222222222222221,
                          "#7201a8"
                        ],
                        [
                          0.33333333333333331,
                          "#9c179e"
                        ],
                        [
                          0.44444444444444442,
                          "#bd3786"
                        ],
                        [
                          0.55555555555555558,
                          "#d8576b"
                        ],
                        [
                          0.66666666666666663,
                          "#ed7953"
                        ],
                        [
                          0.77777777777777779,
                          "#fb9f3a"
                        ],
                        [
                          0.88888888888888884,
                          "#fdca26"
                        ],
                        [
                          1,
                          "#f0f921"
                        ]
                      ]
                    },
                    "paper_bgcolor": "white",
                    "plot_bgcolor": "#E5ECF6",
                    "title": {
                      "x": 0.05
                    },
                    "scene": {
                      "zaxis": {
                        "backgroundcolor": "#E5ECF6",
                        "ticks": "",
                        "gridwidth": 2,
                        "showbackground": true,
                        "zerolinecolor": "white",
                        "gridcolor": "white",
                        "linecolor": "white"
                      },
                      "xaxis": {
                        "backgroundcolor": "#E5ECF6",
                        "ticks": "",
                        "gridwidth": 2,
                        "showbackground": true,
                        "zerolinecolor": "white",
                        "gridcolor": "white",
                        "linecolor": "white"
                      },
                      "yaxis": {
                        "backgroundcolor": "#E5ECF6",
                        "ticks": "",
                        "gridwidth": 2,
                        "showbackground": true,
                        "zerolinecolor": "white",
                        "gridcolor": "white",
                        "linecolor": "white"
                      }
                    },
                    "yaxis": {
                      "automargin": true,
                      "zerolinewidth": 2,
                      "ticks": "",
                      "zerolinecolor": "white",
                      "gridcolor": "white",
                      "linecolor": "white"
                    },
                    "hoverlabel": {
                      "align": "left"
                    },
                    "ternary": {
                      "bgcolor": "#E5ECF6",
                      "baxis": {
                        "ticks": "",
                        "gridcolor": "white",
                        "linecolor": "white"
                      },
                      "caxis": {
                        "ticks": "",
                        "gridcolor": "white",
                        "linecolor": "white"
                      },
                      "aaxis": {
                        "ticks": "",
                        "gridcolor": "white",
                        "linecolor": "white"
                      }
                    },
                    "mapbox": {
                      "style": "light"
                    },
                    "hovermode": "closest",
                    "font": {
                      "color": "#2a3f5f"
                    },
                    "geo": {
                      "showland": true,
                      "landcolor": "#E5ECF6",
                      "showlakes": true,
                      "bgcolor": "white",
                      "subunitcolor": "white",
                      "lakecolor": "white"
                    },
                    "annotationdefaults": {
                      "arrowwidth": 1,
                      "arrowhead": 0,
                      "arrowcolor": "#2a3f5f"
                    }
                  },
                  "data": {
                    "mesh3d": [
                      {
                        "colorbar": {
                          "outlinewidth": 0,
                          "ticks": ""
                        },
                        "type": "mesh3d"
                      }
                    ],
                    "scattercarpet": [
                      {
                        "marker": {
                          "colorbar": {
                            "outlinewidth": 0,
                            "ticks": ""
                          }
                        },
                        "type": "scattercarpet"
                      }
                    ],
                    "scatterternary": [
                      {
                        "marker": {
                          "colorbar": {
                            "outlinewidth": 0,
                            "ticks": ""
                          }
                        },
                        "type": "scatterternary"
                      }
                    ],
                    "surface": [
                      {
                        "colorbar": {
                          "outlinewidth": 0,
                          "ticks": ""
                        },
                        "type": "surface",
                        "colorscale": [
                          [
                            0,
                            "#0d0887"
                          ],
                          [
                            0.1111111111111111,
                            "#46039f"
                          ],
                          [
                            0.22222222222222221,
                            "#7201a8"
                          ],
                          [
                            0.33333333333333331,
                            "#9c179e"
                          ],
                          [
                            0.44444444444444442,
                            "#bd3786"
                          ],
                          [
                            0.55555555555555558,
                            "#d8576b"
                          ],
                          [
                            0.66666666666666663,
                            "#ed7953"
                          ],
                          [
                            0.77777777777777779,
                            "#fb9f3a"
                          ],
                          [
                            0.88888888888888884,
                            "#fdca26"
                          ],
                          [
                            1,
                            "#f0f921"
                          ]
                        ]
                      }
                    ],
                    "table": [
                      {
                        "header": {
                          "line": {
                            "color": "white"
                          },
                          "fill": {
                            "color": "#C8D4E3"
                          }
                        },
                        "cells": {
                          "line": {
                            "color": "white"
                          },
                          "fill": {
                            "color": "#EBF0F8"
                          }
                        },
                        "type": "table"
                      }
                    ],
                    "scatterpolargl": [
                      {
                        "marker": {
                          "colorbar": {
                            "outlinewidth": 0,
                            "ticks": ""
                          }
                        },
                        "type": "scatterpolargl"
                      }
                    ],
                    "contour": [
                      {
                        "colorbar": {
                          "outlinewidth": 0,
                          "ticks": ""
                        },
                        "type": "contour",
                        "colorscale": [
                          [
                            0,
                            "#0d0887"
                          ],
                          [
                            0.1111111111111111,
                            "#46039f"
                          ],
                          [
                            0.22222222222222221,
                            "#7201a8"
                          ],
                          [
                            0.33333333333333331,
                            "#9c179e"
                          ],
                          [
                            0.44444444444444442,
                            "#bd3786"
                          ],
                          [
                            0.55555555555555558,
                            "#d8576b"
                          ],
                          [
                            0.66666666666666663,
                            "#ed7953"
                          ],
                          [
                            0.77777777777777779,
                            "#fb9f3a"
                          ],
                          [
                            0.88888888888888884,
                            "#fdca26"
                          ],
                          [
                            1,
                            "#f0f921"
                          ]
                        ]
                      }
                    ],
                    "carpet": [
                      {
                        "type": "carpet",
                        "baxis": {
                          "minorgridcolor": "white",
                          "gridcolor": "white",
                          "linecolor": "white",
                          "endlinecolor": "#2a3f5f",
                          "startlinecolor": "#2a3f5f"
                        },
                        "aaxis": {
                          "minorgridcolor": "white",
                          "gridcolor": "white",
                          "linecolor": "white",
                          "endlinecolor": "#2a3f5f",
                          "startlinecolor": "#2a3f5f"
                        }
                      }
                    ],
                    "contourcarpet": [
                      {
                        "colorbar": {
                          "outlinewidth": 0,
                          "ticks": ""
                        },
                        "type": "contourcarpet"
                      }
                    ],
                    "heatmap": [
                      {
                        "colorbar": {
                          "outlinewidth": 0,
                          "ticks": ""
                        },
                        "type": "heatmap",
                        "colorscale": [
                          [
                            0,
                            "#0d0887"
                          ],
                          [
                            0.1111111111111111,
                            "#46039f"
                          ],
                          [
                            0.22222222222222221,
                            "#7201a8"
                          ],
                          [
                            0.33333333333333331,
                            "#9c179e"
                          ],
                          [
                            0.44444444444444442,
                            "#bd3786"
                          ],
                          [
                            0.55555555555555558,
                            "#d8576b"
                          ],
                          [
                            0.66666666666666663,
                            "#ed7953"
                          ],
                          [
                            0.77777777777777779,
                            "#fb9f3a"
                          ],
                          [
                            0.88888888888888884,
                            "#fdca26"
                          ],
                          [
                            1,
                            "#f0f921"
                          ]
                        ]
                      }
                    ],
                    "scattermapbox": [
                      {
                        "marker": {
                          "colorbar": {
                            "outlinewidth": 0,
                            "ticks": ""
                          }
                        },
                        "type": "scattermapbox"
                      }
                    ],
                    "scatter3d": [
                      {
                        "marker": {
                          "colorbar": {
                            "outlinewidth": 0,
                            "ticks": ""
                          }
                        },
                        "line": {
                          "colorbar": {
                            "outlinewidth": 0,
                            "ticks": ""
                          }
                        },
                        "type": "scatter3d"
                      }
                    ],
                    "scattergl": [
                      {
                        "marker": {
                          "colorbar": {
                            "outlinewidth": 0,
                            "ticks": ""
                          }
                        },
                        "type": "scattergl"
                      }
                    ],
                    "histogram": [
                      {
                        "marker": {
                          "colorbar": {
                            "outlinewidth": 0,
                            "ticks": ""
                          }
                        },
                        "type": "histogram"
                      }
                    ],
                    "heatmapgl": [
                      {
                        "colorbar": {
                          "outlinewidth": 0,
                          "ticks": ""
                        },
                        "type": "heatmapgl",
                        "colorscale": [
                          [
                            0,
                            "#0d0887"
                          ],
                          [
                            0.1111111111111111,
                            "#46039f"
                          ],
                          [
                            0.22222222222222221,
                            "#7201a8"
                          ],
                          [
                            0.33333333333333331,
                            "#9c179e"
                          ],
                          [
                            0.44444444444444442,
                            "#bd3786"
                          ],
                          [
                            0.55555555555555558,
                            "#d8576b"
                          ],
                          [
                            0.66666666666666663,
                            "#ed7953"
                          ],
                          [
                            0.77777777777777779,
                            "#fb9f3a"
                          ],
                          [
                            0.88888888888888884,
                            "#fdca26"
                          ],
                          [
                            1,
                            "#f0f921"
                          ]
                        ]
                      }
                    ],
                    "scatterpolar": [
                      {
                        "marker": {
                          "colorbar": {
                            "outlinewidth": 0,
                            "ticks": ""
                          }
                        },
                        "type": "scatterpolar"
                      }
                    ],
                    "histogram2d": [
                      {
                        "colorbar": {
                          "outlinewidth": 0,
                          "ticks": ""
                        },
                        "type": "histogram2d",
                        "colorscale": [
                          [
                            0,
                            "#0d0887"
                          ],
                          [
                            0.1111111111111111,
                            "#46039f"
                          ],
                          [
                            0.22222222222222221,
                            "#7201a8"
                          ],
                          [
                            0.33333333333333331,
                            "#9c179e"
                          ],
                          [
                            0.44444444444444442,
                            "#bd3786"
                          ],
                          [
                            0.55555555555555558,
                            "#d8576b"
                          ],
                          [
                            0.66666666666666663,
                            "#ed7953"
                          ],
                          [
                            0.77777777777777779,
                            "#fb9f3a"
                          ],
                          [
                            0.88888888888888884,
                            "#fdca26"
                          ],
                          [
                            1,
                            "#f0f921"
                          ]
                        ]
                      }
                    ],
                    "scattergeo": [
                      {
                        "marker": {
                          "colorbar": {
                            "outlinewidth": 0,
                            "ticks": ""
                          }
                        },
                        "type": "scattergeo"
                      }
                    ],
                    "bar": [
                      {
                        "marker": {
                          "line": {
                            "color": "#E5ECF6",
                            "width": 0.5
                          }
                        },
                        "type": "bar",
                        "error_x": {
                          "color": "#2a3f5f"
                        },
                        "error_y": {
                          "color": "#2a3f5f"
                        }
                      }
                    ],
                    "choropleth": [
                      {
                        "colorbar": {
                          "outlinewidth": 0,
                          "ticks": ""
                        },
                        "type": "choropleth"
                      }
                    ],
                    "parcoords": [
                      {
                        "line": {
                          "colorbar": {
                            "outlinewidth": 0,
                            "ticks": ""
                          }
                        },
                        "type": "parcoords"
                      }
                    ],
                    "barpolar": [
                      {
                        "marker": {
                          "line": {
                            "color": "#E5ECF6",
                            "width": 0.5
                          }
                        },
                        "type": "barpolar"
                      }
                    ],
                    "histogram2dcontour": [
                      {
                        "colorbar": {
                          "outlinewidth": 0,
                          "ticks": ""
                        },
                        "type": "histogram2dcontour",
                        "colorscale": [
                          [
                            0,
                            "#0d0887"
                          ],
                          [
                            0.1111111111111111,
                            "#46039f"
                          ],
                          [
                            0.22222222222222221,
                            "#7201a8"
                          ],
                          [
                            0.33333333333333331,
                            "#9c179e"
                          ],
                          [
                            0.44444444444444442,
                            "#bd3786"
                          ],
                          [
                            0.55555555555555558,
                            "#d8576b"
                          ],
                          [
                            0.66666666666666663,
                            "#ed7953"
                          ],
                          [
                            0.77777777777777779,
                            "#fb9f3a"
                          ],
                          [
                            0.88888888888888884,
                            "#fdca26"
                          ],
                          [
                            1,
                            "#f0f921"
                          ]
                        ]
                      }
                    ],
                    "scatter": [
                      {
                        "marker": {
                          "colorbar": {
                            "outlinewidth": 0,
                            "ticks": ""
                          }
                        },
                        "type": "scatter"
                      }
                    ]
                  }
                },
                "margin": {
                  "r": 0,
                  "b": 0,
                  "l": 0,
                  "t": 0
                },
                "legend": {
                  "tracegroupgap": 0
                },
                "coloraxis": {
                  "colorbar": {
                    "title": {
                      "text": "unemployment_rate"
                    }
                  },
                  "colorscale": [
                    [
                      0,
                      "#0d0887"
                    ],
                    [
                      0.1111111111111111,
                      "#46039f"
                    ],
                    [
                      0.22222222222222221,
                      "#7201a8"
                    ],
                    [
                      0.33333333333333331,
                      "#9c179e"
                    ],
                    [
                      0.44444444444444442,
                      "#bd3786"
                    ],
                    [
                      0.55555555555555558,
                      "#d8576b"
                    ],
                    [
                      0.66666666666666663,
                      "#ed7953"
                    ],
                    [
                      0.77777777777777779,
                      "#fb9f3a"
                    ],
                    [
                      0.88888888888888884,
                      "#fdca26"
                    ],
                    [
                      1,
                      "#f0f921"
                    ]
                  ]
                }
              }
            }
          },
          "metadata": {}
        }
      ]
    },
    {
      "metadata": {
        "trusted": true
      },
      "cell_type": "code",
      "source": "to_drop = ['Camden', 'Westminster']\n\ndf = df[~df['area'].isin(to_drop)]\nfig = px.scatter_matrix(df, dimensions=['unemployment_rate','3_year_survival_rate','job_density',], color=\"area\")\nfig.show()",
      "execution_count": 199,
      "outputs": [
        {
          "output_type": "display_data",
          "data": {
            "text/html": "<div>\n        \n        \n            <div id=\"01525912-3e79-416b-8a48-dbfc8d632e63\" class=\"plotly-graph-div\" style=\"height:600px; width:100%;\"></div>\n            <script type=\"text/javascript\">\n                require([\"plotly\"], function(Plotly) {\n                    window.PLOTLYENV=window.PLOTLYENV || {};\n                    \n                if (document.getElementById(\"01525912-3e79-416b-8a48-dbfc8d632e63\")) {\n                    Plotly.newPlot(\n                        '01525912-3e79-416b-8a48-dbfc8d632e63',\n                        [{\"dimensions\": [{\"axis\": {\"matches\": true}, \"label\": \"unemployment_rate\", \"values\": [8.3, 9.1, 9.5, 7.8, 8.6, 11.9, 13.1, 13.0, 13.5, 13.6, 10.7]}, {\"axis\": {\"matches\": true}, \"label\": \"3_year_survival_rate\", \"values\": [60.4, 57.0, 62.9, 56.5, 49.3, 52.0, 52.8, 54.5, 56.2, 58.2, 58.8]}, {\"axis\": {\"matches\": true}, \"label\": \"job_density\", \"values\": [0.51, 0.51, 0.49, 0.49, 0.48, 0.42, 0.44, 0.45, 0.46, 0.44, 0.47]}], \"hoverlabel\": {\"namelength\": 0}, \"hovertemplate\": \"area=Barking and Dagenham<br>%{xaxis.title.text}=%{x}<br>%{yaxis.title.text}=%{y}\", \"legendgroup\": \"area=Barking and Dagenham\", \"marker\": {\"color\": \"#636efa\", \"symbol\": \"circle\"}, \"name\": \"area=Barking and Dagenham\", \"showlegend\": true, \"type\": \"splom\"}, {\"dimensions\": [{\"axis\": {\"matches\": true}, \"label\": \"unemployment_rate\", \"values\": [6.3, 7.0, 6.8, 5.2, 6.4, 7.5, 7.0, 8.0, 8.9, 6.5, 6.4]}, {\"axis\": {\"matches\": true}, \"label\": \"3_year_survival_rate\", \"values\": [56.9, 60.8, 62.3, 59.7, 53.4, 53.1, 51.4, 57.7, 56.3, 58.4, 57.6]}, {\"axis\": {\"matches\": true}, \"label\": \"job_density\", \"values\": [0.63, 0.63, 0.63, 0.62, 0.63, 0.63, 0.61, 0.62, 0.65, 0.66, 0.68]}], \"hoverlabel\": {\"namelength\": 0}, \"hovertemplate\": \"area=Barnet<br>%{xaxis.title.text}=%{x}<br>%{yaxis.title.text}=%{y}\", \"legendgroup\": \"area=Barnet\", \"marker\": {\"color\": \"#EF553B\", \"symbol\": \"circle\"}, \"name\": \"area=Barnet\", \"showlegend\": true, \"type\": \"splom\"}, {\"dimensions\": [{\"axis\": {\"matches\": true}, \"label\": \"unemployment_rate\", \"values\": [4.1, 5.0, 5.5, 4.4, 5.6, 8.2, 8.5, 8.0, 7.6, 8.1, 5.7]}, {\"axis\": {\"matches\": true}, \"label\": \"3_year_survival_rate\", \"values\": [60.1, 64.4, 69.3, 61.6, 59.1, 63.2, 55.4, 58.7, 59.2, 60.4, 65.3]}, {\"axis\": {\"matches\": true}, \"label\": \"job_density\", \"values\": [0.61, 0.57, 0.52, 0.52, 0.51, 0.5, 0.53, 0.53, 0.53, 0.54, 0.53]}], \"hoverlabel\": {\"namelength\": 0}, \"hovertemplate\": \"area=Bexley<br>%{xaxis.title.text}=%{x}<br>%{yaxis.title.text}=%{y}\", \"legendgroup\": \"area=Bexley\", \"marker\": {\"color\": \"#00cc96\", \"symbol\": \"circle\"}, \"name\": \"area=Bexley\", \"showlegend\": true, \"type\": \"splom\"}, {\"dimensions\": [{\"axis\": {\"matches\": true}, \"label\": \"unemployment_rate\", \"values\": [9.1, 7.9, 9.1, 8.7, 7.3, 9.4, 8.9, 10.8, 10.3, 9.8, 7.4]}, {\"axis\": {\"matches\": true}, \"label\": \"3_year_survival_rate\", \"values\": [55.3, 60.1, 59.7, 55.5, 54.1, 56.1, 54.6, 56.7, 55.4, 59.6, 59.2]}, {\"axis\": {\"matches\": true}, \"label\": \"job_density\", \"values\": [0.65, 0.64, 0.58, 0.57, 0.54, 0.53, 0.54, 0.53, 0.57, 0.57, 0.6]}], \"hoverlabel\": {\"namelength\": 0}, \"hovertemplate\": \"area=Brent<br>%{xaxis.title.text}=%{x}<br>%{yaxis.title.text}=%{y}\", \"legendgroup\": \"area=Brent\", \"marker\": {\"color\": \"#ab63fa\", \"symbol\": \"circle\"}, \"name\": \"area=Brent\", \"showlegend\": true, \"type\": \"splom\"}, {\"dimensions\": [{\"axis\": {\"matches\": true}, \"label\": \"unemployment_rate\", \"values\": [4.7, 4.7, 5.1, 4.4, 4.5, 6.2, 6.9, 6.9, 6.6, 6.1, 5.5]}, {\"axis\": {\"matches\": true}, \"label\": \"3_year_survival_rate\", \"values\": [63.8, 64.3, 68.0, 61.4, 52.9, 59.8, 60.0, 62.7, 62.3, 65.6, 64.2]}, {\"axis\": {\"matches\": true}, \"label\": \"job_density\", \"values\": [0.67, 0.66, 0.66, 0.71, 0.67, 0.61, 0.61, 0.61, 0.62, 0.64, 0.63]}], \"hoverlabel\": {\"namelength\": 0}, \"hovertemplate\": \"area=Bromley<br>%{xaxis.title.text}=%{x}<br>%{yaxis.title.text}=%{y}\", \"legendgroup\": \"area=Bromley\", \"marker\": {\"color\": \"#FFA15A\", \"symbol\": \"circle\"}, \"name\": \"area=Bromley\", \"showlegend\": true, \"type\": \"splom\"}, {\"dimensions\": [{\"axis\": {\"matches\": true}, \"label\": \"unemployment_rate\", \"values\": [6.2, 7.0, 6.6, 6.0, 6.1, 9.0, 8.1, 10.8, 10.4, 8.7, 7.2]}, {\"axis\": {\"matches\": true}, \"label\": \"3_year_survival_rate\", \"values\": [61.3, 60.0, 60.4, 60.5, 55.2, 58.6, 53.2, 60.1, 58.4, 59.7, 63.2]}, {\"axis\": {\"matches\": true}, \"label\": \"job_density\", \"values\": [0.69, 0.67, 0.66, 0.67, 0.63, 0.57, 0.58, 0.56, 0.58, 0.53, 0.58]}], \"hoverlabel\": {\"namelength\": 0}, \"hovertemplate\": \"area=Croydon<br>%{xaxis.title.text}=%{x}<br>%{yaxis.title.text}=%{y}\", \"legendgroup\": \"area=Croydon\", \"marker\": {\"color\": \"#19d3f3\", \"symbol\": \"circle\"}, \"name\": \"area=Croydon\", \"showlegend\": true, \"type\": \"splom\"}, {\"dimensions\": [{\"axis\": {\"matches\": true}, \"label\": \"unemployment_rate\", \"values\": [6.5, 7.7, 7.3, 6.4, 6.9, 10.3, 9.2, 10.0, 10.9, 10.2, 7.8]}, {\"axis\": {\"matches\": true}, \"label\": \"3_year_survival_rate\", \"values\": [57.2, 59.4, 62.5, 55.4, 54.5, 58.2, 54.8, 57.5, 58.7, 61.4, 62.4]}, {\"axis\": {\"matches\": true}, \"label\": \"job_density\", \"values\": [0.63, 0.63, 0.62, 0.63, 0.58, 0.56, 0.55, 0.63, 0.64, 0.65, 0.69]}], \"hoverlabel\": {\"namelength\": 0}, \"hovertemplate\": \"area=Ealing<br>%{xaxis.title.text}=%{x}<br>%{yaxis.title.text}=%{y}\", \"legendgroup\": \"area=Ealing\", \"marker\": {\"color\": \"#FF6692\", \"symbol\": \"circle\"}, \"name\": \"area=Ealing\", \"showlegend\": true, \"type\": \"splom\"}, {\"dimensions\": [{\"axis\": {\"matches\": true}, \"label\": \"unemployment_rate\", \"values\": [6.6, 8.8, 6.7, 6.7, 8.3, 11.2, 9.9, 12.0, 11.4, 9.4, 8.2]}, {\"axis\": {\"matches\": true}, \"label\": \"3_year_survival_rate\", \"values\": [61.1, 63.8, 64.6, 58.7, 54.2, 55.7, 52.5, 56.5, 59.1, 57.5, 56.6]}, {\"axis\": {\"matches\": true}, \"label\": \"job_density\", \"values\": [0.59, 0.62, 0.56, 0.57, 0.57, 0.54, 0.56, 0.54, 0.57, 0.57, 0.61]}], \"hoverlabel\": {\"namelength\": 0}, \"hovertemplate\": \"area=Enfield<br>%{xaxis.title.text}=%{x}<br>%{yaxis.title.text}=%{y}\", \"legendgroup\": \"area=Enfield\", \"marker\": {\"color\": \"#B6E880\", \"symbol\": \"circle\"}, \"name\": \"area=Enfield\", \"showlegend\": true, \"type\": \"splom\"}, {\"dimensions\": [{\"axis\": {\"matches\": true}, \"label\": \"unemployment_rate\", \"values\": [8.0, 8.8, 8.0, 7.3, 7.9, 10.8, 9.7, 10.8, 10.7, 10.4, 8.9]}, {\"axis\": {\"matches\": true}, \"label\": \"3_year_survival_rate\", \"values\": [60.5, 62.5, 61.7, 58.1, 50.7, 59.2, 56.1, 56.8, 56.4, 55.7, 62.7]}, {\"axis\": {\"matches\": true}, \"label\": \"job_density\", \"values\": [0.5, 0.52, 0.51, 0.51, 0.5, 0.49, 0.49, 0.47, 0.46, 0.48, 0.52]}], \"hoverlabel\": {\"namelength\": 0}, \"hovertemplate\": \"area=Greenwich<br>%{xaxis.title.text}=%{x}<br>%{yaxis.title.text}=%{y}\", \"legendgroup\": \"area=Greenwich\", \"marker\": {\"color\": \"#FF97FF\", \"symbol\": \"circle\"}, \"name\": \"area=Greenwich\", \"showlegend\": true, \"type\": \"splom\"}, {\"dimensions\": [{\"axis\": {\"matches\": true}, \"label\": \"unemployment_rate\", \"values\": [11.4, 10.6, 11.6, 11.4, 9.0, 11.0, 10.4, 10.7, 10.8, 10.9, 8.0]}, {\"axis\": {\"matches\": true}, \"label\": \"3_year_survival_rate\", \"values\": [60.6, 62.9, 64.7, 61.9, 53.2, 61.3, 55.4, 60.9, 58.6, 62.0, 61.2]}, {\"axis\": {\"matches\": true}, \"label\": \"job_density\", \"values\": [0.65, 0.63, 0.57, 0.6, 0.59, 0.6, 0.58, 0.63, 0.62, 0.6, 0.69]}], \"hoverlabel\": {\"namelength\": 0}, \"hovertemplate\": \"area=Hackney<br>%{xaxis.title.text}=%{x}<br>%{yaxis.title.text}=%{y}\", \"legendgroup\": \"area=Hackney\", \"marker\": {\"color\": \"#FECB52\", \"symbol\": \"circle\"}, \"name\": \"area=Hackney\", \"showlegend\": true, \"type\": \"splom\"}, {\"dimensions\": [{\"axis\": {\"matches\": true}, \"label\": \"unemployment_rate\", \"values\": [8.1, 6.9, 7.9, 7.0, 7.7, 9.1, 8.5, 8.1, 8.6, 8.0, 6.2]}, {\"axis\": {\"matches\": true}, \"label\": \"3_year_survival_rate\", \"values\": [52.8, 56.2, 60.9, 54.7, 49.0, 53.8, 53.4, 56.0, 52.5, 58.3, 56.3]}, {\"axis\": {\"matches\": true}, \"label\": \"job_density\", \"values\": [1.01, 1.05, 1.02, 1.02, 1.02, 0.98, 1.03, 1.03, 1.09, 1.05, 1.12]}], \"hoverlabel\": {\"namelength\": 0}, \"hovertemplate\": \"area=Hammersmith and Fulham<br>%{xaxis.title.text}=%{x}<br>%{yaxis.title.text}=%{y}\", \"legendgroup\": \"area=Hammersmith and Fulham\", \"marker\": {\"color\": \"#636efa\", \"symbol\": \"circle\"}, \"name\": \"area=Hammersmith and Fulham\", \"showlegend\": true, \"type\": \"splom\"}, {\"dimensions\": [{\"axis\": {\"matches\": true}, \"label\": \"unemployment_rate\", \"values\": [11.2, 8.2, 9.3, 9.7, 9.0, 12.8, 10.6, 11.5, 10.3, 9.6, 8.1]}, {\"axis\": {\"matches\": true}, \"label\": \"3_year_survival_rate\", \"values\": [58.0, 57.2, 61.1, 61.9, 52.3, 56.1, 54.3, 58.3, 56.7, 60.2, 60.7]}, {\"axis\": {\"matches\": true}, \"label\": \"job_density\", \"values\": [0.49, 0.52, 0.5, 0.49, 0.45, 0.42, 0.4, 0.41, 0.44, 0.46, 0.48]}], \"hoverlabel\": {\"namelength\": 0}, \"hovertemplate\": \"area=Haringey<br>%{xaxis.title.text}=%{x}<br>%{yaxis.title.text}=%{y}\", \"legendgroup\": \"area=Haringey\", \"marker\": {\"color\": \"#EF553B\", \"symbol\": \"circle\"}, \"name\": \"area=Haringey\", \"showlegend\": true, \"type\": \"splom\"}, {\"dimensions\": [{\"axis\": {\"matches\": true}, \"label\": \"unemployment_rate\", \"values\": [6.0, 6.2, 6.7, 4.9, 6.0, 7.4, 6.6, 7.0, 7.8, 8.0, 5.5]}, {\"axis\": {\"matches\": true}, \"label\": \"3_year_survival_rate\", \"values\": [61.7, 63.4, 65.4, 65.2, 58.9, 58.1, 56.8, 59.2, 59.8, 62.9, 61.5]}, {\"axis\": {\"matches\": true}, \"label\": \"job_density\", \"values\": [0.57, 0.56, 0.56, 0.55, 0.5, 0.5, 0.5, 0.48, 0.5, 0.5, 0.56]}], \"hoverlabel\": {\"namelength\": 0}, \"hovertemplate\": \"area=Harrow<br>%{xaxis.title.text}=%{x}<br>%{yaxis.title.text}=%{y}\", \"legendgroup\": \"area=Harrow\", \"marker\": {\"color\": \"#00cc96\", \"symbol\": \"circle\"}, \"name\": \"area=Harrow\", \"showlegend\": true, \"type\": \"splom\"}, {\"dimensions\": [{\"axis\": {\"matches\": true}, \"label\": \"unemployment_rate\", \"values\": [4.0, 4.8, 4.8, 3.9, 5.0, 7.9, 8.5, 8.2, 9.4, 8.9, 6.3]}, {\"axis\": {\"matches\": true}, \"label\": \"3_year_survival_rate\", \"values\": [62.6, 65.4, 68.9, 59.5, 53.9, 59.2, 57.3, 58.7, 63.1, 61.0, 62.3]}, {\"axis\": {\"matches\": true}, \"label\": \"job_density\", \"values\": [0.65, 0.63, 0.6, 0.56, 0.59, 0.54, 0.55, 0.55, 0.56, 0.6, 0.59]}], \"hoverlabel\": {\"namelength\": 0}, \"hovertemplate\": \"area=Havering<br>%{xaxis.title.text}=%{x}<br>%{yaxis.title.text}=%{y}\", \"legendgroup\": \"area=Havering\", \"marker\": {\"color\": \"#ab63fa\", \"symbol\": \"circle\"}, \"name\": \"area=Havering\", \"showlegend\": true, \"type\": \"splom\"}, {\"dimensions\": [{\"axis\": {\"matches\": true}, \"label\": \"unemployment_rate\", \"values\": [5.1, 6.5, 6.8, 5.8, 5.6, 7.5, 9.3, 7.8, 8.2, 7.6, 6.2]}, {\"axis\": {\"matches\": true}, \"label\": \"3_year_survival_rate\", \"values\": [63.4, 63.8, 63.9, 63.2, 59.9, 58.5, 58.0, 60.9, 60.1, 61.0, 62.2]}, {\"axis\": {\"matches\": true}, \"label\": \"job_density\", \"values\": [1.2, 1.18, 1.2, 1.19, 1.19, 1.12, 1.08, 1.11, 1.15, 1.14, 1.15]}], \"hoverlabel\": {\"namelength\": 0}, \"hovertemplate\": \"area=Hillingdon<br>%{xaxis.title.text}=%{x}<br>%{yaxis.title.text}=%{y}\", \"legendgroup\": \"area=Hillingdon\", \"marker\": {\"color\": \"#FFA15A\", \"symbol\": \"circle\"}, \"name\": \"area=Hillingdon\", \"showlegend\": true, \"type\": \"splom\"}, {\"dimensions\": [{\"axis\": {\"matches\": true}, \"label\": \"unemployment_rate\", \"values\": [6.7, 6.4, 7.6, 5.5, 5.9, 8.0, 7.6, 7.9, 7.5, 7.3, 6.0]}, {\"axis\": {\"matches\": true}, \"label\": \"3_year_survival_rate\", \"values\": [59.5, 60.0, 64.7, 59.2, 55.0, 57.6, 60.1, 59.9, 58.2, 62.0, 62.7]}, {\"axis\": {\"matches\": true}, \"label\": \"job_density\", \"values\": [0.86, 0.9, 0.83, 0.84, 0.83, 0.82, 0.83, 0.85, 0.9, 0.94, 0.91]}], \"hoverlabel\": {\"namelength\": 0}, \"hovertemplate\": \"area=Hounslow<br>%{xaxis.title.text}=%{x}<br>%{yaxis.title.text}=%{y}\", \"legendgroup\": \"area=Hounslow\", \"marker\": {\"color\": \"#19d3f3\", \"symbol\": \"circle\"}, \"name\": \"area=Hounslow\", \"showlegend\": true, \"type\": \"splom\"}, {\"dimensions\": [{\"axis\": {\"matches\": true}, \"label\": \"unemployment_rate\", \"values\": [9.6, 8.5, 8.9, 7.9, 7.9, 11.0, 9.3, 9.5, 9.6, 9.9, 7.7]}, {\"axis\": {\"matches\": true}, \"label\": \"3_year_survival_rate\", \"values\": [59.9, 64.6, 65.9, 62.9, 53.6, 56.5, 55.2, 61.5, 52.9, 56.9, 56.5]}, {\"axis\": {\"matches\": true}, \"label\": \"job_density\", \"values\": [1.35, 1.42, 1.32, 1.43, 1.44, 1.4, 1.32, 1.29, 1.3, 1.36, 1.39]}], \"hoverlabel\": {\"namelength\": 0}, \"hovertemplate\": \"area=Islington<br>%{xaxis.title.text}=%{x}<br>%{yaxis.title.text}=%{y}\", \"legendgroup\": \"area=Islington\", \"marker\": {\"color\": \"#FF6692\", \"symbol\": \"circle\"}, \"name\": \"area=Islington\", \"showlegend\": true, \"type\": \"splom\"}, {\"dimensions\": [{\"axis\": {\"matches\": true}, \"label\": \"unemployment_rate\", \"values\": [6.0, 5.9, 6.9, 5.7, 6.4, 7.6, 7.0, 7.3, 6.4, 7.0, 5.8]}, {\"axis\": {\"matches\": true}, \"label\": \"3_year_survival_rate\", \"values\": [62.0, 64.4, 67.1, 59.7, 53.8, 57.6, 54.0, 58.3, 54.0, 58.9, 59.1]}, {\"axis\": {\"matches\": true}, \"label\": \"job_density\", \"values\": [1.09, 1.09, 1.09, 1.08, 1.1, 1.1, 1.11, 1.2, 1.28, 1.27, 1.28]}], \"hoverlabel\": {\"namelength\": 0}, \"hovertemplate\": \"area=Kensington and Chelsea<br>%{xaxis.title.text}=%{x}<br>%{yaxis.title.text}=%{y}\", \"legendgroup\": \"area=Kensington and Chelsea\", \"marker\": {\"color\": \"#B6E880\", \"symbol\": \"circle\"}, \"name\": \"area=Kensington and Chelsea\", \"showlegend\": true, \"type\": \"splom\"}, {\"dimensions\": [{\"axis\": {\"matches\": true}, \"label\": \"unemployment_rate\", \"values\": [4.3, 5.0, 4.7, 4.1, 4.8, 5.5, 6.9, 6.6, 6.3, 5.6, 5.3]}, {\"axis\": {\"matches\": true}, \"label\": \"3_year_survival_rate\", \"values\": [63.1, 64.7, 65.3, 65.0, 57.6, 65.2, 57.6, 65.0, 65.8, 62.9, 62.2]}, {\"axis\": {\"matches\": true}, \"label\": \"job_density\", \"values\": [0.81, 0.78, 0.92, 0.8, 0.8, 0.78, 0.78, 0.73, 0.73, 0.72, 0.73]}], \"hoverlabel\": {\"namelength\": 0}, \"hovertemplate\": \"area=Kingston upon Thames<br>%{xaxis.title.text}=%{x}<br>%{yaxis.title.text}=%{y}\", \"legendgroup\": \"area=Kingston upon Thames\", \"marker\": {\"color\": \"#FF97FF\", \"symbol\": \"circle\"}, \"name\": \"area=Kingston upon Thames\", \"showlegend\": true, \"type\": \"splom\"}, {\"dimensions\": [{\"axis\": {\"matches\": true}, \"label\": \"unemployment_rate\", \"values\": [10.1, 8.6, 9.1, 9.9, 8.8, 10.4, 9.3, 10.4, 10.0, 8.7, 6.6]}, {\"axis\": {\"matches\": true}, \"label\": \"3_year_survival_rate\", \"values\": [58.4, 60.1, 62.2, 57.8, 50.4, 58.1, 57.2, 59.1, 42.1, 47.5, 58.7]}, {\"axis\": {\"matches\": true}, \"label\": \"job_density\", \"values\": [0.72, 0.69, 0.67, 0.66, 0.66, 0.69, 0.68, 0.66, 0.66, 0.72, 0.76]}], \"hoverlabel\": {\"namelength\": 0}, \"hovertemplate\": \"area=Lambeth<br>%{xaxis.title.text}=%{x}<br>%{yaxis.title.text}=%{y}\", \"legendgroup\": \"area=Lambeth\", \"marker\": {\"color\": \"#FECB52\", \"symbol\": \"circle\"}, \"name\": \"area=Lambeth\", \"showlegend\": true, \"type\": \"splom\"}, {\"dimensions\": [{\"axis\": {\"matches\": true}, \"label\": \"unemployment_rate\", \"values\": [8.9, 7.4, 8.3, 9.7, 7.9, 10.3, 10.5, 10.4, 10.5, 9.9, 6.6]}, {\"axis\": {\"matches\": true}, \"label\": \"3_year_survival_rate\", \"values\": [58.1, 58.9, 64.3, 58.3, 51.2, 56.3, 55.3, 56.7, 59.0, 54.8, 59.9]}, {\"axis\": {\"matches\": true}, \"label\": \"job_density\", \"values\": [0.46, 0.45, 0.41, 0.41, 0.41, 0.4, 0.38, 0.39, 0.4, 0.41, 0.43]}], \"hoverlabel\": {\"namelength\": 0}, \"hovertemplate\": \"area=Lewisham<br>%{xaxis.title.text}=%{x}<br>%{yaxis.title.text}=%{y}\", \"legendgroup\": \"area=Lewisham\", \"marker\": {\"color\": \"#636efa\", \"symbol\": \"circle\"}, \"name\": \"area=Lewisham\", \"showlegend\": true, \"type\": \"splom\"}, {\"dimensions\": [{\"axis\": {\"matches\": true}, \"label\": \"unemployment_rate\", \"values\": [5.6, 6.8, 6.5, 4.7, 5.3, 6.8, 7.0, 7.8, 7.3, 6.0, 6.1]}, {\"axis\": {\"matches\": true}, \"label\": \"3_year_survival_rate\", \"values\": [56.8, 58.3, 61.3, 61.4, 56.6, 57.6, 58.4, 61.5, 57.2, 64.0, 62.7]}, {\"axis\": {\"matches\": true}, \"label\": \"job_density\", \"values\": [0.7, 0.65, 0.6, 0.58, 0.6, 0.58, 0.57, 0.62, 0.65, 0.69, 0.7]}], \"hoverlabel\": {\"namelength\": 0}, \"hovertemplate\": \"area=Merton<br>%{xaxis.title.text}=%{x}<br>%{yaxis.title.text}=%{y}\", \"legendgroup\": \"area=Merton\", \"marker\": {\"color\": \"#EF553B\", \"symbol\": \"circle\"}, \"name\": \"area=Merton\", \"showlegend\": true, \"type\": \"splom\"}, {\"dimensions\": [{\"axis\": {\"matches\": true}, \"label\": \"unemployment_rate\", \"values\": [10.5, 9.3, 11.7, 11.4, 10.1, 13.9, 12.8, 14.2, 12.5, 11.6, 9.0]}, {\"axis\": {\"matches\": true}, \"label\": \"3_year_survival_rate\", \"values\": [54.4, 51.3, 57.2, 53.8, 44.9, 53.7, 48.1, 52.5, 52.1, 52.6, 56.2]}, {\"axis\": {\"matches\": true}, \"label\": \"job_density\", \"values\": [0.47, 0.49, 0.46, 0.44, 0.41, 0.41, 0.38, 0.41, 0.44, 0.46, 0.48]}], \"hoverlabel\": {\"namelength\": 0}, \"hovertemplate\": \"area=Newham<br>%{xaxis.title.text}=%{x}<br>%{yaxis.title.text}=%{y}\", \"legendgroup\": \"area=Newham\", \"marker\": {\"color\": \"#00cc96\", \"symbol\": \"circle\"}, \"name\": \"area=Newham\", \"showlegend\": true, \"type\": \"splom\"}, {\"dimensions\": [{\"axis\": {\"matches\": true}, \"label\": \"unemployment_rate\", \"values\": [5.5, 7.3, 7.2, 6.1, 7.2, 8.9, 8.9, 10.5, 9.4, 9.1, 6.7]}, {\"axis\": {\"matches\": true}, \"label\": \"3_year_survival_rate\", \"values\": [57.9, 58.0, 57.6, 57.9, 51.8, 53.9, 52.8, 58.8, 56.0, 60.2, 59.5]}, {\"axis\": {\"matches\": true}, \"label\": \"job_density\", \"values\": [0.52, 0.51, 0.44, 0.46, 0.48, 0.45, 0.43, 0.42, 0.47, 0.45, 0.47]}], \"hoverlabel\": {\"namelength\": 0}, \"hovertemplate\": \"area=Redbridge<br>%{xaxis.title.text}=%{x}<br>%{yaxis.title.text}=%{y}\", \"legendgroup\": \"area=Redbridge\", \"marker\": {\"color\": \"#ab63fa\", \"symbol\": \"circle\"}, \"name\": \"area=Redbridge\", \"showlegend\": true, \"type\": \"splom\"}, {\"dimensions\": [{\"axis\": {\"matches\": true}, \"label\": \"unemployment_rate\", \"values\": [4.3, 4.1, 4.1, 3.5, 3.7, 5.0, 5.9, 4.8, 4.6, 4.2, 4.5]}, {\"axis\": {\"matches\": true}, \"label\": \"3_year_survival_rate\", \"values\": [68.8, 67.7, 65.6, 64.5, 60.9, 63.6, 61.8, 62.0, 60.8, 63.7, 64.0]}, {\"axis\": {\"matches\": true}, \"label\": \"job_density\", \"values\": [0.66, 0.7, 0.67, 0.72, 0.73, 0.68, 0.68, 0.76, 0.74, 0.76, 0.76]}], \"hoverlabel\": {\"namelength\": 0}, \"hovertemplate\": \"area=Richmond upon Thames<br>%{xaxis.title.text}=%{x}<br>%{yaxis.title.text}=%{y}\", \"legendgroup\": \"area=Richmond upon Thames\", \"marker\": {\"color\": \"#FFA15A\", \"symbol\": \"circle\"}, \"name\": \"area=Richmond upon Thames\", \"showlegend\": true, \"type\": \"splom\"}, {\"dimensions\": [{\"axis\": {\"matches\": true}, \"label\": \"unemployment_rate\", \"values\": [10.4, 8.5, 9.5, 9.4, 8.4, 10.7, 10.0, 11.7, 10.0, 11.0, 8.0]}, {\"axis\": {\"matches\": true}, \"label\": \"3_year_survival_rate\", \"values\": [59.6, 63.4, 62.8, 58.6, 48.9, 56.2, 55.1, 55.9, 55.1, 59.2, 58.0]}, {\"axis\": {\"matches\": true}, \"label\": \"job_density\", \"values\": [1.07, 1.08, 1.09, 1.13, 1.22, 1.15, 1.09, 1.16, 1.25, 1.17, 1.27]}], \"hoverlabel\": {\"namelength\": 0}, \"hovertemplate\": \"area=Southwark<br>%{xaxis.title.text}=%{x}<br>%{yaxis.title.text}=%{y}\", \"legendgroup\": \"area=Southwark\", \"marker\": {\"color\": \"#19d3f3\", \"symbol\": \"circle\"}, \"name\": \"area=Southwark\", \"showlegend\": true, \"type\": \"splom\"}, {\"dimensions\": [{\"axis\": {\"matches\": true}, \"label\": \"unemployment_rate\", \"values\": [4.6, 4.7, 5.1, 4.7, 4.4, 5.7, 7.2, 7.0, 6.7, 6.4, 5.3]}, {\"axis\": {\"matches\": true}, \"label\": \"3_year_survival_rate\", \"values\": [64.3, 67.3, 67.9, 64.4, 59.0, 60.8, 59.6, 65.7, 63.2, 61.4, 66.7]}, {\"axis\": {\"matches\": true}, \"label\": \"job_density\", \"values\": [0.62, 0.6, 0.59, 0.59, 0.66, 0.58, 0.59, 0.62, 0.63, 0.61, 0.61]}], \"hoverlabel\": {\"namelength\": 0}, \"hovertemplate\": \"area=Sutton<br>%{xaxis.title.text}=%{x}<br>%{yaxis.title.text}=%{y}\", \"legendgroup\": \"area=Sutton\", \"marker\": {\"color\": \"#FF6692\", \"symbol\": \"circle\"}, \"name\": \"area=Sutton\", \"showlegend\": true, \"type\": \"splom\"}, {\"dimensions\": [{\"axis\": {\"matches\": true}, \"label\": \"unemployment_rate\", \"values\": [13.1, 11.8, 14.0, 11.7, 11.3, 13.6, 11.9, 13.0, 12.2, 13.1, 8.7]}, {\"axis\": {\"matches\": true}, \"label\": \"3_year_survival_rate\", \"values\": [60.6, 61.6, 63.1, 57.2, 49.9, 55.7, 52.6, 58.4, 53.7, 54.9, 56.8]}, {\"axis\": {\"matches\": true}, \"label\": \"job_density\", \"values\": [1.3, 1.31, 1.31, 1.3, 1.3, 1.23, 1.22, 1.32, 1.3, 1.33, 1.32]}], \"hoverlabel\": {\"namelength\": 0}, \"hovertemplate\": \"area=Tower Hamlets<br>%{xaxis.title.text}=%{x}<br>%{yaxis.title.text}=%{y}\", \"legendgroup\": \"area=Tower Hamlets\", \"marker\": {\"color\": \"#B6E880\", \"symbol\": \"circle\"}, \"name\": \"area=Tower Hamlets\", \"showlegend\": true, \"type\": \"splom\"}, {\"dimensions\": [{\"axis\": {\"matches\": true}, \"label\": \"unemployment_rate\", \"values\": [9.0, 9.1, 8.4, 7.6, 8.7, 11.1, 11.2, 11.5, 10.8, 9.4, 9.2]}, {\"axis\": {\"matches\": true}, \"label\": \"3_year_survival_rate\", \"values\": [56.2, 57.2, 61.5, 56.4, 53.9, 54.9, 51.2, 52.0, 54.2, 57.5, 59.5]}, {\"axis\": {\"matches\": true}, \"label\": \"job_density\", \"values\": [0.46, 0.5, 0.44, 0.42, 0.41, 0.41, 0.38, 0.4, 0.43, 0.45, 0.46]}], \"hoverlabel\": {\"namelength\": 0}, \"hovertemplate\": \"area=Waltham Forest<br>%{xaxis.title.text}=%{x}<br>%{yaxis.title.text}=%{y}\", \"legendgroup\": \"area=Waltham Forest\", \"marker\": {\"color\": \"#FF97FF\", \"symbol\": \"circle\"}, \"name\": \"area=Waltham Forest\", \"showlegend\": true, \"type\": \"splom\"}, {\"dimensions\": [{\"axis\": {\"matches\": true}, \"label\": \"unemployment_rate\", \"values\": [5.7, 6.0, 7.2, 5.5, 5.5, 6.3, 7.0, 6.5, 6.6, 7.5, 4.9]}, {\"axis\": {\"matches\": true}, \"label\": \"3_year_survival_rate\", \"values\": [55.3, 57.2, 62.9, 56.5, 53.3, 61.3, 58.6, 62.1, 57.6, 59.4, 60.6]}, {\"axis\": {\"matches\": true}, \"label\": \"job_density\", \"values\": [0.61, 0.59, 0.59, 0.59, 0.59, 0.56, 0.52, 0.55, 0.59, 0.58, 0.57]}], \"hoverlabel\": {\"namelength\": 0}, \"hovertemplate\": \"area=Wandsworth<br>%{xaxis.title.text}=%{x}<br>%{yaxis.title.text}=%{y}\", \"legendgroup\": \"area=Wandsworth\", \"marker\": {\"color\": \"#FECB52\", \"symbol\": \"circle\"}, \"name\": \"area=Wandsworth\", \"showlegend\": true, \"type\": \"splom\"}],\n                        {\"dragmode\": \"select\", \"height\": 600, \"legend\": {\"tracegroupgap\": 0}, \"margin\": {\"t\": 60}, \"template\": {\"data\": {\"bar\": [{\"error_x\": {\"color\": \"#2a3f5f\"}, \"error_y\": {\"color\": \"#2a3f5f\"}, \"marker\": {\"line\": {\"color\": \"#E5ECF6\", \"width\": 0.5}}, \"type\": \"bar\"}], \"barpolar\": [{\"marker\": {\"line\": {\"color\": \"#E5ECF6\", \"width\": 0.5}}, \"type\": \"barpolar\"}], \"carpet\": [{\"aaxis\": {\"endlinecolor\": \"#2a3f5f\", \"gridcolor\": \"white\", \"linecolor\": \"white\", \"minorgridcolor\": \"white\", \"startlinecolor\": \"#2a3f5f\"}, \"baxis\": {\"endlinecolor\": \"#2a3f5f\", \"gridcolor\": \"white\", \"linecolor\": \"white\", \"minorgridcolor\": \"white\", \"startlinecolor\": \"#2a3f5f\"}, \"type\": \"carpet\"}], \"choropleth\": [{\"colorbar\": {\"outlinewidth\": 0, \"ticks\": \"\"}, \"type\": \"choropleth\"}], \"contour\": [{\"colorbar\": {\"outlinewidth\": 0, \"ticks\": \"\"}, \"colorscale\": [[0.0, \"#0d0887\"], [0.1111111111111111, \"#46039f\"], [0.2222222222222222, \"#7201a8\"], [0.3333333333333333, \"#9c179e\"], [0.4444444444444444, \"#bd3786\"], [0.5555555555555556, \"#d8576b\"], [0.6666666666666666, \"#ed7953\"], [0.7777777777777778, \"#fb9f3a\"], [0.8888888888888888, \"#fdca26\"], [1.0, \"#f0f921\"]], \"type\": \"contour\"}], \"contourcarpet\": [{\"colorbar\": {\"outlinewidth\": 0, \"ticks\": \"\"}, \"type\": \"contourcarpet\"}], \"heatmap\": [{\"colorbar\": {\"outlinewidth\": 0, \"ticks\": \"\"}, \"colorscale\": [[0.0, \"#0d0887\"], [0.1111111111111111, \"#46039f\"], [0.2222222222222222, \"#7201a8\"], [0.3333333333333333, \"#9c179e\"], [0.4444444444444444, \"#bd3786\"], [0.5555555555555556, \"#d8576b\"], [0.6666666666666666, \"#ed7953\"], [0.7777777777777778, \"#fb9f3a\"], [0.8888888888888888, \"#fdca26\"], [1.0, \"#f0f921\"]], \"type\": \"heatmap\"}], \"heatmapgl\": [{\"colorbar\": {\"outlinewidth\": 0, \"ticks\": \"\"}, \"colorscale\": [[0.0, \"#0d0887\"], [0.1111111111111111, \"#46039f\"], [0.2222222222222222, \"#7201a8\"], [0.3333333333333333, \"#9c179e\"], [0.4444444444444444, \"#bd3786\"], [0.5555555555555556, \"#d8576b\"], [0.6666666666666666, \"#ed7953\"], [0.7777777777777778, \"#fb9f3a\"], [0.8888888888888888, \"#fdca26\"], [1.0, \"#f0f921\"]], \"type\": \"heatmapgl\"}], \"histogram\": [{\"marker\": {\"colorbar\": {\"outlinewidth\": 0, \"ticks\": \"\"}}, \"type\": \"histogram\"}], \"histogram2d\": [{\"colorbar\": {\"outlinewidth\": 0, \"ticks\": \"\"}, \"colorscale\": [[0.0, \"#0d0887\"], [0.1111111111111111, \"#46039f\"], [0.2222222222222222, \"#7201a8\"], [0.3333333333333333, \"#9c179e\"], [0.4444444444444444, \"#bd3786\"], [0.5555555555555556, \"#d8576b\"], [0.6666666666666666, \"#ed7953\"], [0.7777777777777778, \"#fb9f3a\"], [0.8888888888888888, \"#fdca26\"], [1.0, \"#f0f921\"]], \"type\": \"histogram2d\"}], \"histogram2dcontour\": [{\"colorbar\": {\"outlinewidth\": 0, \"ticks\": \"\"}, \"colorscale\": [[0.0, \"#0d0887\"], [0.1111111111111111, \"#46039f\"], [0.2222222222222222, \"#7201a8\"], [0.3333333333333333, \"#9c179e\"], [0.4444444444444444, \"#bd3786\"], [0.5555555555555556, \"#d8576b\"], [0.6666666666666666, \"#ed7953\"], [0.7777777777777778, \"#fb9f3a\"], [0.8888888888888888, \"#fdca26\"], [1.0, \"#f0f921\"]], \"type\": \"histogram2dcontour\"}], \"mesh3d\": [{\"colorbar\": {\"outlinewidth\": 0, \"ticks\": \"\"}, \"type\": \"mesh3d\"}], \"parcoords\": [{\"line\": {\"colorbar\": {\"outlinewidth\": 0, \"ticks\": \"\"}}, \"type\": \"parcoords\"}], \"scatter\": [{\"marker\": {\"colorbar\": {\"outlinewidth\": 0, \"ticks\": \"\"}}, \"type\": \"scatter\"}], \"scatter3d\": [{\"line\": {\"colorbar\": {\"outlinewidth\": 0, \"ticks\": \"\"}}, \"marker\": {\"colorbar\": {\"outlinewidth\": 0, \"ticks\": \"\"}}, \"type\": \"scatter3d\"}], \"scattercarpet\": [{\"marker\": {\"colorbar\": {\"outlinewidth\": 0, \"ticks\": \"\"}}, \"type\": \"scattercarpet\"}], \"scattergeo\": [{\"marker\": {\"colorbar\": {\"outlinewidth\": 0, \"ticks\": \"\"}}, \"type\": \"scattergeo\"}], \"scattergl\": [{\"marker\": {\"colorbar\": {\"outlinewidth\": 0, \"ticks\": \"\"}}, \"type\": \"scattergl\"}], \"scattermapbox\": [{\"marker\": {\"colorbar\": {\"outlinewidth\": 0, \"ticks\": \"\"}}, \"type\": \"scattermapbox\"}], \"scatterpolar\": [{\"marker\": {\"colorbar\": {\"outlinewidth\": 0, \"ticks\": \"\"}}, \"type\": \"scatterpolar\"}], \"scatterpolargl\": [{\"marker\": {\"colorbar\": {\"outlinewidth\": 0, \"ticks\": \"\"}}, \"type\": \"scatterpolargl\"}], \"scatterternary\": [{\"marker\": {\"colorbar\": {\"outlinewidth\": 0, \"ticks\": \"\"}}, \"type\": \"scatterternary\"}], \"surface\": [{\"colorbar\": {\"outlinewidth\": 0, \"ticks\": \"\"}, \"colorscale\": [[0.0, \"#0d0887\"], [0.1111111111111111, \"#46039f\"], [0.2222222222222222, \"#7201a8\"], [0.3333333333333333, \"#9c179e\"], [0.4444444444444444, \"#bd3786\"], [0.5555555555555556, \"#d8576b\"], [0.6666666666666666, \"#ed7953\"], [0.7777777777777778, \"#fb9f3a\"], [0.8888888888888888, \"#fdca26\"], [1.0, \"#f0f921\"]], \"type\": \"surface\"}], \"table\": [{\"cells\": {\"fill\": {\"color\": \"#EBF0F8\"}, \"line\": {\"color\": \"white\"}}, \"header\": {\"fill\": {\"color\": \"#C8D4E3\"}, \"line\": {\"color\": \"white\"}}, \"type\": \"table\"}]}, \"layout\": {\"annotationdefaults\": {\"arrowcolor\": \"#2a3f5f\", \"arrowhead\": 0, \"arrowwidth\": 1}, \"colorscale\": {\"diverging\": [[0, \"#8e0152\"], [0.1, \"#c51b7d\"], [0.2, \"#de77ae\"], [0.3, \"#f1b6da\"], [0.4, \"#fde0ef\"], [0.5, \"#f7f7f7\"], [0.6, \"#e6f5d0\"], [0.7, \"#b8e186\"], [0.8, \"#7fbc41\"], [0.9, \"#4d9221\"], [1, \"#276419\"]], \"sequential\": [[0.0, \"#0d0887\"], [0.1111111111111111, \"#46039f\"], [0.2222222222222222, \"#7201a8\"], [0.3333333333333333, \"#9c179e\"], [0.4444444444444444, \"#bd3786\"], [0.5555555555555556, \"#d8576b\"], [0.6666666666666666, \"#ed7953\"], [0.7777777777777778, \"#fb9f3a\"], [0.8888888888888888, \"#fdca26\"], [1.0, \"#f0f921\"]], \"sequentialminus\": [[0.0, \"#0d0887\"], [0.1111111111111111, \"#46039f\"], [0.2222222222222222, \"#7201a8\"], [0.3333333333333333, \"#9c179e\"], [0.4444444444444444, \"#bd3786\"], [0.5555555555555556, \"#d8576b\"], [0.6666666666666666, \"#ed7953\"], [0.7777777777777778, \"#fb9f3a\"], [0.8888888888888888, \"#fdca26\"], [1.0, \"#f0f921\"]]}, \"colorway\": [\"#636efa\", \"#EF553B\", \"#00cc96\", \"#ab63fa\", \"#FFA15A\", \"#19d3f3\", \"#FF6692\", \"#B6E880\", \"#FF97FF\", \"#FECB52\"], \"font\": {\"color\": \"#2a3f5f\"}, \"geo\": {\"bgcolor\": \"white\", \"lakecolor\": \"white\", \"landcolor\": \"#E5ECF6\", \"showlakes\": true, \"showland\": true, \"subunitcolor\": \"white\"}, \"hoverlabel\": {\"align\": \"left\"}, \"hovermode\": \"closest\", \"mapbox\": {\"style\": \"light\"}, \"paper_bgcolor\": \"white\", \"plot_bgcolor\": \"#E5ECF6\", \"polar\": {\"angularaxis\": {\"gridcolor\": \"white\", \"linecolor\": \"white\", \"ticks\": \"\"}, \"bgcolor\": \"#E5ECF6\", \"radialaxis\": {\"gridcolor\": \"white\", \"linecolor\": \"white\", \"ticks\": \"\"}}, \"scene\": {\"xaxis\": {\"backgroundcolor\": \"#E5ECF6\", \"gridcolor\": \"white\", \"gridwidth\": 2, \"linecolor\": \"white\", \"showbackground\": true, \"ticks\": \"\", \"zerolinecolor\": \"white\"}, \"yaxis\": {\"backgroundcolor\": \"#E5ECF6\", \"gridcolor\": \"white\", \"gridwidth\": 2, \"linecolor\": \"white\", \"showbackground\": true, \"ticks\": \"\", \"zerolinecolor\": \"white\"}, \"zaxis\": {\"backgroundcolor\": \"#E5ECF6\", \"gridcolor\": \"white\", \"gridwidth\": 2, \"linecolor\": \"white\", \"showbackground\": true, \"ticks\": \"\", \"zerolinecolor\": \"white\"}}, \"shapedefaults\": {\"line\": {\"color\": \"#2a3f5f\"}}, \"ternary\": {\"aaxis\": {\"gridcolor\": \"white\", \"linecolor\": \"white\", \"ticks\": \"\"}, \"baxis\": {\"gridcolor\": \"white\", \"linecolor\": \"white\", \"ticks\": \"\"}, \"bgcolor\": \"#E5ECF6\", \"caxis\": {\"gridcolor\": \"white\", \"linecolor\": \"white\", \"ticks\": \"\"}}, \"title\": {\"x\": 0.05}, \"xaxis\": {\"automargin\": true, \"gridcolor\": \"white\", \"linecolor\": \"white\", \"ticks\": \"\", \"zerolinecolor\": \"white\", \"zerolinewidth\": 2}, \"yaxis\": {\"automargin\": true, \"gridcolor\": \"white\", \"linecolor\": \"white\", \"ticks\": \"\", \"zerolinecolor\": \"white\", \"zerolinewidth\": 2}}}},\n                        {\"responsive\": true}\n                    ).then(function(){\n                            \nvar gd = document.getElementById('01525912-3e79-416b-8a48-dbfc8d632e63');\nvar x = new MutationObserver(function (mutations, observer) {{\n        var display = window.getComputedStyle(gd).display;\n        if (!display || display === 'none') {{\n            console.log([gd, 'removed!']);\n            Plotly.purge(gd);\n            observer.disconnect();\n        }}\n}});\n\n// Listen for the removal of the full notebook cells\nvar notebookContainer = gd.closest('#notebook-container');\nif (notebookContainer) {{\n    x.observe(notebookContainer, {childList: true});\n}}\n\n// Listen for the clearing of the current output cell\nvar outputEl = gd.closest('.output');\nif (outputEl) {{\n    x.observe(outputEl, {childList: true});\n}}\n\n                        })\n                };\n                });\n            </script>\n        </div>"
          },
          "metadata": {}
        }
      ]
    },
    {
      "metadata": {
        "trusted": true
      },
      "cell_type": "code",
      "source": "",
      "execution_count": null,
      "outputs": []
    }
  ],
  "metadata": {
    "kernelspec": {
      "name": "python36",
      "display_name": "Python 3.6",
      "language": "python"
    },
    "language_info": {
      "mimetype": "text/x-python",
      "nbconvert_exporter": "python",
      "name": "python",
      "pygments_lexer": "ipython3",
      "version": "3.6.6",
      "file_extension": ".py",
      "codemirror_mode": {
        "version": 3,
        "name": "ipython"
      }
    }
  },
  "nbformat": 4,
  "nbformat_minor": 2
}