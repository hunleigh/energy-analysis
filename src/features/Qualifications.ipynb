{
  "cells": [
    {
      "metadata": {},
      "cell_type": "markdown",
      "source": "## Importing the required data\n\n- upload https://data.london.gov.uk/dataset/qualifications-economically-active-population-gender-borough xlsx table to 'data'"
    },
    {
      "metadata": {
        "trusted": true
      },
      "cell_type": "code",
      "source": "!mkdir data",
      "execution_count": null,
      "outputs": []
    },
    {
      "metadata": {},
      "cell_type": "markdown",
      "source": "## Converting xlsx file to pandas dataframe"
    },
    {
      "metadata": {
        "trusted": true,
        "scrolled": false
      },
      "cell_type": "code",
      "source": "#to open xlsx files\n!pip install openpyxl",
      "execution_count": 3,
      "outputs": [
        {
          "output_type": "stream",
          "text": "Requirement already satisfied: openpyxl in /home/nbuser/anaconda3_501/lib/python3.6/site-packages (2.5.8)\r\nRequirement already satisfied: et-xmlfile in /home/nbuser/anaconda3_501/lib/python3.6/site-packages (from openpyxl) (1.0.1)\r\nRequirement already satisfied: jdcal in /home/nbuser/anaconda3_501/lib/python3.6/site-packages (from openpyxl) (1.4)\r\n",
          "name": "stdout"
        }
      ]
    },
    {
      "metadata": {
        "trusted": true
      },
      "cell_type": "code",
      "source": "import pandas as pd",
      "execution_count": 4,
      "outputs": []
    },
    {
      "metadata": {
        "trusted": true
      },
      "cell_type": "code",
      "source": "import numpy as np",
      "execution_count": 5,
      "outputs": []
    },
    {
      "metadata": {
        "trusted": true
      },
      "cell_type": "code",
      "source": "from openpyxl import load_workbook\nwb2 = load_workbook('./data/Qualifications-by-economic-activity-status-borough.xlsx', data_only=True)",
      "execution_count": 6,
      "outputs": []
    },
    {
      "metadata": {
        "trusted": true,
        "scrolled": false
      },
      "cell_type": "code",
      "source": "wb2.sheetnames",
      "execution_count": 7,
      "outputs": [
        {
          "output_type": "execute_result",
          "execution_count": 7,
          "data": {
            "text/plain": "['Metadata',\n 'Quals of Workless',\n 'Quals of Unemployed Borough',\n '2004',\n '2005',\n '2006',\n '2007',\n '2008',\n '2009',\n '2010',\n '2011',\n '2012',\n '2013',\n '2014',\n '2015',\n '2016',\n '2017',\n '2018']"
          },
          "metadata": {}
        }
      ]
    },
    {
      "metadata": {},
      "cell_type": "markdown",
      "source": "## 1) Dataset with averages over time"
    },
    {
      "metadata": {},
      "cell_type": "markdown",
      "source": "## Establishing an average qualification score\n- assign all categories a certain ordinal value from 0 to 4.5:\n    - NVQ4+: 4.5 bc. it includes all 4 and 5 level active persons\n    - Trade Apprenticeship: 2.5 bc. such an apprenticeship can get assigned level 2 or 3 (https://www.gov.uk/government/publications/a-guide-to-apprenticeships)\n    - Other: 2.25 bc that is the average btw. 0 and 4.5"
    },
    {
      "metadata": {
        "trusted": true
      },
      "cell_type": "code",
      "source": "ws2 = wb2[\"2004\"]\ndf04 = pd.DataFrame(ws2.values)\n\ndfT = df04.T\nnumber = dfT.loc[dfT[1]==\"number\"]\ndfT.drop(number.index, axis=0, inplace=True)\ndenom = dfT.loc[dfT[1]==\"denominator\"]\ndfT.drop(denom.index, axis=0, inplace=True)\nconf = dfT.loc[dfT[1]==\"confidence\"]\ndfT.drop(conf.index, axis=0, inplace=True)\nmale = dfT.iloc[3::3, :]\ndfT.drop(male.index, axis=0, inplace=True)\nfemale = dfT.iloc[3::2, :]\ndfT.drop(female.index, axis=0, inplace=True)\ndfT.drop(0, axis=1, inplace=True)\ndfT.drop(2, axis=1, inplace=True)\ndfT.iloc[2, 0] = 'NVQ4+'\ndfT.iloc[3, 0] = 'NVQ3'\ndfT.iloc[4, 0] = 'Trade Apprenticeship'\ndfT.iloc[5, 0] = 'NVQ2'\ndfT.iloc[6, 0] = 'NVQ1'\ndfT.iloc[7, 0] = 'Other'\ndfT.iloc[8, 0] = 'No Qualifications'\ndfT.replace('!', 0, inplace=True) #bc. ! indicates that level close to 0\n\ndf = dfT.T\ndf.columns = df.loc[1]\ndf.drop(1, axis=0, inplace=True)\n\n#Estblishing an average score\ndf['Average score'] = (df['NVQ4+']*4.5 + df['NVQ3']*3 + df['Trade Apprenticeship']*2.5 + df['NVQ2']*2 + df['NVQ1']*1 + df['Other']*2.25 + df['No Qualifications']*0)/100\nav04 = df['Average score']",
      "execution_count": 17,
      "outputs": []
    },
    {
      "metadata": {
        "trusted": true
      },
      "cell_type": "code",
      "source": "ws2 = wb2[\"2005\"]\ndf05 = pd.DataFrame(ws2.values)\n\ndfT = df05.T\nnumber = dfT.loc[dfT[1]==\"number\"]\ndfT.drop(number.index, axis=0, inplace=True)\ndenom = dfT.loc[dfT[1]==\"denominator\"]\ndfT.drop(denom.index, axis=0, inplace=True)\nconf = dfT.loc[dfT[1]==\"confidence\"]\ndfT.drop(conf.index, axis=0, inplace=True)\nmale = dfT.iloc[3::3, :]\ndfT.drop(male.index, axis=0, inplace=True)\nfemale = dfT.iloc[3::2, :]\ndfT.drop(female.index, axis=0, inplace=True)\ndfT.drop(0, axis=1, inplace=True)\ndfT.drop(2, axis=1, inplace=True)\ndfT.iloc[2, 0] = 'NVQ4+'\ndfT.iloc[3, 0] = 'NVQ3'\ndfT.iloc[4, 0] = 'Trade Apprenticeship'\ndfT.iloc[5, 0] = 'NVQ2'\ndfT.iloc[6, 0] = 'NVQ1'\ndfT.iloc[7, 0] = 'Other'\ndfT.iloc[8, 0] = 'No Qualifications'\ndfT.replace('!', 0, inplace=True) #bc. ! indicates that level close to 0\n\ndf = dfT.T\ndf.columns = df.loc[1]\ndf.drop(1, axis=0, inplace=True)\n\n#Estblishing an average score\ndf['Average score'] = (df['NVQ4+']*4.5 + df['NVQ3']*3 + df['Trade Apprenticeship']*2.5 + df['NVQ2']*2 + df['NVQ1']*1 + df['Other']*2.25 + df['No Qualifications']*0)/100\nav05 = df['Average score']",
      "execution_count": 19,
      "outputs": []
    },
    {
      "metadata": {
        "trusted": true
      },
      "cell_type": "code",
      "source": "ws2 = wb2[\"2006\"]\ndf06 = pd.DataFrame(ws2.values)\n\ndfT = df06.T\nnumber = dfT.loc[dfT[1]==\"number\"]\ndfT.drop(number.index, axis=0, inplace=True)\ndenom = dfT.loc[dfT[1]==\"denominator\"]\ndfT.drop(denom.index, axis=0, inplace=True)\nconf = dfT.loc[dfT[1]==\"confidence\"]\ndfT.drop(conf.index, axis=0, inplace=True)\nmale = dfT.iloc[3::3, :]\ndfT.drop(male.index, axis=0, inplace=True)\nfemale = dfT.iloc[3::2, :]\ndfT.drop(female.index, axis=0, inplace=True)\ndfT.drop(0, axis=1, inplace=True)\ndfT.drop(2, axis=1, inplace=True)\ndfT.iloc[2, 0] = 'NVQ4+'\ndfT.iloc[3, 0] = 'NVQ3'\ndfT.iloc[4, 0] = 'Trade Apprenticeship'\ndfT.iloc[5, 0] = 'NVQ2'\ndfT.iloc[6, 0] = 'NVQ1'\ndfT.iloc[7, 0] = 'Other'\ndfT.iloc[8, 0] = 'No Qualifications'\ndfT.replace('!', 0, inplace=True) #bc. ! indicates that level close to 0\n\ndf = dfT.T\ndf.columns = df.loc[1]\ndf.drop(1, axis=0, inplace=True)\n\n#Estblishing an average score\ndf['Average score'] = (df['NVQ4+']*4.5 + df['NVQ3']*3 + df['Trade Apprenticeship']*2.5 + df['NVQ2']*2 + df['NVQ1']*1 + df['Other']*2.25 + df['No Qualifications']*0)/100\nav06 = df['Average score']",
      "execution_count": 20,
      "outputs": []
    },
    {
      "metadata": {
        "trusted": true
      },
      "cell_type": "code",
      "source": "ws2 = wb2[\"2007\"]\ndf07 = pd.DataFrame(ws2.values)\n\ndfT = df07.T\nnumber = dfT.loc[dfT[1]==\"number\"]\ndfT.drop(number.index, axis=0, inplace=True)\ndenom = dfT.loc[dfT[1]==\"denominator\"]\ndfT.drop(denom.index, axis=0, inplace=True)\nconf = dfT.loc[dfT[1]==\"confidence\"]\ndfT.drop(conf.index, axis=0, inplace=True)\nmale = dfT.iloc[3::3, :]\ndfT.drop(male.index, axis=0, inplace=True)\nfemale = dfT.iloc[3::2, :]\ndfT.drop(female.index, axis=0, inplace=True)\ndfT.drop(0, axis=1, inplace=True)\ndfT.drop(2, axis=1, inplace=True)\ndfT.iloc[2, 0] = 'NVQ4+'\ndfT.iloc[3, 0] = 'NVQ3'\ndfT.iloc[4, 0] = 'Trade Apprenticeship'\ndfT.iloc[5, 0] = 'NVQ2'\ndfT.iloc[6, 0] = 'NVQ1'\ndfT.iloc[7, 0] = 'Other'\ndfT.iloc[8, 0] = 'No Qualifications'\ndfT.replace('!', 0, inplace=True) #bc. ! indicates that level close to 0\n\ndf = dfT.T\ndf.columns = df.loc[1]\ndf.drop(1, axis=0, inplace=True)\n\n#Estblishing an average score\ndf['Average score'] = (df['NVQ4+']*4.5 + df['NVQ3']*3 + df['Trade Apprenticeship']*2.5 + df['NVQ2']*2 + df['NVQ1']*1 + df['Other']*2.25 + df['No Qualifications']*0)/100\nav07 = df['Average score']",
      "execution_count": 21,
      "outputs": []
    },
    {
      "metadata": {
        "trusted": true
      },
      "cell_type": "code",
      "source": "ws2 = wb2[\"2008\"]\ndf08 = pd.DataFrame(ws2.values)\n\ndfT = df08.T\nnumber = dfT.loc[dfT[1]==\"number\"]\ndfT.drop(number.index, axis=0, inplace=True)\ndenom = dfT.loc[dfT[1]==\"denominator\"]\ndfT.drop(denom.index, axis=0, inplace=True)\nconf = dfT.loc[dfT[1]==\"confidence\"]\ndfT.drop(conf.index, axis=0, inplace=True)\nmale = dfT.iloc[3::3, :]\ndfT.drop(male.index, axis=0, inplace=True)\nfemale = dfT.iloc[3::2, :]\ndfT.drop(female.index, axis=0, inplace=True)\ndfT.drop(0, axis=1, inplace=True)\ndfT.drop(2, axis=1, inplace=True)\ndfT.iloc[2, 0] = 'NVQ4+'\ndfT.iloc[3, 0] = 'NVQ3'\ndfT.iloc[4, 0] = 'Trade Apprenticeship'\ndfT.iloc[5, 0] = 'NVQ2'\ndfT.iloc[6, 0] = 'NVQ1'\ndfT.iloc[7, 0] = 'Other'\ndfT.iloc[8, 0] = 'No Qualifications'\ndfT.replace('!', 0, inplace=True) #bc. ! indicates that level close to 0\n\ndf = dfT.T\ndf.columns = df.loc[1]\ndf.drop(1, axis=0, inplace=True)\n\n#Estblishing an average score\ndf['Average score'] = (df['NVQ4+']*4.5 + df['NVQ3']*3 + df['Trade Apprenticeship']*2.5 + df['NVQ2']*2 + df['NVQ1']*1 + df['Other']*2.25 + df['No Qualifications']*0)/100\nav08 = df['Average score']",
      "execution_count": 22,
      "outputs": []
    },
    {
      "metadata": {
        "trusted": true
      },
      "cell_type": "code",
      "source": "ws2 = wb2[\"2009\"]\ndf09 = pd.DataFrame(ws2.values)\n\ndfT = df09.T\nnumber = dfT.loc[dfT[1]==\"number\"]\ndfT.drop(number.index, axis=0, inplace=True)\ndenom = dfT.loc[dfT[1]==\"denominator\"]\ndfT.drop(denom.index, axis=0, inplace=True)\nconf = dfT.loc[dfT[1]==\"confidence\"]\ndfT.drop(conf.index, axis=0, inplace=True)\nmale = dfT.iloc[3::3, :]\ndfT.drop(male.index, axis=0, inplace=True)\nfemale = dfT.iloc[3::2, :]\ndfT.drop(female.index, axis=0, inplace=True)\ndfT.drop(0, axis=1, inplace=True)\ndfT.drop(2, axis=1, inplace=True)\ndfT.iloc[2, 0] = 'NVQ4+'\ndfT.iloc[3, 0] = 'NVQ3'\ndfT.iloc[4, 0] = 'Trade Apprenticeship'\ndfT.iloc[5, 0] = 'NVQ2'\ndfT.iloc[6, 0] = 'NVQ1'\ndfT.iloc[7, 0] = 'Other'\ndfT.iloc[8, 0] = 'No Qualifications'\ndfT.replace('!', 0, inplace=True) #bc. ! indicates that level close to 0\n\ndf = dfT.T\ndf.columns = df.loc[1]\ndf.drop(1, axis=0, inplace=True)\n\n#Estblishing an average score\ndf['Average score'] = (df['NVQ4+']*4.5 + df['NVQ3']*3 + df['Trade Apprenticeship']*2.5 + df['NVQ2']*2 + df['NVQ1']*1 + df['Other']*2.25 + df['No Qualifications']*0)/100\nav09 = df['Average score']",
      "execution_count": 23,
      "outputs": []
    },
    {
      "metadata": {
        "trusted": true
      },
      "cell_type": "code",
      "source": "ws2 = wb2[\"2010\"]\ndf10 = pd.DataFrame(ws2.values)\n\ndfT = df10.T\nnumber = dfT.loc[dfT[1]==\"number\"]\ndfT.drop(number.index, axis=0, inplace=True)\ndenom = dfT.loc[dfT[1]==\"denominator\"]\ndfT.drop(denom.index, axis=0, inplace=True)\nconf = dfT.loc[dfT[1]==\"confidence\"]\ndfT.drop(conf.index, axis=0, inplace=True)\nmale = dfT.iloc[3::3, :]\ndfT.drop(male.index, axis=0, inplace=True)\nfemale = dfT.iloc[3::2, :]\ndfT.drop(female.index, axis=0, inplace=True)\ndfT.drop(0, axis=1, inplace=True)\ndfT.drop(2, axis=1, inplace=True)\ndfT.iloc[2, 0] = 'NVQ4+'\ndfT.iloc[3, 0] = 'NVQ3'\ndfT.iloc[4, 0] = 'Trade Apprenticeship'\ndfT.iloc[5, 0] = 'NVQ2'\ndfT.iloc[6, 0] = 'NVQ1'\ndfT.iloc[7, 0] = 'Other'\ndfT.iloc[8, 0] = 'No Qualifications'\ndfT.replace('!', 0, inplace=True) #bc. ! indicates that level close to 0\n\ndf = dfT.T\ndf.columns = df.loc[1]\ndf.drop(1, axis=0, inplace=True)\n\n#Estblishing an average score\ndf['Average score'] = (df['NVQ4+']*4.5 + df['NVQ3']*3 + df['Trade Apprenticeship']*2.5 + df['NVQ2']*2 + df['NVQ1']*1 + df['Other']*2.25 + df['No Qualifications']*0)/100\nav10 = df['Average score']",
      "execution_count": 24,
      "outputs": []
    },
    {
      "metadata": {
        "trusted": true
      },
      "cell_type": "code",
      "source": "ws2 = wb2[\"2011\"]\ndf11 = pd.DataFrame(ws2.values)\n\ndfT = df11.T\nnumber = dfT.loc[dfT[1]==\"number\"]\ndfT.drop(number.index, axis=0, inplace=True)\ndenom = dfT.loc[dfT[1]==\"denominator\"]\ndfT.drop(denom.index, axis=0, inplace=True)\nconf = dfT.loc[dfT[1]==\"confidence\"]\ndfT.drop(conf.index, axis=0, inplace=True)\nmale = dfT.iloc[3::3, :]\ndfT.drop(male.index, axis=0, inplace=True)\nfemale = dfT.iloc[3::2, :]\ndfT.drop(female.index, axis=0, inplace=True)\ndfT.drop(0, axis=1, inplace=True)\ndfT.drop(2, axis=1, inplace=True)\ndfT.iloc[2, 0] = 'NVQ4+'\ndfT.iloc[3, 0] = 'NVQ3'\ndfT.iloc[4, 0] = 'Trade Apprenticeship'\ndfT.iloc[5, 0] = 'NVQ2'\ndfT.iloc[6, 0] = 'NVQ1'\ndfT.iloc[7, 0] = 'Other'\ndfT.iloc[8, 0] = 'No Qualifications'\ndfT.replace('!', 0, inplace=True) #bc. ! indicates that level close to 0\n\ndf = dfT.T\ndf.columns = df.loc[1]\ndf.drop(1, axis=0, inplace=True)\n\n#Estblishing an average score\ndf['Average score'] = (df['NVQ4+']*4.5 + df['NVQ3']*3 + df['Trade Apprenticeship']*2.5 + df['NVQ2']*2 + df['NVQ1']*1 + df['Other']*2.25 + df['No Qualifications']*0)/100\nav11 = df['Average score']",
      "execution_count": 25,
      "outputs": []
    },
    {
      "metadata": {
        "trusted": true
      },
      "cell_type": "code",
      "source": "ws2 = wb2[\"2012\"]\ndf12 = pd.DataFrame(ws2.values)\n\ndfT = df12.T\nnumber = dfT.loc[dfT[1]==\"number\"]\ndfT.drop(number.index, axis=0, inplace=True)\ndenom = dfT.loc[dfT[1]==\"denominator\"]\ndfT.drop(denom.index, axis=0, inplace=True)\nconf = dfT.loc[dfT[1]==\"confidence\"]\ndfT.drop(conf.index, axis=0, inplace=True)\nmale = dfT.iloc[3::3, :]\ndfT.drop(male.index, axis=0, inplace=True)\nfemale = dfT.iloc[3::2, :]\ndfT.drop(female.index, axis=0, inplace=True)\ndfT.drop(0, axis=1, inplace=True)\ndfT.drop(2, axis=1, inplace=True)\ndfT.iloc[2, 0] = 'NVQ4+'\ndfT.iloc[3, 0] = 'NVQ3'\ndfT.iloc[4, 0] = 'Trade Apprenticeship'\ndfT.iloc[5, 0] = 'NVQ2'\ndfT.iloc[6, 0] = 'NVQ1'\ndfT.iloc[7, 0] = 'Other'\ndfT.iloc[8, 0] = 'No Qualifications'\ndfT.replace('!', 0, inplace=True) #bc. ! indicates that level close to 0\n\ndf = dfT.T\ndf.columns = df.loc[1]\ndf.drop(1, axis=0, inplace=True)\n\n#Estblishing an average score\ndf['Average score'] = (df['NVQ4+']*4.5 + df['NVQ3']*3 + df['Trade Apprenticeship']*2.5 + df['NVQ2']*2 + df['NVQ1']*1 + df['Other']*2.25 + df['No Qualifications']*0)/100\nav12 = df['Average score']",
      "execution_count": 26,
      "outputs": []
    },
    {
      "metadata": {
        "trusted": true
      },
      "cell_type": "code",
      "source": "ws2 = wb2[\"2013\"]\ndf13 = pd.DataFrame(ws2.values)\n\ndfT = df13.T\nnumber = dfT.loc[dfT[1]==\"number\"]\ndfT.drop(number.index, axis=0, inplace=True)\ndenom = dfT.loc[dfT[1]==\"denominator\"]\ndfT.drop(denom.index, axis=0, inplace=True)\nconf = dfT.loc[dfT[1]==\"confidence\"]\ndfT.drop(conf.index, axis=0, inplace=True)\nmale = dfT.iloc[3::3, :]\ndfT.drop(male.index, axis=0, inplace=True)\nfemale = dfT.iloc[3::2, :]\ndfT.drop(female.index, axis=0, inplace=True)\ndfT.drop(0, axis=1, inplace=True)\ndfT.drop(2, axis=1, inplace=True)\ndfT.iloc[2, 0] = 'NVQ4+'\ndfT.iloc[3, 0] = 'NVQ3'\ndfT.iloc[4, 0] = 'Trade Apprenticeship'\ndfT.iloc[5, 0] = 'NVQ2'\ndfT.iloc[6, 0] = 'NVQ1'\ndfT.iloc[7, 0] = 'Other'\ndfT.iloc[8, 0] = 'No Qualifications'\ndfT.replace('!', 0, inplace=True) #bc. ! indicates that level close to 0\n\ndf = dfT.T\ndf.columns = df.loc[1]\ndf.drop(1, axis=0, inplace=True)\n\n#Estblishing an average score\ndf['Average score'] = (df['NVQ4+']*4.5 + df['NVQ3']*3 + df['Trade Apprenticeship']*2.5 + df['NVQ2']*2 + df['NVQ1']*1 + df['Other']*2.25 + df['No Qualifications']*0)/100\nav13 = df['Average score']",
      "execution_count": 27,
      "outputs": []
    },
    {
      "metadata": {
        "trusted": true
      },
      "cell_type": "code",
      "source": "ws2 = wb2[\"2014\"]\ndf14 = pd.DataFrame(ws2.values)\n\ndfT = df14.T\nnumber = dfT.loc[dfT[1]==\"number\"]\ndfT.drop(number.index, axis=0, inplace=True)\ndenom = dfT.loc[dfT[1]==\"denominator\"]\ndfT.drop(denom.index, axis=0, inplace=True)\nconf = dfT.loc[dfT[1]==\"confidence\"]\ndfT.drop(conf.index, axis=0, inplace=True)\nmale = dfT.iloc[3::3, :]\ndfT.drop(male.index, axis=0, inplace=True)\nfemale = dfT.iloc[3::2, :]\ndfT.drop(female.index, axis=0, inplace=True)\ndfT.drop(0, axis=1, inplace=True)\ndfT.drop(2, axis=1, inplace=True)\ndfT.iloc[2, 0] = 'NVQ4+'\ndfT.iloc[3, 0] = 'NVQ3'\ndfT.iloc[4, 0] = 'Trade Apprenticeship'\ndfT.iloc[5, 0] = 'NVQ2'\ndfT.iloc[6, 0] = 'NVQ1'\ndfT.iloc[7, 0] = 'Other'\ndfT.iloc[8, 0] = 'No Qualifications'\ndfT.replace('!', 0, inplace=True) #bc. ! indicates that level close to 0\n\ndf = dfT.T\ndf.columns = df.loc[1]\ndf.drop(1, axis=0, inplace=True)\n\n#Estblishing an average score\ndf['Average score'] = (df['NVQ4+']*4.5 + df['NVQ3']*3 + df['Trade Apprenticeship']*2.5 + df['NVQ2']*2 + df['NVQ1']*1 + df['Other']*2.25 + df['No Qualifications']*0)/100\nav14 = df['Average score']",
      "execution_count": 28,
      "outputs": []
    },
    {
      "metadata": {
        "trusted": true
      },
      "cell_type": "code",
      "source": "ws2 = wb2[\"2015\"]\ndf15 = pd.DataFrame(ws2.values)\n\ndfT = df15.T\nnumber = dfT.loc[dfT[1]==\"number\"]\ndfT.drop(number.index, axis=0, inplace=True)\ndenom = dfT.loc[dfT[1]==\"denominator\"]\ndfT.drop(denom.index, axis=0, inplace=True)\nconf = dfT.loc[dfT[1]==\"confidence\"]\ndfT.drop(conf.index, axis=0, inplace=True)\nmale = dfT.iloc[3::3, :]\ndfT.drop(male.index, axis=0, inplace=True)\nfemale = dfT.iloc[3::2, :]\ndfT.drop(female.index, axis=0, inplace=True)\ndfT.drop(0, axis=1, inplace=True)\ndfT.drop(2, axis=1, inplace=True)\ndfT.iloc[2, 0] = 'NVQ4+'\ndfT.iloc[3, 0] = 'NVQ3'\ndfT.iloc[4, 0] = 'Trade Apprenticeship'\ndfT.iloc[5, 0] = 'NVQ2'\ndfT.iloc[6, 0] = 'NVQ1'\ndfT.iloc[7, 0] = 'Other'\ndfT.iloc[8, 0] = 'No Qualifications'\ndfT.replace('!', 0, inplace=True) #bc. ! indicates that level close to 0\n\ndf = dfT.T\ndf.columns = df.loc[1]\ndf.drop(1, axis=0, inplace=True)\n\n#Estblishing an average score\ndf['Average score'] = (df['NVQ4+']*4.5 + df['NVQ3']*3 + df['Trade Apprenticeship']*2.5 + df['NVQ2']*2 + df['NVQ1']*1 + df['Other']*2.25 + df['No Qualifications']*0)/100\nav15 = df['Average score']",
      "execution_count": 29,
      "outputs": []
    },
    {
      "metadata": {
        "trusted": true
      },
      "cell_type": "code",
      "source": "ws2 = wb2[\"2016\"]\ndf16 = pd.DataFrame(ws2.values)\n\ndfT = df16.T\nnumber = dfT.loc[dfT[1]==\"number\"]\ndfT.drop(number.index, axis=0, inplace=True)\ndenom = dfT.loc[dfT[1]==\"denominator\"]\ndfT.drop(denom.index, axis=0, inplace=True)\nconf = dfT.loc[dfT[1]==\"confidence\"]\ndfT.drop(conf.index, axis=0, inplace=True)\nmale = dfT.iloc[3::3, :]\ndfT.drop(male.index, axis=0, inplace=True)\nfemale = dfT.iloc[3::2, :]\ndfT.drop(female.index, axis=0, inplace=True)\ndfT.drop(0, axis=1, inplace=True)\ndfT.drop(2, axis=1, inplace=True)\ndfT.iloc[2, 0] = 'NVQ4+'\ndfT.iloc[3, 0] = 'NVQ3'\ndfT.iloc[4, 0] = 'Trade Apprenticeship'\ndfT.iloc[5, 0] = 'NVQ2'\ndfT.iloc[6, 0] = 'NVQ1'\ndfT.iloc[7, 0] = 'Other'\ndfT.iloc[8, 0] = 'No Qualifications'\ndfT.replace('!', 0, inplace=True) #bc. ! indicates that level close to 0\n\ndf = dfT.T\ndf.columns = df.loc[1]\ndf.drop(1, axis=0, inplace=True)\n\n#Estblishing an average score\ndf['Average score'] = (df['NVQ4+']*4.5 + df['NVQ3']*3 + df['Trade Apprenticeship']*2.5 + df['NVQ2']*2 + df['NVQ1']*1 + df['Other']*2.25 + df['No Qualifications']*0)/100\nav16 = df['Average score']",
      "execution_count": 30,
      "outputs": []
    },
    {
      "metadata": {
        "trusted": true
      },
      "cell_type": "code",
      "source": "ws2 = wb2[\"2017\"]\ndf17 = pd.DataFrame(ws2.values)\n\ndfT = df17.T\nnumber = dfT.loc[dfT[1]==\"number\"]\ndfT.drop(number.index, axis=0, inplace=True)\ndenom = dfT.loc[dfT[1]==\"denominator\"]\ndfT.drop(denom.index, axis=0, inplace=True)\nconf = dfT.loc[dfT[1]==\"confidence\"]\ndfT.drop(conf.index, axis=0, inplace=True)\nmale = dfT.iloc[3::3, :]\ndfT.drop(male.index, axis=0, inplace=True)\nfemale = dfT.iloc[3::2, :]\ndfT.drop(female.index, axis=0, inplace=True)\ndfT.drop(0, axis=1, inplace=True)\ndfT.drop(2, axis=1, inplace=True)\ndfT.iloc[2, 0] = 'NVQ4+'\ndfT.iloc[3, 0] = 'NVQ3'\ndfT.iloc[4, 0] = 'Trade Apprenticeship'\ndfT.iloc[5, 0] = 'NVQ2'\ndfT.iloc[6, 0] = 'NVQ1'\ndfT.iloc[7, 0] = 'Other'\ndfT.iloc[8, 0] = 'No Qualifications'\ndfT.replace('!', 0, inplace=True) #bc. ! indicates that level close to 0\n\ndf = dfT.T\ndf.columns = df.loc[1]\ndf.drop(1, axis=0, inplace=True)\n\n#Estblishing an average score\ndf['Average score'] = (df['NVQ4+']*4.5 + df['NVQ3']*3 + df['Trade Apprenticeship']*2.5 + df['NVQ2']*2 + df['NVQ1']*1 + df['Other']*2.25 + df['No Qualifications']*0)/100\nav17 = df['Average score']",
      "execution_count": 31,
      "outputs": []
    },
    {
      "metadata": {
        "trusted": true
      },
      "cell_type": "code",
      "source": "ws2 = wb2[\"2018\"]\ndf18 = pd.DataFrame(ws2.values)\n\ndfT = df18.T\nnumber = dfT.loc[dfT[1]==\"number\"]\ndfT.drop(number.index, axis=0, inplace=True)\ndenom = dfT.loc[dfT[1]==\"denominator\"]\ndfT.drop(denom.index, axis=0, inplace=True)\nconf = dfT.loc[dfT[1]==\"confidence\"]\ndfT.drop(conf.index, axis=0, inplace=True)\nmale = dfT.iloc[3::3, :]\ndfT.drop(male.index, axis=0, inplace=True)\nfemale = dfT.iloc[3::2, :]\ndfT.drop(female.index, axis=0, inplace=True)\ndfT.drop(0, axis=1, inplace=True)\ndfT.drop(2, axis=1, inplace=True)\ndfT.iloc[2, 0] = 'NVQ4+'\ndfT.iloc[3, 0] = 'NVQ3'\ndfT.iloc[4, 0] = 'Trade Apprenticeship'\ndfT.iloc[5, 0] = 'NVQ2'\ndfT.iloc[6, 0] = 'NVQ1'\ndfT.iloc[7, 0] = 'Other'\ndfT.iloc[8, 0] = 'No Qualifications'\ndfT.replace('!', 0, inplace=True) #bc. ! indicates that level close to 0\n\ndf = dfT.T\ndf.columns = df.loc[1]\ndf.drop(1, axis=0, inplace=True)\n\n#Estblishing an average score\ndf['Average score'] = (df['NVQ4+']*4.5 + df['NVQ3']*3 + df['Trade Apprenticeship']*2.5 + df['NVQ2']*2 + df['NVQ1']*1 + df['Other']*2.25 + df['No Qualifications']*0)/100\nav18 = df['Average score']",
      "execution_count": 32,
      "outputs": []
    },
    {
      "metadata": {
        "trusted": true
      },
      "cell_type": "code",
      "source": "#using only the borough key of df\nbulk = df.iloc[::, 2:]",
      "execution_count": 33,
      "outputs": []
    },
    {
      "metadata": {
        "trusted": true
      },
      "cell_type": "code",
      "source": "df.drop(bulk, axis=1, inplace=True)",
      "execution_count": 34,
      "outputs": []
    },
    {
      "metadata": {
        "trusted": true
      },
      "cell_type": "code",
      "source": "df = pd.concat([df, av04], axis=1)\ndf = pd.concat([df, av05], axis=1)\ndf = pd.concat([df, av06], axis=1)\ndf = pd.concat([df, av07], axis=1)\ndf = pd.concat([df, av08], axis=1)\ndf = pd.concat([df, av09], axis=1)\ndf = pd.concat([df, av10], axis=1)\ndf = pd.concat([df, av11], axis=1)\ndf = pd.concat([df, av12], axis=1)\ndf = pd.concat([df, av13], axis=1)\ndf = pd.concat([df, av14], axis=1)\ndf = pd.concat([df, av15], axis=1)\ndf = pd.concat([df, av16], axis=1)\ndf = pd.concat([df, av17], axis=1)\ndf = pd.concat([df, av18], axis=1)\ndf",
      "execution_count": 35,
      "outputs": [
        {
          "output_type": "execute_result",
          "execution_count": 35,
          "data": {
            "text/html": "<div>\n<style scoped>\n    .dataframe tbody tr th:only-of-type {\n        vertical-align: middle;\n    }\n\n    .dataframe tbody tr th {\n        vertical-align: top;\n    }\n\n    .dataframe thead th {\n        text-align: right;\n    }\n</style>\n<table border=\"1\" class=\"dataframe\">\n  <thead>\n    <tr style=\"text-align: right;\">\n      <th></th>\n      <th>Code</th>\n      <th>Area</th>\n      <th>Average score</th>\n      <th>Average score</th>\n      <th>Average score</th>\n      <th>Average score</th>\n      <th>Average score</th>\n      <th>Average score</th>\n      <th>Average score</th>\n      <th>Average score</th>\n      <th>Average score</th>\n      <th>Average score</th>\n      <th>Average score</th>\n      <th>Average score</th>\n      <th>Average score</th>\n      <th>Average score</th>\n      <th>Average score</th>\n    </tr>\n  </thead>\n  <tbody>\n    <tr>\n      <th>3</th>\n      <td>00AA</td>\n      <td>City of London</td>\n      <td>3.627</td>\n      <td>3.2895</td>\n      <td>3.0555</td>\n      <td>3.3165</td>\n      <td>3.123</td>\n      <td>4.5</td>\n      <td>0</td>\n      <td>0</td>\n      <td>4.5</td>\n      <td>4.5</td>\n      <td>0</td>\n      <td>4.5</td>\n      <td>3.7485</td>\n      <td>4.0995</td>\n      <td>4.5</td>\n    </tr>\n    <tr>\n      <th>4</th>\n      <td>00AB</td>\n      <td>Barking and Dagenham</td>\n      <td>2.07775</td>\n      <td>2.161</td>\n      <td>2.097</td>\n      <td>2.21125</td>\n      <td>2.3215</td>\n      <td>2.53075</td>\n      <td>2.59075</td>\n      <td>2.6955</td>\n      <td>2.654</td>\n      <td>2.623</td>\n      <td>2.713</td>\n      <td>2.83825</td>\n      <td>2.77775</td>\n      <td>2.769</td>\n      <td>2.88675</td>\n    </tr>\n    <tr>\n      <th>5</th>\n      <td>00AC</td>\n      <td>Barnet</td>\n      <td>3.02875</td>\n      <td>3.1595</td>\n      <td>3.04375</td>\n      <td>3.10425</td>\n      <td>3.162</td>\n      <td>3.2125</td>\n      <td>3.33575</td>\n      <td>3.42375</td>\n      <td>3.31625</td>\n      <td>3.421</td>\n      <td>3.225</td>\n      <td>3.42575</td>\n      <td>3.599</td>\n      <td>3.55875</td>\n      <td>3.565</td>\n    </tr>\n    <tr>\n      <th>6</th>\n      <td>00AD</td>\n      <td>Bexley</td>\n      <td>2.28875</td>\n      <td>2.41</td>\n      <td>2.50825</td>\n      <td>2.3595</td>\n      <td>2.5665</td>\n      <td>2.67925</td>\n      <td>2.7215</td>\n      <td>2.69475</td>\n      <td>2.75925</td>\n      <td>2.85375</td>\n      <td>2.91825</td>\n      <td>2.863</td>\n      <td>3.06625</td>\n      <td>3.01475</td>\n      <td>3.137</td>\n    </tr>\n    <tr>\n      <th>7</th>\n      <td>00AE</td>\n      <td>Brent</td>\n      <td>2.679</td>\n      <td>2.9185</td>\n      <td>2.82075</td>\n      <td>2.76825</td>\n      <td>2.82625</td>\n      <td>2.994</td>\n      <td>2.88125</td>\n      <td>2.79825</td>\n      <td>3.16925</td>\n      <td>3.2435</td>\n      <td>3.35525</td>\n      <td>3.339</td>\n      <td>3.3165</td>\n      <td>3.14475</td>\n      <td>3.2155</td>\n    </tr>\n    <tr>\n      <th>8</th>\n      <td>00AF</td>\n      <td>Bromley</td>\n      <td>2.8605</td>\n      <td>2.79825</td>\n      <td>2.91025</td>\n      <td>2.9665</td>\n      <td>2.8885</td>\n      <td>2.9955</td>\n      <td>3.0675</td>\n      <td>3.1615</td>\n      <td>3.241</td>\n      <td>3.303</td>\n      <td>3.30525</td>\n      <td>3.36275</td>\n      <td>3.40825</td>\n      <td>3.30625</td>\n      <td>3.43</td>\n    </tr>\n    <tr>\n      <th>9</th>\n      <td>00AG</td>\n      <td>Camden</td>\n      <td>3.38025</td>\n      <td>3.4775</td>\n      <td>3.4465</td>\n      <td>3.4175</td>\n      <td>3.46725</td>\n      <td>3.52525</td>\n      <td>3.538</td>\n      <td>3.691</td>\n      <td>3.73725</td>\n      <td>3.73175</td>\n      <td>3.869</td>\n      <td>3.861</td>\n      <td>3.8335</td>\n      <td>3.708</td>\n      <td>3.79625</td>\n    </tr>\n    <tr>\n      <th>10</th>\n      <td>00AH</td>\n      <td>Croydon</td>\n      <td>2.6305</td>\n      <td>2.70725</td>\n      <td>2.749</td>\n      <td>2.70225</td>\n      <td>2.7775</td>\n      <td>2.7925</td>\n      <td>3.1205</td>\n      <td>2.9865</td>\n      <td>3.1265</td>\n      <td>3.221</td>\n      <td>3.2375</td>\n      <td>3.15525</td>\n      <td>3.3425</td>\n      <td>3.3235</td>\n      <td>3.3995</td>\n    </tr>\n    <tr>\n      <th>11</th>\n      <td>00AJ</td>\n      <td>Ealing</td>\n      <td>2.99325</td>\n      <td>3.0565</td>\n      <td>2.94775</td>\n      <td>3.09325</td>\n      <td>3.157</td>\n      <td>2.94825</td>\n      <td>3.15875</td>\n      <td>3.35025</td>\n      <td>3.277</td>\n      <td>3.271</td>\n      <td>3.3555</td>\n      <td>3.38625</td>\n      <td>3.53125</td>\n      <td>3.42725</td>\n      <td>3.42175</td>\n    </tr>\n    <tr>\n      <th>12</th>\n      <td>00AK</td>\n      <td>Enfield</td>\n      <td>2.461</td>\n      <td>2.682</td>\n      <td>2.93625</td>\n      <td>2.83</td>\n      <td>2.82675</td>\n      <td>3.0535</td>\n      <td>3.027</td>\n      <td>3.03525</td>\n      <td>3.0145</td>\n      <td>3.0945</td>\n      <td>3.17425</td>\n      <td>3.35975</td>\n      <td>3.24475</td>\n      <td>3.09325</td>\n      <td>3.22725</td>\n    </tr>\n    <tr>\n      <th>13</th>\n      <td>00AL</td>\n      <td>Greenwich</td>\n      <td>2.7245</td>\n      <td>2.6705</td>\n      <td>2.873</td>\n      <td>2.748</td>\n      <td>2.99675</td>\n      <td>2.92275</td>\n      <td>2.98175</td>\n      <td>3.17475</td>\n      <td>3.1695</td>\n      <td>3.333</td>\n      <td>3.22325</td>\n      <td>3.1335</td>\n      <td>3.30925</td>\n      <td>3.561</td>\n      <td>3.50575</td>\n    </tr>\n    <tr>\n      <th>14</th>\n      <td>00AM</td>\n      <td>Hackney</td>\n      <td>2.8165</td>\n      <td>2.818</td>\n      <td>2.89975</td>\n      <td>3.019</td>\n      <td>3.2845</td>\n      <td>3.30575</td>\n      <td>3.12475</td>\n      <td>3.29925</td>\n      <td>3.4335</td>\n      <td>3.41475</td>\n      <td>3.50875</td>\n      <td>3.4195</td>\n      <td>3.58175</td>\n      <td>3.711</td>\n      <td>3.49725</td>\n    </tr>\n    <tr>\n      <th>15</th>\n      <td>00AN</td>\n      <td>Hammersmith and Fulham</td>\n      <td>3.40675</td>\n      <td>3.36</td>\n      <td>3.47175</td>\n      <td>3.38675</td>\n      <td>3.4025</td>\n      <td>3.23825</td>\n      <td>3.514</td>\n      <td>3.5945</td>\n      <td>3.72325</td>\n      <td>3.67175</td>\n      <td>3.777</td>\n      <td>3.8235</td>\n      <td>3.68325</td>\n      <td>3.80275</td>\n      <td>3.66975</td>\n    </tr>\n    <tr>\n      <th>16</th>\n      <td>00AP</td>\n      <td>Haringey</td>\n      <td>2.95125</td>\n      <td>3.01375</td>\n      <td>3.12475</td>\n      <td>3.216</td>\n      <td>3.199</td>\n      <td>3.24825</td>\n      <td>3.217</td>\n      <td>3.5055</td>\n      <td>3.524</td>\n      <td>3.49225</td>\n      <td>3.35175</td>\n      <td>3.391</td>\n      <td>3.43625</td>\n      <td>3.51375</td>\n      <td>3.5255</td>\n    </tr>\n    <tr>\n      <th>17</th>\n      <td>00AQ</td>\n      <td>Harrow</td>\n      <td>2.88575</td>\n      <td>2.91825</td>\n      <td>2.9385</td>\n      <td>2.95125</td>\n      <td>2.903</td>\n      <td>2.97225</td>\n      <td>3.0705</td>\n      <td>3.26025</td>\n      <td>3.38675</td>\n      <td>3.3815</td>\n      <td>3.55175</td>\n      <td>3.42075</td>\n      <td>3.4075</td>\n      <td>3.42625</td>\n      <td>3.42275</td>\n    </tr>\n    <tr>\n      <th>18</th>\n      <td>00AR</td>\n      <td>Havering</td>\n      <td>2.1045</td>\n      <td>2.2115</td>\n      <td>2.256</td>\n      <td>2.2725</td>\n      <td>2.334</td>\n      <td>2.2195</td>\n      <td>2.43425</td>\n      <td>2.4255</td>\n      <td>2.60475</td>\n      <td>2.6695</td>\n      <td>2.674</td>\n      <td>2.606</td>\n      <td>2.688</td>\n      <td>2.7935</td>\n      <td>2.75125</td>\n    </tr>\n    <tr>\n      <th>19</th>\n      <td>00AS</td>\n      <td>Hillingdon</td>\n      <td>2.612</td>\n      <td>2.70775</td>\n      <td>2.62175</td>\n      <td>2.616</td>\n      <td>2.57325</td>\n      <td>2.82675</td>\n      <td>2.554</td>\n      <td>2.8125</td>\n      <td>3.042</td>\n      <td>3.1715</td>\n      <td>3.08475</td>\n      <td>3.14025</td>\n      <td>3.252</td>\n      <td>3.151</td>\n      <td>3.14625</td>\n    </tr>\n    <tr>\n      <th>20</th>\n      <td>00AT</td>\n      <td>Hounslow</td>\n      <td>2.65875</td>\n      <td>2.703</td>\n      <td>2.8915</td>\n      <td>2.80025</td>\n      <td>2.89425</td>\n      <td>2.83875</td>\n      <td>2.821</td>\n      <td>3.21225</td>\n      <td>3.2115</td>\n      <td>3.124</td>\n      <td>3.3255</td>\n      <td>3.35025</td>\n      <td>3.348</td>\n      <td>3.28</td>\n      <td>3.468</td>\n    </tr>\n    <tr>\n      <th>21</th>\n      <td>00AU</td>\n      <td>Islington</td>\n      <td>3.0525</td>\n      <td>3.1155</td>\n      <td>3.259</td>\n      <td>3.2805</td>\n      <td>3.3335</td>\n      <td>3.505</td>\n      <td>3.70775</td>\n      <td>3.65525</td>\n      <td>3.57925</td>\n      <td>3.70975</td>\n      <td>3.675</td>\n      <td>3.7555</td>\n      <td>3.675</td>\n      <td>3.79225</td>\n      <td>3.786</td>\n    </tr>\n    <tr>\n      <th>22</th>\n      <td>00AW</td>\n      <td>Kensington and Chelsea</td>\n      <td>3.28275</td>\n      <td>3.4045</td>\n      <td>3.266</td>\n      <td>3.435</td>\n      <td>3.51625</td>\n      <td>3.68975</td>\n      <td>3.6735</td>\n      <td>3.7055</td>\n      <td>3.6905</td>\n      <td>3.615</td>\n      <td>3.65475</td>\n      <td>3.84425</td>\n      <td>3.68325</td>\n      <td>3.797</td>\n      <td>3.787</td>\n    </tr>\n    <tr>\n      <th>23</th>\n      <td>00AX</td>\n      <td>Kingston upon Thames</td>\n      <td>3.168</td>\n      <td>3.0215</td>\n      <td>3.15875</td>\n      <td>3.33675</td>\n      <td>3.48125</td>\n      <td>3.24775</td>\n      <td>3.465</td>\n      <td>3.26325</td>\n      <td>3.3945</td>\n      <td>3.5145</td>\n      <td>3.59925</td>\n      <td>3.54425</td>\n      <td>3.62175</td>\n      <td>3.59375</td>\n      <td>3.706</td>\n    </tr>\n    <tr>\n      <th>24</th>\n      <td>00AY</td>\n      <td>Lambeth</td>\n      <td>3.053</td>\n      <td>2.9955</td>\n      <td>3.071</td>\n      <td>3.21875</td>\n      <td>3.1665</td>\n      <td>3.3565</td>\n      <td>3.51175</td>\n      <td>3.548</td>\n      <td>3.5145</td>\n      <td>3.72875</td>\n      <td>3.67125</td>\n      <td>3.8135</td>\n      <td>3.823</td>\n      <td>3.889</td>\n      <td>3.742</td>\n    </tr>\n    <tr>\n      <th>25</th>\n      <td>00AZ</td>\n      <td>Lewisham</td>\n      <td>2.84625</td>\n      <td>2.787</td>\n      <td>2.7545</td>\n      <td>3.02375</td>\n      <td>3.11525</td>\n      <td>3.13375</td>\n      <td>3.406</td>\n      <td>3.404</td>\n      <td>3.568</td>\n      <td>3.49125</td>\n      <td>3.4735</td>\n      <td>3.477</td>\n      <td>3.42875</td>\n      <td>3.50025</td>\n      <td>3.60625</td>\n    </tr>\n    <tr>\n      <th>26</th>\n      <td>00BA</td>\n      <td>Merton</td>\n      <td>2.92975</td>\n      <td>3.019</td>\n      <td>3.00375</td>\n      <td>3.1415</td>\n      <td>2.924</td>\n      <td>3.0865</td>\n      <td>3.359</td>\n      <td>3.28</td>\n      <td>3.332</td>\n      <td>3.4615</td>\n      <td>3.48325</td>\n      <td>3.5815</td>\n      <td>3.6905</td>\n      <td>3.607</td>\n      <td>3.4355</td>\n    </tr>\n    <tr>\n      <th>27</th>\n      <td>00BB</td>\n      <td>Newham</td>\n      <td>2.1875</td>\n      <td>2.476</td>\n      <td>2.64525</td>\n      <td>2.5915</td>\n      <td>2.63025</td>\n      <td>2.5795</td>\n      <td>2.847</td>\n      <td>3.071</td>\n      <td>3.1485</td>\n      <td>3.12325</td>\n      <td>3.07575</td>\n      <td>3.23775</td>\n      <td>3.36375</td>\n      <td>3.106</td>\n      <td>3.43775</td>\n    </tr>\n    <tr>\n      <th>28</th>\n      <td>00BC</td>\n      <td>Redbridge</td>\n      <td>2.56725</td>\n      <td>2.88875</td>\n      <td>3.011</td>\n      <td>2.992</td>\n      <td>2.9565</td>\n      <td>2.902</td>\n      <td>2.9395</td>\n      <td>3.065</td>\n      <td>3.21875</td>\n      <td>3.3695</td>\n      <td>3.31225</td>\n      <td>3.21375</td>\n      <td>3.381</td>\n      <td>3.37225</td>\n      <td>3.32925</td>\n    </tr>\n    <tr>\n      <th>29</th>\n      <td>00BD</td>\n      <td>Richmond upon Thames</td>\n      <td>3.354</td>\n      <td>3.34675</td>\n      <td>3.46025</td>\n      <td>3.516</td>\n      <td>3.458</td>\n      <td>3.51075</td>\n      <td>3.4985</td>\n      <td>3.60925</td>\n      <td>3.735</td>\n      <td>3.81225</td>\n      <td>3.912</td>\n      <td>3.948</td>\n      <td>3.943</td>\n      <td>3.824</td>\n      <td>3.85675</td>\n    </tr>\n    <tr>\n      <th>30</th>\n      <td>00BE</td>\n      <td>Southwark</td>\n      <td>3.025</td>\n      <td>2.97025</td>\n      <td>2.9025</td>\n      <td>3.2235</td>\n      <td>3.2575</td>\n      <td>3.27175</td>\n      <td>3.3755</td>\n      <td>3.57925</td>\n      <td>3.55475</td>\n      <td>3.55725</td>\n      <td>3.65725</td>\n      <td>3.5855</td>\n      <td>3.67175</td>\n      <td>3.7255</td>\n      <td>3.7495</td>\n    </tr>\n    <tr>\n      <th>31</th>\n      <td>00BF</td>\n      <td>Sutton</td>\n      <td>2.54225</td>\n      <td>2.701</td>\n      <td>2.73775</td>\n      <td>2.62575</td>\n      <td>2.67</td>\n      <td>2.9695</td>\n      <td>2.916</td>\n      <td>2.952</td>\n      <td>3.105</td>\n      <td>3.06875</td>\n      <td>3.21425</td>\n      <td>3.10825</td>\n      <td>3.2195</td>\n      <td>3.4275</td>\n      <td>3.30475</td>\n    </tr>\n    <tr>\n      <th>32</th>\n      <td>00BG</td>\n      <td>Tower Hamlets</td>\n      <td>2.72875</td>\n      <td>2.7315</td>\n      <td>2.789</td>\n      <td>2.861</td>\n      <td>3.0375</td>\n      <td>3.13325</td>\n      <td>3.313</td>\n      <td>3.3465</td>\n      <td>3.49575</td>\n      <td>3.3905</td>\n      <td>3.2895</td>\n      <td>3.3765</td>\n      <td>3.55275</td>\n      <td>3.4675</td>\n      <td>3.5955</td>\n    </tr>\n    <tr>\n      <th>33</th>\n      <td>00BH</td>\n      <td>Waltham Forest</td>\n      <td>2.508</td>\n      <td>2.47675</td>\n      <td>2.61325</td>\n      <td>2.7535</td>\n      <td>2.77325</td>\n      <td>2.5865</td>\n      <td>2.807</td>\n      <td>2.983</td>\n      <td>3.093</td>\n      <td>3.16525</td>\n      <td>3.23625</td>\n      <td>3.21025</td>\n      <td>3.27525</td>\n      <td>3.169</td>\n      <td>3.3765</td>\n    </tr>\n    <tr>\n      <th>34</th>\n      <td>00BJ</td>\n      <td>Wandsworth</td>\n      <td>3.39975</td>\n      <td>3.21375</td>\n      <td>3.41475</td>\n      <td>3.637</td>\n      <td>3.48</td>\n      <td>3.60175</td>\n      <td>3.72875</td>\n      <td>3.71725</td>\n      <td>3.88275</td>\n      <td>3.786</td>\n      <td>3.947</td>\n      <td>3.821</td>\n      <td>3.955</td>\n      <td>3.93825</td>\n      <td>3.89975</td>\n    </tr>\n    <tr>\n      <th>35</th>\n      <td>00BK</td>\n      <td>Westminster</td>\n      <td>3.11725</td>\n      <td>3.20975</td>\n      <td>3.3185</td>\n      <td>3.52075</td>\n      <td>3.45475</td>\n      <td>3.59975</td>\n      <td>3.689</td>\n      <td>3.688</td>\n      <td>3.857</td>\n      <td>3.8075</td>\n      <td>3.914</td>\n      <td>3.776</td>\n      <td>3.78775</td>\n      <td>3.881</td>\n      <td>3.954</td>\n    </tr>\n    <tr>\n      <th>36</th>\n      <td>None</td>\n      <td>None</td>\n      <td>NaN</td>\n      <td>NaN</td>\n      <td>NaN</td>\n      <td>NaN</td>\n      <td>NaN</td>\n      <td>NaN</td>\n      <td>NaN</td>\n      <td>NaN</td>\n      <td>NaN</td>\n      <td>NaN</td>\n      <td>NaN</td>\n      <td>NaN</td>\n      <td>NaN</td>\n      <td>NaN</td>\n      <td>NaN</td>\n    </tr>\n    <tr>\n      <th>37</th>\n      <td>A</td>\n      <td>North East</td>\n      <td>2.4905</td>\n      <td>2.50525</td>\n      <td>2.5645</td>\n      <td>2.6105</td>\n      <td>2.60725</td>\n      <td>2.6045</td>\n      <td>2.6855</td>\n      <td>2.72375</td>\n      <td>2.7325</td>\n      <td>2.79025</td>\n      <td>2.8285</td>\n      <td>2.8745</td>\n      <td>2.913</td>\n      <td>2.92225</td>\n      <td>2.914</td>\n    </tr>\n    <tr>\n      <th>38</th>\n      <td>B</td>\n      <td>North West</td>\n      <td>2.49525</td>\n      <td>2.5395</td>\n      <td>2.57975</td>\n      <td>2.61175</td>\n      <td>2.61225</td>\n      <td>2.691</td>\n      <td>2.78425</td>\n      <td>2.76225</td>\n      <td>2.8345</td>\n      <td>2.857</td>\n      <td>2.881</td>\n      <td>2.9305</td>\n      <td>2.97725</td>\n      <td>2.98725</td>\n      <td>3.01325</td>\n    </tr>\n    <tr>\n      <th>39</th>\n      <td>D</td>\n      <td>Yorkshire and The Humber</td>\n      <td>2.49425</td>\n      <td>2.482</td>\n      <td>2.5015</td>\n      <td>2.54475</td>\n      <td>2.60025</td>\n      <td>2.65925</td>\n      <td>2.68875</td>\n      <td>2.708</td>\n      <td>2.799</td>\n      <td>2.79825</td>\n      <td>2.82275</td>\n      <td>2.862</td>\n      <td>2.8835</td>\n      <td>2.896</td>\n      <td>2.94675</td>\n    </tr>\n    <tr>\n      <th>40</th>\n      <td>E</td>\n      <td>East Midlands</td>\n      <td>2.453</td>\n      <td>2.4975</td>\n      <td>2.54725</td>\n      <td>2.565</td>\n      <td>2.54225</td>\n      <td>2.6245</td>\n      <td>2.6875</td>\n      <td>2.7275</td>\n      <td>2.7725</td>\n      <td>2.79375</td>\n      <td>2.8355</td>\n      <td>2.8995</td>\n      <td>2.9065</td>\n      <td>2.90425</td>\n      <td>2.94625</td>\n    </tr>\n    <tr>\n      <th>41</th>\n      <td>F</td>\n      <td>West Midlands</td>\n      <td>2.4335</td>\n      <td>2.45375</td>\n      <td>2.4855</td>\n      <td>2.52625</td>\n      <td>2.53175</td>\n      <td>2.5595</td>\n      <td>2.631</td>\n      <td>2.64325</td>\n      <td>2.71275</td>\n      <td>2.7295</td>\n      <td>2.776</td>\n      <td>2.80925</td>\n      <td>2.8435</td>\n      <td>2.86375</td>\n      <td>2.906</td>\n    </tr>\n    <tr>\n      <th>42</th>\n      <td>G</td>\n      <td>East</td>\n      <td>2.47825</td>\n      <td>2.5185</td>\n      <td>2.49625</td>\n      <td>2.563</td>\n      <td>2.56725</td>\n      <td>2.634</td>\n      <td>2.713</td>\n      <td>2.74075</td>\n      <td>2.8695</td>\n      <td>2.872</td>\n      <td>2.8785</td>\n      <td>2.89975</td>\n      <td>2.94</td>\n      <td>2.933</td>\n      <td>2.93375</td>\n    </tr>\n    <tr>\n      <th>43</th>\n      <td>H</td>\n      <td>London</td>\n      <td>2.832</td>\n      <td>2.8885</td>\n      <td>2.9385</td>\n      <td>2.99425</td>\n      <td>3.02075</td>\n      <td>3.0785</td>\n      <td>3.1715</td>\n      <td>3.25025</td>\n      <td>3.3355</td>\n      <td>3.3705</td>\n      <td>3.3955</td>\n      <td>3.41275</td>\n      <td>3.4765</td>\n      <td>3.4665</td>\n      <td>3.49525</td>\n    </tr>\n    <tr>\n      <th>44</th>\n      <td>J</td>\n      <td>South East</td>\n      <td>2.6825</td>\n      <td>2.6995</td>\n      <td>2.7335</td>\n      <td>2.7535</td>\n      <td>2.783</td>\n      <td>2.84325</td>\n      <td>2.89225</td>\n      <td>2.95925</td>\n      <td>3.0105</td>\n      <td>3.0585</td>\n      <td>3.0865</td>\n      <td>3.08525</td>\n      <td>3.14825</td>\n      <td>3.14675</td>\n      <td>3.172</td>\n    </tr>\n    <tr>\n      <th>45</th>\n      <td>K</td>\n      <td>South West</td>\n      <td>2.601</td>\n      <td>2.625</td>\n      <td>2.67125</td>\n      <td>2.74275</td>\n      <td>2.70575</td>\n      <td>2.7655</td>\n      <td>2.8625</td>\n      <td>2.89125</td>\n      <td>2.9475</td>\n      <td>2.95375</td>\n      <td>3.016</td>\n      <td>3.0575</td>\n      <td>3.08625</td>\n      <td>3.10825</td>\n      <td>3.11175</td>\n    </tr>\n    <tr>\n      <th>46</th>\n      <td>None</td>\n      <td>None</td>\n      <td>NaN</td>\n      <td>NaN</td>\n      <td>NaN</td>\n      <td>NaN</td>\n      <td>NaN</td>\n      <td>NaN</td>\n      <td>NaN</td>\n      <td>NaN</td>\n      <td>NaN</td>\n      <td>NaN</td>\n      <td>NaN</td>\n      <td>NaN</td>\n      <td>NaN</td>\n      <td>NaN</td>\n      <td>NaN</td>\n    </tr>\n    <tr>\n      <th>47</th>\n      <td>921</td>\n      <td>England</td>\n      <td>2.5745</td>\n      <td>2.606</td>\n      <td>2.6405</td>\n      <td>2.67875</td>\n      <td>2.69425</td>\n      <td>2.7525</td>\n      <td>2.82425</td>\n      <td>2.86175</td>\n      <td>2.9335</td>\n      <td>2.958</td>\n      <td>2.99</td>\n      <td>3.0255</td>\n      <td>3.06475</td>\n      <td>3.07175</td>\n      <td>3.09325</td>\n    </tr>\n    <tr>\n      <th>48</th>\n      <td>924</td>\n      <td>Wales</td>\n      <td>2.5205</td>\n      <td>2.53475</td>\n      <td>2.5605</td>\n      <td>2.6065</td>\n      <td>2.66825</td>\n      <td>2.7185</td>\n      <td>2.7885</td>\n      <td>2.799</td>\n      <td>2.83775</td>\n      <td>2.881</td>\n      <td>2.93475</td>\n      <td>2.9465</td>\n      <td>2.99225</td>\n      <td>2.99325</td>\n      <td>3.00175</td>\n    </tr>\n    <tr>\n      <th>49</th>\n      <td>923</td>\n      <td>Scotland</td>\n      <td>2.71925</td>\n      <td>2.759</td>\n      <td>2.8035</td>\n      <td>2.83725</td>\n      <td>2.86525</td>\n      <td>2.89025</td>\n      <td>2.935</td>\n      <td>2.982</td>\n      <td>3.015</td>\n      <td>3.05175</td>\n      <td>3.10975</td>\n      <td>3.154</td>\n      <td>3.17725</td>\n      <td>3.17175</td>\n      <td>3.1635</td>\n    </tr>\n    <tr>\n      <th>50</th>\n      <td>922</td>\n      <td>Northern Ireland</td>\n      <td>2.43975</td>\n      <td>2.43775</td>\n      <td>2.47225</td>\n      <td>2.523</td>\n      <td>2.58175</td>\n      <td>2.60125</td>\n      <td>2.65425</td>\n      <td>2.60325</td>\n      <td>2.705</td>\n      <td>2.699</td>\n      <td>2.758</td>\n      <td>2.78075</td>\n      <td>2.832</td>\n      <td>2.87975</td>\n      <td>2.99</td>\n    </tr>\n    <tr>\n      <th>51</th>\n      <td>None</td>\n      <td>None</td>\n      <td>NaN</td>\n      <td>NaN</td>\n      <td>NaN</td>\n      <td>NaN</td>\n      <td>NaN</td>\n      <td>NaN</td>\n      <td>NaN</td>\n      <td>NaN</td>\n      <td>NaN</td>\n      <td>NaN</td>\n      <td>NaN</td>\n      <td>NaN</td>\n      <td>NaN</td>\n      <td>NaN</td>\n      <td>NaN</td>\n    </tr>\n    <tr>\n      <th>52</th>\n      <td>941</td>\n      <td>England and Wales</td>\n      <td>2.56875</td>\n      <td>2.60125</td>\n      <td>2.63475</td>\n      <td>2.676</td>\n      <td>2.692</td>\n      <td>2.75</td>\n      <td>2.82175</td>\n      <td>2.85725</td>\n      <td>2.927</td>\n      <td>2.952</td>\n      <td>2.991</td>\n      <td>3.01925</td>\n      <td>3.06</td>\n      <td>3.0625</td>\n      <td>3.09175</td>\n    </tr>\n    <tr>\n      <th>53</th>\n      <td>925</td>\n      <td>Great Britain</td>\n      <td>2.585</td>\n      <td>2.618</td>\n      <td>2.6485</td>\n      <td>2.69625</td>\n      <td>2.71225</td>\n      <td>2.76325</td>\n      <td>2.833</td>\n      <td>2.87025</td>\n      <td>2.9365</td>\n      <td>2.963</td>\n      <td>3.001</td>\n      <td>3.0315</td>\n      <td>3.071</td>\n      <td>3.076</td>\n      <td>3.094</td>\n    </tr>\n    <tr>\n      <th>54</th>\n      <td>926</td>\n      <td>United Kingdom</td>\n      <td>2.58225</td>\n      <td>2.6105</td>\n      <td>2.64525</td>\n      <td>2.68875</td>\n      <td>2.704</td>\n      <td>2.756</td>\n      <td>2.82475</td>\n      <td>2.863</td>\n      <td>2.9315</td>\n      <td>2.9565</td>\n      <td>2.99375</td>\n      <td>3.025</td>\n      <td>3.0635</td>\n      <td>3.0705</td>\n      <td>3.09425</td>\n    </tr>\n  </tbody>\n</table>\n</div>",
            "text/plain": "    Code                      Area Average score Average score Average score  \\\n3   00AA            City of London         3.627        3.2895        3.0555   \n4   00AB      Barking and Dagenham       2.07775         2.161         2.097   \n5   00AC                    Barnet       3.02875        3.1595       3.04375   \n6   00AD                    Bexley       2.28875          2.41       2.50825   \n7   00AE                     Brent         2.679        2.9185       2.82075   \n8   00AF                   Bromley        2.8605       2.79825       2.91025   \n9   00AG                    Camden       3.38025        3.4775        3.4465   \n10  00AH                   Croydon        2.6305       2.70725         2.749   \n11  00AJ                    Ealing       2.99325        3.0565       2.94775   \n12  00AK                   Enfield         2.461         2.682       2.93625   \n13  00AL                 Greenwich        2.7245        2.6705         2.873   \n14  00AM                   Hackney        2.8165         2.818       2.89975   \n15  00AN    Hammersmith and Fulham       3.40675          3.36       3.47175   \n16  00AP                  Haringey       2.95125       3.01375       3.12475   \n17  00AQ                    Harrow       2.88575       2.91825        2.9385   \n18  00AR                  Havering        2.1045        2.2115         2.256   \n19  00AS                Hillingdon         2.612       2.70775       2.62175   \n20  00AT                  Hounslow       2.65875         2.703        2.8915   \n21  00AU                 Islington        3.0525        3.1155         3.259   \n22  00AW    Kensington and Chelsea       3.28275        3.4045         3.266   \n23  00AX      Kingston upon Thames         3.168        3.0215       3.15875   \n24  00AY                   Lambeth         3.053        2.9955         3.071   \n25  00AZ                  Lewisham       2.84625         2.787        2.7545   \n26  00BA                    Merton       2.92975         3.019       3.00375   \n27  00BB                    Newham        2.1875         2.476       2.64525   \n28  00BC                 Redbridge       2.56725       2.88875         3.011   \n29  00BD      Richmond upon Thames         3.354       3.34675       3.46025   \n30  00BE                 Southwark         3.025       2.97025        2.9025   \n31  00BF                    Sutton       2.54225         2.701       2.73775   \n32  00BG             Tower Hamlets       2.72875        2.7315         2.789   \n33  00BH            Waltham Forest         2.508       2.47675       2.61325   \n34  00BJ                Wandsworth       3.39975       3.21375       3.41475   \n35  00BK               Westminster       3.11725       3.20975        3.3185   \n36  None                      None           NaN           NaN           NaN   \n37     A                North East        2.4905       2.50525        2.5645   \n38     B                North West       2.49525        2.5395       2.57975   \n39     D  Yorkshire and The Humber       2.49425         2.482        2.5015   \n40     E             East Midlands         2.453        2.4975       2.54725   \n41     F             West Midlands        2.4335       2.45375        2.4855   \n42     G                      East       2.47825        2.5185       2.49625   \n43     H                    London         2.832        2.8885        2.9385   \n44     J                South East        2.6825        2.6995        2.7335   \n45     K                South West         2.601         2.625       2.67125   \n46  None                      None           NaN           NaN           NaN   \n47   921                   England        2.5745         2.606        2.6405   \n48   924                     Wales        2.5205       2.53475        2.5605   \n49   923                  Scotland       2.71925         2.759        2.8035   \n50   922          Northern Ireland       2.43975       2.43775       2.47225   \n51  None                      None           NaN           NaN           NaN   \n52   941         England and Wales       2.56875       2.60125       2.63475   \n53   925             Great Britain         2.585         2.618        2.6485   \n54   926            United Kingdom       2.58225        2.6105       2.64525   \n\n   Average score Average score Average score Average score Average score  \\\n3         3.3165         3.123           4.5             0             0   \n4        2.21125        2.3215       2.53075       2.59075        2.6955   \n5        3.10425         3.162        3.2125       3.33575       3.42375   \n6         2.3595        2.5665       2.67925        2.7215       2.69475   \n7        2.76825       2.82625         2.994       2.88125       2.79825   \n8         2.9665        2.8885        2.9955        3.0675        3.1615   \n9         3.4175       3.46725       3.52525         3.538         3.691   \n10       2.70225        2.7775        2.7925        3.1205        2.9865   \n11       3.09325         3.157       2.94825       3.15875       3.35025   \n12          2.83       2.82675        3.0535         3.027       3.03525   \n13         2.748       2.99675       2.92275       2.98175       3.17475   \n14         3.019        3.2845       3.30575       3.12475       3.29925   \n15       3.38675        3.4025       3.23825         3.514        3.5945   \n16         3.216         3.199       3.24825         3.217        3.5055   \n17       2.95125         2.903       2.97225        3.0705       3.26025   \n18        2.2725         2.334        2.2195       2.43425        2.4255   \n19         2.616       2.57325       2.82675         2.554        2.8125   \n20       2.80025       2.89425       2.83875         2.821       3.21225   \n21        3.2805        3.3335         3.505       3.70775       3.65525   \n22         3.435       3.51625       3.68975        3.6735        3.7055   \n23       3.33675       3.48125       3.24775         3.465       3.26325   \n24       3.21875        3.1665        3.3565       3.51175         3.548   \n25       3.02375       3.11525       3.13375         3.406         3.404   \n26        3.1415         2.924        3.0865         3.359          3.28   \n27        2.5915       2.63025        2.5795         2.847         3.071   \n28         2.992        2.9565         2.902        2.9395         3.065   \n29         3.516         3.458       3.51075        3.4985       3.60925   \n30        3.2235        3.2575       3.27175        3.3755       3.57925   \n31       2.62575          2.67        2.9695         2.916         2.952   \n32         2.861        3.0375       3.13325         3.313        3.3465   \n33        2.7535       2.77325        2.5865         2.807         2.983   \n34         3.637          3.48       3.60175       3.72875       3.71725   \n35       3.52075       3.45475       3.59975         3.689         3.688   \n36           NaN           NaN           NaN           NaN           NaN   \n37        2.6105       2.60725        2.6045        2.6855       2.72375   \n38       2.61175       2.61225         2.691       2.78425       2.76225   \n39       2.54475       2.60025       2.65925       2.68875         2.708   \n40         2.565       2.54225        2.6245        2.6875        2.7275   \n41       2.52625       2.53175        2.5595         2.631       2.64325   \n42         2.563       2.56725         2.634         2.713       2.74075   \n43       2.99425       3.02075        3.0785        3.1715       3.25025   \n44        2.7535         2.783       2.84325       2.89225       2.95925   \n45       2.74275       2.70575        2.7655        2.8625       2.89125   \n46           NaN           NaN           NaN           NaN           NaN   \n47       2.67875       2.69425        2.7525       2.82425       2.86175   \n48        2.6065       2.66825        2.7185        2.7885         2.799   \n49       2.83725       2.86525       2.89025         2.935         2.982   \n50         2.523       2.58175       2.60125       2.65425       2.60325   \n51           NaN           NaN           NaN           NaN           NaN   \n52         2.676         2.692          2.75       2.82175       2.85725   \n53       2.69625       2.71225       2.76325         2.833       2.87025   \n54       2.68875         2.704         2.756       2.82475         2.863   \n\n   Average score Average score Average score Average score Average score  \\\n3            4.5           4.5             0           4.5        3.7485   \n4          2.654         2.623         2.713       2.83825       2.77775   \n5        3.31625         3.421         3.225       3.42575         3.599   \n6        2.75925       2.85375       2.91825         2.863       3.06625   \n7        3.16925        3.2435       3.35525         3.339        3.3165   \n8          3.241         3.303       3.30525       3.36275       3.40825   \n9        3.73725       3.73175         3.869         3.861        3.8335   \n10        3.1265         3.221        3.2375       3.15525        3.3425   \n11         3.277         3.271        3.3555       3.38625       3.53125   \n12        3.0145        3.0945       3.17425       3.35975       3.24475   \n13        3.1695         3.333       3.22325        3.1335       3.30925   \n14        3.4335       3.41475       3.50875        3.4195       3.58175   \n15       3.72325       3.67175         3.777        3.8235       3.68325   \n16         3.524       3.49225       3.35175         3.391       3.43625   \n17       3.38675        3.3815       3.55175       3.42075        3.4075   \n18       2.60475        2.6695         2.674         2.606         2.688   \n19         3.042        3.1715       3.08475       3.14025         3.252   \n20        3.2115         3.124        3.3255       3.35025         3.348   \n21       3.57925       3.70975         3.675        3.7555         3.675   \n22        3.6905         3.615       3.65475       3.84425       3.68325   \n23        3.3945        3.5145       3.59925       3.54425       3.62175   \n24        3.5145       3.72875       3.67125        3.8135         3.823   \n25         3.568       3.49125        3.4735         3.477       3.42875   \n26         3.332        3.4615       3.48325        3.5815        3.6905   \n27        3.1485       3.12325       3.07575       3.23775       3.36375   \n28       3.21875        3.3695       3.31225       3.21375         3.381   \n29         3.735       3.81225         3.912         3.948         3.943   \n30       3.55475       3.55725       3.65725        3.5855       3.67175   \n31         3.105       3.06875       3.21425       3.10825        3.2195   \n32       3.49575        3.3905        3.2895        3.3765       3.55275   \n33         3.093       3.16525       3.23625       3.21025       3.27525   \n34       3.88275         3.786         3.947         3.821         3.955   \n35         3.857        3.8075         3.914         3.776       3.78775   \n36           NaN           NaN           NaN           NaN           NaN   \n37        2.7325       2.79025        2.8285        2.8745         2.913   \n38        2.8345         2.857         2.881        2.9305       2.97725   \n39         2.799       2.79825       2.82275         2.862        2.8835   \n40        2.7725       2.79375        2.8355        2.8995        2.9065   \n41       2.71275        2.7295         2.776       2.80925        2.8435   \n42        2.8695         2.872        2.8785       2.89975          2.94   \n43        3.3355        3.3705        3.3955       3.41275        3.4765   \n44        3.0105        3.0585        3.0865       3.08525       3.14825   \n45        2.9475       2.95375         3.016        3.0575       3.08625   \n46           NaN           NaN           NaN           NaN           NaN   \n47        2.9335         2.958          2.99        3.0255       3.06475   \n48       2.83775         2.881       2.93475        2.9465       2.99225   \n49         3.015       3.05175       3.10975         3.154       3.17725   \n50         2.705         2.699         2.758       2.78075         2.832   \n51           NaN           NaN           NaN           NaN           NaN   \n52         2.927         2.952         2.991       3.01925          3.06   \n53        2.9365         2.963         3.001        3.0315         3.071   \n54        2.9315        2.9565       2.99375         3.025        3.0635   \n\n   Average score Average score  \n3         4.0995           4.5  \n4          2.769       2.88675  \n5        3.55875         3.565  \n6        3.01475         3.137  \n7        3.14475        3.2155  \n8        3.30625          3.43  \n9          3.708       3.79625  \n10        3.3235        3.3995  \n11       3.42725       3.42175  \n12       3.09325       3.22725  \n13         3.561       3.50575  \n14         3.711       3.49725  \n15       3.80275       3.66975  \n16       3.51375        3.5255  \n17       3.42625       3.42275  \n18        2.7935       2.75125  \n19         3.151       3.14625  \n20          3.28         3.468  \n21       3.79225         3.786  \n22         3.797         3.787  \n23       3.59375         3.706  \n24         3.889         3.742  \n25       3.50025       3.60625  \n26         3.607        3.4355  \n27         3.106       3.43775  \n28       3.37225       3.32925  \n29         3.824       3.85675  \n30        3.7255        3.7495  \n31        3.4275       3.30475  \n32        3.4675        3.5955  \n33         3.169        3.3765  \n34       3.93825       3.89975  \n35         3.881         3.954  \n36           NaN           NaN  \n37       2.92225         2.914  \n38       2.98725       3.01325  \n39         2.896       2.94675  \n40       2.90425       2.94625  \n41       2.86375         2.906  \n42         2.933       2.93375  \n43        3.4665       3.49525  \n44       3.14675         3.172  \n45       3.10825       3.11175  \n46           NaN           NaN  \n47       3.07175       3.09325  \n48       2.99325       3.00175  \n49       3.17175        3.1635  \n50       2.87975          2.99  \n51           NaN           NaN  \n52        3.0625       3.09175  \n53         3.076         3.094  \n54        3.0705       3.09425  "
          },
          "metadata": {}
        }
      ]
    },
    {
      "metadata": {
        "trusted": true
      },
      "cell_type": "code",
      "source": "df.columns = ['Code', 'Area', '2004', '2005', '2006', '2007', '2008', '2009', '2010', '2011', '2012', '2013', '2014', '2015', '2016', '2017', '2018']",
      "execution_count": 36,
      "outputs": []
    },
    {
      "metadata": {
        "trusted": true,
        "scrolled": true
      },
      "cell_type": "code",
      "source": "df.head()",
      "execution_count": 37,
      "outputs": [
        {
          "output_type": "execute_result",
          "execution_count": 37,
          "data": {
            "text/html": "<div>\n<style scoped>\n    .dataframe tbody tr th:only-of-type {\n        vertical-align: middle;\n    }\n\n    .dataframe tbody tr th {\n        vertical-align: top;\n    }\n\n    .dataframe thead th {\n        text-align: right;\n    }\n</style>\n<table border=\"1\" class=\"dataframe\">\n  <thead>\n    <tr style=\"text-align: right;\">\n      <th></th>\n      <th>Code</th>\n      <th>Area</th>\n      <th>2004</th>\n      <th>2005</th>\n      <th>2006</th>\n      <th>2007</th>\n      <th>2008</th>\n      <th>2009</th>\n      <th>2010</th>\n      <th>2011</th>\n      <th>2012</th>\n      <th>2013</th>\n      <th>2014</th>\n      <th>2015</th>\n      <th>2016</th>\n      <th>2017</th>\n      <th>2018</th>\n    </tr>\n  </thead>\n  <tbody>\n    <tr>\n      <th>3</th>\n      <td>00AA</td>\n      <td>City of London</td>\n      <td>3.627</td>\n      <td>3.2895</td>\n      <td>3.0555</td>\n      <td>3.3165</td>\n      <td>3.123</td>\n      <td>4.5</td>\n      <td>0</td>\n      <td>0</td>\n      <td>4.5</td>\n      <td>4.5</td>\n      <td>0</td>\n      <td>4.5</td>\n      <td>3.7485</td>\n      <td>4.0995</td>\n      <td>4.5</td>\n    </tr>\n    <tr>\n      <th>4</th>\n      <td>00AB</td>\n      <td>Barking and Dagenham</td>\n      <td>2.07775</td>\n      <td>2.161</td>\n      <td>2.097</td>\n      <td>2.21125</td>\n      <td>2.3215</td>\n      <td>2.53075</td>\n      <td>2.59075</td>\n      <td>2.6955</td>\n      <td>2.654</td>\n      <td>2.623</td>\n      <td>2.713</td>\n      <td>2.83825</td>\n      <td>2.77775</td>\n      <td>2.769</td>\n      <td>2.88675</td>\n    </tr>\n    <tr>\n      <th>5</th>\n      <td>00AC</td>\n      <td>Barnet</td>\n      <td>3.02875</td>\n      <td>3.1595</td>\n      <td>3.04375</td>\n      <td>3.10425</td>\n      <td>3.162</td>\n      <td>3.2125</td>\n      <td>3.33575</td>\n      <td>3.42375</td>\n      <td>3.31625</td>\n      <td>3.421</td>\n      <td>3.225</td>\n      <td>3.42575</td>\n      <td>3.599</td>\n      <td>3.55875</td>\n      <td>3.565</td>\n    </tr>\n    <tr>\n      <th>6</th>\n      <td>00AD</td>\n      <td>Bexley</td>\n      <td>2.28875</td>\n      <td>2.41</td>\n      <td>2.50825</td>\n      <td>2.3595</td>\n      <td>2.5665</td>\n      <td>2.67925</td>\n      <td>2.7215</td>\n      <td>2.69475</td>\n      <td>2.75925</td>\n      <td>2.85375</td>\n      <td>2.91825</td>\n      <td>2.863</td>\n      <td>3.06625</td>\n      <td>3.01475</td>\n      <td>3.137</td>\n    </tr>\n    <tr>\n      <th>7</th>\n      <td>00AE</td>\n      <td>Brent</td>\n      <td>2.679</td>\n      <td>2.9185</td>\n      <td>2.82075</td>\n      <td>2.76825</td>\n      <td>2.82625</td>\n      <td>2.994</td>\n      <td>2.88125</td>\n      <td>2.79825</td>\n      <td>3.16925</td>\n      <td>3.2435</td>\n      <td>3.35525</td>\n      <td>3.339</td>\n      <td>3.3165</td>\n      <td>3.14475</td>\n      <td>3.2155</td>\n    </tr>\n  </tbody>\n</table>\n</div>",
            "text/plain": "   Code                  Area     2004    2005     2006     2007     2008  \\\n3  00AA        City of London    3.627  3.2895   3.0555   3.3165    3.123   \n4  00AB  Barking and Dagenham  2.07775   2.161    2.097  2.21125   2.3215   \n5  00AC                Barnet  3.02875  3.1595  3.04375  3.10425    3.162   \n6  00AD                Bexley  2.28875    2.41  2.50825   2.3595   2.5665   \n7  00AE                 Brent    2.679  2.9185  2.82075  2.76825  2.82625   \n\n      2009     2010     2011     2012     2013     2014     2015     2016  \\\n3      4.5        0        0      4.5      4.5        0      4.5   3.7485   \n4  2.53075  2.59075   2.6955    2.654    2.623    2.713  2.83825  2.77775   \n5   3.2125  3.33575  3.42375  3.31625    3.421    3.225  3.42575    3.599   \n6  2.67925   2.7215  2.69475  2.75925  2.85375  2.91825    2.863  3.06625   \n7    2.994  2.88125  2.79825  3.16925   3.2435  3.35525    3.339   3.3165   \n\n      2017     2018  \n3   4.0995      4.5  \n4    2.769  2.88675  \n5  3.55875    3.565  \n6  3.01475    3.137  \n7  3.14475   3.2155  "
          },
          "metadata": {}
        }
      ]
    },
    {
      "metadata": {
        "trusted": true
      },
      "cell_type": "code",
      "source": "PROC_DATA_PATH = '~/library/data/processed/'\ndf.to_csv(PROC_DATA_PATH + 'average-overtime.csv') ",
      "execution_count": 38,
      "outputs": []
    },
    {
      "metadata": {
        "trusted": true
      },
      "cell_type": "markdown",
      "source": "## 2) Dataset with specific values over time \n- clear df so that only contains borough and no qualification\n- import row No Qualifications of all worksheets and merge them "
    },
    {
      "metadata": {},
      "cell_type": "markdown",
      "source": "### No qualifications over time"
    },
    {
      "metadata": {
        "trusted": true
      },
      "cell_type": "code",
      "source": "ws2 = wb2[\"2004\"]",
      "execution_count": 188,
      "outputs": []
    },
    {
      "metadata": {
        "trusted": true
      },
      "cell_type": "code",
      "source": "df04 = pd.DataFrame(ws2.values)\ndf04.tail()",
      "execution_count": 189,
      "outputs": [
        {
          "output_type": "execute_result",
          "execution_count": 189,
          "data": {
            "text/html": "<div>\n<style scoped>\n    .dataframe tbody tr th:only-of-type {\n        vertical-align: middle;\n    }\n\n    .dataframe tbody tr th {\n        vertical-align: top;\n    }\n\n    .dataframe thead th {\n        text-align: right;\n    }\n</style>\n<table border=\"1\" class=\"dataframe\">\n  <thead>\n    <tr style=\"text-align: right;\">\n      <th></th>\n      <th>0</th>\n      <th>1</th>\n      <th>2</th>\n      <th>3</th>\n      <th>4</th>\n      <th>5</th>\n      <th>6</th>\n      <th>7</th>\n      <th>8</th>\n      <th>9</th>\n      <th>...</th>\n      <th>76</th>\n      <th>77</th>\n      <th>78</th>\n      <th>79</th>\n      <th>80</th>\n      <th>81</th>\n      <th>82</th>\n      <th>83</th>\n      <th>84</th>\n      <th>85</th>\n    </tr>\n  </thead>\n  <tbody>\n    <tr>\n      <th>50</th>\n      <td>922</td>\n      <td>Northern Ireland</td>\n      <td>216800</td>\n      <td>759000</td>\n      <td>28.6</td>\n      <td>1.5</td>\n      <td>102600</td>\n      <td>423800</td>\n      <td>24.2</td>\n      <td>1.9</td>\n      <td>...</td>\n      <td>18.1</td>\n      <td>1.3</td>\n      <td>84100</td>\n      <td>423800</td>\n      <td>19.8</td>\n      <td>1.8</td>\n      <td>53200</td>\n      <td>335200</td>\n      <td>15.9</td>\n      <td>1.8</td>\n    </tr>\n    <tr>\n      <th>51</th>\n      <td>None</td>\n      <td>None</td>\n      <td>None</td>\n      <td>None</td>\n      <td>None</td>\n      <td>None</td>\n      <td>None</td>\n      <td>None</td>\n      <td>None</td>\n      <td>None</td>\n      <td>...</td>\n      <td>None</td>\n      <td>None</td>\n      <td>None</td>\n      <td>None</td>\n      <td>None</td>\n      <td>None</td>\n      <td>None</td>\n      <td>None</td>\n      <td>None</td>\n      <td>None</td>\n    </tr>\n    <tr>\n      <th>52</th>\n      <td>941</td>\n      <td>England and Wales</td>\n      <td>7566200</td>\n      <td>25875900</td>\n      <td>29.2</td>\n      <td>0.2</td>\n      <td>4014500</td>\n      <td>14056700</td>\n      <td>28.6</td>\n      <td>0.3</td>\n      <td>...</td>\n      <td>10.8</td>\n      <td>0.2</td>\n      <td>1514600</td>\n      <td>14056700</td>\n      <td>10.8</td>\n      <td>0.2</td>\n      <td>1277000</td>\n      <td>11819200</td>\n      <td>10.8</td>\n      <td>0.2</td>\n    </tr>\n    <tr>\n      <th>53</th>\n      <td>925</td>\n      <td>Great Britain</td>\n      <td>8427600</td>\n      <td>28398200</td>\n      <td>29.7</td>\n      <td>0.2</td>\n      <td>4443000</td>\n      <td>15387000</td>\n      <td>28.9</td>\n      <td>0.3</td>\n      <td>...</td>\n      <td>10.9</td>\n      <td>0.1</td>\n      <td>1652900</td>\n      <td>15387000</td>\n      <td>10.7</td>\n      <td>0.2</td>\n      <td>1430600</td>\n      <td>13011300</td>\n      <td>11</td>\n      <td>0.2</td>\n    </tr>\n    <tr>\n      <th>54</th>\n      <td>926</td>\n      <td>United Kingdom</td>\n      <td>8644400</td>\n      <td>29157200</td>\n      <td>29.6</td>\n      <td>0.2</td>\n      <td>4545600</td>\n      <td>15810800</td>\n      <td>28.7</td>\n      <td>0.3</td>\n      <td>...</td>\n      <td>11</td>\n      <td>0.1</td>\n      <td>1737000</td>\n      <td>15810800</td>\n      <td>11</td>\n      <td>0.2</td>\n      <td>1483800</td>\n      <td>13346400</td>\n      <td>11.1</td>\n      <td>0.2</td>\n    </tr>\n  </tbody>\n</table>\n<p>5 rows × 86 columns</p>\n</div>",
            "text/plain": "      0                  1        2         3     4     5        6         7   \\\n50   922   Northern Ireland   216800    759000  28.6   1.5   102600    423800   \n51  None               None     None      None  None  None     None      None   \n52   941  England and Wales  7566200  25875900  29.2   0.2  4014500  14056700   \n53   925      Great Britain  8427600  28398200  29.7   0.2  4443000  15387000   \n54   926     United Kingdom  8644400  29157200  29.6   0.2  4545600  15810800   \n\n      8     9   ...     76    77       78        79    80    81       82  \\\n50  24.2   1.9  ...   18.1   1.3    84100    423800  19.8   1.8    53200   \n51  None  None  ...   None  None     None      None  None  None     None   \n52  28.6   0.3  ...   10.8   0.2  1514600  14056700  10.8   0.2  1277000   \n53  28.9   0.3  ...   10.9   0.1  1652900  15387000  10.7   0.2  1430600   \n54  28.7   0.3  ...     11   0.1  1737000  15810800    11   0.2  1483800   \n\n          83    84    85  \n50    335200  15.9   1.8  \n51      None  None  None  \n52  11819200  10.8   0.2  \n53  13011300    11   0.2  \n54  13346400  11.1   0.2  \n\n[5 rows x 86 columns]"
          },
          "metadata": {}
        }
      ]
    },
    {
      "metadata": {
        "trusted": true,
        "scrolled": true
      },
      "cell_type": "code",
      "source": "nq04 = df04[76]",
      "execution_count": 190,
      "outputs": []
    },
    {
      "metadata": {
        "trusted": true
      },
      "cell_type": "code",
      "source": "ws2 = wb2[\"2005\"]\ndf05 = pd.DataFrame(ws2.values)\nnq05 = df05[76]",
      "execution_count": 191,
      "outputs": []
    },
    {
      "metadata": {
        "trusted": true
      },
      "cell_type": "code",
      "source": "ws2 = wb2[\"2006\"]\ndf06 = pd.DataFrame(ws2.values)\nnq06 = df06[76]",
      "execution_count": 192,
      "outputs": []
    },
    {
      "metadata": {
        "trusted": true
      },
      "cell_type": "code",
      "source": "ws2 = wb2[\"2007\"]\ndf07 = pd.DataFrame(ws2.values)\nnq07 = df07[76]",
      "execution_count": 193,
      "outputs": []
    },
    {
      "metadata": {
        "trusted": true
      },
      "cell_type": "code",
      "source": "ws2 = wb2[\"2008\"]\ndf08 = pd.DataFrame(ws2.values)\nnq08 = df08[76]",
      "execution_count": 194,
      "outputs": []
    },
    {
      "metadata": {
        "trusted": true
      },
      "cell_type": "code",
      "source": "ws2 = wb2[\"2009\"]\ndf09 = pd.DataFrame(ws2.values)\nnq09 = df09[76]",
      "execution_count": 195,
      "outputs": []
    },
    {
      "metadata": {
        "trusted": true
      },
      "cell_type": "code",
      "source": "ws2 = wb2[\"2010\"]\ndf10 = pd.DataFrame(ws2.values)\nnq10 = df10[76]",
      "execution_count": 196,
      "outputs": []
    },
    {
      "metadata": {
        "trusted": true
      },
      "cell_type": "code",
      "source": "ws2 = wb2[\"2011\"]\ndf11 = pd.DataFrame(ws2.values)\nnq11 = df11[76]",
      "execution_count": 197,
      "outputs": []
    },
    {
      "metadata": {
        "trusted": true
      },
      "cell_type": "code",
      "source": "ws2 = wb2[\"2012\"]\ndf12 = pd.DataFrame(ws2.values)\nnq12 = df12[76]",
      "execution_count": 198,
      "outputs": []
    },
    {
      "metadata": {
        "trusted": true
      },
      "cell_type": "code",
      "source": "ws2 = wb2[\"2013\"]\ndf13 = pd.DataFrame(ws2.values)\nnq13 = df13[76]",
      "execution_count": 199,
      "outputs": []
    },
    {
      "metadata": {
        "trusted": true
      },
      "cell_type": "code",
      "source": "ws2 = wb2[\"2014\"]\ndf14 = pd.DataFrame(ws2.values)\nnq14 = df14[76]",
      "execution_count": 200,
      "outputs": []
    },
    {
      "metadata": {
        "trusted": true
      },
      "cell_type": "code",
      "source": "ws2 = wb2[\"2015\"]\ndf15 = pd.DataFrame(ws2.values)\nnq15 = df15[76]",
      "execution_count": 201,
      "outputs": []
    },
    {
      "metadata": {
        "trusted": true
      },
      "cell_type": "code",
      "source": "ws2 = wb2[\"2016\"]\ndf16 = pd.DataFrame(ws2.values)\nnq16 = df16[76]",
      "execution_count": 202,
      "outputs": []
    },
    {
      "metadata": {
        "trusted": true
      },
      "cell_type": "code",
      "source": "ws2 = wb2[\"2017\"]\ndf17 = pd.DataFrame(ws2.values)\nnq17 = df17[76]",
      "execution_count": 203,
      "outputs": []
    },
    {
      "metadata": {
        "trusted": true
      },
      "cell_type": "code",
      "source": "ws2 = wb2[\"2018\"]\ndf18 = pd.DataFrame(ws2.values)\nnq18 = df18[76]",
      "execution_count": 204,
      "outputs": []
    },
    {
      "metadata": {
        "trusted": true
      },
      "cell_type": "code",
      "source": "#using only the borough key of df\nbulk = df.iloc[::, 2:]",
      "execution_count": 205,
      "outputs": []
    },
    {
      "metadata": {
        "trusted": true
      },
      "cell_type": "code",
      "source": "df.drop(bulk, axis=1, inplace=True)",
      "execution_count": 206,
      "outputs": []
    },
    {
      "metadata": {
        "trusted": true
      },
      "cell_type": "code",
      "source": "df = pd.concat([df, nq04], axis=1)\ndf = pd.concat([df, nq05], axis=1)\ndf = pd.concat([df, nq06], axis=1)\ndf = pd.concat([df, nq07], axis=1)\ndf = pd.concat([df, nq08], axis=1)\ndf = pd.concat([df, nq09], axis=1)\ndf = pd.concat([df, nq10], axis=1)\ndf = pd.concat([df, nq11], axis=1)\ndf = pd.concat([df, nq12], axis=1)\ndf = pd.concat([df, nq13], axis=1)\ndf = pd.concat([df, nq14], axis=1)\ndf = pd.concat([df, nq15], axis=1)\ndf = pd.concat([df, nq16], axis=1)\ndf = pd.concat([df, nq17], axis=1)\ndf = pd.concat([df, nq18], axis=1)\ndf",
      "execution_count": 207,
      "outputs": [
        {
          "output_type": "execute_result",
          "execution_count": 207,
          "data": {
            "text/html": "<div>\n<style scoped>\n    .dataframe tbody tr th:only-of-type {\n        vertical-align: middle;\n    }\n\n    .dataframe tbody tr th {\n        vertical-align: top;\n    }\n\n    .dataframe thead th {\n        text-align: right;\n    }\n</style>\n<table border=\"1\" class=\"dataframe\">\n  <thead>\n    <tr style=\"text-align: right;\">\n      <th></th>\n      <th>Code</th>\n      <th>Area</th>\n      <th>76</th>\n      <th>76</th>\n      <th>76</th>\n      <th>76</th>\n      <th>76</th>\n      <th>76</th>\n      <th>76</th>\n      <th>76</th>\n      <th>76</th>\n      <th>76</th>\n      <th>76</th>\n      <th>76</th>\n      <th>76</th>\n      <th>76</th>\n      <th>76</th>\n    </tr>\n  </thead>\n  <tbody>\n    <tr>\n      <th>0</th>\n      <td>NaN</td>\n      <td>NaN</td>\n      <td>None</td>\n      <td>None</td>\n      <td>None</td>\n      <td>None</td>\n      <td>None</td>\n      <td>None</td>\n      <td>None</td>\n      <td>None</td>\n      <td>None</td>\n      <td>None</td>\n      <td>None</td>\n      <td>None</td>\n      <td>None</td>\n      <td>None</td>\n      <td>None</td>\n    </tr>\n    <tr>\n      <th>1</th>\n      <td>NaN</td>\n      <td>NaN</td>\n      <td>percent</td>\n      <td>percent</td>\n      <td>percent</td>\n      <td>percent</td>\n      <td>percent</td>\n      <td>percent</td>\n      <td>percent</td>\n      <td>percent</td>\n      <td>percent</td>\n      <td>percent</td>\n      <td>percent</td>\n      <td>percent</td>\n      <td>percent</td>\n      <td>percent</td>\n      <td>percent</td>\n    </tr>\n    <tr>\n      <th>2</th>\n      <td>NaN</td>\n      <td>NaN</td>\n      <td>None</td>\n      <td>None</td>\n      <td>None</td>\n      <td>None</td>\n      <td>None</td>\n      <td>None</td>\n      <td>None</td>\n      <td>None</td>\n      <td>None</td>\n      <td>None</td>\n      <td>None</td>\n      <td>None</td>\n      <td>None</td>\n      <td>None</td>\n      <td>None</td>\n    </tr>\n    <tr>\n      <th>3</th>\n      <td>00AA</td>\n      <td>City of London</td>\n      <td>!</td>\n      <td>!</td>\n      <td>!</td>\n      <td>!</td>\n      <td>!</td>\n      <td>!</td>\n      <td>!</td>\n      <td>!</td>\n      <td>!</td>\n      <td>!</td>\n      <td>!</td>\n      <td>!</td>\n      <td>!</td>\n      <td>!</td>\n      <td>!</td>\n    </tr>\n    <tr>\n      <th>4</th>\n      <td>00AB</td>\n      <td>Barking and Dagenham</td>\n      <td>16.3</td>\n      <td>16.4</td>\n      <td>17</td>\n      <td>18.3</td>\n      <td>17.5</td>\n      <td>12.7</td>\n      <td>12.9</td>\n      <td>8.6</td>\n      <td>8.2</td>\n      <td>11.4</td>\n      <td>10.4</td>\n      <td>9.3</td>\n      <td>11.5</td>\n      <td>10</td>\n      <td>7.8</td>\n    </tr>\n    <tr>\n      <th>5</th>\n      <td>00AC</td>\n      <td>Barnet</td>\n      <td>6.8</td>\n      <td>6.4</td>\n      <td>5.3</td>\n      <td>7.8</td>\n      <td>5.6</td>\n      <td>5.9</td>\n      <td>5.2</td>\n      <td>3.7</td>\n      <td>5</td>\n      <td>2.8</td>\n      <td>6.4</td>\n      <td>3.3</td>\n      <td>3.6</td>\n      <td>3.7</td>\n      <td>3</td>\n    </tr>\n    <tr>\n      <th>6</th>\n      <td>00AD</td>\n      <td>Bexley</td>\n      <td>8.6</td>\n      <td>8.5</td>\n      <td>6.3</td>\n      <td>11.2</td>\n      <td>8.2</td>\n      <td>6.9</td>\n      <td>4.3</td>\n      <td>4.8</td>\n      <td>5.6</td>\n      <td>2.7</td>\n      <td>3.5</td>\n      <td>7.7</td>\n      <td>3.4</td>\n      <td>3.1</td>\n      <td>3.5</td>\n    </tr>\n    <tr>\n      <th>7</th>\n      <td>00AE</td>\n      <td>Brent</td>\n      <td>11.6</td>\n      <td>8.2</td>\n      <td>7.2</td>\n      <td>6.5</td>\n      <td>5.1</td>\n      <td>6.8</td>\n      <td>2.1</td>\n      <td>8.2</td>\n      <td>8.3</td>\n      <td>5.7</td>\n      <td>5.4</td>\n      <td>4.6</td>\n      <td>3.4</td>\n      <td>5.1</td>\n      <td>4.8</td>\n    </tr>\n    <tr>\n      <th>8</th>\n      <td>00AF</td>\n      <td>Bromley</td>\n      <td>7.5</td>\n      <td>6.1</td>\n      <td>7.1</td>\n      <td>5.3</td>\n      <td>5.8</td>\n      <td>2.9</td>\n      <td>3.7</td>\n      <td>5.4</td>\n      <td>3.8</td>\n      <td>4</td>\n      <td>1.9</td>\n      <td>1.7</td>\n      <td>1.8</td>\n      <td>3</td>\n      <td>2.6</td>\n    </tr>\n    <tr>\n      <th>9</th>\n      <td>00AG</td>\n      <td>Camden</td>\n      <td>4.6</td>\n      <td>3.8</td>\n      <td>6.3</td>\n      <td>6.2</td>\n      <td>3.4</td>\n      <td>4.7</td>\n      <td>4</td>\n      <td>4</td>\n      <td>3.8</td>\n      <td>4.8</td>\n      <td>1.9</td>\n      <td>1.6</td>\n      <td>2.2</td>\n      <td>6.9</td>\n      <td>4</td>\n    </tr>\n    <tr>\n      <th>10</th>\n      <td>00AH</td>\n      <td>Croydon</td>\n      <td>7.6</td>\n      <td>7.6</td>\n      <td>10</td>\n      <td>12.7</td>\n      <td>9.1</td>\n      <td>8.4</td>\n      <td>3.9</td>\n      <td>6.2</td>\n      <td>3.5</td>\n      <td>4.1</td>\n      <td>3.4</td>\n      <td>4.8</td>\n      <td>4.4</td>\n      <td>3.4</td>\n      <td>4.1</td>\n    </tr>\n    <tr>\n      <th>11</th>\n      <td>00AJ</td>\n      <td>Ealing</td>\n      <td>9.2</td>\n      <td>5.9</td>\n      <td>7.5</td>\n      <td>7.5</td>\n      <td>7.9</td>\n      <td>10.5</td>\n      <td>7.1</td>\n      <td>5.9</td>\n      <td>7.1</td>\n      <td>5.3</td>\n      <td>6.5</td>\n      <td>6.2</td>\n      <td>3.7</td>\n      <td>4.6</td>\n      <td>5.8</td>\n    </tr>\n    <tr>\n      <th>12</th>\n      <td>00AK</td>\n      <td>Enfield</td>\n      <td>11.9</td>\n      <td>9.5</td>\n      <td>7.1</td>\n      <td>8.5</td>\n      <td>9.4</td>\n      <td>6.6</td>\n      <td>5.2</td>\n      <td>5.4</td>\n      <td>5</td>\n      <td>3.5</td>\n      <td>3.8</td>\n      <td>1.4</td>\n      <td>3.2</td>\n      <td>4.9</td>\n      <td>4</td>\n    </tr>\n    <tr>\n      <th>13</th>\n      <td>00AL</td>\n      <td>Greenwich</td>\n      <td>8.6</td>\n      <td>10.4</td>\n      <td>8.5</td>\n      <td>10.5</td>\n      <td>7</td>\n      <td>9.5</td>\n      <td>6.3</td>\n      <td>6.6</td>\n      <td>5.3</td>\n      <td>4.2</td>\n      <td>6.4</td>\n      <td>7.7</td>\n      <td>3.1</td>\n      <td>3.1</td>\n      <td>3.8</td>\n    </tr>\n    <tr>\n      <th>14</th>\n      <td>00AM</td>\n      <td>Hackney</td>\n      <td>14.7</td>\n      <td>13.9</td>\n      <td>14.7</td>\n      <td>12.2</td>\n      <td>9.6</td>\n      <td>6.7</td>\n      <td>9.6</td>\n      <td>7</td>\n      <td>4.9</td>\n      <td>5.1</td>\n      <td>4.3</td>\n      <td>6.4</td>\n      <td>4.9</td>\n      <td>4.7</td>\n      <td>8</td>\n    </tr>\n    <tr>\n      <th>15</th>\n      <td>00AN</td>\n      <td>Hammersmith and Fulham</td>\n      <td>4.3</td>\n      <td>5.9</td>\n      <td>3.9</td>\n      <td>7.1</td>\n      <td>5.4</td>\n      <td>8.5</td>\n      <td>3.7</td>\n      <td>6.5</td>\n      <td>3.1</td>\n      <td>5.7</td>\n      <td>3.8</td>\n      <td>3.2</td>\n      <td>4.9</td>\n      <td>2.1</td>\n      <td>4.9</td>\n    </tr>\n    <tr>\n      <th>16</th>\n      <td>00AP</td>\n      <td>Haringey</td>\n      <td>11.6</td>\n      <td>9.3</td>\n      <td>7.7</td>\n      <td>6</td>\n      <td>9</td>\n      <td>8.8</td>\n      <td>7.1</td>\n      <td>3.9</td>\n      <td>5.4</td>\n      <td>5.8</td>\n      <td>6.8</td>\n      <td>6.6</td>\n      <td>6.4</td>\n      <td>4.5</td>\n      <td>6.4</td>\n    </tr>\n    <tr>\n      <th>17</th>\n      <td>00AQ</td>\n      <td>Harrow</td>\n      <td>7.3</td>\n      <td>5.9</td>\n      <td>5.2</td>\n      <td>5.5</td>\n      <td>5.4</td>\n      <td>4</td>\n      <td>3.6</td>\n      <td>4.9</td>\n      <td>4.1</td>\n      <td>2.5</td>\n      <td>1.7</td>\n      <td>2.8</td>\n      <td>1.3</td>\n      <td>2.2</td>\n      <td>2.5</td>\n    </tr>\n    <tr>\n      <th>18</th>\n      <td>00AR</td>\n      <td>Havering</td>\n      <td>13</td>\n      <td>14.9</td>\n      <td>15.6</td>\n      <td>12</td>\n      <td>11.1</td>\n      <td>12.4</td>\n      <td>10.6</td>\n      <td>8.4</td>\n      <td>5</td>\n      <td>5</td>\n      <td>5.8</td>\n      <td>7.5</td>\n      <td>5.7</td>\n      <td>5.3</td>\n      <td>7.7</td>\n    </tr>\n    <tr>\n      <th>19</th>\n      <td>00AS</td>\n      <td>Hillingdon</td>\n      <td>8.8</td>\n      <td>10</td>\n      <td>10.8</td>\n      <td>9.9</td>\n      <td>9.8</td>\n      <td>9</td>\n      <td>11.4</td>\n      <td>8.4</td>\n      <td>3.5</td>\n      <td>3.5</td>\n      <td>6</td>\n      <td>4.7</td>\n      <td>3.8</td>\n      <td>7</td>\n      <td>6.4</td>\n    </tr>\n    <tr>\n      <th>20</th>\n      <td>00AT</td>\n      <td>Hounslow</td>\n      <td>8.5</td>\n      <td>8.3</td>\n      <td>7.3</td>\n      <td>8.9</td>\n      <td>11.1</td>\n      <td>11.9</td>\n      <td>10.5</td>\n      <td>6.3</td>\n      <td>6.8</td>\n      <td>7.1</td>\n      <td>5.8</td>\n      <td>3.2</td>\n      <td>4.6</td>\n      <td>4.5</td>\n      <td>3.1</td>\n    </tr>\n    <tr>\n      <th>21</th>\n      <td>00AU</td>\n      <td>Islington</td>\n      <td>12.9</td>\n      <td>10</td>\n      <td>8.6</td>\n      <td>8.5</td>\n      <td>7.6</td>\n      <td>5.5</td>\n      <td>3.5</td>\n      <td>4.1</td>\n      <td>4.2</td>\n      <td>6.7</td>\n      <td>4.9</td>\n      <td>4.2</td>\n      <td>4.1</td>\n      <td>3.2</td>\n      <td>4.6</td>\n    </tr>\n    <tr>\n      <th>22</th>\n      <td>00AW</td>\n      <td>Kensington and Chelsea</td>\n      <td>4.2</td>\n      <td>4.6</td>\n      <td>7.9</td>\n      <td>5.6</td>\n      <td>4.5</td>\n      <td>3.8</td>\n      <td>1.8</td>\n      <td>4</td>\n      <td>4.6</td>\n      <td>6.1</td>\n      <td>5.3</td>\n      <td>2.5</td>\n      <td>3.7</td>\n      <td>2.2</td>\n      <td>2.6</td>\n    </tr>\n    <tr>\n      <th>23</th>\n      <td>00AX</td>\n      <td>Kingston upon Thames</td>\n      <td>3.7</td>\n      <td>6.4</td>\n      <td>5.8</td>\n      <td>4.3</td>\n      <td>4.4</td>\n      <td>7.1</td>\n      <td>5.5</td>\n      <td>5.3</td>\n      <td>4.1</td>\n      <td>1.6</td>\n      <td>1.3</td>\n      <td>3.8</td>\n      <td>2.3</td>\n      <td>2.9</td>\n      <td>2.6</td>\n    </tr>\n    <tr>\n      <th>24</th>\n      <td>00AY</td>\n      <td>Lambeth</td>\n      <td>11.2</td>\n      <td>14.1</td>\n      <td>14.8</td>\n      <td>9.5</td>\n      <td>8.8</td>\n      <td>6.5</td>\n      <td>5</td>\n      <td>7.8</td>\n      <td>5.9</td>\n      <td>3.7</td>\n      <td>4.4</td>\n      <td>3.8</td>\n      <td>2.7</td>\n      <td>3</td>\n      <td>3</td>\n    </tr>\n    <tr>\n      <th>25</th>\n      <td>00AZ</td>\n      <td>Lewisham</td>\n      <td>8.4</td>\n      <td>9.1</td>\n      <td>9.6</td>\n      <td>5.4</td>\n      <td>6.5</td>\n      <td>4.1</td>\n      <td>4.3</td>\n      <td>5.5</td>\n      <td>5.2</td>\n      <td>4</td>\n      <td>5</td>\n      <td>3.4</td>\n      <td>3.8</td>\n      <td>2</td>\n      <td>3.7</td>\n    </tr>\n    <tr>\n      <th>26</th>\n      <td>00BA</td>\n      <td>Merton</td>\n      <td>8</td>\n      <td>10.7</td>\n      <td>6.8</td>\n      <td>4.5</td>\n      <td>5.8</td>\n      <td>6.3</td>\n      <td>4.7</td>\n      <td>4.3</td>\n      <td>4.6</td>\n      <td>4.3</td>\n      <td>3.1</td>\n      <td>2.9</td>\n      <td>2.7</td>\n      <td>2</td>\n      <td>3.6</td>\n    </tr>\n    <tr>\n      <th>27</th>\n      <td>00BB</td>\n      <td>Newham</td>\n      <td>21</td>\n      <td>13.3</td>\n      <td>10.2</td>\n      <td>13.1</td>\n      <td>11.8</td>\n      <td>12.6</td>\n      <td>9.6</td>\n      <td>9.3</td>\n      <td>9</td>\n      <td>9.2</td>\n      <td>7.3</td>\n      <td>7.4</td>\n      <td>5.4</td>\n      <td>9.1</td>\n      <td>3.6</td>\n    </tr>\n    <tr>\n      <th>28</th>\n      <td>00BC</td>\n      <td>Redbridge</td>\n      <td>11.5</td>\n      <td>7.8</td>\n      <td>5.9</td>\n      <td>9.5</td>\n      <td>9</td>\n      <td>8</td>\n      <td>11.9</td>\n      <td>8</td>\n      <td>7.4</td>\n      <td>3.7</td>\n      <td>4.8</td>\n      <td>7.4</td>\n      <td>5.8</td>\n      <td>4.9</td>\n      <td>5.8</td>\n    </tr>\n    <tr>\n      <th>29</th>\n      <td>00BD</td>\n      <td>Richmond upon Thames</td>\n      <td>4.2</td>\n      <td>5.7</td>\n      <td>4.4</td>\n      <td>3.6</td>\n      <td>6.6</td>\n      <td>3.7</td>\n      <td>2.8</td>\n      <td>2</td>\n      <td>2.1</td>\n      <td>2.3</td>\n      <td>!</td>\n      <td>1.1</td>\n      <td>!</td>\n      <td>1.8</td>\n      <td>1.9</td>\n    </tr>\n    <tr>\n      <th>30</th>\n      <td>00BE</td>\n      <td>Southwark</td>\n      <td>9.8</td>\n      <td>15.8</td>\n      <td>15</td>\n      <td>9</td>\n      <td>8.4</td>\n      <td>6.3</td>\n      <td>6.5</td>\n      <td>4.6</td>\n      <td>5.4</td>\n      <td>5.2</td>\n      <td>5</td>\n      <td>4.8</td>\n      <td>4.1</td>\n      <td>3.9</td>\n      <td>3.8</td>\n    </tr>\n    <tr>\n      <th>31</th>\n      <td>00BF</td>\n      <td>Sutton</td>\n      <td>9</td>\n      <td>8.7</td>\n      <td>9.8</td>\n      <td>12.5</td>\n      <td>8.8</td>\n      <td>6.8</td>\n      <td>6.4</td>\n      <td>4.1</td>\n      <td>3.8</td>\n      <td>4.6</td>\n      <td>3.4</td>\n      <td>3.1</td>\n      <td>4.8</td>\n      <td>4.8</td>\n      <td>4.8</td>\n    </tr>\n    <tr>\n      <th>32</th>\n      <td>00BG</td>\n      <td>Tower Hamlets</td>\n      <td>14.6</td>\n      <td>13</td>\n      <td>13.7</td>\n      <td>9.8</td>\n      <td>11.3</td>\n      <td>6.9</td>\n      <td>5.4</td>\n      <td>8.4</td>\n      <td>7.5</td>\n      <td>6.6</td>\n      <td>7</td>\n      <td>5.3</td>\n      <td>4.6</td>\n      <td>7.9</td>\n      <td>3.9</td>\n    </tr>\n    <tr>\n      <th>33</th>\n      <td>00BH</td>\n      <td>Waltham Forest</td>\n      <td>12.6</td>\n      <td>13.1</td>\n      <td>11.3</td>\n      <td>12.2</td>\n      <td>11.2</td>\n      <td>15.2</td>\n      <td>10.7</td>\n      <td>8.8</td>\n      <td>7.9</td>\n      <td>8.7</td>\n      <td>6.6</td>\n      <td>7.5</td>\n      <td>4.9</td>\n      <td>7.1</td>\n      <td>4.1</td>\n    </tr>\n    <tr>\n      <th>34</th>\n      <td>00BJ</td>\n      <td>Wandsworth</td>\n      <td>5</td>\n      <td>8</td>\n      <td>7.9</td>\n      <td>2.8</td>\n      <td>6</td>\n      <td>4.3</td>\n      <td>2.6</td>\n      <td>4.1</td>\n      <td>2.2</td>\n      <td>3.5</td>\n      <td>2.3</td>\n      <td>3.1</td>\n      <td>1.4</td>\n      <td>1.6</td>\n      <td>2.4</td>\n    </tr>\n    <tr>\n      <th>35</th>\n      <td>00BK</td>\n      <td>Westminster</td>\n      <td>6.8</td>\n      <td>7.9</td>\n      <td>8.2</td>\n      <td>5.9</td>\n      <td>5</td>\n      <td>4.7</td>\n      <td>3.4</td>\n      <td>5</td>\n      <td>3</td>\n      <td>3.5</td>\n      <td>1.6</td>\n      <td>2.1</td>\n      <td>2.1</td>\n      <td>1.1</td>\n      <td>2.9</td>\n    </tr>\n    <tr>\n      <th>36</th>\n      <td>None</td>\n      <td>None</td>\n      <td>None</td>\n      <td>None</td>\n      <td>None</td>\n      <td>None</td>\n      <td>None</td>\n      <td>None</td>\n      <td>None</td>\n      <td>None</td>\n      <td>None</td>\n      <td>None</td>\n      <td>None</td>\n      <td>None</td>\n      <td>None</td>\n      <td>None</td>\n      <td>None</td>\n    </tr>\n    <tr>\n      <th>37</th>\n      <td>A</td>\n      <td>North East</td>\n      <td>10.9</td>\n      <td>9.8</td>\n      <td>9.2</td>\n      <td>9.2</td>\n      <td>8.9</td>\n      <td>9</td>\n      <td>8</td>\n      <td>7.1</td>\n      <td>6.9</td>\n      <td>6.3</td>\n      <td>5.6</td>\n      <td>6.1</td>\n      <td>5.6</td>\n      <td>5.6</td>\n      <td>5.5</td>\n    </tr>\n    <tr>\n      <th>38</th>\n      <td>B</td>\n      <td>North West</td>\n      <td>12.4</td>\n      <td>11.6</td>\n      <td>10.6</td>\n      <td>10.1</td>\n      <td>10</td>\n      <td>8.6</td>\n      <td>7.1</td>\n      <td>7.3</td>\n      <td>6.5</td>\n      <td>6.4</td>\n      <td>6.1</td>\n      <td>5.9</td>\n      <td>5.4</td>\n      <td>5.2</td>\n      <td>5.5</td>\n    </tr>\n    <tr>\n      <th>39</th>\n      <td>D</td>\n      <td>Yorkshire and The Humber</td>\n      <td>10.9</td>\n      <td>10.8</td>\n      <td>10.3</td>\n      <td>10</td>\n      <td>8.9</td>\n      <td>8.2</td>\n      <td>7.8</td>\n      <td>7.3</td>\n      <td>7.1</td>\n      <td>6.6</td>\n      <td>6.1</td>\n      <td>6.1</td>\n      <td>6</td>\n      <td>6.1</td>\n      <td>5.4</td>\n    </tr>\n    <tr>\n      <th>40</th>\n      <td>E</td>\n      <td>East Midlands</td>\n      <td>13</td>\n      <td>11.1</td>\n      <td>10.4</td>\n      <td>10.1</td>\n      <td>10.1</td>\n      <td>8.9</td>\n      <td>9</td>\n      <td>7.4</td>\n      <td>6.3</td>\n      <td>7</td>\n      <td>6</td>\n      <td>4.9</td>\n      <td>4.7</td>\n      <td>5.1</td>\n      <td>5.5</td>\n    </tr>\n    <tr>\n      <th>41</th>\n      <td>F</td>\n      <td>West Midlands</td>\n      <td>13.7</td>\n      <td>12.6</td>\n      <td>12.8</td>\n      <td>12.2</td>\n      <td>11.5</td>\n      <td>11</td>\n      <td>9.8</td>\n      <td>9.3</td>\n      <td>9.3</td>\n      <td>9.5</td>\n      <td>8.5</td>\n      <td>8.4</td>\n      <td>7.6</td>\n      <td>6.8</td>\n      <td>6.8</td>\n    </tr>\n    <tr>\n      <th>42</th>\n      <td>G</td>\n      <td>East</td>\n      <td>11.7</td>\n      <td>10.4</td>\n      <td>11.2</td>\n      <td>9.8</td>\n      <td>9.4</td>\n      <td>8.1</td>\n      <td>7</td>\n      <td>6.6</td>\n      <td>5.6</td>\n      <td>5.5</td>\n      <td>5.4</td>\n      <td>5.4</td>\n      <td>5.2</td>\n      <td>4.9</td>\n      <td>5.2</td>\n    </tr>\n    <tr>\n      <th>43</th>\n      <td>H</td>\n      <td>London</td>\n      <td>9.3</td>\n      <td>9.2</td>\n      <td>8.9</td>\n      <td>8.4</td>\n      <td>7.9</td>\n      <td>7.4</td>\n      <td>6.1</td>\n      <td>6</td>\n      <td>5.2</td>\n      <td>4.8</td>\n      <td>4.6</td>\n      <td>4.6</td>\n      <td>3.9</td>\n      <td>4.3</td>\n      <td>4.2</td>\n    </tr>\n    <tr>\n      <th>44</th>\n      <td>J</td>\n      <td>South East</td>\n      <td>8.3</td>\n      <td>7.8</td>\n      <td>7.4</td>\n      <td>7.7</td>\n      <td>6.8</td>\n      <td>6.2</td>\n      <td>5.8</td>\n      <td>5.3</td>\n      <td>4.3</td>\n      <td>4.1</td>\n      <td>3.7</td>\n      <td>4.1</td>\n      <td>3.6</td>\n      <td>3.4</td>\n      <td>3.7</td>\n    </tr>\n    <tr>\n      <th>45</th>\n      <td>K</td>\n      <td>South West</td>\n      <td>8.3</td>\n      <td>7.8</td>\n      <td>7.2</td>\n      <td>6.8</td>\n      <td>6.7</td>\n      <td>5.6</td>\n      <td>5.3</td>\n      <td>5.2</td>\n      <td>4.4</td>\n      <td>4.5</td>\n      <td>3.6</td>\n      <td>3.5</td>\n      <td>3.1</td>\n      <td>3.4</td>\n      <td>3.4</td>\n    </tr>\n    <tr>\n      <th>46</th>\n      <td>None</td>\n      <td>None</td>\n      <td>None</td>\n      <td>None</td>\n      <td>None</td>\n      <td>None</td>\n      <td>None</td>\n      <td>None</td>\n      <td>None</td>\n      <td>None</td>\n      <td>None</td>\n      <td>None</td>\n      <td>None</td>\n      <td>None</td>\n      <td>None</td>\n      <td>None</td>\n      <td>None</td>\n    </tr>\n    <tr>\n      <th>47</th>\n      <td>921</td>\n      <td>England</td>\n      <td>10.7</td>\n      <td>10</td>\n      <td>9.6</td>\n      <td>9.2</td>\n      <td>8.8</td>\n      <td>7.9</td>\n      <td>7.1</td>\n      <td>6.7</td>\n      <td>6</td>\n      <td>5.9</td>\n      <td>5.3</td>\n      <td>5.3</td>\n      <td>4.8</td>\n      <td>4.8</td>\n      <td>4.9</td>\n    </tr>\n    <tr>\n      <th>48</th>\n      <td>924</td>\n      <td>Wales</td>\n      <td>12</td>\n      <td>11.5</td>\n      <td>11.3</td>\n      <td>10.7</td>\n      <td>9.5</td>\n      <td>9.1</td>\n      <td>7.8</td>\n      <td>7.4</td>\n      <td>7</td>\n      <td>6.4</td>\n      <td>6.1</td>\n      <td>6.3</td>\n      <td>5.9</td>\n      <td>5.4</td>\n      <td>5.5</td>\n    </tr>\n    <tr>\n      <th>49</th>\n      <td>923</td>\n      <td>Scotland</td>\n      <td>11.6</td>\n      <td>10.6</td>\n      <td>9.9</td>\n      <td>9.7</td>\n      <td>9.1</td>\n      <td>8.9</td>\n      <td>8</td>\n      <td>7.7</td>\n      <td>6.9</td>\n      <td>6.6</td>\n      <td>6.3</td>\n      <td>5.9</td>\n      <td>6.5</td>\n      <td>5.8</td>\n      <td>6.8</td>\n    </tr>\n    <tr>\n      <th>50</th>\n      <td>922</td>\n      <td>Northern Ireland</td>\n      <td>18.1</td>\n      <td>17.5</td>\n      <td>16.5</td>\n      <td>15.8</td>\n      <td>15.8</td>\n      <td>14.7</td>\n      <td>13.4</td>\n      <td>14.3</td>\n      <td>11.7</td>\n      <td>12</td>\n      <td>11.6</td>\n      <td>10.8</td>\n      <td>10.5</td>\n      <td>10.9</td>\n      <td>9.1</td>\n    </tr>\n    <tr>\n      <th>51</th>\n      <td>None</td>\n      <td>None</td>\n      <td>None</td>\n      <td>None</td>\n      <td>None</td>\n      <td>None</td>\n      <td>None</td>\n      <td>None</td>\n      <td>None</td>\n      <td>None</td>\n      <td>None</td>\n      <td>None</td>\n      <td>None</td>\n      <td>None</td>\n      <td>None</td>\n      <td>None</td>\n      <td>None</td>\n    </tr>\n    <tr>\n      <th>52</th>\n      <td>941</td>\n      <td>England and Wales</td>\n      <td>10.8</td>\n      <td>10.1</td>\n      <td>9.7</td>\n      <td>9.3</td>\n      <td>8.8</td>\n      <td>8</td>\n      <td>7.1</td>\n      <td>6.7</td>\n      <td>6</td>\n      <td>5.9</td>\n      <td>5.4</td>\n      <td>5.3</td>\n      <td>4.9</td>\n      <td>4.8</td>\n      <td>4.9</td>\n    </tr>\n    <tr>\n      <th>53</th>\n      <td>925</td>\n      <td>Great Britain</td>\n      <td>10.9</td>\n      <td>10.1</td>\n      <td>9.7</td>\n      <td>9.3</td>\n      <td>8.8</td>\n      <td>8</td>\n      <td>7.2</td>\n      <td>6.8</td>\n      <td>6.1</td>\n      <td>6</td>\n      <td>5.5</td>\n      <td>5.4</td>\n      <td>5</td>\n      <td>4.9</td>\n      <td>5.1</td>\n    </tr>\n    <tr>\n      <th>54</th>\n      <td>926</td>\n      <td>United Kingdom</td>\n      <td>11</td>\n      <td>10.3</td>\n      <td>9.9</td>\n      <td>9.5</td>\n      <td>9</td>\n      <td>8.2</td>\n      <td>7.4</td>\n      <td>7</td>\n      <td>6.2</td>\n      <td>6.1</td>\n      <td>5.6</td>\n      <td>5.5</td>\n      <td>5.2</td>\n      <td>5.1</td>\n      <td>5.2</td>\n    </tr>\n  </tbody>\n</table>\n</div>",
            "text/plain": "    Code                      Area       76       76       76       76  \\\n0    NaN                       NaN     None     None     None     None   \n1    NaN                       NaN  percent  percent  percent  percent   \n2    NaN                       NaN     None     None     None     None   \n3   00AA            City of London        !        !        !        !   \n4   00AB      Barking and Dagenham     16.3     16.4       17     18.3   \n5   00AC                    Barnet      6.8      6.4      5.3      7.8   \n6   00AD                    Bexley      8.6      8.5      6.3     11.2   \n7   00AE                     Brent     11.6      8.2      7.2      6.5   \n8   00AF                   Bromley      7.5      6.1      7.1      5.3   \n9   00AG                    Camden      4.6      3.8      6.3      6.2   \n10  00AH                   Croydon      7.6      7.6       10     12.7   \n11  00AJ                    Ealing      9.2      5.9      7.5      7.5   \n12  00AK                   Enfield     11.9      9.5      7.1      8.5   \n13  00AL                 Greenwich      8.6     10.4      8.5     10.5   \n14  00AM                   Hackney     14.7     13.9     14.7     12.2   \n15  00AN    Hammersmith and Fulham      4.3      5.9      3.9      7.1   \n16  00AP                  Haringey     11.6      9.3      7.7        6   \n17  00AQ                    Harrow      7.3      5.9      5.2      5.5   \n18  00AR                  Havering       13     14.9     15.6       12   \n19  00AS                Hillingdon      8.8       10     10.8      9.9   \n20  00AT                  Hounslow      8.5      8.3      7.3      8.9   \n21  00AU                 Islington     12.9       10      8.6      8.5   \n22  00AW    Kensington and Chelsea      4.2      4.6      7.9      5.6   \n23  00AX      Kingston upon Thames      3.7      6.4      5.8      4.3   \n24  00AY                   Lambeth     11.2     14.1     14.8      9.5   \n25  00AZ                  Lewisham      8.4      9.1      9.6      5.4   \n26  00BA                    Merton        8     10.7      6.8      4.5   \n27  00BB                    Newham       21     13.3     10.2     13.1   \n28  00BC                 Redbridge     11.5      7.8      5.9      9.5   \n29  00BD      Richmond upon Thames      4.2      5.7      4.4      3.6   \n30  00BE                 Southwark      9.8     15.8       15        9   \n31  00BF                    Sutton        9      8.7      9.8     12.5   \n32  00BG             Tower Hamlets     14.6       13     13.7      9.8   \n33  00BH            Waltham Forest     12.6     13.1     11.3     12.2   \n34  00BJ                Wandsworth        5        8      7.9      2.8   \n35  00BK               Westminster      6.8      7.9      8.2      5.9   \n36  None                      None     None     None     None     None   \n37     A                North East     10.9      9.8      9.2      9.2   \n38     B                North West     12.4     11.6     10.6     10.1   \n39     D  Yorkshire and The Humber     10.9     10.8     10.3       10   \n40     E             East Midlands       13     11.1     10.4     10.1   \n41     F             West Midlands     13.7     12.6     12.8     12.2   \n42     G                      East     11.7     10.4     11.2      9.8   \n43     H                    London      9.3      9.2      8.9      8.4   \n44     J                South East      8.3      7.8      7.4      7.7   \n45     K                South West      8.3      7.8      7.2      6.8   \n46  None                      None     None     None     None     None   \n47   921                   England     10.7       10      9.6      9.2   \n48   924                     Wales       12     11.5     11.3     10.7   \n49   923                  Scotland     11.6     10.6      9.9      9.7   \n50   922          Northern Ireland     18.1     17.5     16.5     15.8   \n51  None                      None     None     None     None     None   \n52   941         England and Wales     10.8     10.1      9.7      9.3   \n53   925             Great Britain     10.9     10.1      9.7      9.3   \n54   926            United Kingdom       11     10.3      9.9      9.5   \n\n         76       76       76       76       76       76       76       76  \\\n0      None     None     None     None     None     None     None     None   \n1   percent  percent  percent  percent  percent  percent  percent  percent   \n2      None     None     None     None     None     None     None     None   \n3         !        !        !        !        !        !        !        !   \n4      17.5     12.7     12.9      8.6      8.2     11.4     10.4      9.3   \n5       5.6      5.9      5.2      3.7        5      2.8      6.4      3.3   \n6       8.2      6.9      4.3      4.8      5.6      2.7      3.5      7.7   \n7       5.1      6.8      2.1      8.2      8.3      5.7      5.4      4.6   \n8       5.8      2.9      3.7      5.4      3.8        4      1.9      1.7   \n9       3.4      4.7        4        4      3.8      4.8      1.9      1.6   \n10      9.1      8.4      3.9      6.2      3.5      4.1      3.4      4.8   \n11      7.9     10.5      7.1      5.9      7.1      5.3      6.5      6.2   \n12      9.4      6.6      5.2      5.4        5      3.5      3.8      1.4   \n13        7      9.5      6.3      6.6      5.3      4.2      6.4      7.7   \n14      9.6      6.7      9.6        7      4.9      5.1      4.3      6.4   \n15      5.4      8.5      3.7      6.5      3.1      5.7      3.8      3.2   \n16        9      8.8      7.1      3.9      5.4      5.8      6.8      6.6   \n17      5.4        4      3.6      4.9      4.1      2.5      1.7      2.8   \n18     11.1     12.4     10.6      8.4        5        5      5.8      7.5   \n19      9.8        9     11.4      8.4      3.5      3.5        6      4.7   \n20     11.1     11.9     10.5      6.3      6.8      7.1      5.8      3.2   \n21      7.6      5.5      3.5      4.1      4.2      6.7      4.9      4.2   \n22      4.5      3.8      1.8        4      4.6      6.1      5.3      2.5   \n23      4.4      7.1      5.5      5.3      4.1      1.6      1.3      3.8   \n24      8.8      6.5        5      7.8      5.9      3.7      4.4      3.8   \n25      6.5      4.1      4.3      5.5      5.2        4        5      3.4   \n26      5.8      6.3      4.7      4.3      4.6      4.3      3.1      2.9   \n27     11.8     12.6      9.6      9.3        9      9.2      7.3      7.4   \n28        9        8     11.9        8      7.4      3.7      4.8      7.4   \n29      6.6      3.7      2.8        2      2.1      2.3        !      1.1   \n30      8.4      6.3      6.5      4.6      5.4      5.2        5      4.8   \n31      8.8      6.8      6.4      4.1      3.8      4.6      3.4      3.1   \n32     11.3      6.9      5.4      8.4      7.5      6.6        7      5.3   \n33     11.2     15.2     10.7      8.8      7.9      8.7      6.6      7.5   \n34        6      4.3      2.6      4.1      2.2      3.5      2.3      3.1   \n35        5      4.7      3.4        5        3      3.5      1.6      2.1   \n36     None     None     None     None     None     None     None     None   \n37      8.9        9        8      7.1      6.9      6.3      5.6      6.1   \n38       10      8.6      7.1      7.3      6.5      6.4      6.1      5.9   \n39      8.9      8.2      7.8      7.3      7.1      6.6      6.1      6.1   \n40     10.1      8.9        9      7.4      6.3        7        6      4.9   \n41     11.5       11      9.8      9.3      9.3      9.5      8.5      8.4   \n42      9.4      8.1        7      6.6      5.6      5.5      5.4      5.4   \n43      7.9      7.4      6.1        6      5.2      4.8      4.6      4.6   \n44      6.8      6.2      5.8      5.3      4.3      4.1      3.7      4.1   \n45      6.7      5.6      5.3      5.2      4.4      4.5      3.6      3.5   \n46     None     None     None     None     None     None     None     None   \n47      8.8      7.9      7.1      6.7        6      5.9      5.3      5.3   \n48      9.5      9.1      7.8      7.4        7      6.4      6.1      6.3   \n49      9.1      8.9        8      7.7      6.9      6.6      6.3      5.9   \n50     15.8     14.7     13.4     14.3     11.7       12     11.6     10.8   \n51     None     None     None     None     None     None     None     None   \n52      8.8        8      7.1      6.7        6      5.9      5.4      5.3   \n53      8.8        8      7.2      6.8      6.1        6      5.5      5.4   \n54        9      8.2      7.4        7      6.2      6.1      5.6      5.5   \n\n         76       76       76  \n0      None     None     None  \n1   percent  percent  percent  \n2      None     None     None  \n3         !        !        !  \n4      11.5       10      7.8  \n5       3.6      3.7        3  \n6       3.4      3.1      3.5  \n7       3.4      5.1      4.8  \n8       1.8        3      2.6  \n9       2.2      6.9        4  \n10      4.4      3.4      4.1  \n11      3.7      4.6      5.8  \n12      3.2      4.9        4  \n13      3.1      3.1      3.8  \n14      4.9      4.7        8  \n15      4.9      2.1      4.9  \n16      6.4      4.5      6.4  \n17      1.3      2.2      2.5  \n18      5.7      5.3      7.7  \n19      3.8        7      6.4  \n20      4.6      4.5      3.1  \n21      4.1      3.2      4.6  \n22      3.7      2.2      2.6  \n23      2.3      2.9      2.6  \n24      2.7        3        3  \n25      3.8        2      3.7  \n26      2.7        2      3.6  \n27      5.4      9.1      3.6  \n28      5.8      4.9      5.8  \n29        !      1.8      1.9  \n30      4.1      3.9      3.8  \n31      4.8      4.8      4.8  \n32      4.6      7.9      3.9  \n33      4.9      7.1      4.1  \n34      1.4      1.6      2.4  \n35      2.1      1.1      2.9  \n36     None     None     None  \n37      5.6      5.6      5.5  \n38      5.4      5.2      5.5  \n39        6      6.1      5.4  \n40      4.7      5.1      5.5  \n41      7.6      6.8      6.8  \n42      5.2      4.9      5.2  \n43      3.9      4.3      4.2  \n44      3.6      3.4      3.7  \n45      3.1      3.4      3.4  \n46     None     None     None  \n47      4.8      4.8      4.9  \n48      5.9      5.4      5.5  \n49      6.5      5.8      6.8  \n50     10.5     10.9      9.1  \n51     None     None     None  \n52      4.9      4.8      4.9  \n53        5      4.9      5.1  \n54      5.2      5.1      5.2  "
          },
          "metadata": {}
        }
      ]
    },
    {
      "metadata": {
        "trusted": true
      },
      "cell_type": "code",
      "source": "df.columns = ['Code', 'Area', '2004', '2005', '2006', '2007', '2008', '2009', '2010', '2011', '2012', '2013', '2014', '2015', '2016', '2017', '2018']",
      "execution_count": 208,
      "outputs": []
    },
    {
      "metadata": {
        "trusted": true,
        "scrolled": true
      },
      "cell_type": "code",
      "source": "df.head()",
      "execution_count": 209,
      "outputs": [
        {
          "output_type": "execute_result",
          "execution_count": 209,
          "data": {
            "text/html": "<div>\n<style scoped>\n    .dataframe tbody tr th:only-of-type {\n        vertical-align: middle;\n    }\n\n    .dataframe tbody tr th {\n        vertical-align: top;\n    }\n\n    .dataframe thead th {\n        text-align: right;\n    }\n</style>\n<table border=\"1\" class=\"dataframe\">\n  <thead>\n    <tr style=\"text-align: right;\">\n      <th></th>\n      <th>Code</th>\n      <th>Area</th>\n      <th>2004</th>\n      <th>2005</th>\n      <th>2006</th>\n      <th>2007</th>\n      <th>2008</th>\n      <th>2009</th>\n      <th>2010</th>\n      <th>2011</th>\n      <th>2012</th>\n      <th>2013</th>\n      <th>2014</th>\n      <th>2015</th>\n      <th>2016</th>\n      <th>2017</th>\n      <th>2018</th>\n    </tr>\n  </thead>\n  <tbody>\n    <tr>\n      <th>0</th>\n      <td>NaN</td>\n      <td>NaN</td>\n      <td>None</td>\n      <td>None</td>\n      <td>None</td>\n      <td>None</td>\n      <td>None</td>\n      <td>None</td>\n      <td>None</td>\n      <td>None</td>\n      <td>None</td>\n      <td>None</td>\n      <td>None</td>\n      <td>None</td>\n      <td>None</td>\n      <td>None</td>\n      <td>None</td>\n    </tr>\n    <tr>\n      <th>1</th>\n      <td>NaN</td>\n      <td>NaN</td>\n      <td>percent</td>\n      <td>percent</td>\n      <td>percent</td>\n      <td>percent</td>\n      <td>percent</td>\n      <td>percent</td>\n      <td>percent</td>\n      <td>percent</td>\n      <td>percent</td>\n      <td>percent</td>\n      <td>percent</td>\n      <td>percent</td>\n      <td>percent</td>\n      <td>percent</td>\n      <td>percent</td>\n    </tr>\n    <tr>\n      <th>2</th>\n      <td>NaN</td>\n      <td>NaN</td>\n      <td>None</td>\n      <td>None</td>\n      <td>None</td>\n      <td>None</td>\n      <td>None</td>\n      <td>None</td>\n      <td>None</td>\n      <td>None</td>\n      <td>None</td>\n      <td>None</td>\n      <td>None</td>\n      <td>None</td>\n      <td>None</td>\n      <td>None</td>\n      <td>None</td>\n    </tr>\n    <tr>\n      <th>3</th>\n      <td>00AA</td>\n      <td>City of London</td>\n      <td>!</td>\n      <td>!</td>\n      <td>!</td>\n      <td>!</td>\n      <td>!</td>\n      <td>!</td>\n      <td>!</td>\n      <td>!</td>\n      <td>!</td>\n      <td>!</td>\n      <td>!</td>\n      <td>!</td>\n      <td>!</td>\n      <td>!</td>\n      <td>!</td>\n    </tr>\n    <tr>\n      <th>4</th>\n      <td>00AB</td>\n      <td>Barking and Dagenham</td>\n      <td>16.3</td>\n      <td>16.4</td>\n      <td>17</td>\n      <td>18.3</td>\n      <td>17.5</td>\n      <td>12.7</td>\n      <td>12.9</td>\n      <td>8.6</td>\n      <td>8.2</td>\n      <td>11.4</td>\n      <td>10.4</td>\n      <td>9.3</td>\n      <td>11.5</td>\n      <td>10</td>\n      <td>7.8</td>\n    </tr>\n  </tbody>\n</table>\n</div>",
            "text/plain": "   Code                  Area     2004     2005     2006     2007     2008  \\\n0   NaN                   NaN     None     None     None     None     None   \n1   NaN                   NaN  percent  percent  percent  percent  percent   \n2   NaN                   NaN     None     None     None     None     None   \n3  00AA        City of London        !        !        !        !        !   \n4  00AB  Barking and Dagenham     16.3     16.4       17     18.3     17.5   \n\n      2009     2010     2011     2012     2013     2014     2015     2016  \\\n0     None     None     None     None     None     None     None     None   \n1  percent  percent  percent  percent  percent  percent  percent  percent   \n2     None     None     None     None     None     None     None     None   \n3        !        !        !        !        !        !        !        !   \n4     12.7     12.9      8.6      8.2     11.4     10.4      9.3     11.5   \n\n      2017     2018  \n0     None     None  \n1  percent  percent  \n2     None     None  \n3        !        !  \n4       10      7.8  "
          },
          "metadata": {}
        }
      ]
    },
    {
      "metadata": {
        "trusted": true
      },
      "cell_type": "code",
      "source": "df.replace('!', 0, inplace=True)",
      "execution_count": 210,
      "outputs": []
    },
    {
      "metadata": {
        "trusted": true
      },
      "cell_type": "code",
      "source": "df.drop(0, axis=0, inplace=True)\ndf.drop(1, axis=0, inplace=True)\ndf.drop(2, axis=0, inplace=True)\ndf.head()",
      "execution_count": 211,
      "outputs": [
        {
          "output_type": "execute_result",
          "execution_count": 211,
          "data": {
            "text/html": "<div>\n<style scoped>\n    .dataframe tbody tr th:only-of-type {\n        vertical-align: middle;\n    }\n\n    .dataframe tbody tr th {\n        vertical-align: top;\n    }\n\n    .dataframe thead th {\n        text-align: right;\n    }\n</style>\n<table border=\"1\" class=\"dataframe\">\n  <thead>\n    <tr style=\"text-align: right;\">\n      <th></th>\n      <th>Code</th>\n      <th>Area</th>\n      <th>2004</th>\n      <th>2005</th>\n      <th>2006</th>\n      <th>2007</th>\n      <th>2008</th>\n      <th>2009</th>\n      <th>2010</th>\n      <th>2011</th>\n      <th>2012</th>\n      <th>2013</th>\n      <th>2014</th>\n      <th>2015</th>\n      <th>2016</th>\n      <th>2017</th>\n      <th>2018</th>\n    </tr>\n  </thead>\n  <tbody>\n    <tr>\n      <th>3</th>\n      <td>00AA</td>\n      <td>City of London</td>\n      <td>0</td>\n      <td>0</td>\n      <td>0</td>\n      <td>0</td>\n      <td>0</td>\n      <td>0</td>\n      <td>0</td>\n      <td>0</td>\n      <td>0</td>\n      <td>0</td>\n      <td>0</td>\n      <td>0</td>\n      <td>0</td>\n      <td>0</td>\n      <td>0</td>\n    </tr>\n    <tr>\n      <th>4</th>\n      <td>00AB</td>\n      <td>Barking and Dagenham</td>\n      <td>16.3</td>\n      <td>16.4</td>\n      <td>17</td>\n      <td>18.3</td>\n      <td>17.5</td>\n      <td>12.7</td>\n      <td>12.9</td>\n      <td>8.6</td>\n      <td>8.2</td>\n      <td>11.4</td>\n      <td>10.4</td>\n      <td>9.3</td>\n      <td>11.5</td>\n      <td>10</td>\n      <td>7.8</td>\n    </tr>\n    <tr>\n      <th>5</th>\n      <td>00AC</td>\n      <td>Barnet</td>\n      <td>6.8</td>\n      <td>6.4</td>\n      <td>5.3</td>\n      <td>7.8</td>\n      <td>5.6</td>\n      <td>5.9</td>\n      <td>5.2</td>\n      <td>3.7</td>\n      <td>5</td>\n      <td>2.8</td>\n      <td>6.4</td>\n      <td>3.3</td>\n      <td>3.6</td>\n      <td>3.7</td>\n      <td>3</td>\n    </tr>\n    <tr>\n      <th>6</th>\n      <td>00AD</td>\n      <td>Bexley</td>\n      <td>8.6</td>\n      <td>8.5</td>\n      <td>6.3</td>\n      <td>11.2</td>\n      <td>8.2</td>\n      <td>6.9</td>\n      <td>4.3</td>\n      <td>4.8</td>\n      <td>5.6</td>\n      <td>2.7</td>\n      <td>3.5</td>\n      <td>7.7</td>\n      <td>3.4</td>\n      <td>3.1</td>\n      <td>3.5</td>\n    </tr>\n    <tr>\n      <th>7</th>\n      <td>00AE</td>\n      <td>Brent</td>\n      <td>11.6</td>\n      <td>8.2</td>\n      <td>7.2</td>\n      <td>6.5</td>\n      <td>5.1</td>\n      <td>6.8</td>\n      <td>2.1</td>\n      <td>8.2</td>\n      <td>8.3</td>\n      <td>5.7</td>\n      <td>5.4</td>\n      <td>4.6</td>\n      <td>3.4</td>\n      <td>5.1</td>\n      <td>4.8</td>\n    </tr>\n  </tbody>\n</table>\n</div>",
            "text/plain": "   Code                  Area  2004  2005 2006  2007  2008  2009  2010 2011  \\\n3  00AA        City of London     0     0    0     0     0     0     0    0   \n4  00AB  Barking and Dagenham  16.3  16.4   17  18.3  17.5  12.7  12.9  8.6   \n5  00AC                Barnet   6.8   6.4  5.3   7.8   5.6   5.9   5.2  3.7   \n6  00AD                Bexley   8.6   8.5  6.3  11.2   8.2   6.9   4.3  4.8   \n7  00AE                 Brent  11.6   8.2  7.2   6.5   5.1   6.8   2.1  8.2   \n\n  2012  2013  2014 2015  2016 2017 2018  \n3    0     0     0    0     0    0    0  \n4  8.2  11.4  10.4  9.3  11.5   10  7.8  \n5    5   2.8   6.4  3.3   3.6  3.7    3  \n6  5.6   2.7   3.5  7.7   3.4  3.1  3.5  \n7  8.3   5.7   5.4  4.6   3.4  5.1  4.8  "
          },
          "metadata": {}
        }
      ]
    },
    {
      "metadata": {
        "trusted": true
      },
      "cell_type": "code",
      "source": "PROC_DATA_PATH = '~/library/data/processed/'\ndf.to_csv(PROC_DATA_PATH + 'no-qualifications-overtime.csv') ",
      "execution_count": 212,
      "outputs": []
    },
    {
      "metadata": {},
      "cell_type": "markdown",
      "source": "### NVQ4+ over time"
    },
    {
      "metadata": {
        "trusted": true
      },
      "cell_type": "code",
      "source": "ws2 = wb2[\"2004\"]\ndf04 = pd.DataFrame(ws2.values)\nnq04 = df04[4]",
      "execution_count": 229,
      "outputs": []
    },
    {
      "metadata": {
        "trusted": true
      },
      "cell_type": "code",
      "source": "ws2 = wb2[\"2005\"]\ndf05 = pd.DataFrame(ws2.values)\nnq05 = df05[4]",
      "execution_count": 230,
      "outputs": []
    },
    {
      "metadata": {
        "trusted": true
      },
      "cell_type": "code",
      "source": "ws2 = wb2[\"2006\"]\ndf06 = pd.DataFrame(ws2.values)\nnq06 = df06[4]",
      "execution_count": 231,
      "outputs": []
    },
    {
      "metadata": {
        "trusted": true
      },
      "cell_type": "code",
      "source": "ws2 = wb2[\"2007\"]\ndf07 = pd.DataFrame(ws2.values)\nnq07 = df07[4]",
      "execution_count": 232,
      "outputs": []
    },
    {
      "metadata": {
        "trusted": true
      },
      "cell_type": "code",
      "source": "ws2 = wb2[\"2008\"]\ndf08 = pd.DataFrame(ws2.values)\nnq08 = df08[4]",
      "execution_count": 233,
      "outputs": []
    },
    {
      "metadata": {
        "trusted": true
      },
      "cell_type": "code",
      "source": "ws2 = wb2[\"2009\"]\ndf09 = pd.DataFrame(ws2.values)\nnq09 = df09[4]",
      "execution_count": 234,
      "outputs": []
    },
    {
      "metadata": {
        "trusted": true
      },
      "cell_type": "code",
      "source": "ws2 = wb2[\"2010\"]\ndf10 = pd.DataFrame(ws2.values)\nnq10 = df10[4]",
      "execution_count": 235,
      "outputs": []
    },
    {
      "metadata": {
        "trusted": true
      },
      "cell_type": "code",
      "source": "ws2 = wb2[\"2011\"]\ndf11 = pd.DataFrame(ws2.values)\nnq11 = df11[4]",
      "execution_count": 236,
      "outputs": []
    },
    {
      "metadata": {
        "trusted": true
      },
      "cell_type": "code",
      "source": "ws2 = wb2[\"2012\"]\ndf12 = pd.DataFrame(ws2.values)\nnq12 = df12[4]",
      "execution_count": 237,
      "outputs": []
    },
    {
      "metadata": {
        "trusted": true
      },
      "cell_type": "code",
      "source": "ws2 = wb2[\"2013\"]\ndf13 = pd.DataFrame(ws2.values)\nnq13 = df13[4]",
      "execution_count": 238,
      "outputs": []
    },
    {
      "metadata": {
        "trusted": true
      },
      "cell_type": "code",
      "source": "ws2 = wb2[\"2014\"]\ndf14 = pd.DataFrame(ws2.values)\nnq14 = df14[4]",
      "execution_count": 239,
      "outputs": []
    },
    {
      "metadata": {
        "trusted": true
      },
      "cell_type": "code",
      "source": "ws2 = wb2[\"2015\"]\ndf15 = pd.DataFrame(ws2.values)\nnq15 = df15[4]",
      "execution_count": 240,
      "outputs": []
    },
    {
      "metadata": {
        "trusted": true
      },
      "cell_type": "code",
      "source": "ws2 = wb2[\"2016\"]\ndf16 = pd.DataFrame(ws2.values)\nnq16 = df16[4]",
      "execution_count": 241,
      "outputs": []
    },
    {
      "metadata": {
        "trusted": true
      },
      "cell_type": "code",
      "source": "ws2 = wb2[\"2017\"]\ndf17 = pd.DataFrame(ws2.values)\nnq17 = df17[4]",
      "execution_count": 242,
      "outputs": []
    },
    {
      "metadata": {
        "trusted": true
      },
      "cell_type": "code",
      "source": "ws2 = wb2[\"2018\"]\ndf18 = pd.DataFrame(ws2.values)\nnq18 = df18[4]",
      "execution_count": 243,
      "outputs": []
    },
    {
      "metadata": {
        "trusted": true
      },
      "cell_type": "code",
      "source": "#using only the borough key of df\nbulk = df.iloc[::, 2:]",
      "execution_count": 244,
      "outputs": []
    },
    {
      "metadata": {
        "trusted": true
      },
      "cell_type": "code",
      "source": "df.drop(bulk, axis=1, inplace=True)",
      "execution_count": 245,
      "outputs": []
    },
    {
      "metadata": {
        "trusted": true
      },
      "cell_type": "code",
      "source": "df = pd.concat([df, nq04], axis=1)\ndf = pd.concat([df, nq05], axis=1)\ndf = pd.concat([df, nq06], axis=1)\ndf = pd.concat([df, nq07], axis=1)\ndf = pd.concat([df, nq08], axis=1)\ndf = pd.concat([df, nq09], axis=1)\ndf = pd.concat([df, nq10], axis=1)\ndf = pd.concat([df, nq11], axis=1)\ndf = pd.concat([df, nq12], axis=1)\ndf = pd.concat([df, nq13], axis=1)\ndf = pd.concat([df, nq14], axis=1)\ndf = pd.concat([df, nq15], axis=1)\ndf = pd.concat([df, nq16], axis=1)\ndf = pd.concat([df, nq17], axis=1)\ndf = pd.concat([df, nq18], axis=1)\ndf",
      "execution_count": 246,
      "outputs": [
        {
          "output_type": "execute_result",
          "execution_count": 246,
          "data": {
            "text/html": "<div>\n<style scoped>\n    .dataframe tbody tr th:only-of-type {\n        vertical-align: middle;\n    }\n\n    .dataframe tbody tr th {\n        vertical-align: top;\n    }\n\n    .dataframe thead th {\n        text-align: right;\n    }\n</style>\n<table border=\"1\" class=\"dataframe\">\n  <thead>\n    <tr style=\"text-align: right;\">\n      <th></th>\n      <th>Code</th>\n      <th>Area</th>\n      <th>4</th>\n      <th>4</th>\n      <th>4</th>\n      <th>4</th>\n      <th>4</th>\n      <th>4</th>\n      <th>4</th>\n      <th>4</th>\n      <th>4</th>\n      <th>4</th>\n      <th>4</th>\n      <th>4</th>\n      <th>4</th>\n      <th>4</th>\n      <th>4</th>\n    </tr>\n  </thead>\n  <tbody>\n    <tr>\n      <th>0</th>\n      <td>NaN</td>\n      <td>NaN</td>\n      <td>None</td>\n      <td>None</td>\n      <td>None</td>\n      <td>None</td>\n      <td>None</td>\n      <td>None</td>\n      <td>None</td>\n      <td>None</td>\n      <td>None</td>\n      <td>None</td>\n      <td>None</td>\n      <td>None</td>\n      <td>None</td>\n      <td>None</td>\n      <td>None</td>\n    </tr>\n    <tr>\n      <th>1</th>\n      <td>NaN</td>\n      <td>NaN</td>\n      <td>percent</td>\n      <td>percent</td>\n      <td>percent</td>\n      <td>percent</td>\n      <td>percent</td>\n      <td>percent</td>\n      <td>percent</td>\n      <td>percent</td>\n      <td>percent</td>\n      <td>percent</td>\n      <td>percent</td>\n      <td>percent</td>\n      <td>percent</td>\n      <td>percent</td>\n      <td>percent</td>\n    </tr>\n    <tr>\n      <th>2</th>\n      <td>NaN</td>\n      <td>NaN</td>\n      <td>None</td>\n      <td>None</td>\n      <td>None</td>\n      <td>None</td>\n      <td>None</td>\n      <td>None</td>\n      <td>None</td>\n      <td>None</td>\n      <td>None</td>\n      <td>None</td>\n      <td>None</td>\n      <td>None</td>\n      <td>None</td>\n      <td>None</td>\n      <td>None</td>\n    </tr>\n    <tr>\n      <th>3</th>\n      <td>00AA</td>\n      <td>City of London</td>\n      <td>80.6</td>\n      <td>73.1</td>\n      <td>67.9</td>\n      <td>73.7</td>\n      <td>69.4</td>\n      <td>100</td>\n      <td>!</td>\n      <td>!</td>\n      <td>100</td>\n      <td>100</td>\n      <td>!</td>\n      <td>100</td>\n      <td>83.3</td>\n      <td>91.1</td>\n      <td>100</td>\n    </tr>\n    <tr>\n      <th>4</th>\n      <td>00AB</td>\n      <td>Barking and Dagenham</td>\n      <td>17.2</td>\n      <td>20.2</td>\n      <td>18.5</td>\n      <td>22.4</td>\n      <td>26</td>\n      <td>29.1</td>\n      <td>33.8</td>\n      <td>33.2</td>\n      <td>29.8</td>\n      <td>32.3</td>\n      <td>34.8</td>\n      <td>35.9</td>\n      <td>37.5</td>\n      <td>35</td>\n      <td>39.2</td>\n    </tr>\n    <tr>\n      <th>5</th>\n      <td>00AC</td>\n      <td>Barnet</td>\n      <td>41.6</td>\n      <td>46.9</td>\n      <td>42.3</td>\n      <td>47.6</td>\n      <td>48.6</td>\n      <td>49.5</td>\n      <td>53.2</td>\n      <td>57.3</td>\n      <td>53.9</td>\n      <td>56.8</td>\n      <td>49.9</td>\n      <td>55.4</td>\n      <td>65.2</td>\n      <td>62.2</td>\n      <td>61.5</td>\n    </tr>\n    <tr>\n      <th>6</th>\n      <td>00AD</td>\n      <td>Bexley</td>\n      <td>17.3</td>\n      <td>21.8</td>\n      <td>24.2</td>\n      <td>23.1</td>\n      <td>28.1</td>\n      <td>31.5</td>\n      <td>30.5</td>\n      <td>29.6</td>\n      <td>31.9</td>\n      <td>35.3</td>\n      <td>37.4</td>\n      <td>38.3</td>\n      <td>40.8</td>\n      <td>39.9</td>\n      <td>45.2</td>\n    </tr>\n    <tr>\n      <th>7</th>\n      <td>00AE</td>\n      <td>Brent</td>\n      <td>31.7</td>\n      <td>35.8</td>\n      <td>35</td>\n      <td>31.3</td>\n      <td>31.4</td>\n      <td>41</td>\n      <td>31</td>\n      <td>33.8</td>\n      <td>46.8</td>\n      <td>50.8</td>\n      <td>53.9</td>\n      <td>53.4</td>\n      <td>52.1</td>\n      <td>45.4</td>\n      <td>47.5</td>\n    </tr>\n    <tr>\n      <th>8</th>\n      <td>00AF</td>\n      <td>Bromley</td>\n      <td>38.4</td>\n      <td>33.6</td>\n      <td>39.1</td>\n      <td>39</td>\n      <td>36.4</td>\n      <td>39.3</td>\n      <td>41</td>\n      <td>47.1</td>\n      <td>49.7</td>\n      <td>51.9</td>\n      <td>50</td>\n      <td>51.5</td>\n      <td>54.2</td>\n      <td>50.1</td>\n      <td>53.5</td>\n    </tr>\n    <tr>\n      <th>9</th>\n      <td>00AG</td>\n      <td>Camden</td>\n      <td>55.7</td>\n      <td>60</td>\n      <td>60.1</td>\n      <td>59.1</td>\n      <td>59.8</td>\n      <td>62.6</td>\n      <td>63.5</td>\n      <td>69.4</td>\n      <td>69.6</td>\n      <td>69.8</td>\n      <td>72.4</td>\n      <td>73.5</td>\n      <td>72.2</td>\n      <td>71.2</td>\n      <td>74.5</td>\n    </tr>\n    <tr>\n      <th>10</th>\n      <td>00AH</td>\n      <td>Croydon</td>\n      <td>31.1</td>\n      <td>32.6</td>\n      <td>33.6</td>\n      <td>34.8</td>\n      <td>36.3</td>\n      <td>35.7</td>\n      <td>45.1</td>\n      <td>43.1</td>\n      <td>44.3</td>\n      <td>47.8</td>\n      <td>45.6</td>\n      <td>45.8</td>\n      <td>52.8</td>\n      <td>51</td>\n      <td>54.3</td>\n    </tr>\n    <tr>\n      <th>11</th>\n      <td>00AJ</td>\n      <td>Ealing</td>\n      <td>44.5</td>\n      <td>44</td>\n      <td>39.9</td>\n      <td>45</td>\n      <td>49.3</td>\n      <td>43.6</td>\n      <td>46.7</td>\n      <td>54.7</td>\n      <td>52.9</td>\n      <td>51.9</td>\n      <td>54.2</td>\n      <td>57</td>\n      <td>61.2</td>\n      <td>56.9</td>\n      <td>58</td>\n    </tr>\n    <tr>\n      <th>12</th>\n      <td>00AK</td>\n      <td>Enfield</td>\n      <td>26.6</td>\n      <td>34.2</td>\n      <td>39.9</td>\n      <td>35.7</td>\n      <td>38.1</td>\n      <td>43.7</td>\n      <td>43.9</td>\n      <td>44</td>\n      <td>42.4</td>\n      <td>44.3</td>\n      <td>48.1</td>\n      <td>50.5</td>\n      <td>48.5</td>\n      <td>43.1</td>\n      <td>49.4</td>\n    </tr>\n    <tr>\n      <th>13</th>\n      <td>00AL</td>\n      <td>Greenwich</td>\n      <td>32.9</td>\n      <td>31.8</td>\n      <td>38.9</td>\n      <td>35.2</td>\n      <td>42.4</td>\n      <td>43.1</td>\n      <td>42.2</td>\n      <td>49.2</td>\n      <td>47.5</td>\n      <td>52.6</td>\n      <td>48.3</td>\n      <td>48.7</td>\n      <td>50.6</td>\n      <td>61.1</td>\n      <td>60.6</td>\n    </tr>\n    <tr>\n      <th>14</th>\n      <td>00AM</td>\n      <td>Hackney</td>\n      <td>42.7</td>\n      <td>41.7</td>\n      <td>44.6</td>\n      <td>47.8</td>\n      <td>56.1</td>\n      <td>55.9</td>\n      <td>49.8</td>\n      <td>56.6</td>\n      <td>60.3</td>\n      <td>58.6</td>\n      <td>60</td>\n      <td>59.4</td>\n      <td>65.3</td>\n      <td>71</td>\n      <td>63.9</td>\n    </tr>\n    <tr>\n      <th>15</th>\n      <td>00AN</td>\n      <td>Hammersmith and Fulham</td>\n      <td>55.5</td>\n      <td>57</td>\n      <td>59</td>\n      <td>58.2</td>\n      <td>58.1</td>\n      <td>53.2</td>\n      <td>59.9</td>\n      <td>66.7</td>\n      <td>67.8</td>\n      <td>70.6</td>\n      <td>72</td>\n      <td>73.4</td>\n      <td>66.4</td>\n      <td>71.6</td>\n      <td>69.2</td>\n    </tr>\n    <tr>\n      <th>16</th>\n      <td>00AP</td>\n      <td>Haringey</td>\n      <td>45</td>\n      <td>45.5</td>\n      <td>47.9</td>\n      <td>50.6</td>\n      <td>52.5</td>\n      <td>52.7</td>\n      <td>51.2</td>\n      <td>60</td>\n      <td>62.4</td>\n      <td>61.9</td>\n      <td>55.6</td>\n      <td>56.6</td>\n      <td>59.1</td>\n      <td>59.9</td>\n      <td>63.6</td>\n    </tr>\n    <tr>\n      <th>17</th>\n      <td>00AQ</td>\n      <td>Harrow</td>\n      <td>37.5</td>\n      <td>37.2</td>\n      <td>37.3</td>\n      <td>38.4</td>\n      <td>34.8</td>\n      <td>37.9</td>\n      <td>39.9</td>\n      <td>49.3</td>\n      <td>52.7</td>\n      <td>52.2</td>\n      <td>58.2</td>\n      <td>53.3</td>\n      <td>49.9</td>\n      <td>52.2</td>\n      <td>52.5</td>\n    </tr>\n    <tr>\n      <th>18</th>\n      <td>00AR</td>\n      <td>Havering</td>\n      <td>13.7</td>\n      <td>20.4</td>\n      <td>20.4</td>\n      <td>20.5</td>\n      <td>23</td>\n      <td>19</td>\n      <td>22.3</td>\n      <td>21.7</td>\n      <td>24.1</td>\n      <td>26.6</td>\n      <td>27.8</td>\n      <td>30.1</td>\n      <td>30.6</td>\n      <td>33.8</td>\n      <td>33.7</td>\n    </tr>\n    <tr>\n      <th>19</th>\n      <td>00AS</td>\n      <td>Hillingdon</td>\n      <td>27.8</td>\n      <td>32.3</td>\n      <td>29.3</td>\n      <td>30.8</td>\n      <td>28.4</td>\n      <td>37</td>\n      <td>29.5</td>\n      <td>37.8</td>\n      <td>40.5</td>\n      <td>46.5</td>\n      <td>45</td>\n      <td>45.1</td>\n      <td>50.1</td>\n      <td>49.2</td>\n      <td>48.8</td>\n    </tr>\n    <tr>\n      <th>20</th>\n      <td>00AT</td>\n      <td>Hounslow</td>\n      <td>30.4</td>\n      <td>31.6</td>\n      <td>37.2</td>\n      <td>37.3</td>\n      <td>42.2</td>\n      <td>39.8</td>\n      <td>38.5</td>\n      <td>51.9</td>\n      <td>52.3</td>\n      <td>49.3</td>\n      <td>55.2</td>\n      <td>52.3</td>\n      <td>54.1</td>\n      <td>49.5</td>\n      <td>58.4</td>\n    </tr>\n    <tr>\n      <th>21</th>\n      <td>00AU</td>\n      <td>Islington</td>\n      <td>50.4</td>\n      <td>51</td>\n      <td>55.8</td>\n      <td>56.7</td>\n      <td>57.4</td>\n      <td>61.9</td>\n      <td>69.4</td>\n      <td>69.2</td>\n      <td>65.9</td>\n      <td>72.1</td>\n      <td>69.6</td>\n      <td>71.9</td>\n      <td>68.3</td>\n      <td>70.2</td>\n      <td>74</td>\n    </tr>\n    <tr>\n      <th>22</th>\n      <td>00AW</td>\n      <td>Kensington and Chelsea</td>\n      <td>47.9</td>\n      <td>56.2</td>\n      <td>52.8</td>\n      <td>57.5</td>\n      <td>61.1</td>\n      <td>68</td>\n      <td>64.4</td>\n      <td>69.4</td>\n      <td>68.8</td>\n      <td>67.3</td>\n      <td>68.6</td>\n      <td>73.4</td>\n      <td>67.4</td>\n      <td>71.9</td>\n      <td>72.2</td>\n    </tr>\n    <tr>\n      <th>23</th>\n      <td>00AX</td>\n      <td>Kingston upon Thames</td>\n      <td>46.1</td>\n      <td>42.8</td>\n      <td>47.9</td>\n      <td>54</td>\n      <td>57.4</td>\n      <td>50.9</td>\n      <td>59.7</td>\n      <td>54.2</td>\n      <td>55.1</td>\n      <td>58.8</td>\n      <td>61.6</td>\n      <td>59.4</td>\n      <td>61.3</td>\n      <td>61.2</td>\n      <td>66.6</td>\n    </tr>\n    <tr>\n      <th>24</th>\n      <td>00AY</td>\n      <td>Lambeth</td>\n      <td>49</td>\n      <td>48.8</td>\n      <td>51</td>\n      <td>53.8</td>\n      <td>51</td>\n      <td>57</td>\n      <td>62.3</td>\n      <td>66.2</td>\n      <td>63.1</td>\n      <td>68.8</td>\n      <td>68.4</td>\n      <td>72.9</td>\n      <td>71.2</td>\n      <td>73.4</td>\n      <td>68.8</td>\n    </tr>\n    <tr>\n      <th>25</th>\n      <td>00AZ</td>\n      <td>Lewisham</td>\n      <td>38.2</td>\n      <td>36.6</td>\n      <td>36.2</td>\n      <td>40.6</td>\n      <td>46.1</td>\n      <td>45.1</td>\n      <td>55.4</td>\n      <td>57.2</td>\n      <td>63.4</td>\n      <td>59.4</td>\n      <td>58.6</td>\n      <td>58.1</td>\n      <td>56.5</td>\n      <td>57.1</td>\n      <td>64.5</td>\n    </tr>\n    <tr>\n      <th>26</th>\n      <td>00BA</td>\n      <td>Merton</td>\n      <td>39.8</td>\n      <td>47</td>\n      <td>43.3</td>\n      <td>46.9</td>\n      <td>40.1</td>\n      <td>45.2</td>\n      <td>54.8</td>\n      <td>52.6</td>\n      <td>52</td>\n      <td>58</td>\n      <td>57.3</td>\n      <td>61.9</td>\n      <td>66</td>\n      <td>61.7</td>\n      <td>57.2</td>\n    </tr>\n    <tr>\n      <th>27</th>\n      <td>00BB</td>\n      <td>Newham</td>\n      <td>23.3</td>\n      <td>27.4</td>\n      <td>31.2</td>\n      <td>31.7</td>\n      <td>30.8</td>\n      <td>30.5</td>\n      <td>37.1</td>\n      <td>48</td>\n      <td>49.2</td>\n      <td>47.6</td>\n      <td>43.3</td>\n      <td>50</td>\n      <td>55.9</td>\n      <td>47.6</td>\n      <td>56.6</td>\n    </tr>\n    <tr>\n      <th>28</th>\n      <td>00BC</td>\n      <td>Redbridge</td>\n      <td>30.8</td>\n      <td>41</td>\n      <td>41.6</td>\n      <td>43.8</td>\n      <td>43.2</td>\n      <td>39.4</td>\n      <td>41.9</td>\n      <td>43.6</td>\n      <td>49.8</td>\n      <td>53.8</td>\n      <td>52.9</td>\n      <td>51.2</td>\n      <td>55.4</td>\n      <td>53.7</td>\n      <td>53.4</td>\n    </tr>\n    <tr>\n      <th>29</th>\n      <td>00BD</td>\n      <td>Richmond upon Thames</td>\n      <td>51.1</td>\n      <td>53.7</td>\n      <td>58.7</td>\n      <td>59.8</td>\n      <td>60.3</td>\n      <td>60.1</td>\n      <td>59.6</td>\n      <td>62.1</td>\n      <td>66.8</td>\n      <td>70.8</td>\n      <td>72.5</td>\n      <td>75</td>\n      <td>75.9</td>\n      <td>71.3</td>\n      <td>72.9</td>\n    </tr>\n    <tr>\n      <th>30</th>\n      <td>00BE</td>\n      <td>Southwark</td>\n      <td>45.8</td>\n      <td>49.5</td>\n      <td>46</td>\n      <td>52.3</td>\n      <td>54.1</td>\n      <td>54.5</td>\n      <td>57.3</td>\n      <td>64</td>\n      <td>64.2</td>\n      <td>63.3</td>\n      <td>67.6</td>\n      <td>64.3</td>\n      <td>66.4</td>\n      <td>68.7</td>\n      <td>71.2</td>\n    </tr>\n    <tr>\n      <th>31</th>\n      <td>00BF</td>\n      <td>Sutton</td>\n      <td>26.8</td>\n      <td>32</td>\n      <td>34.8</td>\n      <td>33.3</td>\n      <td>31.2</td>\n      <td>41</td>\n      <td>40.6</td>\n      <td>38.6</td>\n      <td>42.2</td>\n      <td>44.1</td>\n      <td>47.2</td>\n      <td>44.8</td>\n      <td>49.3</td>\n      <td>56.6</td>\n      <td>51.8</td>\n    </tr>\n    <tr>\n      <th>32</th>\n      <td>00BG</td>\n      <td>Tower Hamlets</td>\n      <td>38.4</td>\n      <td>37.7</td>\n      <td>39.7</td>\n      <td>41.7</td>\n      <td>47.2</td>\n      <td>46.5</td>\n      <td>52.2</td>\n      <td>58.2</td>\n      <td>62.9</td>\n      <td>57.7</td>\n      <td>53.5</td>\n      <td>54.6</td>\n      <td>60.8</td>\n      <td>61</td>\n      <td>65.1</td>\n    </tr>\n    <tr>\n      <th>33</th>\n      <td>00BH</td>\n      <td>Waltham Forest</td>\n      <td>30.4</td>\n      <td>27.5</td>\n      <td>31.5</td>\n      <td>36.5</td>\n      <td>36.9</td>\n      <td>32.3</td>\n      <td>37.1</td>\n      <td>44.8</td>\n      <td>47.1</td>\n      <td>50.1</td>\n      <td>51.8</td>\n      <td>50.6</td>\n      <td>52.4</td>\n      <td>49.6</td>\n      <td>55.1</td>\n    </tr>\n    <tr>\n      <th>34</th>\n      <td>00BJ</td>\n      <td>Wandsworth</td>\n      <td>55.7</td>\n      <td>51.4</td>\n      <td>59.6</td>\n      <td>63.2</td>\n      <td>61.7</td>\n      <td>65</td>\n      <td>70</td>\n      <td>71.2</td>\n      <td>73.6</td>\n      <td>71.3</td>\n      <td>77.4</td>\n      <td>71.6</td>\n      <td>76.8</td>\n      <td>76.9</td>\n      <td>76</td>\n    </tr>\n    <tr>\n      <th>35</th>\n      <td>00BK</td>\n      <td>Westminster</td>\n      <td>45.6</td>\n      <td>51.6</td>\n      <td>56.1</td>\n      <td>62.7</td>\n      <td>58.7</td>\n      <td>65</td>\n      <td>68.1</td>\n      <td>69.4</td>\n      <td>72.6</td>\n      <td>71.7</td>\n      <td>76</td>\n      <td>71.2</td>\n      <td>70.6</td>\n      <td>72.5</td>\n      <td>78</td>\n    </tr>\n    <tr>\n      <th>36</th>\n      <td>None</td>\n      <td>None</td>\n      <td>None</td>\n      <td>None</td>\n      <td>None</td>\n      <td>None</td>\n      <td>None</td>\n      <td>None</td>\n      <td>None</td>\n      <td>None</td>\n      <td>None</td>\n      <td>None</td>\n      <td>None</td>\n      <td>None</td>\n      <td>None</td>\n      <td>None</td>\n      <td>None</td>\n    </tr>\n    <tr>\n      <th>37</th>\n      <td>A</td>\n      <td>North East</td>\n      <td>25.9</td>\n      <td>25.3</td>\n      <td>26.7</td>\n      <td>28.3</td>\n      <td>27.7</td>\n      <td>28.5</td>\n      <td>30.3</td>\n      <td>30.7</td>\n      <td>31</td>\n      <td>32.2</td>\n      <td>32.6</td>\n      <td>34.9</td>\n      <td>36</td>\n      <td>36.6</td>\n      <td>36</td>\n    </tr>\n    <tr>\n      <th>38</th>\n      <td>B</td>\n      <td>North West</td>\n      <td>27.1</td>\n      <td>28.4</td>\n      <td>28.7</td>\n      <td>29.5</td>\n      <td>29.6</td>\n      <td>31.7</td>\n      <td>33.5</td>\n      <td>33</td>\n      <td>34.8</td>\n      <td>35.6</td>\n      <td>35.7</td>\n      <td>37.2</td>\n      <td>39</td>\n      <td>39.1</td>\n      <td>40.3</td>\n    </tr>\n    <tr>\n      <th>39</th>\n      <td>D</td>\n      <td>Yorkshire and The Humber</td>\n      <td>26.2</td>\n      <td>25.5</td>\n      <td>25.9</td>\n      <td>27.5</td>\n      <td>28.5</td>\n      <td>30.2</td>\n      <td>30.7</td>\n      <td>31.1</td>\n      <td>33.7</td>\n      <td>33.7</td>\n      <td>33.9</td>\n      <td>34.8</td>\n      <td>35.5</td>\n      <td>36.8</td>\n      <td>37.5</td>\n    </tr>\n    <tr>\n      <th>40</th>\n      <td>E</td>\n      <td>East Midlands</td>\n      <td>26.2</td>\n      <td>26.5</td>\n      <td>27.9</td>\n      <td>28.5</td>\n      <td>28.1</td>\n      <td>29.2</td>\n      <td>30.9</td>\n      <td>31.7</td>\n      <td>32</td>\n      <td>33.4</td>\n      <td>34.2</td>\n      <td>35.8</td>\n      <td>35.2</td>\n      <td>35.9</td>\n      <td>37.3</td>\n    </tr>\n    <tr>\n      <th>41</th>\n      <td>F</td>\n      <td>West Midlands</td>\n      <td>26</td>\n      <td>26.2</td>\n      <td>27.3</td>\n      <td>28.5</td>\n      <td>28.1</td>\n      <td>28.9</td>\n      <td>30.4</td>\n      <td>30.2</td>\n      <td>32.2</td>\n      <td>32.7</td>\n      <td>33.8</td>\n      <td>35.7</td>\n      <td>35.8</td>\n      <td>35.5</td>\n      <td>37</td>\n    </tr>\n    <tr>\n      <th>42</th>\n      <td>G</td>\n      <td>East</td>\n      <td>27.1</td>\n      <td>27.7</td>\n      <td>27.4</td>\n      <td>28.6</td>\n      <td>28.3</td>\n      <td>29.7</td>\n      <td>32</td>\n      <td>32.1</td>\n      <td>35.9</td>\n      <td>36.2</td>\n      <td>36.1</td>\n      <td>37</td>\n      <td>38.5</td>\n      <td>37.9</td>\n      <td>38.6</td>\n    </tr>\n    <tr>\n      <th>43</th>\n      <td>H</td>\n      <td>London</td>\n      <td>38</td>\n      <td>40.1</td>\n      <td>41.6</td>\n      <td>43.5</td>\n      <td>44.5</td>\n      <td>46.1</td>\n      <td>48.4</td>\n      <td>52.4</td>\n      <td>54</td>\n      <td>55.5</td>\n      <td>56</td>\n      <td>56.5</td>\n      <td>58.6</td>\n      <td>58.1</td>\n      <td>60</td>\n    </tr>\n    <tr>\n      <th>44</th>\n      <td>J</td>\n      <td>South East</td>\n      <td>31.7</td>\n      <td>32</td>\n      <td>33</td>\n      <td>33.6</td>\n      <td>34.2</td>\n      <td>35.9</td>\n      <td>37.3</td>\n      <td>39.4</td>\n      <td>40</td>\n      <td>41.7</td>\n      <td>42.7</td>\n      <td>43.1</td>\n      <td>44.9</td>\n      <td>44.2</td>\n      <td>45.5</td>\n    </tr>\n    <tr>\n      <th>45</th>\n      <td>K</td>\n      <td>South West</td>\n      <td>28.5</td>\n      <td>28.8</td>\n      <td>29.9</td>\n      <td>31.9</td>\n      <td>30.7</td>\n      <td>31.9</td>\n      <td>35</td>\n      <td>36.3</td>\n      <td>37.3</td>\n      <td>37.1</td>\n      <td>39.4</td>\n      <td>40.6</td>\n      <td>41.2</td>\n      <td>42.3</td>\n      <td>41.9</td>\n    </tr>\n    <tr>\n      <th>46</th>\n      <td>None</td>\n      <td>None</td>\n      <td>None</td>\n      <td>None</td>\n      <td>None</td>\n      <td>None</td>\n      <td>None</td>\n      <td>None</td>\n      <td>None</td>\n      <td>None</td>\n      <td>None</td>\n      <td>None</td>\n      <td>None</td>\n      <td>None</td>\n      <td>None</td>\n      <td>None</td>\n      <td>None</td>\n    </tr>\n    <tr>\n      <th>47</th>\n      <td>921</td>\n      <td>England</td>\n      <td>29.3</td>\n      <td>29.9</td>\n      <td>30.8</td>\n      <td>32</td>\n      <td>32.2</td>\n      <td>33.7</td>\n      <td>35.5</td>\n      <td>36.7</td>\n      <td>38.4</td>\n      <td>39.3</td>\n      <td>40</td>\n      <td>41.2</td>\n      <td>42.4</td>\n      <td>42.5</td>\n      <td>43.5</td>\n    </tr>\n    <tr>\n      <th>48</th>\n      <td>924</td>\n      <td>Wales</td>\n      <td>27.8</td>\n      <td>28.2</td>\n      <td>28.5</td>\n      <td>29.8</td>\n      <td>30.9</td>\n      <td>32.4</td>\n      <td>34.1</td>\n      <td>34.3</td>\n      <td>35.1</td>\n      <td>35.8</td>\n      <td>37.8</td>\n      <td>38.7</td>\n      <td>40.1</td>\n      <td>39.9</td>\n      <td>39.9</td>\n    </tr>\n    <tr>\n      <th>49</th>\n      <td>923</td>\n      <td>Scotland</td>\n      <td>34.1</td>\n      <td>34.3</td>\n      <td>35.7</td>\n      <td>36.8</td>\n      <td>37.3</td>\n      <td>38.2</td>\n      <td>39.3</td>\n      <td>41.2</td>\n      <td>42.6</td>\n      <td>43.4</td>\n      <td>45.6</td>\n      <td>47.2</td>\n      <td>48.4</td>\n      <td>48</td>\n      <td>48.3</td>\n    </tr>\n    <tr>\n      <th>50</th>\n      <td>922</td>\n      <td>Northern Ireland</td>\n      <td>28.6</td>\n      <td>28.2</td>\n      <td>28.6</td>\n      <td>29.9</td>\n      <td>32</td>\n      <td>31.7</td>\n      <td>33.1</td>\n      <td>31.9</td>\n      <td>33.6</td>\n      <td>34</td>\n      <td>35.7</td>\n      <td>35.8</td>\n      <td>36.2</td>\n      <td>38.9</td>\n      <td>41.9</td>\n    </tr>\n    <tr>\n      <th>51</th>\n      <td>None</td>\n      <td>None</td>\n      <td>None</td>\n      <td>None</td>\n      <td>None</td>\n      <td>None</td>\n      <td>None</td>\n      <td>None</td>\n      <td>None</td>\n      <td>None</td>\n      <td>None</td>\n      <td>None</td>\n      <td>None</td>\n      <td>None</td>\n      <td>None</td>\n      <td>None</td>\n      <td>None</td>\n    </tr>\n    <tr>\n      <th>52</th>\n      <td>941</td>\n      <td>England and Wales</td>\n      <td>29.2</td>\n      <td>29.8</td>\n      <td>30.7</td>\n      <td>31.9</td>\n      <td>32.1</td>\n      <td>33.6</td>\n      <td>35.4</td>\n      <td>36.6</td>\n      <td>38.2</td>\n      <td>39.1</td>\n      <td>39.9</td>\n      <td>41</td>\n      <td>42.3</td>\n      <td>42.3</td>\n      <td>43.3</td>\n    </tr>\n    <tr>\n      <th>53</th>\n      <td>925</td>\n      <td>Great Britain</td>\n      <td>29.7</td>\n      <td>30.2</td>\n      <td>31.1</td>\n      <td>32.4</td>\n      <td>32.6</td>\n      <td>34</td>\n      <td>35.8</td>\n      <td>37</td>\n      <td>38.6</td>\n      <td>39.5</td>\n      <td>40.4</td>\n      <td>41.6</td>\n      <td>42.8</td>\n      <td>42.8</td>\n      <td>43.7</td>\n    </tr>\n    <tr>\n      <th>54</th>\n      <td>926</td>\n      <td>United Kingdom</td>\n      <td>29.6</td>\n      <td>30.1</td>\n      <td>31</td>\n      <td>32.3</td>\n      <td>32.5</td>\n      <td>33.9</td>\n      <td>35.7</td>\n      <td>36.9</td>\n      <td>38.5</td>\n      <td>39.3</td>\n      <td>40.3</td>\n      <td>41.4</td>\n      <td>42.6</td>\n      <td>42.7</td>\n      <td>43.7</td>\n    </tr>\n  </tbody>\n</table>\n</div>",
            "text/plain": "    Code                      Area        4        4        4        4  \\\n0    NaN                       NaN     None     None     None     None   \n1    NaN                       NaN  percent  percent  percent  percent   \n2    NaN                       NaN     None     None     None     None   \n3   00AA            City of London     80.6     73.1     67.9     73.7   \n4   00AB      Barking and Dagenham     17.2     20.2     18.5     22.4   \n5   00AC                    Barnet     41.6     46.9     42.3     47.6   \n6   00AD                    Bexley     17.3     21.8     24.2     23.1   \n7   00AE                     Brent     31.7     35.8       35     31.3   \n8   00AF                   Bromley     38.4     33.6     39.1       39   \n9   00AG                    Camden     55.7       60     60.1     59.1   \n10  00AH                   Croydon     31.1     32.6     33.6     34.8   \n11  00AJ                    Ealing     44.5       44     39.9       45   \n12  00AK                   Enfield     26.6     34.2     39.9     35.7   \n13  00AL                 Greenwich     32.9     31.8     38.9     35.2   \n14  00AM                   Hackney     42.7     41.7     44.6     47.8   \n15  00AN    Hammersmith and Fulham     55.5       57       59     58.2   \n16  00AP                  Haringey       45     45.5     47.9     50.6   \n17  00AQ                    Harrow     37.5     37.2     37.3     38.4   \n18  00AR                  Havering     13.7     20.4     20.4     20.5   \n19  00AS                Hillingdon     27.8     32.3     29.3     30.8   \n20  00AT                  Hounslow     30.4     31.6     37.2     37.3   \n21  00AU                 Islington     50.4       51     55.8     56.7   \n22  00AW    Kensington and Chelsea     47.9     56.2     52.8     57.5   \n23  00AX      Kingston upon Thames     46.1     42.8     47.9       54   \n24  00AY                   Lambeth       49     48.8       51     53.8   \n25  00AZ                  Lewisham     38.2     36.6     36.2     40.6   \n26  00BA                    Merton     39.8       47     43.3     46.9   \n27  00BB                    Newham     23.3     27.4     31.2     31.7   \n28  00BC                 Redbridge     30.8       41     41.6     43.8   \n29  00BD      Richmond upon Thames     51.1     53.7     58.7     59.8   \n30  00BE                 Southwark     45.8     49.5       46     52.3   \n31  00BF                    Sutton     26.8       32     34.8     33.3   \n32  00BG             Tower Hamlets     38.4     37.7     39.7     41.7   \n33  00BH            Waltham Forest     30.4     27.5     31.5     36.5   \n34  00BJ                Wandsworth     55.7     51.4     59.6     63.2   \n35  00BK               Westminster     45.6     51.6     56.1     62.7   \n36  None                      None     None     None     None     None   \n37     A                North East     25.9     25.3     26.7     28.3   \n38     B                North West     27.1     28.4     28.7     29.5   \n39     D  Yorkshire and The Humber     26.2     25.5     25.9     27.5   \n40     E             East Midlands     26.2     26.5     27.9     28.5   \n41     F             West Midlands       26     26.2     27.3     28.5   \n42     G                      East     27.1     27.7     27.4     28.6   \n43     H                    London       38     40.1     41.6     43.5   \n44     J                South East     31.7       32       33     33.6   \n45     K                South West     28.5     28.8     29.9     31.9   \n46  None                      None     None     None     None     None   \n47   921                   England     29.3     29.9     30.8       32   \n48   924                     Wales     27.8     28.2     28.5     29.8   \n49   923                  Scotland     34.1     34.3     35.7     36.8   \n50   922          Northern Ireland     28.6     28.2     28.6     29.9   \n51  None                      None     None     None     None     None   \n52   941         England and Wales     29.2     29.8     30.7     31.9   \n53   925             Great Britain     29.7     30.2     31.1     32.4   \n54   926            United Kingdom     29.6     30.1       31     32.3   \n\n          4        4        4        4        4        4        4        4  \\\n0      None     None     None     None     None     None     None     None   \n1   percent  percent  percent  percent  percent  percent  percent  percent   \n2      None     None     None     None     None     None     None     None   \n3      69.4      100        !        !      100      100        !      100   \n4        26     29.1     33.8     33.2     29.8     32.3     34.8     35.9   \n5      48.6     49.5     53.2     57.3     53.9     56.8     49.9     55.4   \n6      28.1     31.5     30.5     29.6     31.9     35.3     37.4     38.3   \n7      31.4       41       31     33.8     46.8     50.8     53.9     53.4   \n8      36.4     39.3       41     47.1     49.7     51.9       50     51.5   \n9      59.8     62.6     63.5     69.4     69.6     69.8     72.4     73.5   \n10     36.3     35.7     45.1     43.1     44.3     47.8     45.6     45.8   \n11     49.3     43.6     46.7     54.7     52.9     51.9     54.2       57   \n12     38.1     43.7     43.9       44     42.4     44.3     48.1     50.5   \n13     42.4     43.1     42.2     49.2     47.5     52.6     48.3     48.7   \n14     56.1     55.9     49.8     56.6     60.3     58.6       60     59.4   \n15     58.1     53.2     59.9     66.7     67.8     70.6       72     73.4   \n16     52.5     52.7     51.2       60     62.4     61.9     55.6     56.6   \n17     34.8     37.9     39.9     49.3     52.7     52.2     58.2     53.3   \n18       23       19     22.3     21.7     24.1     26.6     27.8     30.1   \n19     28.4       37     29.5     37.8     40.5     46.5       45     45.1   \n20     42.2     39.8     38.5     51.9     52.3     49.3     55.2     52.3   \n21     57.4     61.9     69.4     69.2     65.9     72.1     69.6     71.9   \n22     61.1       68     64.4     69.4     68.8     67.3     68.6     73.4   \n23     57.4     50.9     59.7     54.2     55.1     58.8     61.6     59.4   \n24       51       57     62.3     66.2     63.1     68.8     68.4     72.9   \n25     46.1     45.1     55.4     57.2     63.4     59.4     58.6     58.1   \n26     40.1     45.2     54.8     52.6       52       58     57.3     61.9   \n27     30.8     30.5     37.1       48     49.2     47.6     43.3       50   \n28     43.2     39.4     41.9     43.6     49.8     53.8     52.9     51.2   \n29     60.3     60.1     59.6     62.1     66.8     70.8     72.5       75   \n30     54.1     54.5     57.3       64     64.2     63.3     67.6     64.3   \n31     31.2       41     40.6     38.6     42.2     44.1     47.2     44.8   \n32     47.2     46.5     52.2     58.2     62.9     57.7     53.5     54.6   \n33     36.9     32.3     37.1     44.8     47.1     50.1     51.8     50.6   \n34     61.7       65       70     71.2     73.6     71.3     77.4     71.6   \n35     58.7       65     68.1     69.4     72.6     71.7       76     71.2   \n36     None     None     None     None     None     None     None     None   \n37     27.7     28.5     30.3     30.7       31     32.2     32.6     34.9   \n38     29.6     31.7     33.5       33     34.8     35.6     35.7     37.2   \n39     28.5     30.2     30.7     31.1     33.7     33.7     33.9     34.8   \n40     28.1     29.2     30.9     31.7       32     33.4     34.2     35.8   \n41     28.1     28.9     30.4     30.2     32.2     32.7     33.8     35.7   \n42     28.3     29.7       32     32.1     35.9     36.2     36.1       37   \n43     44.5     46.1     48.4     52.4       54     55.5       56     56.5   \n44     34.2     35.9     37.3     39.4       40     41.7     42.7     43.1   \n45     30.7     31.9       35     36.3     37.3     37.1     39.4     40.6   \n46     None     None     None     None     None     None     None     None   \n47     32.2     33.7     35.5     36.7     38.4     39.3       40     41.2   \n48     30.9     32.4     34.1     34.3     35.1     35.8     37.8     38.7   \n49     37.3     38.2     39.3     41.2     42.6     43.4     45.6     47.2   \n50       32     31.7     33.1     31.9     33.6       34     35.7     35.8   \n51     None     None     None     None     None     None     None     None   \n52     32.1     33.6     35.4     36.6     38.2     39.1     39.9       41   \n53     32.6       34     35.8       37     38.6     39.5     40.4     41.6   \n54     32.5     33.9     35.7     36.9     38.5     39.3     40.3     41.4   \n\n          4        4        4  \n0      None     None     None  \n1   percent  percent  percent  \n2      None     None     None  \n3      83.3     91.1      100  \n4      37.5       35     39.2  \n5      65.2     62.2     61.5  \n6      40.8     39.9     45.2  \n7      52.1     45.4     47.5  \n8      54.2     50.1     53.5  \n9      72.2     71.2     74.5  \n10     52.8       51     54.3  \n11     61.2     56.9       58  \n12     48.5     43.1     49.4  \n13     50.6     61.1     60.6  \n14     65.3       71     63.9  \n15     66.4     71.6     69.2  \n16     59.1     59.9     63.6  \n17     49.9     52.2     52.5  \n18     30.6     33.8     33.7  \n19     50.1     49.2     48.8  \n20     54.1     49.5     58.4  \n21     68.3     70.2       74  \n22     67.4     71.9     72.2  \n23     61.3     61.2     66.6  \n24     71.2     73.4     68.8  \n25     56.5     57.1     64.5  \n26       66     61.7     57.2  \n27     55.9     47.6     56.6  \n28     55.4     53.7     53.4  \n29     75.9     71.3     72.9  \n30     66.4     68.7     71.2  \n31     49.3     56.6     51.8  \n32     60.8       61     65.1  \n33     52.4     49.6     55.1  \n34     76.8     76.9       76  \n35     70.6     72.5       78  \n36     None     None     None  \n37       36     36.6       36  \n38       39     39.1     40.3  \n39     35.5     36.8     37.5  \n40     35.2     35.9     37.3  \n41     35.8     35.5       37  \n42     38.5     37.9     38.6  \n43     58.6     58.1       60  \n44     44.9     44.2     45.5  \n45     41.2     42.3     41.9  \n46     None     None     None  \n47     42.4     42.5     43.5  \n48     40.1     39.9     39.9  \n49     48.4       48     48.3  \n50     36.2     38.9     41.9  \n51     None     None     None  \n52     42.3     42.3     43.3  \n53     42.8     42.8     43.7  \n54     42.6     42.7     43.7  "
          },
          "metadata": {}
        }
      ]
    },
    {
      "metadata": {
        "trusted": true
      },
      "cell_type": "code",
      "source": "df.columns = ['Code', 'Area', '2004', '2005', '2006', '2007', '2008', '2009', '2010', '2011', '2012', '2013', '2014', '2015', '2016', '2017', '2018']",
      "execution_count": 247,
      "outputs": []
    },
    {
      "metadata": {
        "trusted": true,
        "scrolled": true
      },
      "cell_type": "code",
      "source": "df.head()",
      "execution_count": 248,
      "outputs": [
        {
          "output_type": "execute_result",
          "execution_count": 248,
          "data": {
            "text/html": "<div>\n<style scoped>\n    .dataframe tbody tr th:only-of-type {\n        vertical-align: middle;\n    }\n\n    .dataframe tbody tr th {\n        vertical-align: top;\n    }\n\n    .dataframe thead th {\n        text-align: right;\n    }\n</style>\n<table border=\"1\" class=\"dataframe\">\n  <thead>\n    <tr style=\"text-align: right;\">\n      <th></th>\n      <th>Code</th>\n      <th>Area</th>\n      <th>2004</th>\n      <th>2005</th>\n      <th>2006</th>\n      <th>2007</th>\n      <th>2008</th>\n      <th>2009</th>\n      <th>2010</th>\n      <th>2011</th>\n      <th>2012</th>\n      <th>2013</th>\n      <th>2014</th>\n      <th>2015</th>\n      <th>2016</th>\n      <th>2017</th>\n      <th>2018</th>\n    </tr>\n  </thead>\n  <tbody>\n    <tr>\n      <th>0</th>\n      <td>NaN</td>\n      <td>NaN</td>\n      <td>None</td>\n      <td>None</td>\n      <td>None</td>\n      <td>None</td>\n      <td>None</td>\n      <td>None</td>\n      <td>None</td>\n      <td>None</td>\n      <td>None</td>\n      <td>None</td>\n      <td>None</td>\n      <td>None</td>\n      <td>None</td>\n      <td>None</td>\n      <td>None</td>\n    </tr>\n    <tr>\n      <th>1</th>\n      <td>NaN</td>\n      <td>NaN</td>\n      <td>percent</td>\n      <td>percent</td>\n      <td>percent</td>\n      <td>percent</td>\n      <td>percent</td>\n      <td>percent</td>\n      <td>percent</td>\n      <td>percent</td>\n      <td>percent</td>\n      <td>percent</td>\n      <td>percent</td>\n      <td>percent</td>\n      <td>percent</td>\n      <td>percent</td>\n      <td>percent</td>\n    </tr>\n    <tr>\n      <th>2</th>\n      <td>NaN</td>\n      <td>NaN</td>\n      <td>None</td>\n      <td>None</td>\n      <td>None</td>\n      <td>None</td>\n      <td>None</td>\n      <td>None</td>\n      <td>None</td>\n      <td>None</td>\n      <td>None</td>\n      <td>None</td>\n      <td>None</td>\n      <td>None</td>\n      <td>None</td>\n      <td>None</td>\n      <td>None</td>\n    </tr>\n    <tr>\n      <th>3</th>\n      <td>00AA</td>\n      <td>City of London</td>\n      <td>80.6</td>\n      <td>73.1</td>\n      <td>67.9</td>\n      <td>73.7</td>\n      <td>69.4</td>\n      <td>100</td>\n      <td>!</td>\n      <td>!</td>\n      <td>100</td>\n      <td>100</td>\n      <td>!</td>\n      <td>100</td>\n      <td>83.3</td>\n      <td>91.1</td>\n      <td>100</td>\n    </tr>\n    <tr>\n      <th>4</th>\n      <td>00AB</td>\n      <td>Barking and Dagenham</td>\n      <td>17.2</td>\n      <td>20.2</td>\n      <td>18.5</td>\n      <td>22.4</td>\n      <td>26</td>\n      <td>29.1</td>\n      <td>33.8</td>\n      <td>33.2</td>\n      <td>29.8</td>\n      <td>32.3</td>\n      <td>34.8</td>\n      <td>35.9</td>\n      <td>37.5</td>\n      <td>35</td>\n      <td>39.2</td>\n    </tr>\n  </tbody>\n</table>\n</div>",
            "text/plain": "   Code                  Area     2004     2005     2006     2007     2008  \\\n0   NaN                   NaN     None     None     None     None     None   \n1   NaN                   NaN  percent  percent  percent  percent  percent   \n2   NaN                   NaN     None     None     None     None     None   \n3  00AA        City of London     80.6     73.1     67.9     73.7     69.4   \n4  00AB  Barking and Dagenham     17.2     20.2     18.5     22.4       26   \n\n      2009     2010     2011     2012     2013     2014     2015     2016  \\\n0     None     None     None     None     None     None     None     None   \n1  percent  percent  percent  percent  percent  percent  percent  percent   \n2     None     None     None     None     None     None     None     None   \n3      100        !        !      100      100        !      100     83.3   \n4     29.1     33.8     33.2     29.8     32.3     34.8     35.9     37.5   \n\n      2017     2018  \n0     None     None  \n1  percent  percent  \n2     None     None  \n3     91.1      100  \n4       35     39.2  "
          },
          "metadata": {}
        }
      ]
    },
    {
      "metadata": {
        "trusted": true
      },
      "cell_type": "code",
      "source": "df.replace('!', 0, inplace=True)",
      "execution_count": 249,
      "outputs": []
    },
    {
      "metadata": {
        "trusted": true
      },
      "cell_type": "code",
      "source": "df.drop(0, axis=0, inplace=True)\ndf.drop(1, axis=0, inplace=True)\ndf.drop(2, axis=0, inplace=True)\ndf.head()",
      "execution_count": 250,
      "outputs": [
        {
          "output_type": "execute_result",
          "execution_count": 250,
          "data": {
            "text/html": "<div>\n<style scoped>\n    .dataframe tbody tr th:only-of-type {\n        vertical-align: middle;\n    }\n\n    .dataframe tbody tr th {\n        vertical-align: top;\n    }\n\n    .dataframe thead th {\n        text-align: right;\n    }\n</style>\n<table border=\"1\" class=\"dataframe\">\n  <thead>\n    <tr style=\"text-align: right;\">\n      <th></th>\n      <th>Code</th>\n      <th>Area</th>\n      <th>2004</th>\n      <th>2005</th>\n      <th>2006</th>\n      <th>2007</th>\n      <th>2008</th>\n      <th>2009</th>\n      <th>2010</th>\n      <th>2011</th>\n      <th>2012</th>\n      <th>2013</th>\n      <th>2014</th>\n      <th>2015</th>\n      <th>2016</th>\n      <th>2017</th>\n      <th>2018</th>\n    </tr>\n  </thead>\n  <tbody>\n    <tr>\n      <th>3</th>\n      <td>00AA</td>\n      <td>City of London</td>\n      <td>80.6</td>\n      <td>73.1</td>\n      <td>67.9</td>\n      <td>73.7</td>\n      <td>69.4</td>\n      <td>100</td>\n      <td>0</td>\n      <td>0</td>\n      <td>100</td>\n      <td>100</td>\n      <td>0</td>\n      <td>100</td>\n      <td>83.3</td>\n      <td>91.1</td>\n      <td>100</td>\n    </tr>\n    <tr>\n      <th>4</th>\n      <td>00AB</td>\n      <td>Barking and Dagenham</td>\n      <td>17.2</td>\n      <td>20.2</td>\n      <td>18.5</td>\n      <td>22.4</td>\n      <td>26</td>\n      <td>29.1</td>\n      <td>33.8</td>\n      <td>33.2</td>\n      <td>29.8</td>\n      <td>32.3</td>\n      <td>34.8</td>\n      <td>35.9</td>\n      <td>37.5</td>\n      <td>35</td>\n      <td>39.2</td>\n    </tr>\n    <tr>\n      <th>5</th>\n      <td>00AC</td>\n      <td>Barnet</td>\n      <td>41.6</td>\n      <td>46.9</td>\n      <td>42.3</td>\n      <td>47.6</td>\n      <td>48.6</td>\n      <td>49.5</td>\n      <td>53.2</td>\n      <td>57.3</td>\n      <td>53.9</td>\n      <td>56.8</td>\n      <td>49.9</td>\n      <td>55.4</td>\n      <td>65.2</td>\n      <td>62.2</td>\n      <td>61.5</td>\n    </tr>\n    <tr>\n      <th>6</th>\n      <td>00AD</td>\n      <td>Bexley</td>\n      <td>17.3</td>\n      <td>21.8</td>\n      <td>24.2</td>\n      <td>23.1</td>\n      <td>28.1</td>\n      <td>31.5</td>\n      <td>30.5</td>\n      <td>29.6</td>\n      <td>31.9</td>\n      <td>35.3</td>\n      <td>37.4</td>\n      <td>38.3</td>\n      <td>40.8</td>\n      <td>39.9</td>\n      <td>45.2</td>\n    </tr>\n    <tr>\n      <th>7</th>\n      <td>00AE</td>\n      <td>Brent</td>\n      <td>31.7</td>\n      <td>35.8</td>\n      <td>35</td>\n      <td>31.3</td>\n      <td>31.4</td>\n      <td>41</td>\n      <td>31</td>\n      <td>33.8</td>\n      <td>46.8</td>\n      <td>50.8</td>\n      <td>53.9</td>\n      <td>53.4</td>\n      <td>52.1</td>\n      <td>45.4</td>\n      <td>47.5</td>\n    </tr>\n  </tbody>\n</table>\n</div>",
            "text/plain": "   Code                  Area  2004  2005  2006  2007  2008  2009  2010  2011  \\\n3  00AA        City of London  80.6  73.1  67.9  73.7  69.4   100     0     0   \n4  00AB  Barking and Dagenham  17.2  20.2  18.5  22.4    26  29.1  33.8  33.2   \n5  00AC                Barnet  41.6  46.9  42.3  47.6  48.6  49.5  53.2  57.3   \n6  00AD                Bexley  17.3  21.8  24.2  23.1  28.1  31.5  30.5  29.6   \n7  00AE                 Brent  31.7  35.8    35  31.3  31.4    41    31  33.8   \n\n   2012  2013  2014  2015  2016  2017  2018  \n3   100   100     0   100  83.3  91.1   100  \n4  29.8  32.3  34.8  35.9  37.5    35  39.2  \n5  53.9  56.8  49.9  55.4  65.2  62.2  61.5  \n6  31.9  35.3  37.4  38.3  40.8  39.9  45.2  \n7  46.8  50.8  53.9  53.4  52.1  45.4  47.5  "
          },
          "metadata": {}
        }
      ]
    },
    {
      "metadata": {
        "trusted": true
      },
      "cell_type": "code",
      "source": "PROC_DATA_PATH = '~/library/data/processed/'\ndf.to_csv(PROC_DATA_PATH + 'nvq4+-qualifications-overtime.csv') ",
      "execution_count": 251,
      "outputs": []
    },
    {
      "metadata": {},
      "cell_type": "markdown",
      "source": "### NVQ3 over time"
    },
    {
      "metadata": {
        "trusted": true
      },
      "cell_type": "code",
      "source": "ws2 = wb2[\"2004\"]\ndf04 = pd.DataFrame(ws2.values)\nnq04 = df04[16]",
      "execution_count": 8,
      "outputs": []
    },
    {
      "metadata": {
        "trusted": true
      },
      "cell_type": "code",
      "source": "ws2 = wb2[\"2005\"]\ndf05 = pd.DataFrame(ws2.values)\nnq05 = df05[16]",
      "execution_count": 9,
      "outputs": []
    },
    {
      "metadata": {
        "trusted": true
      },
      "cell_type": "code",
      "source": "ws2 = wb2[\"2006\"]\ndf06 = pd.DataFrame(ws2.values)\nnq06 = df06[16]",
      "execution_count": 10,
      "outputs": []
    },
    {
      "metadata": {
        "trusted": true
      },
      "cell_type": "code",
      "source": "ws2 = wb2[\"2007\"]\ndf07 = pd.DataFrame(ws2.values)\nnq07 = df07[16]",
      "execution_count": 11,
      "outputs": []
    },
    {
      "metadata": {
        "trusted": true
      },
      "cell_type": "code",
      "source": "ws2 = wb2[\"2008\"]\ndf08 = pd.DataFrame(ws2.values)\nnq08 = df08[16]",
      "execution_count": 12,
      "outputs": []
    },
    {
      "metadata": {
        "trusted": true
      },
      "cell_type": "code",
      "source": "ws2 = wb2[\"2009\"]\ndf09 = pd.DataFrame(ws2.values)\nnq09 = df09[16]",
      "execution_count": 13,
      "outputs": []
    },
    {
      "metadata": {
        "trusted": true
      },
      "cell_type": "code",
      "source": "ws2 = wb2[\"2010\"]\ndf10 = pd.DataFrame(ws2.values)\nnq10 = df10[16]",
      "execution_count": 14,
      "outputs": []
    },
    {
      "metadata": {
        "trusted": true
      },
      "cell_type": "code",
      "source": "ws2 = wb2[\"2011\"]\ndf11 = pd.DataFrame(ws2.values)\nnq11 = df11[16]",
      "execution_count": 15,
      "outputs": []
    },
    {
      "metadata": {
        "trusted": true
      },
      "cell_type": "code",
      "source": "ws2 = wb2[\"2012\"]\ndf12 = pd.DataFrame(ws2.values)\nnq12 = df12[16]",
      "execution_count": 16,
      "outputs": []
    },
    {
      "metadata": {
        "trusted": true
      },
      "cell_type": "code",
      "source": "ws2 = wb2[\"2013\"]\ndf13 = pd.DataFrame(ws2.values)\nnq13 = df13[16]",
      "execution_count": 17,
      "outputs": []
    },
    {
      "metadata": {
        "trusted": true
      },
      "cell_type": "code",
      "source": "ws2 = wb2[\"2014\"]\ndf14 = pd.DataFrame(ws2.values)\nnq14 = df14[16]",
      "execution_count": 18,
      "outputs": []
    },
    {
      "metadata": {
        "trusted": true
      },
      "cell_type": "code",
      "source": "ws2 = wb2[\"2015\"]\ndf15 = pd.DataFrame(ws2.values)\nnq15 = df15[16]",
      "execution_count": 19,
      "outputs": []
    },
    {
      "metadata": {
        "trusted": true
      },
      "cell_type": "code",
      "source": "ws2 = wb2[\"2016\"]\ndf16 = pd.DataFrame(ws2.values)\nnq16 = df16[16]",
      "execution_count": 20,
      "outputs": []
    },
    {
      "metadata": {
        "trusted": true
      },
      "cell_type": "code",
      "source": "ws2 = wb2[\"2017\"]\ndf17 = pd.DataFrame(ws2.values)\nnq17 = df17[16]",
      "execution_count": 21,
      "outputs": []
    },
    {
      "metadata": {
        "trusted": true
      },
      "cell_type": "code",
      "source": "ws2 = wb2[\"2018\"]\ndf18 = pd.DataFrame(ws2.values)\nnq18 = df18[16]",
      "execution_count": 22,
      "outputs": []
    },
    {
      "metadata": {
        "trusted": true
      },
      "cell_type": "code",
      "source": "df = df18",
      "execution_count": 27,
      "outputs": []
    },
    {
      "metadata": {
        "trusted": true
      },
      "cell_type": "code",
      "source": "#using only the borough key of df\nbulk = df.iloc[::, 2:]",
      "execution_count": 28,
      "outputs": []
    },
    {
      "metadata": {
        "trusted": true
      },
      "cell_type": "code",
      "source": "df.drop(bulk, axis=1, inplace=True)",
      "execution_count": 29,
      "outputs": []
    },
    {
      "metadata": {
        "trusted": true
      },
      "cell_type": "code",
      "source": "df = pd.concat([df, nq04], axis=1)\ndf = pd.concat([df, nq05], axis=1)\ndf = pd.concat([df, nq06], axis=1)\ndf = pd.concat([df, nq07], axis=1)\ndf = pd.concat([df, nq08], axis=1)\ndf = pd.concat([df, nq09], axis=1)\ndf = pd.concat([df, nq10], axis=1)\ndf = pd.concat([df, nq11], axis=1)\ndf = pd.concat([df, nq12], axis=1)\ndf = pd.concat([df, nq13], axis=1)\ndf = pd.concat([df, nq14], axis=1)\ndf = pd.concat([df, nq15], axis=1)\ndf = pd.concat([df, nq16], axis=1)\ndf = pd.concat([df, nq17], axis=1)\ndf = pd.concat([df, nq18], axis=1)\ndf",
      "execution_count": 30,
      "outputs": [
        {
          "output_type": "execute_result",
          "execution_count": 30,
          "data": {
            "text/html": "<div>\n<style scoped>\n    .dataframe tbody tr th:only-of-type {\n        vertical-align: middle;\n    }\n\n    .dataframe tbody tr th {\n        vertical-align: top;\n    }\n\n    .dataframe thead th {\n        text-align: right;\n    }\n</style>\n<table border=\"1\" class=\"dataframe\">\n  <thead>\n    <tr style=\"text-align: right;\">\n      <th></th>\n      <th>0</th>\n      <th>1</th>\n      <th>16</th>\n      <th>16</th>\n      <th>16</th>\n      <th>16</th>\n      <th>16</th>\n      <th>16</th>\n      <th>16</th>\n      <th>16</th>\n      <th>16</th>\n      <th>16</th>\n      <th>16</th>\n      <th>16</th>\n      <th>16</th>\n      <th>16</th>\n      <th>16</th>\n    </tr>\n  </thead>\n  <tbody>\n    <tr>\n      <th>0</th>\n      <td>None</td>\n      <td>None</td>\n      <td>None</td>\n      <td>None</td>\n      <td>None</td>\n      <td>None</td>\n      <td>None</td>\n      <td>None</td>\n      <td>None</td>\n      <td>None</td>\n      <td>None</td>\n      <td>None</td>\n      <td>None</td>\n      <td>None</td>\n      <td>None</td>\n      <td>None</td>\n      <td>None</td>\n    </tr>\n    <tr>\n      <th>1</th>\n      <td>Code</td>\n      <td>Area</td>\n      <td>percent</td>\n      <td>percent</td>\n      <td>percent</td>\n      <td>percent</td>\n      <td>percent</td>\n      <td>percent</td>\n      <td>percent</td>\n      <td>percent</td>\n      <td>percent</td>\n      <td>percent</td>\n      <td>percent</td>\n      <td>percent</td>\n      <td>percent</td>\n      <td>percent</td>\n      <td>percent</td>\n    </tr>\n    <tr>\n      <th>2</th>\n      <td>None</td>\n      <td>None</td>\n      <td>None</td>\n      <td>None</td>\n      <td>None</td>\n      <td>None</td>\n      <td>None</td>\n      <td>None</td>\n      <td>None</td>\n      <td>None</td>\n      <td>None</td>\n      <td>None</td>\n      <td>None</td>\n      <td>None</td>\n      <td>None</td>\n      <td>None</td>\n      <td>None</td>\n    </tr>\n    <tr>\n      <th>3</th>\n      <td>00AA</td>\n      <td>City of London</td>\n      <td>!</td>\n      <td>!</td>\n      <td>!</td>\n      <td>!</td>\n      <td>!</td>\n      <td>!</td>\n      <td>!</td>\n      <td>!</td>\n      <td>!</td>\n      <td>!</td>\n      <td>!</td>\n      <td>!</td>\n      <td>!</td>\n      <td>!</td>\n      <td>!</td>\n    </tr>\n    <tr>\n      <th>4</th>\n      <td>00AB</td>\n      <td>Barking and Dagenham</td>\n      <td>10.8</td>\n      <td>12</td>\n      <td>11.2</td>\n      <td>10.8</td>\n      <td>10.6</td>\n      <td>15.5</td>\n      <td>9.7</td>\n      <td>13.7</td>\n      <td>15.2</td>\n      <td>13.1</td>\n      <td>12</td>\n      <td>17</td>\n      <td>13</td>\n      <td>14.5</td>\n      <td>12.6</td>\n    </tr>\n    <tr>\n      <th>5</th>\n      <td>00AC</td>\n      <td>Barnet</td>\n      <td>13.3</td>\n      <td>12.2</td>\n      <td>10</td>\n      <td>12</td>\n      <td>11</td>\n      <td>13.2</td>\n      <td>12.1</td>\n      <td>10.9</td>\n      <td>12.5</td>\n      <td>10.6</td>\n      <td>14.6</td>\n      <td>14.4</td>\n      <td>9.9</td>\n      <td>8.7</td>\n      <td>11.9</td>\n    </tr>\n    <tr>\n      <th>6</th>\n      <td>00AD</td>\n      <td>Bexley</td>\n      <td>17.3</td>\n      <td>17.8</td>\n      <td>17.5</td>\n      <td>15.1</td>\n      <td>15.5</td>\n      <td>15.7</td>\n      <td>17</td>\n      <td>19</td>\n      <td>17.9</td>\n      <td>14.2</td>\n      <td>16.9</td>\n      <td>16.8</td>\n      <td>19.5</td>\n      <td>18.2</td>\n      <td>15.3</td>\n    </tr>\n    <tr>\n      <th>7</th>\n      <td>00AE</td>\n      <td>Brent</td>\n      <td>11.1</td>\n      <td>15.3</td>\n      <td>9.7</td>\n      <td>6.7</td>\n      <td>10.7</td>\n      <td>7.8</td>\n      <td>10.3</td>\n      <td>14.8</td>\n      <td>17.8</td>\n      <td>14.9</td>\n      <td>14.3</td>\n      <td>14.4</td>\n      <td>14.1</td>\n      <td>15</td>\n      <td>14.4</td>\n    </tr>\n    <tr>\n      <th>8</th>\n      <td>00AF</td>\n      <td>Bromley</td>\n      <td>14</td>\n      <td>16.9</td>\n      <td>14.5</td>\n      <td>18.1</td>\n      <td>18</td>\n      <td>15.7</td>\n      <td>18</td>\n      <td>17.5</td>\n      <td>16.9</td>\n      <td>15.2</td>\n      <td>16.8</td>\n      <td>16.8</td>\n      <td>13.9</td>\n      <td>15.3</td>\n      <td>15.7</td>\n    </tr>\n    <tr>\n      <th>9</th>\n      <td>00AG</td>\n      <td>Camden</td>\n      <td>7.5</td>\n      <td>7.8</td>\n      <td>8.2</td>\n      <td>8.5</td>\n      <td>7.2</td>\n      <td>7.1</td>\n      <td>7.2</td>\n      <td>8.2</td>\n      <td>10.5</td>\n      <td>11.1</td>\n      <td>12.1</td>\n      <td>7.5</td>\n      <td>9.2</td>\n      <td>8.5</td>\n      <td>6.5</td>\n    </tr>\n    <tr>\n      <th>10</th>\n      <td>00AH</td>\n      <td>Croydon</td>\n      <td>14.4</td>\n      <td>15</td>\n      <td>17.5</td>\n      <td>16.1</td>\n      <td>16.1</td>\n      <td>14.8</td>\n      <td>15.1</td>\n      <td>12</td>\n      <td>18</td>\n      <td>16.3</td>\n      <td>18.9</td>\n      <td>15.7</td>\n      <td>14.1</td>\n      <td>15.8</td>\n      <td>15.9</td>\n    </tr>\n    <tr>\n      <th>11</th>\n      <td>00AJ</td>\n      <td>Ealing</td>\n      <td>9.7</td>\n      <td>9</td>\n      <td>10.6</td>\n      <td>10.5</td>\n      <td>8.9</td>\n      <td>9.2</td>\n      <td>13.4</td>\n      <td>13.8</td>\n      <td>12.7</td>\n      <td>14.1</td>\n      <td>12.8</td>\n      <td>11.8</td>\n      <td>12.9</td>\n      <td>14.7</td>\n      <td>9.5</td>\n    </tr>\n    <tr>\n      <th>12</th>\n      <td>00AK</td>\n      <td>Enfield</td>\n      <td>12.3</td>\n      <td>11.5</td>\n      <td>11.3</td>\n      <td>16.3</td>\n      <td>12.9</td>\n      <td>16</td>\n      <td>11.8</td>\n      <td>13</td>\n      <td>14.1</td>\n      <td>14.9</td>\n      <td>13.5</td>\n      <td>15.7</td>\n      <td>14.3</td>\n      <td>17.4</td>\n      <td>14.6</td>\n    </tr>\n    <tr>\n      <th>13</th>\n      <td>00AL</td>\n      <td>Greenwich</td>\n      <td>13.7</td>\n      <td>13.8</td>\n      <td>13.1</td>\n      <td>14.7</td>\n      <td>13.4</td>\n      <td>10.5</td>\n      <td>13.8</td>\n      <td>14</td>\n      <td>14.9</td>\n      <td>14.2</td>\n      <td>17.8</td>\n      <td>13.6</td>\n      <td>14.9</td>\n      <td>11.1</td>\n      <td>10.7</td>\n    </tr>\n    <tr>\n      <th>14</th>\n      <td>00AM</td>\n      <td>Hackney</td>\n      <td>5.9</td>\n      <td>7</td>\n      <td>9.1</td>\n      <td>10</td>\n      <td>8.6</td>\n      <td>6.4</td>\n      <td>8.9</td>\n      <td>7.2</td>\n      <td>8.7</td>\n      <td>9.5</td>\n      <td>14.4</td>\n      <td>12</td>\n      <td>8.5</td>\n      <td>7.2</td>\n      <td>9.1</td>\n    </tr>\n    <tr>\n      <th>15</th>\n      <td>00AN</td>\n      <td>Hammersmith and Fulham</td>\n      <td>8.3</td>\n      <td>7.8</td>\n      <td>8.7</td>\n      <td>8.1</td>\n      <td>9.3</td>\n      <td>10.3</td>\n      <td>11.8</td>\n      <td>9.1</td>\n      <td>11.6</td>\n      <td>6.5</td>\n      <td>9.1</td>\n      <td>8.8</td>\n      <td>14.3</td>\n      <td>7.8</td>\n      <td>7.5</td>\n    </tr>\n    <tr>\n      <th>16</th>\n      <td>00AP</td>\n      <td>Haringey</td>\n      <td>10.1</td>\n      <td>8.8</td>\n      <td>8.7</td>\n      <td>8.2</td>\n      <td>6.3</td>\n      <td>10.1</td>\n      <td>10</td>\n      <td>9.8</td>\n      <td>10.1</td>\n      <td>9.1</td>\n      <td>12.7</td>\n      <td>12.4</td>\n      <td>11</td>\n      <td>11.2</td>\n      <td>7.3</td>\n    </tr>\n    <tr>\n      <th>17</th>\n      <td>00AQ</td>\n      <td>Harrow</td>\n      <td>10.6</td>\n      <td>12.6</td>\n      <td>12.1</td>\n      <td>13.3</td>\n      <td>11.6</td>\n      <td>10.5</td>\n      <td>12.1</td>\n      <td>13.1</td>\n      <td>17.5</td>\n      <td>15.5</td>\n      <td>16.2</td>\n      <td>17.1</td>\n      <td>20.6</td>\n      <td>16.2</td>\n      <td>18.3</td>\n    </tr>\n    <tr>\n      <th>18</th>\n      <td>00AR</td>\n      <td>Havering</td>\n      <td>15.2</td>\n      <td>15</td>\n      <td>15.9</td>\n      <td>16.6</td>\n      <td>15.1</td>\n      <td>20.2</td>\n      <td>21.5</td>\n      <td>19.5</td>\n      <td>21.5</td>\n      <td>21.3</td>\n      <td>19.6</td>\n      <td>16.6</td>\n      <td>16.9</td>\n      <td>16.7</td>\n      <td>16.8</td>\n    </tr>\n    <tr>\n      <th>19</th>\n      <td>00AS</td>\n      <td>Hillingdon</td>\n      <td>16.1</td>\n      <td>13.5</td>\n      <td>14.1</td>\n      <td>12.9</td>\n      <td>13.5</td>\n      <td>16</td>\n      <td>12</td>\n      <td>12.4</td>\n      <td>17.1</td>\n      <td>15.1</td>\n      <td>15.4</td>\n      <td>17</td>\n      <td>12.6</td>\n      <td>11.3</td>\n      <td>12.8</td>\n    </tr>\n    <tr>\n      <th>20</th>\n      <td>00AT</td>\n      <td>Hounslow</td>\n      <td>13.2</td>\n      <td>14.2</td>\n      <td>13.6</td>\n      <td>9.5</td>\n      <td>9.2</td>\n      <td>10.8</td>\n      <td>8.9</td>\n      <td>10.3</td>\n      <td>9.3</td>\n      <td>8.6</td>\n      <td>8.8</td>\n      <td>13.1</td>\n      <td>10.3</td>\n      <td>14.4</td>\n      <td>13.6</td>\n    </tr>\n    <tr>\n      <th>21</th>\n      <td>00AU</td>\n      <td>Islington</td>\n      <td>9.6</td>\n      <td>7.1</td>\n      <td>7.5</td>\n      <td>8.3</td>\n      <td>8.3</td>\n      <td>8.8</td>\n      <td>6.6</td>\n      <td>6.1</td>\n      <td>6.9</td>\n      <td>7.3</td>\n      <td>7.2</td>\n      <td>9.1</td>\n      <td>9.9</td>\n      <td>11.5</td>\n      <td>6.9</td>\n    </tr>\n    <tr>\n      <th>22</th>\n      <td>00AW</td>\n      <td>Kensington and Chelsea</td>\n      <td>11.8</td>\n      <td>8.9</td>\n      <td>7.8</td>\n      <td>9.4</td>\n      <td>5.8</td>\n      <td>5.6</td>\n      <td>9.6</td>\n      <td>9.1</td>\n      <td>8.6</td>\n      <td>7.9</td>\n      <td>7</td>\n      <td>8.7</td>\n      <td>10.5</td>\n      <td>8.5</td>\n      <td>9.2</td>\n    </tr>\n    <tr>\n      <th>23</th>\n      <td>00AX</td>\n      <td>Kingston upon Thames</td>\n      <td>15.9</td>\n      <td>13.2</td>\n      <td>14.3</td>\n      <td>12.1</td>\n      <td>17.5</td>\n      <td>15.7</td>\n      <td>11.8</td>\n      <td>10.8</td>\n      <td>14.3</td>\n      <td>12.8</td>\n      <td>12.9</td>\n      <td>16</td>\n      <td>15.1</td>\n      <td>13.1</td>\n      <td>11.7</td>\n    </tr>\n    <tr>\n      <th>24</th>\n      <td>00AY</td>\n      <td>Lambeth</td>\n      <td>7</td>\n      <td>9.3</td>\n      <td>10.9</td>\n      <td>9.6</td>\n      <td>9.8</td>\n      <td>8</td>\n      <td>8</td>\n      <td>7.6</td>\n      <td>12.2</td>\n      <td>9.7</td>\n      <td>9.6</td>\n      <td>8.8</td>\n      <td>10.4</td>\n      <td>13.2</td>\n      <td>9.4</td>\n    </tr>\n    <tr>\n      <th>25</th>\n      <td>00AZ</td>\n      <td>Lewisham</td>\n      <td>12.3</td>\n      <td>11</td>\n      <td>10.5</td>\n      <td>15.7</td>\n      <td>13.2</td>\n      <td>12.8</td>\n      <td>12.4</td>\n      <td>12.1</td>\n      <td>11.7</td>\n      <td>13.2</td>\n      <td>13.7</td>\n      <td>13.3</td>\n      <td>14.7</td>\n      <td>16</td>\n      <td>10.1</td>\n    </tr>\n    <tr>\n      <th>26</th>\n      <td>00BA</td>\n      <td>Merton</td>\n      <td>11.1</td>\n      <td>10.1</td>\n      <td>9.8</td>\n      <td>9.7</td>\n      <td>9.2</td>\n      <td>12</td>\n      <td>9.7</td>\n      <td>11.3</td>\n      <td>17.7</td>\n      <td>12.5</td>\n      <td>13.1</td>\n      <td>12</td>\n      <td>13.7</td>\n      <td>15.2</td>\n      <td>12.7</td>\n    </tr>\n    <tr>\n      <th>27</th>\n      <td>00BB</td>\n      <td>Newham</td>\n      <td>8.6</td>\n      <td>9</td>\n      <td>8.8</td>\n      <td>10.3</td>\n      <td>10.7</td>\n      <td>8</td>\n      <td>9.9</td>\n      <td>9.8</td>\n      <td>10.9</td>\n      <td>12.1</td>\n      <td>13.6</td>\n      <td>14</td>\n      <td>9.4</td>\n      <td>13.2</td>\n      <td>14.6</td>\n    </tr>\n    <tr>\n      <th>28</th>\n      <td>00BC</td>\n      <td>Redbridge</td>\n      <td>10.4</td>\n      <td>8.6</td>\n      <td>14.7</td>\n      <td>13.1</td>\n      <td>11.8</td>\n      <td>12.1</td>\n      <td>14.4</td>\n      <td>16.5</td>\n      <td>15.1</td>\n      <td>14</td>\n      <td>14.2</td>\n      <td>15.1</td>\n      <td>13.8</td>\n      <td>17</td>\n      <td>14.9</td>\n    </tr>\n    <tr>\n      <th>29</th>\n      <td>00BD</td>\n      <td>Richmond upon Thames</td>\n      <td>15.7</td>\n      <td>12.7</td>\n      <td>10.4</td>\n      <td>10.7</td>\n      <td>11.4</td>\n      <td>12.9</td>\n      <td>13.1</td>\n      <td>14.7</td>\n      <td>13.1</td>\n      <td>11.5</td>\n      <td>12</td>\n      <td>11.1</td>\n      <td>10.2</td>\n      <td>10.6</td>\n      <td>10.2</td>\n    </tr>\n    <tr>\n      <th>30</th>\n      <td>00BE</td>\n      <td>Southwark</td>\n      <td>9.5</td>\n      <td>9.6</td>\n      <td>8</td>\n      <td>12.3</td>\n      <td>10.6</td>\n      <td>8.3</td>\n      <td>10.9</td>\n      <td>9.5</td>\n      <td>8.9</td>\n      <td>10.6</td>\n      <td>9.2</td>\n      <td>11.8</td>\n      <td>12.3</td>\n      <td>9.6</td>\n      <td>7.3</td>\n    </tr>\n    <tr>\n      <th>31</th>\n      <td>00BF</td>\n      <td>Sutton</td>\n      <td>16.2</td>\n      <td>18.8</td>\n      <td>17.5</td>\n      <td>12.7</td>\n      <td>14.1</td>\n      <td>14.9</td>\n      <td>13.1</td>\n      <td>15</td>\n      <td>17.3</td>\n      <td>13.9</td>\n      <td>14.9</td>\n      <td>13.8</td>\n      <td>16.1</td>\n      <td>14.6</td>\n      <td>14.6</td>\n    </tr>\n    <tr>\n      <th>32</th>\n      <td>00BG</td>\n      <td>Tower Hamlets</td>\n      <td>10.7</td>\n      <td>8.8</td>\n      <td>10.9</td>\n      <td>8.4</td>\n      <td>9.9</td>\n      <td>12.1</td>\n      <td>11.3</td>\n      <td>9.8</td>\n      <td>8.6</td>\n      <td>12.6</td>\n      <td>15.1</td>\n      <td>15.4</td>\n      <td>13.9</td>\n      <td>11.2</td>\n      <td>6.6</td>\n    </tr>\n    <tr>\n      <th>33</th>\n      <td>00BH</td>\n      <td>Waltham Forest</td>\n      <td>8.1</td>\n      <td>7.9</td>\n      <td>11.9</td>\n      <td>14.9</td>\n      <td>15.8</td>\n      <td>12.8</td>\n      <td>11.9</td>\n      <td>10.6</td>\n      <td>12.1</td>\n      <td>11.9</td>\n      <td>13.6</td>\n      <td>13.4</td>\n      <td>11.3</td>\n      <td>10.8</td>\n      <td>12.2</td>\n    </tr>\n    <tr>\n      <th>34</th>\n      <td>00BJ</td>\n      <td>Wandsworth</td>\n      <td>11.5</td>\n      <td>10.6</td>\n      <td>9.3</td>\n      <td>9.8</td>\n      <td>7.6</td>\n      <td>8.6</td>\n      <td>5.9</td>\n      <td>6.6</td>\n      <td>10.1</td>\n      <td>10.1</td>\n      <td>5.7</td>\n      <td>9</td>\n      <td>9.2</td>\n      <td>5.5</td>\n      <td>5.8</td>\n    </tr>\n    <tr>\n      <th>35</th>\n      <td>00BK</td>\n      <td>Westminster</td>\n      <td>7</td>\n      <td>6.2</td>\n      <td>9</td>\n      <td>8.8</td>\n      <td>8.5</td>\n      <td>9.4</td>\n      <td>6.6</td>\n      <td>6.7</td>\n      <td>10.5</td>\n      <td>9.2</td>\n      <td>6</td>\n      <td>8</td>\n      <td>8.3</td>\n      <td>12.1</td>\n      <td>8.2</td>\n    </tr>\n    <tr>\n      <th>36</th>\n      <td>None</td>\n      <td>None</td>\n      <td>None</td>\n      <td>None</td>\n      <td>None</td>\n      <td>None</td>\n      <td>None</td>\n      <td>None</td>\n      <td>None</td>\n      <td>None</td>\n      <td>None</td>\n      <td>None</td>\n      <td>None</td>\n      <td>None</td>\n      <td>None</td>\n      <td>None</td>\n      <td>None</td>\n    </tr>\n    <tr>\n      <th>37</th>\n      <td>A</td>\n      <td>North East</td>\n      <td>16</td>\n      <td>16.8</td>\n      <td>17.2</td>\n      <td>17.2</td>\n      <td>17.9</td>\n      <td>17</td>\n      <td>17.7</td>\n      <td>19.1</td>\n      <td>19.1</td>\n      <td>19.7</td>\n      <td>20.6</td>\n      <td>20.3</td>\n      <td>19.8</td>\n      <td>19</td>\n      <td>19.2</td>\n    </tr>\n    <tr>\n      <th>38</th>\n      <td>B</td>\n      <td>North West</td>\n      <td>16.1</td>\n      <td>16</td>\n      <td>16.8</td>\n      <td>17</td>\n      <td>16.7</td>\n      <td>16.6</td>\n      <td>17.5</td>\n      <td>17.8</td>\n      <td>18.5</td>\n      <td>18.2</td>\n      <td>18.5</td>\n      <td>18.6</td>\n      <td>18.4</td>\n      <td>18.3</td>\n      <td>18.3</td>\n    </tr>\n    <tr>\n      <th>39</th>\n      <td>D</td>\n      <td>Yorkshire and The Humber</td>\n      <td>15.9</td>\n      <td>16.2</td>\n      <td>16.2</td>\n      <td>16.1</td>\n      <td>17</td>\n      <td>17.1</td>\n      <td>17.3</td>\n      <td>17.5</td>\n      <td>18.2</td>\n      <td>17.9</td>\n      <td>18.6</td>\n      <td>19</td>\n      <td>19.1</td>\n      <td>17.8</td>\n      <td>19.2</td>\n    </tr>\n    <tr>\n      <th>40</th>\n      <td>E</td>\n      <td>East Midlands</td>\n      <td>16.5</td>\n      <td>16.2</td>\n      <td>15.8</td>\n      <td>16</td>\n      <td>15.7</td>\n      <td>17.4</td>\n      <td>17.8</td>\n      <td>18.4</td>\n      <td>19.4</td>\n      <td>18.7</td>\n      <td>19.3</td>\n      <td>18.8</td>\n      <td>19.5</td>\n      <td>18.6</td>\n      <td>19.4</td>\n    </tr>\n    <tr>\n      <th>41</th>\n      <td>F</td>\n      <td>West Midlands</td>\n      <td>15.4</td>\n      <td>15.2</td>\n      <td>15.5</td>\n      <td>15.8</td>\n      <td>16.5</td>\n      <td>16.1</td>\n      <td>16.7</td>\n      <td>17.3</td>\n      <td>18.2</td>\n      <td>18.6</td>\n      <td>18.4</td>\n      <td>17.1</td>\n      <td>17.3</td>\n      <td>18</td>\n      <td>18.3</td>\n    </tr>\n    <tr>\n      <th>42</th>\n      <td>G</td>\n      <td>East</td>\n      <td>14.3</td>\n      <td>15</td>\n      <td>14.3</td>\n      <td>15</td>\n      <td>15.7</td>\n      <td>16.2</td>\n      <td>15.8</td>\n      <td>17.3</td>\n      <td>17.6</td>\n      <td>17.2</td>\n      <td>18</td>\n      <td>17.3</td>\n      <td>17.4</td>\n      <td>17.5</td>\n      <td>16.6</td>\n    </tr>\n    <tr>\n      <th>43</th>\n      <td>H</td>\n      <td>London</td>\n      <td>11.6</td>\n      <td>11.5</td>\n      <td>11.6</td>\n      <td>11.8</td>\n      <td>11.4</td>\n      <td>11.5</td>\n      <td>11.6</td>\n      <td>11.6</td>\n      <td>13.3</td>\n      <td>12.4</td>\n      <td>13</td>\n      <td>13.2</td>\n      <td>12.6</td>\n      <td>12.7</td>\n      <td>11.4</td>\n    </tr>\n    <tr>\n      <th>44</th>\n      <td>J</td>\n      <td>South East</td>\n      <td>15.7</td>\n      <td>16.3</td>\n      <td>16.2</td>\n      <td>16.3</td>\n      <td>16.8</td>\n      <td>16.2</td>\n      <td>16.6</td>\n      <td>17.6</td>\n      <td>18.4</td>\n      <td>17.7</td>\n      <td>17.5</td>\n      <td>17.2</td>\n      <td>17.2</td>\n      <td>18.3</td>\n      <td>18</td>\n    </tr>\n    <tr>\n      <th>45</th>\n      <td>K</td>\n      <td>South West</td>\n      <td>16.5</td>\n      <td>16.6</td>\n      <td>16.7</td>\n      <td>17.6</td>\n      <td>17.9</td>\n      <td>18.3</td>\n      <td>17.7</td>\n      <td>18.1</td>\n      <td>19</td>\n      <td>19.8</td>\n      <td>19.3</td>\n      <td>19.2</td>\n      <td>19.7</td>\n      <td>19.4</td>\n      <td>20</td>\n    </tr>\n    <tr>\n      <th>46</th>\n      <td>None</td>\n      <td>None</td>\n      <td>None</td>\n      <td>None</td>\n      <td>None</td>\n      <td>None</td>\n      <td>None</td>\n      <td>None</td>\n      <td>None</td>\n      <td>None</td>\n      <td>None</td>\n      <td>None</td>\n      <td>None</td>\n      <td>None</td>\n      <td>None</td>\n      <td>None</td>\n      <td>None</td>\n    </tr>\n    <tr>\n      <th>47</th>\n      <td>921</td>\n      <td>England</td>\n      <td>15.1</td>\n      <td>15.3</td>\n      <td>15.4</td>\n      <td>15.6</td>\n      <td>15.9</td>\n      <td>15.9</td>\n      <td>16.2</td>\n      <td>16.8</td>\n      <td>17.6</td>\n      <td>17.3</td>\n      <td>17.6</td>\n      <td>17.3</td>\n      <td>17.3</td>\n      <td>17.3</td>\n      <td>17.2</td>\n    </tr>\n    <tr>\n      <th>48</th>\n      <td>924</td>\n      <td>Wales</td>\n      <td>15.3</td>\n      <td>15.6</td>\n      <td>16.3</td>\n      <td>16.6</td>\n      <td>16.8</td>\n      <td>17.4</td>\n      <td>16.8</td>\n      <td>17.4</td>\n      <td>18</td>\n      <td>19.1</td>\n      <td>18.6</td>\n      <td>17.9</td>\n      <td>17.6</td>\n      <td>17.5</td>\n      <td>18</td>\n    </tr>\n    <tr>\n      <th>49</th>\n      <td>923</td>\n      <td>Scotland</td>\n      <td>14.9</td>\n      <td>16.2</td>\n      <td>15.8</td>\n      <td>15.8</td>\n      <td>16.1</td>\n      <td>15.9</td>\n      <td>15.8</td>\n      <td>15.6</td>\n      <td>14.6</td>\n      <td>15</td>\n      <td>14.4</td>\n      <td>14.3</td>\n      <td>13.8</td>\n      <td>13.4</td>\n      <td>13.2</td>\n    </tr>\n    <tr>\n      <th>50</th>\n      <td>922</td>\n      <td>Northern Ireland</td>\n      <td>13</td>\n      <td>13.6</td>\n      <td>14.3</td>\n      <td>14.6</td>\n      <td>14.9</td>\n      <td>15.2</td>\n      <td>14.6</td>\n      <td>14.4</td>\n      <td>16.1</td>\n      <td>15.8</td>\n      <td>15</td>\n      <td>15.3</td>\n      <td>17.2</td>\n      <td>16.6</td>\n      <td>16.5</td>\n    </tr>\n    <tr>\n      <th>51</th>\n      <td>None</td>\n      <td>None</td>\n      <td>None</td>\n      <td>None</td>\n      <td>None</td>\n      <td>None</td>\n      <td>None</td>\n      <td>None</td>\n      <td>None</td>\n      <td>None</td>\n      <td>None</td>\n      <td>None</td>\n      <td>None</td>\n      <td>None</td>\n      <td>None</td>\n      <td>None</td>\n      <td>None</td>\n    </tr>\n    <tr>\n      <th>52</th>\n      <td>941</td>\n      <td>England and Wales</td>\n      <td>15.1</td>\n      <td>15.3</td>\n      <td>15.4</td>\n      <td>15.7</td>\n      <td>15.9</td>\n      <td>16</td>\n      <td>16.2</td>\n      <td>16.8</td>\n      <td>17.6</td>\n      <td>17.4</td>\n      <td>17.7</td>\n      <td>17.4</td>\n      <td>17.3</td>\n      <td>17.3</td>\n      <td>17.3</td>\n    </tr>\n    <tr>\n      <th>53</th>\n      <td>925</td>\n      <td>Great Britain</td>\n      <td>15.1</td>\n      <td>15.4</td>\n      <td>15.4</td>\n      <td>15.7</td>\n      <td>16</td>\n      <td>16</td>\n      <td>16.2</td>\n      <td>16.7</td>\n      <td>17.4</td>\n      <td>17.2</td>\n      <td>17.4</td>\n      <td>17.1</td>\n      <td>17</td>\n      <td>17</td>\n      <td>16.9</td>\n    </tr>\n    <tr>\n      <th>54</th>\n      <td>926</td>\n      <td>United Kingdom</td>\n      <td>15.1</td>\n      <td>15.4</td>\n      <td>15.4</td>\n      <td>15.7</td>\n      <td>15.9</td>\n      <td>16</td>\n      <td>16.1</td>\n      <td>16.6</td>\n      <td>17.3</td>\n      <td>17.2</td>\n      <td>17.3</td>\n      <td>17.1</td>\n      <td>17</td>\n      <td>17</td>\n      <td>16.9</td>\n    </tr>\n  </tbody>\n</table>\n</div>",
            "text/plain": "      0                         1        16       16       16       16  \\\n0   None                      None     None     None     None     None   \n1   Code                      Area  percent  percent  percent  percent   \n2   None                      None     None     None     None     None   \n3   00AA            City of London        !        !        !        !   \n4   00AB      Barking and Dagenham     10.8       12     11.2     10.8   \n5   00AC                    Barnet     13.3     12.2       10       12   \n6   00AD                    Bexley     17.3     17.8     17.5     15.1   \n7   00AE                     Brent     11.1     15.3      9.7      6.7   \n8   00AF                   Bromley       14     16.9     14.5     18.1   \n9   00AG                    Camden      7.5      7.8      8.2      8.5   \n10  00AH                   Croydon     14.4       15     17.5     16.1   \n11  00AJ                    Ealing      9.7        9     10.6     10.5   \n12  00AK                   Enfield     12.3     11.5     11.3     16.3   \n13  00AL                 Greenwich     13.7     13.8     13.1     14.7   \n14  00AM                   Hackney      5.9        7      9.1       10   \n15  00AN    Hammersmith and Fulham      8.3      7.8      8.7      8.1   \n16  00AP                  Haringey     10.1      8.8      8.7      8.2   \n17  00AQ                    Harrow     10.6     12.6     12.1     13.3   \n18  00AR                  Havering     15.2       15     15.9     16.6   \n19  00AS                Hillingdon     16.1     13.5     14.1     12.9   \n20  00AT                  Hounslow     13.2     14.2     13.6      9.5   \n21  00AU                 Islington      9.6      7.1      7.5      8.3   \n22  00AW    Kensington and Chelsea     11.8      8.9      7.8      9.4   \n23  00AX      Kingston upon Thames     15.9     13.2     14.3     12.1   \n24  00AY                   Lambeth        7      9.3     10.9      9.6   \n25  00AZ                  Lewisham     12.3       11     10.5     15.7   \n26  00BA                    Merton     11.1     10.1      9.8      9.7   \n27  00BB                    Newham      8.6        9      8.8     10.3   \n28  00BC                 Redbridge     10.4      8.6     14.7     13.1   \n29  00BD      Richmond upon Thames     15.7     12.7     10.4     10.7   \n30  00BE                 Southwark      9.5      9.6        8     12.3   \n31  00BF                    Sutton     16.2     18.8     17.5     12.7   \n32  00BG             Tower Hamlets     10.7      8.8     10.9      8.4   \n33  00BH            Waltham Forest      8.1      7.9     11.9     14.9   \n34  00BJ                Wandsworth     11.5     10.6      9.3      9.8   \n35  00BK               Westminster        7      6.2        9      8.8   \n36  None                      None     None     None     None     None   \n37     A                North East       16     16.8     17.2     17.2   \n38     B                North West     16.1       16     16.8       17   \n39     D  Yorkshire and The Humber     15.9     16.2     16.2     16.1   \n40     E             East Midlands     16.5     16.2     15.8       16   \n41     F             West Midlands     15.4     15.2     15.5     15.8   \n42     G                      East     14.3       15     14.3       15   \n43     H                    London     11.6     11.5     11.6     11.8   \n44     J                South East     15.7     16.3     16.2     16.3   \n45     K                South West     16.5     16.6     16.7     17.6   \n46  None                      None     None     None     None     None   \n47   921                   England     15.1     15.3     15.4     15.6   \n48   924                     Wales     15.3     15.6     16.3     16.6   \n49   923                  Scotland     14.9     16.2     15.8     15.8   \n50   922          Northern Ireland       13     13.6     14.3     14.6   \n51  None                      None     None     None     None     None   \n52   941         England and Wales     15.1     15.3     15.4     15.7   \n53   925             Great Britain     15.1     15.4     15.4     15.7   \n54   926            United Kingdom     15.1     15.4     15.4     15.7   \n\n         16       16       16       16       16       16       16       16  \\\n0      None     None     None     None     None     None     None     None   \n1   percent  percent  percent  percent  percent  percent  percent  percent   \n2      None     None     None     None     None     None     None     None   \n3         !        !        !        !        !        !        !        !   \n4      10.6     15.5      9.7     13.7     15.2     13.1       12       17   \n5        11     13.2     12.1     10.9     12.5     10.6     14.6     14.4   \n6      15.5     15.7       17       19     17.9     14.2     16.9     16.8   \n7      10.7      7.8     10.3     14.8     17.8     14.9     14.3     14.4   \n8        18     15.7       18     17.5     16.9     15.2     16.8     16.8   \n9       7.2      7.1      7.2      8.2     10.5     11.1     12.1      7.5   \n10     16.1     14.8     15.1       12       18     16.3     18.9     15.7   \n11      8.9      9.2     13.4     13.8     12.7     14.1     12.8     11.8   \n12     12.9       16     11.8       13     14.1     14.9     13.5     15.7   \n13     13.4     10.5     13.8       14     14.9     14.2     17.8     13.6   \n14      8.6      6.4      8.9      7.2      8.7      9.5     14.4       12   \n15      9.3     10.3     11.8      9.1     11.6      6.5      9.1      8.8   \n16      6.3     10.1       10      9.8     10.1      9.1     12.7     12.4   \n17     11.6     10.5     12.1     13.1     17.5     15.5     16.2     17.1   \n18     15.1     20.2     21.5     19.5     21.5     21.3     19.6     16.6   \n19     13.5       16       12     12.4     17.1     15.1     15.4       17   \n20      9.2     10.8      8.9     10.3      9.3      8.6      8.8     13.1   \n21      8.3      8.8      6.6      6.1      6.9      7.3      7.2      9.1   \n22      5.8      5.6      9.6      9.1      8.6      7.9        7      8.7   \n23     17.5     15.7     11.8     10.8     14.3     12.8     12.9       16   \n24      9.8        8        8      7.6     12.2      9.7      9.6      8.8   \n25     13.2     12.8     12.4     12.1     11.7     13.2     13.7     13.3   \n26      9.2       12      9.7     11.3     17.7     12.5     13.1       12   \n27     10.7        8      9.9      9.8     10.9     12.1     13.6       14   \n28     11.8     12.1     14.4     16.5     15.1       14     14.2     15.1   \n29     11.4     12.9     13.1     14.7     13.1     11.5       12     11.1   \n30     10.6      8.3     10.9      9.5      8.9     10.6      9.2     11.8   \n31     14.1     14.9     13.1       15     17.3     13.9     14.9     13.8   \n32      9.9     12.1     11.3      9.8      8.6     12.6     15.1     15.4   \n33     15.8     12.8     11.9     10.6     12.1     11.9     13.6     13.4   \n34      7.6      8.6      5.9      6.6     10.1     10.1      5.7        9   \n35      8.5      9.4      6.6      6.7     10.5      9.2        6        8   \n36     None     None     None     None     None     None     None     None   \n37     17.9       17     17.7     19.1     19.1     19.7     20.6     20.3   \n38     16.7     16.6     17.5     17.8     18.5     18.2     18.5     18.6   \n39       17     17.1     17.3     17.5     18.2     17.9     18.6       19   \n40     15.7     17.4     17.8     18.4     19.4     18.7     19.3     18.8   \n41     16.5     16.1     16.7     17.3     18.2     18.6     18.4     17.1   \n42     15.7     16.2     15.8     17.3     17.6     17.2       18     17.3   \n43     11.4     11.5     11.6     11.6     13.3     12.4       13     13.2   \n44     16.8     16.2     16.6     17.6     18.4     17.7     17.5     17.2   \n45     17.9     18.3     17.7     18.1       19     19.8     19.3     19.2   \n46     None     None     None     None     None     None     None     None   \n47     15.9     15.9     16.2     16.8     17.6     17.3     17.6     17.3   \n48     16.8     17.4     16.8     17.4       18     19.1     18.6     17.9   \n49     16.1     15.9     15.8     15.6     14.6       15     14.4     14.3   \n50     14.9     15.2     14.6     14.4     16.1     15.8       15     15.3   \n51     None     None     None     None     None     None     None     None   \n52     15.9       16     16.2     16.8     17.6     17.4     17.7     17.4   \n53       16       16     16.2     16.7     17.4     17.2     17.4     17.1   \n54     15.9       16     16.1     16.6     17.3     17.2     17.3     17.1   \n\n         16       16       16  \n0      None     None     None  \n1   percent  percent  percent  \n2      None     None     None  \n3         !        !        !  \n4        13     14.5     12.6  \n5       9.9      8.7     11.9  \n6      19.5     18.2     15.3  \n7      14.1       15     14.4  \n8      13.9     15.3     15.7  \n9       9.2      8.5      6.5  \n10     14.1     15.8     15.9  \n11     12.9     14.7      9.5  \n12     14.3     17.4     14.6  \n13     14.9     11.1     10.7  \n14      8.5      7.2      9.1  \n15     14.3      7.8      7.5  \n16       11     11.2      7.3  \n17     20.6     16.2     18.3  \n18     16.9     16.7     16.8  \n19     12.6     11.3     12.8  \n20     10.3     14.4     13.6  \n21      9.9     11.5      6.9  \n22     10.5      8.5      9.2  \n23     15.1     13.1     11.7  \n24     10.4     13.2      9.4  \n25     14.7       16     10.1  \n26     13.7     15.2     12.7  \n27      9.4     13.2     14.6  \n28     13.8       17     14.9  \n29     10.2     10.6     10.2  \n30     12.3      9.6      7.3  \n31     16.1     14.6     14.6  \n32     13.9     11.2      6.6  \n33     11.3     10.8     12.2  \n34      9.2      5.5      5.8  \n35      8.3     12.1      8.2  \n36     None     None     None  \n37     19.8       19     19.2  \n38     18.4     18.3     18.3  \n39     19.1     17.8     19.2  \n40     19.5     18.6     19.4  \n41     17.3       18     18.3  \n42     17.4     17.5     16.6  \n43     12.6     12.7     11.4  \n44     17.2     18.3       18  \n45     19.7     19.4       20  \n46     None     None     None  \n47     17.3     17.3     17.2  \n48     17.6     17.5       18  \n49     13.8     13.4     13.2  \n50     17.2     16.6     16.5  \n51     None     None     None  \n52     17.3     17.3     17.3  \n53       17       17     16.9  \n54       17       17     16.9  "
          },
          "metadata": {}
        }
      ]
    },
    {
      "metadata": {
        "trusted": true
      },
      "cell_type": "code",
      "source": "df.columns = ['Code', 'Area', '2004', '2005', '2006', '2007', '2008', '2009', '2010', '2011', '2012', '2013', '2014', '2015', '2016', '2017', '2018']",
      "execution_count": 31,
      "outputs": []
    },
    {
      "metadata": {
        "trusted": true,
        "scrolled": true
      },
      "cell_type": "code",
      "source": "df.head()",
      "execution_count": 32,
      "outputs": [
        {
          "output_type": "execute_result",
          "execution_count": 32,
          "data": {
            "text/html": "<div>\n<style scoped>\n    .dataframe tbody tr th:only-of-type {\n        vertical-align: middle;\n    }\n\n    .dataframe tbody tr th {\n        vertical-align: top;\n    }\n\n    .dataframe thead th {\n        text-align: right;\n    }\n</style>\n<table border=\"1\" class=\"dataframe\">\n  <thead>\n    <tr style=\"text-align: right;\">\n      <th></th>\n      <th>Code</th>\n      <th>Area</th>\n      <th>2004</th>\n      <th>2005</th>\n      <th>2006</th>\n      <th>2007</th>\n      <th>2008</th>\n      <th>2009</th>\n      <th>2010</th>\n      <th>2011</th>\n      <th>2012</th>\n      <th>2013</th>\n      <th>2014</th>\n      <th>2015</th>\n      <th>2016</th>\n      <th>2017</th>\n      <th>2018</th>\n    </tr>\n  </thead>\n  <tbody>\n    <tr>\n      <th>0</th>\n      <td>None</td>\n      <td>None</td>\n      <td>None</td>\n      <td>None</td>\n      <td>None</td>\n      <td>None</td>\n      <td>None</td>\n      <td>None</td>\n      <td>None</td>\n      <td>None</td>\n      <td>None</td>\n      <td>None</td>\n      <td>None</td>\n      <td>None</td>\n      <td>None</td>\n      <td>None</td>\n      <td>None</td>\n    </tr>\n    <tr>\n      <th>1</th>\n      <td>Code</td>\n      <td>Area</td>\n      <td>percent</td>\n      <td>percent</td>\n      <td>percent</td>\n      <td>percent</td>\n      <td>percent</td>\n      <td>percent</td>\n      <td>percent</td>\n      <td>percent</td>\n      <td>percent</td>\n      <td>percent</td>\n      <td>percent</td>\n      <td>percent</td>\n      <td>percent</td>\n      <td>percent</td>\n      <td>percent</td>\n    </tr>\n    <tr>\n      <th>2</th>\n      <td>None</td>\n      <td>None</td>\n      <td>None</td>\n      <td>None</td>\n      <td>None</td>\n      <td>None</td>\n      <td>None</td>\n      <td>None</td>\n      <td>None</td>\n      <td>None</td>\n      <td>None</td>\n      <td>None</td>\n      <td>None</td>\n      <td>None</td>\n      <td>None</td>\n      <td>None</td>\n      <td>None</td>\n    </tr>\n    <tr>\n      <th>3</th>\n      <td>00AA</td>\n      <td>City of London</td>\n      <td>!</td>\n      <td>!</td>\n      <td>!</td>\n      <td>!</td>\n      <td>!</td>\n      <td>!</td>\n      <td>!</td>\n      <td>!</td>\n      <td>!</td>\n      <td>!</td>\n      <td>!</td>\n      <td>!</td>\n      <td>!</td>\n      <td>!</td>\n      <td>!</td>\n    </tr>\n    <tr>\n      <th>4</th>\n      <td>00AB</td>\n      <td>Barking and Dagenham</td>\n      <td>10.8</td>\n      <td>12</td>\n      <td>11.2</td>\n      <td>10.8</td>\n      <td>10.6</td>\n      <td>15.5</td>\n      <td>9.7</td>\n      <td>13.7</td>\n      <td>15.2</td>\n      <td>13.1</td>\n      <td>12</td>\n      <td>17</td>\n      <td>13</td>\n      <td>14.5</td>\n      <td>12.6</td>\n    </tr>\n  </tbody>\n</table>\n</div>",
            "text/plain": "   Code                  Area     2004     2005     2006     2007     2008  \\\n0  None                  None     None     None     None     None     None   \n1  Code                  Area  percent  percent  percent  percent  percent   \n2  None                  None     None     None     None     None     None   \n3  00AA        City of London        !        !        !        !        !   \n4  00AB  Barking and Dagenham     10.8       12     11.2     10.8     10.6   \n\n      2009     2010     2011     2012     2013     2014     2015     2016  \\\n0     None     None     None     None     None     None     None     None   \n1  percent  percent  percent  percent  percent  percent  percent  percent   \n2     None     None     None     None     None     None     None     None   \n3        !        !        !        !        !        !        !        !   \n4     15.5      9.7     13.7     15.2     13.1       12       17       13   \n\n      2017     2018  \n0     None     None  \n1  percent  percent  \n2     None     None  \n3        !        !  \n4     14.5     12.6  "
          },
          "metadata": {}
        }
      ]
    },
    {
      "metadata": {
        "trusted": true
      },
      "cell_type": "code",
      "source": "df.replace('!', 0, inplace=True)",
      "execution_count": 33,
      "outputs": []
    },
    {
      "metadata": {
        "trusted": true
      },
      "cell_type": "code",
      "source": "df.drop(0, axis=0, inplace=True)\ndf.drop(1, axis=0, inplace=True)\ndf.drop(2, axis=0, inplace=True)\ndf.head()",
      "execution_count": 34,
      "outputs": [
        {
          "output_type": "execute_result",
          "execution_count": 34,
          "data": {
            "text/html": "<div>\n<style scoped>\n    .dataframe tbody tr th:only-of-type {\n        vertical-align: middle;\n    }\n\n    .dataframe tbody tr th {\n        vertical-align: top;\n    }\n\n    .dataframe thead th {\n        text-align: right;\n    }\n</style>\n<table border=\"1\" class=\"dataframe\">\n  <thead>\n    <tr style=\"text-align: right;\">\n      <th></th>\n      <th>Code</th>\n      <th>Area</th>\n      <th>2004</th>\n      <th>2005</th>\n      <th>2006</th>\n      <th>2007</th>\n      <th>2008</th>\n      <th>2009</th>\n      <th>2010</th>\n      <th>2011</th>\n      <th>2012</th>\n      <th>2013</th>\n      <th>2014</th>\n      <th>2015</th>\n      <th>2016</th>\n      <th>2017</th>\n      <th>2018</th>\n    </tr>\n  </thead>\n  <tbody>\n    <tr>\n      <th>3</th>\n      <td>00AA</td>\n      <td>City of London</td>\n      <td>0</td>\n      <td>0</td>\n      <td>0</td>\n      <td>0</td>\n      <td>0</td>\n      <td>0</td>\n      <td>0</td>\n      <td>0</td>\n      <td>0</td>\n      <td>0</td>\n      <td>0</td>\n      <td>0</td>\n      <td>0</td>\n      <td>0</td>\n      <td>0</td>\n    </tr>\n    <tr>\n      <th>4</th>\n      <td>00AB</td>\n      <td>Barking and Dagenham</td>\n      <td>10.8</td>\n      <td>12</td>\n      <td>11.2</td>\n      <td>10.8</td>\n      <td>10.6</td>\n      <td>15.5</td>\n      <td>9.7</td>\n      <td>13.7</td>\n      <td>15.2</td>\n      <td>13.1</td>\n      <td>12</td>\n      <td>17</td>\n      <td>13</td>\n      <td>14.5</td>\n      <td>12.6</td>\n    </tr>\n    <tr>\n      <th>5</th>\n      <td>00AC</td>\n      <td>Barnet</td>\n      <td>13.3</td>\n      <td>12.2</td>\n      <td>10</td>\n      <td>12</td>\n      <td>11</td>\n      <td>13.2</td>\n      <td>12.1</td>\n      <td>10.9</td>\n      <td>12.5</td>\n      <td>10.6</td>\n      <td>14.6</td>\n      <td>14.4</td>\n      <td>9.9</td>\n      <td>8.7</td>\n      <td>11.9</td>\n    </tr>\n    <tr>\n      <th>6</th>\n      <td>00AD</td>\n      <td>Bexley</td>\n      <td>17.3</td>\n      <td>17.8</td>\n      <td>17.5</td>\n      <td>15.1</td>\n      <td>15.5</td>\n      <td>15.7</td>\n      <td>17</td>\n      <td>19</td>\n      <td>17.9</td>\n      <td>14.2</td>\n      <td>16.9</td>\n      <td>16.8</td>\n      <td>19.5</td>\n      <td>18.2</td>\n      <td>15.3</td>\n    </tr>\n    <tr>\n      <th>7</th>\n      <td>00AE</td>\n      <td>Brent</td>\n      <td>11.1</td>\n      <td>15.3</td>\n      <td>9.7</td>\n      <td>6.7</td>\n      <td>10.7</td>\n      <td>7.8</td>\n      <td>10.3</td>\n      <td>14.8</td>\n      <td>17.8</td>\n      <td>14.9</td>\n      <td>14.3</td>\n      <td>14.4</td>\n      <td>14.1</td>\n      <td>15</td>\n      <td>14.4</td>\n    </tr>\n  </tbody>\n</table>\n</div>",
            "text/plain": "   Code                  Area  2004  2005  2006  2007  2008  2009  2010  2011  \\\n3  00AA        City of London     0     0     0     0     0     0     0     0   \n4  00AB  Barking and Dagenham  10.8    12  11.2  10.8  10.6  15.5   9.7  13.7   \n5  00AC                Barnet  13.3  12.2    10    12    11  13.2  12.1  10.9   \n6  00AD                Bexley  17.3  17.8  17.5  15.1  15.5  15.7    17    19   \n7  00AE                 Brent  11.1  15.3   9.7   6.7  10.7   7.8  10.3  14.8   \n\n   2012  2013  2014  2015  2016  2017  2018  \n3     0     0     0     0     0     0     0  \n4  15.2  13.1    12    17    13  14.5  12.6  \n5  12.5  10.6  14.6  14.4   9.9   8.7  11.9  \n6  17.9  14.2  16.9  16.8  19.5  18.2  15.3  \n7  17.8  14.9  14.3  14.4  14.1    15  14.4  "
          },
          "metadata": {}
        }
      ]
    },
    {
      "metadata": {
        "trusted": true
      },
      "cell_type": "code",
      "source": "PROC_DATA_PATH = '~/library/data/processed/'\ndf.to_csv(PROC_DATA_PATH + 'nvq3-qualifications-overtime.csv') ",
      "execution_count": 35,
      "outputs": []
    },
    {
      "metadata": {},
      "cell_type": "markdown",
      "source": "### NVQ2 over time"
    },
    {
      "metadata": {
        "trusted": true
      },
      "cell_type": "code",
      "source": "ws2 = wb2[\"2004\"]\ndf04 = pd.DataFrame(ws2.values)\nnq04 = df04[40]",
      "execution_count": 36,
      "outputs": []
    },
    {
      "metadata": {
        "trusted": true
      },
      "cell_type": "code",
      "source": "ws2 = wb2[\"2005\"]\ndf05 = pd.DataFrame(ws2.values)\nnq05 = df05[40]",
      "execution_count": 37,
      "outputs": []
    },
    {
      "metadata": {
        "trusted": true
      },
      "cell_type": "code",
      "source": "ws2 = wb2[\"2006\"]\ndf06 = pd.DataFrame(ws2.values)\nnq06 = df06[40]",
      "execution_count": 38,
      "outputs": []
    },
    {
      "metadata": {
        "trusted": true
      },
      "cell_type": "code",
      "source": "ws2 = wb2[\"2007\"]\ndf07 = pd.DataFrame(ws2.values)\nnq07 = df07[40]",
      "execution_count": 39,
      "outputs": []
    },
    {
      "metadata": {
        "trusted": true
      },
      "cell_type": "code",
      "source": "ws2 = wb2[\"2008\"]\ndf08 = pd.DataFrame(ws2.values)\nnq08 = df08[40]",
      "execution_count": 40,
      "outputs": []
    },
    {
      "metadata": {
        "trusted": true
      },
      "cell_type": "code",
      "source": "ws2 = wb2[\"2009\"]\ndf09 = pd.DataFrame(ws2.values)\nnq09 = df09[40]",
      "execution_count": 41,
      "outputs": []
    },
    {
      "metadata": {
        "trusted": true
      },
      "cell_type": "code",
      "source": "ws2 = wb2[\"2010\"]\ndf10 = pd.DataFrame(ws2.values)\nnq10 = df10[40]",
      "execution_count": 42,
      "outputs": []
    },
    {
      "metadata": {
        "trusted": true
      },
      "cell_type": "code",
      "source": "ws2 = wb2[\"2011\"]\ndf11 = pd.DataFrame(ws2.values)\nnq11 = df11[40]",
      "execution_count": 43,
      "outputs": []
    },
    {
      "metadata": {
        "trusted": true
      },
      "cell_type": "code",
      "source": "ws2 = wb2[\"2012\"]\ndf12 = pd.DataFrame(ws2.values)\nnq12 = df12[40]",
      "execution_count": 44,
      "outputs": []
    },
    {
      "metadata": {
        "trusted": true
      },
      "cell_type": "code",
      "source": "ws2 = wb2[\"2013\"]\ndf13 = pd.DataFrame(ws2.values)\nnq13 = df13[40]",
      "execution_count": 45,
      "outputs": []
    },
    {
      "metadata": {
        "trusted": true
      },
      "cell_type": "code",
      "source": "ws2 = wb2[\"2014\"]\ndf14 = pd.DataFrame(ws2.values)\nnq14 = df14[40]",
      "execution_count": 46,
      "outputs": []
    },
    {
      "metadata": {
        "trusted": true
      },
      "cell_type": "code",
      "source": "ws2 = wb2[\"2015\"]\ndf15 = pd.DataFrame(ws2.values)\nnq15 = df15[40]",
      "execution_count": 47,
      "outputs": []
    },
    {
      "metadata": {
        "trusted": true
      },
      "cell_type": "code",
      "source": "ws2 = wb2[\"2016\"]\ndf16 = pd.DataFrame(ws2.values)\nnq16 = df16[40]",
      "execution_count": 48,
      "outputs": []
    },
    {
      "metadata": {
        "trusted": true
      },
      "cell_type": "code",
      "source": "ws2 = wb2[\"2017\"]\ndf17 = pd.DataFrame(ws2.values)\nnq17 = df17[40]",
      "execution_count": 49,
      "outputs": []
    },
    {
      "metadata": {
        "trusted": true
      },
      "cell_type": "code",
      "source": "ws2 = wb2[\"2018\"]\ndf18 = pd.DataFrame(ws2.values)\nnq18 = df18[40]",
      "execution_count": 50,
      "outputs": []
    },
    {
      "metadata": {
        "trusted": true
      },
      "cell_type": "code",
      "source": "df = df18",
      "execution_count": 51,
      "outputs": []
    },
    {
      "metadata": {
        "trusted": true
      },
      "cell_type": "code",
      "source": "#using only the borough key of df\nbulk = df.iloc[::, 2:]",
      "execution_count": 52,
      "outputs": []
    },
    {
      "metadata": {
        "trusted": true
      },
      "cell_type": "code",
      "source": "df.drop(bulk, axis=1, inplace=True)",
      "execution_count": 53,
      "outputs": []
    },
    {
      "metadata": {
        "trusted": true
      },
      "cell_type": "code",
      "source": "df = pd.concat([df, nq04], axis=1)\ndf = pd.concat([df, nq05], axis=1)\ndf = pd.concat([df, nq06], axis=1)\ndf = pd.concat([df, nq07], axis=1)\ndf = pd.concat([df, nq08], axis=1)\ndf = pd.concat([df, nq09], axis=1)\ndf = pd.concat([df, nq10], axis=1)\ndf = pd.concat([df, nq11], axis=1)\ndf = pd.concat([df, nq12], axis=1)\ndf = pd.concat([df, nq13], axis=1)\ndf = pd.concat([df, nq14], axis=1)\ndf = pd.concat([df, nq15], axis=1)\ndf = pd.concat([df, nq16], axis=1)\ndf = pd.concat([df, nq17], axis=1)\ndf = pd.concat([df, nq18], axis=1)\ndf",
      "execution_count": 54,
      "outputs": [
        {
          "output_type": "execute_result",
          "execution_count": 54,
          "data": {
            "text/html": "<div>\n<style scoped>\n    .dataframe tbody tr th:only-of-type {\n        vertical-align: middle;\n    }\n\n    .dataframe tbody tr th {\n        vertical-align: top;\n    }\n\n    .dataframe thead th {\n        text-align: right;\n    }\n</style>\n<table border=\"1\" class=\"dataframe\">\n  <thead>\n    <tr style=\"text-align: right;\">\n      <th></th>\n      <th>0</th>\n      <th>1</th>\n      <th>40</th>\n      <th>40</th>\n      <th>40</th>\n      <th>40</th>\n      <th>40</th>\n      <th>40</th>\n      <th>40</th>\n      <th>40</th>\n      <th>40</th>\n      <th>40</th>\n      <th>40</th>\n      <th>40</th>\n      <th>40</th>\n      <th>40</th>\n      <th>40</th>\n    </tr>\n  </thead>\n  <tbody>\n    <tr>\n      <th>0</th>\n      <td>None</td>\n      <td>None</td>\n      <td>None</td>\n      <td>None</td>\n      <td>None</td>\n      <td>None</td>\n      <td>None</td>\n      <td>None</td>\n      <td>None</td>\n      <td>None</td>\n      <td>None</td>\n      <td>None</td>\n      <td>None</td>\n      <td>None</td>\n      <td>None</td>\n      <td>None</td>\n      <td>None</td>\n    </tr>\n    <tr>\n      <th>1</th>\n      <td>Code</td>\n      <td>Area</td>\n      <td>percent</td>\n      <td>percent</td>\n      <td>percent</td>\n      <td>percent</td>\n      <td>percent</td>\n      <td>percent</td>\n      <td>percent</td>\n      <td>percent</td>\n      <td>percent</td>\n      <td>percent</td>\n      <td>percent</td>\n      <td>percent</td>\n      <td>percent</td>\n      <td>percent</td>\n      <td>percent</td>\n    </tr>\n    <tr>\n      <th>2</th>\n      <td>None</td>\n      <td>None</td>\n      <td>None</td>\n      <td>None</td>\n      <td>None</td>\n      <td>None</td>\n      <td>None</td>\n      <td>None</td>\n      <td>None</td>\n      <td>None</td>\n      <td>None</td>\n      <td>None</td>\n      <td>None</td>\n      <td>None</td>\n      <td>None</td>\n      <td>None</td>\n      <td>None</td>\n    </tr>\n    <tr>\n      <th>3</th>\n      <td>00AA</td>\n      <td>City of London</td>\n      <td>!</td>\n      <td>!</td>\n      <td>!</td>\n      <td>!</td>\n      <td>!</td>\n      <td>!</td>\n      <td>!</td>\n      <td>!</td>\n      <td>!</td>\n      <td>!</td>\n      <td>!</td>\n      <td>!</td>\n      <td>!</td>\n      <td>!</td>\n      <td>!</td>\n    </tr>\n    <tr>\n      <th>4</th>\n      <td>00AB</td>\n      <td>Barking and Dagenham</td>\n      <td>12.7</td>\n      <td>12</td>\n      <td>15.2</td>\n      <td>14.2</td>\n      <td>12.2</td>\n      <td>13.4</td>\n      <td>16.5</td>\n      <td>16.3</td>\n      <td>19.2</td>\n      <td>14.6</td>\n      <td>15.4</td>\n      <td>13.9</td>\n      <td>14.6</td>\n      <td>16.4</td>\n      <td>15.6</td>\n    </tr>\n    <tr>\n      <th>5</th>\n      <td>00AC</td>\n      <td>Barnet</td>\n      <td>13</td>\n      <td>9.9</td>\n      <td>11</td>\n      <td>7.9</td>\n      <td>9.3</td>\n      <td>11.8</td>\n      <td>8.7</td>\n      <td>9.3</td>\n      <td>11.2</td>\n      <td>9.9</td>\n      <td>8.7</td>\n      <td>10.4</td>\n      <td>7.3</td>\n      <td>7.2</td>\n      <td>9.9</td>\n    </tr>\n    <tr>\n      <th>6</th>\n      <td>00AD</td>\n      <td>Bexley</td>\n      <td>22.4</td>\n      <td>20.3</td>\n      <td>17.7</td>\n      <td>21.4</td>\n      <td>20</td>\n      <td>20.2</td>\n      <td>20.2</td>\n      <td>19.2</td>\n      <td>20.4</td>\n      <td>22.9</td>\n      <td>21.8</td>\n      <td>17.8</td>\n      <td>16.6</td>\n      <td>16.1</td>\n      <td>14.5</td>\n    </tr>\n    <tr>\n      <th>7</th>\n      <td>00AE</td>\n      <td>Brent</td>\n      <td>8.7</td>\n      <td>7.5</td>\n      <td>8.3</td>\n      <td>9.9</td>\n      <td>9.1</td>\n      <td>8.8</td>\n      <td>8.9</td>\n      <td>11.4</td>\n      <td>10.5</td>\n      <td>9.3</td>\n      <td>9.4</td>\n      <td>10.3</td>\n      <td>9.9</td>\n      <td>11.4</td>\n      <td>15.8</td>\n    </tr>\n    <tr>\n      <th>8</th>\n      <td>00AF</td>\n      <td>Bromley</td>\n      <td>15.2</td>\n      <td>14.9</td>\n      <td>14</td>\n      <td>17</td>\n      <td>15.8</td>\n      <td>19.1</td>\n      <td>17.8</td>\n      <td>12.8</td>\n      <td>11.6</td>\n      <td>13.1</td>\n      <td>13.7</td>\n      <td>13.7</td>\n      <td>11.5</td>\n      <td>13.8</td>\n      <td>13.3</td>\n    </tr>\n    <tr>\n      <th>9</th>\n      <td>00AG</td>\n      <td>Camden</td>\n      <td>7.1</td>\n      <td>7</td>\n      <td>6.8</td>\n      <td>6.9</td>\n      <td>7</td>\n      <td>8</td>\n      <td>8.4</td>\n      <td>7.2</td>\n      <td>7.6</td>\n      <td>5.9</td>\n      <td>5.2</td>\n      <td>5.9</td>\n      <td>5.3</td>\n      <td>4.8</td>\n      <td>4.9</td>\n    </tr>\n    <tr>\n      <th>10</th>\n      <td>00AH</td>\n      <td>Croydon</td>\n      <td>14.6</td>\n      <td>14.4</td>\n      <td>14.5</td>\n      <td>12.6</td>\n      <td>13.7</td>\n      <td>14.7</td>\n      <td>14.4</td>\n      <td>16.5</td>\n      <td>14.1</td>\n      <td>11.7</td>\n      <td>12.8</td>\n      <td>13.1</td>\n      <td>12.1</td>\n      <td>13.4</td>\n      <td>12.3</td>\n    </tr>\n    <tr>\n      <th>11</th>\n      <td>00AJ</td>\n      <td>Ealing</td>\n      <td>9.9</td>\n      <td>8.7</td>\n      <td>9.4</td>\n      <td>6.4</td>\n      <td>10.3</td>\n      <td>8.5</td>\n      <td>8.8</td>\n      <td>7.4</td>\n      <td>12</td>\n      <td>10.6</td>\n      <td>10.6</td>\n      <td>8.4</td>\n      <td>5.5</td>\n      <td>7.1</td>\n      <td>6.2</td>\n    </tr>\n    <tr>\n      <th>12</th>\n      <td>00AK</td>\n      <td>Enfield</td>\n      <td>12.5</td>\n      <td>10.1</td>\n      <td>11.6</td>\n      <td>11</td>\n      <td>11.5</td>\n      <td>9.9</td>\n      <td>13.2</td>\n      <td>12.5</td>\n      <td>13.4</td>\n      <td>14.2</td>\n      <td>10.1</td>\n      <td>11.1</td>\n      <td>16.2</td>\n      <td>12.4</td>\n      <td>8</td>\n    </tr>\n    <tr>\n      <th>13</th>\n      <td>00AL</td>\n      <td>Greenwich</td>\n      <td>14</td>\n      <td>13</td>\n      <td>15.2</td>\n      <td>13.6</td>\n      <td>14.6</td>\n      <td>12.2</td>\n      <td>12.6</td>\n      <td>10.7</td>\n      <td>14.4</td>\n      <td>13.9</td>\n      <td>12.6</td>\n      <td>10.4</td>\n      <td>13.4</td>\n      <td>10.1</td>\n      <td>9.8</td>\n    </tr>\n    <tr>\n      <th>14</th>\n      <td>00AM</td>\n      <td>Hackney</td>\n      <td>7.5</td>\n      <td>8.2</td>\n      <td>11.9</td>\n      <td>9.8</td>\n      <td>8.7</td>\n      <td>8.7</td>\n      <td>10.6</td>\n      <td>12.5</td>\n      <td>10.9</td>\n      <td>9.1</td>\n      <td>8.2</td>\n      <td>9.3</td>\n      <td>8.1</td>\n      <td>6.2</td>\n      <td>6.9</td>\n    </tr>\n    <tr>\n      <th>15</th>\n      <td>00AN</td>\n      <td>Hammersmith and Fulham</td>\n      <td>4</td>\n      <td>6.1</td>\n      <td>5.3</td>\n      <td>4.8</td>\n      <td>7</td>\n      <td>6.2</td>\n      <td>6.9</td>\n      <td>5.5</td>\n      <td>5.7</td>\n      <td>4.8</td>\n      <td>6</td>\n      <td>4.5</td>\n      <td>4.4</td>\n      <td>5.2</td>\n      <td>5.3</td>\n    </tr>\n    <tr>\n      <th>16</th>\n      <td>00AP</td>\n      <td>Haringey</td>\n      <td>8.9</td>\n      <td>10</td>\n      <td>8.2</td>\n      <td>9.1</td>\n      <td>5.3</td>\n      <td>6.9</td>\n      <td>8.5</td>\n      <td>9.6</td>\n      <td>7.9</td>\n      <td>9.6</td>\n      <td>6.8</td>\n      <td>6.3</td>\n      <td>5.3</td>\n      <td>7.9</td>\n      <td>6.1</td>\n    </tr>\n    <tr>\n      <th>17</th>\n      <td>00AQ</td>\n      <td>Harrow</td>\n      <td>12.3</td>\n      <td>12.2</td>\n      <td>10.4</td>\n      <td>10.9</td>\n      <td>13</td>\n      <td>10.8</td>\n      <td>11.3</td>\n      <td>12.7</td>\n      <td>9.1</td>\n      <td>10.7</td>\n      <td>8.1</td>\n      <td>7.1</td>\n      <td>9.4</td>\n      <td>11</td>\n      <td>11.9</td>\n    </tr>\n    <tr>\n      <th>18</th>\n      <td>00AR</td>\n      <td>Havering</td>\n      <td>22.9</td>\n      <td>15.6</td>\n      <td>15.9</td>\n      <td>16.7</td>\n      <td>19.2</td>\n      <td>18.7</td>\n      <td>18</td>\n      <td>21.8</td>\n      <td>21.1</td>\n      <td>21.8</td>\n      <td>23.1</td>\n      <td>17.2</td>\n      <td>18.8</td>\n      <td>21.5</td>\n      <td>17.8</td>\n    </tr>\n    <tr>\n      <th>19</th>\n      <td>00AS</td>\n      <td>Hillingdon</td>\n      <td>14.6</td>\n      <td>12.4</td>\n      <td>13.7</td>\n      <td>12.1</td>\n      <td>16.9</td>\n      <td>13</td>\n      <td>16.7</td>\n      <td>15.5</td>\n      <td>16.1</td>\n      <td>14.1</td>\n      <td>11.1</td>\n      <td>13.6</td>\n      <td>14.1</td>\n      <td>12.8</td>\n      <td>11</td>\n    </tr>\n    <tr>\n      <th>20</th>\n      <td>00AT</td>\n      <td>Hounslow</td>\n      <td>11.6</td>\n      <td>11.2</td>\n      <td>10.2</td>\n      <td>10.8</td>\n      <td>9</td>\n      <td>12.2</td>\n      <td>10.8</td>\n      <td>12.4</td>\n      <td>12.1</td>\n      <td>12</td>\n      <td>10.5</td>\n      <td>10.1</td>\n      <td>10.3</td>\n      <td>8.7</td>\n      <td>9</td>\n    </tr>\n    <tr>\n      <th>21</th>\n      <td>00AU</td>\n      <td>Islington</td>\n      <td>7.5</td>\n      <td>8.4</td>\n      <td>10.8</td>\n      <td>10.9</td>\n      <td>8.6</td>\n      <td>9.1</td>\n      <td>4.9</td>\n      <td>5.5</td>\n      <td>7.4</td>\n      <td>4.7</td>\n      <td>5.6</td>\n      <td>4.8</td>\n      <td>7</td>\n      <td>7.9</td>\n      <td>6.6</td>\n    </tr>\n    <tr>\n      <th>22</th>\n      <td>00AW</td>\n      <td>Kensington and Chelsea</td>\n      <td>3.8</td>\n      <td>6.8</td>\n      <td>6</td>\n      <td>5.9</td>\n      <td>5.3</td>\n      <td>4.9</td>\n      <td>6.7</td>\n      <td>5</td>\n      <td>7.6</td>\n      <td>7</td>\n      <td>5</td>\n      <td>6</td>\n      <td>7.1</td>\n      <td>6.2</td>\n      <td>4.7</td>\n    </tr>\n    <tr>\n      <th>23</th>\n      <td>00AX</td>\n      <td>Kingston upon Thames</td>\n      <td>10.7</td>\n      <td>13.3</td>\n      <td>11.6</td>\n      <td>11.9</td>\n      <td>8.2</td>\n      <td>9.8</td>\n      <td>8.9</td>\n      <td>12.9</td>\n      <td>11.3</td>\n      <td>11.3</td>\n      <td>11.4</td>\n      <td>7.8</td>\n      <td>6.9</td>\n      <td>11.6</td>\n      <td>6.9</td>\n    </tr>\n    <tr>\n      <th>24</th>\n      <td>00AY</td>\n      <td>Lambeth</td>\n      <td>7.6</td>\n      <td>9.6</td>\n      <td>9</td>\n      <td>8.4</td>\n      <td>8.9</td>\n      <td>6.8</td>\n      <td>8.4</td>\n      <td>5.2</td>\n      <td>7.1</td>\n      <td>5.6</td>\n      <td>5.4</td>\n      <td>4.1</td>\n      <td>7.7</td>\n      <td>2.8</td>\n      <td>5.7</td>\n    </tr>\n    <tr>\n      <th>25</th>\n      <td>00AZ</td>\n      <td>Lewisham</td>\n      <td>11.4</td>\n      <td>9</td>\n      <td>13.5</td>\n      <td>13.8</td>\n      <td>10</td>\n      <td>11.9</td>\n      <td>10.5</td>\n      <td>8.7</td>\n      <td>6.7</td>\n      <td>9</td>\n      <td>9.5</td>\n      <td>9.1</td>\n      <td>10.2</td>\n      <td>9.2</td>\n      <td>8.8</td>\n    </tr>\n    <tr>\n      <th>26</th>\n      <td>00BA</td>\n      <td>Merton</td>\n      <td>11.1</td>\n      <td>9.6</td>\n      <td>9.4</td>\n      <td>10.7</td>\n      <td>11.8</td>\n      <td>9</td>\n      <td>8.7</td>\n      <td>9.4</td>\n      <td>9.3</td>\n      <td>7.1</td>\n      <td>9.8</td>\n      <td>7.9</td>\n      <td>6.1</td>\n      <td>7.8</td>\n      <td>9.4</td>\n    </tr>\n    <tr>\n      <th>27</th>\n      <td>00BB</td>\n      <td>Newham</td>\n      <td>11.7</td>\n      <td>11.2</td>\n      <td>9</td>\n      <td>10.2</td>\n      <td>10.2</td>\n      <td>9.6</td>\n      <td>10.7</td>\n      <td>8.2</td>\n      <td>11.9</td>\n      <td>10.8</td>\n      <td>10.2</td>\n      <td>7.8</td>\n      <td>7.4</td>\n      <td>8.7</td>\n      <td>6</td>\n    </tr>\n    <tr>\n      <th>28</th>\n      <td>00BC</td>\n      <td>Redbridge</td>\n      <td>14.7</td>\n      <td>12</td>\n      <td>10.6</td>\n      <td>8.3</td>\n      <td>11.5</td>\n      <td>13.3</td>\n      <td>11.2</td>\n      <td>13.7</td>\n      <td>11.2</td>\n      <td>13</td>\n      <td>10.2</td>\n      <td>9.2</td>\n      <td>11</td>\n      <td>8.2</td>\n      <td>11.2</td>\n    </tr>\n    <tr>\n      <th>29</th>\n      <td>00BD</td>\n      <td>Richmond upon Thames</td>\n      <td>7.4</td>\n      <td>8.8</td>\n      <td>9.8</td>\n      <td>9</td>\n      <td>8.4</td>\n      <td>9.3</td>\n      <td>8.6</td>\n      <td>8.6</td>\n      <td>6.8</td>\n      <td>7.9</td>\n      <td>6.9</td>\n      <td>5.3</td>\n      <td>6.1</td>\n      <td>6.9</td>\n      <td>5.5</td>\n    </tr>\n    <tr>\n      <th>30</th>\n      <td>00BE</td>\n      <td>Southwark</td>\n      <td>8.5</td>\n      <td>5.5</td>\n      <td>10.6</td>\n      <td>10.3</td>\n      <td>6.4</td>\n      <td>7.9</td>\n      <td>7.6</td>\n      <td>7</td>\n      <td>8.3</td>\n      <td>7.4</td>\n      <td>7.5</td>\n      <td>7.2</td>\n      <td>7.6</td>\n      <td>5.6</td>\n      <td>5.3</td>\n    </tr>\n    <tr>\n      <th>31</th>\n      <td>00BF</td>\n      <td>Sutton</td>\n      <td>18.4</td>\n      <td>16.3</td>\n      <td>16.2</td>\n      <td>19.3</td>\n      <td>20.4</td>\n      <td>13.4</td>\n      <td>16.3</td>\n      <td>16.7</td>\n      <td>16.9</td>\n      <td>12.5</td>\n      <td>13.7</td>\n      <td>16.1</td>\n      <td>12.9</td>\n      <td>9.8</td>\n      <td>11.8</td>\n    </tr>\n    <tr>\n      <th>32</th>\n      <td>00BG</td>\n      <td>Tower Hamlets</td>\n      <td>10.3</td>\n      <td>7.8</td>\n      <td>9.2</td>\n      <td>7.8</td>\n      <td>10</td>\n      <td>10.6</td>\n      <td>7.7</td>\n      <td>8.9</td>\n      <td>8.6</td>\n      <td>9.9</td>\n      <td>11.9</td>\n      <td>10.4</td>\n      <td>7.5</td>\n      <td>7.9</td>\n      <td>8.9</td>\n    </tr>\n    <tr>\n      <th>33</th>\n      <td>00BH</td>\n      <td>Waltham Forest</td>\n      <td>15.5</td>\n      <td>17.2</td>\n      <td>14.1</td>\n      <td>10.7</td>\n      <td>9.3</td>\n      <td>8.1</td>\n      <td>10.3</td>\n      <td>13.5</td>\n      <td>10.7</td>\n      <td>13.4</td>\n      <td>11.7</td>\n      <td>11.6</td>\n      <td>8</td>\n      <td>9.9</td>\n      <td>9.1</td>\n    </tr>\n    <tr>\n      <th>34</th>\n      <td>00BJ</td>\n      <td>Wandsworth</td>\n      <td>9.4</td>\n      <td>6.6</td>\n      <td>5.8</td>\n      <td>5.6</td>\n      <td>5</td>\n      <td>5.9</td>\n      <td>6.2</td>\n      <td>5.9</td>\n      <td>5.1</td>\n      <td>4.8</td>\n      <td>7</td>\n      <td>4.3</td>\n      <td>5.5</td>\n      <td>5.9</td>\n      <td>6.1</td>\n    </tr>\n    <tr>\n      <th>35</th>\n      <td>00BK</td>\n      <td>Westminster</td>\n      <td>7.2</td>\n      <td>7</td>\n      <td>6.9</td>\n      <td>6.5</td>\n      <td>7.3</td>\n      <td>5.9</td>\n      <td>4.9</td>\n      <td>5.6</td>\n      <td>4.3</td>\n      <td>5.7</td>\n      <td>5.1</td>\n      <td>5.6</td>\n      <td>5.7</td>\n      <td>4.4</td>\n      <td>5.4</td>\n    </tr>\n    <tr>\n      <th>36</th>\n      <td>None</td>\n      <td>None</td>\n      <td>None</td>\n      <td>None</td>\n      <td>None</td>\n      <td>None</td>\n      <td>None</td>\n      <td>None</td>\n      <td>None</td>\n      <td>None</td>\n      <td>None</td>\n      <td>None</td>\n      <td>None</td>\n      <td>None</td>\n      <td>None</td>\n      <td>None</td>\n      <td>None</td>\n    </tr>\n    <tr>\n      <th>37</th>\n      <td>A</td>\n      <td>North East</td>\n      <td>17.9</td>\n      <td>18.9</td>\n      <td>18.2</td>\n      <td>18.6</td>\n      <td>19</td>\n      <td>18.9</td>\n      <td>18.7</td>\n      <td>20.5</td>\n      <td>19.2</td>\n      <td>18.4</td>\n      <td>19.1</td>\n      <td>18.3</td>\n      <td>18.9</td>\n      <td>18.2</td>\n      <td>18.4</td>\n    </tr>\n    <tr>\n      <th>38</th>\n      <td>B</td>\n      <td>North West</td>\n      <td>16.7</td>\n      <td>16.7</td>\n      <td>17.1</td>\n      <td>17.5</td>\n      <td>17.5</td>\n      <td>17.9</td>\n      <td>17.4</td>\n      <td>18.4</td>\n      <td>17.7</td>\n      <td>18</td>\n      <td>18.7</td>\n      <td>17.5</td>\n      <td>17</td>\n      <td>17</td>\n      <td>16.2</td>\n    </tr>\n    <tr>\n      <th>39</th>\n      <td>D</td>\n      <td>Yorkshire and The Humber</td>\n      <td>16.1</td>\n      <td>17</td>\n      <td>16.7</td>\n      <td>16.6</td>\n      <td>17</td>\n      <td>16.8</td>\n      <td>17.3</td>\n      <td>18.9</td>\n      <td>17</td>\n      <td>17.5</td>\n      <td>17.5</td>\n      <td>16.1</td>\n      <td>16.2</td>\n      <td>16.1</td>\n      <td>15.6</td>\n    </tr>\n    <tr>\n      <th>40</th>\n      <td>E</td>\n      <td>East Midlands</td>\n      <td>15.5</td>\n      <td>15.2</td>\n      <td>15.6</td>\n      <td>16.1</td>\n      <td>16.9</td>\n      <td>16.9</td>\n      <td>16.8</td>\n      <td>18</td>\n      <td>17.8</td>\n      <td>17.2</td>\n      <td>17.8</td>\n      <td>17.5</td>\n      <td>17.5</td>\n      <td>16.6</td>\n      <td>15.5</td>\n    </tr>\n    <tr>\n      <th>41</th>\n      <td>F</td>\n      <td>West Midlands</td>\n      <td>16.3</td>\n      <td>17.6</td>\n      <td>17.3</td>\n      <td>17</td>\n      <td>17.5</td>\n      <td>17.3</td>\n      <td>17.1</td>\n      <td>18.4</td>\n      <td>17.9</td>\n      <td>16.7</td>\n      <td>16.9</td>\n      <td>16.9</td>\n      <td>16.8</td>\n      <td>17.2</td>\n      <td>16.9</td>\n    </tr>\n    <tr>\n      <th>42</th>\n      <td>G</td>\n      <td>East</td>\n      <td>16.6</td>\n      <td>16.9</td>\n      <td>16.8</td>\n      <td>16.2</td>\n      <td>16.8</td>\n      <td>17</td>\n      <td>17.3</td>\n      <td>18.8</td>\n      <td>18.5</td>\n      <td>18.9</td>\n      <td>17.6</td>\n      <td>17.5</td>\n      <td>16.3</td>\n      <td>17.4</td>\n      <td>17.3</td>\n    </tr>\n    <tr>\n      <th>43</th>\n      <td>H</td>\n      <td>London</td>\n      <td>11.6</td>\n      <td>10.7</td>\n      <td>11</td>\n      <td>10.7</td>\n      <td>10.7</td>\n      <td>10.6</td>\n      <td>10.7</td>\n      <td>10.8</td>\n      <td>10.9</td>\n      <td>10.5</td>\n      <td>10.1</td>\n      <td>9.4</td>\n      <td>9.3</td>\n      <td>9.2</td>\n      <td>9</td>\n    </tr>\n    <tr>\n      <th>44</th>\n      <td>J</td>\n      <td>South East</td>\n      <td>15.7</td>\n      <td>16</td>\n      <td>16</td>\n      <td>16</td>\n      <td>15.6</td>\n      <td>16.2</td>\n      <td>16.6</td>\n      <td>16.2</td>\n      <td>16.7</td>\n      <td>16.8</td>\n      <td>16</td>\n      <td>15.9</td>\n      <td>15</td>\n      <td>15.2</td>\n      <td>14.8</td>\n    </tr>\n    <tr>\n      <th>45</th>\n      <td>K</td>\n      <td>South West</td>\n      <td>16.5</td>\n      <td>17.3</td>\n      <td>17</td>\n      <td>16.4</td>\n      <td>16.4</td>\n      <td>17.1</td>\n      <td>17</td>\n      <td>17.6</td>\n      <td>17.9</td>\n      <td>17.8</td>\n      <td>17</td>\n      <td>16.7</td>\n      <td>16.5</td>\n      <td>16</td>\n      <td>15.4</td>\n    </tr>\n    <tr>\n      <th>46</th>\n      <td>None</td>\n      <td>None</td>\n      <td>None</td>\n      <td>None</td>\n      <td>None</td>\n      <td>None</td>\n      <td>None</td>\n      <td>None</td>\n      <td>None</td>\n      <td>None</td>\n      <td>None</td>\n      <td>None</td>\n      <td>None</td>\n      <td>None</td>\n      <td>None</td>\n      <td>None</td>\n      <td>None</td>\n    </tr>\n    <tr>\n      <th>47</th>\n      <td>921</td>\n      <td>England</td>\n      <td>15.6</td>\n      <td>15.9</td>\n      <td>15.8</td>\n      <td>15.7</td>\n      <td>15.9</td>\n      <td>16.1</td>\n      <td>16.1</td>\n      <td>16.9</td>\n      <td>16.6</td>\n      <td>16.4</td>\n      <td>16.2</td>\n      <td>15.6</td>\n      <td>15.2</td>\n      <td>15.2</td>\n      <td>14.8</td>\n    </tr>\n    <tr>\n      <th>48</th>\n      <td>924</td>\n      <td>Wales</td>\n      <td>17.7</td>\n      <td>18.2</td>\n      <td>17.6</td>\n      <td>17.7</td>\n      <td>17.7</td>\n      <td>17.2</td>\n      <td>17.8</td>\n      <td>18</td>\n      <td>17.5</td>\n      <td>16.8</td>\n      <td>16.8</td>\n      <td>17.2</td>\n      <td>16.6</td>\n      <td>17.3</td>\n      <td>16.3</td>\n    </tr>\n    <tr>\n      <th>49</th>\n      <td>923</td>\n      <td>Scotland</td>\n      <td>12.8</td>\n      <td>13.6</td>\n      <td>13.8</td>\n      <td>13.8</td>\n      <td>13.7</td>\n      <td>14.1</td>\n      <td>14</td>\n      <td>14.5</td>\n      <td>14.3</td>\n      <td>14.2</td>\n      <td>13.7</td>\n      <td>13.6</td>\n      <td>12.6</td>\n      <td>13.1</td>\n      <td>12.7</td>\n    </tr>\n    <tr>\n      <th>50</th>\n      <td>922</td>\n      <td>Northern Ireland</td>\n      <td>16</td>\n      <td>16.5</td>\n      <td>17.2</td>\n      <td>16.8</td>\n      <td>14.9</td>\n      <td>14.6</td>\n      <td>16.3</td>\n      <td>16.3</td>\n      <td>16.1</td>\n      <td>15.8</td>\n      <td>16.1</td>\n      <td>16.1</td>\n      <td>16.6</td>\n      <td>14.8</td>\n      <td>15.5</td>\n    </tr>\n    <tr>\n      <th>51</th>\n      <td>None</td>\n      <td>None</td>\n      <td>None</td>\n      <td>None</td>\n      <td>None</td>\n      <td>None</td>\n      <td>None</td>\n      <td>None</td>\n      <td>None</td>\n      <td>None</td>\n      <td>None</td>\n      <td>None</td>\n      <td>None</td>\n      <td>None</td>\n      <td>None</td>\n      <td>None</td>\n      <td>None</td>\n    </tr>\n    <tr>\n      <th>52</th>\n      <td>941</td>\n      <td>England and Wales</td>\n      <td>15.7</td>\n      <td>16</td>\n      <td>15.9</td>\n      <td>15.8</td>\n      <td>16</td>\n      <td>16.1</td>\n      <td>16.2</td>\n      <td>16.9</td>\n      <td>16.6</td>\n      <td>16.4</td>\n      <td>16.2</td>\n      <td>15.7</td>\n      <td>15.3</td>\n      <td>15.3</td>\n      <td>14.9</td>\n    </tr>\n    <tr>\n      <th>53</th>\n      <td>925</td>\n      <td>Great Britain</td>\n      <td>15.4</td>\n      <td>15.8</td>\n      <td>15.7</td>\n      <td>15.7</td>\n      <td>15.8</td>\n      <td>16</td>\n      <td>16</td>\n      <td>16.7</td>\n      <td>16.4</td>\n      <td>16.2</td>\n      <td>16</td>\n      <td>15.5</td>\n      <td>15.1</td>\n      <td>15.1</td>\n      <td>14.7</td>\n    </tr>\n    <tr>\n      <th>54</th>\n      <td>926</td>\n      <td>United Kingdom</td>\n      <td>15.4</td>\n      <td>15.8</td>\n      <td>15.8</td>\n      <td>15.7</td>\n      <td>15.8</td>\n      <td>15.9</td>\n      <td>16</td>\n      <td>16.7</td>\n      <td>16.4</td>\n      <td>16.2</td>\n      <td>16</td>\n      <td>15.5</td>\n      <td>15.1</td>\n      <td>15.1</td>\n      <td>14.7</td>\n    </tr>\n  </tbody>\n</table>\n</div>",
            "text/plain": "      0                         1        40       40       40       40  \\\n0   None                      None     None     None     None     None   \n1   Code                      Area  percent  percent  percent  percent   \n2   None                      None     None     None     None     None   \n3   00AA            City of London        !        !        !        !   \n4   00AB      Barking and Dagenham     12.7       12     15.2     14.2   \n5   00AC                    Barnet       13      9.9       11      7.9   \n6   00AD                    Bexley     22.4     20.3     17.7     21.4   \n7   00AE                     Brent      8.7      7.5      8.3      9.9   \n8   00AF                   Bromley     15.2     14.9       14       17   \n9   00AG                    Camden      7.1        7      6.8      6.9   \n10  00AH                   Croydon     14.6     14.4     14.5     12.6   \n11  00AJ                    Ealing      9.9      8.7      9.4      6.4   \n12  00AK                   Enfield     12.5     10.1     11.6       11   \n13  00AL                 Greenwich       14       13     15.2     13.6   \n14  00AM                   Hackney      7.5      8.2     11.9      9.8   \n15  00AN    Hammersmith and Fulham        4      6.1      5.3      4.8   \n16  00AP                  Haringey      8.9       10      8.2      9.1   \n17  00AQ                    Harrow     12.3     12.2     10.4     10.9   \n18  00AR                  Havering     22.9     15.6     15.9     16.7   \n19  00AS                Hillingdon     14.6     12.4     13.7     12.1   \n20  00AT                  Hounslow     11.6     11.2     10.2     10.8   \n21  00AU                 Islington      7.5      8.4     10.8     10.9   \n22  00AW    Kensington and Chelsea      3.8      6.8        6      5.9   \n23  00AX      Kingston upon Thames     10.7     13.3     11.6     11.9   \n24  00AY                   Lambeth      7.6      9.6        9      8.4   \n25  00AZ                  Lewisham     11.4        9     13.5     13.8   \n26  00BA                    Merton     11.1      9.6      9.4     10.7   \n27  00BB                    Newham     11.7     11.2        9     10.2   \n28  00BC                 Redbridge     14.7       12     10.6      8.3   \n29  00BD      Richmond upon Thames      7.4      8.8      9.8        9   \n30  00BE                 Southwark      8.5      5.5     10.6     10.3   \n31  00BF                    Sutton     18.4     16.3     16.2     19.3   \n32  00BG             Tower Hamlets     10.3      7.8      9.2      7.8   \n33  00BH            Waltham Forest     15.5     17.2     14.1     10.7   \n34  00BJ                Wandsworth      9.4      6.6      5.8      5.6   \n35  00BK               Westminster      7.2        7      6.9      6.5   \n36  None                      None     None     None     None     None   \n37     A                North East     17.9     18.9     18.2     18.6   \n38     B                North West     16.7     16.7     17.1     17.5   \n39     D  Yorkshire and The Humber     16.1       17     16.7     16.6   \n40     E             East Midlands     15.5     15.2     15.6     16.1   \n41     F             West Midlands     16.3     17.6     17.3       17   \n42     G                      East     16.6     16.9     16.8     16.2   \n43     H                    London     11.6     10.7       11     10.7   \n44     J                South East     15.7       16       16       16   \n45     K                South West     16.5     17.3       17     16.4   \n46  None                      None     None     None     None     None   \n47   921                   England     15.6     15.9     15.8     15.7   \n48   924                     Wales     17.7     18.2     17.6     17.7   \n49   923                  Scotland     12.8     13.6     13.8     13.8   \n50   922          Northern Ireland       16     16.5     17.2     16.8   \n51  None                      None     None     None     None     None   \n52   941         England and Wales     15.7       16     15.9     15.8   \n53   925             Great Britain     15.4     15.8     15.7     15.7   \n54   926            United Kingdom     15.4     15.8     15.8     15.7   \n\n         40       40       40       40       40       40       40       40  \\\n0      None     None     None     None     None     None     None     None   \n1   percent  percent  percent  percent  percent  percent  percent  percent   \n2      None     None     None     None     None     None     None     None   \n3         !        !        !        !        !        !        !        !   \n4      12.2     13.4     16.5     16.3     19.2     14.6     15.4     13.9   \n5       9.3     11.8      8.7      9.3     11.2      9.9      8.7     10.4   \n6        20     20.2     20.2     19.2     20.4     22.9     21.8     17.8   \n7       9.1      8.8      8.9     11.4     10.5      9.3      9.4     10.3   \n8      15.8     19.1     17.8     12.8     11.6     13.1     13.7     13.7   \n9         7        8      8.4      7.2      7.6      5.9      5.2      5.9   \n10     13.7     14.7     14.4     16.5     14.1     11.7     12.8     13.1   \n11     10.3      8.5      8.8      7.4       12     10.6     10.6      8.4   \n12     11.5      9.9     13.2     12.5     13.4     14.2     10.1     11.1   \n13     14.6     12.2     12.6     10.7     14.4     13.9     12.6     10.4   \n14      8.7      8.7     10.6     12.5     10.9      9.1      8.2      9.3   \n15        7      6.2      6.9      5.5      5.7      4.8        6      4.5   \n16      5.3      6.9      8.5      9.6      7.9      9.6      6.8      6.3   \n17       13     10.8     11.3     12.7      9.1     10.7      8.1      7.1   \n18     19.2     18.7       18     21.8     21.1     21.8     23.1     17.2   \n19     16.9       13     16.7     15.5     16.1     14.1     11.1     13.6   \n20        9     12.2     10.8     12.4     12.1       12     10.5     10.1   \n21      8.6      9.1      4.9      5.5      7.4      4.7      5.6      4.8   \n22      5.3      4.9      6.7        5      7.6        7        5        6   \n23      8.2      9.8      8.9     12.9     11.3     11.3     11.4      7.8   \n24      8.9      6.8      8.4      5.2      7.1      5.6      5.4      4.1   \n25       10     11.9     10.5      8.7      6.7        9      9.5      9.1   \n26     11.8        9      8.7      9.4      9.3      7.1      9.8      7.9   \n27     10.2      9.6     10.7      8.2     11.9     10.8     10.2      7.8   \n28     11.5     13.3     11.2     13.7     11.2       13     10.2      9.2   \n29      8.4      9.3      8.6      8.6      6.8      7.9      6.9      5.3   \n30      6.4      7.9      7.6        7      8.3      7.4      7.5      7.2   \n31     20.4     13.4     16.3     16.7     16.9     12.5     13.7     16.1   \n32       10     10.6      7.7      8.9      8.6      9.9     11.9     10.4   \n33      9.3      8.1     10.3     13.5     10.7     13.4     11.7     11.6   \n34        5      5.9      6.2      5.9      5.1      4.8        7      4.3   \n35      7.3      5.9      4.9      5.6      4.3      5.7      5.1      5.6   \n36     None     None     None     None     None     None     None     None   \n37       19     18.9     18.7     20.5     19.2     18.4     19.1     18.3   \n38     17.5     17.9     17.4     18.4     17.7       18     18.7     17.5   \n39       17     16.8     17.3     18.9       17     17.5     17.5     16.1   \n40     16.9     16.9     16.8       18     17.8     17.2     17.8     17.5   \n41     17.5     17.3     17.1     18.4     17.9     16.7     16.9     16.9   \n42     16.8       17     17.3     18.8     18.5     18.9     17.6     17.5   \n43     10.7     10.6     10.7     10.8     10.9     10.5     10.1      9.4   \n44     15.6     16.2     16.6     16.2     16.7     16.8       16     15.9   \n45     16.4     17.1       17     17.6     17.9     17.8       17     16.7   \n46     None     None     None     None     None     None     None     None   \n47     15.9     16.1     16.1     16.9     16.6     16.4     16.2     15.6   \n48     17.7     17.2     17.8       18     17.5     16.8     16.8     17.2   \n49     13.7     14.1       14     14.5     14.3     14.2     13.7     13.6   \n50     14.9     14.6     16.3     16.3     16.1     15.8     16.1     16.1   \n51     None     None     None     None     None     None     None     None   \n52       16     16.1     16.2     16.9     16.6     16.4     16.2     15.7   \n53     15.8       16       16     16.7     16.4     16.2       16     15.5   \n54     15.8     15.9       16     16.7     16.4     16.2       16     15.5   \n\n         40       40       40  \n0      None     None     None  \n1   percent  percent  percent  \n2      None     None     None  \n3         !        !        !  \n4      14.6     16.4     15.6  \n5       7.3      7.2      9.9  \n6      16.6     16.1     14.5  \n7       9.9     11.4     15.8  \n8      11.5     13.8     13.3  \n9       5.3      4.8      4.9  \n10     12.1     13.4     12.3  \n11      5.5      7.1      6.2  \n12     16.2     12.4        8  \n13     13.4     10.1      9.8  \n14      8.1      6.2      6.9  \n15      4.4      5.2      5.3  \n16      5.3      7.9      6.1  \n17      9.4       11     11.9  \n18     18.8     21.5     17.8  \n19     14.1     12.8       11  \n20     10.3      8.7        9  \n21        7      7.9      6.6  \n22      7.1      6.2      4.7  \n23      6.9     11.6      6.9  \n24      7.7      2.8      5.7  \n25     10.2      9.2      8.8  \n26      6.1      7.8      9.4  \n27      7.4      8.7        6  \n28       11      8.2     11.2  \n29      6.1      6.9      5.5  \n30      7.6      5.6      5.3  \n31     12.9      9.8     11.8  \n32      7.5      7.9      8.9  \n33        8      9.9      9.1  \n34      5.5      5.9      6.1  \n35      5.7      4.4      5.4  \n36     None     None     None  \n37     18.9     18.2     18.4  \n38       17       17     16.2  \n39     16.2     16.1     15.6  \n40     17.5     16.6     15.5  \n41     16.8     17.2     16.9  \n42     16.3     17.4     17.3  \n43      9.3      9.2        9  \n44       15     15.2     14.8  \n45     16.5       16     15.4  \n46     None     None     None  \n47     15.2     15.2     14.8  \n48     16.6     17.3     16.3  \n49     12.6     13.1     12.7  \n50     16.6     14.8     15.5  \n51     None     None     None  \n52     15.3     15.3     14.9  \n53     15.1     15.1     14.7  \n54     15.1     15.1     14.7  "
          },
          "metadata": {}
        }
      ]
    },
    {
      "metadata": {
        "trusted": true
      },
      "cell_type": "code",
      "source": "df.columns = ['Code', 'Area', '2004', '2005', '2006', '2007', '2008', '2009', '2010', '2011', '2012', '2013', '2014', '2015', '2016', '2017', '2018']",
      "execution_count": 55,
      "outputs": []
    },
    {
      "metadata": {
        "trusted": true,
        "scrolled": true
      },
      "cell_type": "code",
      "source": "df.head()",
      "execution_count": 56,
      "outputs": [
        {
          "output_type": "execute_result",
          "execution_count": 56,
          "data": {
            "text/html": "<div>\n<style scoped>\n    .dataframe tbody tr th:only-of-type {\n        vertical-align: middle;\n    }\n\n    .dataframe tbody tr th {\n        vertical-align: top;\n    }\n\n    .dataframe thead th {\n        text-align: right;\n    }\n</style>\n<table border=\"1\" class=\"dataframe\">\n  <thead>\n    <tr style=\"text-align: right;\">\n      <th></th>\n      <th>Code</th>\n      <th>Area</th>\n      <th>2004</th>\n      <th>2005</th>\n      <th>2006</th>\n      <th>2007</th>\n      <th>2008</th>\n      <th>2009</th>\n      <th>2010</th>\n      <th>2011</th>\n      <th>2012</th>\n      <th>2013</th>\n      <th>2014</th>\n      <th>2015</th>\n      <th>2016</th>\n      <th>2017</th>\n      <th>2018</th>\n    </tr>\n  </thead>\n  <tbody>\n    <tr>\n      <th>0</th>\n      <td>None</td>\n      <td>None</td>\n      <td>None</td>\n      <td>None</td>\n      <td>None</td>\n      <td>None</td>\n      <td>None</td>\n      <td>None</td>\n      <td>None</td>\n      <td>None</td>\n      <td>None</td>\n      <td>None</td>\n      <td>None</td>\n      <td>None</td>\n      <td>None</td>\n      <td>None</td>\n      <td>None</td>\n    </tr>\n    <tr>\n      <th>1</th>\n      <td>Code</td>\n      <td>Area</td>\n      <td>percent</td>\n      <td>percent</td>\n      <td>percent</td>\n      <td>percent</td>\n      <td>percent</td>\n      <td>percent</td>\n      <td>percent</td>\n      <td>percent</td>\n      <td>percent</td>\n      <td>percent</td>\n      <td>percent</td>\n      <td>percent</td>\n      <td>percent</td>\n      <td>percent</td>\n      <td>percent</td>\n    </tr>\n    <tr>\n      <th>2</th>\n      <td>None</td>\n      <td>None</td>\n      <td>None</td>\n      <td>None</td>\n      <td>None</td>\n      <td>None</td>\n      <td>None</td>\n      <td>None</td>\n      <td>None</td>\n      <td>None</td>\n      <td>None</td>\n      <td>None</td>\n      <td>None</td>\n      <td>None</td>\n      <td>None</td>\n      <td>None</td>\n      <td>None</td>\n    </tr>\n    <tr>\n      <th>3</th>\n      <td>00AA</td>\n      <td>City of London</td>\n      <td>!</td>\n      <td>!</td>\n      <td>!</td>\n      <td>!</td>\n      <td>!</td>\n      <td>!</td>\n      <td>!</td>\n      <td>!</td>\n      <td>!</td>\n      <td>!</td>\n      <td>!</td>\n      <td>!</td>\n      <td>!</td>\n      <td>!</td>\n      <td>!</td>\n    </tr>\n    <tr>\n      <th>4</th>\n      <td>00AB</td>\n      <td>Barking and Dagenham</td>\n      <td>12.7</td>\n      <td>12</td>\n      <td>15.2</td>\n      <td>14.2</td>\n      <td>12.2</td>\n      <td>13.4</td>\n      <td>16.5</td>\n      <td>16.3</td>\n      <td>19.2</td>\n      <td>14.6</td>\n      <td>15.4</td>\n      <td>13.9</td>\n      <td>14.6</td>\n      <td>16.4</td>\n      <td>15.6</td>\n    </tr>\n  </tbody>\n</table>\n</div>",
            "text/plain": "   Code                  Area     2004     2005     2006     2007     2008  \\\n0  None                  None     None     None     None     None     None   \n1  Code                  Area  percent  percent  percent  percent  percent   \n2  None                  None     None     None     None     None     None   \n3  00AA        City of London        !        !        !        !        !   \n4  00AB  Barking and Dagenham     12.7       12     15.2     14.2     12.2   \n\n      2009     2010     2011     2012     2013     2014     2015     2016  \\\n0     None     None     None     None     None     None     None     None   \n1  percent  percent  percent  percent  percent  percent  percent  percent   \n2     None     None     None     None     None     None     None     None   \n3        !        !        !        !        !        !        !        !   \n4     13.4     16.5     16.3     19.2     14.6     15.4     13.9     14.6   \n\n      2017     2018  \n0     None     None  \n1  percent  percent  \n2     None     None  \n3        !        !  \n4     16.4     15.6  "
          },
          "metadata": {}
        }
      ]
    },
    {
      "metadata": {
        "trusted": true
      },
      "cell_type": "code",
      "source": "df.replace('!', 0, inplace=True)",
      "execution_count": 57,
      "outputs": []
    },
    {
      "metadata": {
        "trusted": true
      },
      "cell_type": "code",
      "source": "df.drop(0, axis=0, inplace=True)\ndf.drop(1, axis=0, inplace=True)\ndf.drop(2, axis=0, inplace=True)\ndf.head()",
      "execution_count": 58,
      "outputs": [
        {
          "output_type": "execute_result",
          "execution_count": 58,
          "data": {
            "text/html": "<div>\n<style scoped>\n    .dataframe tbody tr th:only-of-type {\n        vertical-align: middle;\n    }\n\n    .dataframe tbody tr th {\n        vertical-align: top;\n    }\n\n    .dataframe thead th {\n        text-align: right;\n    }\n</style>\n<table border=\"1\" class=\"dataframe\">\n  <thead>\n    <tr style=\"text-align: right;\">\n      <th></th>\n      <th>Code</th>\n      <th>Area</th>\n      <th>2004</th>\n      <th>2005</th>\n      <th>2006</th>\n      <th>2007</th>\n      <th>2008</th>\n      <th>2009</th>\n      <th>2010</th>\n      <th>2011</th>\n      <th>2012</th>\n      <th>2013</th>\n      <th>2014</th>\n      <th>2015</th>\n      <th>2016</th>\n      <th>2017</th>\n      <th>2018</th>\n    </tr>\n  </thead>\n  <tbody>\n    <tr>\n      <th>3</th>\n      <td>00AA</td>\n      <td>City of London</td>\n      <td>0</td>\n      <td>0</td>\n      <td>0</td>\n      <td>0</td>\n      <td>0</td>\n      <td>0</td>\n      <td>0</td>\n      <td>0</td>\n      <td>0</td>\n      <td>0</td>\n      <td>0</td>\n      <td>0</td>\n      <td>0</td>\n      <td>0</td>\n      <td>0</td>\n    </tr>\n    <tr>\n      <th>4</th>\n      <td>00AB</td>\n      <td>Barking and Dagenham</td>\n      <td>12.7</td>\n      <td>12</td>\n      <td>15.2</td>\n      <td>14.2</td>\n      <td>12.2</td>\n      <td>13.4</td>\n      <td>16.5</td>\n      <td>16.3</td>\n      <td>19.2</td>\n      <td>14.6</td>\n      <td>15.4</td>\n      <td>13.9</td>\n      <td>14.6</td>\n      <td>16.4</td>\n      <td>15.6</td>\n    </tr>\n    <tr>\n      <th>5</th>\n      <td>00AC</td>\n      <td>Barnet</td>\n      <td>13</td>\n      <td>9.9</td>\n      <td>11</td>\n      <td>7.9</td>\n      <td>9.3</td>\n      <td>11.8</td>\n      <td>8.7</td>\n      <td>9.3</td>\n      <td>11.2</td>\n      <td>9.9</td>\n      <td>8.7</td>\n      <td>10.4</td>\n      <td>7.3</td>\n      <td>7.2</td>\n      <td>9.9</td>\n    </tr>\n    <tr>\n      <th>6</th>\n      <td>00AD</td>\n      <td>Bexley</td>\n      <td>22.4</td>\n      <td>20.3</td>\n      <td>17.7</td>\n      <td>21.4</td>\n      <td>20</td>\n      <td>20.2</td>\n      <td>20.2</td>\n      <td>19.2</td>\n      <td>20.4</td>\n      <td>22.9</td>\n      <td>21.8</td>\n      <td>17.8</td>\n      <td>16.6</td>\n      <td>16.1</td>\n      <td>14.5</td>\n    </tr>\n    <tr>\n      <th>7</th>\n      <td>00AE</td>\n      <td>Brent</td>\n      <td>8.7</td>\n      <td>7.5</td>\n      <td>8.3</td>\n      <td>9.9</td>\n      <td>9.1</td>\n      <td>8.8</td>\n      <td>8.9</td>\n      <td>11.4</td>\n      <td>10.5</td>\n      <td>9.3</td>\n      <td>9.4</td>\n      <td>10.3</td>\n      <td>9.9</td>\n      <td>11.4</td>\n      <td>15.8</td>\n    </tr>\n  </tbody>\n</table>\n</div>",
            "text/plain": "   Code                  Area  2004  2005  2006  2007  2008  2009  2010  2011  \\\n3  00AA        City of London     0     0     0     0     0     0     0     0   \n4  00AB  Barking and Dagenham  12.7    12  15.2  14.2  12.2  13.4  16.5  16.3   \n5  00AC                Barnet    13   9.9    11   7.9   9.3  11.8   8.7   9.3   \n6  00AD                Bexley  22.4  20.3  17.7  21.4    20  20.2  20.2  19.2   \n7  00AE                 Brent   8.7   7.5   8.3   9.9   9.1   8.8   8.9  11.4   \n\n   2012  2013  2014  2015  2016  2017  2018  \n3     0     0     0     0     0     0     0  \n4  19.2  14.6  15.4  13.9  14.6  16.4  15.6  \n5  11.2   9.9   8.7  10.4   7.3   7.2   9.9  \n6  20.4  22.9  21.8  17.8  16.6  16.1  14.5  \n7  10.5   9.3   9.4  10.3   9.9  11.4  15.8  "
          },
          "metadata": {}
        }
      ]
    },
    {
      "metadata": {
        "trusted": true
      },
      "cell_type": "code",
      "source": "PROC_DATA_PATH = '~/library/data/processed/'\ndf.to_csv(PROC_DATA_PATH + 'nvq2-qualifications-overtime.csv') ",
      "execution_count": 59,
      "outputs": []
    },
    {
      "metadata": {},
      "cell_type": "markdown",
      "source": "### NVQ1 over time"
    },
    {
      "metadata": {
        "trusted": true
      },
      "cell_type": "code",
      "source": "ws2 = wb2[\"2004\"]\ndf04 = pd.DataFrame(ws2.values)\nnq04 = df04[52]",
      "execution_count": 60,
      "outputs": []
    },
    {
      "metadata": {
        "trusted": true
      },
      "cell_type": "code",
      "source": "ws2 = wb2[\"2005\"]\ndf05 = pd.DataFrame(ws2.values)\nnq05 = df05[52]",
      "execution_count": 61,
      "outputs": []
    },
    {
      "metadata": {
        "trusted": true
      },
      "cell_type": "code",
      "source": "ws2 = wb2[\"2006\"]\ndf06 = pd.DataFrame(ws2.values)\nnq06 = df06[52]",
      "execution_count": 62,
      "outputs": []
    },
    {
      "metadata": {
        "trusted": true
      },
      "cell_type": "code",
      "source": "ws2 = wb2[\"2007\"]\ndf07 = pd.DataFrame(ws2.values)\nnq07 = df07[52]",
      "execution_count": 63,
      "outputs": []
    },
    {
      "metadata": {
        "trusted": true
      },
      "cell_type": "code",
      "source": "ws2 = wb2[\"2008\"]\ndf08 = pd.DataFrame(ws2.values)\nnq08 = df08[52]",
      "execution_count": 64,
      "outputs": []
    },
    {
      "metadata": {
        "trusted": true
      },
      "cell_type": "code",
      "source": "ws2 = wb2[\"2009\"]\ndf09 = pd.DataFrame(ws2.values)\nnq09 = df09[52]",
      "execution_count": 65,
      "outputs": []
    },
    {
      "metadata": {
        "trusted": true
      },
      "cell_type": "code",
      "source": "ws2 = wb2[\"2010\"]\ndf10 = pd.DataFrame(ws2.values)\nnq10 = df10[52]",
      "execution_count": 66,
      "outputs": []
    },
    {
      "metadata": {
        "trusted": true
      },
      "cell_type": "code",
      "source": "ws2 = wb2[\"2011\"]\ndf11 = pd.DataFrame(ws2.values)\nnq11 = df11[52]",
      "execution_count": 67,
      "outputs": []
    },
    {
      "metadata": {
        "trusted": true
      },
      "cell_type": "code",
      "source": "ws2 = wb2[\"2012\"]\ndf12 = pd.DataFrame(ws2.values)\nnq12 = df12[52]",
      "execution_count": 68,
      "outputs": []
    },
    {
      "metadata": {
        "trusted": true
      },
      "cell_type": "code",
      "source": "ws2 = wb2[\"2013\"]\ndf13 = pd.DataFrame(ws2.values)\nnq13 = df13[52]",
      "execution_count": 69,
      "outputs": []
    },
    {
      "metadata": {
        "trusted": true
      },
      "cell_type": "code",
      "source": "ws2 = wb2[\"2014\"]\ndf14 = pd.DataFrame(ws2.values)\nnq14 = df14[52]",
      "execution_count": 70,
      "outputs": []
    },
    {
      "metadata": {
        "trusted": true
      },
      "cell_type": "code",
      "source": "ws2 = wb2[\"2015\"]\ndf15 = pd.DataFrame(ws2.values)\nnq15 = df15[52]",
      "execution_count": 71,
      "outputs": []
    },
    {
      "metadata": {
        "trusted": true
      },
      "cell_type": "code",
      "source": "ws2 = wb2[\"2016\"]\ndf16 = pd.DataFrame(ws2.values)\nnq16 = df16[52]",
      "execution_count": 72,
      "outputs": []
    },
    {
      "metadata": {
        "trusted": true
      },
      "cell_type": "code",
      "source": "ws2 = wb2[\"2017\"]\ndf17 = pd.DataFrame(ws2.values)\nnq17 = df17[52]",
      "execution_count": 73,
      "outputs": []
    },
    {
      "metadata": {
        "trusted": true
      },
      "cell_type": "code",
      "source": "ws2 = wb2[\"2018\"]\ndf18 = pd.DataFrame(ws2.values)\nnq18 = df18[52]",
      "execution_count": 74,
      "outputs": []
    },
    {
      "metadata": {
        "trusted": true
      },
      "cell_type": "code",
      "source": "df = df18",
      "execution_count": 75,
      "outputs": []
    },
    {
      "metadata": {
        "trusted": true
      },
      "cell_type": "code",
      "source": "#using only the borough key of df\nbulk = df.iloc[::, 2:]",
      "execution_count": 76,
      "outputs": []
    },
    {
      "metadata": {
        "trusted": true
      },
      "cell_type": "code",
      "source": "df.drop(bulk, axis=1, inplace=True)",
      "execution_count": 77,
      "outputs": []
    },
    {
      "metadata": {
        "trusted": true
      },
      "cell_type": "code",
      "source": "df = pd.concat([df, nq04], axis=1)\ndf = pd.concat([df, nq05], axis=1)\ndf = pd.concat([df, nq06], axis=1)\ndf = pd.concat([df, nq07], axis=1)\ndf = pd.concat([df, nq08], axis=1)\ndf = pd.concat([df, nq09], axis=1)\ndf = pd.concat([df, nq10], axis=1)\ndf = pd.concat([df, nq11], axis=1)\ndf = pd.concat([df, nq12], axis=1)\ndf = pd.concat([df, nq13], axis=1)\ndf = pd.concat([df, nq14], axis=1)\ndf = pd.concat([df, nq15], axis=1)\ndf = pd.concat([df, nq16], axis=1)\ndf = pd.concat([df, nq17], axis=1)\ndf = pd.concat([df, nq18], axis=1)\ndf",
      "execution_count": 78,
      "outputs": [
        {
          "output_type": "execute_result",
          "execution_count": 78,
          "data": {
            "text/html": "<div>\n<style scoped>\n    .dataframe tbody tr th:only-of-type {\n        vertical-align: middle;\n    }\n\n    .dataframe tbody tr th {\n        vertical-align: top;\n    }\n\n    .dataframe thead th {\n        text-align: right;\n    }\n</style>\n<table border=\"1\" class=\"dataframe\">\n  <thead>\n    <tr style=\"text-align: right;\">\n      <th></th>\n      <th>0</th>\n      <th>1</th>\n      <th>52</th>\n      <th>52</th>\n      <th>52</th>\n      <th>52</th>\n      <th>52</th>\n      <th>52</th>\n      <th>52</th>\n      <th>52</th>\n      <th>52</th>\n      <th>52</th>\n      <th>52</th>\n      <th>52</th>\n      <th>52</th>\n      <th>52</th>\n      <th>52</th>\n    </tr>\n  </thead>\n  <tbody>\n    <tr>\n      <th>0</th>\n      <td>None</td>\n      <td>None</td>\n      <td>None</td>\n      <td>None</td>\n      <td>None</td>\n      <td>None</td>\n      <td>None</td>\n      <td>None</td>\n      <td>None</td>\n      <td>None</td>\n      <td>None</td>\n      <td>None</td>\n      <td>None</td>\n      <td>None</td>\n      <td>None</td>\n      <td>None</td>\n      <td>None</td>\n    </tr>\n    <tr>\n      <th>1</th>\n      <td>Code</td>\n      <td>Area</td>\n      <td>percent</td>\n      <td>percent</td>\n      <td>percent</td>\n      <td>percent</td>\n      <td>percent</td>\n      <td>percent</td>\n      <td>percent</td>\n      <td>percent</td>\n      <td>percent</td>\n      <td>percent</td>\n      <td>percent</td>\n      <td>percent</td>\n      <td>percent</td>\n      <td>percent</td>\n      <td>percent</td>\n    </tr>\n    <tr>\n      <th>2</th>\n      <td>None</td>\n      <td>None</td>\n      <td>None</td>\n      <td>None</td>\n      <td>None</td>\n      <td>None</td>\n      <td>None</td>\n      <td>None</td>\n      <td>None</td>\n      <td>None</td>\n      <td>None</td>\n      <td>None</td>\n      <td>None</td>\n      <td>None</td>\n      <td>None</td>\n      <td>None</td>\n      <td>None</td>\n    </tr>\n    <tr>\n      <th>3</th>\n      <td>00AA</td>\n      <td>City of London</td>\n      <td>!</td>\n      <td>!</td>\n      <td>!</td>\n      <td>!</td>\n      <td>!</td>\n      <td>!</td>\n      <td>!</td>\n      <td>!</td>\n      <td>!</td>\n      <td>!</td>\n      <td>!</td>\n      <td>!</td>\n      <td>!</td>\n      <td>!</td>\n      <td>!</td>\n    </tr>\n    <tr>\n      <th>4</th>\n      <td>00AB</td>\n      <td>Barking and Dagenham</td>\n      <td>20.8</td>\n      <td>19.5</td>\n      <td>19.5</td>\n      <td>15</td>\n      <td>14</td>\n      <td>14.3</td>\n      <td>13.1</td>\n      <td>14.3</td>\n      <td>12.7</td>\n      <td>12.9</td>\n      <td>11.3</td>\n      <td>8.9</td>\n      <td>9.7</td>\n      <td>9.1</td>\n      <td>10.2</td>\n    </tr>\n    <tr>\n      <th>5</th>\n      <td>00AC</td>\n      <td>Barnet</td>\n      <td>6.2</td>\n      <td>6.1</td>\n      <td>7.3</td>\n      <td>9</td>\n      <td>9.8</td>\n      <td>7.4</td>\n      <td>5.8</td>\n      <td>7.5</td>\n      <td>8.2</td>\n      <td>8.2</td>\n      <td>7.4</td>\n      <td>6.4</td>\n      <td>7.6</td>\n      <td>3.3</td>\n      <td>4</td>\n    </tr>\n    <tr>\n      <th>6</th>\n      <td>00AD</td>\n      <td>Bexley</td>\n      <td>19.9</td>\n      <td>18.6</td>\n      <td>19.5</td>\n      <td>18.1</td>\n      <td>16.7</td>\n      <td>16</td>\n      <td>16.7</td>\n      <td>17.2</td>\n      <td>14</td>\n      <td>15</td>\n      <td>13.9</td>\n      <td>13</td>\n      <td>11.3</td>\n      <td>13.4</td>\n      <td>11.4</td>\n    </tr>\n    <tr>\n      <th>7</th>\n      <td>00AE</td>\n      <td>Brent</td>\n      <td>7.6</td>\n      <td>4.7</td>\n      <td>9.1</td>\n      <td>5.4</td>\n      <td>6.2</td>\n      <td>5.6</td>\n      <td>6.4</td>\n      <td>9.2</td>\n      <td>4.5</td>\n      <td>8.6</td>\n      <td>5.7</td>\n      <td>6.4</td>\n      <td>8.1</td>\n      <td>7.5</td>\n      <td>5.3</td>\n    </tr>\n    <tr>\n      <th>8</th>\n      <td>00AF</td>\n      <td>Bromley</td>\n      <td>13</td>\n      <td>13.7</td>\n      <td>11.7</td>\n      <td>11.4</td>\n      <td>12.7</td>\n      <td>11.7</td>\n      <td>9.4</td>\n      <td>10.5</td>\n      <td>11.5</td>\n      <td>8.9</td>\n      <td>9.9</td>\n      <td>8.6</td>\n      <td>8.4</td>\n      <td>7.5</td>\n      <td>4.3</td>\n    </tr>\n    <tr>\n      <th>9</th>\n      <td>00AG</td>\n      <td>Camden</td>\n      <td>4.6</td>\n      <td>6.7</td>\n      <td>4.9</td>\n      <td>5.9</td>\n      <td>7.3</td>\n      <td>5.1</td>\n      <td>5.8</td>\n      <td>5.2</td>\n      <td>4.4</td>\n      <td>4.1</td>\n      <td>3.6</td>\n      <td>4.3</td>\n      <td>4.2</td>\n      <td>2.7</td>\n      <td>5.4</td>\n    </tr>\n    <tr>\n      <th>10</th>\n      <td>00AH</td>\n      <td>Croydon</td>\n      <td>18.1</td>\n      <td>15.2</td>\n      <td>11</td>\n      <td>11.1</td>\n      <td>14.5</td>\n      <td>12.5</td>\n      <td>11.4</td>\n      <td>12</td>\n      <td>11.6</td>\n      <td>9</td>\n      <td>6.9</td>\n      <td>8.8</td>\n      <td>6.1</td>\n      <td>6.6</td>\n      <td>5.8</td>\n    </tr>\n    <tr>\n      <th>11</th>\n      <td>00AJ</td>\n      <td>Ealing</td>\n      <td>8.6</td>\n      <td>8.7</td>\n      <td>7.7</td>\n      <td>5.6</td>\n      <td>5.5</td>\n      <td>7.9</td>\n      <td>5.2</td>\n      <td>6.8</td>\n      <td>6</td>\n      <td>9</td>\n      <td>3.5</td>\n      <td>6.2</td>\n      <td>7.9</td>\n      <td>7</td>\n      <td>4.9</td>\n    </tr>\n    <tr>\n      <th>12</th>\n      <td>00AK</td>\n      <td>Enfield</td>\n      <td>15.3</td>\n      <td>16</td>\n      <td>9.5</td>\n      <td>11</td>\n      <td>11.7</td>\n      <td>10.5</td>\n      <td>12.5</td>\n      <td>12.5</td>\n      <td>12</td>\n      <td>10.9</td>\n      <td>12.4</td>\n      <td>7.3</td>\n      <td>7.8</td>\n      <td>9.7</td>\n      <td>11</td>\n    </tr>\n    <tr>\n      <th>13</th>\n      <td>00AL</td>\n      <td>Greenwich</td>\n      <td>12.5</td>\n      <td>11.9</td>\n      <td>10.4</td>\n      <td>11.1</td>\n      <td>9.8</td>\n      <td>11</td>\n      <td>12.1</td>\n      <td>9</td>\n      <td>9</td>\n      <td>6.8</td>\n      <td>6.1</td>\n      <td>9.6</td>\n      <td>7.2</td>\n      <td>4.6</td>\n      <td>6.5</td>\n    </tr>\n    <tr>\n      <th>14</th>\n      <td>00AM</td>\n      <td>Hackney</td>\n      <td>7.8</td>\n      <td>7.6</td>\n      <td>5.2</td>\n      <td>6.9</td>\n      <td>4.7</td>\n      <td>6.5</td>\n      <td>6.1</td>\n      <td>7.3</td>\n      <td>7</td>\n      <td>7.5</td>\n      <td>6.7</td>\n      <td>7.3</td>\n      <td>6</td>\n      <td>5</td>\n      <td>4.2</td>\n    </tr>\n    <tr>\n      <th>15</th>\n      <td>00AN</td>\n      <td>Hammersmith and Fulham</td>\n      <td>4.3</td>\n      <td>7</td>\n      <td>5.9</td>\n      <td>5.3</td>\n      <td>7</td>\n      <td>6.5</td>\n      <td>5.7</td>\n      <td>5.4</td>\n      <td>4.8</td>\n      <td>5.3</td>\n      <td>5</td>\n      <td>4.5</td>\n      <td>3.7</td>\n      <td>3.8</td>\n      <td>5.6</td>\n    </tr>\n    <tr>\n      <th>16</th>\n      <td>00AP</td>\n      <td>Haringey</td>\n      <td>8.6</td>\n      <td>7.6</td>\n      <td>6.4</td>\n      <td>6.5</td>\n      <td>5.7</td>\n      <td>4</td>\n      <td>6.5</td>\n      <td>4.7</td>\n      <td>4.8</td>\n      <td>5.5</td>\n      <td>6.3</td>\n      <td>5.4</td>\n      <td>5.6</td>\n      <td>4.1</td>\n      <td>4.2</td>\n    </tr>\n    <tr>\n      <th>17</th>\n      <td>00AQ</td>\n      <td>Harrow</td>\n      <td>8.7</td>\n      <td>8.7</td>\n      <td>8.5</td>\n      <td>9.1</td>\n      <td>5.7</td>\n      <td>7.9</td>\n      <td>5.2</td>\n      <td>4.8</td>\n      <td>5.4</td>\n      <td>6.1</td>\n      <td>5.8</td>\n      <td>6.3</td>\n      <td>5.6</td>\n      <td>2.7</td>\n      <td>3.7</td>\n    </tr>\n    <tr>\n      <th>18</th>\n      <td>00AR</td>\n      <td>Havering</td>\n      <td>18.9</td>\n      <td>19.9</td>\n      <td>15.9</td>\n      <td>20.8</td>\n      <td>20.6</td>\n      <td>23.1</td>\n      <td>16.7</td>\n      <td>18</td>\n      <td>15.5</td>\n      <td>14.5</td>\n      <td>13.6</td>\n      <td>19.5</td>\n      <td>17</td>\n      <td>14.1</td>\n      <td>13.7</td>\n    </tr>\n    <tr>\n      <th>19</th>\n      <td>00AS</td>\n      <td>Hillingdon</td>\n      <td>13.2</td>\n      <td>10.3</td>\n      <td>10.6</td>\n      <td>14.4</td>\n      <td>13</td>\n      <td>11.8</td>\n      <td>12.8</td>\n      <td>13</td>\n      <td>11</td>\n      <td>10.4</td>\n      <td>10.9</td>\n      <td>9.2</td>\n      <td>8.1</td>\n      <td>8.5</td>\n      <td>9.2</td>\n    </tr>\n    <tr>\n      <th>20</th>\n      <td>00AT</td>\n      <td>Hounslow</td>\n      <td>12.9</td>\n      <td>12.7</td>\n      <td>9.1</td>\n      <td>10.7</td>\n      <td>8.4</td>\n      <td>7.7</td>\n      <td>8</td>\n      <td>9.3</td>\n      <td>8.5</td>\n      <td>8.8</td>\n      <td>6.5</td>\n      <td>6.4</td>\n      <td>5.9</td>\n      <td>6</td>\n      <td>7.2</td>\n    </tr>\n    <tr>\n      <th>21</th>\n      <td>00AU</td>\n      <td>Islington</td>\n      <td>8</td>\n      <td>7.7</td>\n      <td>6.8</td>\n      <td>7.5</td>\n      <td>6.5</td>\n      <td>4.9</td>\n      <td>4.8</td>\n      <td>7.6</td>\n      <td>7.7</td>\n      <td>4.5</td>\n      <td>6.1</td>\n      <td>5.2</td>\n      <td>5.2</td>\n      <td>2.5</td>\n      <td>4.5</td>\n    </tr>\n    <tr>\n      <th>22</th>\n      <td>00AW</td>\n      <td>Kensington and Chelsea</td>\n      <td>2.7</td>\n      <td>4.7</td>\n      <td>3.4</td>\n      <td>3.3</td>\n      <td>3.6</td>\n      <td>2.8</td>\n      <td>3.2</td>\n      <td>5.2</td>\n      <td>4.1</td>\n      <td>4.3</td>\n      <td>5.1</td>\n      <td>4.1</td>\n      <td>5</td>\n      <td>5.2</td>\n      <td>6.9</td>\n    </tr>\n    <tr>\n      <th>23</th>\n      <td>00AX</td>\n      <td>Kingston upon Thames</td>\n      <td>11</td>\n      <td>9.2</td>\n      <td>9.7</td>\n      <td>7.6</td>\n      <td>6.1</td>\n      <td>6.7</td>\n      <td>6.2</td>\n      <td>10.9</td>\n      <td>6.8</td>\n      <td>7.6</td>\n      <td>6.3</td>\n      <td>4.8</td>\n      <td>4.6</td>\n      <td>3.5</td>\n      <td>4.5</td>\n    </tr>\n    <tr>\n      <th>24</th>\n      <td>00AY</td>\n      <td>Lambeth</td>\n      <td>6.8</td>\n      <td>6.7</td>\n      <td>3.5</td>\n      <td>5.6</td>\n      <td>7</td>\n      <td>6.1</td>\n      <td>4.6</td>\n      <td>5.1</td>\n      <td>6.8</td>\n      <td>3.8</td>\n      <td>6.5</td>\n      <td>3.4</td>\n      <td>2.4</td>\n      <td>3</td>\n      <td>3.7</td>\n    </tr>\n    <tr>\n      <th>25</th>\n      <td>00AZ</td>\n      <td>Lewisham</td>\n      <td>11.7</td>\n      <td>12.3</td>\n      <td>11.6</td>\n      <td>8.5</td>\n      <td>8.4</td>\n      <td>9</td>\n      <td>5.5</td>\n      <td>6.8</td>\n      <td>5.2</td>\n      <td>6.6</td>\n      <td>5.3</td>\n      <td>6.5</td>\n      <td>7.5</td>\n      <td>7.3</td>\n      <td>5.4</td>\n    </tr>\n    <tr>\n      <th>26</th>\n      <td>00BA</td>\n      <td>Merton</td>\n      <td>8.3</td>\n      <td>8.5</td>\n      <td>9.9</td>\n      <td>9.1</td>\n      <td>11.6</td>\n      <td>8.9</td>\n      <td>5.9</td>\n      <td>9.6</td>\n      <td>7.9</td>\n      <td>6.4</td>\n      <td>4.9</td>\n      <td>5.7</td>\n      <td>5.9</td>\n      <td>5.2</td>\n      <td>7.7</td>\n    </tr>\n    <tr>\n      <th>27</th>\n      <td>00BB</td>\n      <td>Newham</td>\n      <td>12.6</td>\n      <td>11.2</td>\n      <td>10.1</td>\n      <td>10.3</td>\n      <td>8.3</td>\n      <td>8.9</td>\n      <td>5.9</td>\n      <td>7.5</td>\n      <td>4.1</td>\n      <td>4</td>\n      <td>5</td>\n      <td>4.5</td>\n      <td>5.6</td>\n      <td>6.1</td>\n      <td>7.4</td>\n    </tr>\n    <tr>\n      <th>28</th>\n      <td>00BC</td>\n      <td>Redbridge</td>\n      <td>13.4</td>\n      <td>12.3</td>\n      <td>10.5</td>\n      <td>9.2</td>\n      <td>9.9</td>\n      <td>9.5</td>\n      <td>5.5</td>\n      <td>6.1</td>\n      <td>6.3</td>\n      <td>6.6</td>\n      <td>8.2</td>\n      <td>9.4</td>\n      <td>4.9</td>\n      <td>5.9</td>\n      <td>5.5</td>\n    </tr>\n    <tr>\n      <th>29</th>\n      <td>00BD</td>\n      <td>Richmond upon Thames</td>\n      <td>4.6</td>\n      <td>4.9</td>\n      <td>6.2</td>\n      <td>5</td>\n      <td>5.7</td>\n      <td>6.3</td>\n      <td>8.5</td>\n      <td>6.7</td>\n      <td>4.7</td>\n      <td>4</td>\n      <td>3</td>\n      <td>2.8</td>\n      <td>4.1</td>\n      <td>3.8</td>\n      <td>3.2</td>\n    </tr>\n    <tr>\n      <th>30</th>\n      <td>00BE</td>\n      <td>Southwark</td>\n      <td>7.6</td>\n      <td>8</td>\n      <td>6.8</td>\n      <td>5.8</td>\n      <td>7.1</td>\n      <td>8.6</td>\n      <td>6.4</td>\n      <td>5.2</td>\n      <td>4.6</td>\n      <td>5.3</td>\n      <td>4.1</td>\n      <td>5</td>\n      <td>3.9</td>\n      <td>2.7</td>\n      <td>3.6</td>\n    </tr>\n    <tr>\n      <th>31</th>\n      <td>00BF</td>\n      <td>Sutton</td>\n      <td>16.1</td>\n      <td>14.4</td>\n      <td>13.8</td>\n      <td>11.7</td>\n      <td>12.1</td>\n      <td>11</td>\n      <td>13.4</td>\n      <td>12.4</td>\n      <td>8.9</td>\n      <td>12.6</td>\n      <td>8.9</td>\n      <td>12.2</td>\n      <td>10.3</td>\n      <td>6.4</td>\n      <td>7</td>\n    </tr>\n    <tr>\n      <th>32</th>\n      <td>00BG</td>\n      <td>Tower Hamlets</td>\n      <td>9.4</td>\n      <td>10</td>\n      <td>8.6</td>\n      <td>12.3</td>\n      <td>5.8</td>\n      <td>5.9</td>\n      <td>4.7</td>\n      <td>6.3</td>\n      <td>3.6</td>\n      <td>6.5</td>\n      <td>6.5</td>\n      <td>5.6</td>\n      <td>3.6</td>\n      <td>3.5</td>\n      <td>3.8</td>\n    </tr>\n    <tr>\n      <th>33</th>\n      <td>00BH</td>\n      <td>Waltham Forest</td>\n      <td>14.3</td>\n      <td>9.7</td>\n      <td>12</td>\n      <td>10.6</td>\n      <td>12.6</td>\n      <td>10.4</td>\n      <td>8.6</td>\n      <td>10.3</td>\n      <td>8.5</td>\n      <td>6.1</td>\n      <td>8.3</td>\n      <td>6.9</td>\n      <td>7.4</td>\n      <td>7.6</td>\n      <td>7.6</td>\n    </tr>\n    <tr>\n      <th>34</th>\n      <td>00BJ</td>\n      <td>Wandsworth</td>\n      <td>4.9</td>\n      <td>6.1</td>\n      <td>4.8</td>\n      <td>2.8</td>\n      <td>5.6</td>\n      <td>5</td>\n      <td>4.6</td>\n      <td>6.5</td>\n      <td>3.1</td>\n      <td>3.9</td>\n      <td>1.8</td>\n      <td>2.5</td>\n      <td>2.3</td>\n      <td>1.7</td>\n      <td>2.9</td>\n    </tr>\n    <tr>\n      <th>35</th>\n      <td>00BK</td>\n      <td>Westminster</td>\n      <td>3.5</td>\n      <td>4.7</td>\n      <td>5.3</td>\n      <td>4.5</td>\n      <td>4.3</td>\n      <td>4.3</td>\n      <td>4.7</td>\n      <td>3.8</td>\n      <td>2.4</td>\n      <td>2.8</td>\n      <td>3.5</td>\n      <td>6.1</td>\n      <td>3.4</td>\n      <td>3.7</td>\n      <td>2.7</td>\n    </tr>\n    <tr>\n      <th>36</th>\n      <td>None</td>\n      <td>None</td>\n      <td>None</td>\n      <td>None</td>\n      <td>None</td>\n      <td>None</td>\n      <td>None</td>\n      <td>None</td>\n      <td>None</td>\n      <td>None</td>\n      <td>None</td>\n      <td>None</td>\n      <td>None</td>\n      <td>None</td>\n      <td>None</td>\n      <td>None</td>\n      <td>None</td>\n    </tr>\n    <tr>\n      <th>37</th>\n      <td>A</td>\n      <td>North East</td>\n      <td>15.4</td>\n      <td>15.3</td>\n      <td>14.6</td>\n      <td>13.3</td>\n      <td>13.4</td>\n      <td>14.1</td>\n      <td>13.3</td>\n      <td>12.7</td>\n      <td>13.6</td>\n      <td>12.7</td>\n      <td>12</td>\n      <td>11.3</td>\n      <td>10.4</td>\n      <td>10.6</td>\n      <td>10.5</td>\n    </tr>\n    <tr>\n      <th>38</th>\n      <td>B</td>\n      <td>North West</td>\n      <td>14.8</td>\n      <td>14.5</td>\n      <td>14.5</td>\n      <td>13.9</td>\n      <td>13.8</td>\n      <td>13.6</td>\n      <td>12.9</td>\n      <td>13.2</td>\n      <td>12.6</td>\n      <td>12.1</td>\n      <td>11</td>\n      <td>10.5</td>\n      <td>10.7</td>\n      <td>10.3</td>\n      <td>9.9</td>\n    </tr>\n    <tr>\n      <th>39</th>\n      <td>D</td>\n      <td>Yorkshire and The Humber</td>\n      <td>15.8</td>\n      <td>15.4</td>\n      <td>15.5</td>\n      <td>15.4</td>\n      <td>14.9</td>\n      <td>14.5</td>\n      <td>14.1</td>\n      <td>13.8</td>\n      <td>12.4</td>\n      <td>12.9</td>\n      <td>12.6</td>\n      <td>12</td>\n      <td>11.7</td>\n      <td>11.7</td>\n      <td>11.2</td>\n    </tr>\n    <tr>\n      <th>40</th>\n      <td>E</td>\n      <td>East Midlands</td>\n      <td>15.6</td>\n      <td>16.3</td>\n      <td>15.6</td>\n      <td>15.5</td>\n      <td>15.8</td>\n      <td>14.6</td>\n      <td>12.7</td>\n      <td>13.6</td>\n      <td>13.2</td>\n      <td>12.8</td>\n      <td>12.7</td>\n      <td>12.1</td>\n      <td>11.6</td>\n      <td>11.7</td>\n      <td>10.8</td>\n    </tr>\n    <tr>\n      <th>41</th>\n      <td>F</td>\n      <td>West Midlands</td>\n      <td>14.8</td>\n      <td>14.7</td>\n      <td>14.1</td>\n      <td>14.2</td>\n      <td>14.7</td>\n      <td>14.5</td>\n      <td>14.2</td>\n      <td>13.4</td>\n      <td>12.2</td>\n      <td>11.9</td>\n      <td>11.8</td>\n      <td>11.5</td>\n      <td>11.1</td>\n      <td>10.7</td>\n      <td>10.2</td>\n    </tr>\n    <tr>\n      <th>42</th>\n      <td>G</td>\n      <td>East</td>\n      <td>16.2</td>\n      <td>16.3</td>\n      <td>15.7</td>\n      <td>15.6</td>\n      <td>15.6</td>\n      <td>15.4</td>\n      <td>15.1</td>\n      <td>14.3</td>\n      <td>12.8</td>\n      <td>12.6</td>\n      <td>13.2</td>\n      <td>12.6</td>\n      <td>12.6</td>\n      <td>12.5</td>\n      <td>12.6</td>\n    </tr>\n    <tr>\n      <th>43</th>\n      <td>H</td>\n      <td>London</td>\n      <td>10.5</td>\n      <td>10.2</td>\n      <td>9.1</td>\n      <td>9</td>\n      <td>9</td>\n      <td>8.7</td>\n      <td>7.8</td>\n      <td>8.6</td>\n      <td>7.3</td>\n      <td>7.3</td>\n      <td>6.8</td>\n      <td>6.9</td>\n      <td>6.3</td>\n      <td>5.7</td>\n      <td>5.9</td>\n    </tr>\n    <tr>\n      <th>44</th>\n      <td>J</td>\n      <td>South East</td>\n      <td>15</td>\n      <td>14.9</td>\n      <td>14.7</td>\n      <td>13.8</td>\n      <td>14.3</td>\n      <td>13.5</td>\n      <td>12.7</td>\n      <td>12.5</td>\n      <td>11.8</td>\n      <td>11</td>\n      <td>11.3</td>\n      <td>11.2</td>\n      <td>10.6</td>\n      <td>10.3</td>\n      <td>9.9</td>\n    </tr>\n    <tr>\n      <th>45</th>\n      <td>K</td>\n      <td>South West</td>\n      <td>16.2</td>\n      <td>15.5</td>\n      <td>15</td>\n      <td>14.4</td>\n      <td>15.1</td>\n      <td>14.7</td>\n      <td>12.7</td>\n      <td>12.7</td>\n      <td>12.3</td>\n      <td>11.6</td>\n      <td>12.1</td>\n      <td>11</td>\n      <td>10.9</td>\n      <td>10.5</td>\n      <td>10.2</td>\n    </tr>\n    <tr>\n      <th>46</th>\n      <td>None</td>\n      <td>None</td>\n      <td>None</td>\n      <td>None</td>\n      <td>None</td>\n      <td>None</td>\n      <td>None</td>\n      <td>None</td>\n      <td>None</td>\n      <td>None</td>\n      <td>None</td>\n      <td>None</td>\n      <td>None</td>\n      <td>None</td>\n      <td>None</td>\n      <td>None</td>\n      <td>None</td>\n    </tr>\n    <tr>\n      <th>47</th>\n      <td>921</td>\n      <td>England</td>\n      <td>14.7</td>\n      <td>14.5</td>\n      <td>14.1</td>\n      <td>13.7</td>\n      <td>13.8</td>\n      <td>13.4</td>\n      <td>12.5</td>\n      <td>12.5</td>\n      <td>11.6</td>\n      <td>11.3</td>\n      <td>11.1</td>\n      <td>10.7</td>\n      <td>10.3</td>\n      <td>10.1</td>\n      <td>9.8</td>\n    </tr>\n    <tr>\n      <th>48</th>\n      <td>924</td>\n      <td>Wales</td>\n      <td>13.5</td>\n      <td>14.1</td>\n      <td>13.5</td>\n      <td>13.2</td>\n      <td>12.6</td>\n      <td>12.1</td>\n      <td>11.8</td>\n      <td>12.2</td>\n      <td>11.5</td>\n      <td>11.2</td>\n      <td>10.7</td>\n      <td>10.6</td>\n      <td>10.3</td>\n      <td>10.4</td>\n      <td>10.2</td>\n    </tr>\n    <tr>\n      <th>49</th>\n      <td>923</td>\n      <td>Scotland</td>\n      <td>10.9</td>\n      <td>10.7</td>\n      <td>10.2</td>\n      <td>10</td>\n      <td>9.6</td>\n      <td>9.6</td>\n      <td>9.4</td>\n      <td>9.3</td>\n      <td>9.9</td>\n      <td>9.3</td>\n      <td>9</td>\n      <td>8.8</td>\n      <td>8.1</td>\n      <td>8.6</td>\n      <td>8</td>\n    </tr>\n    <tr>\n      <th>50</th>\n      <td>922</td>\n      <td>Northern Ireland</td>\n      <td>10.5</td>\n      <td>11</td>\n      <td>11.1</td>\n      <td>10.8</td>\n      <td>9.9</td>\n      <td>10.4</td>\n      <td>10.2</td>\n      <td>10.2</td>\n      <td>10.6</td>\n      <td>11.3</td>\n      <td>10</td>\n      <td>9.9</td>\n      <td>7.7</td>\n      <td>8.1</td>\n      <td>7.4</td>\n    </tr>\n    <tr>\n      <th>51</th>\n      <td>None</td>\n      <td>None</td>\n      <td>None</td>\n      <td>None</td>\n      <td>None</td>\n      <td>None</td>\n      <td>None</td>\n      <td>None</td>\n      <td>None</td>\n      <td>None</td>\n      <td>None</td>\n      <td>None</td>\n      <td>None</td>\n      <td>None</td>\n      <td>None</td>\n      <td>None</td>\n      <td>None</td>\n    </tr>\n    <tr>\n      <th>52</th>\n      <td>941</td>\n      <td>England and Wales</td>\n      <td>14.6</td>\n      <td>14.5</td>\n      <td>14</td>\n      <td>13.6</td>\n      <td>13.8</td>\n      <td>13.3</td>\n      <td>12.5</td>\n      <td>12.5</td>\n      <td>11.6</td>\n      <td>11.3</td>\n      <td>11.1</td>\n      <td>10.7</td>\n      <td>10.3</td>\n      <td>10.1</td>\n      <td>9.8</td>\n    </tr>\n    <tr>\n      <th>53</th>\n      <td>925</td>\n      <td>Great Britain</td>\n      <td>14.3</td>\n      <td>14.2</td>\n      <td>13.7</td>\n      <td>13.3</td>\n      <td>13.4</td>\n      <td>13</td>\n      <td>12.2</td>\n      <td>12.2</td>\n      <td>11.5</td>\n      <td>11.1</td>\n      <td>10.9</td>\n      <td>10.5</td>\n      <td>10.2</td>\n      <td>10</td>\n      <td>9.6</td>\n    </tr>\n    <tr>\n      <th>54</th>\n      <td>926</td>\n      <td>United Kingdom</td>\n      <td>14.2</td>\n      <td>14.1</td>\n      <td>13.6</td>\n      <td>13.2</td>\n      <td>13.3</td>\n      <td>12.9</td>\n      <td>12.1</td>\n      <td>12.2</td>\n      <td>11.5</td>\n      <td>11.1</td>\n      <td>10.9</td>\n      <td>10.5</td>\n      <td>10.1</td>\n      <td>9.9</td>\n      <td>9.6</td>\n    </tr>\n  </tbody>\n</table>\n</div>",
            "text/plain": "      0                         1        52       52       52       52  \\\n0   None                      None     None     None     None     None   \n1   Code                      Area  percent  percent  percent  percent   \n2   None                      None     None     None     None     None   \n3   00AA            City of London        !        !        !        !   \n4   00AB      Barking and Dagenham     20.8     19.5     19.5       15   \n5   00AC                    Barnet      6.2      6.1      7.3        9   \n6   00AD                    Bexley     19.9     18.6     19.5     18.1   \n7   00AE                     Brent      7.6      4.7      9.1      5.4   \n8   00AF                   Bromley       13     13.7     11.7     11.4   \n9   00AG                    Camden      4.6      6.7      4.9      5.9   \n10  00AH                   Croydon     18.1     15.2       11     11.1   \n11  00AJ                    Ealing      8.6      8.7      7.7      5.6   \n12  00AK                   Enfield     15.3       16      9.5       11   \n13  00AL                 Greenwich     12.5     11.9     10.4     11.1   \n14  00AM                   Hackney      7.8      7.6      5.2      6.9   \n15  00AN    Hammersmith and Fulham      4.3        7      5.9      5.3   \n16  00AP                  Haringey      8.6      7.6      6.4      6.5   \n17  00AQ                    Harrow      8.7      8.7      8.5      9.1   \n18  00AR                  Havering     18.9     19.9     15.9     20.8   \n19  00AS                Hillingdon     13.2     10.3     10.6     14.4   \n20  00AT                  Hounslow     12.9     12.7      9.1     10.7   \n21  00AU                 Islington        8      7.7      6.8      7.5   \n22  00AW    Kensington and Chelsea      2.7      4.7      3.4      3.3   \n23  00AX      Kingston upon Thames       11      9.2      9.7      7.6   \n24  00AY                   Lambeth      6.8      6.7      3.5      5.6   \n25  00AZ                  Lewisham     11.7     12.3     11.6      8.5   \n26  00BA                    Merton      8.3      8.5      9.9      9.1   \n27  00BB                    Newham     12.6     11.2     10.1     10.3   \n28  00BC                 Redbridge     13.4     12.3     10.5      9.2   \n29  00BD      Richmond upon Thames      4.6      4.9      6.2        5   \n30  00BE                 Southwark      7.6        8      6.8      5.8   \n31  00BF                    Sutton     16.1     14.4     13.8     11.7   \n32  00BG             Tower Hamlets      9.4       10      8.6     12.3   \n33  00BH            Waltham Forest     14.3      9.7       12     10.6   \n34  00BJ                Wandsworth      4.9      6.1      4.8      2.8   \n35  00BK               Westminster      3.5      4.7      5.3      4.5   \n36  None                      None     None     None     None     None   \n37     A                North East     15.4     15.3     14.6     13.3   \n38     B                North West     14.8     14.5     14.5     13.9   \n39     D  Yorkshire and The Humber     15.8     15.4     15.5     15.4   \n40     E             East Midlands     15.6     16.3     15.6     15.5   \n41     F             West Midlands     14.8     14.7     14.1     14.2   \n42     G                      East     16.2     16.3     15.7     15.6   \n43     H                    London     10.5     10.2      9.1        9   \n44     J                South East       15     14.9     14.7     13.8   \n45     K                South West     16.2     15.5       15     14.4   \n46  None                      None     None     None     None     None   \n47   921                   England     14.7     14.5     14.1     13.7   \n48   924                     Wales     13.5     14.1     13.5     13.2   \n49   923                  Scotland     10.9     10.7     10.2       10   \n50   922          Northern Ireland     10.5       11     11.1     10.8   \n51  None                      None     None     None     None     None   \n52   941         England and Wales     14.6     14.5       14     13.6   \n53   925             Great Britain     14.3     14.2     13.7     13.3   \n54   926            United Kingdom     14.2     14.1     13.6     13.2   \n\n         52       52       52       52       52       52       52       52  \\\n0      None     None     None     None     None     None     None     None   \n1   percent  percent  percent  percent  percent  percent  percent  percent   \n2      None     None     None     None     None     None     None     None   \n3         !        !        !        !        !        !        !        !   \n4        14     14.3     13.1     14.3     12.7     12.9     11.3      8.9   \n5       9.8      7.4      5.8      7.5      8.2      8.2      7.4      6.4   \n6      16.7       16     16.7     17.2       14       15     13.9       13   \n7       6.2      5.6      6.4      9.2      4.5      8.6      5.7      6.4   \n8      12.7     11.7      9.4     10.5     11.5      8.9      9.9      8.6   \n9       7.3      5.1      5.8      5.2      4.4      4.1      3.6      4.3   \n10     14.5     12.5     11.4       12     11.6        9      6.9      8.8   \n11      5.5      7.9      5.2      6.8        6        9      3.5      6.2   \n12     11.7     10.5     12.5     12.5       12     10.9     12.4      7.3   \n13      9.8       11     12.1        9        9      6.8      6.1      9.6   \n14      4.7      6.5      6.1      7.3        7      7.5      6.7      7.3   \n15        7      6.5      5.7      5.4      4.8      5.3        5      4.5   \n16      5.7        4      6.5      4.7      4.8      5.5      6.3      5.4   \n17      5.7      7.9      5.2      4.8      5.4      6.1      5.8      6.3   \n18     20.6     23.1     16.7       18     15.5     14.5     13.6     19.5   \n19       13     11.8     12.8       13       11     10.4     10.9      9.2   \n20      8.4      7.7        8      9.3      8.5      8.8      6.5      6.4   \n21      6.5      4.9      4.8      7.6      7.7      4.5      6.1      5.2   \n22      3.6      2.8      3.2      5.2      4.1      4.3      5.1      4.1   \n23      6.1      6.7      6.2     10.9      6.8      7.6      6.3      4.8   \n24        7      6.1      4.6      5.1      6.8      3.8      6.5      3.4   \n25      8.4        9      5.5      6.8      5.2      6.6      5.3      6.5   \n26     11.6      8.9      5.9      9.6      7.9      6.4      4.9      5.7   \n27      8.3      8.9      5.9      7.5      4.1        4        5      4.5   \n28      9.9      9.5      5.5      6.1      6.3      6.6      8.2      9.4   \n29      5.7      6.3      8.5      6.7      4.7        4        3      2.8   \n30      7.1      8.6      6.4      5.2      4.6      5.3      4.1        5   \n31     12.1       11     13.4     12.4      8.9     12.6      8.9     12.2   \n32      5.8      5.9      4.7      6.3      3.6      6.5      6.5      5.6   \n33     12.6     10.4      8.6     10.3      8.5      6.1      8.3      6.9   \n34      5.6        5      4.6      6.5      3.1      3.9      1.8      2.5   \n35      4.3      4.3      4.7      3.8      2.4      2.8      3.5      6.1   \n36     None     None     None     None     None     None     None     None   \n37     13.4     14.1     13.3     12.7     13.6     12.7       12     11.3   \n38     13.8     13.6     12.9     13.2     12.6     12.1       11     10.5   \n39     14.9     14.5     14.1     13.8     12.4     12.9     12.6       12   \n40     15.8     14.6     12.7     13.6     13.2     12.8     12.7     12.1   \n41     14.7     14.5     14.2     13.4     12.2     11.9     11.8     11.5   \n42     15.6     15.4     15.1     14.3     12.8     12.6     13.2     12.6   \n43        9      8.7      7.8      8.6      7.3      7.3      6.8      6.9   \n44     14.3     13.5     12.7     12.5     11.8       11     11.3     11.2   \n45     15.1     14.7     12.7     12.7     12.3     11.6     12.1       11   \n46     None     None     None     None     None     None     None     None   \n47     13.8     13.4     12.5     12.5     11.6     11.3     11.1     10.7   \n48     12.6     12.1     11.8     12.2     11.5     11.2     10.7     10.6   \n49      9.6      9.6      9.4      9.3      9.9      9.3        9      8.8   \n50      9.9     10.4     10.2     10.2     10.6     11.3       10      9.9   \n51     None     None     None     None     None     None     None     None   \n52     13.8     13.3     12.5     12.5     11.6     11.3     11.1     10.7   \n53     13.4       13     12.2     12.2     11.5     11.1     10.9     10.5   \n54     13.3     12.9     12.1     12.2     11.5     11.1     10.9     10.5   \n\n         52       52       52  \n0      None     None     None  \n1   percent  percent  percent  \n2      None     None     None  \n3         !        !        !  \n4       9.7      9.1     10.2  \n5       7.6      3.3        4  \n6      11.3     13.4     11.4  \n7       8.1      7.5      5.3  \n8       8.4      7.5      4.3  \n9       4.2      2.7      5.4  \n10      6.1      6.6      5.8  \n11      7.9        7      4.9  \n12      7.8      9.7       11  \n13      7.2      4.6      6.5  \n14        6        5      4.2  \n15      3.7      3.8      5.6  \n16      5.6      4.1      4.2  \n17      5.6      2.7      3.7  \n18       17     14.1     13.7  \n19      8.1      8.5      9.2  \n20      5.9        6      7.2  \n21      5.2      2.5      4.5  \n22        5      5.2      6.9  \n23      4.6      3.5      4.5  \n24      2.4        3      3.7  \n25      7.5      7.3      5.4  \n26      5.9      5.2      7.7  \n27      5.6      6.1      7.4  \n28      4.9      5.9      5.5  \n29      4.1      3.8      3.2  \n30      3.9      2.7      3.6  \n31     10.3      6.4        7  \n32      3.6      3.5      3.8  \n33      7.4      7.6      7.6  \n34      2.3      1.7      2.9  \n35      3.4      3.7      2.7  \n36     None     None     None  \n37     10.4     10.6     10.5  \n38     10.7     10.3      9.9  \n39     11.7     11.7     11.2  \n40     11.6     11.7     10.8  \n41     11.1     10.7     10.2  \n42     12.6     12.5     12.6  \n43      6.3      5.7      5.9  \n44     10.6     10.3      9.9  \n45     10.9     10.5     10.2  \n46     None     None     None  \n47     10.3     10.1      9.8  \n48     10.3     10.4     10.2  \n49      8.1      8.6        8  \n50      7.7      8.1      7.4  \n51     None     None     None  \n52     10.3     10.1      9.8  \n53     10.2       10      9.6  \n54     10.1      9.9      9.6  "
          },
          "metadata": {}
        }
      ]
    },
    {
      "metadata": {
        "trusted": true
      },
      "cell_type": "code",
      "source": "df.columns = ['Code', 'Area', '2004', '2005', '2006', '2007', '2008', '2009', '2010', '2011', '2012', '2013', '2014', '2015', '2016', '2017', '2018']",
      "execution_count": 79,
      "outputs": []
    },
    {
      "metadata": {
        "trusted": true,
        "scrolled": true
      },
      "cell_type": "code",
      "source": "df.head()",
      "execution_count": 80,
      "outputs": [
        {
          "output_type": "execute_result",
          "execution_count": 80,
          "data": {
            "text/html": "<div>\n<style scoped>\n    .dataframe tbody tr th:only-of-type {\n        vertical-align: middle;\n    }\n\n    .dataframe tbody tr th {\n        vertical-align: top;\n    }\n\n    .dataframe thead th {\n        text-align: right;\n    }\n</style>\n<table border=\"1\" class=\"dataframe\">\n  <thead>\n    <tr style=\"text-align: right;\">\n      <th></th>\n      <th>Code</th>\n      <th>Area</th>\n      <th>2004</th>\n      <th>2005</th>\n      <th>2006</th>\n      <th>2007</th>\n      <th>2008</th>\n      <th>2009</th>\n      <th>2010</th>\n      <th>2011</th>\n      <th>2012</th>\n      <th>2013</th>\n      <th>2014</th>\n      <th>2015</th>\n      <th>2016</th>\n      <th>2017</th>\n      <th>2018</th>\n    </tr>\n  </thead>\n  <tbody>\n    <tr>\n      <th>0</th>\n      <td>None</td>\n      <td>None</td>\n      <td>None</td>\n      <td>None</td>\n      <td>None</td>\n      <td>None</td>\n      <td>None</td>\n      <td>None</td>\n      <td>None</td>\n      <td>None</td>\n      <td>None</td>\n      <td>None</td>\n      <td>None</td>\n      <td>None</td>\n      <td>None</td>\n      <td>None</td>\n      <td>None</td>\n    </tr>\n    <tr>\n      <th>1</th>\n      <td>Code</td>\n      <td>Area</td>\n      <td>percent</td>\n      <td>percent</td>\n      <td>percent</td>\n      <td>percent</td>\n      <td>percent</td>\n      <td>percent</td>\n      <td>percent</td>\n      <td>percent</td>\n      <td>percent</td>\n      <td>percent</td>\n      <td>percent</td>\n      <td>percent</td>\n      <td>percent</td>\n      <td>percent</td>\n      <td>percent</td>\n    </tr>\n    <tr>\n      <th>2</th>\n      <td>None</td>\n      <td>None</td>\n      <td>None</td>\n      <td>None</td>\n      <td>None</td>\n      <td>None</td>\n      <td>None</td>\n      <td>None</td>\n      <td>None</td>\n      <td>None</td>\n      <td>None</td>\n      <td>None</td>\n      <td>None</td>\n      <td>None</td>\n      <td>None</td>\n      <td>None</td>\n      <td>None</td>\n    </tr>\n    <tr>\n      <th>3</th>\n      <td>00AA</td>\n      <td>City of London</td>\n      <td>!</td>\n      <td>!</td>\n      <td>!</td>\n      <td>!</td>\n      <td>!</td>\n      <td>!</td>\n      <td>!</td>\n      <td>!</td>\n      <td>!</td>\n      <td>!</td>\n      <td>!</td>\n      <td>!</td>\n      <td>!</td>\n      <td>!</td>\n      <td>!</td>\n    </tr>\n    <tr>\n      <th>4</th>\n      <td>00AB</td>\n      <td>Barking and Dagenham</td>\n      <td>20.8</td>\n      <td>19.5</td>\n      <td>19.5</td>\n      <td>15</td>\n      <td>14</td>\n      <td>14.3</td>\n      <td>13.1</td>\n      <td>14.3</td>\n      <td>12.7</td>\n      <td>12.9</td>\n      <td>11.3</td>\n      <td>8.9</td>\n      <td>9.7</td>\n      <td>9.1</td>\n      <td>10.2</td>\n    </tr>\n  </tbody>\n</table>\n</div>",
            "text/plain": "   Code                  Area     2004     2005     2006     2007     2008  \\\n0  None                  None     None     None     None     None     None   \n1  Code                  Area  percent  percent  percent  percent  percent   \n2  None                  None     None     None     None     None     None   \n3  00AA        City of London        !        !        !        !        !   \n4  00AB  Barking and Dagenham     20.8     19.5     19.5       15       14   \n\n      2009     2010     2011     2012     2013     2014     2015     2016  \\\n0     None     None     None     None     None     None     None     None   \n1  percent  percent  percent  percent  percent  percent  percent  percent   \n2     None     None     None     None     None     None     None     None   \n3        !        !        !        !        !        !        !        !   \n4     14.3     13.1     14.3     12.7     12.9     11.3      8.9      9.7   \n\n      2017     2018  \n0     None     None  \n1  percent  percent  \n2     None     None  \n3        !        !  \n4      9.1     10.2  "
          },
          "metadata": {}
        }
      ]
    },
    {
      "metadata": {
        "trusted": true
      },
      "cell_type": "code",
      "source": "df.replace('!', 0, inplace=True)",
      "execution_count": 81,
      "outputs": []
    },
    {
      "metadata": {
        "trusted": true
      },
      "cell_type": "code",
      "source": "df.drop(0, axis=0, inplace=True)\ndf.drop(1, axis=0, inplace=True)\ndf.drop(2, axis=0, inplace=True)\ndf.head()",
      "execution_count": 82,
      "outputs": [
        {
          "output_type": "execute_result",
          "execution_count": 82,
          "data": {
            "text/html": "<div>\n<style scoped>\n    .dataframe tbody tr th:only-of-type {\n        vertical-align: middle;\n    }\n\n    .dataframe tbody tr th {\n        vertical-align: top;\n    }\n\n    .dataframe thead th {\n        text-align: right;\n    }\n</style>\n<table border=\"1\" class=\"dataframe\">\n  <thead>\n    <tr style=\"text-align: right;\">\n      <th></th>\n      <th>Code</th>\n      <th>Area</th>\n      <th>2004</th>\n      <th>2005</th>\n      <th>2006</th>\n      <th>2007</th>\n      <th>2008</th>\n      <th>2009</th>\n      <th>2010</th>\n      <th>2011</th>\n      <th>2012</th>\n      <th>2013</th>\n      <th>2014</th>\n      <th>2015</th>\n      <th>2016</th>\n      <th>2017</th>\n      <th>2018</th>\n    </tr>\n  </thead>\n  <tbody>\n    <tr>\n      <th>3</th>\n      <td>00AA</td>\n      <td>City of London</td>\n      <td>0</td>\n      <td>0</td>\n      <td>0</td>\n      <td>0</td>\n      <td>0</td>\n      <td>0</td>\n      <td>0</td>\n      <td>0</td>\n      <td>0</td>\n      <td>0</td>\n      <td>0</td>\n      <td>0</td>\n      <td>0</td>\n      <td>0</td>\n      <td>0</td>\n    </tr>\n    <tr>\n      <th>4</th>\n      <td>00AB</td>\n      <td>Barking and Dagenham</td>\n      <td>20.8</td>\n      <td>19.5</td>\n      <td>19.5</td>\n      <td>15</td>\n      <td>14</td>\n      <td>14.3</td>\n      <td>13.1</td>\n      <td>14.3</td>\n      <td>12.7</td>\n      <td>12.9</td>\n      <td>11.3</td>\n      <td>8.9</td>\n      <td>9.7</td>\n      <td>9.1</td>\n      <td>10.2</td>\n    </tr>\n    <tr>\n      <th>5</th>\n      <td>00AC</td>\n      <td>Barnet</td>\n      <td>6.2</td>\n      <td>6.1</td>\n      <td>7.3</td>\n      <td>9</td>\n      <td>9.8</td>\n      <td>7.4</td>\n      <td>5.8</td>\n      <td>7.5</td>\n      <td>8.2</td>\n      <td>8.2</td>\n      <td>7.4</td>\n      <td>6.4</td>\n      <td>7.6</td>\n      <td>3.3</td>\n      <td>4</td>\n    </tr>\n    <tr>\n      <th>6</th>\n      <td>00AD</td>\n      <td>Bexley</td>\n      <td>19.9</td>\n      <td>18.6</td>\n      <td>19.5</td>\n      <td>18.1</td>\n      <td>16.7</td>\n      <td>16</td>\n      <td>16.7</td>\n      <td>17.2</td>\n      <td>14</td>\n      <td>15</td>\n      <td>13.9</td>\n      <td>13</td>\n      <td>11.3</td>\n      <td>13.4</td>\n      <td>11.4</td>\n    </tr>\n    <tr>\n      <th>7</th>\n      <td>00AE</td>\n      <td>Brent</td>\n      <td>7.6</td>\n      <td>4.7</td>\n      <td>9.1</td>\n      <td>5.4</td>\n      <td>6.2</td>\n      <td>5.6</td>\n      <td>6.4</td>\n      <td>9.2</td>\n      <td>4.5</td>\n      <td>8.6</td>\n      <td>5.7</td>\n      <td>6.4</td>\n      <td>8.1</td>\n      <td>7.5</td>\n      <td>5.3</td>\n    </tr>\n  </tbody>\n</table>\n</div>",
            "text/plain": "   Code                  Area  2004  2005  2006  2007  2008  2009  2010  2011  \\\n3  00AA        City of London     0     0     0     0     0     0     0     0   \n4  00AB  Barking and Dagenham  20.8  19.5  19.5    15    14  14.3  13.1  14.3   \n5  00AC                Barnet   6.2   6.1   7.3     9   9.8   7.4   5.8   7.5   \n6  00AD                Bexley  19.9  18.6  19.5  18.1  16.7    16  16.7  17.2   \n7  00AE                 Brent   7.6   4.7   9.1   5.4   6.2   5.6   6.4   9.2   \n\n   2012  2013  2014 2015  2016  2017  2018  \n3     0     0     0    0     0     0     0  \n4  12.7  12.9  11.3  8.9   9.7   9.1  10.2  \n5   8.2   8.2   7.4  6.4   7.6   3.3     4  \n6    14    15  13.9   13  11.3  13.4  11.4  \n7   4.5   8.6   5.7  6.4   8.1   7.5   5.3  "
          },
          "metadata": {}
        }
      ]
    },
    {
      "metadata": {
        "trusted": true
      },
      "cell_type": "code",
      "source": "PROC_DATA_PATH = '~/library/data/processed/'\ndf.to_csv(PROC_DATA_PATH + 'nvq1-qualifications-overtime.csv') ",
      "execution_count": 83,
      "outputs": []
    }
  ],
  "metadata": {
    "kernelspec": {
      "name": "python36",
      "display_name": "Python 3.6",
      "language": "python"
    },
    "language_info": {
      "mimetype": "text/x-python",
      "nbconvert_exporter": "python",
      "name": "python",
      "pygments_lexer": "ipython3",
      "version": "3.6.6",
      "file_extension": ".py",
      "codemirror_mode": {
        "version": 3,
        "name": "ipython"
      }
    }
  },
  "nbformat": 4,
  "nbformat_minor": 2
}