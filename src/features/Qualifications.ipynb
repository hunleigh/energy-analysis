{
  "cells": [
    {
      "metadata": {},
      "cell_type": "markdown",
      "source": "## Importing the required data\n\n- upload jobs residency xlsx table to 'data'"
    },
    {
      "metadata": {},
      "cell_type": "markdown",
      "source": "## Converting xlsx file to pandas dataframe\n\n- install openpyxl, import load_workbook and pandas\n- load xlsx workbook --> access required sheet\n- convert to dataframe with .values"
    },
    {
      "metadata": {
        "trusted": true,
        "scrolled": false
      },
      "cell_type": "code",
      "source": "#to open xlsx files\n!pip install openpyxl",
      "execution_count": 1,
      "outputs": [
        {
          "output_type": "stream",
          "text": "Requirement already satisfied: openpyxl in /home/nbuser/anaconda3_501/lib/python3.6/site-packages (2.5.8)\nRequirement already satisfied: et-xmlfile in /home/nbuser/anaconda3_501/lib/python3.6/site-packages (from openpyxl) (1.0.1)\nRequirement already satisfied: jdcal in /home/nbuser/anaconda3_501/lib/python3.6/site-packages (from openpyxl) (1.4)\n",
          "name": "stdout"
        }
      ]
    },
    {
      "metadata": {
        "trusted": true
      },
      "cell_type": "code",
      "source": "import pandas as pd",
      "execution_count": 2,
      "outputs": []
    },
    {
      "metadata": {
        "trusted": true
      },
      "cell_type": "code",
      "source": "import numpy as np",
      "execution_count": 3,
      "outputs": []
    },
    {
      "metadata": {
        "trusted": true
      },
      "cell_type": "code",
      "source": "from openpyxl import load_workbook\nwb2 = load_workbook('./data/Qualifications-by-economic-activity-status-borough.xlsx', data_only=True)",
      "execution_count": 4,
      "outputs": []
    },
    {
      "metadata": {
        "trusted": true,
        "scrolled": false
      },
      "cell_type": "code",
      "source": "wb2.sheetnames",
      "execution_count": 5,
      "outputs": [
        {
          "output_type": "execute_result",
          "execution_count": 5,
          "data": {
            "text/plain": "['Metadata',\n 'Quals of Workless',\n 'Quals of Unemployed Borough',\n '2004',\n '2005',\n '2006',\n '2007',\n '2008',\n '2009',\n '2010',\n '2011',\n '2012',\n '2013',\n '2014',\n '2015',\n '2016',\n '2017',\n '2018']"
          },
          "metadata": {}
        }
      ]
    },
    {
      "metadata": {
        "trusted": true
      },
      "cell_type": "code",
      "source": "ws2 = wb2[\"2014\"]",
      "execution_count": 152,
      "outputs": []
    },
    {
      "metadata": {
        "trusted": true
      },
      "cell_type": "code",
      "source": "df = pd.DataFrame(ws2.values)\ndf.head()",
      "execution_count": 153,
      "outputs": [
        {
          "output_type": "execute_result",
          "execution_count": 153,
          "data": {
            "text/html": "<div>\n<style scoped>\n    .dataframe tbody tr th:only-of-type {\n        vertical-align: middle;\n    }\n\n    .dataframe tbody tr th {\n        vertical-align: top;\n    }\n\n    .dataframe thead th {\n        text-align: right;\n    }\n</style>\n<table border=\"1\" class=\"dataframe\">\n  <thead>\n    <tr style=\"text-align: right;\">\n      <th></th>\n      <th>0</th>\n      <th>1</th>\n      <th>2</th>\n      <th>3</th>\n      <th>4</th>\n      <th>5</th>\n      <th>6</th>\n      <th>7</th>\n      <th>8</th>\n      <th>9</th>\n      <th>...</th>\n      <th>76</th>\n      <th>77</th>\n      <th>78</th>\n      <th>79</th>\n      <th>80</th>\n      <th>81</th>\n      <th>82</th>\n      <th>83</th>\n      <th>84</th>\n      <th>85</th>\n    </tr>\n  </thead>\n  <tbody>\n    <tr>\n      <th>0</th>\n      <td>None</td>\n      <td>None</td>\n      <td>% of economically active with NVQ4+ - working age</td>\n      <td>None</td>\n      <td>None</td>\n      <td>None</td>\n      <td>% of economically active with NVQ4+ - working ...</td>\n      <td>None</td>\n      <td>None</td>\n      <td>None</td>\n      <td>...</td>\n      <td>None</td>\n      <td>None</td>\n      <td>% of economically active with no qualification...</td>\n      <td>None</td>\n      <td>None</td>\n      <td>None</td>\n      <td>% of economically active with no qualification...</td>\n      <td>None</td>\n      <td>None</td>\n      <td>None</td>\n    </tr>\n    <tr>\n      <th>1</th>\n      <td>Code</td>\n      <td>Area</td>\n      <td>number</td>\n      <td>denominator</td>\n      <td>percent</td>\n      <td>confidence</td>\n      <td>number</td>\n      <td>denominator</td>\n      <td>percent</td>\n      <td>confidence</td>\n      <td>...</td>\n      <td>percent</td>\n      <td>confidence</td>\n      <td>number</td>\n      <td>denominator</td>\n      <td>percent</td>\n      <td>confidence</td>\n      <td>number</td>\n      <td>denominator</td>\n      <td>percent</td>\n      <td>confidence</td>\n    </tr>\n    <tr>\n      <th>2</th>\n      <td>None</td>\n      <td>None</td>\n      <td>None</td>\n      <td>None</td>\n      <td>None</td>\n      <td>None</td>\n      <td>None</td>\n      <td>None</td>\n      <td>None</td>\n      <td>None</td>\n      <td>...</td>\n      <td>None</td>\n      <td>None</td>\n      <td>None</td>\n      <td>None</td>\n      <td>None</td>\n      <td>None</td>\n      <td>None</td>\n      <td>None</td>\n      <td>None</td>\n      <td>None</td>\n    </tr>\n    <tr>\n      <th>3</th>\n      <td>00AA</td>\n      <td>City of London</td>\n      <td>!</td>\n      <td>!</td>\n      <td>!</td>\n      <td>-</td>\n      <td>!</td>\n      <td>!</td>\n      <td>!</td>\n      <td>-</td>\n      <td>...</td>\n      <td>!</td>\n      <td>!</td>\n      <td>!</td>\n      <td>!</td>\n      <td>!</td>\n      <td>!</td>\n      <td>!</td>\n      <td>!</td>\n      <td>!</td>\n      <td>!</td>\n    </tr>\n    <tr>\n      <th>4</th>\n      <td>00AB</td>\n      <td>Barking and Dagenham</td>\n      <td>31100</td>\n      <td>89300</td>\n      <td>34.8</td>\n      <td>4.9</td>\n      <td>14100</td>\n      <td>48100</td>\n      <td>29.3</td>\n      <td>6.5</td>\n      <td>...</td>\n      <td>10.4</td>\n      <td>3.1</td>\n      <td>6500</td>\n      <td>48100</td>\n      <td>13.4</td>\n      <td>4.9</td>\n      <td>2800</td>\n      <td>41200</td>\n      <td>6.9</td>\n      <td>3.7</td>\n    </tr>\n  </tbody>\n</table>\n<p>5 rows × 86 columns</p>\n</div>",
            "text/plain": "     0                     1   \\\n0  None                  None   \n1  Code                  Area   \n2  None                  None   \n3  00AA        City of London   \n4  00AB  Barking and Dagenham   \n\n                                                  2            3        4   \\\n0  % of economically active with NVQ4+ - working age         None     None   \n1                                             number  denominator  percent   \n2                                               None         None     None   \n3                                                  !            !        !   \n4                                              31100        89300     34.8   \n\n           5                                                  6            7   \\\n0        None  % of economically active with NVQ4+ - working ...         None   \n1  confidence                                             number  denominator   \n2        None                                               None         None   \n3           -                                                  !            !   \n4         4.9                                              14100        48100   \n\n        8           9      ...           76          77  \\\n0     None        None     ...         None        None   \n1  percent  confidence     ...      percent  confidence   \n2     None        None     ...         None        None   \n3        !           -     ...            !           !   \n4     29.3         6.5     ...         10.4         3.1   \n\n                                                  78           79       80  \\\n0  % of economically active with no qualification...         None     None   \n1                                             number  denominator  percent   \n2                                               None         None     None   \n3                                                  !            !        !   \n4                                               6500        48100     13.4   \n\n           81                                                 82           83  \\\n0        None  % of economically active with no qualification...         None   \n1  confidence                                             number  denominator   \n2        None                                               None         None   \n3           !                                                  !            !   \n4         4.9                                               2800        41200   \n\n        84          85  \n0     None        None  \n1  percent  confidence  \n2     None        None  \n3        !           !  \n4      6.9         3.7  \n\n[5 rows x 86 columns]"
          },
          "metadata": {}
        }
      ]
    },
    {
      "metadata": {
        "trusted": true,
        "scrolled": true
      },
      "cell_type": "code",
      "source": "dfT = df.T",
      "execution_count": 85,
      "outputs": []
    },
    {
      "metadata": {},
      "cell_type": "markdown",
      "source": "## Clearing dataframe\n\n- drop last rows by slicing\n- aggregate all value outside London into one 'Outside London' category with Code 'X00000000'\n- make coloumn 0 and row 0 axes labels"
    },
    {
      "metadata": {
        "trusted": true
      },
      "cell_type": "code",
      "source": "number = dfT.loc[dfT[1]==\"number\"]",
      "execution_count": 86,
      "outputs": []
    },
    {
      "metadata": {
        "trusted": true,
        "scrolled": true
      },
      "cell_type": "code",
      "source": "dfT.drop(number.index, axis=0, inplace=True)",
      "execution_count": 87,
      "outputs": []
    },
    {
      "metadata": {
        "trusted": true
      },
      "cell_type": "code",
      "source": "denom = dfT.loc[dfT[1]==\"denominator\"]",
      "execution_count": 88,
      "outputs": []
    },
    {
      "metadata": {
        "trusted": true
      },
      "cell_type": "code",
      "source": "dfT.drop(denom.index, axis=0, inplace=True)",
      "execution_count": 89,
      "outputs": []
    },
    {
      "metadata": {
        "trusted": true
      },
      "cell_type": "code",
      "source": "conf = dfT.loc[dfT[1]==\"confidence\"]",
      "execution_count": 90,
      "outputs": []
    },
    {
      "metadata": {
        "trusted": true
      },
      "cell_type": "code",
      "source": "dfT.drop(conf.index, axis=0, inplace=True)",
      "execution_count": 91,
      "outputs": []
    },
    {
      "metadata": {
        "trusted": true
      },
      "cell_type": "code",
      "source": "male = dfT.iloc[3::3, :]",
      "execution_count": 92,
      "outputs": []
    },
    {
      "metadata": {
        "trusted": true
      },
      "cell_type": "code",
      "source": "dfT.drop(male.index, axis=0, inplace=True)",
      "execution_count": 93,
      "outputs": []
    },
    {
      "metadata": {
        "trusted": true
      },
      "cell_type": "code",
      "source": "female = dfT.iloc[3::2, :]",
      "execution_count": 94,
      "outputs": []
    },
    {
      "metadata": {
        "trusted": true
      },
      "cell_type": "code",
      "source": "dfT.drop(female.index, axis=0, inplace=True)",
      "execution_count": 95,
      "outputs": []
    },
    {
      "metadata": {
        "trusted": true
      },
      "cell_type": "code",
      "source": "dfT.drop(0, axis=1, inplace=True)\ndfT.drop(2, axis=1, inplace=True)",
      "execution_count": 96,
      "outputs": []
    },
    {
      "metadata": {
        "trusted": true
      },
      "cell_type": "code",
      "source": "dfT.iloc[2, 0] = 'NVQ4+'\ndfT.iloc[3, 0] = 'NVQ3'\ndfT.iloc[4, 0] = 'Trade Apprenticeship'\ndfT.iloc[5, 0] = 'NVQ2'\ndfT.iloc[6, 0] = 'NVQ1'\ndfT.iloc[7, 0] = 'Other'\ndfT.iloc[8, 0] = 'No Qualifications'",
      "execution_count": 97,
      "outputs": []
    },
    {
      "metadata": {
        "trusted": true
      },
      "cell_type": "code",
      "source": "#bc. ! indicates that level close to 0\ndfT.replace('!', 0, inplace=True)",
      "execution_count": 98,
      "outputs": []
    },
    {
      "metadata": {
        "trusted": true,
        "scrolled": true
      },
      "cell_type": "code",
      "source": "df = dfT.T",
      "execution_count": 99,
      "outputs": []
    },
    {
      "metadata": {
        "trusted": true,
        "scrolled": true
      },
      "cell_type": "code",
      "source": "df.columns = df.loc[1]\ndf.drop(1, axis=0, inplace=True)\ndf.head()",
      "execution_count": 100,
      "outputs": [
        {
          "output_type": "execute_result",
          "execution_count": 100,
          "data": {
            "text/html": "<div>\n<style scoped>\n    .dataframe tbody tr th:only-of-type {\n        vertical-align: middle;\n    }\n\n    .dataframe tbody tr th {\n        vertical-align: top;\n    }\n\n    .dataframe thead th {\n        text-align: right;\n    }\n</style>\n<table border=\"1\" class=\"dataframe\">\n  <thead>\n    <tr style=\"text-align: right;\">\n      <th>1</th>\n      <th>Code</th>\n      <th>Area</th>\n      <th>NVQ4+</th>\n      <th>NVQ3</th>\n      <th>Trade Apprenticeship</th>\n      <th>NVQ2</th>\n      <th>NVQ1</th>\n      <th>Other</th>\n      <th>No Qualifications</th>\n    </tr>\n  </thead>\n  <tbody>\n    <tr>\n      <th>3</th>\n      <td>00AA</td>\n      <td>City of London</td>\n      <td>0</td>\n      <td>0</td>\n      <td>0</td>\n      <td>0</td>\n      <td>0</td>\n      <td>0</td>\n      <td>0</td>\n    </tr>\n    <tr>\n      <th>4</th>\n      <td>00AB</td>\n      <td>Barking and Dagenham</td>\n      <td>34.8</td>\n      <td>12</td>\n      <td>2.4</td>\n      <td>15.4</td>\n      <td>11.3</td>\n      <td>13.6</td>\n      <td>10.4</td>\n    </tr>\n    <tr>\n      <th>5</th>\n      <td>00AC</td>\n      <td>Barnet</td>\n      <td>49.9</td>\n      <td>14.6</td>\n      <td>1.3</td>\n      <td>8.7</td>\n      <td>7.4</td>\n      <td>11.6</td>\n      <td>6.4</td>\n    </tr>\n    <tr>\n      <th>6</th>\n      <td>00AD</td>\n      <td>Bexley</td>\n      <td>37.4</td>\n      <td>16.9</td>\n      <td>2.8</td>\n      <td>21.8</td>\n      <td>13.9</td>\n      <td>3.7</td>\n      <td>3.5</td>\n    </tr>\n    <tr>\n      <th>7</th>\n      <td>00AE</td>\n      <td>Brent</td>\n      <td>53.9</td>\n      <td>14.3</td>\n      <td>0.6</td>\n      <td>9.4</td>\n      <td>5.7</td>\n      <td>10.7</td>\n      <td>5.4</td>\n    </tr>\n  </tbody>\n</table>\n</div>",
            "text/plain": "1  Code                  Area NVQ4+  NVQ3 Trade Apprenticeship  NVQ2  NVQ1  \\\n3  00AA        City of London     0     0                    0     0     0   \n4  00AB  Barking and Dagenham  34.8    12                  2.4  15.4  11.3   \n5  00AC                Barnet  49.9  14.6                  1.3   8.7   7.4   \n6  00AD                Bexley  37.4  16.9                  2.8  21.8  13.9   \n7  00AE                 Brent  53.9  14.3                  0.6   9.4   5.7   \n\n1 Other No Qualifications  \n3     0                 0  \n4  13.6              10.4  \n5  11.6               6.4  \n6   3.7               3.5  \n7  10.7               5.4  "
          },
          "metadata": {}
        }
      ]
    },
    {
      "metadata": {},
      "cell_type": "markdown",
      "source": "## Establishing an average qualification score\n- assign all categories a certain ordinal value from 0 to 4.5:\n    - NVQ4+: 4.5 bc. it includes all 4 and 5 level active persons\n    - Trade Apprenticeship: 2.5 bc. such an apprenticeship can get assigned level 2 or 3 (https://www.gov.uk/government/publications/a-guide-to-apprenticeships)\n    - Other: 2.25 bc that is the average btw. 0 and 4.5"
    },
    {
      "metadata": {
        "trusted": true
      },
      "cell_type": "code",
      "source": "df['Average score'] = (df['NVQ4+']*4.5 + df['NVQ3']*3 + df['Trade Apprenticeship']*2.5 + df['NVQ2']*2 + df['NVQ1']*1 + df['Other']*2.25 + df['No Qualifications']*0)/100",
      "execution_count": 101,
      "outputs": []
    },
    {
      "metadata": {
        "trusted": true
      },
      "cell_type": "code",
      "source": "df",
      "execution_count": 102,
      "outputs": [
        {
          "output_type": "execute_result",
          "execution_count": 102,
          "data": {
            "text/html": "<div>\n<style scoped>\n    .dataframe tbody tr th:only-of-type {\n        vertical-align: middle;\n    }\n\n    .dataframe tbody tr th {\n        vertical-align: top;\n    }\n\n    .dataframe thead th {\n        text-align: right;\n    }\n</style>\n<table border=\"1\" class=\"dataframe\">\n  <thead>\n    <tr style=\"text-align: right;\">\n      <th>1</th>\n      <th>Code</th>\n      <th>Area</th>\n      <th>NVQ4+</th>\n      <th>NVQ3</th>\n      <th>Trade Apprenticeship</th>\n      <th>NVQ2</th>\n      <th>NVQ1</th>\n      <th>Other</th>\n      <th>No Qualifications</th>\n      <th>Average score</th>\n    </tr>\n  </thead>\n  <tbody>\n    <tr>\n      <th>3</th>\n      <td>00AA</td>\n      <td>City of London</td>\n      <td>0</td>\n      <td>0</td>\n      <td>0</td>\n      <td>0</td>\n      <td>0</td>\n      <td>0</td>\n      <td>0</td>\n      <td>0</td>\n    </tr>\n    <tr>\n      <th>4</th>\n      <td>00AB</td>\n      <td>Barking and Dagenham</td>\n      <td>34.8</td>\n      <td>12</td>\n      <td>2.4</td>\n      <td>15.4</td>\n      <td>11.3</td>\n      <td>13.6</td>\n      <td>10.4</td>\n      <td>2.713</td>\n    </tr>\n    <tr>\n      <th>5</th>\n      <td>00AC</td>\n      <td>Barnet</td>\n      <td>49.9</td>\n      <td>14.6</td>\n      <td>1.3</td>\n      <td>8.7</td>\n      <td>7.4</td>\n      <td>11.6</td>\n      <td>6.4</td>\n      <td>3.225</td>\n    </tr>\n    <tr>\n      <th>6</th>\n      <td>00AD</td>\n      <td>Bexley</td>\n      <td>37.4</td>\n      <td>16.9</td>\n      <td>2.8</td>\n      <td>21.8</td>\n      <td>13.9</td>\n      <td>3.7</td>\n      <td>3.5</td>\n      <td>2.91825</td>\n    </tr>\n    <tr>\n      <th>7</th>\n      <td>00AE</td>\n      <td>Brent</td>\n      <td>53.9</td>\n      <td>14.3</td>\n      <td>0.6</td>\n      <td>9.4</td>\n      <td>5.7</td>\n      <td>10.7</td>\n      <td>5.4</td>\n      <td>3.35525</td>\n    </tr>\n    <tr>\n      <th>8</th>\n      <td>00AF</td>\n      <td>Bromley</td>\n      <td>50</td>\n      <td>16.8</td>\n      <td>2</td>\n      <td>13.7</td>\n      <td>9.9</td>\n      <td>5.7</td>\n      <td>1.9</td>\n      <td>3.30525</td>\n    </tr>\n    <tr>\n      <th>9</th>\n      <td>00AG</td>\n      <td>Camden</td>\n      <td>72.4</td>\n      <td>12.1</td>\n      <td>0.9</td>\n      <td>5.2</td>\n      <td>3.6</td>\n      <td>3.8</td>\n      <td>1.9</td>\n      <td>3.869</td>\n    </tr>\n    <tr>\n      <th>10</th>\n      <td>00AH</td>\n      <td>Croydon</td>\n      <td>45.6</td>\n      <td>18.9</td>\n      <td>4.9</td>\n      <td>12.8</td>\n      <td>6.9</td>\n      <td>7.6</td>\n      <td>3.4</td>\n      <td>3.2375</td>\n    </tr>\n    <tr>\n      <th>11</th>\n      <td>00AJ</td>\n      <td>Ealing</td>\n      <td>54.2</td>\n      <td>12.8</td>\n      <td>2.6</td>\n      <td>10.6</td>\n      <td>3.5</td>\n      <td>9.8</td>\n      <td>6.5</td>\n      <td>3.3555</td>\n    </tr>\n    <tr>\n      <th>12</th>\n      <td>00AK</td>\n      <td>Enfield</td>\n      <td>48.1</td>\n      <td>13.5</td>\n      <td>2.6</td>\n      <td>10.1</td>\n      <td>12.4</td>\n      <td>9.5</td>\n      <td>3.8</td>\n      <td>3.17425</td>\n    </tr>\n    <tr>\n      <th>13</th>\n      <td>00AL</td>\n      <td>Greenwich</td>\n      <td>48.3</td>\n      <td>17.8</td>\n      <td>1.9</td>\n      <td>12.6</td>\n      <td>6.1</td>\n      <td>6.9</td>\n      <td>6.4</td>\n      <td>3.22325</td>\n    </tr>\n    <tr>\n      <th>14</th>\n      <td>00AM</td>\n      <td>Hackney</td>\n      <td>60</td>\n      <td>14.4</td>\n      <td>0.7</td>\n      <td>8.2</td>\n      <td>6.7</td>\n      <td>5.7</td>\n      <td>4.3</td>\n      <td>3.50875</td>\n    </tr>\n    <tr>\n      <th>15</th>\n      <td>00AN</td>\n      <td>Hammersmith and Fulham</td>\n      <td>72</td>\n      <td>9.1</td>\n      <td>0.7</td>\n      <td>6</td>\n      <td>5</td>\n      <td>3.4</td>\n      <td>3.8</td>\n      <td>3.777</td>\n    </tr>\n    <tr>\n      <th>16</th>\n      <td>00AP</td>\n      <td>Haringey</td>\n      <td>55.6</td>\n      <td>12.7</td>\n      <td>1.7</td>\n      <td>6.8</td>\n      <td>6.3</td>\n      <td>10.1</td>\n      <td>6.8</td>\n      <td>3.35175</td>\n    </tr>\n    <tr>\n      <th>17</th>\n      <td>00AQ</td>\n      <td>Harrow</td>\n      <td>58.2</td>\n      <td>16.2</td>\n      <td>0.7</td>\n      <td>8.1</td>\n      <td>5.8</td>\n      <td>9.3</td>\n      <td>1.7</td>\n      <td>3.55175</td>\n    </tr>\n    <tr>\n      <th>18</th>\n      <td>00AR</td>\n      <td>Havering</td>\n      <td>27.8</td>\n      <td>19.6</td>\n      <td>3.9</td>\n      <td>23.1</td>\n      <td>13.6</td>\n      <td>6.2</td>\n      <td>5.8</td>\n      <td>2.674</td>\n    </tr>\n    <tr>\n      <th>19</th>\n      <td>00AS</td>\n      <td>Hillingdon</td>\n      <td>45</td>\n      <td>15.4</td>\n      <td>1.4</td>\n      <td>11.1</td>\n      <td>10.9</td>\n      <td>10.3</td>\n      <td>6</td>\n      <td>3.08475</td>\n    </tr>\n    <tr>\n      <th>20</th>\n      <td>00AT</td>\n      <td>Hounslow</td>\n      <td>55.2</td>\n      <td>8.8</td>\n      <td>2.2</td>\n      <td>10.5</td>\n      <td>6.5</td>\n      <td>11</td>\n      <td>5.8</td>\n      <td>3.3255</td>\n    </tr>\n    <tr>\n      <th>21</th>\n      <td>00AU</td>\n      <td>Islington</td>\n      <td>69.6</td>\n      <td>7.2</td>\n      <td>1.3</td>\n      <td>5.6</td>\n      <td>6.1</td>\n      <td>5.4</td>\n      <td>4.9</td>\n      <td>3.675</td>\n    </tr>\n    <tr>\n      <th>22</th>\n      <td>00AW</td>\n      <td>Kensington and Chelsea</td>\n      <td>68.6</td>\n      <td>7</td>\n      <td>1.7</td>\n      <td>5</td>\n      <td>5.1</td>\n      <td>7.3</td>\n      <td>5.3</td>\n      <td>3.65475</td>\n    </tr>\n    <tr>\n      <th>23</th>\n      <td>00AX</td>\n      <td>Kingston upon Thames</td>\n      <td>61.6</td>\n      <td>12.9</td>\n      <td>1.2</td>\n      <td>11.4</td>\n      <td>6.3</td>\n      <td>5.3</td>\n      <td>1.3</td>\n      <td>3.59925</td>\n    </tr>\n    <tr>\n      <th>24</th>\n      <td>00AY</td>\n      <td>Lambeth</td>\n      <td>68.4</td>\n      <td>9.6</td>\n      <td>0.7</td>\n      <td>5.4</td>\n      <td>6.5</td>\n      <td>5.1</td>\n      <td>4.4</td>\n      <td>3.67125</td>\n    </tr>\n    <tr>\n      <th>25</th>\n      <td>00AZ</td>\n      <td>Lewisham</td>\n      <td>58.6</td>\n      <td>13.7</td>\n      <td>1.9</td>\n      <td>9.5</td>\n      <td>5.3</td>\n      <td>6</td>\n      <td>5</td>\n      <td>3.4735</td>\n    </tr>\n    <tr>\n      <th>26</th>\n      <td>00BA</td>\n      <td>Merton</td>\n      <td>57.3</td>\n      <td>13.1</td>\n      <td>1.4</td>\n      <td>9.8</td>\n      <td>4.9</td>\n      <td>10.3</td>\n      <td>3.1</td>\n      <td>3.48325</td>\n    </tr>\n    <tr>\n      <th>27</th>\n      <td>00BB</td>\n      <td>Newham</td>\n      <td>43.3</td>\n      <td>13.6</td>\n      <td>0.7</td>\n      <td>10.2</td>\n      <td>5</td>\n      <td>19.9</td>\n      <td>7.3</td>\n      <td>3.07575</td>\n    </tr>\n    <tr>\n      <th>28</th>\n      <td>00BC</td>\n      <td>Redbridge</td>\n      <td>52.9</td>\n      <td>14.2</td>\n      <td>0.6</td>\n      <td>10.2</td>\n      <td>8.2</td>\n      <td>9.1</td>\n      <td>4.8</td>\n      <td>3.31225</td>\n    </tr>\n    <tr>\n      <th>29</th>\n      <td>00BD</td>\n      <td>Richmond upon Thames</td>\n      <td>72.5</td>\n      <td>12</td>\n      <td>1.8</td>\n      <td>6.9</td>\n      <td>3</td>\n      <td>3.4</td>\n      <td>0</td>\n      <td>3.912</td>\n    </tr>\n    <tr>\n      <th>30</th>\n      <td>00BE</td>\n      <td>Southwark</td>\n      <td>67.6</td>\n      <td>9.2</td>\n      <td>0.8</td>\n      <td>7.5</td>\n      <td>4.1</td>\n      <td>5.7</td>\n      <td>5</td>\n      <td>3.65725</td>\n    </tr>\n    <tr>\n      <th>31</th>\n      <td>00BF</td>\n      <td>Sutton</td>\n      <td>47.2</td>\n      <td>14.9</td>\n      <td>4.1</td>\n      <td>13.7</td>\n      <td>8.9</td>\n      <td>7.9</td>\n      <td>3.4</td>\n      <td>3.21425</td>\n    </tr>\n    <tr>\n      <th>32</th>\n      <td>00BG</td>\n      <td>Tower Hamlets</td>\n      <td>53.5</td>\n      <td>15.1</td>\n      <td>0</td>\n      <td>11.9</td>\n      <td>6.5</td>\n      <td>5.6</td>\n      <td>7</td>\n      <td>3.2895</td>\n    </tr>\n    <tr>\n      <th>33</th>\n      <td>00BH</td>\n      <td>Waltham Forest</td>\n      <td>51.8</td>\n      <td>13.6</td>\n      <td>1</td>\n      <td>11.7</td>\n      <td>8.3</td>\n      <td>6.9</td>\n      <td>6.6</td>\n      <td>3.23625</td>\n    </tr>\n    <tr>\n      <th>34</th>\n      <td>00BJ</td>\n      <td>Wandsworth</td>\n      <td>77.4</td>\n      <td>5.7</td>\n      <td>0.9</td>\n      <td>7</td>\n      <td>1.8</td>\n      <td>5</td>\n      <td>2.3</td>\n      <td>3.947</td>\n    </tr>\n    <tr>\n      <th>35</th>\n      <td>00BK</td>\n      <td>Westminster</td>\n      <td>76</td>\n      <td>6</td>\n      <td>0.6</td>\n      <td>5.1</td>\n      <td>3.5</td>\n      <td>7.2</td>\n      <td>1.6</td>\n      <td>3.914</td>\n    </tr>\n    <tr>\n      <th>36</th>\n      <td>None</td>\n      <td>None</td>\n      <td>None</td>\n      <td>None</td>\n      <td>None</td>\n      <td>None</td>\n      <td>None</td>\n      <td>None</td>\n      <td>None</td>\n      <td>NaN</td>\n    </tr>\n    <tr>\n      <th>37</th>\n      <td>A</td>\n      <td>North East</td>\n      <td>32.6</td>\n      <td>20.6</td>\n      <td>4.8</td>\n      <td>19.1</td>\n      <td>12</td>\n      <td>5.4</td>\n      <td>5.6</td>\n      <td>2.8285</td>\n    </tr>\n    <tr>\n      <th>38</th>\n      <td>B</td>\n      <td>North West</td>\n      <td>35.7</td>\n      <td>18.5</td>\n      <td>4.2</td>\n      <td>18.7</td>\n      <td>11</td>\n      <td>5.8</td>\n      <td>6.1</td>\n      <td>2.881</td>\n    </tr>\n    <tr>\n      <th>39</th>\n      <td>D</td>\n      <td>Yorkshire and The Humber</td>\n      <td>33.9</td>\n      <td>18.6</td>\n      <td>4.5</td>\n      <td>17.5</td>\n      <td>12.6</td>\n      <td>6.7</td>\n      <td>6.1</td>\n      <td>2.82275</td>\n    </tr>\n    <tr>\n      <th>40</th>\n      <td>E</td>\n      <td>East Midlands</td>\n      <td>34.2</td>\n      <td>19.3</td>\n      <td>3.8</td>\n      <td>17.8</td>\n      <td>12.7</td>\n      <td>6.2</td>\n      <td>6</td>\n      <td>2.8355</td>\n    </tr>\n    <tr>\n      <th>41</th>\n      <td>F</td>\n      <td>West Midlands</td>\n      <td>33.8</td>\n      <td>18.4</td>\n      <td>3.4</td>\n      <td>16.9</td>\n      <td>11.8</td>\n      <td>7.2</td>\n      <td>8.5</td>\n      <td>2.776</td>\n    </tr>\n    <tr>\n      <th>42</th>\n      <td>G</td>\n      <td>East</td>\n      <td>36.1</td>\n      <td>18</td>\n      <td>3.8</td>\n      <td>17.6</td>\n      <td>13.2</td>\n      <td>6</td>\n      <td>5.4</td>\n      <td>2.8785</td>\n    </tr>\n    <tr>\n      <th>43</th>\n      <td>H</td>\n      <td>London</td>\n      <td>56</td>\n      <td>13</td>\n      <td>1.6</td>\n      <td>10.1</td>\n      <td>6.8</td>\n      <td>7.8</td>\n      <td>4.6</td>\n      <td>3.3955</td>\n    </tr>\n    <tr>\n      <th>44</th>\n      <td>J</td>\n      <td>South East</td>\n      <td>42.7</td>\n      <td>17.5</td>\n      <td>3.6</td>\n      <td>16</td>\n      <td>11.3</td>\n      <td>5.2</td>\n      <td>3.7</td>\n      <td>3.0865</td>\n    </tr>\n    <tr>\n      <th>45</th>\n      <td>K</td>\n      <td>South West</td>\n      <td>39.4</td>\n      <td>19.3</td>\n      <td>3.8</td>\n      <td>17</td>\n      <td>12.1</td>\n      <td>4.8</td>\n      <td>3.6</td>\n      <td>3.016</td>\n    </tr>\n    <tr>\n      <th>46</th>\n      <td>None</td>\n      <td>None</td>\n      <td>None</td>\n      <td>None</td>\n      <td>None</td>\n      <td>None</td>\n      <td>None</td>\n      <td>None</td>\n      <td>None</td>\n      <td>NaN</td>\n    </tr>\n    <tr>\n      <th>47</th>\n      <td>921</td>\n      <td>England</td>\n      <td>40</td>\n      <td>17.6</td>\n      <td>3.5</td>\n      <td>16.2</td>\n      <td>11.1</td>\n      <td>6.2</td>\n      <td>5.3</td>\n      <td>2.99</td>\n    </tr>\n    <tr>\n      <th>48</th>\n      <td>924</td>\n      <td>Wales</td>\n      <td>37.8</td>\n      <td>18.6</td>\n      <td>4</td>\n      <td>16.8</td>\n      <td>10.7</td>\n      <td>5.9</td>\n      <td>6.1</td>\n      <td>2.93475</td>\n    </tr>\n    <tr>\n      <th>49</th>\n      <td>923</td>\n      <td>Scotland</td>\n      <td>45.6</td>\n      <td>14.4</td>\n      <td>4.8</td>\n      <td>13.7</td>\n      <td>9</td>\n      <td>6.3</td>\n      <td>6.3</td>\n      <td>3.10975</td>\n    </tr>\n    <tr>\n      <th>50</th>\n      <td>922</td>\n      <td>Northern Ireland</td>\n      <td>35.7</td>\n      <td>15</td>\n      <td>7.4</td>\n      <td>16.1</td>\n      <td>10</td>\n      <td>4.2</td>\n      <td>11.6</td>\n      <td>2.758</td>\n    </tr>\n    <tr>\n      <th>51</th>\n      <td>None</td>\n      <td>None</td>\n      <td>None</td>\n      <td>None</td>\n      <td>None</td>\n      <td>None</td>\n      <td>None</td>\n      <td>None</td>\n      <td>None</td>\n      <td>NaN</td>\n    </tr>\n    <tr>\n      <th>52</th>\n      <td>941</td>\n      <td>England and Wales</td>\n      <td>39.9</td>\n      <td>17.7</td>\n      <td>3.6</td>\n      <td>16.2</td>\n      <td>11.1</td>\n      <td>6.2</td>\n      <td>5.4</td>\n      <td>2.991</td>\n    </tr>\n    <tr>\n      <th>53</th>\n      <td>925</td>\n      <td>Great Britain</td>\n      <td>40.4</td>\n      <td>17.4</td>\n      <td>3.7</td>\n      <td>16</td>\n      <td>10.9</td>\n      <td>6.2</td>\n      <td>5.5</td>\n      <td>3.001</td>\n    </tr>\n    <tr>\n      <th>54</th>\n      <td>926</td>\n      <td>United Kingdom</td>\n      <td>40.3</td>\n      <td>17.3</td>\n      <td>3.8</td>\n      <td>16</td>\n      <td>10.9</td>\n      <td>6.1</td>\n      <td>5.6</td>\n      <td>2.99375</td>\n    </tr>\n  </tbody>\n</table>\n</div>",
            "text/plain": "1   Code                      Area NVQ4+  NVQ3 Trade Apprenticeship  NVQ2  \\\n3   00AA            City of London     0     0                    0     0   \n4   00AB      Barking and Dagenham  34.8    12                  2.4  15.4   \n5   00AC                    Barnet  49.9  14.6                  1.3   8.7   \n6   00AD                    Bexley  37.4  16.9                  2.8  21.8   \n7   00AE                     Brent  53.9  14.3                  0.6   9.4   \n8   00AF                   Bromley    50  16.8                    2  13.7   \n9   00AG                    Camden  72.4  12.1                  0.9   5.2   \n10  00AH                   Croydon  45.6  18.9                  4.9  12.8   \n11  00AJ                    Ealing  54.2  12.8                  2.6  10.6   \n12  00AK                   Enfield  48.1  13.5                  2.6  10.1   \n13  00AL                 Greenwich  48.3  17.8                  1.9  12.6   \n14  00AM                   Hackney    60  14.4                  0.7   8.2   \n15  00AN    Hammersmith and Fulham    72   9.1                  0.7     6   \n16  00AP                  Haringey  55.6  12.7                  1.7   6.8   \n17  00AQ                    Harrow  58.2  16.2                  0.7   8.1   \n18  00AR                  Havering  27.8  19.6                  3.9  23.1   \n19  00AS                Hillingdon    45  15.4                  1.4  11.1   \n20  00AT                  Hounslow  55.2   8.8                  2.2  10.5   \n21  00AU                 Islington  69.6   7.2                  1.3   5.6   \n22  00AW    Kensington and Chelsea  68.6     7                  1.7     5   \n23  00AX      Kingston upon Thames  61.6  12.9                  1.2  11.4   \n24  00AY                   Lambeth  68.4   9.6                  0.7   5.4   \n25  00AZ                  Lewisham  58.6  13.7                  1.9   9.5   \n26  00BA                    Merton  57.3  13.1                  1.4   9.8   \n27  00BB                    Newham  43.3  13.6                  0.7  10.2   \n28  00BC                 Redbridge  52.9  14.2                  0.6  10.2   \n29  00BD      Richmond upon Thames  72.5    12                  1.8   6.9   \n30  00BE                 Southwark  67.6   9.2                  0.8   7.5   \n31  00BF                    Sutton  47.2  14.9                  4.1  13.7   \n32  00BG             Tower Hamlets  53.5  15.1                    0  11.9   \n33  00BH            Waltham Forest  51.8  13.6                    1  11.7   \n34  00BJ                Wandsworth  77.4   5.7                  0.9     7   \n35  00BK               Westminster    76     6                  0.6   5.1   \n36  None                      None  None  None                 None  None   \n37     A                North East  32.6  20.6                  4.8  19.1   \n38     B                North West  35.7  18.5                  4.2  18.7   \n39     D  Yorkshire and The Humber  33.9  18.6                  4.5  17.5   \n40     E             East Midlands  34.2  19.3                  3.8  17.8   \n41     F             West Midlands  33.8  18.4                  3.4  16.9   \n42     G                      East  36.1    18                  3.8  17.6   \n43     H                    London    56    13                  1.6  10.1   \n44     J                South East  42.7  17.5                  3.6    16   \n45     K                South West  39.4  19.3                  3.8    17   \n46  None                      None  None  None                 None  None   \n47   921                   England    40  17.6                  3.5  16.2   \n48   924                     Wales  37.8  18.6                    4  16.8   \n49   923                  Scotland  45.6  14.4                  4.8  13.7   \n50   922          Northern Ireland  35.7    15                  7.4  16.1   \n51  None                      None  None  None                 None  None   \n52   941         England and Wales  39.9  17.7                  3.6  16.2   \n53   925             Great Britain  40.4  17.4                  3.7    16   \n54   926            United Kingdom  40.3  17.3                  3.8    16   \n\n1   NVQ1 Other No Qualifications Average score  \n3      0     0                 0             0  \n4   11.3  13.6              10.4         2.713  \n5    7.4  11.6               6.4         3.225  \n6   13.9   3.7               3.5       2.91825  \n7    5.7  10.7               5.4       3.35525  \n8    9.9   5.7               1.9       3.30525  \n9    3.6   3.8               1.9         3.869  \n10   6.9   7.6               3.4        3.2375  \n11   3.5   9.8               6.5        3.3555  \n12  12.4   9.5               3.8       3.17425  \n13   6.1   6.9               6.4       3.22325  \n14   6.7   5.7               4.3       3.50875  \n15     5   3.4               3.8         3.777  \n16   6.3  10.1               6.8       3.35175  \n17   5.8   9.3               1.7       3.55175  \n18  13.6   6.2               5.8         2.674  \n19  10.9  10.3                 6       3.08475  \n20   6.5    11               5.8        3.3255  \n21   6.1   5.4               4.9         3.675  \n22   5.1   7.3               5.3       3.65475  \n23   6.3   5.3               1.3       3.59925  \n24   6.5   5.1               4.4       3.67125  \n25   5.3     6                 5        3.4735  \n26   4.9  10.3               3.1       3.48325  \n27     5  19.9               7.3       3.07575  \n28   8.2   9.1               4.8       3.31225  \n29     3   3.4                 0         3.912  \n30   4.1   5.7                 5       3.65725  \n31   8.9   7.9               3.4       3.21425  \n32   6.5   5.6                 7        3.2895  \n33   8.3   6.9               6.6       3.23625  \n34   1.8     5               2.3         3.947  \n35   3.5   7.2               1.6         3.914  \n36  None  None              None           NaN  \n37    12   5.4               5.6        2.8285  \n38    11   5.8               6.1         2.881  \n39  12.6   6.7               6.1       2.82275  \n40  12.7   6.2                 6        2.8355  \n41  11.8   7.2               8.5         2.776  \n42  13.2     6               5.4        2.8785  \n43   6.8   7.8               4.6        3.3955  \n44  11.3   5.2               3.7        3.0865  \n45  12.1   4.8               3.6         3.016  \n46  None  None              None           NaN  \n47  11.1   6.2               5.3          2.99  \n48  10.7   5.9               6.1       2.93475  \n49     9   6.3               6.3       3.10975  \n50    10   4.2              11.6         2.758  \n51  None  None              None           NaN  \n52  11.1   6.2               5.4         2.991  \n53  10.9   6.2               5.5         3.001  \n54  10.9   6.1               5.6       2.99375  "
          },
          "metadata": {}
        }
      ]
    },
    {
      "metadata": {
        "trusted": true
      },
      "cell_type": "code",
      "source": "PROC_DATA_PATH = '~/library/data/processed/'\ndf.to_csv(PROC_DATA_PATH + 'qualifications-average-2014.csv') ",
      "execution_count": 69,
      "outputs": []
    },
    {
      "metadata": {
        "trusted": true
      },
      "cell_type": "markdown",
      "source": "## 2) Dataset with specific values over time \n- clear df so that only contains borough and no qualification\n- import row No Qualifications of all worksheets and merge them "
    },
    {
      "metadata": {},
      "cell_type": "markdown",
      "source": "### No qualifications over time"
    },
    {
      "metadata": {
        "trusted": true
      },
      "cell_type": "code",
      "source": "ws2 = wb2[\"2004\"]",
      "execution_count": 188,
      "outputs": []
    },
    {
      "metadata": {
        "trusted": true
      },
      "cell_type": "code",
      "source": "df04 = pd.DataFrame(ws2.values)\ndf04.tail()",
      "execution_count": 189,
      "outputs": [
        {
          "output_type": "execute_result",
          "execution_count": 189,
          "data": {
            "text/html": "<div>\n<style scoped>\n    .dataframe tbody tr th:only-of-type {\n        vertical-align: middle;\n    }\n\n    .dataframe tbody tr th {\n        vertical-align: top;\n    }\n\n    .dataframe thead th {\n        text-align: right;\n    }\n</style>\n<table border=\"1\" class=\"dataframe\">\n  <thead>\n    <tr style=\"text-align: right;\">\n      <th></th>\n      <th>0</th>\n      <th>1</th>\n      <th>2</th>\n      <th>3</th>\n      <th>4</th>\n      <th>5</th>\n      <th>6</th>\n      <th>7</th>\n      <th>8</th>\n      <th>9</th>\n      <th>...</th>\n      <th>76</th>\n      <th>77</th>\n      <th>78</th>\n      <th>79</th>\n      <th>80</th>\n      <th>81</th>\n      <th>82</th>\n      <th>83</th>\n      <th>84</th>\n      <th>85</th>\n    </tr>\n  </thead>\n  <tbody>\n    <tr>\n      <th>50</th>\n      <td>922</td>\n      <td>Northern Ireland</td>\n      <td>216800</td>\n      <td>759000</td>\n      <td>28.6</td>\n      <td>1.5</td>\n      <td>102600</td>\n      <td>423800</td>\n      <td>24.2</td>\n      <td>1.9</td>\n      <td>...</td>\n      <td>18.1</td>\n      <td>1.3</td>\n      <td>84100</td>\n      <td>423800</td>\n      <td>19.8</td>\n      <td>1.8</td>\n      <td>53200</td>\n      <td>335200</td>\n      <td>15.9</td>\n      <td>1.8</td>\n    </tr>\n    <tr>\n      <th>51</th>\n      <td>None</td>\n      <td>None</td>\n      <td>None</td>\n      <td>None</td>\n      <td>None</td>\n      <td>None</td>\n      <td>None</td>\n      <td>None</td>\n      <td>None</td>\n      <td>None</td>\n      <td>...</td>\n      <td>None</td>\n      <td>None</td>\n      <td>None</td>\n      <td>None</td>\n      <td>None</td>\n      <td>None</td>\n      <td>None</td>\n      <td>None</td>\n      <td>None</td>\n      <td>None</td>\n    </tr>\n    <tr>\n      <th>52</th>\n      <td>941</td>\n      <td>England and Wales</td>\n      <td>7566200</td>\n      <td>25875900</td>\n      <td>29.2</td>\n      <td>0.2</td>\n      <td>4014500</td>\n      <td>14056700</td>\n      <td>28.6</td>\n      <td>0.3</td>\n      <td>...</td>\n      <td>10.8</td>\n      <td>0.2</td>\n      <td>1514600</td>\n      <td>14056700</td>\n      <td>10.8</td>\n      <td>0.2</td>\n      <td>1277000</td>\n      <td>11819200</td>\n      <td>10.8</td>\n      <td>0.2</td>\n    </tr>\n    <tr>\n      <th>53</th>\n      <td>925</td>\n      <td>Great Britain</td>\n      <td>8427600</td>\n      <td>28398200</td>\n      <td>29.7</td>\n      <td>0.2</td>\n      <td>4443000</td>\n      <td>15387000</td>\n      <td>28.9</td>\n      <td>0.3</td>\n      <td>...</td>\n      <td>10.9</td>\n      <td>0.1</td>\n      <td>1652900</td>\n      <td>15387000</td>\n      <td>10.7</td>\n      <td>0.2</td>\n      <td>1430600</td>\n      <td>13011300</td>\n      <td>11</td>\n      <td>0.2</td>\n    </tr>\n    <tr>\n      <th>54</th>\n      <td>926</td>\n      <td>United Kingdom</td>\n      <td>8644400</td>\n      <td>29157200</td>\n      <td>29.6</td>\n      <td>0.2</td>\n      <td>4545600</td>\n      <td>15810800</td>\n      <td>28.7</td>\n      <td>0.3</td>\n      <td>...</td>\n      <td>11</td>\n      <td>0.1</td>\n      <td>1737000</td>\n      <td>15810800</td>\n      <td>11</td>\n      <td>0.2</td>\n      <td>1483800</td>\n      <td>13346400</td>\n      <td>11.1</td>\n      <td>0.2</td>\n    </tr>\n  </tbody>\n</table>\n<p>5 rows × 86 columns</p>\n</div>",
            "text/plain": "      0                  1        2         3     4     5        6         7   \\\n50   922   Northern Ireland   216800    759000  28.6   1.5   102600    423800   \n51  None               None     None      None  None  None     None      None   \n52   941  England and Wales  7566200  25875900  29.2   0.2  4014500  14056700   \n53   925      Great Britain  8427600  28398200  29.7   0.2  4443000  15387000   \n54   926     United Kingdom  8644400  29157200  29.6   0.2  4545600  15810800   \n\n      8     9   ...     76    77       78        79    80    81       82  \\\n50  24.2   1.9  ...   18.1   1.3    84100    423800  19.8   1.8    53200   \n51  None  None  ...   None  None     None      None  None  None     None   \n52  28.6   0.3  ...   10.8   0.2  1514600  14056700  10.8   0.2  1277000   \n53  28.9   0.3  ...   10.9   0.1  1652900  15387000  10.7   0.2  1430600   \n54  28.7   0.3  ...     11   0.1  1737000  15810800    11   0.2  1483800   \n\n          83    84    85  \n50    335200  15.9   1.8  \n51      None  None  None  \n52  11819200  10.8   0.2  \n53  13011300    11   0.2  \n54  13346400  11.1   0.2  \n\n[5 rows x 86 columns]"
          },
          "metadata": {}
        }
      ]
    },
    {
      "metadata": {
        "trusted": true,
        "scrolled": true
      },
      "cell_type": "code",
      "source": "nq04 = df04[76]",
      "execution_count": 190,
      "outputs": []
    },
    {
      "metadata": {
        "trusted": true
      },
      "cell_type": "code",
      "source": "ws2 = wb2[\"2005\"]\ndf05 = pd.DataFrame(ws2.values)\nnq05 = df05[76]",
      "execution_count": 191,
      "outputs": []
    },
    {
      "metadata": {
        "trusted": true
      },
      "cell_type": "code",
      "source": "ws2 = wb2[\"2006\"]\ndf06 = pd.DataFrame(ws2.values)\nnq06 = df06[76]",
      "execution_count": 192,
      "outputs": []
    },
    {
      "metadata": {
        "trusted": true
      },
      "cell_type": "code",
      "source": "ws2 = wb2[\"2007\"]\ndf07 = pd.DataFrame(ws2.values)\nnq07 = df07[76]",
      "execution_count": 193,
      "outputs": []
    },
    {
      "metadata": {
        "trusted": true
      },
      "cell_type": "code",
      "source": "ws2 = wb2[\"2008\"]\ndf08 = pd.DataFrame(ws2.values)\nnq08 = df08[76]",
      "execution_count": 194,
      "outputs": []
    },
    {
      "metadata": {
        "trusted": true
      },
      "cell_type": "code",
      "source": "ws2 = wb2[\"2009\"]\ndf09 = pd.DataFrame(ws2.values)\nnq09 = df09[76]",
      "execution_count": 195,
      "outputs": []
    },
    {
      "metadata": {
        "trusted": true
      },
      "cell_type": "code",
      "source": "ws2 = wb2[\"2010\"]\ndf10 = pd.DataFrame(ws2.values)\nnq10 = df10[76]",
      "execution_count": 196,
      "outputs": []
    },
    {
      "metadata": {
        "trusted": true
      },
      "cell_type": "code",
      "source": "ws2 = wb2[\"2011\"]\ndf11 = pd.DataFrame(ws2.values)\nnq11 = df11[76]",
      "execution_count": 197,
      "outputs": []
    },
    {
      "metadata": {
        "trusted": true
      },
      "cell_type": "code",
      "source": "ws2 = wb2[\"2012\"]\ndf12 = pd.DataFrame(ws2.values)\nnq12 = df12[76]",
      "execution_count": 198,
      "outputs": []
    },
    {
      "metadata": {
        "trusted": true
      },
      "cell_type": "code",
      "source": "ws2 = wb2[\"2013\"]\ndf13 = pd.DataFrame(ws2.values)\nnq13 = df13[76]",
      "execution_count": 199,
      "outputs": []
    },
    {
      "metadata": {
        "trusted": true
      },
      "cell_type": "code",
      "source": "ws2 = wb2[\"2014\"]\ndf14 = pd.DataFrame(ws2.values)\nnq14 = df14[76]",
      "execution_count": 200,
      "outputs": []
    },
    {
      "metadata": {
        "trusted": true
      },
      "cell_type": "code",
      "source": "ws2 = wb2[\"2015\"]\ndf15 = pd.DataFrame(ws2.values)\nnq15 = df15[76]",
      "execution_count": 201,
      "outputs": []
    },
    {
      "metadata": {
        "trusted": true
      },
      "cell_type": "code",
      "source": "ws2 = wb2[\"2016\"]\ndf16 = pd.DataFrame(ws2.values)\nnq16 = df16[76]",
      "execution_count": 202,
      "outputs": []
    },
    {
      "metadata": {
        "trusted": true
      },
      "cell_type": "code",
      "source": "ws2 = wb2[\"2017\"]\ndf17 = pd.DataFrame(ws2.values)\nnq17 = df17[76]",
      "execution_count": 203,
      "outputs": []
    },
    {
      "metadata": {
        "trusted": true
      },
      "cell_type": "code",
      "source": "ws2 = wb2[\"2018\"]\ndf18 = pd.DataFrame(ws2.values)\nnq18 = df18[76]",
      "execution_count": 204,
      "outputs": []
    },
    {
      "metadata": {
        "trusted": true
      },
      "cell_type": "code",
      "source": "#using only the borough key of df\nbulk = df.iloc[::, 2:]",
      "execution_count": 205,
      "outputs": []
    },
    {
      "metadata": {
        "trusted": true
      },
      "cell_type": "code",
      "source": "df.drop(bulk, axis=1, inplace=True)",
      "execution_count": 206,
      "outputs": []
    },
    {
      "metadata": {
        "trusted": true
      },
      "cell_type": "code",
      "source": "df = pd.concat([df, nq04], axis=1)\ndf = pd.concat([df, nq05], axis=1)\ndf = pd.concat([df, nq06], axis=1)\ndf = pd.concat([df, nq07], axis=1)\ndf = pd.concat([df, nq08], axis=1)\ndf = pd.concat([df, nq09], axis=1)\ndf = pd.concat([df, nq10], axis=1)\ndf = pd.concat([df, nq11], axis=1)\ndf = pd.concat([df, nq12], axis=1)\ndf = pd.concat([df, nq13], axis=1)\ndf = pd.concat([df, nq14], axis=1)\ndf = pd.concat([df, nq15], axis=1)\ndf = pd.concat([df, nq16], axis=1)\ndf = pd.concat([df, nq17], axis=1)\ndf = pd.concat([df, nq18], axis=1)\ndf",
      "execution_count": 207,
      "outputs": [
        {
          "output_type": "execute_result",
          "execution_count": 207,
          "data": {
            "text/html": "<div>\n<style scoped>\n    .dataframe tbody tr th:only-of-type {\n        vertical-align: middle;\n    }\n\n    .dataframe tbody tr th {\n        vertical-align: top;\n    }\n\n    .dataframe thead th {\n        text-align: right;\n    }\n</style>\n<table border=\"1\" class=\"dataframe\">\n  <thead>\n    <tr style=\"text-align: right;\">\n      <th></th>\n      <th>Code</th>\n      <th>Area</th>\n      <th>76</th>\n      <th>76</th>\n      <th>76</th>\n      <th>76</th>\n      <th>76</th>\n      <th>76</th>\n      <th>76</th>\n      <th>76</th>\n      <th>76</th>\n      <th>76</th>\n      <th>76</th>\n      <th>76</th>\n      <th>76</th>\n      <th>76</th>\n      <th>76</th>\n    </tr>\n  </thead>\n  <tbody>\n    <tr>\n      <th>0</th>\n      <td>NaN</td>\n      <td>NaN</td>\n      <td>None</td>\n      <td>None</td>\n      <td>None</td>\n      <td>None</td>\n      <td>None</td>\n      <td>None</td>\n      <td>None</td>\n      <td>None</td>\n      <td>None</td>\n      <td>None</td>\n      <td>None</td>\n      <td>None</td>\n      <td>None</td>\n      <td>None</td>\n      <td>None</td>\n    </tr>\n    <tr>\n      <th>1</th>\n      <td>NaN</td>\n      <td>NaN</td>\n      <td>percent</td>\n      <td>percent</td>\n      <td>percent</td>\n      <td>percent</td>\n      <td>percent</td>\n      <td>percent</td>\n      <td>percent</td>\n      <td>percent</td>\n      <td>percent</td>\n      <td>percent</td>\n      <td>percent</td>\n      <td>percent</td>\n      <td>percent</td>\n      <td>percent</td>\n      <td>percent</td>\n    </tr>\n    <tr>\n      <th>2</th>\n      <td>NaN</td>\n      <td>NaN</td>\n      <td>None</td>\n      <td>None</td>\n      <td>None</td>\n      <td>None</td>\n      <td>None</td>\n      <td>None</td>\n      <td>None</td>\n      <td>None</td>\n      <td>None</td>\n      <td>None</td>\n      <td>None</td>\n      <td>None</td>\n      <td>None</td>\n      <td>None</td>\n      <td>None</td>\n    </tr>\n    <tr>\n      <th>3</th>\n      <td>00AA</td>\n      <td>City of London</td>\n      <td>!</td>\n      <td>!</td>\n      <td>!</td>\n      <td>!</td>\n      <td>!</td>\n      <td>!</td>\n      <td>!</td>\n      <td>!</td>\n      <td>!</td>\n      <td>!</td>\n      <td>!</td>\n      <td>!</td>\n      <td>!</td>\n      <td>!</td>\n      <td>!</td>\n    </tr>\n    <tr>\n      <th>4</th>\n      <td>00AB</td>\n      <td>Barking and Dagenham</td>\n      <td>16.3</td>\n      <td>16.4</td>\n      <td>17</td>\n      <td>18.3</td>\n      <td>17.5</td>\n      <td>12.7</td>\n      <td>12.9</td>\n      <td>8.6</td>\n      <td>8.2</td>\n      <td>11.4</td>\n      <td>10.4</td>\n      <td>9.3</td>\n      <td>11.5</td>\n      <td>10</td>\n      <td>7.8</td>\n    </tr>\n    <tr>\n      <th>5</th>\n      <td>00AC</td>\n      <td>Barnet</td>\n      <td>6.8</td>\n      <td>6.4</td>\n      <td>5.3</td>\n      <td>7.8</td>\n      <td>5.6</td>\n      <td>5.9</td>\n      <td>5.2</td>\n      <td>3.7</td>\n      <td>5</td>\n      <td>2.8</td>\n      <td>6.4</td>\n      <td>3.3</td>\n      <td>3.6</td>\n      <td>3.7</td>\n      <td>3</td>\n    </tr>\n    <tr>\n      <th>6</th>\n      <td>00AD</td>\n      <td>Bexley</td>\n      <td>8.6</td>\n      <td>8.5</td>\n      <td>6.3</td>\n      <td>11.2</td>\n      <td>8.2</td>\n      <td>6.9</td>\n      <td>4.3</td>\n      <td>4.8</td>\n      <td>5.6</td>\n      <td>2.7</td>\n      <td>3.5</td>\n      <td>7.7</td>\n      <td>3.4</td>\n      <td>3.1</td>\n      <td>3.5</td>\n    </tr>\n    <tr>\n      <th>7</th>\n      <td>00AE</td>\n      <td>Brent</td>\n      <td>11.6</td>\n      <td>8.2</td>\n      <td>7.2</td>\n      <td>6.5</td>\n      <td>5.1</td>\n      <td>6.8</td>\n      <td>2.1</td>\n      <td>8.2</td>\n      <td>8.3</td>\n      <td>5.7</td>\n      <td>5.4</td>\n      <td>4.6</td>\n      <td>3.4</td>\n      <td>5.1</td>\n      <td>4.8</td>\n    </tr>\n    <tr>\n      <th>8</th>\n      <td>00AF</td>\n      <td>Bromley</td>\n      <td>7.5</td>\n      <td>6.1</td>\n      <td>7.1</td>\n      <td>5.3</td>\n      <td>5.8</td>\n      <td>2.9</td>\n      <td>3.7</td>\n      <td>5.4</td>\n      <td>3.8</td>\n      <td>4</td>\n      <td>1.9</td>\n      <td>1.7</td>\n      <td>1.8</td>\n      <td>3</td>\n      <td>2.6</td>\n    </tr>\n    <tr>\n      <th>9</th>\n      <td>00AG</td>\n      <td>Camden</td>\n      <td>4.6</td>\n      <td>3.8</td>\n      <td>6.3</td>\n      <td>6.2</td>\n      <td>3.4</td>\n      <td>4.7</td>\n      <td>4</td>\n      <td>4</td>\n      <td>3.8</td>\n      <td>4.8</td>\n      <td>1.9</td>\n      <td>1.6</td>\n      <td>2.2</td>\n      <td>6.9</td>\n      <td>4</td>\n    </tr>\n    <tr>\n      <th>10</th>\n      <td>00AH</td>\n      <td>Croydon</td>\n      <td>7.6</td>\n      <td>7.6</td>\n      <td>10</td>\n      <td>12.7</td>\n      <td>9.1</td>\n      <td>8.4</td>\n      <td>3.9</td>\n      <td>6.2</td>\n      <td>3.5</td>\n      <td>4.1</td>\n      <td>3.4</td>\n      <td>4.8</td>\n      <td>4.4</td>\n      <td>3.4</td>\n      <td>4.1</td>\n    </tr>\n    <tr>\n      <th>11</th>\n      <td>00AJ</td>\n      <td>Ealing</td>\n      <td>9.2</td>\n      <td>5.9</td>\n      <td>7.5</td>\n      <td>7.5</td>\n      <td>7.9</td>\n      <td>10.5</td>\n      <td>7.1</td>\n      <td>5.9</td>\n      <td>7.1</td>\n      <td>5.3</td>\n      <td>6.5</td>\n      <td>6.2</td>\n      <td>3.7</td>\n      <td>4.6</td>\n      <td>5.8</td>\n    </tr>\n    <tr>\n      <th>12</th>\n      <td>00AK</td>\n      <td>Enfield</td>\n      <td>11.9</td>\n      <td>9.5</td>\n      <td>7.1</td>\n      <td>8.5</td>\n      <td>9.4</td>\n      <td>6.6</td>\n      <td>5.2</td>\n      <td>5.4</td>\n      <td>5</td>\n      <td>3.5</td>\n      <td>3.8</td>\n      <td>1.4</td>\n      <td>3.2</td>\n      <td>4.9</td>\n      <td>4</td>\n    </tr>\n    <tr>\n      <th>13</th>\n      <td>00AL</td>\n      <td>Greenwich</td>\n      <td>8.6</td>\n      <td>10.4</td>\n      <td>8.5</td>\n      <td>10.5</td>\n      <td>7</td>\n      <td>9.5</td>\n      <td>6.3</td>\n      <td>6.6</td>\n      <td>5.3</td>\n      <td>4.2</td>\n      <td>6.4</td>\n      <td>7.7</td>\n      <td>3.1</td>\n      <td>3.1</td>\n      <td>3.8</td>\n    </tr>\n    <tr>\n      <th>14</th>\n      <td>00AM</td>\n      <td>Hackney</td>\n      <td>14.7</td>\n      <td>13.9</td>\n      <td>14.7</td>\n      <td>12.2</td>\n      <td>9.6</td>\n      <td>6.7</td>\n      <td>9.6</td>\n      <td>7</td>\n      <td>4.9</td>\n      <td>5.1</td>\n      <td>4.3</td>\n      <td>6.4</td>\n      <td>4.9</td>\n      <td>4.7</td>\n      <td>8</td>\n    </tr>\n    <tr>\n      <th>15</th>\n      <td>00AN</td>\n      <td>Hammersmith and Fulham</td>\n      <td>4.3</td>\n      <td>5.9</td>\n      <td>3.9</td>\n      <td>7.1</td>\n      <td>5.4</td>\n      <td>8.5</td>\n      <td>3.7</td>\n      <td>6.5</td>\n      <td>3.1</td>\n      <td>5.7</td>\n      <td>3.8</td>\n      <td>3.2</td>\n      <td>4.9</td>\n      <td>2.1</td>\n      <td>4.9</td>\n    </tr>\n    <tr>\n      <th>16</th>\n      <td>00AP</td>\n      <td>Haringey</td>\n      <td>11.6</td>\n      <td>9.3</td>\n      <td>7.7</td>\n      <td>6</td>\n      <td>9</td>\n      <td>8.8</td>\n      <td>7.1</td>\n      <td>3.9</td>\n      <td>5.4</td>\n      <td>5.8</td>\n      <td>6.8</td>\n      <td>6.6</td>\n      <td>6.4</td>\n      <td>4.5</td>\n      <td>6.4</td>\n    </tr>\n    <tr>\n      <th>17</th>\n      <td>00AQ</td>\n      <td>Harrow</td>\n      <td>7.3</td>\n      <td>5.9</td>\n      <td>5.2</td>\n      <td>5.5</td>\n      <td>5.4</td>\n      <td>4</td>\n      <td>3.6</td>\n      <td>4.9</td>\n      <td>4.1</td>\n      <td>2.5</td>\n      <td>1.7</td>\n      <td>2.8</td>\n      <td>1.3</td>\n      <td>2.2</td>\n      <td>2.5</td>\n    </tr>\n    <tr>\n      <th>18</th>\n      <td>00AR</td>\n      <td>Havering</td>\n      <td>13</td>\n      <td>14.9</td>\n      <td>15.6</td>\n      <td>12</td>\n      <td>11.1</td>\n      <td>12.4</td>\n      <td>10.6</td>\n      <td>8.4</td>\n      <td>5</td>\n      <td>5</td>\n      <td>5.8</td>\n      <td>7.5</td>\n      <td>5.7</td>\n      <td>5.3</td>\n      <td>7.7</td>\n    </tr>\n    <tr>\n      <th>19</th>\n      <td>00AS</td>\n      <td>Hillingdon</td>\n      <td>8.8</td>\n      <td>10</td>\n      <td>10.8</td>\n      <td>9.9</td>\n      <td>9.8</td>\n      <td>9</td>\n      <td>11.4</td>\n      <td>8.4</td>\n      <td>3.5</td>\n      <td>3.5</td>\n      <td>6</td>\n      <td>4.7</td>\n      <td>3.8</td>\n      <td>7</td>\n      <td>6.4</td>\n    </tr>\n    <tr>\n      <th>20</th>\n      <td>00AT</td>\n      <td>Hounslow</td>\n      <td>8.5</td>\n      <td>8.3</td>\n      <td>7.3</td>\n      <td>8.9</td>\n      <td>11.1</td>\n      <td>11.9</td>\n      <td>10.5</td>\n      <td>6.3</td>\n      <td>6.8</td>\n      <td>7.1</td>\n      <td>5.8</td>\n      <td>3.2</td>\n      <td>4.6</td>\n      <td>4.5</td>\n      <td>3.1</td>\n    </tr>\n    <tr>\n      <th>21</th>\n      <td>00AU</td>\n      <td>Islington</td>\n      <td>12.9</td>\n      <td>10</td>\n      <td>8.6</td>\n      <td>8.5</td>\n      <td>7.6</td>\n      <td>5.5</td>\n      <td>3.5</td>\n      <td>4.1</td>\n      <td>4.2</td>\n      <td>6.7</td>\n      <td>4.9</td>\n      <td>4.2</td>\n      <td>4.1</td>\n      <td>3.2</td>\n      <td>4.6</td>\n    </tr>\n    <tr>\n      <th>22</th>\n      <td>00AW</td>\n      <td>Kensington and Chelsea</td>\n      <td>4.2</td>\n      <td>4.6</td>\n      <td>7.9</td>\n      <td>5.6</td>\n      <td>4.5</td>\n      <td>3.8</td>\n      <td>1.8</td>\n      <td>4</td>\n      <td>4.6</td>\n      <td>6.1</td>\n      <td>5.3</td>\n      <td>2.5</td>\n      <td>3.7</td>\n      <td>2.2</td>\n      <td>2.6</td>\n    </tr>\n    <tr>\n      <th>23</th>\n      <td>00AX</td>\n      <td>Kingston upon Thames</td>\n      <td>3.7</td>\n      <td>6.4</td>\n      <td>5.8</td>\n      <td>4.3</td>\n      <td>4.4</td>\n      <td>7.1</td>\n      <td>5.5</td>\n      <td>5.3</td>\n      <td>4.1</td>\n      <td>1.6</td>\n      <td>1.3</td>\n      <td>3.8</td>\n      <td>2.3</td>\n      <td>2.9</td>\n      <td>2.6</td>\n    </tr>\n    <tr>\n      <th>24</th>\n      <td>00AY</td>\n      <td>Lambeth</td>\n      <td>11.2</td>\n      <td>14.1</td>\n      <td>14.8</td>\n      <td>9.5</td>\n      <td>8.8</td>\n      <td>6.5</td>\n      <td>5</td>\n      <td>7.8</td>\n      <td>5.9</td>\n      <td>3.7</td>\n      <td>4.4</td>\n      <td>3.8</td>\n      <td>2.7</td>\n      <td>3</td>\n      <td>3</td>\n    </tr>\n    <tr>\n      <th>25</th>\n      <td>00AZ</td>\n      <td>Lewisham</td>\n      <td>8.4</td>\n      <td>9.1</td>\n      <td>9.6</td>\n      <td>5.4</td>\n      <td>6.5</td>\n      <td>4.1</td>\n      <td>4.3</td>\n      <td>5.5</td>\n      <td>5.2</td>\n      <td>4</td>\n      <td>5</td>\n      <td>3.4</td>\n      <td>3.8</td>\n      <td>2</td>\n      <td>3.7</td>\n    </tr>\n    <tr>\n      <th>26</th>\n      <td>00BA</td>\n      <td>Merton</td>\n      <td>8</td>\n      <td>10.7</td>\n      <td>6.8</td>\n      <td>4.5</td>\n      <td>5.8</td>\n      <td>6.3</td>\n      <td>4.7</td>\n      <td>4.3</td>\n      <td>4.6</td>\n      <td>4.3</td>\n      <td>3.1</td>\n      <td>2.9</td>\n      <td>2.7</td>\n      <td>2</td>\n      <td>3.6</td>\n    </tr>\n    <tr>\n      <th>27</th>\n      <td>00BB</td>\n      <td>Newham</td>\n      <td>21</td>\n      <td>13.3</td>\n      <td>10.2</td>\n      <td>13.1</td>\n      <td>11.8</td>\n      <td>12.6</td>\n      <td>9.6</td>\n      <td>9.3</td>\n      <td>9</td>\n      <td>9.2</td>\n      <td>7.3</td>\n      <td>7.4</td>\n      <td>5.4</td>\n      <td>9.1</td>\n      <td>3.6</td>\n    </tr>\n    <tr>\n      <th>28</th>\n      <td>00BC</td>\n      <td>Redbridge</td>\n      <td>11.5</td>\n      <td>7.8</td>\n      <td>5.9</td>\n      <td>9.5</td>\n      <td>9</td>\n      <td>8</td>\n      <td>11.9</td>\n      <td>8</td>\n      <td>7.4</td>\n      <td>3.7</td>\n      <td>4.8</td>\n      <td>7.4</td>\n      <td>5.8</td>\n      <td>4.9</td>\n      <td>5.8</td>\n    </tr>\n    <tr>\n      <th>29</th>\n      <td>00BD</td>\n      <td>Richmond upon Thames</td>\n      <td>4.2</td>\n      <td>5.7</td>\n      <td>4.4</td>\n      <td>3.6</td>\n      <td>6.6</td>\n      <td>3.7</td>\n      <td>2.8</td>\n      <td>2</td>\n      <td>2.1</td>\n      <td>2.3</td>\n      <td>!</td>\n      <td>1.1</td>\n      <td>!</td>\n      <td>1.8</td>\n      <td>1.9</td>\n    </tr>\n    <tr>\n      <th>30</th>\n      <td>00BE</td>\n      <td>Southwark</td>\n      <td>9.8</td>\n      <td>15.8</td>\n      <td>15</td>\n      <td>9</td>\n      <td>8.4</td>\n      <td>6.3</td>\n      <td>6.5</td>\n      <td>4.6</td>\n      <td>5.4</td>\n      <td>5.2</td>\n      <td>5</td>\n      <td>4.8</td>\n      <td>4.1</td>\n      <td>3.9</td>\n      <td>3.8</td>\n    </tr>\n    <tr>\n      <th>31</th>\n      <td>00BF</td>\n      <td>Sutton</td>\n      <td>9</td>\n      <td>8.7</td>\n      <td>9.8</td>\n      <td>12.5</td>\n      <td>8.8</td>\n      <td>6.8</td>\n      <td>6.4</td>\n      <td>4.1</td>\n      <td>3.8</td>\n      <td>4.6</td>\n      <td>3.4</td>\n      <td>3.1</td>\n      <td>4.8</td>\n      <td>4.8</td>\n      <td>4.8</td>\n    </tr>\n    <tr>\n      <th>32</th>\n      <td>00BG</td>\n      <td>Tower Hamlets</td>\n      <td>14.6</td>\n      <td>13</td>\n      <td>13.7</td>\n      <td>9.8</td>\n      <td>11.3</td>\n      <td>6.9</td>\n      <td>5.4</td>\n      <td>8.4</td>\n      <td>7.5</td>\n      <td>6.6</td>\n      <td>7</td>\n      <td>5.3</td>\n      <td>4.6</td>\n      <td>7.9</td>\n      <td>3.9</td>\n    </tr>\n    <tr>\n      <th>33</th>\n      <td>00BH</td>\n      <td>Waltham Forest</td>\n      <td>12.6</td>\n      <td>13.1</td>\n      <td>11.3</td>\n      <td>12.2</td>\n      <td>11.2</td>\n      <td>15.2</td>\n      <td>10.7</td>\n      <td>8.8</td>\n      <td>7.9</td>\n      <td>8.7</td>\n      <td>6.6</td>\n      <td>7.5</td>\n      <td>4.9</td>\n      <td>7.1</td>\n      <td>4.1</td>\n    </tr>\n    <tr>\n      <th>34</th>\n      <td>00BJ</td>\n      <td>Wandsworth</td>\n      <td>5</td>\n      <td>8</td>\n      <td>7.9</td>\n      <td>2.8</td>\n      <td>6</td>\n      <td>4.3</td>\n      <td>2.6</td>\n      <td>4.1</td>\n      <td>2.2</td>\n      <td>3.5</td>\n      <td>2.3</td>\n      <td>3.1</td>\n      <td>1.4</td>\n      <td>1.6</td>\n      <td>2.4</td>\n    </tr>\n    <tr>\n      <th>35</th>\n      <td>00BK</td>\n      <td>Westminster</td>\n      <td>6.8</td>\n      <td>7.9</td>\n      <td>8.2</td>\n      <td>5.9</td>\n      <td>5</td>\n      <td>4.7</td>\n      <td>3.4</td>\n      <td>5</td>\n      <td>3</td>\n      <td>3.5</td>\n      <td>1.6</td>\n      <td>2.1</td>\n      <td>2.1</td>\n      <td>1.1</td>\n      <td>2.9</td>\n    </tr>\n    <tr>\n      <th>36</th>\n      <td>None</td>\n      <td>None</td>\n      <td>None</td>\n      <td>None</td>\n      <td>None</td>\n      <td>None</td>\n      <td>None</td>\n      <td>None</td>\n      <td>None</td>\n      <td>None</td>\n      <td>None</td>\n      <td>None</td>\n      <td>None</td>\n      <td>None</td>\n      <td>None</td>\n      <td>None</td>\n      <td>None</td>\n    </tr>\n    <tr>\n      <th>37</th>\n      <td>A</td>\n      <td>North East</td>\n      <td>10.9</td>\n      <td>9.8</td>\n      <td>9.2</td>\n      <td>9.2</td>\n      <td>8.9</td>\n      <td>9</td>\n      <td>8</td>\n      <td>7.1</td>\n      <td>6.9</td>\n      <td>6.3</td>\n      <td>5.6</td>\n      <td>6.1</td>\n      <td>5.6</td>\n      <td>5.6</td>\n      <td>5.5</td>\n    </tr>\n    <tr>\n      <th>38</th>\n      <td>B</td>\n      <td>North West</td>\n      <td>12.4</td>\n      <td>11.6</td>\n      <td>10.6</td>\n      <td>10.1</td>\n      <td>10</td>\n      <td>8.6</td>\n      <td>7.1</td>\n      <td>7.3</td>\n      <td>6.5</td>\n      <td>6.4</td>\n      <td>6.1</td>\n      <td>5.9</td>\n      <td>5.4</td>\n      <td>5.2</td>\n      <td>5.5</td>\n    </tr>\n    <tr>\n      <th>39</th>\n      <td>D</td>\n      <td>Yorkshire and The Humber</td>\n      <td>10.9</td>\n      <td>10.8</td>\n      <td>10.3</td>\n      <td>10</td>\n      <td>8.9</td>\n      <td>8.2</td>\n      <td>7.8</td>\n      <td>7.3</td>\n      <td>7.1</td>\n      <td>6.6</td>\n      <td>6.1</td>\n      <td>6.1</td>\n      <td>6</td>\n      <td>6.1</td>\n      <td>5.4</td>\n    </tr>\n    <tr>\n      <th>40</th>\n      <td>E</td>\n      <td>East Midlands</td>\n      <td>13</td>\n      <td>11.1</td>\n      <td>10.4</td>\n      <td>10.1</td>\n      <td>10.1</td>\n      <td>8.9</td>\n      <td>9</td>\n      <td>7.4</td>\n      <td>6.3</td>\n      <td>7</td>\n      <td>6</td>\n      <td>4.9</td>\n      <td>4.7</td>\n      <td>5.1</td>\n      <td>5.5</td>\n    </tr>\n    <tr>\n      <th>41</th>\n      <td>F</td>\n      <td>West Midlands</td>\n      <td>13.7</td>\n      <td>12.6</td>\n      <td>12.8</td>\n      <td>12.2</td>\n      <td>11.5</td>\n      <td>11</td>\n      <td>9.8</td>\n      <td>9.3</td>\n      <td>9.3</td>\n      <td>9.5</td>\n      <td>8.5</td>\n      <td>8.4</td>\n      <td>7.6</td>\n      <td>6.8</td>\n      <td>6.8</td>\n    </tr>\n    <tr>\n      <th>42</th>\n      <td>G</td>\n      <td>East</td>\n      <td>11.7</td>\n      <td>10.4</td>\n      <td>11.2</td>\n      <td>9.8</td>\n      <td>9.4</td>\n      <td>8.1</td>\n      <td>7</td>\n      <td>6.6</td>\n      <td>5.6</td>\n      <td>5.5</td>\n      <td>5.4</td>\n      <td>5.4</td>\n      <td>5.2</td>\n      <td>4.9</td>\n      <td>5.2</td>\n    </tr>\n    <tr>\n      <th>43</th>\n      <td>H</td>\n      <td>London</td>\n      <td>9.3</td>\n      <td>9.2</td>\n      <td>8.9</td>\n      <td>8.4</td>\n      <td>7.9</td>\n      <td>7.4</td>\n      <td>6.1</td>\n      <td>6</td>\n      <td>5.2</td>\n      <td>4.8</td>\n      <td>4.6</td>\n      <td>4.6</td>\n      <td>3.9</td>\n      <td>4.3</td>\n      <td>4.2</td>\n    </tr>\n    <tr>\n      <th>44</th>\n      <td>J</td>\n      <td>South East</td>\n      <td>8.3</td>\n      <td>7.8</td>\n      <td>7.4</td>\n      <td>7.7</td>\n      <td>6.8</td>\n      <td>6.2</td>\n      <td>5.8</td>\n      <td>5.3</td>\n      <td>4.3</td>\n      <td>4.1</td>\n      <td>3.7</td>\n      <td>4.1</td>\n      <td>3.6</td>\n      <td>3.4</td>\n      <td>3.7</td>\n    </tr>\n    <tr>\n      <th>45</th>\n      <td>K</td>\n      <td>South West</td>\n      <td>8.3</td>\n      <td>7.8</td>\n      <td>7.2</td>\n      <td>6.8</td>\n      <td>6.7</td>\n      <td>5.6</td>\n      <td>5.3</td>\n      <td>5.2</td>\n      <td>4.4</td>\n      <td>4.5</td>\n      <td>3.6</td>\n      <td>3.5</td>\n      <td>3.1</td>\n      <td>3.4</td>\n      <td>3.4</td>\n    </tr>\n    <tr>\n      <th>46</th>\n      <td>None</td>\n      <td>None</td>\n      <td>None</td>\n      <td>None</td>\n      <td>None</td>\n      <td>None</td>\n      <td>None</td>\n      <td>None</td>\n      <td>None</td>\n      <td>None</td>\n      <td>None</td>\n      <td>None</td>\n      <td>None</td>\n      <td>None</td>\n      <td>None</td>\n      <td>None</td>\n      <td>None</td>\n    </tr>\n    <tr>\n      <th>47</th>\n      <td>921</td>\n      <td>England</td>\n      <td>10.7</td>\n      <td>10</td>\n      <td>9.6</td>\n      <td>9.2</td>\n      <td>8.8</td>\n      <td>7.9</td>\n      <td>7.1</td>\n      <td>6.7</td>\n      <td>6</td>\n      <td>5.9</td>\n      <td>5.3</td>\n      <td>5.3</td>\n      <td>4.8</td>\n      <td>4.8</td>\n      <td>4.9</td>\n    </tr>\n    <tr>\n      <th>48</th>\n      <td>924</td>\n      <td>Wales</td>\n      <td>12</td>\n      <td>11.5</td>\n      <td>11.3</td>\n      <td>10.7</td>\n      <td>9.5</td>\n      <td>9.1</td>\n      <td>7.8</td>\n      <td>7.4</td>\n      <td>7</td>\n      <td>6.4</td>\n      <td>6.1</td>\n      <td>6.3</td>\n      <td>5.9</td>\n      <td>5.4</td>\n      <td>5.5</td>\n    </tr>\n    <tr>\n      <th>49</th>\n      <td>923</td>\n      <td>Scotland</td>\n      <td>11.6</td>\n      <td>10.6</td>\n      <td>9.9</td>\n      <td>9.7</td>\n      <td>9.1</td>\n      <td>8.9</td>\n      <td>8</td>\n      <td>7.7</td>\n      <td>6.9</td>\n      <td>6.6</td>\n      <td>6.3</td>\n      <td>5.9</td>\n      <td>6.5</td>\n      <td>5.8</td>\n      <td>6.8</td>\n    </tr>\n    <tr>\n      <th>50</th>\n      <td>922</td>\n      <td>Northern Ireland</td>\n      <td>18.1</td>\n      <td>17.5</td>\n      <td>16.5</td>\n      <td>15.8</td>\n      <td>15.8</td>\n      <td>14.7</td>\n      <td>13.4</td>\n      <td>14.3</td>\n      <td>11.7</td>\n      <td>12</td>\n      <td>11.6</td>\n      <td>10.8</td>\n      <td>10.5</td>\n      <td>10.9</td>\n      <td>9.1</td>\n    </tr>\n    <tr>\n      <th>51</th>\n      <td>None</td>\n      <td>None</td>\n      <td>None</td>\n      <td>None</td>\n      <td>None</td>\n      <td>None</td>\n      <td>None</td>\n      <td>None</td>\n      <td>None</td>\n      <td>None</td>\n      <td>None</td>\n      <td>None</td>\n      <td>None</td>\n      <td>None</td>\n      <td>None</td>\n      <td>None</td>\n      <td>None</td>\n    </tr>\n    <tr>\n      <th>52</th>\n      <td>941</td>\n      <td>England and Wales</td>\n      <td>10.8</td>\n      <td>10.1</td>\n      <td>9.7</td>\n      <td>9.3</td>\n      <td>8.8</td>\n      <td>8</td>\n      <td>7.1</td>\n      <td>6.7</td>\n      <td>6</td>\n      <td>5.9</td>\n      <td>5.4</td>\n      <td>5.3</td>\n      <td>4.9</td>\n      <td>4.8</td>\n      <td>4.9</td>\n    </tr>\n    <tr>\n      <th>53</th>\n      <td>925</td>\n      <td>Great Britain</td>\n      <td>10.9</td>\n      <td>10.1</td>\n      <td>9.7</td>\n      <td>9.3</td>\n      <td>8.8</td>\n      <td>8</td>\n      <td>7.2</td>\n      <td>6.8</td>\n      <td>6.1</td>\n      <td>6</td>\n      <td>5.5</td>\n      <td>5.4</td>\n      <td>5</td>\n      <td>4.9</td>\n      <td>5.1</td>\n    </tr>\n    <tr>\n      <th>54</th>\n      <td>926</td>\n      <td>United Kingdom</td>\n      <td>11</td>\n      <td>10.3</td>\n      <td>9.9</td>\n      <td>9.5</td>\n      <td>9</td>\n      <td>8.2</td>\n      <td>7.4</td>\n      <td>7</td>\n      <td>6.2</td>\n      <td>6.1</td>\n      <td>5.6</td>\n      <td>5.5</td>\n      <td>5.2</td>\n      <td>5.1</td>\n      <td>5.2</td>\n    </tr>\n  </tbody>\n</table>\n</div>",
            "text/plain": "    Code                      Area       76       76       76       76  \\\n0    NaN                       NaN     None     None     None     None   \n1    NaN                       NaN  percent  percent  percent  percent   \n2    NaN                       NaN     None     None     None     None   \n3   00AA            City of London        !        !        !        !   \n4   00AB      Barking and Dagenham     16.3     16.4       17     18.3   \n5   00AC                    Barnet      6.8      6.4      5.3      7.8   \n6   00AD                    Bexley      8.6      8.5      6.3     11.2   \n7   00AE                     Brent     11.6      8.2      7.2      6.5   \n8   00AF                   Bromley      7.5      6.1      7.1      5.3   \n9   00AG                    Camden      4.6      3.8      6.3      6.2   \n10  00AH                   Croydon      7.6      7.6       10     12.7   \n11  00AJ                    Ealing      9.2      5.9      7.5      7.5   \n12  00AK                   Enfield     11.9      9.5      7.1      8.5   \n13  00AL                 Greenwich      8.6     10.4      8.5     10.5   \n14  00AM                   Hackney     14.7     13.9     14.7     12.2   \n15  00AN    Hammersmith and Fulham      4.3      5.9      3.9      7.1   \n16  00AP                  Haringey     11.6      9.3      7.7        6   \n17  00AQ                    Harrow      7.3      5.9      5.2      5.5   \n18  00AR                  Havering       13     14.9     15.6       12   \n19  00AS                Hillingdon      8.8       10     10.8      9.9   \n20  00AT                  Hounslow      8.5      8.3      7.3      8.9   \n21  00AU                 Islington     12.9       10      8.6      8.5   \n22  00AW    Kensington and Chelsea      4.2      4.6      7.9      5.6   \n23  00AX      Kingston upon Thames      3.7      6.4      5.8      4.3   \n24  00AY                   Lambeth     11.2     14.1     14.8      9.5   \n25  00AZ                  Lewisham      8.4      9.1      9.6      5.4   \n26  00BA                    Merton        8     10.7      6.8      4.5   \n27  00BB                    Newham       21     13.3     10.2     13.1   \n28  00BC                 Redbridge     11.5      7.8      5.9      9.5   \n29  00BD      Richmond upon Thames      4.2      5.7      4.4      3.6   \n30  00BE                 Southwark      9.8     15.8       15        9   \n31  00BF                    Sutton        9      8.7      9.8     12.5   \n32  00BG             Tower Hamlets     14.6       13     13.7      9.8   \n33  00BH            Waltham Forest     12.6     13.1     11.3     12.2   \n34  00BJ                Wandsworth        5        8      7.9      2.8   \n35  00BK               Westminster      6.8      7.9      8.2      5.9   \n36  None                      None     None     None     None     None   \n37     A                North East     10.9      9.8      9.2      9.2   \n38     B                North West     12.4     11.6     10.6     10.1   \n39     D  Yorkshire and The Humber     10.9     10.8     10.3       10   \n40     E             East Midlands       13     11.1     10.4     10.1   \n41     F             West Midlands     13.7     12.6     12.8     12.2   \n42     G                      East     11.7     10.4     11.2      9.8   \n43     H                    London      9.3      9.2      8.9      8.4   \n44     J                South East      8.3      7.8      7.4      7.7   \n45     K                South West      8.3      7.8      7.2      6.8   \n46  None                      None     None     None     None     None   \n47   921                   England     10.7       10      9.6      9.2   \n48   924                     Wales       12     11.5     11.3     10.7   \n49   923                  Scotland     11.6     10.6      9.9      9.7   \n50   922          Northern Ireland     18.1     17.5     16.5     15.8   \n51  None                      None     None     None     None     None   \n52   941         England and Wales     10.8     10.1      9.7      9.3   \n53   925             Great Britain     10.9     10.1      9.7      9.3   \n54   926            United Kingdom       11     10.3      9.9      9.5   \n\n         76       76       76       76       76       76       76       76  \\\n0      None     None     None     None     None     None     None     None   \n1   percent  percent  percent  percent  percent  percent  percent  percent   \n2      None     None     None     None     None     None     None     None   \n3         !        !        !        !        !        !        !        !   \n4      17.5     12.7     12.9      8.6      8.2     11.4     10.4      9.3   \n5       5.6      5.9      5.2      3.7        5      2.8      6.4      3.3   \n6       8.2      6.9      4.3      4.8      5.6      2.7      3.5      7.7   \n7       5.1      6.8      2.1      8.2      8.3      5.7      5.4      4.6   \n8       5.8      2.9      3.7      5.4      3.8        4      1.9      1.7   \n9       3.4      4.7        4        4      3.8      4.8      1.9      1.6   \n10      9.1      8.4      3.9      6.2      3.5      4.1      3.4      4.8   \n11      7.9     10.5      7.1      5.9      7.1      5.3      6.5      6.2   \n12      9.4      6.6      5.2      5.4        5      3.5      3.8      1.4   \n13        7      9.5      6.3      6.6      5.3      4.2      6.4      7.7   \n14      9.6      6.7      9.6        7      4.9      5.1      4.3      6.4   \n15      5.4      8.5      3.7      6.5      3.1      5.7      3.8      3.2   \n16        9      8.8      7.1      3.9      5.4      5.8      6.8      6.6   \n17      5.4        4      3.6      4.9      4.1      2.5      1.7      2.8   \n18     11.1     12.4     10.6      8.4        5        5      5.8      7.5   \n19      9.8        9     11.4      8.4      3.5      3.5        6      4.7   \n20     11.1     11.9     10.5      6.3      6.8      7.1      5.8      3.2   \n21      7.6      5.5      3.5      4.1      4.2      6.7      4.9      4.2   \n22      4.5      3.8      1.8        4      4.6      6.1      5.3      2.5   \n23      4.4      7.1      5.5      5.3      4.1      1.6      1.3      3.8   \n24      8.8      6.5        5      7.8      5.9      3.7      4.4      3.8   \n25      6.5      4.1      4.3      5.5      5.2        4        5      3.4   \n26      5.8      6.3      4.7      4.3      4.6      4.3      3.1      2.9   \n27     11.8     12.6      9.6      9.3        9      9.2      7.3      7.4   \n28        9        8     11.9        8      7.4      3.7      4.8      7.4   \n29      6.6      3.7      2.8        2      2.1      2.3        !      1.1   \n30      8.4      6.3      6.5      4.6      5.4      5.2        5      4.8   \n31      8.8      6.8      6.4      4.1      3.8      4.6      3.4      3.1   \n32     11.3      6.9      5.4      8.4      7.5      6.6        7      5.3   \n33     11.2     15.2     10.7      8.8      7.9      8.7      6.6      7.5   \n34        6      4.3      2.6      4.1      2.2      3.5      2.3      3.1   \n35        5      4.7      3.4        5        3      3.5      1.6      2.1   \n36     None     None     None     None     None     None     None     None   \n37      8.9        9        8      7.1      6.9      6.3      5.6      6.1   \n38       10      8.6      7.1      7.3      6.5      6.4      6.1      5.9   \n39      8.9      8.2      7.8      7.3      7.1      6.6      6.1      6.1   \n40     10.1      8.9        9      7.4      6.3        7        6      4.9   \n41     11.5       11      9.8      9.3      9.3      9.5      8.5      8.4   \n42      9.4      8.1        7      6.6      5.6      5.5      5.4      5.4   \n43      7.9      7.4      6.1        6      5.2      4.8      4.6      4.6   \n44      6.8      6.2      5.8      5.3      4.3      4.1      3.7      4.1   \n45      6.7      5.6      5.3      5.2      4.4      4.5      3.6      3.5   \n46     None     None     None     None     None     None     None     None   \n47      8.8      7.9      7.1      6.7        6      5.9      5.3      5.3   \n48      9.5      9.1      7.8      7.4        7      6.4      6.1      6.3   \n49      9.1      8.9        8      7.7      6.9      6.6      6.3      5.9   \n50     15.8     14.7     13.4     14.3     11.7       12     11.6     10.8   \n51     None     None     None     None     None     None     None     None   \n52      8.8        8      7.1      6.7        6      5.9      5.4      5.3   \n53      8.8        8      7.2      6.8      6.1        6      5.5      5.4   \n54        9      8.2      7.4        7      6.2      6.1      5.6      5.5   \n\n         76       76       76  \n0      None     None     None  \n1   percent  percent  percent  \n2      None     None     None  \n3         !        !        !  \n4      11.5       10      7.8  \n5       3.6      3.7        3  \n6       3.4      3.1      3.5  \n7       3.4      5.1      4.8  \n8       1.8        3      2.6  \n9       2.2      6.9        4  \n10      4.4      3.4      4.1  \n11      3.7      4.6      5.8  \n12      3.2      4.9        4  \n13      3.1      3.1      3.8  \n14      4.9      4.7        8  \n15      4.9      2.1      4.9  \n16      6.4      4.5      6.4  \n17      1.3      2.2      2.5  \n18      5.7      5.3      7.7  \n19      3.8        7      6.4  \n20      4.6      4.5      3.1  \n21      4.1      3.2      4.6  \n22      3.7      2.2      2.6  \n23      2.3      2.9      2.6  \n24      2.7        3        3  \n25      3.8        2      3.7  \n26      2.7        2      3.6  \n27      5.4      9.1      3.6  \n28      5.8      4.9      5.8  \n29        !      1.8      1.9  \n30      4.1      3.9      3.8  \n31      4.8      4.8      4.8  \n32      4.6      7.9      3.9  \n33      4.9      7.1      4.1  \n34      1.4      1.6      2.4  \n35      2.1      1.1      2.9  \n36     None     None     None  \n37      5.6      5.6      5.5  \n38      5.4      5.2      5.5  \n39        6      6.1      5.4  \n40      4.7      5.1      5.5  \n41      7.6      6.8      6.8  \n42      5.2      4.9      5.2  \n43      3.9      4.3      4.2  \n44      3.6      3.4      3.7  \n45      3.1      3.4      3.4  \n46     None     None     None  \n47      4.8      4.8      4.9  \n48      5.9      5.4      5.5  \n49      6.5      5.8      6.8  \n50     10.5     10.9      9.1  \n51     None     None     None  \n52      4.9      4.8      4.9  \n53        5      4.9      5.1  \n54      5.2      5.1      5.2  "
          },
          "metadata": {}
        }
      ]
    },
    {
      "metadata": {
        "trusted": true
      },
      "cell_type": "code",
      "source": "df.columns = ['Code', 'Area', '2004', '2005', '2006', '2007', '2008', '2009', '2010', '2011', '2012', '2013', '2014', '2015', '2016', '2017', '2018']",
      "execution_count": 208,
      "outputs": []
    },
    {
      "metadata": {
        "trusted": true,
        "scrolled": true
      },
      "cell_type": "code",
      "source": "df.head()",
      "execution_count": 209,
      "outputs": [
        {
          "output_type": "execute_result",
          "execution_count": 209,
          "data": {
            "text/html": "<div>\n<style scoped>\n    .dataframe tbody tr th:only-of-type {\n        vertical-align: middle;\n    }\n\n    .dataframe tbody tr th {\n        vertical-align: top;\n    }\n\n    .dataframe thead th {\n        text-align: right;\n    }\n</style>\n<table border=\"1\" class=\"dataframe\">\n  <thead>\n    <tr style=\"text-align: right;\">\n      <th></th>\n      <th>Code</th>\n      <th>Area</th>\n      <th>2004</th>\n      <th>2005</th>\n      <th>2006</th>\n      <th>2007</th>\n      <th>2008</th>\n      <th>2009</th>\n      <th>2010</th>\n      <th>2011</th>\n      <th>2012</th>\n      <th>2013</th>\n      <th>2014</th>\n      <th>2015</th>\n      <th>2016</th>\n      <th>2017</th>\n      <th>2018</th>\n    </tr>\n  </thead>\n  <tbody>\n    <tr>\n      <th>0</th>\n      <td>NaN</td>\n      <td>NaN</td>\n      <td>None</td>\n      <td>None</td>\n      <td>None</td>\n      <td>None</td>\n      <td>None</td>\n      <td>None</td>\n      <td>None</td>\n      <td>None</td>\n      <td>None</td>\n      <td>None</td>\n      <td>None</td>\n      <td>None</td>\n      <td>None</td>\n      <td>None</td>\n      <td>None</td>\n    </tr>\n    <tr>\n      <th>1</th>\n      <td>NaN</td>\n      <td>NaN</td>\n      <td>percent</td>\n      <td>percent</td>\n      <td>percent</td>\n      <td>percent</td>\n      <td>percent</td>\n      <td>percent</td>\n      <td>percent</td>\n      <td>percent</td>\n      <td>percent</td>\n      <td>percent</td>\n      <td>percent</td>\n      <td>percent</td>\n      <td>percent</td>\n      <td>percent</td>\n      <td>percent</td>\n    </tr>\n    <tr>\n      <th>2</th>\n      <td>NaN</td>\n      <td>NaN</td>\n      <td>None</td>\n      <td>None</td>\n      <td>None</td>\n      <td>None</td>\n      <td>None</td>\n      <td>None</td>\n      <td>None</td>\n      <td>None</td>\n      <td>None</td>\n      <td>None</td>\n      <td>None</td>\n      <td>None</td>\n      <td>None</td>\n      <td>None</td>\n      <td>None</td>\n    </tr>\n    <tr>\n      <th>3</th>\n      <td>00AA</td>\n      <td>City of London</td>\n      <td>!</td>\n      <td>!</td>\n      <td>!</td>\n      <td>!</td>\n      <td>!</td>\n      <td>!</td>\n      <td>!</td>\n      <td>!</td>\n      <td>!</td>\n      <td>!</td>\n      <td>!</td>\n      <td>!</td>\n      <td>!</td>\n      <td>!</td>\n      <td>!</td>\n    </tr>\n    <tr>\n      <th>4</th>\n      <td>00AB</td>\n      <td>Barking and Dagenham</td>\n      <td>16.3</td>\n      <td>16.4</td>\n      <td>17</td>\n      <td>18.3</td>\n      <td>17.5</td>\n      <td>12.7</td>\n      <td>12.9</td>\n      <td>8.6</td>\n      <td>8.2</td>\n      <td>11.4</td>\n      <td>10.4</td>\n      <td>9.3</td>\n      <td>11.5</td>\n      <td>10</td>\n      <td>7.8</td>\n    </tr>\n  </tbody>\n</table>\n</div>",
            "text/plain": "   Code                  Area     2004     2005     2006     2007     2008  \\\n0   NaN                   NaN     None     None     None     None     None   \n1   NaN                   NaN  percent  percent  percent  percent  percent   \n2   NaN                   NaN     None     None     None     None     None   \n3  00AA        City of London        !        !        !        !        !   \n4  00AB  Barking and Dagenham     16.3     16.4       17     18.3     17.5   \n\n      2009     2010     2011     2012     2013     2014     2015     2016  \\\n0     None     None     None     None     None     None     None     None   \n1  percent  percent  percent  percent  percent  percent  percent  percent   \n2     None     None     None     None     None     None     None     None   \n3        !        !        !        !        !        !        !        !   \n4     12.7     12.9      8.6      8.2     11.4     10.4      9.3     11.5   \n\n      2017     2018  \n0     None     None  \n1  percent  percent  \n2     None     None  \n3        !        !  \n4       10      7.8  "
          },
          "metadata": {}
        }
      ]
    },
    {
      "metadata": {
        "trusted": true
      },
      "cell_type": "code",
      "source": "df.replace('!', 0, inplace=True)",
      "execution_count": 210,
      "outputs": []
    },
    {
      "metadata": {
        "trusted": true
      },
      "cell_type": "code",
      "source": "df.drop(0, axis=0, inplace=True)\ndf.drop(1, axis=0, inplace=True)\ndf.drop(2, axis=0, inplace=True)\ndf.head()",
      "execution_count": 211,
      "outputs": [
        {
          "output_type": "execute_result",
          "execution_count": 211,
          "data": {
            "text/html": "<div>\n<style scoped>\n    .dataframe tbody tr th:only-of-type {\n        vertical-align: middle;\n    }\n\n    .dataframe tbody tr th {\n        vertical-align: top;\n    }\n\n    .dataframe thead th {\n        text-align: right;\n    }\n</style>\n<table border=\"1\" class=\"dataframe\">\n  <thead>\n    <tr style=\"text-align: right;\">\n      <th></th>\n      <th>Code</th>\n      <th>Area</th>\n      <th>2004</th>\n      <th>2005</th>\n      <th>2006</th>\n      <th>2007</th>\n      <th>2008</th>\n      <th>2009</th>\n      <th>2010</th>\n      <th>2011</th>\n      <th>2012</th>\n      <th>2013</th>\n      <th>2014</th>\n      <th>2015</th>\n      <th>2016</th>\n      <th>2017</th>\n      <th>2018</th>\n    </tr>\n  </thead>\n  <tbody>\n    <tr>\n      <th>3</th>\n      <td>00AA</td>\n      <td>City of London</td>\n      <td>0</td>\n      <td>0</td>\n      <td>0</td>\n      <td>0</td>\n      <td>0</td>\n      <td>0</td>\n      <td>0</td>\n      <td>0</td>\n      <td>0</td>\n      <td>0</td>\n      <td>0</td>\n      <td>0</td>\n      <td>0</td>\n      <td>0</td>\n      <td>0</td>\n    </tr>\n    <tr>\n      <th>4</th>\n      <td>00AB</td>\n      <td>Barking and Dagenham</td>\n      <td>16.3</td>\n      <td>16.4</td>\n      <td>17</td>\n      <td>18.3</td>\n      <td>17.5</td>\n      <td>12.7</td>\n      <td>12.9</td>\n      <td>8.6</td>\n      <td>8.2</td>\n      <td>11.4</td>\n      <td>10.4</td>\n      <td>9.3</td>\n      <td>11.5</td>\n      <td>10</td>\n      <td>7.8</td>\n    </tr>\n    <tr>\n      <th>5</th>\n      <td>00AC</td>\n      <td>Barnet</td>\n      <td>6.8</td>\n      <td>6.4</td>\n      <td>5.3</td>\n      <td>7.8</td>\n      <td>5.6</td>\n      <td>5.9</td>\n      <td>5.2</td>\n      <td>3.7</td>\n      <td>5</td>\n      <td>2.8</td>\n      <td>6.4</td>\n      <td>3.3</td>\n      <td>3.6</td>\n      <td>3.7</td>\n      <td>3</td>\n    </tr>\n    <tr>\n      <th>6</th>\n      <td>00AD</td>\n      <td>Bexley</td>\n      <td>8.6</td>\n      <td>8.5</td>\n      <td>6.3</td>\n      <td>11.2</td>\n      <td>8.2</td>\n      <td>6.9</td>\n      <td>4.3</td>\n      <td>4.8</td>\n      <td>5.6</td>\n      <td>2.7</td>\n      <td>3.5</td>\n      <td>7.7</td>\n      <td>3.4</td>\n      <td>3.1</td>\n      <td>3.5</td>\n    </tr>\n    <tr>\n      <th>7</th>\n      <td>00AE</td>\n      <td>Brent</td>\n      <td>11.6</td>\n      <td>8.2</td>\n      <td>7.2</td>\n      <td>6.5</td>\n      <td>5.1</td>\n      <td>6.8</td>\n      <td>2.1</td>\n      <td>8.2</td>\n      <td>8.3</td>\n      <td>5.7</td>\n      <td>5.4</td>\n      <td>4.6</td>\n      <td>3.4</td>\n      <td>5.1</td>\n      <td>4.8</td>\n    </tr>\n  </tbody>\n</table>\n</div>",
            "text/plain": "   Code                  Area  2004  2005 2006  2007  2008  2009  2010 2011  \\\n3  00AA        City of London     0     0    0     0     0     0     0    0   \n4  00AB  Barking and Dagenham  16.3  16.4   17  18.3  17.5  12.7  12.9  8.6   \n5  00AC                Barnet   6.8   6.4  5.3   7.8   5.6   5.9   5.2  3.7   \n6  00AD                Bexley   8.6   8.5  6.3  11.2   8.2   6.9   4.3  4.8   \n7  00AE                 Brent  11.6   8.2  7.2   6.5   5.1   6.8   2.1  8.2   \n\n  2012  2013  2014 2015  2016 2017 2018  \n3    0     0     0    0     0    0    0  \n4  8.2  11.4  10.4  9.3  11.5   10  7.8  \n5    5   2.8   6.4  3.3   3.6  3.7    3  \n6  5.6   2.7   3.5  7.7   3.4  3.1  3.5  \n7  8.3   5.7   5.4  4.6   3.4  5.1  4.8  "
          },
          "metadata": {}
        }
      ]
    },
    {
      "metadata": {
        "trusted": true
      },
      "cell_type": "code",
      "source": "PROC_DATA_PATH = '~/library/data/processed/'\ndf.to_csv(PROC_DATA_PATH + 'no-qualifications-overtime.csv') ",
      "execution_count": 212,
      "outputs": []
    },
    {
      "metadata": {},
      "cell_type": "markdown",
      "source": "### NVQ4+ over time"
    },
    {
      "metadata": {
        "trusted": true
      },
      "cell_type": "code",
      "source": "ws2 = wb2[\"2004\"]\ndf04 = pd.DataFrame(ws2.values)\nnq04 = df04[4]",
      "execution_count": 229,
      "outputs": []
    },
    {
      "metadata": {
        "trusted": true
      },
      "cell_type": "code",
      "source": "ws2 = wb2[\"2005\"]\ndf05 = pd.DataFrame(ws2.values)\nnq05 = df05[4]",
      "execution_count": 230,
      "outputs": []
    },
    {
      "metadata": {
        "trusted": true
      },
      "cell_type": "code",
      "source": "ws2 = wb2[\"2006\"]\ndf06 = pd.DataFrame(ws2.values)\nnq06 = df06[4]",
      "execution_count": 231,
      "outputs": []
    },
    {
      "metadata": {
        "trusted": true
      },
      "cell_type": "code",
      "source": "ws2 = wb2[\"2007\"]\ndf07 = pd.DataFrame(ws2.values)\nnq07 = df07[4]",
      "execution_count": 232,
      "outputs": []
    },
    {
      "metadata": {
        "trusted": true
      },
      "cell_type": "code",
      "source": "ws2 = wb2[\"2008\"]\ndf08 = pd.DataFrame(ws2.values)\nnq08 = df08[4]",
      "execution_count": 233,
      "outputs": []
    },
    {
      "metadata": {
        "trusted": true
      },
      "cell_type": "code",
      "source": "ws2 = wb2[\"2009\"]\ndf09 = pd.DataFrame(ws2.values)\nnq09 = df09[4]",
      "execution_count": 234,
      "outputs": []
    },
    {
      "metadata": {
        "trusted": true
      },
      "cell_type": "code",
      "source": "ws2 = wb2[\"2010\"]\ndf10 = pd.DataFrame(ws2.values)\nnq10 = df10[4]",
      "execution_count": 235,
      "outputs": []
    },
    {
      "metadata": {
        "trusted": true
      },
      "cell_type": "code",
      "source": "ws2 = wb2[\"2011\"]\ndf11 = pd.DataFrame(ws2.values)\nnq11 = df11[4]",
      "execution_count": 236,
      "outputs": []
    },
    {
      "metadata": {
        "trusted": true
      },
      "cell_type": "code",
      "source": "ws2 = wb2[\"2012\"]\ndf12 = pd.DataFrame(ws2.values)\nnq12 = df12[4]",
      "execution_count": 237,
      "outputs": []
    },
    {
      "metadata": {
        "trusted": true
      },
      "cell_type": "code",
      "source": "ws2 = wb2[\"2013\"]\ndf13 = pd.DataFrame(ws2.values)\nnq13 = df13[4]",
      "execution_count": 238,
      "outputs": []
    },
    {
      "metadata": {
        "trusted": true
      },
      "cell_type": "code",
      "source": "ws2 = wb2[\"2014\"]\ndf14 = pd.DataFrame(ws2.values)\nnq14 = df14[4]",
      "execution_count": 239,
      "outputs": []
    },
    {
      "metadata": {
        "trusted": true
      },
      "cell_type": "code",
      "source": "ws2 = wb2[\"2015\"]\ndf15 = pd.DataFrame(ws2.values)\nnq15 = df15[4]",
      "execution_count": 240,
      "outputs": []
    },
    {
      "metadata": {
        "trusted": true
      },
      "cell_type": "code",
      "source": "ws2 = wb2[\"2016\"]\ndf16 = pd.DataFrame(ws2.values)\nnq16 = df16[4]",
      "execution_count": 241,
      "outputs": []
    },
    {
      "metadata": {
        "trusted": true
      },
      "cell_type": "code",
      "source": "ws2 = wb2[\"2017\"]\ndf17 = pd.DataFrame(ws2.values)\nnq17 = df17[4]",
      "execution_count": 242,
      "outputs": []
    },
    {
      "metadata": {
        "trusted": true
      },
      "cell_type": "code",
      "source": "ws2 = wb2[\"2018\"]\ndf18 = pd.DataFrame(ws2.values)\nnq18 = df18[4]",
      "execution_count": 243,
      "outputs": []
    },
    {
      "metadata": {
        "trusted": true
      },
      "cell_type": "code",
      "source": "#using only the borough key of df\nbulk = df.iloc[::, 2:]",
      "execution_count": 244,
      "outputs": []
    },
    {
      "metadata": {
        "trusted": true
      },
      "cell_type": "code",
      "source": "df.drop(bulk, axis=1, inplace=True)",
      "execution_count": 245,
      "outputs": []
    },
    {
      "metadata": {
        "trusted": true
      },
      "cell_type": "code",
      "source": "df = pd.concat([df, nq04], axis=1)\ndf = pd.concat([df, nq05], axis=1)\ndf = pd.concat([df, nq06], axis=1)\ndf = pd.concat([df, nq07], axis=1)\ndf = pd.concat([df, nq08], axis=1)\ndf = pd.concat([df, nq09], axis=1)\ndf = pd.concat([df, nq10], axis=1)\ndf = pd.concat([df, nq11], axis=1)\ndf = pd.concat([df, nq12], axis=1)\ndf = pd.concat([df, nq13], axis=1)\ndf = pd.concat([df, nq14], axis=1)\ndf = pd.concat([df, nq15], axis=1)\ndf = pd.concat([df, nq16], axis=1)\ndf = pd.concat([df, nq17], axis=1)\ndf = pd.concat([df, nq18], axis=1)\ndf",
      "execution_count": 246,
      "outputs": [
        {
          "output_type": "execute_result",
          "execution_count": 246,
          "data": {
            "text/html": "<div>\n<style scoped>\n    .dataframe tbody tr th:only-of-type {\n        vertical-align: middle;\n    }\n\n    .dataframe tbody tr th {\n        vertical-align: top;\n    }\n\n    .dataframe thead th {\n        text-align: right;\n    }\n</style>\n<table border=\"1\" class=\"dataframe\">\n  <thead>\n    <tr style=\"text-align: right;\">\n      <th></th>\n      <th>Code</th>\n      <th>Area</th>\n      <th>4</th>\n      <th>4</th>\n      <th>4</th>\n      <th>4</th>\n      <th>4</th>\n      <th>4</th>\n      <th>4</th>\n      <th>4</th>\n      <th>4</th>\n      <th>4</th>\n      <th>4</th>\n      <th>4</th>\n      <th>4</th>\n      <th>4</th>\n      <th>4</th>\n    </tr>\n  </thead>\n  <tbody>\n    <tr>\n      <th>0</th>\n      <td>NaN</td>\n      <td>NaN</td>\n      <td>None</td>\n      <td>None</td>\n      <td>None</td>\n      <td>None</td>\n      <td>None</td>\n      <td>None</td>\n      <td>None</td>\n      <td>None</td>\n      <td>None</td>\n      <td>None</td>\n      <td>None</td>\n      <td>None</td>\n      <td>None</td>\n      <td>None</td>\n      <td>None</td>\n    </tr>\n    <tr>\n      <th>1</th>\n      <td>NaN</td>\n      <td>NaN</td>\n      <td>percent</td>\n      <td>percent</td>\n      <td>percent</td>\n      <td>percent</td>\n      <td>percent</td>\n      <td>percent</td>\n      <td>percent</td>\n      <td>percent</td>\n      <td>percent</td>\n      <td>percent</td>\n      <td>percent</td>\n      <td>percent</td>\n      <td>percent</td>\n      <td>percent</td>\n      <td>percent</td>\n    </tr>\n    <tr>\n      <th>2</th>\n      <td>NaN</td>\n      <td>NaN</td>\n      <td>None</td>\n      <td>None</td>\n      <td>None</td>\n      <td>None</td>\n      <td>None</td>\n      <td>None</td>\n      <td>None</td>\n      <td>None</td>\n      <td>None</td>\n      <td>None</td>\n      <td>None</td>\n      <td>None</td>\n      <td>None</td>\n      <td>None</td>\n      <td>None</td>\n    </tr>\n    <tr>\n      <th>3</th>\n      <td>00AA</td>\n      <td>City of London</td>\n      <td>80.6</td>\n      <td>73.1</td>\n      <td>67.9</td>\n      <td>73.7</td>\n      <td>69.4</td>\n      <td>100</td>\n      <td>!</td>\n      <td>!</td>\n      <td>100</td>\n      <td>100</td>\n      <td>!</td>\n      <td>100</td>\n      <td>83.3</td>\n      <td>91.1</td>\n      <td>100</td>\n    </tr>\n    <tr>\n      <th>4</th>\n      <td>00AB</td>\n      <td>Barking and Dagenham</td>\n      <td>17.2</td>\n      <td>20.2</td>\n      <td>18.5</td>\n      <td>22.4</td>\n      <td>26</td>\n      <td>29.1</td>\n      <td>33.8</td>\n      <td>33.2</td>\n      <td>29.8</td>\n      <td>32.3</td>\n      <td>34.8</td>\n      <td>35.9</td>\n      <td>37.5</td>\n      <td>35</td>\n      <td>39.2</td>\n    </tr>\n    <tr>\n      <th>5</th>\n      <td>00AC</td>\n      <td>Barnet</td>\n      <td>41.6</td>\n      <td>46.9</td>\n      <td>42.3</td>\n      <td>47.6</td>\n      <td>48.6</td>\n      <td>49.5</td>\n      <td>53.2</td>\n      <td>57.3</td>\n      <td>53.9</td>\n      <td>56.8</td>\n      <td>49.9</td>\n      <td>55.4</td>\n      <td>65.2</td>\n      <td>62.2</td>\n      <td>61.5</td>\n    </tr>\n    <tr>\n      <th>6</th>\n      <td>00AD</td>\n      <td>Bexley</td>\n      <td>17.3</td>\n      <td>21.8</td>\n      <td>24.2</td>\n      <td>23.1</td>\n      <td>28.1</td>\n      <td>31.5</td>\n      <td>30.5</td>\n      <td>29.6</td>\n      <td>31.9</td>\n      <td>35.3</td>\n      <td>37.4</td>\n      <td>38.3</td>\n      <td>40.8</td>\n      <td>39.9</td>\n      <td>45.2</td>\n    </tr>\n    <tr>\n      <th>7</th>\n      <td>00AE</td>\n      <td>Brent</td>\n      <td>31.7</td>\n      <td>35.8</td>\n      <td>35</td>\n      <td>31.3</td>\n      <td>31.4</td>\n      <td>41</td>\n      <td>31</td>\n      <td>33.8</td>\n      <td>46.8</td>\n      <td>50.8</td>\n      <td>53.9</td>\n      <td>53.4</td>\n      <td>52.1</td>\n      <td>45.4</td>\n      <td>47.5</td>\n    </tr>\n    <tr>\n      <th>8</th>\n      <td>00AF</td>\n      <td>Bromley</td>\n      <td>38.4</td>\n      <td>33.6</td>\n      <td>39.1</td>\n      <td>39</td>\n      <td>36.4</td>\n      <td>39.3</td>\n      <td>41</td>\n      <td>47.1</td>\n      <td>49.7</td>\n      <td>51.9</td>\n      <td>50</td>\n      <td>51.5</td>\n      <td>54.2</td>\n      <td>50.1</td>\n      <td>53.5</td>\n    </tr>\n    <tr>\n      <th>9</th>\n      <td>00AG</td>\n      <td>Camden</td>\n      <td>55.7</td>\n      <td>60</td>\n      <td>60.1</td>\n      <td>59.1</td>\n      <td>59.8</td>\n      <td>62.6</td>\n      <td>63.5</td>\n      <td>69.4</td>\n      <td>69.6</td>\n      <td>69.8</td>\n      <td>72.4</td>\n      <td>73.5</td>\n      <td>72.2</td>\n      <td>71.2</td>\n      <td>74.5</td>\n    </tr>\n    <tr>\n      <th>10</th>\n      <td>00AH</td>\n      <td>Croydon</td>\n      <td>31.1</td>\n      <td>32.6</td>\n      <td>33.6</td>\n      <td>34.8</td>\n      <td>36.3</td>\n      <td>35.7</td>\n      <td>45.1</td>\n      <td>43.1</td>\n      <td>44.3</td>\n      <td>47.8</td>\n      <td>45.6</td>\n      <td>45.8</td>\n      <td>52.8</td>\n      <td>51</td>\n      <td>54.3</td>\n    </tr>\n    <tr>\n      <th>11</th>\n      <td>00AJ</td>\n      <td>Ealing</td>\n      <td>44.5</td>\n      <td>44</td>\n      <td>39.9</td>\n      <td>45</td>\n      <td>49.3</td>\n      <td>43.6</td>\n      <td>46.7</td>\n      <td>54.7</td>\n      <td>52.9</td>\n      <td>51.9</td>\n      <td>54.2</td>\n      <td>57</td>\n      <td>61.2</td>\n      <td>56.9</td>\n      <td>58</td>\n    </tr>\n    <tr>\n      <th>12</th>\n      <td>00AK</td>\n      <td>Enfield</td>\n      <td>26.6</td>\n      <td>34.2</td>\n      <td>39.9</td>\n      <td>35.7</td>\n      <td>38.1</td>\n      <td>43.7</td>\n      <td>43.9</td>\n      <td>44</td>\n      <td>42.4</td>\n      <td>44.3</td>\n      <td>48.1</td>\n      <td>50.5</td>\n      <td>48.5</td>\n      <td>43.1</td>\n      <td>49.4</td>\n    </tr>\n    <tr>\n      <th>13</th>\n      <td>00AL</td>\n      <td>Greenwich</td>\n      <td>32.9</td>\n      <td>31.8</td>\n      <td>38.9</td>\n      <td>35.2</td>\n      <td>42.4</td>\n      <td>43.1</td>\n      <td>42.2</td>\n      <td>49.2</td>\n      <td>47.5</td>\n      <td>52.6</td>\n      <td>48.3</td>\n      <td>48.7</td>\n      <td>50.6</td>\n      <td>61.1</td>\n      <td>60.6</td>\n    </tr>\n    <tr>\n      <th>14</th>\n      <td>00AM</td>\n      <td>Hackney</td>\n      <td>42.7</td>\n      <td>41.7</td>\n      <td>44.6</td>\n      <td>47.8</td>\n      <td>56.1</td>\n      <td>55.9</td>\n      <td>49.8</td>\n      <td>56.6</td>\n      <td>60.3</td>\n      <td>58.6</td>\n      <td>60</td>\n      <td>59.4</td>\n      <td>65.3</td>\n      <td>71</td>\n      <td>63.9</td>\n    </tr>\n    <tr>\n      <th>15</th>\n      <td>00AN</td>\n      <td>Hammersmith and Fulham</td>\n      <td>55.5</td>\n      <td>57</td>\n      <td>59</td>\n      <td>58.2</td>\n      <td>58.1</td>\n      <td>53.2</td>\n      <td>59.9</td>\n      <td>66.7</td>\n      <td>67.8</td>\n      <td>70.6</td>\n      <td>72</td>\n      <td>73.4</td>\n      <td>66.4</td>\n      <td>71.6</td>\n      <td>69.2</td>\n    </tr>\n    <tr>\n      <th>16</th>\n      <td>00AP</td>\n      <td>Haringey</td>\n      <td>45</td>\n      <td>45.5</td>\n      <td>47.9</td>\n      <td>50.6</td>\n      <td>52.5</td>\n      <td>52.7</td>\n      <td>51.2</td>\n      <td>60</td>\n      <td>62.4</td>\n      <td>61.9</td>\n      <td>55.6</td>\n      <td>56.6</td>\n      <td>59.1</td>\n      <td>59.9</td>\n      <td>63.6</td>\n    </tr>\n    <tr>\n      <th>17</th>\n      <td>00AQ</td>\n      <td>Harrow</td>\n      <td>37.5</td>\n      <td>37.2</td>\n      <td>37.3</td>\n      <td>38.4</td>\n      <td>34.8</td>\n      <td>37.9</td>\n      <td>39.9</td>\n      <td>49.3</td>\n      <td>52.7</td>\n      <td>52.2</td>\n      <td>58.2</td>\n      <td>53.3</td>\n      <td>49.9</td>\n      <td>52.2</td>\n      <td>52.5</td>\n    </tr>\n    <tr>\n      <th>18</th>\n      <td>00AR</td>\n      <td>Havering</td>\n      <td>13.7</td>\n      <td>20.4</td>\n      <td>20.4</td>\n      <td>20.5</td>\n      <td>23</td>\n      <td>19</td>\n      <td>22.3</td>\n      <td>21.7</td>\n      <td>24.1</td>\n      <td>26.6</td>\n      <td>27.8</td>\n      <td>30.1</td>\n      <td>30.6</td>\n      <td>33.8</td>\n      <td>33.7</td>\n    </tr>\n    <tr>\n      <th>19</th>\n      <td>00AS</td>\n      <td>Hillingdon</td>\n      <td>27.8</td>\n      <td>32.3</td>\n      <td>29.3</td>\n      <td>30.8</td>\n      <td>28.4</td>\n      <td>37</td>\n      <td>29.5</td>\n      <td>37.8</td>\n      <td>40.5</td>\n      <td>46.5</td>\n      <td>45</td>\n      <td>45.1</td>\n      <td>50.1</td>\n      <td>49.2</td>\n      <td>48.8</td>\n    </tr>\n    <tr>\n      <th>20</th>\n      <td>00AT</td>\n      <td>Hounslow</td>\n      <td>30.4</td>\n      <td>31.6</td>\n      <td>37.2</td>\n      <td>37.3</td>\n      <td>42.2</td>\n      <td>39.8</td>\n      <td>38.5</td>\n      <td>51.9</td>\n      <td>52.3</td>\n      <td>49.3</td>\n      <td>55.2</td>\n      <td>52.3</td>\n      <td>54.1</td>\n      <td>49.5</td>\n      <td>58.4</td>\n    </tr>\n    <tr>\n      <th>21</th>\n      <td>00AU</td>\n      <td>Islington</td>\n      <td>50.4</td>\n      <td>51</td>\n      <td>55.8</td>\n      <td>56.7</td>\n      <td>57.4</td>\n      <td>61.9</td>\n      <td>69.4</td>\n      <td>69.2</td>\n      <td>65.9</td>\n      <td>72.1</td>\n      <td>69.6</td>\n      <td>71.9</td>\n      <td>68.3</td>\n      <td>70.2</td>\n      <td>74</td>\n    </tr>\n    <tr>\n      <th>22</th>\n      <td>00AW</td>\n      <td>Kensington and Chelsea</td>\n      <td>47.9</td>\n      <td>56.2</td>\n      <td>52.8</td>\n      <td>57.5</td>\n      <td>61.1</td>\n      <td>68</td>\n      <td>64.4</td>\n      <td>69.4</td>\n      <td>68.8</td>\n      <td>67.3</td>\n      <td>68.6</td>\n      <td>73.4</td>\n      <td>67.4</td>\n      <td>71.9</td>\n      <td>72.2</td>\n    </tr>\n    <tr>\n      <th>23</th>\n      <td>00AX</td>\n      <td>Kingston upon Thames</td>\n      <td>46.1</td>\n      <td>42.8</td>\n      <td>47.9</td>\n      <td>54</td>\n      <td>57.4</td>\n      <td>50.9</td>\n      <td>59.7</td>\n      <td>54.2</td>\n      <td>55.1</td>\n      <td>58.8</td>\n      <td>61.6</td>\n      <td>59.4</td>\n      <td>61.3</td>\n      <td>61.2</td>\n      <td>66.6</td>\n    </tr>\n    <tr>\n      <th>24</th>\n      <td>00AY</td>\n      <td>Lambeth</td>\n      <td>49</td>\n      <td>48.8</td>\n      <td>51</td>\n      <td>53.8</td>\n      <td>51</td>\n      <td>57</td>\n      <td>62.3</td>\n      <td>66.2</td>\n      <td>63.1</td>\n      <td>68.8</td>\n      <td>68.4</td>\n      <td>72.9</td>\n      <td>71.2</td>\n      <td>73.4</td>\n      <td>68.8</td>\n    </tr>\n    <tr>\n      <th>25</th>\n      <td>00AZ</td>\n      <td>Lewisham</td>\n      <td>38.2</td>\n      <td>36.6</td>\n      <td>36.2</td>\n      <td>40.6</td>\n      <td>46.1</td>\n      <td>45.1</td>\n      <td>55.4</td>\n      <td>57.2</td>\n      <td>63.4</td>\n      <td>59.4</td>\n      <td>58.6</td>\n      <td>58.1</td>\n      <td>56.5</td>\n      <td>57.1</td>\n      <td>64.5</td>\n    </tr>\n    <tr>\n      <th>26</th>\n      <td>00BA</td>\n      <td>Merton</td>\n      <td>39.8</td>\n      <td>47</td>\n      <td>43.3</td>\n      <td>46.9</td>\n      <td>40.1</td>\n      <td>45.2</td>\n      <td>54.8</td>\n      <td>52.6</td>\n      <td>52</td>\n      <td>58</td>\n      <td>57.3</td>\n      <td>61.9</td>\n      <td>66</td>\n      <td>61.7</td>\n      <td>57.2</td>\n    </tr>\n    <tr>\n      <th>27</th>\n      <td>00BB</td>\n      <td>Newham</td>\n      <td>23.3</td>\n      <td>27.4</td>\n      <td>31.2</td>\n      <td>31.7</td>\n      <td>30.8</td>\n      <td>30.5</td>\n      <td>37.1</td>\n      <td>48</td>\n      <td>49.2</td>\n      <td>47.6</td>\n      <td>43.3</td>\n      <td>50</td>\n      <td>55.9</td>\n      <td>47.6</td>\n      <td>56.6</td>\n    </tr>\n    <tr>\n      <th>28</th>\n      <td>00BC</td>\n      <td>Redbridge</td>\n      <td>30.8</td>\n      <td>41</td>\n      <td>41.6</td>\n      <td>43.8</td>\n      <td>43.2</td>\n      <td>39.4</td>\n      <td>41.9</td>\n      <td>43.6</td>\n      <td>49.8</td>\n      <td>53.8</td>\n      <td>52.9</td>\n      <td>51.2</td>\n      <td>55.4</td>\n      <td>53.7</td>\n      <td>53.4</td>\n    </tr>\n    <tr>\n      <th>29</th>\n      <td>00BD</td>\n      <td>Richmond upon Thames</td>\n      <td>51.1</td>\n      <td>53.7</td>\n      <td>58.7</td>\n      <td>59.8</td>\n      <td>60.3</td>\n      <td>60.1</td>\n      <td>59.6</td>\n      <td>62.1</td>\n      <td>66.8</td>\n      <td>70.8</td>\n      <td>72.5</td>\n      <td>75</td>\n      <td>75.9</td>\n      <td>71.3</td>\n      <td>72.9</td>\n    </tr>\n    <tr>\n      <th>30</th>\n      <td>00BE</td>\n      <td>Southwark</td>\n      <td>45.8</td>\n      <td>49.5</td>\n      <td>46</td>\n      <td>52.3</td>\n      <td>54.1</td>\n      <td>54.5</td>\n      <td>57.3</td>\n      <td>64</td>\n      <td>64.2</td>\n      <td>63.3</td>\n      <td>67.6</td>\n      <td>64.3</td>\n      <td>66.4</td>\n      <td>68.7</td>\n      <td>71.2</td>\n    </tr>\n    <tr>\n      <th>31</th>\n      <td>00BF</td>\n      <td>Sutton</td>\n      <td>26.8</td>\n      <td>32</td>\n      <td>34.8</td>\n      <td>33.3</td>\n      <td>31.2</td>\n      <td>41</td>\n      <td>40.6</td>\n      <td>38.6</td>\n      <td>42.2</td>\n      <td>44.1</td>\n      <td>47.2</td>\n      <td>44.8</td>\n      <td>49.3</td>\n      <td>56.6</td>\n      <td>51.8</td>\n    </tr>\n    <tr>\n      <th>32</th>\n      <td>00BG</td>\n      <td>Tower Hamlets</td>\n      <td>38.4</td>\n      <td>37.7</td>\n      <td>39.7</td>\n      <td>41.7</td>\n      <td>47.2</td>\n      <td>46.5</td>\n      <td>52.2</td>\n      <td>58.2</td>\n      <td>62.9</td>\n      <td>57.7</td>\n      <td>53.5</td>\n      <td>54.6</td>\n      <td>60.8</td>\n      <td>61</td>\n      <td>65.1</td>\n    </tr>\n    <tr>\n      <th>33</th>\n      <td>00BH</td>\n      <td>Waltham Forest</td>\n      <td>30.4</td>\n      <td>27.5</td>\n      <td>31.5</td>\n      <td>36.5</td>\n      <td>36.9</td>\n      <td>32.3</td>\n      <td>37.1</td>\n      <td>44.8</td>\n      <td>47.1</td>\n      <td>50.1</td>\n      <td>51.8</td>\n      <td>50.6</td>\n      <td>52.4</td>\n      <td>49.6</td>\n      <td>55.1</td>\n    </tr>\n    <tr>\n      <th>34</th>\n      <td>00BJ</td>\n      <td>Wandsworth</td>\n      <td>55.7</td>\n      <td>51.4</td>\n      <td>59.6</td>\n      <td>63.2</td>\n      <td>61.7</td>\n      <td>65</td>\n      <td>70</td>\n      <td>71.2</td>\n      <td>73.6</td>\n      <td>71.3</td>\n      <td>77.4</td>\n      <td>71.6</td>\n      <td>76.8</td>\n      <td>76.9</td>\n      <td>76</td>\n    </tr>\n    <tr>\n      <th>35</th>\n      <td>00BK</td>\n      <td>Westminster</td>\n      <td>45.6</td>\n      <td>51.6</td>\n      <td>56.1</td>\n      <td>62.7</td>\n      <td>58.7</td>\n      <td>65</td>\n      <td>68.1</td>\n      <td>69.4</td>\n      <td>72.6</td>\n      <td>71.7</td>\n      <td>76</td>\n      <td>71.2</td>\n      <td>70.6</td>\n      <td>72.5</td>\n      <td>78</td>\n    </tr>\n    <tr>\n      <th>36</th>\n      <td>None</td>\n      <td>None</td>\n      <td>None</td>\n      <td>None</td>\n      <td>None</td>\n      <td>None</td>\n      <td>None</td>\n      <td>None</td>\n      <td>None</td>\n      <td>None</td>\n      <td>None</td>\n      <td>None</td>\n      <td>None</td>\n      <td>None</td>\n      <td>None</td>\n      <td>None</td>\n      <td>None</td>\n    </tr>\n    <tr>\n      <th>37</th>\n      <td>A</td>\n      <td>North East</td>\n      <td>25.9</td>\n      <td>25.3</td>\n      <td>26.7</td>\n      <td>28.3</td>\n      <td>27.7</td>\n      <td>28.5</td>\n      <td>30.3</td>\n      <td>30.7</td>\n      <td>31</td>\n      <td>32.2</td>\n      <td>32.6</td>\n      <td>34.9</td>\n      <td>36</td>\n      <td>36.6</td>\n      <td>36</td>\n    </tr>\n    <tr>\n      <th>38</th>\n      <td>B</td>\n      <td>North West</td>\n      <td>27.1</td>\n      <td>28.4</td>\n      <td>28.7</td>\n      <td>29.5</td>\n      <td>29.6</td>\n      <td>31.7</td>\n      <td>33.5</td>\n      <td>33</td>\n      <td>34.8</td>\n      <td>35.6</td>\n      <td>35.7</td>\n      <td>37.2</td>\n      <td>39</td>\n      <td>39.1</td>\n      <td>40.3</td>\n    </tr>\n    <tr>\n      <th>39</th>\n      <td>D</td>\n      <td>Yorkshire and The Humber</td>\n      <td>26.2</td>\n      <td>25.5</td>\n      <td>25.9</td>\n      <td>27.5</td>\n      <td>28.5</td>\n      <td>30.2</td>\n      <td>30.7</td>\n      <td>31.1</td>\n      <td>33.7</td>\n      <td>33.7</td>\n      <td>33.9</td>\n      <td>34.8</td>\n      <td>35.5</td>\n      <td>36.8</td>\n      <td>37.5</td>\n    </tr>\n    <tr>\n      <th>40</th>\n      <td>E</td>\n      <td>East Midlands</td>\n      <td>26.2</td>\n      <td>26.5</td>\n      <td>27.9</td>\n      <td>28.5</td>\n      <td>28.1</td>\n      <td>29.2</td>\n      <td>30.9</td>\n      <td>31.7</td>\n      <td>32</td>\n      <td>33.4</td>\n      <td>34.2</td>\n      <td>35.8</td>\n      <td>35.2</td>\n      <td>35.9</td>\n      <td>37.3</td>\n    </tr>\n    <tr>\n      <th>41</th>\n      <td>F</td>\n      <td>West Midlands</td>\n      <td>26</td>\n      <td>26.2</td>\n      <td>27.3</td>\n      <td>28.5</td>\n      <td>28.1</td>\n      <td>28.9</td>\n      <td>30.4</td>\n      <td>30.2</td>\n      <td>32.2</td>\n      <td>32.7</td>\n      <td>33.8</td>\n      <td>35.7</td>\n      <td>35.8</td>\n      <td>35.5</td>\n      <td>37</td>\n    </tr>\n    <tr>\n      <th>42</th>\n      <td>G</td>\n      <td>East</td>\n      <td>27.1</td>\n      <td>27.7</td>\n      <td>27.4</td>\n      <td>28.6</td>\n      <td>28.3</td>\n      <td>29.7</td>\n      <td>32</td>\n      <td>32.1</td>\n      <td>35.9</td>\n      <td>36.2</td>\n      <td>36.1</td>\n      <td>37</td>\n      <td>38.5</td>\n      <td>37.9</td>\n      <td>38.6</td>\n    </tr>\n    <tr>\n      <th>43</th>\n      <td>H</td>\n      <td>London</td>\n      <td>38</td>\n      <td>40.1</td>\n      <td>41.6</td>\n      <td>43.5</td>\n      <td>44.5</td>\n      <td>46.1</td>\n      <td>48.4</td>\n      <td>52.4</td>\n      <td>54</td>\n      <td>55.5</td>\n      <td>56</td>\n      <td>56.5</td>\n      <td>58.6</td>\n      <td>58.1</td>\n      <td>60</td>\n    </tr>\n    <tr>\n      <th>44</th>\n      <td>J</td>\n      <td>South East</td>\n      <td>31.7</td>\n      <td>32</td>\n      <td>33</td>\n      <td>33.6</td>\n      <td>34.2</td>\n      <td>35.9</td>\n      <td>37.3</td>\n      <td>39.4</td>\n      <td>40</td>\n      <td>41.7</td>\n      <td>42.7</td>\n      <td>43.1</td>\n      <td>44.9</td>\n      <td>44.2</td>\n      <td>45.5</td>\n    </tr>\n    <tr>\n      <th>45</th>\n      <td>K</td>\n      <td>South West</td>\n      <td>28.5</td>\n      <td>28.8</td>\n      <td>29.9</td>\n      <td>31.9</td>\n      <td>30.7</td>\n      <td>31.9</td>\n      <td>35</td>\n      <td>36.3</td>\n      <td>37.3</td>\n      <td>37.1</td>\n      <td>39.4</td>\n      <td>40.6</td>\n      <td>41.2</td>\n      <td>42.3</td>\n      <td>41.9</td>\n    </tr>\n    <tr>\n      <th>46</th>\n      <td>None</td>\n      <td>None</td>\n      <td>None</td>\n      <td>None</td>\n      <td>None</td>\n      <td>None</td>\n      <td>None</td>\n      <td>None</td>\n      <td>None</td>\n      <td>None</td>\n      <td>None</td>\n      <td>None</td>\n      <td>None</td>\n      <td>None</td>\n      <td>None</td>\n      <td>None</td>\n      <td>None</td>\n    </tr>\n    <tr>\n      <th>47</th>\n      <td>921</td>\n      <td>England</td>\n      <td>29.3</td>\n      <td>29.9</td>\n      <td>30.8</td>\n      <td>32</td>\n      <td>32.2</td>\n      <td>33.7</td>\n      <td>35.5</td>\n      <td>36.7</td>\n      <td>38.4</td>\n      <td>39.3</td>\n      <td>40</td>\n      <td>41.2</td>\n      <td>42.4</td>\n      <td>42.5</td>\n      <td>43.5</td>\n    </tr>\n    <tr>\n      <th>48</th>\n      <td>924</td>\n      <td>Wales</td>\n      <td>27.8</td>\n      <td>28.2</td>\n      <td>28.5</td>\n      <td>29.8</td>\n      <td>30.9</td>\n      <td>32.4</td>\n      <td>34.1</td>\n      <td>34.3</td>\n      <td>35.1</td>\n      <td>35.8</td>\n      <td>37.8</td>\n      <td>38.7</td>\n      <td>40.1</td>\n      <td>39.9</td>\n      <td>39.9</td>\n    </tr>\n    <tr>\n      <th>49</th>\n      <td>923</td>\n      <td>Scotland</td>\n      <td>34.1</td>\n      <td>34.3</td>\n      <td>35.7</td>\n      <td>36.8</td>\n      <td>37.3</td>\n      <td>38.2</td>\n      <td>39.3</td>\n      <td>41.2</td>\n      <td>42.6</td>\n      <td>43.4</td>\n      <td>45.6</td>\n      <td>47.2</td>\n      <td>48.4</td>\n      <td>48</td>\n      <td>48.3</td>\n    </tr>\n    <tr>\n      <th>50</th>\n      <td>922</td>\n      <td>Northern Ireland</td>\n      <td>28.6</td>\n      <td>28.2</td>\n      <td>28.6</td>\n      <td>29.9</td>\n      <td>32</td>\n      <td>31.7</td>\n      <td>33.1</td>\n      <td>31.9</td>\n      <td>33.6</td>\n      <td>34</td>\n      <td>35.7</td>\n      <td>35.8</td>\n      <td>36.2</td>\n      <td>38.9</td>\n      <td>41.9</td>\n    </tr>\n    <tr>\n      <th>51</th>\n      <td>None</td>\n      <td>None</td>\n      <td>None</td>\n      <td>None</td>\n      <td>None</td>\n      <td>None</td>\n      <td>None</td>\n      <td>None</td>\n      <td>None</td>\n      <td>None</td>\n      <td>None</td>\n      <td>None</td>\n      <td>None</td>\n      <td>None</td>\n      <td>None</td>\n      <td>None</td>\n      <td>None</td>\n    </tr>\n    <tr>\n      <th>52</th>\n      <td>941</td>\n      <td>England and Wales</td>\n      <td>29.2</td>\n      <td>29.8</td>\n      <td>30.7</td>\n      <td>31.9</td>\n      <td>32.1</td>\n      <td>33.6</td>\n      <td>35.4</td>\n      <td>36.6</td>\n      <td>38.2</td>\n      <td>39.1</td>\n      <td>39.9</td>\n      <td>41</td>\n      <td>42.3</td>\n      <td>42.3</td>\n      <td>43.3</td>\n    </tr>\n    <tr>\n      <th>53</th>\n      <td>925</td>\n      <td>Great Britain</td>\n      <td>29.7</td>\n      <td>30.2</td>\n      <td>31.1</td>\n      <td>32.4</td>\n      <td>32.6</td>\n      <td>34</td>\n      <td>35.8</td>\n      <td>37</td>\n      <td>38.6</td>\n      <td>39.5</td>\n      <td>40.4</td>\n      <td>41.6</td>\n      <td>42.8</td>\n      <td>42.8</td>\n      <td>43.7</td>\n    </tr>\n    <tr>\n      <th>54</th>\n      <td>926</td>\n      <td>United Kingdom</td>\n      <td>29.6</td>\n      <td>30.1</td>\n      <td>31</td>\n      <td>32.3</td>\n      <td>32.5</td>\n      <td>33.9</td>\n      <td>35.7</td>\n      <td>36.9</td>\n      <td>38.5</td>\n      <td>39.3</td>\n      <td>40.3</td>\n      <td>41.4</td>\n      <td>42.6</td>\n      <td>42.7</td>\n      <td>43.7</td>\n    </tr>\n  </tbody>\n</table>\n</div>",
            "text/plain": "    Code                      Area        4        4        4        4  \\\n0    NaN                       NaN     None     None     None     None   \n1    NaN                       NaN  percent  percent  percent  percent   \n2    NaN                       NaN     None     None     None     None   \n3   00AA            City of London     80.6     73.1     67.9     73.7   \n4   00AB      Barking and Dagenham     17.2     20.2     18.5     22.4   \n5   00AC                    Barnet     41.6     46.9     42.3     47.6   \n6   00AD                    Bexley     17.3     21.8     24.2     23.1   \n7   00AE                     Brent     31.7     35.8       35     31.3   \n8   00AF                   Bromley     38.4     33.6     39.1       39   \n9   00AG                    Camden     55.7       60     60.1     59.1   \n10  00AH                   Croydon     31.1     32.6     33.6     34.8   \n11  00AJ                    Ealing     44.5       44     39.9       45   \n12  00AK                   Enfield     26.6     34.2     39.9     35.7   \n13  00AL                 Greenwich     32.9     31.8     38.9     35.2   \n14  00AM                   Hackney     42.7     41.7     44.6     47.8   \n15  00AN    Hammersmith and Fulham     55.5       57       59     58.2   \n16  00AP                  Haringey       45     45.5     47.9     50.6   \n17  00AQ                    Harrow     37.5     37.2     37.3     38.4   \n18  00AR                  Havering     13.7     20.4     20.4     20.5   \n19  00AS                Hillingdon     27.8     32.3     29.3     30.8   \n20  00AT                  Hounslow     30.4     31.6     37.2     37.3   \n21  00AU                 Islington     50.4       51     55.8     56.7   \n22  00AW    Kensington and Chelsea     47.9     56.2     52.8     57.5   \n23  00AX      Kingston upon Thames     46.1     42.8     47.9       54   \n24  00AY                   Lambeth       49     48.8       51     53.8   \n25  00AZ                  Lewisham     38.2     36.6     36.2     40.6   \n26  00BA                    Merton     39.8       47     43.3     46.9   \n27  00BB                    Newham     23.3     27.4     31.2     31.7   \n28  00BC                 Redbridge     30.8       41     41.6     43.8   \n29  00BD      Richmond upon Thames     51.1     53.7     58.7     59.8   \n30  00BE                 Southwark     45.8     49.5       46     52.3   \n31  00BF                    Sutton     26.8       32     34.8     33.3   \n32  00BG             Tower Hamlets     38.4     37.7     39.7     41.7   \n33  00BH            Waltham Forest     30.4     27.5     31.5     36.5   \n34  00BJ                Wandsworth     55.7     51.4     59.6     63.2   \n35  00BK               Westminster     45.6     51.6     56.1     62.7   \n36  None                      None     None     None     None     None   \n37     A                North East     25.9     25.3     26.7     28.3   \n38     B                North West     27.1     28.4     28.7     29.5   \n39     D  Yorkshire and The Humber     26.2     25.5     25.9     27.5   \n40     E             East Midlands     26.2     26.5     27.9     28.5   \n41     F             West Midlands       26     26.2     27.3     28.5   \n42     G                      East     27.1     27.7     27.4     28.6   \n43     H                    London       38     40.1     41.6     43.5   \n44     J                South East     31.7       32       33     33.6   \n45     K                South West     28.5     28.8     29.9     31.9   \n46  None                      None     None     None     None     None   \n47   921                   England     29.3     29.9     30.8       32   \n48   924                     Wales     27.8     28.2     28.5     29.8   \n49   923                  Scotland     34.1     34.3     35.7     36.8   \n50   922          Northern Ireland     28.6     28.2     28.6     29.9   \n51  None                      None     None     None     None     None   \n52   941         England and Wales     29.2     29.8     30.7     31.9   \n53   925             Great Britain     29.7     30.2     31.1     32.4   \n54   926            United Kingdom     29.6     30.1       31     32.3   \n\n          4        4        4        4        4        4        4        4  \\\n0      None     None     None     None     None     None     None     None   \n1   percent  percent  percent  percent  percent  percent  percent  percent   \n2      None     None     None     None     None     None     None     None   \n3      69.4      100        !        !      100      100        !      100   \n4        26     29.1     33.8     33.2     29.8     32.3     34.8     35.9   \n5      48.6     49.5     53.2     57.3     53.9     56.8     49.9     55.4   \n6      28.1     31.5     30.5     29.6     31.9     35.3     37.4     38.3   \n7      31.4       41       31     33.8     46.8     50.8     53.9     53.4   \n8      36.4     39.3       41     47.1     49.7     51.9       50     51.5   \n9      59.8     62.6     63.5     69.4     69.6     69.8     72.4     73.5   \n10     36.3     35.7     45.1     43.1     44.3     47.8     45.6     45.8   \n11     49.3     43.6     46.7     54.7     52.9     51.9     54.2       57   \n12     38.1     43.7     43.9       44     42.4     44.3     48.1     50.5   \n13     42.4     43.1     42.2     49.2     47.5     52.6     48.3     48.7   \n14     56.1     55.9     49.8     56.6     60.3     58.6       60     59.4   \n15     58.1     53.2     59.9     66.7     67.8     70.6       72     73.4   \n16     52.5     52.7     51.2       60     62.4     61.9     55.6     56.6   \n17     34.8     37.9     39.9     49.3     52.7     52.2     58.2     53.3   \n18       23       19     22.3     21.7     24.1     26.6     27.8     30.1   \n19     28.4       37     29.5     37.8     40.5     46.5       45     45.1   \n20     42.2     39.8     38.5     51.9     52.3     49.3     55.2     52.3   \n21     57.4     61.9     69.4     69.2     65.9     72.1     69.6     71.9   \n22     61.1       68     64.4     69.4     68.8     67.3     68.6     73.4   \n23     57.4     50.9     59.7     54.2     55.1     58.8     61.6     59.4   \n24       51       57     62.3     66.2     63.1     68.8     68.4     72.9   \n25     46.1     45.1     55.4     57.2     63.4     59.4     58.6     58.1   \n26     40.1     45.2     54.8     52.6       52       58     57.3     61.9   \n27     30.8     30.5     37.1       48     49.2     47.6     43.3       50   \n28     43.2     39.4     41.9     43.6     49.8     53.8     52.9     51.2   \n29     60.3     60.1     59.6     62.1     66.8     70.8     72.5       75   \n30     54.1     54.5     57.3       64     64.2     63.3     67.6     64.3   \n31     31.2       41     40.6     38.6     42.2     44.1     47.2     44.8   \n32     47.2     46.5     52.2     58.2     62.9     57.7     53.5     54.6   \n33     36.9     32.3     37.1     44.8     47.1     50.1     51.8     50.6   \n34     61.7       65       70     71.2     73.6     71.3     77.4     71.6   \n35     58.7       65     68.1     69.4     72.6     71.7       76     71.2   \n36     None     None     None     None     None     None     None     None   \n37     27.7     28.5     30.3     30.7       31     32.2     32.6     34.9   \n38     29.6     31.7     33.5       33     34.8     35.6     35.7     37.2   \n39     28.5     30.2     30.7     31.1     33.7     33.7     33.9     34.8   \n40     28.1     29.2     30.9     31.7       32     33.4     34.2     35.8   \n41     28.1     28.9     30.4     30.2     32.2     32.7     33.8     35.7   \n42     28.3     29.7       32     32.1     35.9     36.2     36.1       37   \n43     44.5     46.1     48.4     52.4       54     55.5       56     56.5   \n44     34.2     35.9     37.3     39.4       40     41.7     42.7     43.1   \n45     30.7     31.9       35     36.3     37.3     37.1     39.4     40.6   \n46     None     None     None     None     None     None     None     None   \n47     32.2     33.7     35.5     36.7     38.4     39.3       40     41.2   \n48     30.9     32.4     34.1     34.3     35.1     35.8     37.8     38.7   \n49     37.3     38.2     39.3     41.2     42.6     43.4     45.6     47.2   \n50       32     31.7     33.1     31.9     33.6       34     35.7     35.8   \n51     None     None     None     None     None     None     None     None   \n52     32.1     33.6     35.4     36.6     38.2     39.1     39.9       41   \n53     32.6       34     35.8       37     38.6     39.5     40.4     41.6   \n54     32.5     33.9     35.7     36.9     38.5     39.3     40.3     41.4   \n\n          4        4        4  \n0      None     None     None  \n1   percent  percent  percent  \n2      None     None     None  \n3      83.3     91.1      100  \n4      37.5       35     39.2  \n5      65.2     62.2     61.5  \n6      40.8     39.9     45.2  \n7      52.1     45.4     47.5  \n8      54.2     50.1     53.5  \n9      72.2     71.2     74.5  \n10     52.8       51     54.3  \n11     61.2     56.9       58  \n12     48.5     43.1     49.4  \n13     50.6     61.1     60.6  \n14     65.3       71     63.9  \n15     66.4     71.6     69.2  \n16     59.1     59.9     63.6  \n17     49.9     52.2     52.5  \n18     30.6     33.8     33.7  \n19     50.1     49.2     48.8  \n20     54.1     49.5     58.4  \n21     68.3     70.2       74  \n22     67.4     71.9     72.2  \n23     61.3     61.2     66.6  \n24     71.2     73.4     68.8  \n25     56.5     57.1     64.5  \n26       66     61.7     57.2  \n27     55.9     47.6     56.6  \n28     55.4     53.7     53.4  \n29     75.9     71.3     72.9  \n30     66.4     68.7     71.2  \n31     49.3     56.6     51.8  \n32     60.8       61     65.1  \n33     52.4     49.6     55.1  \n34     76.8     76.9       76  \n35     70.6     72.5       78  \n36     None     None     None  \n37       36     36.6       36  \n38       39     39.1     40.3  \n39     35.5     36.8     37.5  \n40     35.2     35.9     37.3  \n41     35.8     35.5       37  \n42     38.5     37.9     38.6  \n43     58.6     58.1       60  \n44     44.9     44.2     45.5  \n45     41.2     42.3     41.9  \n46     None     None     None  \n47     42.4     42.5     43.5  \n48     40.1     39.9     39.9  \n49     48.4       48     48.3  \n50     36.2     38.9     41.9  \n51     None     None     None  \n52     42.3     42.3     43.3  \n53     42.8     42.8     43.7  \n54     42.6     42.7     43.7  "
          },
          "metadata": {}
        }
      ]
    },
    {
      "metadata": {
        "trusted": true
      },
      "cell_type": "code",
      "source": "df.columns = ['Code', 'Area', '2004', '2005', '2006', '2007', '2008', '2009', '2010', '2011', '2012', '2013', '2014', '2015', '2016', '2017', '2018']",
      "execution_count": 247,
      "outputs": []
    },
    {
      "metadata": {
        "trusted": true,
        "scrolled": true
      },
      "cell_type": "code",
      "source": "df.head()",
      "execution_count": 248,
      "outputs": [
        {
          "output_type": "execute_result",
          "execution_count": 248,
          "data": {
            "text/html": "<div>\n<style scoped>\n    .dataframe tbody tr th:only-of-type {\n        vertical-align: middle;\n    }\n\n    .dataframe tbody tr th {\n        vertical-align: top;\n    }\n\n    .dataframe thead th {\n        text-align: right;\n    }\n</style>\n<table border=\"1\" class=\"dataframe\">\n  <thead>\n    <tr style=\"text-align: right;\">\n      <th></th>\n      <th>Code</th>\n      <th>Area</th>\n      <th>2004</th>\n      <th>2005</th>\n      <th>2006</th>\n      <th>2007</th>\n      <th>2008</th>\n      <th>2009</th>\n      <th>2010</th>\n      <th>2011</th>\n      <th>2012</th>\n      <th>2013</th>\n      <th>2014</th>\n      <th>2015</th>\n      <th>2016</th>\n      <th>2017</th>\n      <th>2018</th>\n    </tr>\n  </thead>\n  <tbody>\n    <tr>\n      <th>0</th>\n      <td>NaN</td>\n      <td>NaN</td>\n      <td>None</td>\n      <td>None</td>\n      <td>None</td>\n      <td>None</td>\n      <td>None</td>\n      <td>None</td>\n      <td>None</td>\n      <td>None</td>\n      <td>None</td>\n      <td>None</td>\n      <td>None</td>\n      <td>None</td>\n      <td>None</td>\n      <td>None</td>\n      <td>None</td>\n    </tr>\n    <tr>\n      <th>1</th>\n      <td>NaN</td>\n      <td>NaN</td>\n      <td>percent</td>\n      <td>percent</td>\n      <td>percent</td>\n      <td>percent</td>\n      <td>percent</td>\n      <td>percent</td>\n      <td>percent</td>\n      <td>percent</td>\n      <td>percent</td>\n      <td>percent</td>\n      <td>percent</td>\n      <td>percent</td>\n      <td>percent</td>\n      <td>percent</td>\n      <td>percent</td>\n    </tr>\n    <tr>\n      <th>2</th>\n      <td>NaN</td>\n      <td>NaN</td>\n      <td>None</td>\n      <td>None</td>\n      <td>None</td>\n      <td>None</td>\n      <td>None</td>\n      <td>None</td>\n      <td>None</td>\n      <td>None</td>\n      <td>None</td>\n      <td>None</td>\n      <td>None</td>\n      <td>None</td>\n      <td>None</td>\n      <td>None</td>\n      <td>None</td>\n    </tr>\n    <tr>\n      <th>3</th>\n      <td>00AA</td>\n      <td>City of London</td>\n      <td>80.6</td>\n      <td>73.1</td>\n      <td>67.9</td>\n      <td>73.7</td>\n      <td>69.4</td>\n      <td>100</td>\n      <td>!</td>\n      <td>!</td>\n      <td>100</td>\n      <td>100</td>\n      <td>!</td>\n      <td>100</td>\n      <td>83.3</td>\n      <td>91.1</td>\n      <td>100</td>\n    </tr>\n    <tr>\n      <th>4</th>\n      <td>00AB</td>\n      <td>Barking and Dagenham</td>\n      <td>17.2</td>\n      <td>20.2</td>\n      <td>18.5</td>\n      <td>22.4</td>\n      <td>26</td>\n      <td>29.1</td>\n      <td>33.8</td>\n      <td>33.2</td>\n      <td>29.8</td>\n      <td>32.3</td>\n      <td>34.8</td>\n      <td>35.9</td>\n      <td>37.5</td>\n      <td>35</td>\n      <td>39.2</td>\n    </tr>\n  </tbody>\n</table>\n</div>",
            "text/plain": "   Code                  Area     2004     2005     2006     2007     2008  \\\n0   NaN                   NaN     None     None     None     None     None   \n1   NaN                   NaN  percent  percent  percent  percent  percent   \n2   NaN                   NaN     None     None     None     None     None   \n3  00AA        City of London     80.6     73.1     67.9     73.7     69.4   \n4  00AB  Barking and Dagenham     17.2     20.2     18.5     22.4       26   \n\n      2009     2010     2011     2012     2013     2014     2015     2016  \\\n0     None     None     None     None     None     None     None     None   \n1  percent  percent  percent  percent  percent  percent  percent  percent   \n2     None     None     None     None     None     None     None     None   \n3      100        !        !      100      100        !      100     83.3   \n4     29.1     33.8     33.2     29.8     32.3     34.8     35.9     37.5   \n\n      2017     2018  \n0     None     None  \n1  percent  percent  \n2     None     None  \n3     91.1      100  \n4       35     39.2  "
          },
          "metadata": {}
        }
      ]
    },
    {
      "metadata": {
        "trusted": true
      },
      "cell_type": "code",
      "source": "df.replace('!', 0, inplace=True)",
      "execution_count": 249,
      "outputs": []
    },
    {
      "metadata": {
        "trusted": true
      },
      "cell_type": "code",
      "source": "df.drop(0, axis=0, inplace=True)\ndf.drop(1, axis=0, inplace=True)\ndf.drop(2, axis=0, inplace=True)\ndf.head()",
      "execution_count": 250,
      "outputs": [
        {
          "output_type": "execute_result",
          "execution_count": 250,
          "data": {
            "text/html": "<div>\n<style scoped>\n    .dataframe tbody tr th:only-of-type {\n        vertical-align: middle;\n    }\n\n    .dataframe tbody tr th {\n        vertical-align: top;\n    }\n\n    .dataframe thead th {\n        text-align: right;\n    }\n</style>\n<table border=\"1\" class=\"dataframe\">\n  <thead>\n    <tr style=\"text-align: right;\">\n      <th></th>\n      <th>Code</th>\n      <th>Area</th>\n      <th>2004</th>\n      <th>2005</th>\n      <th>2006</th>\n      <th>2007</th>\n      <th>2008</th>\n      <th>2009</th>\n      <th>2010</th>\n      <th>2011</th>\n      <th>2012</th>\n      <th>2013</th>\n      <th>2014</th>\n      <th>2015</th>\n      <th>2016</th>\n      <th>2017</th>\n      <th>2018</th>\n    </tr>\n  </thead>\n  <tbody>\n    <tr>\n      <th>3</th>\n      <td>00AA</td>\n      <td>City of London</td>\n      <td>80.6</td>\n      <td>73.1</td>\n      <td>67.9</td>\n      <td>73.7</td>\n      <td>69.4</td>\n      <td>100</td>\n      <td>0</td>\n      <td>0</td>\n      <td>100</td>\n      <td>100</td>\n      <td>0</td>\n      <td>100</td>\n      <td>83.3</td>\n      <td>91.1</td>\n      <td>100</td>\n    </tr>\n    <tr>\n      <th>4</th>\n      <td>00AB</td>\n      <td>Barking and Dagenham</td>\n      <td>17.2</td>\n      <td>20.2</td>\n      <td>18.5</td>\n      <td>22.4</td>\n      <td>26</td>\n      <td>29.1</td>\n      <td>33.8</td>\n      <td>33.2</td>\n      <td>29.8</td>\n      <td>32.3</td>\n      <td>34.8</td>\n      <td>35.9</td>\n      <td>37.5</td>\n      <td>35</td>\n      <td>39.2</td>\n    </tr>\n    <tr>\n      <th>5</th>\n      <td>00AC</td>\n      <td>Barnet</td>\n      <td>41.6</td>\n      <td>46.9</td>\n      <td>42.3</td>\n      <td>47.6</td>\n      <td>48.6</td>\n      <td>49.5</td>\n      <td>53.2</td>\n      <td>57.3</td>\n      <td>53.9</td>\n      <td>56.8</td>\n      <td>49.9</td>\n      <td>55.4</td>\n      <td>65.2</td>\n      <td>62.2</td>\n      <td>61.5</td>\n    </tr>\n    <tr>\n      <th>6</th>\n      <td>00AD</td>\n      <td>Bexley</td>\n      <td>17.3</td>\n      <td>21.8</td>\n      <td>24.2</td>\n      <td>23.1</td>\n      <td>28.1</td>\n      <td>31.5</td>\n      <td>30.5</td>\n      <td>29.6</td>\n      <td>31.9</td>\n      <td>35.3</td>\n      <td>37.4</td>\n      <td>38.3</td>\n      <td>40.8</td>\n      <td>39.9</td>\n      <td>45.2</td>\n    </tr>\n    <tr>\n      <th>7</th>\n      <td>00AE</td>\n      <td>Brent</td>\n      <td>31.7</td>\n      <td>35.8</td>\n      <td>35</td>\n      <td>31.3</td>\n      <td>31.4</td>\n      <td>41</td>\n      <td>31</td>\n      <td>33.8</td>\n      <td>46.8</td>\n      <td>50.8</td>\n      <td>53.9</td>\n      <td>53.4</td>\n      <td>52.1</td>\n      <td>45.4</td>\n      <td>47.5</td>\n    </tr>\n  </tbody>\n</table>\n</div>",
            "text/plain": "   Code                  Area  2004  2005  2006  2007  2008  2009  2010  2011  \\\n3  00AA        City of London  80.6  73.1  67.9  73.7  69.4   100     0     0   \n4  00AB  Barking and Dagenham  17.2  20.2  18.5  22.4    26  29.1  33.8  33.2   \n5  00AC                Barnet  41.6  46.9  42.3  47.6  48.6  49.5  53.2  57.3   \n6  00AD                Bexley  17.3  21.8  24.2  23.1  28.1  31.5  30.5  29.6   \n7  00AE                 Brent  31.7  35.8    35  31.3  31.4    41    31  33.8   \n\n   2012  2013  2014  2015  2016  2017  2018  \n3   100   100     0   100  83.3  91.1   100  \n4  29.8  32.3  34.8  35.9  37.5    35  39.2  \n5  53.9  56.8  49.9  55.4  65.2  62.2  61.5  \n6  31.9  35.3  37.4  38.3  40.8  39.9  45.2  \n7  46.8  50.8  53.9  53.4  52.1  45.4  47.5  "
          },
          "metadata": {}
        }
      ]
    },
    {
      "metadata": {
        "trusted": true
      },
      "cell_type": "code",
      "source": "PROC_DATA_PATH = '~/library/data/processed/'\ndf.to_csv(PROC_DATA_PATH + 'nvq4+-qualifications-overtime.csv') ",
      "execution_count": 251,
      "outputs": []
    },
    {
      "metadata": {
        "trusted": true
      },
      "cell_type": "code",
      "source": "",
      "execution_count": null,
      "outputs": []
    }
  ],
  "metadata": {
    "kernelspec": {
      "name": "python36",
      "display_name": "Python 3.6",
      "language": "python"
    },
    "language_info": {
      "mimetype": "text/x-python",
      "nbconvert_exporter": "python",
      "name": "python",
      "pygments_lexer": "ipython3",
      "version": "3.6.6",
      "file_extension": ".py",
      "codemirror_mode": {
        "version": 3,
        "name": "ipython"
      }
    }
  },
  "nbformat": 4,
  "nbformat_minor": 2
}