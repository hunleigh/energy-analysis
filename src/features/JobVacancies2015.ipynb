{
  "cells": [
    {
      "metadata": {},
      "cell_type": "markdown",
      "source": "## Importing the required data\n\n- upload job vacancies xlsx table to 'data'"
    },
    {
      "metadata": {
        "trusted": true,
        "scrolled": false
      },
      "cell_type": "code",
      "source": "#setup data folder (it probably already exists)\n!mkdir data",
      "execution_count": 74,
      "outputs": [
        {
          "output_type": "stream",
          "text": "mkdir: cannot create directory ‘data’: File exists\r\n",
          "name": "stdout"
        }
      ]
    },
    {
      "metadata": {},
      "cell_type": "markdown",
      "source": "## Converting xlsx file to pandas dataframe\n\n- install openpyxl, import load_workbook and pandas\n- load xlsx workbook --> access required sheet\n- convert to dataframe with .values"
    },
    {
      "metadata": {
        "trusted": true,
        "scrolled": false
      },
      "cell_type": "code",
      "source": "#to open xlsx files\n!pip install openpyxl",
      "execution_count": 75,
      "outputs": [
        {
          "output_type": "stream",
          "text": "Requirement already satisfied: openpyxl in /home/nbuser/anaconda3_501/lib/python3.6/site-packages (2.5.8)\nRequirement already satisfied: jdcal in /home/nbuser/anaconda3_501/lib/python3.6/site-packages (from openpyxl) (1.4)\nRequirement already satisfied: et-xmlfile in /home/nbuser/anaconda3_501/lib/python3.6/site-packages (from openpyxl) (1.0.1)\n",
          "name": "stdout"
        }
      ]
    },
    {
      "metadata": {
        "trusted": true
      },
      "cell_type": "code",
      "source": "import pandas as pd",
      "execution_count": 76,
      "outputs": []
    },
    {
      "metadata": {
        "trusted": true
      },
      "cell_type": "code",
      "source": "import numpy as np",
      "execution_count": 77,
      "outputs": []
    },
    {
      "metadata": {
        "trusted": true
      },
      "cell_type": "code",
      "source": "from openpyxl import load_workbook\nwb1 = load_workbook('./data/ESS_2015_England_Data_Tables__LEA_with_standard_breaks_v05.xlsx')",
      "execution_count": 78,
      "outputs": []
    },
    {
      "metadata": {
        "trusted": true
      },
      "cell_type": "code",
      "source": "wb1.sheetnames",
      "execution_count": 79,
      "outputs": [
        {
          "output_type": "execute_result",
          "execution_count": 79,
          "data": {
            "text/plain": "['Contents',\n '1',\n '2',\n '3',\n 'T7',\n '5',\n '6',\n '7',\n '8',\n '9',\n '10',\n 'T41',\n '13',\n 'T43',\n 'T44',\n 'T45',\n '17',\n '18',\n '19',\n '20',\n 'T54',\n '23',\n 'T56',\n '25',\n '26',\n 'T63',\n '29',\n '42',\n 'T68A',\n '43',\n '44',\n '45',\n '46',\n 'T74',\n '48',\n '49',\n '62',\n '63',\n '64',\n '65',\n '66',\n '67',\n '68',\n '69',\n '70',\n '71',\n '72',\n '73',\n '74',\n '75',\n '76',\n '77',\n '78',\n '79',\n '80',\n '81',\n '82',\n '83',\n '84',\n '85',\n '86',\n '87',\n '88',\n 'T133X',\n 'T111A',\n '92',\n '93',\n '97',\n '98',\n '99',\n '100',\n '101',\n '103',\n '105',\n '106',\n '107',\n '108',\n '109',\n '110',\n '111',\n '112',\n '113',\n '114',\n '115',\n '116',\n '117',\n '118',\n '119']"
          },
          "metadata": {}
        }
      ]
    },
    {
      "metadata": {
        "trusted": true
      },
      "cell_type": "code",
      "source": "ws1 = wb1[\"T43\"]",
      "execution_count": 80,
      "outputs": []
    },
    {
      "metadata": {
        "trusted": true,
        "scrolled": true
      },
      "cell_type": "code",
      "source": "jobvac = pd.DataFrame(ws1.values)\njobvac.tail()",
      "execution_count": 81,
      "outputs": [
        {
          "output_type": "execute_result",
          "execution_count": 81,
          "data": {
            "text/html": "<div>\n<style scoped>\n    .dataframe tbody tr th:only-of-type {\n        vertical-align: middle;\n    }\n\n    .dataframe tbody tr th {\n        vertical-align: top;\n    }\n\n    .dataframe thead th {\n        text-align: right;\n    }\n</style>\n<table border=\"1\" class=\"dataframe\">\n  <thead>\n    <tr style=\"text-align: right;\">\n      <th></th>\n      <th>0</th>\n      <th>1</th>\n      <th>2</th>\n      <th>3</th>\n      <th>4</th>\n      <th>5</th>\n      <th>6</th>\n      <th>7</th>\n      <th>8</th>\n      <th>9</th>\n      <th>...</th>\n      <th>144</th>\n      <th>145</th>\n      <th>146</th>\n      <th>147</th>\n      <th>148</th>\n      <th>149</th>\n      <th>150</th>\n      <th>151</th>\n      <th>152</th>\n      <th>153</th>\n    </tr>\n  </thead>\n  <tbody>\n    <tr>\n      <th>13</th>\n      <td>Total number of hard-to-fill vacancies</td>\n      <td>262337</td>\n      <td>6588</td>\n      <td>2162</td>\n      <td>710</td>\n      <td>589</td>\n      <td>1207</td>\n      <td>6009</td>\n      <td>928</td>\n      <td>1615</td>\n      <td>...</td>\n      <td>4533</td>\n      <td>4035</td>\n      <td>1089</td>\n      <td>6362</td>\n      <td>4967</td>\n      <td>2649</td>\n      <td>10254</td>\n      <td>3756</td>\n      <td>5534</td>\n      <td>13</td>\n    </tr>\n    <tr>\n      <th>14</th>\n      <td>None</td>\n      <td>0.011</td>\n      <td>0.017</td>\n      <td>0.007</td>\n      <td>0.01</td>\n      <td>0.007</td>\n      <td>0.01</td>\n      <td>0.031</td>\n      <td>0.008</td>\n      <td>0.012</td>\n      <td>...</td>\n      <td>0.013</td>\n      <td>0.013</td>\n      <td>0.011</td>\n      <td>0.019</td>\n      <td>0.023</td>\n      <td>0.009</td>\n      <td>0.02</td>\n      <td>0.015</td>\n      <td>0.016</td>\n      <td>0.016</td>\n    </tr>\n    <tr>\n      <th>15</th>\n      <td>Total number of skills shortage vacancies- pro...</td>\n      <td>180159</td>\n      <td>3417</td>\n      <td>1883</td>\n      <td>540</td>\n      <td>523</td>\n      <td>824</td>\n      <td>5919</td>\n      <td>766</td>\n      <td>1242</td>\n      <td>...</td>\n      <td>1872</td>\n      <td>2809</td>\n      <td>616</td>\n      <td>3682</td>\n      <td>3479</td>\n      <td>1823</td>\n      <td>6495</td>\n      <td>2222</td>\n      <td>3335</td>\n      <td>13</td>\n    </tr>\n    <tr>\n      <th>16</th>\n      <td>None</td>\n      <td>0.008</td>\n      <td>0.009</td>\n      <td>0.006</td>\n      <td>0.008</td>\n      <td>0.006</td>\n      <td>0.007</td>\n      <td>0.031</td>\n      <td>0.006</td>\n      <td>0.009</td>\n      <td>...</td>\n      <td>0.005</td>\n      <td>0.009</td>\n      <td>0.006</td>\n      <td>0.011</td>\n      <td>0.016</td>\n      <td>0.006</td>\n      <td>0.013</td>\n      <td>0.009</td>\n      <td>0.01</td>\n      <td>0.016</td>\n    </tr>\n    <tr>\n      <th>17</th>\n      <td>Tables produced by IFF</td>\n      <td>None</td>\n      <td>None</td>\n      <td>None</td>\n      <td>None</td>\n      <td>None</td>\n      <td>None</td>\n      <td>None</td>\n      <td>None</td>\n      <td>None</td>\n      <td>...</td>\n      <td>None</td>\n      <td>None</td>\n      <td>None</td>\n      <td>None</td>\n      <td>None</td>\n      <td>None</td>\n      <td>None</td>\n      <td>None</td>\n      <td>None</td>\n      <td>None</td>\n    </tr>\n  </tbody>\n</table>\n<p>5 rows × 154 columns</p>\n</div>",
            "text/plain": "                                                  0       1      2      3    \\\n13             Total number of hard-to-fill vacancies  262337   6588   2162   \n14                                               None   0.011  0.017  0.007   \n15  Total number of skills shortage vacancies- pro...  180159   3417   1883   \n16                                               None   0.008  0.009  0.006   \n17                             Tables produced by IFF    None   None   None   \n\n      4      5      6      7      8      9    ...      144    145    146  \\\n13    710    589   1207   6009    928   1615  ...     4533   4035   1089   \n14   0.01  0.007   0.01  0.031  0.008  0.012  ...    0.013  0.013  0.011   \n15    540    523    824   5919    766   1242  ...     1872   2809    616   \n16  0.008  0.006  0.007  0.031  0.006  0.009  ...    0.005  0.009  0.006   \n17   None   None   None   None   None   None  ...     None   None   None   \n\n      147    148    149    150    151    152    153  \n13   6362   4967   2649  10254   3756   5534     13  \n14  0.019  0.023  0.009   0.02  0.015  0.016  0.016  \n15   3682   3479   1823   6495   2222   3335     13  \n16  0.011  0.016  0.006  0.013  0.009   0.01  0.016  \n17   None   None   None   None   None   None   None  \n\n[5 rows x 154 columns]"
          },
          "metadata": {}
        }
      ]
    },
    {
      "metadata": {},
      "cell_type": "markdown",
      "source": "## Clearing dataframe\n\n- drop first few and last rows\n- drop 'Unweighted row', 'Total', 'None' rows\n- slice table at coloumn at 'Waltham Forest' and 'Birmingham' and drop latter part\n- make coloumn 0 and row 8 axes labels"
    },
    {
      "metadata": {
        "trusted": true,
        "scrolled": true
      },
      "cell_type": "code",
      "source": "jobvac\n\njobvac.drop(0, axis=0, inplace=True)\njobvac.drop(1, axis=0, inplace=True)\njobvac.drop(2, axis=0, inplace=True)\njobvac.drop(3, axis=0, inplace=True)\njobvac.drop(4, axis=0, inplace=True)\njobvac.drop(5, axis=0, inplace=True)\njobvac.drop(6, axis=0, inplace=True)\njobvac.drop(7, axis=0, inplace=True)\njobvac.drop(9, axis=0, inplace=True)\njobvac.drop(10, axis=0, inplace=True)\njobvac.drop(12, axis=0, inplace=True)\njobvac.drop(14, axis=0, inplace=True)\njobvac.drop(16, axis=0, inplace=True)\njobvac.drop(17, axis=0, inplace=True)\n\njobvac.head()",
      "execution_count": 82,
      "outputs": [
        {
          "output_type": "execute_result",
          "execution_count": 82,
          "data": {
            "text/html": "<div>\n<style scoped>\n    .dataframe tbody tr th:only-of-type {\n        vertical-align: middle;\n    }\n\n    .dataframe tbody tr th {\n        vertical-align: top;\n    }\n\n    .dataframe thead th {\n        text-align: right;\n    }\n</style>\n<table border=\"1\" class=\"dataframe\">\n  <thead>\n    <tr style=\"text-align: right;\">\n      <th></th>\n      <th>0</th>\n      <th>1</th>\n      <th>2</th>\n      <th>3</th>\n      <th>4</th>\n      <th>5</th>\n      <th>6</th>\n      <th>7</th>\n      <th>8</th>\n      <th>9</th>\n      <th>...</th>\n      <th>144</th>\n      <th>145</th>\n      <th>146</th>\n      <th>147</th>\n      <th>148</th>\n      <th>149</th>\n      <th>150</th>\n      <th>151</th>\n      <th>152</th>\n      <th>153</th>\n    </tr>\n  </thead>\n  <tbody>\n    <tr>\n      <th>8</th>\n      <td>None</td>\n      <td>Total</td>\n      <td>City of London</td>\n      <td>Camden</td>\n      <td>Greenwich</td>\n      <td>Hackney</td>\n      <td>Hammersmith and Fulham</td>\n      <td>Islington</td>\n      <td>Kensington and Chelsea</td>\n      <td>Lambeth</td>\n      <td>...</td>\n      <td>Norfolk</td>\n      <td>Northamptonshire</td>\n      <td>Northumberland</td>\n      <td>Oxfordshire</td>\n      <td>Somerset</td>\n      <td>Suffolk</td>\n      <td>Surrey</td>\n      <td>Warwickshire</td>\n      <td>West Sussex</td>\n      <td>Isles of Scilly</td>\n    </tr>\n    <tr>\n      <th>11</th>\n      <td>Total number of vacancies</td>\n      <td>797440</td>\n      <td>18543</td>\n      <td>12346</td>\n      <td>2155</td>\n      <td>2844</td>\n      <td>5802</td>\n      <td>17906</td>\n      <td>5062</td>\n      <td>4974</td>\n      <td>...</td>\n      <td>10367</td>\n      <td>9916</td>\n      <td>2630</td>\n      <td>13814</td>\n      <td>8919</td>\n      <td>9527</td>\n      <td>23592</td>\n      <td>10018</td>\n      <td>15126</td>\n      <td>19</td>\n    </tr>\n    <tr>\n      <th>13</th>\n      <td>Total number of hard-to-fill vacancies</td>\n      <td>262337</td>\n      <td>6588</td>\n      <td>2162</td>\n      <td>710</td>\n      <td>589</td>\n      <td>1207</td>\n      <td>6009</td>\n      <td>928</td>\n      <td>1615</td>\n      <td>...</td>\n      <td>4533</td>\n      <td>4035</td>\n      <td>1089</td>\n      <td>6362</td>\n      <td>4967</td>\n      <td>2649</td>\n      <td>10254</td>\n      <td>3756</td>\n      <td>5534</td>\n      <td>13</td>\n    </tr>\n    <tr>\n      <th>15</th>\n      <td>Total number of skills shortage vacancies- pro...</td>\n      <td>180159</td>\n      <td>3417</td>\n      <td>1883</td>\n      <td>540</td>\n      <td>523</td>\n      <td>824</td>\n      <td>5919</td>\n      <td>766</td>\n      <td>1242</td>\n      <td>...</td>\n      <td>1872</td>\n      <td>2809</td>\n      <td>616</td>\n      <td>3682</td>\n      <td>3479</td>\n      <td>1823</td>\n      <td>6495</td>\n      <td>2222</td>\n      <td>3335</td>\n      <td>13</td>\n    </tr>\n  </tbody>\n</table>\n<p>4 rows × 154 columns</p>\n</div>",
            "text/plain": "                                                  0       1               2    \\\n8                                                None   Total  City of London   \n11                          Total number of vacancies  797440           18543   \n13             Total number of hard-to-fill vacancies  262337            6588   \n15  Total number of skills shortage vacancies- pro...  180159            3417   \n\n       3          4        5                       6          7    \\\n8   Camden  Greenwich  Hackney  Hammersmith and Fulham  Islington   \n11   12346       2155     2844                    5802      17906   \n13    2162        710      589                    1207       6009   \n15    1883        540      523                     824       5919   \n\n                       8        9         ...             144  \\\n8   Kensington and Chelsea  Lambeth       ...         Norfolk   \n11                    5062     4974       ...           10367   \n13                     928     1615       ...            4533   \n15                     766     1242       ...            1872   \n\n                 145             146          147       148      149     150  \\\n8   Northamptonshire  Northumberland  Oxfordshire  Somerset  Suffolk  Surrey   \n11              9916            2630        13814      8919     9527   23592   \n13              4035            1089         6362      4967     2649   10254   \n15              2809             616         3682      3479     1823    6495   \n\n             151          152              153  \n8   Warwickshire  West Sussex  Isles of Scilly  \n11         10018        15126               19  \n13          3756         5534               13  \n15          2222         3335               13  \n\n[4 rows x 154 columns]"
          },
          "metadata": {}
        }
      ]
    },
    {
      "metadata": {
        "trusted": true,
        "scrolled": true
      },
      "cell_type": "code",
      "source": "jobvac[0].loc[8]=\"Borough\"\njobvac.head()",
      "execution_count": 83,
      "outputs": [
        {
          "output_type": "execute_result",
          "execution_count": 83,
          "data": {
            "text/html": "<div>\n<style scoped>\n    .dataframe tbody tr th:only-of-type {\n        vertical-align: middle;\n    }\n\n    .dataframe tbody tr th {\n        vertical-align: top;\n    }\n\n    .dataframe thead th {\n        text-align: right;\n    }\n</style>\n<table border=\"1\" class=\"dataframe\">\n  <thead>\n    <tr style=\"text-align: right;\">\n      <th></th>\n      <th>0</th>\n      <th>1</th>\n      <th>2</th>\n      <th>3</th>\n      <th>4</th>\n      <th>5</th>\n      <th>6</th>\n      <th>7</th>\n      <th>8</th>\n      <th>9</th>\n      <th>...</th>\n      <th>144</th>\n      <th>145</th>\n      <th>146</th>\n      <th>147</th>\n      <th>148</th>\n      <th>149</th>\n      <th>150</th>\n      <th>151</th>\n      <th>152</th>\n      <th>153</th>\n    </tr>\n  </thead>\n  <tbody>\n    <tr>\n      <th>8</th>\n      <td>Borough</td>\n      <td>Total</td>\n      <td>City of London</td>\n      <td>Camden</td>\n      <td>Greenwich</td>\n      <td>Hackney</td>\n      <td>Hammersmith and Fulham</td>\n      <td>Islington</td>\n      <td>Kensington and Chelsea</td>\n      <td>Lambeth</td>\n      <td>...</td>\n      <td>Norfolk</td>\n      <td>Northamptonshire</td>\n      <td>Northumberland</td>\n      <td>Oxfordshire</td>\n      <td>Somerset</td>\n      <td>Suffolk</td>\n      <td>Surrey</td>\n      <td>Warwickshire</td>\n      <td>West Sussex</td>\n      <td>Isles of Scilly</td>\n    </tr>\n    <tr>\n      <th>11</th>\n      <td>Total number of vacancies</td>\n      <td>797440</td>\n      <td>18543</td>\n      <td>12346</td>\n      <td>2155</td>\n      <td>2844</td>\n      <td>5802</td>\n      <td>17906</td>\n      <td>5062</td>\n      <td>4974</td>\n      <td>...</td>\n      <td>10367</td>\n      <td>9916</td>\n      <td>2630</td>\n      <td>13814</td>\n      <td>8919</td>\n      <td>9527</td>\n      <td>23592</td>\n      <td>10018</td>\n      <td>15126</td>\n      <td>19</td>\n    </tr>\n    <tr>\n      <th>13</th>\n      <td>Total number of hard-to-fill vacancies</td>\n      <td>262337</td>\n      <td>6588</td>\n      <td>2162</td>\n      <td>710</td>\n      <td>589</td>\n      <td>1207</td>\n      <td>6009</td>\n      <td>928</td>\n      <td>1615</td>\n      <td>...</td>\n      <td>4533</td>\n      <td>4035</td>\n      <td>1089</td>\n      <td>6362</td>\n      <td>4967</td>\n      <td>2649</td>\n      <td>10254</td>\n      <td>3756</td>\n      <td>5534</td>\n      <td>13</td>\n    </tr>\n    <tr>\n      <th>15</th>\n      <td>Total number of skills shortage vacancies- pro...</td>\n      <td>180159</td>\n      <td>3417</td>\n      <td>1883</td>\n      <td>540</td>\n      <td>523</td>\n      <td>824</td>\n      <td>5919</td>\n      <td>766</td>\n      <td>1242</td>\n      <td>...</td>\n      <td>1872</td>\n      <td>2809</td>\n      <td>616</td>\n      <td>3682</td>\n      <td>3479</td>\n      <td>1823</td>\n      <td>6495</td>\n      <td>2222</td>\n      <td>3335</td>\n      <td>13</td>\n    </tr>\n  </tbody>\n</table>\n<p>4 rows × 154 columns</p>\n</div>",
            "text/plain": "                                                  0       1               2    \\\n8                                             Borough   Total  City of London   \n11                          Total number of vacancies  797440           18543   \n13             Total number of hard-to-fill vacancies  262337            6588   \n15  Total number of skills shortage vacancies- pro...  180159            3417   \n\n       3          4        5                       6          7    \\\n8   Camden  Greenwich  Hackney  Hammersmith and Fulham  Islington   \n11   12346       2155     2844                    5802      17906   \n13    2162        710      589                    1207       6009   \n15    1883        540      523                     824       5919   \n\n                       8        9         ...             144  \\\n8   Kensington and Chelsea  Lambeth       ...         Norfolk   \n11                    5062     4974       ...           10367   \n13                     928     1615       ...            4533   \n15                     766     1242       ...            1872   \n\n                 145             146          147       148      149     150  \\\n8   Northamptonshire  Northumberland  Oxfordshire  Somerset  Suffolk  Surrey   \n11              9916            2630        13814      8919     9527   23592   \n13              4035            1089         6362      4967     2649   10254   \n15              2809             616         3682      3479     1823    6495   \n\n             151          152              153  \n8   Warwickshire  West Sussex  Isles of Scilly  \n11         10018        15126               19  \n13          3756         5534               13  \n15          2222         3335               13  \n\n[4 rows x 154 columns]"
          },
          "metadata": {}
        }
      ]
    },
    {
      "metadata": {
        "trusted": true
      },
      "cell_type": "code",
      "source": "#reducing frame to only London Boroughs\njvLondon = jobvac.iloc[:, :35]\njvUK = jobvac.iloc[:, 35:]\n\njvLondon.head()",
      "execution_count": 84,
      "outputs": [
        {
          "output_type": "execute_result",
          "execution_count": 84,
          "data": {
            "text/html": "<div>\n<style scoped>\n    .dataframe tbody tr th:only-of-type {\n        vertical-align: middle;\n    }\n\n    .dataframe tbody tr th {\n        vertical-align: top;\n    }\n\n    .dataframe thead th {\n        text-align: right;\n    }\n</style>\n<table border=\"1\" class=\"dataframe\">\n  <thead>\n    <tr style=\"text-align: right;\">\n      <th></th>\n      <th>0</th>\n      <th>1</th>\n      <th>2</th>\n      <th>3</th>\n      <th>4</th>\n      <th>5</th>\n      <th>6</th>\n      <th>7</th>\n      <th>8</th>\n      <th>9</th>\n      <th>...</th>\n      <th>25</th>\n      <th>26</th>\n      <th>27</th>\n      <th>28</th>\n      <th>29</th>\n      <th>30</th>\n      <th>31</th>\n      <th>32</th>\n      <th>33</th>\n      <th>34</th>\n    </tr>\n  </thead>\n  <tbody>\n    <tr>\n      <th>8</th>\n      <td>Borough</td>\n      <td>Total</td>\n      <td>City of London</td>\n      <td>Camden</td>\n      <td>Greenwich</td>\n      <td>Hackney</td>\n      <td>Hammersmith and Fulham</td>\n      <td>Islington</td>\n      <td>Kensington and Chelsea</td>\n      <td>Lambeth</td>\n      <td>...</td>\n      <td>Havering</td>\n      <td>Hillingdon</td>\n      <td>Hounslow</td>\n      <td>Kingston upon Thames</td>\n      <td>Merton</td>\n      <td>Newham</td>\n      <td>Redbridge</td>\n      <td>Richmond upon Thames</td>\n      <td>Sutton</td>\n      <td>Waltham Forest</td>\n    </tr>\n    <tr>\n      <th>11</th>\n      <td>Total number of vacancies</td>\n      <td>797440</td>\n      <td>18543</td>\n      <td>12346</td>\n      <td>2155</td>\n      <td>2844</td>\n      <td>5802</td>\n      <td>17906</td>\n      <td>5062</td>\n      <td>4974</td>\n      <td>...</td>\n      <td>2621</td>\n      <td>8359</td>\n      <td>6429</td>\n      <td>2033</td>\n      <td>3058</td>\n      <td>3185</td>\n      <td>3495</td>\n      <td>2998</td>\n      <td>2790</td>\n      <td>2216</td>\n    </tr>\n    <tr>\n      <th>13</th>\n      <td>Total number of hard-to-fill vacancies</td>\n      <td>262337</td>\n      <td>6588</td>\n      <td>2162</td>\n      <td>710</td>\n      <td>589</td>\n      <td>1207</td>\n      <td>6009</td>\n      <td>928</td>\n      <td>1615</td>\n      <td>...</td>\n      <td>637</td>\n      <td>1715</td>\n      <td>1389</td>\n      <td>727</td>\n      <td>751</td>\n      <td>598</td>\n      <td>1309</td>\n      <td>802</td>\n      <td>705</td>\n      <td>1052</td>\n    </tr>\n    <tr>\n      <th>15</th>\n      <td>Total number of skills shortage vacancies- pro...</td>\n      <td>180159</td>\n      <td>3417</td>\n      <td>1883</td>\n      <td>540</td>\n      <td>523</td>\n      <td>824</td>\n      <td>5919</td>\n      <td>766</td>\n      <td>1242</td>\n      <td>...</td>\n      <td>474</td>\n      <td>1323</td>\n      <td>1003</td>\n      <td>304</td>\n      <td>480</td>\n      <td>382</td>\n      <td>1065</td>\n      <td>432</td>\n      <td>503</td>\n      <td>827</td>\n    </tr>\n  </tbody>\n</table>\n<p>4 rows × 35 columns</p>\n</div>",
            "text/plain": "                                                   0       1               2   \\\n8                                             Borough   Total  City of London   \n11                          Total number of vacancies  797440           18543   \n13             Total number of hard-to-fill vacancies  262337            6588   \n15  Total number of skills shortage vacancies- pro...  180159            3417   \n\n        3          4        5                       6          7   \\\n8   Camden  Greenwich  Hackney  Hammersmith and Fulham  Islington   \n11   12346       2155     2844                    5802      17906   \n13    2162        710      589                    1207       6009   \n15    1883        540      523                     824       5919   \n\n                        8        9        ...              25          26  \\\n8   Kensington and Chelsea  Lambeth       ...        Havering  Hillingdon   \n11                    5062     4974       ...            2621        8359   \n13                     928     1615       ...             637        1715   \n15                     766     1242       ...             474        1323   \n\n          27                    28      29      30         31  \\\n8   Hounslow  Kingston upon Thames  Merton  Newham  Redbridge   \n11      6429                  2033    3058    3185       3495   \n13      1389                   727     751     598       1309   \n15      1003                   304     480     382       1065   \n\n                      32      33              34  \n8   Richmond upon Thames  Sutton  Waltham Forest  \n11                  2998    2790            2216  \n13                   802     705            1052  \n15                   432     503             827  \n\n[4 rows x 35 columns]"
          },
          "metadata": {}
        }
      ]
    },
    {
      "metadata": {
        "trusted": true,
        "scrolled": true
      },
      "cell_type": "code",
      "source": "jvLondon = jvLondon.T\n\njvLondon.head()",
      "execution_count": 85,
      "outputs": [
        {
          "output_type": "execute_result",
          "execution_count": 85,
          "data": {
            "text/html": "<div>\n<style scoped>\n    .dataframe tbody tr th:only-of-type {\n        vertical-align: middle;\n    }\n\n    .dataframe tbody tr th {\n        vertical-align: top;\n    }\n\n    .dataframe thead th {\n        text-align: right;\n    }\n</style>\n<table border=\"1\" class=\"dataframe\">\n  <thead>\n    <tr style=\"text-align: right;\">\n      <th></th>\n      <th>8</th>\n      <th>11</th>\n      <th>13</th>\n      <th>15</th>\n    </tr>\n  </thead>\n  <tbody>\n    <tr>\n      <th>0</th>\n      <td>Borough</td>\n      <td>Total number of vacancies</td>\n      <td>Total number of hard-to-fill vacancies</td>\n      <td>Total number of skills shortage vacancies- pro...</td>\n    </tr>\n    <tr>\n      <th>1</th>\n      <td>Total</td>\n      <td>797440</td>\n      <td>262337</td>\n      <td>180159</td>\n    </tr>\n    <tr>\n      <th>2</th>\n      <td>City of London</td>\n      <td>18543</td>\n      <td>6588</td>\n      <td>3417</td>\n    </tr>\n    <tr>\n      <th>3</th>\n      <td>Camden</td>\n      <td>12346</td>\n      <td>2162</td>\n      <td>1883</td>\n    </tr>\n    <tr>\n      <th>4</th>\n      <td>Greenwich</td>\n      <td>2155</td>\n      <td>710</td>\n      <td>540</td>\n    </tr>\n  </tbody>\n</table>\n</div>",
            "text/plain": "               8                          11  \\\n0         Borough  Total number of vacancies   \n1           Total                     797440   \n2  City of London                      18543   \n3          Camden                      12346   \n4       Greenwich                       2155   \n\n                                       13  \\\n0  Total number of hard-to-fill vacancies   \n1                                  262337   \n2                                    6588   \n3                                    2162   \n4                                     710   \n\n                                                  15  \n0  Total number of skills shortage vacancies- pro...  \n1                                             180159  \n2                                               3417  \n3                                               1883  \n4                                                540  "
          },
          "metadata": {}
        }
      ]
    },
    {
      "metadata": {
        "trusted": true
      },
      "cell_type": "code",
      "source": "jvLondon[8].loc[0]=\"Borough\"\njvLondon.head()",
      "execution_count": 86,
      "outputs": [
        {
          "output_type": "execute_result",
          "execution_count": 86,
          "data": {
            "text/html": "<div>\n<style scoped>\n    .dataframe tbody tr th:only-of-type {\n        vertical-align: middle;\n    }\n\n    .dataframe tbody tr th {\n        vertical-align: top;\n    }\n\n    .dataframe thead th {\n        text-align: right;\n    }\n</style>\n<table border=\"1\" class=\"dataframe\">\n  <thead>\n    <tr style=\"text-align: right;\">\n      <th></th>\n      <th>8</th>\n      <th>11</th>\n      <th>13</th>\n      <th>15</th>\n    </tr>\n  </thead>\n  <tbody>\n    <tr>\n      <th>0</th>\n      <td>Borough</td>\n      <td>Total number of vacancies</td>\n      <td>Total number of hard-to-fill vacancies</td>\n      <td>Total number of skills shortage vacancies- pro...</td>\n    </tr>\n    <tr>\n      <th>1</th>\n      <td>Total</td>\n      <td>797440</td>\n      <td>262337</td>\n      <td>180159</td>\n    </tr>\n    <tr>\n      <th>2</th>\n      <td>City of London</td>\n      <td>18543</td>\n      <td>6588</td>\n      <td>3417</td>\n    </tr>\n    <tr>\n      <th>3</th>\n      <td>Camden</td>\n      <td>12346</td>\n      <td>2162</td>\n      <td>1883</td>\n    </tr>\n    <tr>\n      <th>4</th>\n      <td>Greenwich</td>\n      <td>2155</td>\n      <td>710</td>\n      <td>540</td>\n    </tr>\n  </tbody>\n</table>\n</div>",
            "text/plain": "               8                          11  \\\n0         Borough  Total number of vacancies   \n1           Total                     797440   \n2  City of London                      18543   \n3          Camden                      12346   \n4       Greenwich                       2155   \n\n                                       13  \\\n0  Total number of hard-to-fill vacancies   \n1                                  262337   \n2                                    6588   \n3                                    2162   \n4                                     710   \n\n                                                  15  \n0  Total number of skills shortage vacancies- pro...  \n1                                             180159  \n2                                               3417  \n3                                               1883  \n4                                                540  "
          },
          "metadata": {}
        }
      ]
    },
    {
      "metadata": {
        "trusted": true,
        "scrolled": true
      },
      "cell_type": "code",
      "source": "jvLondon.set_index(8, inplace=True)\n\njvLondon.head()",
      "execution_count": 54,
      "outputs": [
        {
          "output_type": "execute_result",
          "execution_count": 54,
          "data": {
            "text/html": "<div>\n<style scoped>\n    .dataframe tbody tr th:only-of-type {\n        vertical-align: middle;\n    }\n\n    .dataframe tbody tr th {\n        vertical-align: top;\n    }\n\n    .dataframe thead th {\n        text-align: right;\n    }\n</style>\n<table border=\"1\" class=\"dataframe\">\n  <thead>\n    <tr style=\"text-align: right;\">\n      <th></th>\n      <th>11</th>\n      <th>13</th>\n      <th>15</th>\n    </tr>\n    <tr>\n      <th>8</th>\n      <th></th>\n      <th></th>\n      <th></th>\n    </tr>\n  </thead>\n  <tbody>\n    <tr>\n      <th>Borough</th>\n      <td>Total number of vacancies</td>\n      <td>Total number of hard-to-fill vacancies</td>\n      <td>Total number of skills shortage vacancies- pro...</td>\n    </tr>\n    <tr>\n      <th>Total</th>\n      <td>797440</td>\n      <td>262337</td>\n      <td>180159</td>\n    </tr>\n    <tr>\n      <th>City of London</th>\n      <td>18543</td>\n      <td>6588</td>\n      <td>3417</td>\n    </tr>\n    <tr>\n      <th>Camden</th>\n      <td>12346</td>\n      <td>2162</td>\n      <td>1883</td>\n    </tr>\n    <tr>\n      <th>Greenwich</th>\n      <td>2155</td>\n      <td>710</td>\n      <td>540</td>\n    </tr>\n  </tbody>\n</table>\n</div>",
            "text/plain": "                                       11  \\\n8                                           \nBorough         Total number of vacancies   \nTotal                              797440   \nCity of London                      18543   \nCamden                              12346   \nGreenwich                            2155   \n\n                                                    13  \\\n8                                                        \nBorough         Total number of hard-to-fill vacancies   \nTotal                                           262337   \nCity of London                                    6588   \nCamden                                            2162   \nGreenwich                                          710   \n\n                                                               15  \n8                                                                  \nBorough         Total number of skills shortage vacancies- pro...  \nTotal                                                      180159  \nCity of London                                               3417  \nCamden                                                       1883  \nGreenwich                                                     540  "
          },
          "metadata": {}
        }
      ]
    },
    {
      "metadata": {
        "trusted": true
      },
      "cell_type": "code",
      "source": "jvLondon.columns = jvLondon.loc[0]\n\njvLondon.head()",
      "execution_count": 88,
      "outputs": [
        {
          "output_type": "execute_result",
          "execution_count": 88,
          "data": {
            "text/html": "<div>\n<style scoped>\n    .dataframe tbody tr th:only-of-type {\n        vertical-align: middle;\n    }\n\n    .dataframe tbody tr th {\n        vertical-align: top;\n    }\n\n    .dataframe thead th {\n        text-align: right;\n    }\n</style>\n<table border=\"1\" class=\"dataframe\">\n  <thead>\n    <tr style=\"text-align: right;\">\n      <th></th>\n      <th>Borough</th>\n      <th>Total number of vacancies</th>\n      <th>Total number of hard-to-fill vacancies</th>\n      <th>Total number of skills shortage vacancies- prompted or unprompted</th>\n    </tr>\n  </thead>\n  <tbody>\n    <tr>\n      <th>0</th>\n      <td>Borough</td>\n      <td>Total number of vacancies</td>\n      <td>Total number of hard-to-fill vacancies</td>\n      <td>Total number of skills shortage vacancies- pro...</td>\n    </tr>\n    <tr>\n      <th>1</th>\n      <td>Total</td>\n      <td>797440</td>\n      <td>262337</td>\n      <td>180159</td>\n    </tr>\n    <tr>\n      <th>2</th>\n      <td>City of London</td>\n      <td>18543</td>\n      <td>6588</td>\n      <td>3417</td>\n    </tr>\n    <tr>\n      <th>3</th>\n      <td>Camden</td>\n      <td>12346</td>\n      <td>2162</td>\n      <td>1883</td>\n    </tr>\n    <tr>\n      <th>4</th>\n      <td>Greenwich</td>\n      <td>2155</td>\n      <td>710</td>\n      <td>540</td>\n    </tr>\n  </tbody>\n</table>\n</div>",
            "text/plain": "0         Borough  Total number of vacancies  \\\n0         Borough  Total number of vacancies   \n1           Total                     797440   \n2  City of London                      18543   \n3          Camden                      12346   \n4       Greenwich                       2155   \n\n0  Total number of hard-to-fill vacancies  \\\n0  Total number of hard-to-fill vacancies   \n1                                  262337   \n2                                    6588   \n3                                    2162   \n4                                     710   \n\n0 Total number of skills shortage vacancies- prompted or unprompted  \n0  Total number of skills shortage vacancies- pro...                 \n1                                             180159                 \n2                                               3417                 \n3                                               1883                 \n4                                                540                 "
          },
          "metadata": {}
        }
      ]
    },
    {
      "metadata": {
        "trusted": true,
        "scrolled": true
      },
      "cell_type": "code",
      "source": "jvLondon.drop(0, axis=0, inplace=True)\njvLondon.head()",
      "execution_count": 89,
      "outputs": [
        {
          "output_type": "execute_result",
          "execution_count": 89,
          "data": {
            "text/html": "<div>\n<style scoped>\n    .dataframe tbody tr th:only-of-type {\n        vertical-align: middle;\n    }\n\n    .dataframe tbody tr th {\n        vertical-align: top;\n    }\n\n    .dataframe thead th {\n        text-align: right;\n    }\n</style>\n<table border=\"1\" class=\"dataframe\">\n  <thead>\n    <tr style=\"text-align: right;\">\n      <th></th>\n      <th>Borough</th>\n      <th>Total number of vacancies</th>\n      <th>Total number of hard-to-fill vacancies</th>\n      <th>Total number of skills shortage vacancies- prompted or unprompted</th>\n    </tr>\n  </thead>\n  <tbody>\n    <tr>\n      <th>1</th>\n      <td>Total</td>\n      <td>797440</td>\n      <td>262337</td>\n      <td>180159</td>\n    </tr>\n    <tr>\n      <th>2</th>\n      <td>City of London</td>\n      <td>18543</td>\n      <td>6588</td>\n      <td>3417</td>\n    </tr>\n    <tr>\n      <th>3</th>\n      <td>Camden</td>\n      <td>12346</td>\n      <td>2162</td>\n      <td>1883</td>\n    </tr>\n    <tr>\n      <th>4</th>\n      <td>Greenwich</td>\n      <td>2155</td>\n      <td>710</td>\n      <td>540</td>\n    </tr>\n    <tr>\n      <th>5</th>\n      <td>Hackney</td>\n      <td>2844</td>\n      <td>589</td>\n      <td>523</td>\n    </tr>\n  </tbody>\n</table>\n</div>",
            "text/plain": "0         Borough Total number of vacancies  \\\n1           Total                    797440   \n2  City of London                     18543   \n3          Camden                     12346   \n4       Greenwich                      2155   \n5         Hackney                      2844   \n\n0 Total number of hard-to-fill vacancies  \\\n1                                 262337   \n2                                   6588   \n3                                   2162   \n4                                    710   \n5                                    589   \n\n0 Total number of skills shortage vacancies- prompted or unprompted  \n1                                             180159                 \n2                                               3417                 \n3                                               1883                 \n4                                                540                 \n5                                                523                 "
          },
          "metadata": {}
        }
      ]
    },
    {
      "metadata": {
        "trusted": true,
        "scrolled": true
      },
      "cell_type": "code",
      "source": "jvLondon.rename(columns={'Total number of vacancies':'vacancies'}, inplace=True)\njvLondon.rename(columns={'Total number of hard-to-fill vacancies':'hard-to-fill_vacancies'}, inplace=True)\njvLondon.rename(columns={'Total number of skills shortage vacancies- prompted or unprompted':'skills-shortage_vacancies'}, inplace=True)\n\njvLondon.head()",
      "execution_count": 90,
      "outputs": [
        {
          "output_type": "execute_result",
          "execution_count": 90,
          "data": {
            "text/html": "<div>\n<style scoped>\n    .dataframe tbody tr th:only-of-type {\n        vertical-align: middle;\n    }\n\n    .dataframe tbody tr th {\n        vertical-align: top;\n    }\n\n    .dataframe thead th {\n        text-align: right;\n    }\n</style>\n<table border=\"1\" class=\"dataframe\">\n  <thead>\n    <tr style=\"text-align: right;\">\n      <th></th>\n      <th>Borough</th>\n      <th>vacancies</th>\n      <th>hard-to-fill_vacancies</th>\n      <th>skills-shortage_vacancies</th>\n    </tr>\n  </thead>\n  <tbody>\n    <tr>\n      <th>1</th>\n      <td>Total</td>\n      <td>797440</td>\n      <td>262337</td>\n      <td>180159</td>\n    </tr>\n    <tr>\n      <th>2</th>\n      <td>City of London</td>\n      <td>18543</td>\n      <td>6588</td>\n      <td>3417</td>\n    </tr>\n    <tr>\n      <th>3</th>\n      <td>Camden</td>\n      <td>12346</td>\n      <td>2162</td>\n      <td>1883</td>\n    </tr>\n    <tr>\n      <th>4</th>\n      <td>Greenwich</td>\n      <td>2155</td>\n      <td>710</td>\n      <td>540</td>\n    </tr>\n    <tr>\n      <th>5</th>\n      <td>Hackney</td>\n      <td>2844</td>\n      <td>589</td>\n      <td>523</td>\n    </tr>\n  </tbody>\n</table>\n</div>",
            "text/plain": "0         Borough vacancies hard-to-fill_vacancies skills-shortage_vacancies\n1           Total    797440                 262337                    180159\n2  City of London     18543                   6588                      3417\n3          Camden     12346                   2162                      1883\n4       Greenwich      2155                    710                       540\n5         Hackney      2844                    589                       523"
          },
          "metadata": {}
        }
      ]
    },
    {
      "metadata": {
        "trusted": true
      },
      "cell_type": "markdown",
      "source": "## Merging on dataframe\n- load 'borough-unemployment-and-business-data.csv\n- reduce to only 2015\n- delete year if necessary\n- merge datasets on \"area\" (coloumn labels) and \"Row1\" (row labels)\n- save file"
    },
    {
      "metadata": {
        "trusted": true
      },
      "cell_type": "code",
      "source": "df1 = pd.read_csv('./data/processed_borough-unemployment-and-business-data.csv')\n\ndf1.head()",
      "execution_count": 67,
      "outputs": [
        {
          "output_type": "execute_result",
          "execution_count": 67,
          "data": {
            "text/html": "<div>\n<style scoped>\n    .dataframe tbody tr th:only-of-type {\n        vertical-align: middle;\n    }\n\n    .dataframe tbody tr th {\n        vertical-align: top;\n    }\n\n    .dataframe thead th {\n        text-align: right;\n    }\n</style>\n<table border=\"1\" class=\"dataframe\">\n  <thead>\n    <tr style=\"text-align: right;\">\n      <th></th>\n      <th>year</th>\n      <th>area</th>\n      <th>code</th>\n      <th>active_enterprises</th>\n      <th>births</th>\n      <th>birth_rate</th>\n      <th>deaths</th>\n      <th>death_rate</th>\n      <th>number_of_jobs</th>\n      <th>job_density</th>\n      <th>unemployment_rate</th>\n    </tr>\n  </thead>\n  <tbody>\n    <tr>\n      <th>0</th>\n      <td>2004</td>\n      <td>Barking and Dagenham</td>\n      <td>E09000002</td>\n      <td>3120</td>\n      <td>480</td>\n      <td>15.4</td>\n      <td>410</td>\n      <td>13.1</td>\n      <td>53000</td>\n      <td>0.51</td>\n      <td>8.3</td>\n    </tr>\n    <tr>\n      <th>1</th>\n      <td>2004</td>\n      <td>Barnet</td>\n      <td>E09000003</td>\n      <td>19655</td>\n      <td>2435</td>\n      <td>12.4</td>\n      <td>3015</td>\n      <td>15.3</td>\n      <td>135000</td>\n      <td>0.63</td>\n      <td>6.3</td>\n    </tr>\n    <tr>\n      <th>2</th>\n      <td>2004</td>\n      <td>Bexley</td>\n      <td>E09000004</td>\n      <td>6450</td>\n      <td>940</td>\n      <td>14.6</td>\n      <td>800</td>\n      <td>12.4</td>\n      <td>85000</td>\n      <td>0.61</td>\n      <td>4.1</td>\n    </tr>\n    <tr>\n      <th>3</th>\n      <td>2004</td>\n      <td>Brent</td>\n      <td>E09000005</td>\n      <td>11295</td>\n      <td>1800</td>\n      <td>15.9</td>\n      <td>1745</td>\n      <td>15.4</td>\n      <td>119000</td>\n      <td>0.65</td>\n      <td>9.1</td>\n    </tr>\n    <tr>\n      <th>4</th>\n      <td>2004</td>\n      <td>Bromley</td>\n      <td>E09000006</td>\n      <td>11655</td>\n      <td>1590</td>\n      <td>13.6</td>\n      <td>1375</td>\n      <td>11.8</td>\n      <td>126000</td>\n      <td>0.67</td>\n      <td>4.7</td>\n    </tr>\n  </tbody>\n</table>\n</div>",
            "text/plain": "   year                  area       code  active_enterprises  births  \\\n0  2004  Barking and Dagenham  E09000002                3120     480   \n1  2004                Barnet  E09000003               19655    2435   \n2  2004                Bexley  E09000004                6450     940   \n3  2004                 Brent  E09000005               11295    1800   \n4  2004               Bromley  E09000006               11655    1590   \n\n   birth_rate  deaths  death_rate  number_of_jobs  job_density  \\\n0        15.4     410        13.1           53000         0.51   \n1        12.4    3015        15.3          135000         0.63   \n2        14.6     800        12.4           85000         0.61   \n3        15.9    1745        15.4          119000         0.65   \n4        13.6    1375        11.8          126000         0.67   \n\n   unemployment_rate  \n0                8.3  \n1                6.3  \n2                4.1  \n3                9.1  \n4                4.7  "
          },
          "metadata": {}
        }
      ]
    },
    {
      "metadata": {
        "trusted": true
      },
      "cell_type": "code",
      "source": "df2015 = df1[df1['year']==2015]\n\ndf2015.head()",
      "execution_count": 68,
      "outputs": [
        {
          "output_type": "execute_result",
          "execution_count": 68,
          "data": {
            "text/html": "<div>\n<style scoped>\n    .dataframe tbody tr th:only-of-type {\n        vertical-align: middle;\n    }\n\n    .dataframe tbody tr th {\n        vertical-align: top;\n    }\n\n    .dataframe thead th {\n        text-align: right;\n    }\n</style>\n<table border=\"1\" class=\"dataframe\">\n  <thead>\n    <tr style=\"text-align: right;\">\n      <th></th>\n      <th>year</th>\n      <th>area</th>\n      <th>code</th>\n      <th>active_enterprises</th>\n      <th>births</th>\n      <th>birth_rate</th>\n      <th>deaths</th>\n      <th>death_rate</th>\n      <th>number_of_jobs</th>\n      <th>job_density</th>\n      <th>unemployment_rate</th>\n    </tr>\n  </thead>\n  <tbody>\n    <tr>\n      <th>484</th>\n      <td>2015</td>\n      <td>Barking and Dagenham</td>\n      <td>E09000002</td>\n      <td>6560</td>\n      <td>1665</td>\n      <td>25.4</td>\n      <td>765</td>\n      <td>11.7</td>\n      <td>62000</td>\n      <td>0.48</td>\n      <td>9.7</td>\n    </tr>\n    <tr>\n      <th>485</th>\n      <td>2015</td>\n      <td>Barnet</td>\n      <td>E09000003</td>\n      <td>26190</td>\n      <td>4460</td>\n      <td>17.0</td>\n      <td>3410</td>\n      <td>13.0</td>\n      <td>168000</td>\n      <td>0.68</td>\n      <td>5.8</td>\n    </tr>\n    <tr>\n      <th>486</th>\n      <td>2015</td>\n      <td>Bexley</td>\n      <td>E09000004</td>\n      <td>9075</td>\n      <td>1605</td>\n      <td>17.7</td>\n      <td>945</td>\n      <td>10.4</td>\n      <td>86000</td>\n      <td>0.57</td>\n      <td>6.0</td>\n    </tr>\n    <tr>\n      <th>487</th>\n      <td>2015</td>\n      <td>Brent</td>\n      <td>E09000005</td>\n      <td>15745</td>\n      <td>2895</td>\n      <td>18.4</td>\n      <td>1800</td>\n      <td>11.4</td>\n      <td>136000</td>\n      <td>0.62</td>\n      <td>7.1</td>\n    </tr>\n    <tr>\n      <th>488</th>\n      <td>2015</td>\n      <td>Bromley</td>\n      <td>E09000006</td>\n      <td>15695</td>\n      <td>2340</td>\n      <td>14.9</td>\n      <td>1620</td>\n      <td>10.3</td>\n      <td>124000</td>\n      <td>0.61</td>\n      <td>4.9</td>\n    </tr>\n  </tbody>\n</table>\n</div>",
            "text/plain": "     year                  area       code  active_enterprises  births  \\\n484  2015  Barking and Dagenham  E09000002                6560    1665   \n485  2015                Barnet  E09000003               26190    4460   \n486  2015                Bexley  E09000004                9075    1605   \n487  2015                 Brent  E09000005               15745    2895   \n488  2015               Bromley  E09000006               15695    2340   \n\n     birth_rate  deaths  death_rate  number_of_jobs  job_density  \\\n484        25.4     765        11.7           62000         0.48   \n485        17.0    3410        13.0          168000         0.68   \n486        17.7     945        10.4           86000         0.57   \n487        18.4    1800        11.4          136000         0.62   \n488        14.9    1620        10.3          124000         0.61   \n\n     unemployment_rate  \n484                9.7  \n485                5.8  \n486                6.0  \n487                7.1  \n488                4.9  "
          },
          "metadata": {}
        }
      ]
    },
    {
      "metadata": {
        "trusted": true,
        "scrolled": true
      },
      "cell_type": "code",
      "source": "df2015_joined = df2015.merge(jvLondon, left_on='area', right_on='Borough', how='left')\n\ndf2015_joined.head()",
      "execution_count": 91,
      "outputs": [
        {
          "output_type": "execute_result",
          "execution_count": 91,
          "data": {
            "text/html": "<div>\n<style scoped>\n    .dataframe tbody tr th:only-of-type {\n        vertical-align: middle;\n    }\n\n    .dataframe tbody tr th {\n        vertical-align: top;\n    }\n\n    .dataframe thead th {\n        text-align: right;\n    }\n</style>\n<table border=\"1\" class=\"dataframe\">\n  <thead>\n    <tr style=\"text-align: right;\">\n      <th></th>\n      <th>year</th>\n      <th>area</th>\n      <th>code</th>\n      <th>active_enterprises</th>\n      <th>births</th>\n      <th>birth_rate</th>\n      <th>deaths</th>\n      <th>death_rate</th>\n      <th>number_of_jobs</th>\n      <th>job_density</th>\n      <th>unemployment_rate</th>\n      <th>Borough</th>\n      <th>vacancies</th>\n      <th>hard-to-fill_vacancies</th>\n      <th>skills-shortage_vacancies</th>\n    </tr>\n  </thead>\n  <tbody>\n    <tr>\n      <th>0</th>\n      <td>2015</td>\n      <td>Barking and Dagenham</td>\n      <td>E09000002</td>\n      <td>6560</td>\n      <td>1665</td>\n      <td>25.4</td>\n      <td>765</td>\n      <td>11.7</td>\n      <td>62000</td>\n      <td>0.48</td>\n      <td>9.7</td>\n      <td>Barking and Dagenham</td>\n      <td>1627</td>\n      <td>522</td>\n      <td>404</td>\n    </tr>\n    <tr>\n      <th>1</th>\n      <td>2015</td>\n      <td>Barnet</td>\n      <td>E09000003</td>\n      <td>26190</td>\n      <td>4460</td>\n      <td>17.0</td>\n      <td>3410</td>\n      <td>13.0</td>\n      <td>168000</td>\n      <td>0.68</td>\n      <td>5.8</td>\n      <td>Barnet</td>\n      <td>5011</td>\n      <td>1488</td>\n      <td>1284</td>\n    </tr>\n    <tr>\n      <th>2</th>\n      <td>2015</td>\n      <td>Bexley</td>\n      <td>E09000004</td>\n      <td>9075</td>\n      <td>1605</td>\n      <td>17.7</td>\n      <td>945</td>\n      <td>10.4</td>\n      <td>86000</td>\n      <td>0.57</td>\n      <td>6.0</td>\n      <td>Bexley</td>\n      <td>4197</td>\n      <td>832</td>\n      <td>586</td>\n    </tr>\n    <tr>\n      <th>3</th>\n      <td>2015</td>\n      <td>Brent</td>\n      <td>E09000005</td>\n      <td>15745</td>\n      <td>2895</td>\n      <td>18.4</td>\n      <td>1800</td>\n      <td>11.4</td>\n      <td>136000</td>\n      <td>0.62</td>\n      <td>7.1</td>\n      <td>Brent</td>\n      <td>5702</td>\n      <td>1841</td>\n      <td>1394</td>\n    </tr>\n    <tr>\n      <th>4</th>\n      <td>2015</td>\n      <td>Bromley</td>\n      <td>E09000006</td>\n      <td>15695</td>\n      <td>2340</td>\n      <td>14.9</td>\n      <td>1620</td>\n      <td>10.3</td>\n      <td>124000</td>\n      <td>0.61</td>\n      <td>4.9</td>\n      <td>Bromley</td>\n      <td>4947</td>\n      <td>1673</td>\n      <td>532</td>\n    </tr>\n  </tbody>\n</table>\n</div>",
            "text/plain": "   year                  area       code  active_enterprises  births  \\\n0  2015  Barking and Dagenham  E09000002                6560    1665   \n1  2015                Barnet  E09000003               26190    4460   \n2  2015                Bexley  E09000004                9075    1605   \n3  2015                 Brent  E09000005               15745    2895   \n4  2015               Bromley  E09000006               15695    2340   \n\n   birth_rate  deaths  death_rate  number_of_jobs  job_density  \\\n0        25.4     765        11.7           62000         0.48   \n1        17.0    3410        13.0          168000         0.68   \n2        17.7     945        10.4           86000         0.57   \n3        18.4    1800        11.4          136000         0.62   \n4        14.9    1620        10.3          124000         0.61   \n\n   unemployment_rate               Borough vacancies hard-to-fill_vacancies  \\\n0                9.7  Barking and Dagenham      1627                    522   \n1                5.8                Barnet      5011                   1488   \n2                6.0                Bexley      4197                    832   \n3                7.1                 Brent      5702                   1841   \n4                4.9               Bromley      4947                   1673   \n\n  skills-shortage_vacancies  \n0                       404  \n1                      1284  \n2                       586  \n3                      1394  \n4                       532  "
          },
          "metadata": {}
        }
      ]
    },
    {
      "metadata": {
        "trusted": true
      },
      "cell_type": "code",
      "source": "df2015_joined.drop('Borough', axis=1, inplace=True)\n\ndf2015_joined.head()",
      "execution_count": 93,
      "outputs": [
        {
          "output_type": "execute_result",
          "execution_count": 93,
          "data": {
            "text/html": "<div>\n<style scoped>\n    .dataframe tbody tr th:only-of-type {\n        vertical-align: middle;\n    }\n\n    .dataframe tbody tr th {\n        vertical-align: top;\n    }\n\n    .dataframe thead th {\n        text-align: right;\n    }\n</style>\n<table border=\"1\" class=\"dataframe\">\n  <thead>\n    <tr style=\"text-align: right;\">\n      <th></th>\n      <th>year</th>\n      <th>area</th>\n      <th>code</th>\n      <th>active_enterprises</th>\n      <th>births</th>\n      <th>birth_rate</th>\n      <th>deaths</th>\n      <th>death_rate</th>\n      <th>number_of_jobs</th>\n      <th>job_density</th>\n      <th>unemployment_rate</th>\n      <th>vacancies</th>\n      <th>hard-to-fill_vacancies</th>\n      <th>skills-shortage_vacancies</th>\n    </tr>\n  </thead>\n  <tbody>\n    <tr>\n      <th>0</th>\n      <td>2015</td>\n      <td>Barking and Dagenham</td>\n      <td>E09000002</td>\n      <td>6560</td>\n      <td>1665</td>\n      <td>25.4</td>\n      <td>765</td>\n      <td>11.7</td>\n      <td>62000</td>\n      <td>0.48</td>\n      <td>9.7</td>\n      <td>1627</td>\n      <td>522</td>\n      <td>404</td>\n    </tr>\n    <tr>\n      <th>1</th>\n      <td>2015</td>\n      <td>Barnet</td>\n      <td>E09000003</td>\n      <td>26190</td>\n      <td>4460</td>\n      <td>17.0</td>\n      <td>3410</td>\n      <td>13.0</td>\n      <td>168000</td>\n      <td>0.68</td>\n      <td>5.8</td>\n      <td>5011</td>\n      <td>1488</td>\n      <td>1284</td>\n    </tr>\n    <tr>\n      <th>2</th>\n      <td>2015</td>\n      <td>Bexley</td>\n      <td>E09000004</td>\n      <td>9075</td>\n      <td>1605</td>\n      <td>17.7</td>\n      <td>945</td>\n      <td>10.4</td>\n      <td>86000</td>\n      <td>0.57</td>\n      <td>6.0</td>\n      <td>4197</td>\n      <td>832</td>\n      <td>586</td>\n    </tr>\n    <tr>\n      <th>3</th>\n      <td>2015</td>\n      <td>Brent</td>\n      <td>E09000005</td>\n      <td>15745</td>\n      <td>2895</td>\n      <td>18.4</td>\n      <td>1800</td>\n      <td>11.4</td>\n      <td>136000</td>\n      <td>0.62</td>\n      <td>7.1</td>\n      <td>5702</td>\n      <td>1841</td>\n      <td>1394</td>\n    </tr>\n    <tr>\n      <th>4</th>\n      <td>2015</td>\n      <td>Bromley</td>\n      <td>E09000006</td>\n      <td>15695</td>\n      <td>2340</td>\n      <td>14.9</td>\n      <td>1620</td>\n      <td>10.3</td>\n      <td>124000</td>\n      <td>0.61</td>\n      <td>4.9</td>\n      <td>4947</td>\n      <td>1673</td>\n      <td>532</td>\n    </tr>\n  </tbody>\n</table>\n</div>",
            "text/plain": "   year                  area       code  active_enterprises  births  \\\n0  2015  Barking and Dagenham  E09000002                6560    1665   \n1  2015                Barnet  E09000003               26190    4460   \n2  2015                Bexley  E09000004                9075    1605   \n3  2015                 Brent  E09000005               15745    2895   \n4  2015               Bromley  E09000006               15695    2340   \n\n   birth_rate  deaths  death_rate  number_of_jobs  job_density  \\\n0        25.4     765        11.7           62000         0.48   \n1        17.0    3410        13.0          168000         0.68   \n2        17.7     945        10.4           86000         0.57   \n3        18.4    1800        11.4          136000         0.62   \n4        14.9    1620        10.3          124000         0.61   \n\n   unemployment_rate vacancies hard-to-fill_vacancies  \\\n0                9.7      1627                    522   \n1                5.8      5011                   1488   \n2                6.0      4197                    832   \n3                7.1      5702                   1841   \n4                4.9      4947                   1673   \n\n  skills-shortage_vacancies  \n0                       404  \n1                      1284  \n2                       586  \n3                      1394  \n4                       532  "
          },
          "metadata": {}
        }
      ]
    },
    {
      "metadata": {
        "trusted": true,
        "scrolled": true
      },
      "cell_type": "code",
      "source": "df2015_joined",
      "execution_count": 96,
      "outputs": [
        {
          "output_type": "execute_result",
          "execution_count": 96,
          "data": {
            "text/html": "<div>\n<style scoped>\n    .dataframe tbody tr th:only-of-type {\n        vertical-align: middle;\n    }\n\n    .dataframe tbody tr th {\n        vertical-align: top;\n    }\n\n    .dataframe thead th {\n        text-align: right;\n    }\n</style>\n<table border=\"1\" class=\"dataframe\">\n  <thead>\n    <tr style=\"text-align: right;\">\n      <th></th>\n      <th>year</th>\n      <th>area</th>\n      <th>code</th>\n      <th>active_enterprises</th>\n      <th>births</th>\n      <th>birth_rate</th>\n      <th>deaths</th>\n      <th>death_rate</th>\n      <th>number_of_jobs</th>\n      <th>job_density</th>\n      <th>unemployment_rate</th>\n      <th>vacancies</th>\n      <th>hard-to-fill_vacancies</th>\n      <th>skills-shortage_vacancies</th>\n    </tr>\n  </thead>\n  <tbody>\n    <tr>\n      <th>0</th>\n      <td>2015</td>\n      <td>Barking and Dagenham</td>\n      <td>E09000002</td>\n      <td>6560</td>\n      <td>1665</td>\n      <td>25.4</td>\n      <td>765</td>\n      <td>11.7</td>\n      <td>62000</td>\n      <td>0.48</td>\n      <td>9.7</td>\n      <td>1627</td>\n      <td>522</td>\n      <td>404</td>\n    </tr>\n    <tr>\n      <th>1</th>\n      <td>2015</td>\n      <td>Barnet</td>\n      <td>E09000003</td>\n      <td>26190</td>\n      <td>4460</td>\n      <td>17.0</td>\n      <td>3410</td>\n      <td>13.0</td>\n      <td>168000</td>\n      <td>0.68</td>\n      <td>5.8</td>\n      <td>5011</td>\n      <td>1488</td>\n      <td>1284</td>\n    </tr>\n    <tr>\n      <th>2</th>\n      <td>2015</td>\n      <td>Bexley</td>\n      <td>E09000004</td>\n      <td>9075</td>\n      <td>1605</td>\n      <td>17.7</td>\n      <td>945</td>\n      <td>10.4</td>\n      <td>86000</td>\n      <td>0.57</td>\n      <td>6.0</td>\n      <td>4197</td>\n      <td>832</td>\n      <td>586</td>\n    </tr>\n    <tr>\n      <th>3</th>\n      <td>2015</td>\n      <td>Brent</td>\n      <td>E09000005</td>\n      <td>15745</td>\n      <td>2895</td>\n      <td>18.4</td>\n      <td>1800</td>\n      <td>11.4</td>\n      <td>136000</td>\n      <td>0.62</td>\n      <td>7.1</td>\n      <td>5702</td>\n      <td>1841</td>\n      <td>1394</td>\n    </tr>\n    <tr>\n      <th>4</th>\n      <td>2015</td>\n      <td>Bromley</td>\n      <td>E09000006</td>\n      <td>15695</td>\n      <td>2340</td>\n      <td>14.9</td>\n      <td>1620</td>\n      <td>10.3</td>\n      <td>124000</td>\n      <td>0.61</td>\n      <td>4.9</td>\n      <td>4947</td>\n      <td>1673</td>\n      <td>532</td>\n    </tr>\n    <tr>\n      <th>5</th>\n      <td>2015</td>\n      <td>Camden</td>\n      <td>E09000007</td>\n      <td>31385</td>\n      <td>5445</td>\n      <td>17.3</td>\n      <td>3415</td>\n      <td>10.9</td>\n      <td>383000</td>\n      <td>2.21</td>\n      <td>5.5</td>\n      <td>12346</td>\n      <td>2162</td>\n      <td>1883</td>\n    </tr>\n    <tr>\n      <th>6</th>\n      <td>2015</td>\n      <td>Croydon</td>\n      <td>E09000008</td>\n      <td>15540</td>\n      <td>2695</td>\n      <td>17.3</td>\n      <td>1785</td>\n      <td>11.5</td>\n      <td>144000</td>\n      <td>0.58</td>\n      <td>5.3</td>\n      <td>4444</td>\n      <td>1683</td>\n      <td>1043</td>\n    </tr>\n    <tr>\n      <th>7</th>\n      <td>2015</td>\n      <td>Ealing</td>\n      <td>E09000009</td>\n      <td>18700</td>\n      <td>3420</td>\n      <td>18.3</td>\n      <td>2065</td>\n      <td>11.0</td>\n      <td>163000</td>\n      <td>0.71</td>\n      <td>6.1</td>\n      <td>7009</td>\n      <td>1768</td>\n      <td>1462</td>\n    </tr>\n    <tr>\n      <th>8</th>\n      <td>2015</td>\n      <td>Enfield</td>\n      <td>E09000010</td>\n      <td>13925</td>\n      <td>2520</td>\n      <td>18.1</td>\n      <td>1740</td>\n      <td>12.5</td>\n      <td>133000</td>\n      <td>0.63</td>\n      <td>5.9</td>\n      <td>3668</td>\n      <td>1658</td>\n      <td>880</td>\n    </tr>\n    <tr>\n      <th>9</th>\n      <td>2015</td>\n      <td>Greenwich</td>\n      <td>E09000011</td>\n      <td>10060</td>\n      <td>2260</td>\n      <td>22.5</td>\n      <td>1200</td>\n      <td>11.9</td>\n      <td>96000</td>\n      <td>0.51</td>\n      <td>6.8</td>\n      <td>2155</td>\n      <td>710</td>\n      <td>540</td>\n    </tr>\n    <tr>\n      <th>10</th>\n      <td>2015</td>\n      <td>Hackney</td>\n      <td>E09000012</td>\n      <td>18510</td>\n      <td>4105</td>\n      <td>22.2</td>\n      <td>2025</td>\n      <td>10.9</td>\n      <td>136000</td>\n      <td>0.70</td>\n      <td>6.7</td>\n      <td>2844</td>\n      <td>589</td>\n      <td>523</td>\n    </tr>\n    <tr>\n      <th>11</th>\n      <td>2015</td>\n      <td>Hammersmith and Fulham</td>\n      <td>E09000013</td>\n      <td>14095</td>\n      <td>2560</td>\n      <td>18.2</td>\n      <td>1740</td>\n      <td>12.3</td>\n      <td>154000</td>\n      <td>1.16</td>\n      <td>6.1</td>\n      <td>5802</td>\n      <td>1207</td>\n      <td>824</td>\n    </tr>\n    <tr>\n      <th>12</th>\n      <td>2015</td>\n      <td>Haringey</td>\n      <td>E09000014</td>\n      <td>12675</td>\n      <td>2350</td>\n      <td>18.5</td>\n      <td>1425</td>\n      <td>11.2</td>\n      <td>93000</td>\n      <td>0.49</td>\n      <td>6.7</td>\n      <td>2171</td>\n      <td>303</td>\n      <td>265</td>\n    </tr>\n    <tr>\n      <th>13</th>\n      <td>2015</td>\n      <td>Harrow</td>\n      <td>E09000015</td>\n      <td>15155</td>\n      <td>2605</td>\n      <td>17.2</td>\n      <td>1805</td>\n      <td>11.9</td>\n      <td>88000</td>\n      <td>0.55</td>\n      <td>4.5</td>\n      <td>1920</td>\n      <td>427</td>\n      <td>288</td>\n    </tr>\n    <tr>\n      <th>14</th>\n      <td>2015</td>\n      <td>Havering</td>\n      <td>E09000016</td>\n      <td>10115</td>\n      <td>1720</td>\n      <td>17.0</td>\n      <td>1085</td>\n      <td>10.7</td>\n      <td>93000</td>\n      <td>0.60</td>\n      <td>6.0</td>\n      <td>2621</td>\n      <td>637</td>\n      <td>474</td>\n    </tr>\n    <tr>\n      <th>15</th>\n      <td>2015</td>\n      <td>Hillingdon</td>\n      <td>E09000017</td>\n      <td>13505</td>\n      <td>2310</td>\n      <td>17.1</td>\n      <td>1450</td>\n      <td>10.7</td>\n      <td>202000</td>\n      <td>1.04</td>\n      <td>5.8</td>\n      <td>8359</td>\n      <td>1715</td>\n      <td>1323</td>\n    </tr>\n    <tr>\n      <th>16</th>\n      <td>2015</td>\n      <td>Hounslow</td>\n      <td>E09000018</td>\n      <td>13910</td>\n      <td>2525</td>\n      <td>18.2</td>\n      <td>1565</td>\n      <td>11.3</td>\n      <td>187000</td>\n      <td>1.04</td>\n      <td>5.1</td>\n      <td>6429</td>\n      <td>1389</td>\n      <td>1003</td>\n    </tr>\n    <tr>\n      <th>17</th>\n      <td>2015</td>\n      <td>Islington</td>\n      <td>E09000019</td>\n      <td>22110</td>\n      <td>5470</td>\n      <td>24.7</td>\n      <td>4090</td>\n      <td>18.5</td>\n      <td>250000</td>\n      <td>1.46</td>\n      <td>6.4</td>\n      <td>17906</td>\n      <td>6009</td>\n      <td>5919</td>\n    </tr>\n    <tr>\n      <th>18</th>\n      <td>2015</td>\n      <td>Kensington and Chelsea</td>\n      <td>E09000020</td>\n      <td>14350</td>\n      <td>2355</td>\n      <td>16.4</td>\n      <td>1455</td>\n      <td>10.1</td>\n      <td>150000</td>\n      <td>1.36</td>\n      <td>5.1</td>\n      <td>5062</td>\n      <td>928</td>\n      <td>766</td>\n    </tr>\n    <tr>\n      <th>19</th>\n      <td>2015</td>\n      <td>Kingston upon Thames</td>\n      <td>E09000021</td>\n      <td>8970</td>\n      <td>1370</td>\n      <td>15.3</td>\n      <td>890</td>\n      <td>9.9</td>\n      <td>95000</td>\n      <td>0.82</td>\n      <td>4.9</td>\n      <td>2033</td>\n      <td>727</td>\n      <td>304</td>\n    </tr>\n    <tr>\n      <th>20</th>\n      <td>2015</td>\n      <td>Lambeth</td>\n      <td>E09000022</td>\n      <td>17280</td>\n      <td>3425</td>\n      <td>19.8</td>\n      <td>2620</td>\n      <td>15.2</td>\n      <td>185000</td>\n      <td>0.77</td>\n      <td>6.1</td>\n      <td>4974</td>\n      <td>1615</td>\n      <td>1242</td>\n    </tr>\n    <tr>\n      <th>21</th>\n      <td>2015</td>\n      <td>Lewisham</td>\n      <td>E09000023</td>\n      <td>10405</td>\n      <td>2045</td>\n      <td>19.7</td>\n      <td>1290</td>\n      <td>12.4</td>\n      <td>83000</td>\n      <td>0.40</td>\n      <td>6.2</td>\n      <td>2142</td>\n      <td>786</td>\n      <td>716</td>\n    </tr>\n    <tr>\n      <th>22</th>\n      <td>2015</td>\n      <td>Merton</td>\n      <td>E09000024</td>\n      <td>12070</td>\n      <td>2225</td>\n      <td>18.4</td>\n      <td>1300</td>\n      <td>10.8</td>\n      <td>98000</td>\n      <td>0.70</td>\n      <td>4.7</td>\n      <td>3058</td>\n      <td>751</td>\n      <td>480</td>\n    </tr>\n    <tr>\n      <th>23</th>\n      <td>2015</td>\n      <td>Newham</td>\n      <td>E09000025</td>\n      <td>11055</td>\n      <td>2860</td>\n      <td>25.9</td>\n      <td>1450</td>\n      <td>13.1</td>\n      <td>114000</td>\n      <td>0.48</td>\n      <td>7.5</td>\n      <td>3185</td>\n      <td>598</td>\n      <td>382</td>\n    </tr>\n    <tr>\n      <th>24</th>\n      <td>2015</td>\n      <td>Redbridge</td>\n      <td>E09000026</td>\n      <td>14595</td>\n      <td>3150</td>\n      <td>21.6</td>\n      <td>1960</td>\n      <td>13.4</td>\n      <td>92000</td>\n      <td>0.47</td>\n      <td>5.9</td>\n      <td>3495</td>\n      <td>1309</td>\n      <td>1065</td>\n    </tr>\n    <tr>\n      <th>25</th>\n      <td>2015</td>\n      <td>Richmond upon Thames</td>\n      <td>E09000027</td>\n      <td>14185</td>\n      <td>2025</td>\n      <td>14.3</td>\n      <td>1370</td>\n      <td>9.7</td>\n      <td>102000</td>\n      <td>0.82</td>\n      <td>4.3</td>\n      <td>2998</td>\n      <td>802</td>\n      <td>432</td>\n    </tr>\n    <tr>\n      <th>26</th>\n      <td>2015</td>\n      <td>Southwark</td>\n      <td>E09000028</td>\n      <td>17120</td>\n      <td>3135</td>\n      <td>18.3</td>\n      <td>1970</td>\n      <td>11.5</td>\n      <td>289000</td>\n      <td>1.28</td>\n      <td>6.7</td>\n      <td>8014</td>\n      <td>1834</td>\n      <td>1766</td>\n    </tr>\n    <tr>\n      <th>27</th>\n      <td>2015</td>\n      <td>Sutton</td>\n      <td>E09000029</td>\n      <td>8710</td>\n      <td>1345</td>\n      <td>15.4</td>\n      <td>990</td>\n      <td>11.4</td>\n      <td>80000</td>\n      <td>0.62</td>\n      <td>5.3</td>\n      <td>2790</td>\n      <td>705</td>\n      <td>503</td>\n    </tr>\n    <tr>\n      <th>28</th>\n      <td>2015</td>\n      <td>Tower Hamlets</td>\n      <td>E09000030</td>\n      <td>18390</td>\n      <td>3920</td>\n      <td>21.3</td>\n      <td>2450</td>\n      <td>13.3</td>\n      <td>298000</td>\n      <td>1.37</td>\n      <td>7.6</td>\n      <td>11369</td>\n      <td>3315</td>\n      <td>3133</td>\n    </tr>\n    <tr>\n      <th>29</th>\n      <td>2015</td>\n      <td>Waltham Forest</td>\n      <td>E09000031</td>\n      <td>11020</td>\n      <td>2490</td>\n      <td>22.6</td>\n      <td>1320</td>\n      <td>12.0</td>\n      <td>86000</td>\n      <td>0.47</td>\n      <td>6.5</td>\n      <td>2216</td>\n      <td>1052</td>\n      <td>827</td>\n    </tr>\n    <tr>\n      <th>30</th>\n      <td>2015</td>\n      <td>Wandsworth</td>\n      <td>E09000032</td>\n      <td>18695</td>\n      <td>3600</td>\n      <td>19.3</td>\n      <td>2180</td>\n      <td>11.7</td>\n      <td>144000</td>\n      <td>0.61</td>\n      <td>5.0</td>\n      <td>4569</td>\n      <td>1288</td>\n      <td>998</td>\n    </tr>\n    <tr>\n      <th>31</th>\n      <td>2015</td>\n      <td>Westminster</td>\n      <td>E09000033</td>\n      <td>55385</td>\n      <td>9060</td>\n      <td>16.4</td>\n      <td>6305</td>\n      <td>11.4</td>\n      <td>756000</td>\n      <td>4.42</td>\n      <td>6.3</td>\n      <td>24765</td>\n      <td>6108</td>\n      <td>5487</td>\n    </tr>\n    <tr>\n      <th>32</th>\n      <td>2015</td>\n      <td>North East</td>\n      <td>E12000001</td>\n      <td>71010</td>\n      <td>9635</td>\n      <td>13.6</td>\n      <td>7710</td>\n      <td>10.9</td>\n      <td>1196000</td>\n      <td>0.72</td>\n      <td>7.7</td>\n      <td>NaN</td>\n      <td>NaN</td>\n      <td>NaN</td>\n    </tr>\n    <tr>\n      <th>33</th>\n      <td>2015</td>\n      <td>North West</td>\n      <td>E12000002</td>\n      <td>259740</td>\n      <td>36495</td>\n      <td>14.1</td>\n      <td>29380</td>\n      <td>11.3</td>\n      <td>3603000</td>\n      <td>0.80</td>\n      <td>5.3</td>\n      <td>NaN</td>\n      <td>NaN</td>\n      <td>NaN</td>\n    </tr>\n    <tr>\n      <th>34</th>\n      <td>2015</td>\n      <td>East Midlands</td>\n      <td>E12000004</td>\n      <td>176220</td>\n      <td>25345</td>\n      <td>14.4</td>\n      <td>18280</td>\n      <td>10.4</td>\n      <td>2304000</td>\n      <td>0.78</td>\n      <td>4.7</td>\n      <td>NaN</td>\n      <td>NaN</td>\n      <td>NaN</td>\n    </tr>\n    <tr>\n      <th>35</th>\n      <td>2015</td>\n      <td>West Midlands</td>\n      <td>E12000005</td>\n      <td>207980</td>\n      <td>29350</td>\n      <td>14.1</td>\n      <td>21450</td>\n      <td>10.3</td>\n      <td>2818000</td>\n      <td>0.79</td>\n      <td>5.8</td>\n      <td>NaN</td>\n      <td>NaN</td>\n      <td>NaN</td>\n    </tr>\n    <tr>\n      <th>36</th>\n      <td>2015</td>\n      <td>East</td>\n      <td>E12000006</td>\n      <td>265375</td>\n      <td>35440</td>\n      <td>13.4</td>\n      <td>26790</td>\n      <td>10.1</td>\n      <td>3053000</td>\n      <td>0.81</td>\n      <td>3.9</td>\n      <td>NaN</td>\n      <td>NaN</td>\n      <td>NaN</td>\n    </tr>\n    <tr>\n      <th>37</th>\n      <td>2015</td>\n      <td>London</td>\n      <td>E12000007</td>\n      <td>541310</td>\n      <td>100920</td>\n      <td>18.6</td>\n      <td>63750</td>\n      <td>11.8</td>\n      <td>5810000</td>\n      <td>0.98</td>\n      <td>6.1</td>\n      <td>NaN</td>\n      <td>NaN</td>\n      <td>NaN</td>\n    </tr>\n    <tr>\n      <th>38</th>\n      <td>2015</td>\n      <td>South East</td>\n      <td>E12000008</td>\n      <td>420270</td>\n      <td>55590</td>\n      <td>13.2</td>\n      <td>42065</td>\n      <td>10.0</td>\n      <td>4836000</td>\n      <td>0.87</td>\n      <td>4.2</td>\n      <td>NaN</td>\n      <td>NaN</td>\n      <td>NaN</td>\n    </tr>\n    <tr>\n      <th>39</th>\n      <td>2015</td>\n      <td>South West</td>\n      <td>E12000009</td>\n      <td>222015</td>\n      <td>26150</td>\n      <td>11.8</td>\n      <td>21555</td>\n      <td>9.7</td>\n      <td>2904000</td>\n      <td>0.87</td>\n      <td>3.9</td>\n      <td>NaN</td>\n      <td>NaN</td>\n      <td>NaN</td>\n    </tr>\n    <tr>\n      <th>40</th>\n      <td>2015</td>\n      <td>England</td>\n      <td>E92000001</td>\n      <td>2347740</td>\n      <td>344065</td>\n      <td>14.7</td>\n      <td>249995</td>\n      <td>10.6</td>\n      <td>29219000</td>\n      <td>0.84</td>\n      <td>5.1</td>\n      <td>NaN</td>\n      <td>NaN</td>\n      <td>NaN</td>\n    </tr>\n    <tr>\n      <th>41</th>\n      <td>2015</td>\n      <td>Wales</td>\n      <td>W92000004</td>\n      <td>95010</td>\n      <td>11525</td>\n      <td>12.1</td>\n      <td>9620</td>\n      <td>10.1</td>\n      <td>1433000</td>\n      <td>0.75</td>\n      <td>5.9</td>\n      <td>NaN</td>\n      <td>NaN</td>\n      <td>NaN</td>\n    </tr>\n    <tr>\n      <th>42</th>\n      <td>2015</td>\n      <td>Scotland</td>\n      <td>S92000003</td>\n      <td>172890</td>\n      <td>21725</td>\n      <td>12.6</td>\n      <td>18260</td>\n      <td>10.6</td>\n      <td>2758000</td>\n      <td>0.79</td>\n      <td>5.8</td>\n      <td>NaN</td>\n      <td>NaN</td>\n      <td>NaN</td>\n    </tr>\n    <tr>\n      <th>43</th>\n      <td>2015</td>\n      <td>Great Britain</td>\n      <td>K03000001</td>\n      <td>2615640</td>\n      <td>377315</td>\n      <td>14.4</td>\n      <td>277875</td>\n      <td>10.6</td>\n      <td>33409000</td>\n      <td>0.83</td>\n      <td>5.2</td>\n      <td>NaN</td>\n      <td>NaN</td>\n      <td>NaN</td>\n    </tr>\n  </tbody>\n</table>\n</div>",
            "text/plain": "    year                    area       code  active_enterprises  births  \\\n0   2015    Barking and Dagenham  E09000002                6560    1665   \n1   2015                  Barnet  E09000003               26190    4460   \n2   2015                  Bexley  E09000004                9075    1605   \n3   2015                   Brent  E09000005               15745    2895   \n4   2015                 Bromley  E09000006               15695    2340   \n5   2015                  Camden  E09000007               31385    5445   \n6   2015                 Croydon  E09000008               15540    2695   \n7   2015                  Ealing  E09000009               18700    3420   \n8   2015                 Enfield  E09000010               13925    2520   \n9   2015               Greenwich  E09000011               10060    2260   \n10  2015                 Hackney  E09000012               18510    4105   \n11  2015  Hammersmith and Fulham  E09000013               14095    2560   \n12  2015                Haringey  E09000014               12675    2350   \n13  2015                  Harrow  E09000015               15155    2605   \n14  2015                Havering  E09000016               10115    1720   \n15  2015              Hillingdon  E09000017               13505    2310   \n16  2015                Hounslow  E09000018               13910    2525   \n17  2015               Islington  E09000019               22110    5470   \n18  2015  Kensington and Chelsea  E09000020               14350    2355   \n19  2015    Kingston upon Thames  E09000021                8970    1370   \n20  2015                 Lambeth  E09000022               17280    3425   \n21  2015                Lewisham  E09000023               10405    2045   \n22  2015                  Merton  E09000024               12070    2225   \n23  2015                  Newham  E09000025               11055    2860   \n24  2015               Redbridge  E09000026               14595    3150   \n25  2015    Richmond upon Thames  E09000027               14185    2025   \n26  2015               Southwark  E09000028               17120    3135   \n27  2015                  Sutton  E09000029                8710    1345   \n28  2015           Tower Hamlets  E09000030               18390    3920   \n29  2015          Waltham Forest  E09000031               11020    2490   \n30  2015              Wandsworth  E09000032               18695    3600   \n31  2015             Westminster  E09000033               55385    9060   \n32  2015              North East  E12000001               71010    9635   \n33  2015              North West  E12000002              259740   36495   \n34  2015           East Midlands  E12000004              176220   25345   \n35  2015           West Midlands  E12000005              207980   29350   \n36  2015                    East  E12000006              265375   35440   \n37  2015                  London  E12000007              541310  100920   \n38  2015              South East  E12000008              420270   55590   \n39  2015              South West  E12000009              222015   26150   \n40  2015                 England  E92000001             2347740  344065   \n41  2015                   Wales  W92000004               95010   11525   \n42  2015                Scotland  S92000003              172890   21725   \n43  2015           Great Britain  K03000001             2615640  377315   \n\n    birth_rate  deaths  death_rate  number_of_jobs  job_density  \\\n0         25.4     765        11.7           62000         0.48   \n1         17.0    3410        13.0          168000         0.68   \n2         17.7     945        10.4           86000         0.57   \n3         18.4    1800        11.4          136000         0.62   \n4         14.9    1620        10.3          124000         0.61   \n5         17.3    3415        10.9          383000         2.21   \n6         17.3    1785        11.5          144000         0.58   \n7         18.3    2065        11.0          163000         0.71   \n8         18.1    1740        12.5          133000         0.63   \n9         22.5    1200        11.9           96000         0.51   \n10        22.2    2025        10.9          136000         0.70   \n11        18.2    1740        12.3          154000         1.16   \n12        18.5    1425        11.2           93000         0.49   \n13        17.2    1805        11.9           88000         0.55   \n14        17.0    1085        10.7           93000         0.60   \n15        17.1    1450        10.7          202000         1.04   \n16        18.2    1565        11.3          187000         1.04   \n17        24.7    4090        18.5          250000         1.46   \n18        16.4    1455        10.1          150000         1.36   \n19        15.3     890         9.9           95000         0.82   \n20        19.8    2620        15.2          185000         0.77   \n21        19.7    1290        12.4           83000         0.40   \n22        18.4    1300        10.8           98000         0.70   \n23        25.9    1450        13.1          114000         0.48   \n24        21.6    1960        13.4           92000         0.47   \n25        14.3    1370         9.7          102000         0.82   \n26        18.3    1970        11.5          289000         1.28   \n27        15.4     990        11.4           80000         0.62   \n28        21.3    2450        13.3          298000         1.37   \n29        22.6    1320        12.0           86000         0.47   \n30        19.3    2180        11.7          144000         0.61   \n31        16.4    6305        11.4          756000         4.42   \n32        13.6    7710        10.9         1196000         0.72   \n33        14.1   29380        11.3         3603000         0.80   \n34        14.4   18280        10.4         2304000         0.78   \n35        14.1   21450        10.3         2818000         0.79   \n36        13.4   26790        10.1         3053000         0.81   \n37        18.6   63750        11.8         5810000         0.98   \n38        13.2   42065        10.0         4836000         0.87   \n39        11.8   21555         9.7         2904000         0.87   \n40        14.7  249995        10.6        29219000         0.84   \n41        12.1    9620        10.1         1433000         0.75   \n42        12.6   18260        10.6         2758000         0.79   \n43        14.4  277875        10.6        33409000         0.83   \n\n    unemployment_rate vacancies hard-to-fill_vacancies  \\\n0                 9.7      1627                    522   \n1                 5.8      5011                   1488   \n2                 6.0      4197                    832   \n3                 7.1      5702                   1841   \n4                 4.9      4947                   1673   \n5                 5.5     12346                   2162   \n6                 5.3      4444                   1683   \n7                 6.1      7009                   1768   \n8                 5.9      3668                   1658   \n9                 6.8      2155                    710   \n10                6.7      2844                    589   \n11                6.1      5802                   1207   \n12                6.7      2171                    303   \n13                4.5      1920                    427   \n14                6.0      2621                    637   \n15                5.8      8359                   1715   \n16                5.1      6429                   1389   \n17                6.4     17906                   6009   \n18                5.1      5062                    928   \n19                4.9      2033                    727   \n20                6.1      4974                   1615   \n21                6.2      2142                    786   \n22                4.7      3058                    751   \n23                7.5      3185                    598   \n24                5.9      3495                   1309   \n25                4.3      2998                    802   \n26                6.7      8014                   1834   \n27                5.3      2790                    705   \n28                7.6     11369                   3315   \n29                6.5      2216                   1052   \n30                5.0      4569                   1288   \n31                6.3     24765                   6108   \n32                7.7       NaN                    NaN   \n33                5.3       NaN                    NaN   \n34                4.7       NaN                    NaN   \n35                5.8       NaN                    NaN   \n36                3.9       NaN                    NaN   \n37                6.1       NaN                    NaN   \n38                4.2       NaN                    NaN   \n39                3.9       NaN                    NaN   \n40                5.1       NaN                    NaN   \n41                5.9       NaN                    NaN   \n42                5.8       NaN                    NaN   \n43                5.2       NaN                    NaN   \n\n   skills-shortage_vacancies  \n0                        404  \n1                       1284  \n2                        586  \n3                       1394  \n4                        532  \n5                       1883  \n6                       1043  \n7                       1462  \n8                        880  \n9                        540  \n10                       523  \n11                       824  \n12                       265  \n13                       288  \n14                       474  \n15                      1323  \n16                      1003  \n17                      5919  \n18                       766  \n19                       304  \n20                      1242  \n21                       716  \n22                       480  \n23                       382  \n24                      1065  \n25                       432  \n26                      1766  \n27                       503  \n28                      3133  \n29                       827  \n30                       998  \n31                      5487  \n32                       NaN  \n33                       NaN  \n34                       NaN  \n35                       NaN  \n36                       NaN  \n37                       NaN  \n38                       NaN  \n39                       NaN  \n40                       NaN  \n41                       NaN  \n42                       NaN  \n43                       NaN  "
          },
          "metadata": {}
        }
      ]
    },
    {
      "metadata": {
        "trusted": true
      },
      "cell_type": "code",
      "source": "PROC_DATA_PATH = '~/library/data/processed/'\ndf2015_joined.to_csv(PROC_DATA_PATH + 'unemployment_vacancies2015.csv')",
      "execution_count": 95,
      "outputs": []
    },
    {
      "metadata": {
        "trusted": true
      },
      "cell_type": "code",
      "source": "",
      "execution_count": null,
      "outputs": []
    }
  ],
  "metadata": {
    "kernelspec": {
      "name": "python36",
      "display_name": "Python 3.6",
      "language": "python"
    },
    "language_info": {
      "mimetype": "text/x-python",
      "nbconvert_exporter": "python",
      "name": "python",
      "pygments_lexer": "ipython3",
      "version": "3.6.6",
      "file_extension": ".py",
      "codemirror_mode": {
        "version": 3,
        "name": "ipython"
      }
    }
  },
  "nbformat": 4,
  "nbformat_minor": 2
}