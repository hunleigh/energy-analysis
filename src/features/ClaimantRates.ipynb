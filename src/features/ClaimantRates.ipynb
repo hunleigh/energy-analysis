{
  "cells": [
    {
      "metadata": {},
      "cell_type": "markdown",
      "source": "## Preparation\n\n- upload Claimant Count 2015 xlsx (https://data.london.gov.uk/download/gla-claimant-count-model-output/719455d6-d086-45c6-b389-5e7903e5ae20/Claimant%20Count%20Model%202015.xls) to '.data'\n- upload Claimant Count 2014 xlsx (https://data.london.gov.uk/download/gla-claimant-count-model-output/dad61dbd-1e97-420e-8eac-cfc7e19a71f8/Claimant%20Count%20Model%202014.xls) to '.data'\n- upload Claimant Count 2013 xlsx (https://data.london.gov.uk/download/gla-claimant-count-model-output/e945ca02-dd4d-42d5-b615-4f105ea43e66/Claimant%20Count%20Model%202013.xls) to '.data'\n- upload Claimant Count 2012 xlsx (https://data.london.gov.uk/download/gla-claimant-count-model-output/595c5848-fe4a-4b23-8670-25285b878c29/Claimant%20Count%20Model%202012.xls) to '.data'\n- upload Claimant Count 2011 xlsx (https://data.london.gov.uk/download/gla-claimant-count-model-output/e308d40d-42e0-461e-8259-4f5abc5c7136/Claimant%20Count%20Model%202011.xls) to '.data'"
    },
    {
      "metadata": {
        "trusted": true
      },
      "cell_type": "code",
      "source": "!mkdir data",
      "execution_count": null,
      "outputs": []
    },
    {
      "metadata": {
        "trusted": true,
        "scrolled": false
      },
      "cell_type": "code",
      "source": "!pip install openpyxl\nimport pandas as pd\nimport numpy as np",
      "execution_count": 1,
      "outputs": [
        {
          "output_type": "stream",
          "text": "Requirement already satisfied: openpyxl in /home/nbuser/anaconda3_501/lib/python3.6/site-packages (2.5.8)\nRequirement already satisfied: jdcal in /home/nbuser/anaconda3_501/lib/python3.6/site-packages (from openpyxl) (1.4)\nRequirement already satisfied: et-xmlfile in /home/nbuser/anaconda3_501/lib/python3.6/site-packages (from openpyxl) (1.0.1)\n",
          "name": "stdout"
        }
      ]
    },
    {
      "metadata": {
        "trusted": true
      },
      "cell_type": "code",
      "source": "from openpyxl import load_workbook",
      "execution_count": 2,
      "outputs": []
    },
    {
      "metadata": {},
      "cell_type": "markdown",
      "source": "### Extracting GLA claimant count rates for 18-24 year old economically active residents"
    },
    {
      "metadata": {
        "trusted": true
      },
      "cell_type": "code",
      "source": "wb = load_workbook('./data/Claimant Count Model 2015.xlsx', data_only=True)\nws = wb[\"December - Rates\"] #december was chosen randomly\ndf = pd.DataFrame(ws.values)\nr15 = df[21] #column 21 contains the claimant rates amongst 18-24 year old economically active residents",
      "execution_count": 10,
      "outputs": []
    },
    {
      "metadata": {
        "trusted": true
      },
      "cell_type": "code",
      "source": "wb = load_workbook('./data/Claimant Count Model 2014.xlsx', data_only=True)\nws = wb[\"December - Rates\"]\ndf = pd.DataFrame(ws.values)\nr14 = df[21]",
      "execution_count": 12,
      "outputs": []
    },
    {
      "metadata": {
        "trusted": true
      },
      "cell_type": "code",
      "source": "wb = load_workbook('./data/Claimant Count Model 2013.xlsx', data_only=True)\nws = wb[\"December - Rates\"]\ndf = pd.DataFrame(ws.values)\nr13 = df[21]",
      "execution_count": 13,
      "outputs": []
    },
    {
      "metadata": {
        "trusted": true
      },
      "cell_type": "code",
      "source": "wb = load_workbook('./data/Claimant Count Model 2012.xlsx', data_only=True)\nws = wb[\"December - Rates\"]\ndf = pd.DataFrame(ws.values)\nr12 = df[21]",
      "execution_count": 14,
      "outputs": []
    },
    {
      "metadata": {
        "trusted": true
      },
      "cell_type": "code",
      "source": "wb = load_workbook('./data/Claimant Count Model 2011.xlsx', data_only=True)\nws = wb[\"December - Rates\"]\ndf = pd.DataFrame(ws.values)\nr11 = df[21]",
      "execution_count": 15,
      "outputs": []
    },
    {
      "metadata": {
        "trusted": true
      },
      "cell_type": "code",
      "source": "bulk = df.iloc[::, 6:]",
      "execution_count": 19,
      "outputs": []
    },
    {
      "metadata": {
        "trusted": true
      },
      "cell_type": "code",
      "source": "df.drop(bulk, axis=1, inplace=True) #only leaving the area key",
      "execution_count": 20,
      "outputs": []
    },
    {
      "metadata": {
        "trusted": true
      },
      "cell_type": "code",
      "source": "df = pd.concat([df, r11], axis=1)\ndf = pd.concat([df, r12], axis=1)\ndf = pd.concat([df, r13], axis=1)\ndf = pd.concat([df, r14], axis=1)\ndf = pd.concat([df, r15], axis=1)",
      "execution_count": 21,
      "outputs": [
        {
          "output_type": "execute_result",
          "execution_count": 21,
          "data": {
            "text/html": "<div>\n<style scoped>\n    .dataframe tbody tr th:only-of-type {\n        vertical-align: middle;\n    }\n\n    .dataframe tbody tr th {\n        vertical-align: top;\n    }\n\n    .dataframe thead th {\n        text-align: right;\n    }\n</style>\n<table border=\"1\" class=\"dataframe\">\n  <thead>\n    <tr style=\"text-align: right;\">\n      <th></th>\n      <th>0</th>\n      <th>1</th>\n      <th>2</th>\n      <th>3</th>\n      <th>4</th>\n      <th>5</th>\n      <th>21</th>\n      <th>21</th>\n      <th>21</th>\n      <th>21</th>\n      <th>21</th>\n    </tr>\n  </thead>\n  <tbody>\n    <tr>\n      <th>0</th>\n      <td>Claimant count by age, duration &amp; gender, summ...</td>\n      <td>None</td>\n      <td>None</td>\n      <td>None</td>\n      <td>None</td>\n      <td>None</td>\n      <td>None</td>\n      <td>None</td>\n      <td>None</td>\n      <td>None</td>\n      <td>None</td>\n    </tr>\n    <tr>\n      <th>1</th>\n      <td>None</td>\n      <td>MONTH</td>\n      <td>None</td>\n      <td>None</td>\n      <td>None</td>\n      <td>None</td>\n      <td>None</td>\n      <td>None</td>\n      <td>None</td>\n      <td>None</td>\n      <td>None</td>\n    </tr>\n    <tr>\n      <th>2</th>\n      <td>None</td>\n      <td>December</td>\n      <td>None</td>\n      <td>None</td>\n      <td>None</td>\n      <td>None</td>\n      <td>Rates</td>\n      <td>Rates</td>\n      <td>Rates</td>\n      <td>Rates</td>\n      <td>Rates</td>\n    </tr>\n    <tr>\n      <th>3</th>\n      <td>None</td>\n      <td>None</td>\n      <td>None</td>\n      <td>None</td>\n      <td>None</td>\n      <td>Names appear on tables</td>\n      <td>Persons</td>\n      <td>Persons</td>\n      <td>Persons</td>\n      <td>Persons</td>\n      <td>Persons</td>\n    </tr>\n    <tr>\n      <th>4</th>\n      <td>None</td>\n      <td>NOMIS ward order - check</td>\n      <td>None</td>\n      <td>Code</td>\n      <td>Borough</td>\n      <td>Ward</td>\n      <td>18-24</td>\n      <td>18-24</td>\n      <td>18-24</td>\n      <td>18-24</td>\n      <td>18-24</td>\n    </tr>\n    <tr>\n      <th>5</th>\n      <td>1</td>\n      <td>wardcas:00ABFX : Abbey</td>\n      <td>E05000026</td>\n      <td>00ABFX</td>\n      <td>Barking &amp; Dagenham</td>\n      <td>Abbey</td>\n      <td>24.7604</td>\n      <td>23.0375</td>\n      <td>20</td>\n      <td>12.3457</td>\n      <td>7.35294</td>\n    </tr>\n    <tr>\n      <th>6</th>\n      <td>2</td>\n      <td>wardcas:00ABFY : Alibon</td>\n      <td>E05000027</td>\n      <td>00ABFY</td>\n      <td>Barking &amp; Dagenham</td>\n      <td>Alibon</td>\n      <td>23.5935</td>\n      <td>17.6991</td>\n      <td>11.0544</td>\n      <td>5.62701</td>\n      <td>3.5461</td>\n    </tr>\n    <tr>\n      <th>7</th>\n      <td>3</td>\n      <td>wardcas:00ABFZ : Becontree</td>\n      <td>E05000028</td>\n      <td>00ABFZ</td>\n      <td>Barking &amp; Dagenham</td>\n      <td>Becontree</td>\n      <td>24.0864</td>\n      <td>17.638</td>\n      <td>15.9884</td>\n      <td>8.63214</td>\n      <td>3.41997</td>\n    </tr>\n    <tr>\n      <th>8</th>\n      <td>4</td>\n      <td>wardcas:00ABGA : Chadwell Heath</td>\n      <td>E05000029</td>\n      <td>00ABGA</td>\n      <td>Barking &amp; Dagenham</td>\n      <td>Chadwell Heath</td>\n      <td>22.0729</td>\n      <td>16.5441</td>\n      <td>9.96377</td>\n      <td>6.86106</td>\n      <td>2.59067</td>\n    </tr>\n    <tr>\n      <th>9</th>\n      <td>5</td>\n      <td>wardcas:00ABGB : Eastbrook</td>\n      <td>E05000030</td>\n      <td>00ABGB</td>\n      <td>Barking &amp; Dagenham</td>\n      <td>Eastbrook</td>\n      <td>25.0358</td>\n      <td>18.9295</td>\n      <td>10.5198</td>\n      <td>6.53207</td>\n      <td>6.30517</td>\n    </tr>\n    <tr>\n      <th>10</th>\n      <td>6</td>\n      <td>wardcas:00ABGC : Eastbury</td>\n      <td>E05000031</td>\n      <td>00ABGC</td>\n      <td>Barking &amp; Dagenham</td>\n      <td>Eastbury</td>\n      <td>25.2252</td>\n      <td>21.5517</td>\n      <td>13.2979</td>\n      <td>8.16993</td>\n      <td>3.3557</td>\n    </tr>\n    <tr>\n      <th>11</th>\n      <td>7</td>\n      <td>wardcas:00ABGD : Gascoigne</td>\n      <td>E05000032</td>\n      <td>00ABGD</td>\n      <td>Barking &amp; Dagenham</td>\n      <td>Gascoigne</td>\n      <td>23.0326</td>\n      <td>18.2815</td>\n      <td>12.5</td>\n      <td>7.34095</td>\n      <td>3.68324</td>\n    </tr>\n    <tr>\n      <th>12</th>\n      <td>8</td>\n      <td>wardcas:00ABGE : Goresbrook</td>\n      <td>E05000033</td>\n      <td>00ABGE</td>\n      <td>Barking &amp; Dagenham</td>\n      <td>Goresbrook</td>\n      <td>25.5941</td>\n      <td>21.7014</td>\n      <td>16.184</td>\n      <td>8.6478</td>\n      <td>8.29876</td>\n    </tr>\n    <tr>\n      <th>13</th>\n      <td>9</td>\n      <td>wardcas:00ABGF : Heath</td>\n      <td>E05000034</td>\n      <td>00ABGF</td>\n      <td>Barking &amp; Dagenham</td>\n      <td>Heath</td>\n      <td>26.087</td>\n      <td>20.0669</td>\n      <td>14.0264</td>\n      <td>6.30915</td>\n      <td>4.92611</td>\n    </tr>\n    <tr>\n      <th>14</th>\n      <td>10</td>\n      <td>wardcas:00ABGG : Longbridge</td>\n      <td>E05000035</td>\n      <td>00ABGG</td>\n      <td>Barking &amp; Dagenham</td>\n      <td>Longbridge</td>\n      <td>13.9969</td>\n      <td>10.3245</td>\n      <td>8.49858</td>\n      <td>5.9761</td>\n      <td>4.84653</td>\n    </tr>\n    <tr>\n      <th>15</th>\n      <td>11</td>\n      <td>wardcas:00ABGH : Mayesbrook</td>\n      <td>E05000036</td>\n      <td>00ABGH</td>\n      <td>Barking &amp; Dagenham</td>\n      <td>Mayesbrook</td>\n      <td>22.8571</td>\n      <td>16.2162</td>\n      <td>13.2979</td>\n      <td>7.5</td>\n      <td>2.7027</td>\n    </tr>\n    <tr>\n      <th>16</th>\n      <td>12</td>\n      <td>wardcas:00ABGJ : Parsloes</td>\n      <td>E05000037</td>\n      <td>00ABGJ</td>\n      <td>Barking &amp; Dagenham</td>\n      <td>Parsloes</td>\n      <td>19.6078</td>\n      <td>12.1495</td>\n      <td>9.94575</td>\n      <td>6.86106</td>\n      <td>2.6455</td>\n    </tr>\n    <tr>\n      <th>17</th>\n      <td>13</td>\n      <td>wardcas:00ABGK : River</td>\n      <td>E05000038</td>\n      <td>00ABGK</td>\n      <td>Barking &amp; Dagenham</td>\n      <td>River</td>\n      <td>21.0526</td>\n      <td>15.748</td>\n      <td>8.98204</td>\n      <td>6.15595</td>\n      <td>4.90196</td>\n    </tr>\n    <tr>\n      <th>18</th>\n      <td>14</td>\n      <td>wardcas:00ABGL : Thames</td>\n      <td>E05000039</td>\n      <td>00ABGL</td>\n      <td>Barking &amp; Dagenham</td>\n      <td>Thames</td>\n      <td>23.1911</td>\n      <td>15.2439</td>\n      <td>9.96016</td>\n      <td>6.17284</td>\n      <td>5.14801</td>\n    </tr>\n    <tr>\n      <th>19</th>\n      <td>15</td>\n      <td>wardcas:00ABGM : Valence</td>\n      <td>E05000040</td>\n      <td>00ABGM</td>\n      <td>Barking &amp; Dagenham</td>\n      <td>Valence</td>\n      <td>25.6148</td>\n      <td>14.1129</td>\n      <td>14.4509</td>\n      <td>6.23886</td>\n      <td>4.3554</td>\n    </tr>\n    <tr>\n      <th>20</th>\n      <td>16</td>\n      <td>wardcas:00ABGN : Village</td>\n      <td>E05000041</td>\n      <td>00ABGN</td>\n      <td>Barking &amp; Dagenham</td>\n      <td>Village</td>\n      <td>25.8765</td>\n      <td>19.6399</td>\n      <td>13.0506</td>\n      <td>9.23077</td>\n      <td>3.82848</td>\n    </tr>\n    <tr>\n      <th>21</th>\n      <td>17</td>\n      <td>wardcas:00ABGP : Whalebone</td>\n      <td>E05000042</td>\n      <td>00ABGP</td>\n      <td>Barking &amp; Dagenham</td>\n      <td>Whalebone</td>\n      <td>17.5277</td>\n      <td>11.4236</td>\n      <td>9.63222</td>\n      <td>4.99168</td>\n      <td>1.92308</td>\n    </tr>\n    <tr>\n      <th>22</th>\n      <td>18</td>\n      <td>wardcas:00ACFX : Brunswick Park</td>\n      <td>E05000043</td>\n      <td>00ACFX</td>\n      <td>Barnet</td>\n      <td>Brunswick Park</td>\n      <td>13.0368</td>\n      <td>7.60719</td>\n      <td>5.35475</td>\n      <td>3.07503</td>\n      <td>2.20264</td>\n    </tr>\n    <tr>\n      <th>23</th>\n      <td>19</td>\n      <td>wardcas:00ACFY : Burnt Oak</td>\n      <td>E05000044</td>\n      <td>00ACFY</td>\n      <td>Barnet</td>\n      <td>Burnt Oak</td>\n      <td>15.3374</td>\n      <td>12.3384</td>\n      <td>8.00915</td>\n      <td>5.30223</td>\n      <td>2.68817</td>\n    </tr>\n    <tr>\n      <th>24</th>\n      <td>20</td>\n      <td>wardcas:00ACFZ : Childs Hill</td>\n      <td>E05000045</td>\n      <td>00ACFZ</td>\n      <td>Barnet</td>\n      <td>Childs Hill</td>\n      <td>9.34066</td>\n      <td>7.23026</td>\n      <td>6.22172</td>\n      <td>3.71156</td>\n      <td>2.1097</td>\n    </tr>\n    <tr>\n      <th>25</th>\n      <td>21</td>\n      <td>wardcas:00ACGA : Colindale</td>\n      <td>E05000046</td>\n      <td>00ACGA</td>\n      <td>Barnet</td>\n      <td>Colindale</td>\n      <td>11.8734</td>\n      <td>8.27301</td>\n      <td>5.8296</td>\n      <td>4.85437</td>\n      <td>3.84287</td>\n    </tr>\n    <tr>\n      <th>26</th>\n      <td>22</td>\n      <td>wardcas:00ACGB : Coppetts</td>\n      <td>E05000047</td>\n      <td>00ACGB</td>\n      <td>Barnet</td>\n      <td>Coppetts</td>\n      <td>9.56633</td>\n      <td>8.78294</td>\n      <td>7.23684</td>\n      <td>4.36409</td>\n      <td>1.85874</td>\n    </tr>\n    <tr>\n      <th>27</th>\n      <td>23</td>\n      <td>wardcas:00ACGC : East Barnet</td>\n      <td>E05000048</td>\n      <td>00ACGC</td>\n      <td>Barnet</td>\n      <td>East Barnet</td>\n      <td>11.4449</td>\n      <td>10.218</td>\n      <td>6.08931</td>\n      <td>3.20924</td>\n      <td>1.39276</td>\n    </tr>\n    <tr>\n      <th>28</th>\n      <td>24</td>\n      <td>wardcas:00ACGD : East Finchley</td>\n      <td>E05000049</td>\n      <td>00ACGD</td>\n      <td>Barnet</td>\n      <td>East Finchley</td>\n      <td>9.52381</td>\n      <td>9.18079</td>\n      <td>5.97015</td>\n      <td>3.53607</td>\n      <td>3.08166</td>\n    </tr>\n    <tr>\n      <th>29</th>\n      <td>25</td>\n      <td>wardcas:00ACGE : Edgware</td>\n      <td>E05000050</td>\n      <td>00ACGE</td>\n      <td>Barnet</td>\n      <td>Edgware</td>\n      <td>11.471</td>\n      <td>5.89005</td>\n      <td>5.91327</td>\n      <td>1.87032</td>\n      <td>1.95059</td>\n    </tr>\n    <tr>\n      <th>...</th>\n      <td>...</td>\n      <td>...</td>\n      <td>...</td>\n      <td>...</td>\n      <td>...</td>\n      <td>...</td>\n      <td>...</td>\n      <td>...</td>\n      <td>...</td>\n      <td>...</td>\n      <td>...</td>\n    </tr>\n    <tr>\n      <th>658</th>\n      <td>29</td>\n      <td>User Defined Geography:Sutton</td>\n      <td>E09000029</td>\n      <td>0</td>\n      <td>Outer</td>\n      <td>Sutton</td>\n      <td>9.60939</td>\n      <td>7.26774</td>\n      <td>5.25707</td>\n      <td>3.39284</td>\n      <td>2.27609</td>\n    </tr>\n    <tr>\n      <th>659</th>\n      <td>30</td>\n      <td>User Defined Geography:Tower Hamlets</td>\n      <td>E09000030</td>\n      <td>0</td>\n      <td>Inner</td>\n      <td>Tower Hamlets</td>\n      <td>18.74</td>\n      <td>16.041</td>\n      <td>10.9196</td>\n      <td>7.27536</td>\n      <td>3.19014</td>\n    </tr>\n    <tr>\n      <th>660</th>\n      <td>31</td>\n      <td>User Defined Geography:Waltham Forest</td>\n      <td>E09000031</td>\n      <td>0</td>\n      <td>Outer</td>\n      <td>Waltham Forest</td>\n      <td>19.7234</td>\n      <td>16.9703</td>\n      <td>12.265</td>\n      <td>7.95737</td>\n      <td>3.4522</td>\n    </tr>\n    <tr>\n      <th>661</th>\n      <td>32</td>\n      <td>User Defined Geography:Wandsworth</td>\n      <td>E09000032</td>\n      <td>0</td>\n      <td>Inner</td>\n      <td>Wandsworth</td>\n      <td>9.35954</td>\n      <td>7.43155</td>\n      <td>4.99936</td>\n      <td>3.09284</td>\n      <td>2.5992</td>\n    </tr>\n    <tr>\n      <th>662</th>\n      <td>33</td>\n      <td>User Defined Geography:Westminster</td>\n      <td>E09000033</td>\n      <td>0</td>\n      <td>Inner</td>\n      <td>Westminster</td>\n      <td>12.5492</td>\n      <td>8.25576</td>\n      <td>6.07462</td>\n      <td>3.42037</td>\n      <td>3.45691</td>\n    </tr>\n    <tr>\n      <th>663</th>\n      <td>None</td>\n      <td>None</td>\n      <td>None</td>\n      <td>None</td>\n      <td>None</td>\n      <td>None</td>\n      <td>None</td>\n      <td>None</td>\n      <td>None</td>\n      <td>None</td>\n      <td>None</td>\n    </tr>\n    <tr>\n      <th>664</th>\n      <td>None</td>\n      <td>None</td>\n      <td>E13000001</td>\n      <td>0</td>\n      <td>0</td>\n      <td>Inner London</td>\n      <td>15.7734</td>\n      <td>12.4919</td>\n      <td>8.7826</td>\n      <td>5.70256</td>\n      <td>4.05915</td>\n    </tr>\n    <tr>\n      <th>665</th>\n      <td>None</td>\n      <td>None</td>\n      <td>E13000002</td>\n      <td>0</td>\n      <td>0</td>\n      <td>Outer London</td>\n      <td>13.34</td>\n      <td>10.6578</td>\n      <td>7.71791</td>\n      <td>4.91203</td>\n      <td>3.22718</td>\n    </tr>\n    <tr>\n      <th>666</th>\n      <td>None</td>\n      <td>None</td>\n      <td>E12000007</td>\n      <td>0</td>\n      <td>0</td>\n      <td>London</td>\n      <td>14.34</td>\n      <td>11.4141</td>\n      <td>8.15765</td>\n      <td>5.24108</td>\n      <td>3.57434</td>\n    </tr>\n    <tr>\n      <th>667</th>\n      <td>None</td>\n      <td>country:England</td>\n      <td>E92000001</td>\n      <td>0</td>\n      <td>0</td>\n      <td>England</td>\n      <td>13.8557</td>\n      <td>11.8935</td>\n      <td>8.68241</td>\n      <td>5.07879</td>\n      <td>3.07478</td>\n    </tr>\n    <tr>\n      <th>668</th>\n      <td>None</td>\n      <td>country:England and Wales</td>\n      <td>K04000001</td>\n      <td>0</td>\n      <td>0</td>\n      <td>England and Wales</td>\n      <td>13.9883</td>\n      <td>11.8358</td>\n      <td>8.68376</td>\n      <td>5.15024</td>\n      <td>3.15472</td>\n    </tr>\n    <tr>\n      <th>669</th>\n      <td>None</td>\n      <td>None</td>\n      <td>None</td>\n      <td>None</td>\n      <td>None</td>\n      <td>None</td>\n      <td>None</td>\n      <td>None</td>\n      <td>None</td>\n      <td>None</td>\n      <td>None</td>\n    </tr>\n    <tr>\n      <th>670</th>\n      <td>None</td>\n      <td>None</td>\n      <td>None</td>\n      <td>None</td>\n      <td>None</td>\n      <td>None</td>\n      <td>None</td>\n      <td>None</td>\n      <td>None</td>\n      <td>None</td>\n      <td>None</td>\n    </tr>\n    <tr>\n      <th>671</th>\n      <td>None</td>\n      <td>None</td>\n      <td>None</td>\n      <td>None</td>\n      <td>None</td>\n      <td>None</td>\n      <td>None</td>\n      <td>None</td>\n      <td>None</td>\n      <td>None</td>\n      <td>None</td>\n    </tr>\n    <tr>\n      <th>672</th>\n      <td>1</td>\n      <td>None</td>\n      <td>0</td>\n      <td>0</td>\n      <td>0</td>\n      <td>Barnet &amp; Camden</td>\n      <td>11.3641</td>\n      <td>8.25176</td>\n      <td>5.88069</td>\n      <td>4.04567</td>\n      <td>2.61381</td>\n    </tr>\n    <tr>\n      <th>673</th>\n      <td>2</td>\n      <td>None</td>\n      <td>0</td>\n      <td>0</td>\n      <td>0</td>\n      <td>Bexley &amp; Bromley</td>\n      <td>10.5554</td>\n      <td>8.14621</td>\n      <td>5.78541</td>\n      <td>3.63104</td>\n      <td>2.69427</td>\n    </tr>\n    <tr>\n      <th>674</th>\n      <td>3</td>\n      <td>None</td>\n      <td>0</td>\n      <td>0</td>\n      <td>0</td>\n      <td>Brent &amp; Harrow</td>\n      <td>12.7124</td>\n      <td>10.3204</td>\n      <td>7.85296</td>\n      <td>5.36568</td>\n      <td>2.8251</td>\n    </tr>\n    <tr>\n      <th>675</th>\n      <td>4</td>\n      <td>None</td>\n      <td>0</td>\n      <td>0</td>\n      <td>0</td>\n      <td>City &amp; East London</td>\n      <td>19.5461</td>\n      <td>15.8552</td>\n      <td>10.982</td>\n      <td>7.09493</td>\n      <td>3.82517</td>\n    </tr>\n    <tr>\n      <th>676</th>\n      <td>5</td>\n      <td>None</td>\n      <td>0</td>\n      <td>0</td>\n      <td>0</td>\n      <td>Croydon &amp; Sutton</td>\n      <td>13.7673</td>\n      <td>11.0947</td>\n      <td>7.3368</td>\n      <td>4.66428</td>\n      <td>3.93066</td>\n    </tr>\n    <tr>\n      <th>677</th>\n      <td>6</td>\n      <td>None</td>\n      <td>0</td>\n      <td>0</td>\n      <td>0</td>\n      <td>Ealing &amp; Hillingdon</td>\n      <td>11.456</td>\n      <td>8.98081</td>\n      <td>7.03787</td>\n      <td>4.22954</td>\n      <td>2.70457</td>\n    </tr>\n    <tr>\n      <th>678</th>\n      <td>7</td>\n      <td>None</td>\n      <td>0</td>\n      <td>0</td>\n      <td>0</td>\n      <td>Enfield &amp; Haringey</td>\n      <td>19.7631</td>\n      <td>16.2673</td>\n      <td>11.5394</td>\n      <td>7.20987</td>\n      <td>4.35619</td>\n    </tr>\n    <tr>\n      <th>679</th>\n      <td>8</td>\n      <td>None</td>\n      <td>0</td>\n      <td>0</td>\n      <td>0</td>\n      <td>Greenwich &amp; Lewisham</td>\n      <td>17.8173</td>\n      <td>14.9981</td>\n      <td>10.144</td>\n      <td>6.83318</td>\n      <td>5.66451</td>\n    </tr>\n    <tr>\n      <th>680</th>\n      <td>9</td>\n      <td>None</td>\n      <td>0</td>\n      <td>0</td>\n      <td>0</td>\n      <td>Havering and Redbridge</td>\n      <td>13.2781</td>\n      <td>10.4884</td>\n      <td>7.44468</td>\n      <td>4.49624</td>\n      <td>3.65716</td>\n    </tr>\n    <tr>\n      <th>681</th>\n      <td>10</td>\n      <td>None</td>\n      <td>0</td>\n      <td>0</td>\n      <td>0</td>\n      <td>Lambeth &amp; Southwark</td>\n      <td>15.6634</td>\n      <td>12.2722</td>\n      <td>9.03064</td>\n      <td>5.66399</td>\n      <td>4.38018</td>\n    </tr>\n    <tr>\n      <th>682</th>\n      <td>11</td>\n      <td>None</td>\n      <td>0</td>\n      <td>0</td>\n      <td>0</td>\n      <td>Merton &amp; Wandsworth</td>\n      <td>10.0492</td>\n      <td>7.87467</td>\n      <td>5.63063</td>\n      <td>3.65585</td>\n      <td>3.0386</td>\n    </tr>\n    <tr>\n      <th>683</th>\n      <td>12</td>\n      <td>None</td>\n      <td>0</td>\n      <td>0</td>\n      <td>0</td>\n      <td>North East</td>\n      <td>17.9836</td>\n      <td>14.79</td>\n      <td>10.7226</td>\n      <td>6.9407</td>\n      <td>4.24203</td>\n    </tr>\n    <tr>\n      <th>684</th>\n      <td>13</td>\n      <td>None</td>\n      <td>0</td>\n      <td>0</td>\n      <td>0</td>\n      <td>South West</td>\n      <td>9.03578</td>\n      <td>7.33453</td>\n      <td>5.54897</td>\n      <td>3.79098</td>\n      <td>2.50381</td>\n    </tr>\n    <tr>\n      <th>685</th>\n      <td>14</td>\n      <td>None</td>\n      <td>0</td>\n      <td>0</td>\n      <td>0</td>\n      <td>West Central</td>\n      <td>11.7525</td>\n      <td>8.23148</td>\n      <td>6.03939</td>\n      <td>3.72325</td>\n      <td>2.93921</td>\n    </tr>\n    <tr>\n      <th>686</th>\n      <td>None</td>\n      <td>None</td>\n      <td>None</td>\n      <td>None</td>\n      <td>None</td>\n      <td>None</td>\n      <td>None</td>\n      <td>None</td>\n      <td>None</td>\n      <td>None</td>\n      <td>None</td>\n    </tr>\n    <tr>\n      <th>687</th>\n      <td>None</td>\n      <td>None</td>\n      <td>None</td>\n      <td>None</td>\n      <td>None</td>\n      <td>None</td>\n      <td>None</td>\n      <td>None</td>\n      <td>None</td>\n      <td>None</td>\n      <td>None</td>\n    </tr>\n  </tbody>\n</table>\n<p>688 rows × 11 columns</p>\n</div>",
            "text/plain": "                                                    0   \\\n0    Claimant count by age, duration & gender, summ...   \n1                                                 None   \n2                                                 None   \n3                                                 None   \n4                                                 None   \n5                                                    1   \n6                                                    2   \n7                                                    3   \n8                                                    4   \n9                                                    5   \n10                                                   6   \n11                                                   7   \n12                                                   8   \n13                                                   9   \n14                                                  10   \n15                                                  11   \n16                                                  12   \n17                                                  13   \n18                                                  14   \n19                                                  15   \n20                                                  16   \n21                                                  17   \n22                                                  18   \n23                                                  19   \n24                                                  20   \n25                                                  21   \n26                                                  22   \n27                                                  23   \n28                                                  24   \n29                                                  25   \n..                                                 ...   \n658                                                 29   \n659                                                 30   \n660                                                 31   \n661                                                 32   \n662                                                 33   \n663                                               None   \n664                                               None   \n665                                               None   \n666                                               None   \n667                                               None   \n668                                               None   \n669                                               None   \n670                                               None   \n671                                               None   \n672                                                  1   \n673                                                  2   \n674                                                  3   \n675                                                  4   \n676                                                  5   \n677                                                  6   \n678                                                  7   \n679                                                  8   \n680                                                  9   \n681                                                 10   \n682                                                 11   \n683                                                 12   \n684                                                 13   \n685                                                 14   \n686                                               None   \n687                                               None   \n\n                                        1          2       3   \\\n0                                     None       None    None   \n1                                    MONTH       None    None   \n2                                 December       None    None   \n3                                     None       None    None   \n4                 NOMIS ward order - check       None    Code   \n5                   wardcas:00ABFX : Abbey  E05000026  00ABFX   \n6                  wardcas:00ABFY : Alibon  E05000027  00ABFY   \n7               wardcas:00ABFZ : Becontree  E05000028  00ABFZ   \n8          wardcas:00ABGA : Chadwell Heath  E05000029  00ABGA   \n9               wardcas:00ABGB : Eastbrook  E05000030  00ABGB   \n10               wardcas:00ABGC : Eastbury  E05000031  00ABGC   \n11              wardcas:00ABGD : Gascoigne  E05000032  00ABGD   \n12             wardcas:00ABGE : Goresbrook  E05000033  00ABGE   \n13                  wardcas:00ABGF : Heath  E05000034  00ABGF   \n14             wardcas:00ABGG : Longbridge  E05000035  00ABGG   \n15             wardcas:00ABGH : Mayesbrook  E05000036  00ABGH   \n16               wardcas:00ABGJ : Parsloes  E05000037  00ABGJ   \n17                  wardcas:00ABGK : River  E05000038  00ABGK   \n18                 wardcas:00ABGL : Thames  E05000039  00ABGL   \n19                wardcas:00ABGM : Valence  E05000040  00ABGM   \n20                wardcas:00ABGN : Village  E05000041  00ABGN   \n21              wardcas:00ABGP : Whalebone  E05000042  00ABGP   \n22         wardcas:00ACFX : Brunswick Park  E05000043  00ACFX   \n23              wardcas:00ACFY : Burnt Oak  E05000044  00ACFY   \n24            wardcas:00ACFZ : Childs Hill  E05000045  00ACFZ   \n25              wardcas:00ACGA : Colindale  E05000046  00ACGA   \n26               wardcas:00ACGB : Coppetts  E05000047  00ACGB   \n27            wardcas:00ACGC : East Barnet  E05000048  00ACGC   \n28          wardcas:00ACGD : East Finchley  E05000049  00ACGD   \n29                wardcas:00ACGE : Edgware  E05000050  00ACGE   \n..                                     ...        ...     ...   \n658          User Defined Geography:Sutton  E09000029       0   \n659   User Defined Geography:Tower Hamlets  E09000030       0   \n660  User Defined Geography:Waltham Forest  E09000031       0   \n661      User Defined Geography:Wandsworth  E09000032       0   \n662     User Defined Geography:Westminster  E09000033       0   \n663                                   None       None    None   \n664                                   None  E13000001       0   \n665                                   None  E13000002       0   \n666                                   None  E12000007       0   \n667                        country:England  E92000001       0   \n668              country:England and Wales  K04000001       0   \n669                                   None       None    None   \n670                                   None       None    None   \n671                                   None       None    None   \n672                                   None          0       0   \n673                                   None          0       0   \n674                                   None          0       0   \n675                                   None          0       0   \n676                                   None          0       0   \n677                                   None          0       0   \n678                                   None          0       0   \n679                                   None          0       0   \n680                                   None          0       0   \n681                                   None          0       0   \n682                                   None          0       0   \n683                                   None          0       0   \n684                                   None          0       0   \n685                                   None          0       0   \n686                                   None       None    None   \n687                                   None       None    None   \n\n                     4                       5        21       21       21  \\\n0                  None                    None     None     None     None   \n1                  None                    None     None     None     None   \n2                  None                    None    Rates    Rates    Rates   \n3                  None  Names appear on tables  Persons  Persons  Persons   \n4               Borough                   Ward     18-24    18-24    18-24   \n5    Barking & Dagenham                   Abbey  24.7604  23.0375       20   \n6    Barking & Dagenham                  Alibon  23.5935  17.6991  11.0544   \n7    Barking & Dagenham               Becontree  24.0864   17.638  15.9884   \n8    Barking & Dagenham          Chadwell Heath  22.0729  16.5441  9.96377   \n9    Barking & Dagenham               Eastbrook  25.0358  18.9295  10.5198   \n10   Barking & Dagenham                Eastbury  25.2252  21.5517  13.2979   \n11   Barking & Dagenham               Gascoigne  23.0326  18.2815     12.5   \n12   Barking & Dagenham              Goresbrook  25.5941  21.7014   16.184   \n13   Barking & Dagenham                   Heath   26.087  20.0669  14.0264   \n14   Barking & Dagenham              Longbridge  13.9969  10.3245  8.49858   \n15   Barking & Dagenham              Mayesbrook  22.8571  16.2162  13.2979   \n16   Barking & Dagenham                Parsloes  19.6078  12.1495  9.94575   \n17   Barking & Dagenham                   River  21.0526   15.748  8.98204   \n18   Barking & Dagenham                  Thames  23.1911  15.2439  9.96016   \n19   Barking & Dagenham                 Valence  25.6148  14.1129  14.4509   \n20   Barking & Dagenham                 Village  25.8765  19.6399  13.0506   \n21   Barking & Dagenham               Whalebone  17.5277  11.4236  9.63222   \n22               Barnet          Brunswick Park  13.0368  7.60719  5.35475   \n23               Barnet               Burnt Oak  15.3374  12.3384  8.00915   \n24               Barnet             Childs Hill  9.34066  7.23026  6.22172   \n25               Barnet               Colindale  11.8734  8.27301   5.8296   \n26               Barnet                Coppetts  9.56633  8.78294  7.23684   \n27               Barnet             East Barnet  11.4449   10.218  6.08931   \n28               Barnet           East Finchley  9.52381  9.18079  5.97015   \n29               Barnet                 Edgware   11.471  5.89005  5.91327   \n..                  ...                     ...      ...      ...      ...   \n658               Outer                  Sutton  9.60939  7.26774  5.25707   \n659               Inner           Tower Hamlets    18.74   16.041  10.9196   \n660               Outer          Waltham Forest  19.7234  16.9703   12.265   \n661               Inner              Wandsworth  9.35954  7.43155  4.99936   \n662               Inner             Westminster  12.5492  8.25576  6.07462   \n663                None                    None     None     None     None   \n664                   0            Inner London  15.7734  12.4919   8.7826   \n665                   0            Outer London    13.34  10.6578  7.71791   \n666                   0                  London    14.34  11.4141  8.15765   \n667                   0                 England  13.8557  11.8935  8.68241   \n668                   0       England and Wales  13.9883  11.8358  8.68376   \n669                None                    None     None     None     None   \n670                None                    None     None     None     None   \n671                None                    None     None     None     None   \n672                   0         Barnet & Camden  11.3641  8.25176  5.88069   \n673                   0        Bexley & Bromley  10.5554  8.14621  5.78541   \n674                   0          Brent & Harrow  12.7124  10.3204  7.85296   \n675                   0      City & East London  19.5461  15.8552   10.982   \n676                   0        Croydon & Sutton  13.7673  11.0947   7.3368   \n677                   0     Ealing & Hillingdon   11.456  8.98081  7.03787   \n678                   0      Enfield & Haringey  19.7631  16.2673  11.5394   \n679                   0    Greenwich & Lewisham  17.8173  14.9981   10.144   \n680                   0  Havering and Redbridge  13.2781  10.4884  7.44468   \n681                   0     Lambeth & Southwark  15.6634  12.2722  9.03064   \n682                   0     Merton & Wandsworth  10.0492  7.87467  5.63063   \n683                   0              North East  17.9836    14.79  10.7226   \n684                   0              South West  9.03578  7.33453  5.54897   \n685                   0            West Central  11.7525  8.23148  6.03939   \n686                None                    None     None     None     None   \n687                None                    None     None     None     None   \n\n          21       21  \n0       None     None  \n1       None     None  \n2      Rates    Rates  \n3    Persons  Persons  \n4      18-24    18-24  \n5    12.3457  7.35294  \n6    5.62701   3.5461  \n7    8.63214  3.41997  \n8    6.86106  2.59067  \n9    6.53207  6.30517  \n10   8.16993   3.3557  \n11   7.34095  3.68324  \n12    8.6478  8.29876  \n13   6.30915  4.92611  \n14    5.9761  4.84653  \n15       7.5   2.7027  \n16   6.86106   2.6455  \n17   6.15595  4.90196  \n18   6.17284  5.14801  \n19   6.23886   4.3554  \n20   9.23077  3.82848  \n21   4.99168  1.92308  \n22   3.07503  2.20264  \n23   5.30223  2.68817  \n24   3.71156   2.1097  \n25   4.85437  3.84287  \n26   4.36409  1.85874  \n27   3.20924  1.39276  \n28   3.53607  3.08166  \n29   1.87032  1.95059  \n..       ...      ...  \n658  3.39284  2.27609  \n659  7.27536  3.19014  \n660  7.95737   3.4522  \n661  3.09284   2.5992  \n662  3.42037  3.45691  \n663     None     None  \n664  5.70256  4.05915  \n665  4.91203  3.22718  \n666  5.24108  3.57434  \n667  5.07879  3.07478  \n668  5.15024  3.15472  \n669     None     None  \n670     None     None  \n671     None     None  \n672  4.04567  2.61381  \n673  3.63104  2.69427  \n674  5.36568   2.8251  \n675  7.09493  3.82517  \n676  4.66428  3.93066  \n677  4.22954  2.70457  \n678  7.20987  4.35619  \n679  6.83318  5.66451  \n680  4.49624  3.65716  \n681  5.66399  4.38018  \n682  3.65585   3.0386  \n683   6.9407  4.24203  \n684  3.79098  2.50381  \n685  3.72325  2.93921  \n686     None     None  \n687     None     None  \n\n[688 rows x 11 columns]"
          },
          "metadata": {}
        }
      ]
    },
    {
      "metadata": {
        "trusted": true
      },
      "cell_type": "code",
      "source": "df.columns = ['Number', 'ID', 'Code', 'WardCode', 'Region', 'Area', '2011', '2012', '2013', '2014', '2015']",
      "execution_count": 22,
      "outputs": []
    },
    {
      "metadata": {
        "trusted": true
      },
      "cell_type": "code",
      "source": "df = df.iloc[630:667:, 2:] #only using the borough data",
      "execution_count": 24,
      "outputs": []
    },
    {
      "metadata": {
        "trusted": true
      },
      "cell_type": "code",
      "source": "df.drop('WardCode', axis=1, inplace=True)\ndf.drop('Region', axis=1, inplace=True)",
      "execution_count": 26,
      "outputs": []
    },
    {
      "metadata": {
        "trusted": true
      },
      "cell_type": "code",
      "source": "df.reset_index(inplace=True)\ndf.drop('index', axis=1, inplace=True)",
      "execution_count": 31,
      "outputs": []
    },
    {
      "metadata": {
        "trusted": true
      },
      "cell_type": "code",
      "source": "df",
      "execution_count": 34,
      "outputs": [
        {
          "output_type": "execute_result",
          "execution_count": 34,
          "data": {
            "text/html": "<div>\n<style scoped>\n    .dataframe tbody tr th:only-of-type {\n        vertical-align: middle;\n    }\n\n    .dataframe tbody tr th {\n        vertical-align: top;\n    }\n\n    .dataframe thead th {\n        text-align: right;\n    }\n</style>\n<table border=\"1\" class=\"dataframe\">\n  <thead>\n    <tr style=\"text-align: right;\">\n      <th></th>\n      <th>Code</th>\n      <th>Area</th>\n      <th>2011</th>\n      <th>2012</th>\n      <th>2013</th>\n      <th>2014</th>\n      <th>2015</th>\n    </tr>\n  </thead>\n  <tbody>\n    <tr>\n      <th>0</th>\n      <td>E09000001</td>\n      <td>City of London</td>\n      <td>6.17284</td>\n      <td>3.57995</td>\n      <td>1.21359</td>\n      <td>1.1655</td>\n      <td>1.63399</td>\n    </tr>\n    <tr>\n      <th>1</th>\n      <td>E09000002</td>\n      <td>Barking and Dagenham</td>\n      <td>22.7344</td>\n      <td>17.1595</td>\n      <td>12.4134</td>\n      <td>7.25157</td>\n      <td>4.49666</td>\n    </tr>\n    <tr>\n      <th>2</th>\n      <td>E09000003</td>\n      <td>Barnet</td>\n      <td>9.94442</td>\n      <td>7.3473</td>\n      <td>5.37837</td>\n      <td>3.47466</td>\n      <td>1.93749</td>\n    </tr>\n    <tr>\n      <th>3</th>\n      <td>E09000004</td>\n      <td>Bexley</td>\n      <td>10.8704</td>\n      <td>8.29157</td>\n      <td>5.66122</td>\n      <td>3.78099</td>\n      <td>2.85371</td>\n    </tr>\n    <tr>\n      <th>4</th>\n      <td>E09000005</td>\n      <td>Brent</td>\n      <td>14.6817</td>\n      <td>12.4387</td>\n      <td>9.53251</td>\n      <td>6.09714</td>\n      <td>3.07824</td>\n    </tr>\n    <tr>\n      <th>5</th>\n      <td>E09000006</td>\n      <td>Bromley</td>\n      <td>10.2698</td>\n      <td>8.0161</td>\n      <td>5.89725</td>\n      <td>3.49627</td>\n      <td>2.53807</td>\n    </tr>\n    <tr>\n      <th>6</th>\n      <td>E09000007</td>\n      <td>Camden</td>\n      <td>13.8659</td>\n      <td>9.81257</td>\n      <td>6.77492</td>\n      <td>5.02917</td>\n      <td>3.63115</td>\n    </tr>\n    <tr>\n      <th>7</th>\n      <td>E09000008</td>\n      <td>Croydon</td>\n      <td>16.0166</td>\n      <td>13.1901</td>\n      <td>8.44699</td>\n      <td>5.31858</td>\n      <td>4.80365</td>\n    </tr>\n    <tr>\n      <th>8</th>\n      <td>E09000009</td>\n      <td>Ealing</td>\n      <td>12.9866</td>\n      <td>10.5954</td>\n      <td>8.35616</td>\n      <td>5.20564</td>\n      <td>2.95563</td>\n    </tr>\n    <tr>\n      <th>9</th>\n      <td>E09000010</td>\n      <td>Enfield</td>\n      <td>19.4962</td>\n      <td>16.173</td>\n      <td>11.6915</td>\n      <td>7.32176</td>\n      <td>3.34031</td>\n    </tr>\n    <tr>\n      <th>10</th>\n      <td>E09000011</td>\n      <td>Greenwich</td>\n      <td>17.0295</td>\n      <td>14.0556</td>\n      <td>9.46092</td>\n      <td>6.16399</td>\n      <td>5.35714</td>\n    </tr>\n    <tr>\n      <th>11</th>\n      <td>E09000012</td>\n      <td>Hackney</td>\n      <td>17.3813</td>\n      <td>13.9822</td>\n      <td>10.0238</td>\n      <td>6.28597</td>\n      <td>4.83073</td>\n    </tr>\n    <tr>\n      <th>12</th>\n      <td>E09000013</td>\n      <td>Hammersmith and Fulham</td>\n      <td>11.2417</td>\n      <td>7.96936</td>\n      <td>5.96401</td>\n      <td>3.60265</td>\n      <td>2.21902</td>\n    </tr>\n    <tr>\n      <th>13</th>\n      <td>E09000014</td>\n      <td>Haringey</td>\n      <td>20.1118</td>\n      <td>16.3884</td>\n      <td>11.3467</td>\n      <td>7.0726</td>\n      <td>5.64344</td>\n    </tr>\n    <tr>\n      <th>14</th>\n      <td>E09000015</td>\n      <td>Harrow</td>\n      <td>10.0078</td>\n      <td>7.45687</td>\n      <td>5.5229</td>\n      <td>4.32263</td>\n      <td>2.4339</td>\n    </tr>\n    <tr>\n      <th>15</th>\n      <td>E09000016</td>\n      <td>Havering</td>\n      <td>11.3887</td>\n      <td>9.6257</td>\n      <td>6.15097</td>\n      <td>3.754</td>\n      <td>3.26774</td>\n    </tr>\n    <tr>\n      <th>16</th>\n      <td>E09000017</td>\n      <td>Hillingdon</td>\n      <td>9.73127</td>\n      <td>7.30994</td>\n      <td>5.69333</td>\n      <td>3.23347</td>\n      <td>2.45692</td>\n    </tr>\n    <tr>\n      <th>17</th>\n      <td>E09000018</td>\n      <td>Hounslow</td>\n      <td>12.0639</td>\n      <td>9.48183</td>\n      <td>7.26904</td>\n      <td>4.94247</td>\n      <td>2.86871</td>\n    </tr>\n    <tr>\n      <th>18</th>\n      <td>E09000019</td>\n      <td>Islington</td>\n      <td>16.55</td>\n      <td>13.1257</td>\n      <td>9.70176</td>\n      <td>6.50319</td>\n      <td>4.46281</td>\n    </tr>\n    <tr>\n      <th>19</th>\n      <td>E09000020</td>\n      <td>Kensington and Chelsea</td>\n      <td>11.4662</td>\n      <td>8.66244</td>\n      <td>6.11451</td>\n      <td>4.46429</td>\n      <td>3.36434</td>\n    </tr>\n    <tr>\n      <th>20</th>\n      <td>E09000021</td>\n      <td>Kingston upon Thames</td>\n      <td>6.69915</td>\n      <td>6.00198</td>\n      <td>4.09315</td>\n      <td>2.77133</td>\n      <td>2.01534</td>\n    </tr>\n    <tr>\n      <th>21</th>\n      <td>E09000022</td>\n      <td>Lambeth</td>\n      <td>13.8881</td>\n      <td>11.1699</td>\n      <td>8.21863</td>\n      <td>5.21427</td>\n      <td>4.0736</td>\n    </tr>\n    <tr>\n      <th>22</th>\n      <td>E09000023</td>\n      <td>Lewisham</td>\n      <td>18.5666</td>\n      <td>15.9025</td>\n      <td>10.8054</td>\n      <td>7.49662</td>\n      <td>5.97092</td>\n    </tr>\n    <tr>\n      <th>23</th>\n      <td>E09000024</td>\n      <td>Merton</td>\n      <td>11.2181</td>\n      <td>8.64816</td>\n      <td>6.76761</td>\n      <td>4.70341</td>\n      <td>3.85604</td>\n    </tr>\n    <tr>\n      <th>24</th>\n      <td>E09000025</td>\n      <td>Newham</td>\n      <td>18.7638</td>\n      <td>15.1773</td>\n      <td>10.3864</td>\n      <td>6.96573</td>\n      <td>4.11648</td>\n    </tr>\n    <tr>\n      <th>25</th>\n      <td>E09000026</td>\n      <td>Redbridge</td>\n      <td>15.5201</td>\n      <td>11.5369</td>\n      <td>9.06054</td>\n      <td>5.40692</td>\n      <td>4.12868</td>\n    </tr>\n    <tr>\n      <th>26</th>\n      <td>E09000027</td>\n      <td>Richmond upon Thames</td>\n      <td>5.7398</td>\n      <td>4.79876</td>\n      <td>3.98189</td>\n      <td>2.86512</td>\n      <td>2.40944</td>\n    </tr>\n    <tr>\n      <th>27</th>\n      <td>E09000028</td>\n      <td>Southwark</td>\n      <td>17.9591</td>\n      <td>13.6235</td>\n      <td>10.002</td>\n      <td>6.18093</td>\n      <td>4.74197</td>\n    </tr>\n    <tr>\n      <th>28</th>\n      <td>E09000029</td>\n      <td>Sutton</td>\n      <td>9.60939</td>\n      <td>7.26774</td>\n      <td>5.25707</td>\n      <td>3.39284</td>\n      <td>2.27609</td>\n    </tr>\n    <tr>\n      <th>29</th>\n      <td>E09000030</td>\n      <td>Tower Hamlets</td>\n      <td>18.74</td>\n      <td>16.041</td>\n      <td>10.9196</td>\n      <td>7.27536</td>\n      <td>3.19014</td>\n    </tr>\n    <tr>\n      <th>30</th>\n      <td>E09000031</td>\n      <td>Waltham Forest</td>\n      <td>19.7234</td>\n      <td>16.9703</td>\n      <td>12.265</td>\n      <td>7.95737</td>\n      <td>3.4522</td>\n    </tr>\n    <tr>\n      <th>31</th>\n      <td>E09000032</td>\n      <td>Wandsworth</td>\n      <td>9.35954</td>\n      <td>7.43155</td>\n      <td>4.99936</td>\n      <td>3.09284</td>\n      <td>2.5992</td>\n    </tr>\n    <tr>\n      <th>32</th>\n      <td>E09000033</td>\n      <td>Westminster</td>\n      <td>12.5492</td>\n      <td>8.25576</td>\n      <td>6.07462</td>\n      <td>3.42037</td>\n      <td>3.45691</td>\n    </tr>\n    <tr>\n      <th>33</th>\n      <td>None</td>\n      <td>None</td>\n      <td>None</td>\n      <td>None</td>\n      <td>None</td>\n      <td>None</td>\n      <td>None</td>\n    </tr>\n    <tr>\n      <th>34</th>\n      <td>E13000001</td>\n      <td>Inner London</td>\n      <td>15.7734</td>\n      <td>12.4919</td>\n      <td>8.7826</td>\n      <td>5.70256</td>\n      <td>4.05915</td>\n    </tr>\n    <tr>\n      <th>35</th>\n      <td>E13000002</td>\n      <td>Outer London</td>\n      <td>13.34</td>\n      <td>10.6578</td>\n      <td>7.71791</td>\n      <td>4.91203</td>\n      <td>3.22718</td>\n    </tr>\n    <tr>\n      <th>36</th>\n      <td>E12000007</td>\n      <td>London</td>\n      <td>14.34</td>\n      <td>11.4141</td>\n      <td>8.15765</td>\n      <td>5.24108</td>\n      <td>3.57434</td>\n    </tr>\n  </tbody>\n</table>\n</div>",
            "text/plain": "         Code                    Area     2011     2012     2013     2014  \\\n0   E09000001          City of London  6.17284  3.57995  1.21359   1.1655   \n1   E09000002    Barking and Dagenham  22.7344  17.1595  12.4134  7.25157   \n2   E09000003                  Barnet  9.94442   7.3473  5.37837  3.47466   \n3   E09000004                  Bexley  10.8704  8.29157  5.66122  3.78099   \n4   E09000005                   Brent  14.6817  12.4387  9.53251  6.09714   \n5   E09000006                 Bromley  10.2698   8.0161  5.89725  3.49627   \n6   E09000007                  Camden  13.8659  9.81257  6.77492  5.02917   \n7   E09000008                 Croydon  16.0166  13.1901  8.44699  5.31858   \n8   E09000009                  Ealing  12.9866  10.5954  8.35616  5.20564   \n9   E09000010                 Enfield  19.4962   16.173  11.6915  7.32176   \n10  E09000011               Greenwich  17.0295  14.0556  9.46092  6.16399   \n11  E09000012                 Hackney  17.3813  13.9822  10.0238  6.28597   \n12  E09000013  Hammersmith and Fulham  11.2417  7.96936  5.96401  3.60265   \n13  E09000014                Haringey  20.1118  16.3884  11.3467   7.0726   \n14  E09000015                  Harrow  10.0078  7.45687   5.5229  4.32263   \n15  E09000016                Havering  11.3887   9.6257  6.15097    3.754   \n16  E09000017              Hillingdon  9.73127  7.30994  5.69333  3.23347   \n17  E09000018                Hounslow  12.0639  9.48183  7.26904  4.94247   \n18  E09000019               Islington    16.55  13.1257  9.70176  6.50319   \n19  E09000020  Kensington and Chelsea  11.4662  8.66244  6.11451  4.46429   \n20  E09000021    Kingston upon Thames  6.69915  6.00198  4.09315  2.77133   \n21  E09000022                 Lambeth  13.8881  11.1699  8.21863  5.21427   \n22  E09000023                Lewisham  18.5666  15.9025  10.8054  7.49662   \n23  E09000024                  Merton  11.2181  8.64816  6.76761  4.70341   \n24  E09000025                  Newham  18.7638  15.1773  10.3864  6.96573   \n25  E09000026               Redbridge  15.5201  11.5369  9.06054  5.40692   \n26  E09000027    Richmond upon Thames   5.7398  4.79876  3.98189  2.86512   \n27  E09000028               Southwark  17.9591  13.6235   10.002  6.18093   \n28  E09000029                  Sutton  9.60939  7.26774  5.25707  3.39284   \n29  E09000030           Tower Hamlets    18.74   16.041  10.9196  7.27536   \n30  E09000031          Waltham Forest  19.7234  16.9703   12.265  7.95737   \n31  E09000032              Wandsworth  9.35954  7.43155  4.99936  3.09284   \n32  E09000033             Westminster  12.5492  8.25576  6.07462  3.42037   \n33       None                    None     None     None     None     None   \n34  E13000001            Inner London  15.7734  12.4919   8.7826  5.70256   \n35  E13000002            Outer London    13.34  10.6578  7.71791  4.91203   \n36  E12000007                  London    14.34  11.4141  8.15765  5.24108   \n\n       2015  \n0   1.63399  \n1   4.49666  \n2   1.93749  \n3   2.85371  \n4   3.07824  \n5   2.53807  \n6   3.63115  \n7   4.80365  \n8   2.95563  \n9   3.34031  \n10  5.35714  \n11  4.83073  \n12  2.21902  \n13  5.64344  \n14   2.4339  \n15  3.26774  \n16  2.45692  \n17  2.86871  \n18  4.46281  \n19  3.36434  \n20  2.01534  \n21   4.0736  \n22  5.97092  \n23  3.85604  \n24  4.11648  \n25  4.12868  \n26  2.40944  \n27  4.74197  \n28  2.27609  \n29  3.19014  \n30   3.4522  \n31   2.5992  \n32  3.45691  \n33     None  \n34  4.05915  \n35  3.22718  \n36  3.57434  "
          },
          "metadata": {}
        }
      ]
    },
    {
      "metadata": {
        "trusted": true
      },
      "cell_type": "code",
      "source": "PROC_DATA_PATH = '~/library/data/processed/'\ndf.to_csv(PROC_DATA_PATH + 'youth-claimants-rate.csv') ",
      "execution_count": 35,
      "outputs": []
    },
    {
      "metadata": {},
      "cell_type": "markdown",
      "source": "### Extracting Absolute number of Economically Active 18-24 yrs old "
    },
    {
      "metadata": {
        "trusted": true
      },
      "cell_type": "code",
      "source": "wb = load_workbook('./data/Claimant Count Model 2015.xlsx', data_only=True)\nws = wb[\"2015 Base\"] \ndf = pd.DataFrame(ws.values)\nr15 = df[6] #column 6 contains the absulute number of 18-24 year old economically active residents",
      "execution_count": 3,
      "outputs": []
    },
    {
      "metadata": {
        "trusted": true
      },
      "cell_type": "code",
      "source": "wb = load_workbook('./data/Claimant Count Model 2014.xlsx', data_only=True)\nws = wb[\"2014 Base\"]\ndf = pd.DataFrame(ws.values)\nr14 = df[6]",
      "execution_count": 4,
      "outputs": []
    },
    {
      "metadata": {
        "trusted": true
      },
      "cell_type": "code",
      "source": "wb = load_workbook('./data/Claimant Count Model 2013.xlsx', data_only=True)\nws = wb[\"2013 Base\"]\ndf = pd.DataFrame(ws.values)\nr13 = df[6]",
      "execution_count": 5,
      "outputs": []
    },
    {
      "metadata": {
        "trusted": true
      },
      "cell_type": "code",
      "source": "wb = load_workbook('./data/Claimant Count Model 2012.xlsx', data_only=True)\nws = wb[\"2012 Base\"]\ndf = pd.DataFrame(ws.values)\nr12 = df[6]",
      "execution_count": 6,
      "outputs": []
    },
    {
      "metadata": {
        "trusted": true
      },
      "cell_type": "code",
      "source": "wb = load_workbook('./data/Claimant Count Model 2011.xlsx', data_only=True)\nws = wb[\"2011 Base\"]\ndf = pd.DataFrame(ws.values)\nr11 = df[6]",
      "execution_count": 23,
      "outputs": []
    },
    {
      "metadata": {
        "trusted": true
      },
      "cell_type": "code",
      "source": "bulk = df.iloc[::, 2:]",
      "execution_count": 24,
      "outputs": []
    },
    {
      "metadata": {
        "trusted": true
      },
      "cell_type": "code",
      "source": "df.drop(bulk, axis=1, inplace=True) #only leaving the area key",
      "execution_count": 25,
      "outputs": []
    },
    {
      "metadata": {
        "trusted": true
      },
      "cell_type": "code",
      "source": "df = pd.concat([df, r11], axis=1)\ndf = pd.concat([df, r12], axis=1)\ndf = pd.concat([df, r13], axis=1)\ndf = pd.concat([df, r14], axis=1)\ndf = pd.concat([df, r15], axis=1)",
      "execution_count": 26,
      "outputs": []
    },
    {
      "metadata": {
        "trusted": true
      },
      "cell_type": "code",
      "source": "df.columns = ['Code', 'Area', '2011', '2012', '2013', '2014', '2015']",
      "execution_count": 27,
      "outputs": []
    },
    {
      "metadata": {
        "trusted": true
      },
      "cell_type": "code",
      "source": "df = df.iloc[630:662:, :] #only using the borough data",
      "execution_count": 28,
      "outputs": []
    },
    {
      "metadata": {
        "trusted": true
      },
      "cell_type": "code",
      "source": "#df.drop('WardCode', axis=1, inplace=True)\n#df.drop('Region', axis=1, inplace=True)",
      "execution_count": 26,
      "outputs": []
    },
    {
      "metadata": {
        "trusted": true
      },
      "cell_type": "code",
      "source": "df.reset_index(inplace=True)\ndf.drop('index', axis=1, inplace=True)",
      "execution_count": 29,
      "outputs": []
    },
    {
      "metadata": {
        "trusted": true
      },
      "cell_type": "code",
      "source": "df",
      "execution_count": 30,
      "outputs": [
        {
          "output_type": "execute_result",
          "execution_count": 30,
          "data": {
            "text/html": "<div>\n<style scoped>\n    .dataframe tbody tr th:only-of-type {\n        vertical-align: middle;\n    }\n\n    .dataframe tbody tr th {\n        vertical-align: top;\n    }\n\n    .dataframe thead th {\n        text-align: right;\n    }\n</style>\n<table border=\"1\" class=\"dataframe\">\n  <thead>\n    <tr style=\"text-align: right;\">\n      <th></th>\n      <th>Code</th>\n      <th>Area</th>\n      <th>2011</th>\n      <th>2012</th>\n      <th>2013</th>\n      <th>2014</th>\n      <th>2015</th>\n    </tr>\n  </thead>\n  <tbody>\n    <tr>\n      <th>0</th>\n      <td>E09000001</td>\n      <td>City of London</td>\n      <td>324</td>\n      <td>419</td>\n      <td>412</td>\n      <td>429</td>\n      <td>306</td>\n    </tr>\n    <tr>\n      <th>1</th>\n      <td>E09000002</td>\n      <td>Barking and Dagenham</td>\n      <td>9611</td>\n      <td>10111</td>\n      <td>10392</td>\n      <td>11170</td>\n      <td>10341</td>\n    </tr>\n    <tr>\n      <th>2</th>\n      <td>E09000003</td>\n      <td>Barnet</td>\n      <td>14933</td>\n      <td>15652</td>\n      <td>15897</td>\n      <td>17124</td>\n      <td>15742</td>\n    </tr>\n    <tr>\n      <th>3</th>\n      <td>E09000004</td>\n      <td>Bexley</td>\n      <td>13247</td>\n      <td>13568</td>\n      <td>13513</td>\n      <td>13753</td>\n      <td>13316</td>\n    </tr>\n    <tr>\n      <th>4</th>\n      <td>E09000005</td>\n      <td>Brent</td>\n      <td>13997</td>\n      <td>13868</td>\n      <td>13690</td>\n      <td>14515</td>\n      <td>13969</td>\n    </tr>\n    <tr>\n      <th>5</th>\n      <td>E09000006</td>\n      <td>Bromley</td>\n      <td>14606</td>\n      <td>15157</td>\n      <td>15007</td>\n      <td>15302</td>\n      <td>13593</td>\n    </tr>\n    <tr>\n      <th>6</th>\n      <td>E09000007</td>\n      <td>Camden</td>\n      <td>8474</td>\n      <td>9070</td>\n      <td>8930</td>\n      <td>9942</td>\n      <td>10465</td>\n    </tr>\n    <tr>\n      <th>7</th>\n      <td>E09000008</td>\n      <td>Croydon</td>\n      <td>17794</td>\n      <td>17968</td>\n      <td>17817</td>\n      <td>18614</td>\n      <td>16654</td>\n    </tr>\n    <tr>\n      <th>8</th>\n      <td>E09000009</td>\n      <td>Ealing</td>\n      <td>15054</td>\n      <td>14865</td>\n      <td>14600</td>\n      <td>15464</td>\n      <td>15056</td>\n    </tr>\n    <tr>\n      <th>9</th>\n      <td>E09000010</td>\n      <td>Enfield</td>\n      <td>14490</td>\n      <td>14685</td>\n      <td>14455</td>\n      <td>15092</td>\n      <td>14819</td>\n    </tr>\n    <tr>\n      <th>10</th>\n      <td>E09000011</td>\n      <td>Greenwich</td>\n      <td>12449</td>\n      <td>12913</td>\n      <td>12948</td>\n      <td>13952</td>\n      <td>13440</td>\n    </tr>\n    <tr>\n      <th>11</th>\n      <td>E09000012</td>\n      <td>Hackney</td>\n      <td>13060</td>\n      <td>12945</td>\n      <td>12620</td>\n      <td>13204</td>\n      <td>13145</td>\n    </tr>\n    <tr>\n      <th>12</th>\n      <td>E09000013</td>\n      <td>Hammersmith and Fulham</td>\n      <td>9696</td>\n      <td>9662</td>\n      <td>9725</td>\n      <td>10409</td>\n      <td>9013</td>\n    </tr>\n    <tr>\n      <th>13</th>\n      <td>E09000014</td>\n      <td>Haringey</td>\n      <td>11088</td>\n      <td>11441</td>\n      <td>11413</td>\n      <td>12301</td>\n      <td>11695</td>\n    </tr>\n    <tr>\n      <th>14</th>\n      <td>E09000015</td>\n      <td>Harrow</td>\n      <td>10192</td>\n      <td>10259</td>\n      <td>9868</td>\n      <td>10179</td>\n      <td>9039</td>\n    </tr>\n    <tr>\n      <th>15</th>\n      <td>E09000016</td>\n      <td>Havering</td>\n      <td>14488</td>\n      <td>14908</td>\n      <td>14957</td>\n      <td>15317</td>\n      <td>14077</td>\n    </tr>\n    <tr>\n      <th>16</th>\n      <td>E09000017</td>\n      <td>Hillingdon</td>\n      <td>13359</td>\n      <td>14364</td>\n      <td>14315</td>\n      <td>15154</td>\n      <td>15263</td>\n    </tr>\n    <tr>\n      <th>17</th>\n      <td>E09000018</td>\n      <td>Hounslow</td>\n      <td>11895</td>\n      <td>12023</td>\n      <td>11831</td>\n      <td>12342</td>\n      <td>11852</td>\n    </tr>\n    <tr>\n      <th>18</th>\n      <td>E09000019</td>\n      <td>Islington</td>\n      <td>10574</td>\n      <td>11047</td>\n      <td>11132</td>\n      <td>12071</td>\n      <td>12100</td>\n    </tr>\n    <tr>\n      <th>19</th>\n      <td>E09000020</td>\n      <td>Kensington and Chelsea</td>\n      <td>5320</td>\n      <td>5368</td>\n      <td>5397</td>\n      <td>5936</td>\n      <td>5053</td>\n    </tr>\n    <tr>\n      <th>20</th>\n      <td>E09000021</td>\n      <td>Kingston upon Thames</td>\n      <td>6568</td>\n      <td>7081</td>\n      <td>7085</td>\n      <td>7758</td>\n      <td>7691</td>\n    </tr>\n    <tr>\n      <th>21</th>\n      <td>E09000022</td>\n      <td>Lambeth</td>\n      <td>17893</td>\n      <td>17771</td>\n      <td>17582</td>\n      <td>18411</td>\n      <td>18043</td>\n    </tr>\n    <tr>\n      <th>22</th>\n      <td>E09000023</td>\n      <td>Lewisham</td>\n      <td>13088</td>\n      <td>13457</td>\n      <td>13373</td>\n      <td>14073</td>\n      <td>13482</td>\n    </tr>\n    <tr>\n      <th>23</th>\n      <td>E09000024</td>\n      <td>Merton</td>\n      <td>8825</td>\n      <td>8788</td>\n      <td>8718</td>\n      <td>9036</td>\n      <td>8169</td>\n    </tr>\n    <tr>\n      <th>24</th>\n      <td>E09000025</td>\n      <td>Newham</td>\n      <td>16308</td>\n      <td>16439</td>\n      <td>16512</td>\n      <td>17945</td>\n      <td>18098</td>\n    </tr>\n    <tr>\n      <th>25</th>\n      <td>E09000026</td>\n      <td>Redbridge</td>\n      <td>12210</td>\n      <td>12265</td>\n      <td>11975</td>\n      <td>12484</td>\n      <td>11626</td>\n    </tr>\n    <tr>\n      <th>26</th>\n      <td>E09000027</td>\n      <td>Richmond upon Thames</td>\n      <td>6272</td>\n      <td>6460</td>\n      <td>6404</td>\n      <td>6806</td>\n      <td>6018</td>\n    </tr>\n    <tr>\n      <th>27</th>\n      <td>E09000028</td>\n      <td>Southwark</td>\n      <td>13837</td>\n      <td>14497</td>\n      <td>14697</td>\n      <td>16017</td>\n      <td>15289</td>\n    </tr>\n    <tr>\n      <th>28</th>\n      <td>E09000029</td>\n      <td>Sutton</td>\n      <td>9626</td>\n      <td>9838</td>\n      <td>9511</td>\n      <td>9579</td>\n      <td>8787</td>\n    </tr>\n    <tr>\n      <th>29</th>\n      <td>E09000030</td>\n      <td>Tower Hamlets</td>\n      <td>16809</td>\n      <td>16676</td>\n      <td>16301</td>\n      <td>17250</td>\n      <td>18181</td>\n    </tr>\n    <tr>\n      <th>30</th>\n      <td>E09000031</td>\n      <td>Waltham Forest</td>\n      <td>13233</td>\n      <td>13229</td>\n      <td>13086</td>\n      <td>13698</td>\n      <td>13180</td>\n    </tr>\n    <tr>\n      <th>31</th>\n      <td>E09000032</td>\n      <td>Wandsworth</td>\n      <td>14958</td>\n      <td>15340</td>\n      <td>15702</td>\n      <td>16813</td>\n      <td>15197</td>\n    </tr>\n  </tbody>\n</table>\n</div>",
            "text/plain": "         Code                    Area   2011   2012   2013   2014   2015\n0   E09000001          City of London    324    419    412    429    306\n1   E09000002    Barking and Dagenham   9611  10111  10392  11170  10341\n2   E09000003                  Barnet  14933  15652  15897  17124  15742\n3   E09000004                  Bexley  13247  13568  13513  13753  13316\n4   E09000005                   Brent  13997  13868  13690  14515  13969\n5   E09000006                 Bromley  14606  15157  15007  15302  13593\n6   E09000007                  Camden   8474   9070   8930   9942  10465\n7   E09000008                 Croydon  17794  17968  17817  18614  16654\n8   E09000009                  Ealing  15054  14865  14600  15464  15056\n9   E09000010                 Enfield  14490  14685  14455  15092  14819\n10  E09000011               Greenwich  12449  12913  12948  13952  13440\n11  E09000012                 Hackney  13060  12945  12620  13204  13145\n12  E09000013  Hammersmith and Fulham   9696   9662   9725  10409   9013\n13  E09000014                Haringey  11088  11441  11413  12301  11695\n14  E09000015                  Harrow  10192  10259   9868  10179   9039\n15  E09000016                Havering  14488  14908  14957  15317  14077\n16  E09000017              Hillingdon  13359  14364  14315  15154  15263\n17  E09000018                Hounslow  11895  12023  11831  12342  11852\n18  E09000019               Islington  10574  11047  11132  12071  12100\n19  E09000020  Kensington and Chelsea   5320   5368   5397   5936   5053\n20  E09000021    Kingston upon Thames   6568   7081   7085   7758   7691\n21  E09000022                 Lambeth  17893  17771  17582  18411  18043\n22  E09000023                Lewisham  13088  13457  13373  14073  13482\n23  E09000024                  Merton   8825   8788   8718   9036   8169\n24  E09000025                  Newham  16308  16439  16512  17945  18098\n25  E09000026               Redbridge  12210  12265  11975  12484  11626\n26  E09000027    Richmond upon Thames   6272   6460   6404   6806   6018\n27  E09000028               Southwark  13837  14497  14697  16017  15289\n28  E09000029                  Sutton   9626   9838   9511   9579   8787\n29  E09000030           Tower Hamlets  16809  16676  16301  17250  18181\n30  E09000031          Waltham Forest  13233  13229  13086  13698  13180\n31  E09000032              Wandsworth  14958  15340  15702  16813  15197"
          },
          "metadata": {}
        }
      ]
    },
    {
      "metadata": {
        "trusted": true
      },
      "cell_type": "code",
      "source": "PROC_DATA_PATH = '~/library/data/processed/'\ndf.to_csv(PROC_DATA_PATH + 'active-youth.csv') ",
      "execution_count": 31,
      "outputs": []
    },
    {
      "metadata": {
        "trusted": true
      },
      "cell_type": "markdown",
      "source": "### Extracting GLA claimant count rates for economically active residents (working age)"
    },
    {
      "metadata": {
        "trusted": true
      },
      "cell_type": "code",
      "source": "wb = load_workbook('./data/Claimant Count Model 2015.xlsx', data_only=True)\nws = wb[\"December - Rates\"] #december was chosen randomly\ndf = pd.DataFrame(ws.values)\nr15 = df[20] #column 20 contains the claimant rates of economically active working age residents",
      "execution_count": 5,
      "outputs": []
    },
    {
      "metadata": {
        "trusted": true
      },
      "cell_type": "code",
      "source": "wb = load_workbook('./data/Claimant Count Model 2014.xlsx', data_only=True)\nws = wb[\"December - Rates\"]\ndf = pd.DataFrame(ws.values)\nr14 = df[20]",
      "execution_count": 6,
      "outputs": []
    },
    {
      "metadata": {
        "trusted": true
      },
      "cell_type": "code",
      "source": "wb = load_workbook('./data/Claimant Count Model 2013.xlsx', data_only=True)\nws = wb[\"December - Rates\"]\ndf = pd.DataFrame(ws.values)\nr13 = df[20]",
      "execution_count": 7,
      "outputs": []
    },
    {
      "metadata": {
        "trusted": true
      },
      "cell_type": "code",
      "source": "wb = load_workbook('./data/Claimant Count Model 2012.xlsx', data_only=True)\nws = wb[\"December - Rates\"]\ndf = pd.DataFrame(ws.values)\nr12 = df[20]",
      "execution_count": 8,
      "outputs": []
    },
    {
      "metadata": {
        "trusted": true
      },
      "cell_type": "code",
      "source": "wb = load_workbook('./data/Claimant Count Model 2011.xlsx', data_only=True)\nws = wb[\"December - Rates\"]\ndf = pd.DataFrame(ws.values)\nr11 = df[20]",
      "execution_count": 9,
      "outputs": []
    },
    {
      "metadata": {
        "trusted": true
      },
      "cell_type": "code",
      "source": "bulk = df.iloc[::, 6:]",
      "execution_count": 10,
      "outputs": []
    },
    {
      "metadata": {
        "trusted": true
      },
      "cell_type": "code",
      "source": "df.drop(bulk, axis=1, inplace=True) #only leaving the area key",
      "execution_count": 11,
      "outputs": []
    },
    {
      "metadata": {
        "trusted": true
      },
      "cell_type": "code",
      "source": "df = pd.concat([df, r11], axis=1)\ndf = pd.concat([df, r12], axis=1)\ndf = pd.concat([df, r13], axis=1)\ndf = pd.concat([df, r14], axis=1)\ndf = pd.concat([df, r15], axis=1)",
      "execution_count": 12,
      "outputs": []
    },
    {
      "metadata": {
        "trusted": true
      },
      "cell_type": "code",
      "source": "df.columns = ['Number', 'ID', 'Code', 'WardCode', 'Region', 'Area', '2011', '2012', '2013', '2014', '2015']",
      "execution_count": 13,
      "outputs": []
    },
    {
      "metadata": {
        "trusted": true
      },
      "cell_type": "code",
      "source": "df = df.iloc[630:667:, 2:] #only using the borough data",
      "execution_count": 14,
      "outputs": []
    },
    {
      "metadata": {
        "trusted": true
      },
      "cell_type": "code",
      "source": "df.drop('WardCode', axis=1, inplace=True)\ndf.drop('Region', axis=1, inplace=True)",
      "execution_count": 15,
      "outputs": []
    },
    {
      "metadata": {
        "trusted": true
      },
      "cell_type": "code",
      "source": "df.reset_index(inplace=True)\ndf.drop('index', axis=1, inplace=True)",
      "execution_count": 16,
      "outputs": []
    },
    {
      "metadata": {
        "trusted": true
      },
      "cell_type": "code",
      "source": "df",
      "execution_count": 17,
      "outputs": [
        {
          "output_type": "execute_result",
          "execution_count": 17,
          "data": {
            "text/html": "<div>\n<style scoped>\n    .dataframe tbody tr th:only-of-type {\n        vertical-align: middle;\n    }\n\n    .dataframe tbody tr th {\n        vertical-align: top;\n    }\n\n    .dataframe thead th {\n        text-align: right;\n    }\n</style>\n<table border=\"1\" class=\"dataframe\">\n  <thead>\n    <tr style=\"text-align: right;\">\n      <th></th>\n      <th>Code</th>\n      <th>Area</th>\n      <th>2011</th>\n      <th>2012</th>\n      <th>2013</th>\n      <th>2014</th>\n      <th>2015</th>\n    </tr>\n  </thead>\n  <tbody>\n    <tr>\n      <th>0</th>\n      <td>E09000001</td>\n      <td>City of London</td>\n      <td>2.3595</td>\n      <td>2.20441</td>\n      <td>1.79497</td>\n      <td>1.37525</td>\n      <td>0.811853</td>\n    </tr>\n    <tr>\n      <th>1</th>\n      <td>E09000002</td>\n      <td>Barking and Dagenham</td>\n      <td>9.41104</td>\n      <td>8.61579</td>\n      <td>5.99283</td>\n      <td>3.97761</td>\n      <td>2.98715</td>\n    </tr>\n    <tr>\n      <th>2</th>\n      <td>E09000003</td>\n      <td>Barnet</td>\n      <td>4.09589</td>\n      <td>3.76348</td>\n      <td>2.8849</td>\n      <td>2.04451</td>\n      <td>1.56846</td>\n    </tr>\n    <tr>\n      <th>3</th>\n      <td>E09000004</td>\n      <td>Bexley</td>\n      <td>4.23341</td>\n      <td>3.93616</td>\n      <td>2.86576</td>\n      <td>1.92692</td>\n      <td>1.55895</td>\n    </tr>\n    <tr>\n      <th>4</th>\n      <td>E09000005</td>\n      <td>Brent</td>\n      <td>6.36318</td>\n      <td>6.36079</td>\n      <td>4.98582</td>\n      <td>3.66868</td>\n      <td>2.88539</td>\n    </tr>\n    <tr>\n      <th>5</th>\n      <td>E09000006</td>\n      <td>Bromley</td>\n      <td>4.00247</td>\n      <td>3.63291</td>\n      <td>2.62303</td>\n      <td>1.6659</td>\n      <td>1.31346</td>\n    </tr>\n    <tr>\n      <th>6</th>\n      <td>E09000007</td>\n      <td>Camden</td>\n      <td>5.18431</td>\n      <td>4.55908</td>\n      <td>3.39923</td>\n      <td>2.43201</td>\n      <td>2.149</td>\n    </tr>\n    <tr>\n      <th>7</th>\n      <td>E09000008</td>\n      <td>Croydon</td>\n      <td>6.13385</td>\n      <td>5.55851</td>\n      <td>3.9695</td>\n      <td>2.57548</td>\n      <td>2.37386</td>\n    </tr>\n    <tr>\n      <th>8</th>\n      <td>E09000009</td>\n      <td>Ealing</td>\n      <td>5.38509</td>\n      <td>5.05008</td>\n      <td>4.19378</td>\n      <td>2.94749</td>\n      <td>2.45994</td>\n    </tr>\n    <tr>\n      <th>9</th>\n      <td>E09000010</td>\n      <td>Enfield</td>\n      <td>7.57731</td>\n      <td>7.0498</td>\n      <td>5.2686</td>\n      <td>3.55056</td>\n      <td>2.42821</td>\n    </tr>\n    <tr>\n      <th>10</th>\n      <td>E09000011</td>\n      <td>Greenwich</td>\n      <td>6.67981</td>\n      <td>6.34983</td>\n      <td>4.64137</td>\n      <td>3.17456</td>\n      <td>2.8415</td>\n    </tr>\n    <tr>\n      <th>11</th>\n      <td>E09000012</td>\n      <td>Hackney</td>\n      <td>8.75503</td>\n      <td>7.56758</td>\n      <td>5.83192</td>\n      <td>4.11854</td>\n      <td>3.21053</td>\n    </tr>\n    <tr>\n      <th>12</th>\n      <td>E09000013</td>\n      <td>Hammersmith and Fulham</td>\n      <td>5.06822</td>\n      <td>4.70636</td>\n      <td>3.89583</td>\n      <td>2.71991</td>\n      <td>2.1614</td>\n    </tr>\n    <tr>\n      <th>13</th>\n      <td>E09000014</td>\n      <td>Haringey</td>\n      <td>8.15922</td>\n      <td>7.31236</td>\n      <td>5.70296</td>\n      <td>4.01716</td>\n      <td>3.11799</td>\n    </tr>\n    <tr>\n      <th>14</th>\n      <td>E09000015</td>\n      <td>Harrow</td>\n      <td>3.66629</td>\n      <td>3.21135</td>\n      <td>2.49951</td>\n      <td>1.84888</td>\n      <td>1.3824</td>\n    </tr>\n    <tr>\n      <th>15</th>\n      <td>E09000016</td>\n      <td>Havering</td>\n      <td>4.77534</td>\n      <td>4.62608</td>\n      <td>3.17245</td>\n      <td>2.19091</td>\n      <td>1.92918</td>\n    </tr>\n    <tr>\n      <th>16</th>\n      <td>E09000017</td>\n      <td>Hillingdon</td>\n      <td>4.02197</td>\n      <td>3.61878</td>\n      <td>2.91286</td>\n      <td>1.9474</td>\n      <td>1.67627</td>\n    </tr>\n    <tr>\n      <th>17</th>\n      <td>E09000018</td>\n      <td>Hounslow</td>\n      <td>4.19867</td>\n      <td>3.79256</td>\n      <td>3.00111</td>\n      <td>2.33554</td>\n      <td>1.74597</td>\n    </tr>\n    <tr>\n      <th>18</th>\n      <td>E09000019</td>\n      <td>Islington</td>\n      <td>6.56434</td>\n      <td>5.96229</td>\n      <td>4.61597</td>\n      <td>3.28289</td>\n      <td>2.59151</td>\n    </tr>\n    <tr>\n      <th>19</th>\n      <td>E09000020</td>\n      <td>Kensington and Chelsea</td>\n      <td>4.10923</td>\n      <td>3.62693</td>\n      <td>2.86701</td>\n      <td>2.17533</td>\n      <td>1.89945</td>\n    </tr>\n    <tr>\n      <th>20</th>\n      <td>E09000021</td>\n      <td>Kingston upon Thames</td>\n      <td>2.57824</td>\n      <td>2.47269</td>\n      <td>1.90496</td>\n      <td>1.44604</td>\n      <td>1.1938</td>\n    </tr>\n    <tr>\n      <th>21</th>\n      <td>E09000022</td>\n      <td>Lambeth</td>\n      <td>7.00163</td>\n      <td>6.54485</td>\n      <td>5.15018</td>\n      <td>3.60865</td>\n      <td>3.02719</td>\n    </tr>\n    <tr>\n      <th>22</th>\n      <td>E09000023</td>\n      <td>Lewisham</td>\n      <td>7.54943</td>\n      <td>7.01387</td>\n      <td>5.23678</td>\n      <td>3.80012</td>\n      <td>3.18432</td>\n    </tr>\n    <tr>\n      <th>23</th>\n      <td>E09000024</td>\n      <td>Merton</td>\n      <td>3.80531</td>\n      <td>3.55039</td>\n      <td>2.81831</td>\n      <td>2.13087</td>\n      <td>1.76793</td>\n    </tr>\n    <tr>\n      <th>24</th>\n      <td>E09000025</td>\n      <td>Newham</td>\n      <td>8.54691</td>\n      <td>7.84005</td>\n      <td>5.63182</td>\n      <td>3.72542</td>\n      <td>2.73968</td>\n    </tr>\n    <tr>\n      <th>25</th>\n      <td>E09000026</td>\n      <td>Redbridge</td>\n      <td>5.63359</td>\n      <td>5.08205</td>\n      <td>3.58825</td>\n      <td>2.41574</td>\n      <td>1.89795</td>\n    </tr>\n    <tr>\n      <th>26</th>\n      <td>E09000027</td>\n      <td>Richmond upon Thames</td>\n      <td>2.06383</td>\n      <td>1.99812</td>\n      <td>1.71899</td>\n      <td>1.32824</td>\n      <td>1.12625</td>\n    </tr>\n    <tr>\n      <th>27</th>\n      <td>E09000028</td>\n      <td>Southwark</td>\n      <td>7.36436</td>\n      <td>6.75925</td>\n      <td>5.25092</td>\n      <td>3.72363</td>\n      <td>2.92803</td>\n    </tr>\n    <tr>\n      <th>28</th>\n      <td>E09000029</td>\n      <td>Sutton</td>\n      <td>3.64821</td>\n      <td>3.406</td>\n      <td>2.49205</td>\n      <td>1.68803</td>\n      <td>1.14348</td>\n    </tr>\n    <tr>\n      <th>29</th>\n      <td>E09000030</td>\n      <td>Tower Hamlets</td>\n      <td>8.77373</td>\n      <td>7.9785</td>\n      <td>5.62577</td>\n      <td>3.71285</td>\n      <td>2.66109</td>\n    </tr>\n    <tr>\n      <th>30</th>\n      <td>E09000031</td>\n      <td>Waltham Forest</td>\n      <td>7.96153</td>\n      <td>7.42323</td>\n      <td>5.61915</td>\n      <td>3.83356</td>\n      <td>2.45086</td>\n    </tr>\n    <tr>\n      <th>31</th>\n      <td>E09000032</td>\n      <td>Wandsworth</td>\n      <td>3.66193</td>\n      <td>3.4474</td>\n      <td>2.71478</td>\n      <td>1.91956</td>\n      <td>1.60155</td>\n    </tr>\n    <tr>\n      <th>32</th>\n      <td>E09000033</td>\n      <td>Westminster</td>\n      <td>4.77817</td>\n      <td>4.13393</td>\n      <td>3.14303</td>\n      <td>2.27523</td>\n      <td>1.95355</td>\n    </tr>\n    <tr>\n      <th>33</th>\n      <td>None</td>\n      <td>None</td>\n      <td>None</td>\n      <td>None</td>\n      <td>None</td>\n      <td>None</td>\n      <td>None</td>\n    </tr>\n    <tr>\n      <th>34</th>\n      <td>E13000001</td>\n      <td>Inner London</td>\n      <td>6.63817</td>\n      <td>6.0402</td>\n      <td>4.60978</td>\n      <td>3.23733</td>\n      <td>2.58945</td>\n    </tr>\n    <tr>\n      <th>35</th>\n      <td>E13000002</td>\n      <td>Outer London</td>\n      <td>5.1317</td>\n      <td>4.77707</td>\n      <td>3.60012</td>\n      <td>2.50245</td>\n      <td>1.97197</td>\n    </tr>\n    <tr>\n      <th>36</th>\n      <td>E12000007</td>\n      <td>London</td>\n      <td>5.7539</td>\n      <td>5.3016</td>\n      <td>4.02104</td>\n      <td>2.81012</td>\n      <td>2.22927</td>\n    </tr>\n  </tbody>\n</table>\n</div>",
            "text/plain": "         Code                    Area     2011     2012     2013     2014  \\\n0   E09000001          City of London   2.3595  2.20441  1.79497  1.37525   \n1   E09000002    Barking and Dagenham  9.41104  8.61579  5.99283  3.97761   \n2   E09000003                  Barnet  4.09589  3.76348   2.8849  2.04451   \n3   E09000004                  Bexley  4.23341  3.93616  2.86576  1.92692   \n4   E09000005                   Brent  6.36318  6.36079  4.98582  3.66868   \n5   E09000006                 Bromley  4.00247  3.63291  2.62303   1.6659   \n6   E09000007                  Camden  5.18431  4.55908  3.39923  2.43201   \n7   E09000008                 Croydon  6.13385  5.55851   3.9695  2.57548   \n8   E09000009                  Ealing  5.38509  5.05008  4.19378  2.94749   \n9   E09000010                 Enfield  7.57731   7.0498   5.2686  3.55056   \n10  E09000011               Greenwich  6.67981  6.34983  4.64137  3.17456   \n11  E09000012                 Hackney  8.75503  7.56758  5.83192  4.11854   \n12  E09000013  Hammersmith and Fulham  5.06822  4.70636  3.89583  2.71991   \n13  E09000014                Haringey  8.15922  7.31236  5.70296  4.01716   \n14  E09000015                  Harrow  3.66629  3.21135  2.49951  1.84888   \n15  E09000016                Havering  4.77534  4.62608  3.17245  2.19091   \n16  E09000017              Hillingdon  4.02197  3.61878  2.91286   1.9474   \n17  E09000018                Hounslow  4.19867  3.79256  3.00111  2.33554   \n18  E09000019               Islington  6.56434  5.96229  4.61597  3.28289   \n19  E09000020  Kensington and Chelsea  4.10923  3.62693  2.86701  2.17533   \n20  E09000021    Kingston upon Thames  2.57824  2.47269  1.90496  1.44604   \n21  E09000022                 Lambeth  7.00163  6.54485  5.15018  3.60865   \n22  E09000023                Lewisham  7.54943  7.01387  5.23678  3.80012   \n23  E09000024                  Merton  3.80531  3.55039  2.81831  2.13087   \n24  E09000025                  Newham  8.54691  7.84005  5.63182  3.72542   \n25  E09000026               Redbridge  5.63359  5.08205  3.58825  2.41574   \n26  E09000027    Richmond upon Thames  2.06383  1.99812  1.71899  1.32824   \n27  E09000028               Southwark  7.36436  6.75925  5.25092  3.72363   \n28  E09000029                  Sutton  3.64821    3.406  2.49205  1.68803   \n29  E09000030           Tower Hamlets  8.77373   7.9785  5.62577  3.71285   \n30  E09000031          Waltham Forest  7.96153  7.42323  5.61915  3.83356   \n31  E09000032              Wandsworth  3.66193   3.4474  2.71478  1.91956   \n32  E09000033             Westminster  4.77817  4.13393  3.14303  2.27523   \n33       None                    None     None     None     None     None   \n34  E13000001            Inner London  6.63817   6.0402  4.60978  3.23733   \n35  E13000002            Outer London   5.1317  4.77707  3.60012  2.50245   \n36  E12000007                  London   5.7539   5.3016  4.02104  2.81012   \n\n        2015  \n0   0.811853  \n1    2.98715  \n2    1.56846  \n3    1.55895  \n4    2.88539  \n5    1.31346  \n6      2.149  \n7    2.37386  \n8    2.45994  \n9    2.42821  \n10    2.8415  \n11   3.21053  \n12    2.1614  \n13   3.11799  \n14    1.3824  \n15   1.92918  \n16   1.67627  \n17   1.74597  \n18   2.59151  \n19   1.89945  \n20    1.1938  \n21   3.02719  \n22   3.18432  \n23   1.76793  \n24   2.73968  \n25   1.89795  \n26   1.12625  \n27   2.92803  \n28   1.14348  \n29   2.66109  \n30   2.45086  \n31   1.60155  \n32   1.95355  \n33      None  \n34   2.58945  \n35   1.97197  \n36   2.22927  "
          },
          "metadata": {}
        }
      ]
    },
    {
      "metadata": {
        "trusted": true
      },
      "cell_type": "code",
      "source": "PROC_DATA_PATH = '~/library/data/processed/'\ndf.to_csv(PROC_DATA_PATH + 'all-claimants-rate.csv') ",
      "execution_count": 18,
      "outputs": []
    }
  ],
  "metadata": {
    "kernelspec": {
      "name": "python36",
      "display_name": "Python 3.6",
      "language": "python"
    },
    "language_info": {
      "mimetype": "text/x-python",
      "nbconvert_exporter": "python",
      "name": "python",
      "pygments_lexer": "ipython3",
      "version": "3.6.6",
      "file_extension": ".py",
      "codemirror_mode": {
        "version": 3,
        "name": "ipython"
      }
    }
  },
  "nbformat": 4,
  "nbformat_minor": 2
}